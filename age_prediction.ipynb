{
 "cells": [
  {
   "cell_type": "code",
   "id": "initial_id",
   "metadata": {
    "collapsed": true,
    "ExecuteTime": {
     "end_time": "2024-10-08T12:26:37.306591Z",
     "start_time": "2024-10-08T12:25:28.925792Z"
    }
   },
   "source": [
    "import pandas as pd\n",
    "\n",
    "def transform_age_classes_one_hot(csv_path, output_csv):\n",
    "    \"\"\"\n",
    "    Transforms the age column into one-hot encoded classes and maps them as follows:\n",
    "    10-20 -> AGE_CLASS_0\n",
    "    20-30 -> AGE_CLASS_1\n",
    "    30-40 -> AGE_CLASS_2\n",
    "    40-50 -> AGE_CLASS_3\n",
    "    50+   -> AGE_CLASS_4\n",
    "\n",
    "    Parameters:\n",
    "    - csv_path (str): The path to the input CSV file.\n",
    "    - output_csv (str): The path to save the transformed CSV file.\n",
    "    \"\"\"\n",
    "    # Load the CSV file into a pandas DataFrame\n",
    "    df = pd.read_csv(csv_path)\n",
    "\n",
    "    # Define the bins and corresponding labels (age classes)\n",
    "    bins = [10, 20, 30, 40, 50, float('inf')]  # float('inf') is used to cover ages greater than 50\n",
    "    labels = [0, 1, 2, 3, 4]  # New labels for the classes\n",
    "\n",
    "    # Create a new column 'AGE_CLASS' based on the age bins\n",
    "    df['AGE_CLASS'] = pd.cut(df['AGE'], bins=bins, labels=labels, right=False)\n",
    "\n",
    "    # Drop rows where the AGE column is not in the defined range (i.e., NaN in AGE_CLASS)\n",
    "    df = df.dropna(subset=['AGE_CLASS'])\n",
    "\n",
    "    # Convert AGE_CLASS to integer type (as cut returns category type)\n",
    "    df['AGE_CLASS'] = df['AGE_CLASS'].astype(int)\n",
    "\n",
    "    # One-hot encode the AGE_CLASS column\n",
    "    one_hot_encoded_df = pd.get_dummies(df, columns=['AGE_CLASS'], prefix='AGE_CLASS')\n",
    "\n",
    "    # Save the one-hot encoded DataFrame to a new CSV file\n",
    "    one_hot_encoded_df.to_csv(output_csv, index=False)\n",
    "\n",
    "    print(f\"Transformed data with one-hot encoded age classes saved to {output_csv}\")\n",
    "\n",
    "# Example usage:\n",
    "csv_path = 'demographics_csv/demo_keystroke.csv'  # Your input CSV path\n",
    "output_csv = 'demographics_csv/age_one_hot_all.csv'  # Output CSV path\n",
    "\n",
    "transform_age_classes_one_hot(csv_path, output_csv)\n"
   ],
   "outputs": [
    {
     "name": "stderr",
     "output_type": "stream",
     "text": [
      "C:\\Users\\laras\\AppData\\Local\\Temp\\ipykernel_8552\\3624466757.py:17: DtypeWarning: Columns (41) have mixed types. Specify dtype option on import or set low_memory=False.\n",
      "  df = pd.read_csv(csv_path)\n"
     ]
    },
    {
     "name": "stdout",
     "output_type": "stream",
     "text": [
      "Transformed data with one-hot encoded age classes saved to demographics_csv/age_one_hot_all.csv\n"
     ]
    }
   ],
   "execution_count": 2
  },
  {
   "metadata": {
    "ExecuteTime": {
     "end_time": "2024-10-08T12:26:44.807407Z",
     "start_time": "2024-10-08T12:26:37.318028Z"
    }
   },
   "cell_type": "code",
   "source": [
    "import pandas as pd\n",
    "\n",
    "# Load the CSV file into a pandas DataFrame\n",
    "csv_path = 'demographics_csv/age_one_hot_all.csv'  # Replace with your actual CSV file path\n",
    "df = pd.read_csv(csv_path)\n",
    "\n",
    "# Display the first 5 rows of the DataFrame\n",
    "print(df.head())\n"
   ],
   "id": "a199c984d01a627",
   "outputs": [
    {
     "name": "stderr",
     "output_type": "stream",
     "text": [
      "C:\\Users\\laras\\AppData\\Local\\Temp\\ipykernel_8552\\585927553.py:5: DtypeWarning: Columns (41) have mixed types. Specify dtype option on import or set low_memory=False.\n",
      "  df = pd.read_csv(csv_path)\n"
     ]
    },
    {
     "name": "stdout",
     "output_type": "stream",
     "text": [
      "   PARTICIPANT_ID  AGE  GENDER  HAS_TAKEN_TYPING_COURSE COUNTRY  LAYOUT  \\\n",
      "0            1002   31  female                        0      PH  qwerty   \n",
      "1            1002   31  female                        0      PH  qwerty   \n",
      "2            1002   31  female                        0      PH  qwerty   \n",
      "3            1002   31  female                        0      PH  qwerty   \n",
      "4            1002   31  female                        0      PH  qwerty   \n",
      "\n",
      "  NATIVE_LANGUAGE FINGERS  TIME_SPENT_TYPING KEYBOARD_TYPE  ...  \\\n",
      "0              en    9-10                  2        laptop  ...   \n",
      "1              en    9-10                  2        laptop  ...   \n",
      "2              en    9-10                  2        laptop  ...   \n",
      "3              en    9-10                  2        laptop  ...   \n",
      "4              en    9-10                  2        laptop  ...   \n",
      "\n",
      "   KEY_HOLD_TIME_STD  ERROR_RATE_y  CONSECUTIVE_KEYS  CONSECUTIVE_KEYS_TIME  \\\n",
      "0       1.317593e+07           0.0            1684.0              -148244.1   \n",
      "1       1.297708e+07           0.0            8472.0              -148234.4   \n",
      "2       1.312969e+07           0.0            7269.0              -148240.3   \n",
      "3       1.318996e+07           0.0            6932.0              -148239.5   \n",
      "4       1.304505e+07           0.0            3282.0              -148237.9   \n",
      "\n",
      "   SPEED_CLASS  AGE_CLASS_0  AGE_CLASS_1 AGE_CLASS_2 AGE_CLASS_3  AGE_CLASS_4  \n",
      "0           10        False        False        True       False        False  \n",
      "1           10        False        False        True       False        False  \n",
      "2           10        False        False        True       False        False  \n",
      "3           10        False        False        True       False        False  \n",
      "4           10        False        False        True       False        False  \n",
      "\n",
      "[5 rows x 49 columns]\n"
     ]
    }
   ],
   "execution_count": 3
  },
  {
   "metadata": {
    "ExecuteTime": {
     "end_time": "2024-10-08T12:27:03.384351Z",
     "start_time": "2024-10-08T12:26:44.808415Z"
    }
   },
   "cell_type": "code",
   "source": [
    "import pandas as pd\n",
    "from sklearn.model_selection import train_test_split\n",
    "from sklearn.preprocessing import StandardScaler\n",
    "from sklearn.neighbors import KNeighborsClassifier\n",
    "from sklearn.metrics import classification_report, accuracy_score\n",
    "\n",
    "def balance_dataset(csv_path, output_csv):\n",
    "    \"\"\"\n",
    "    Balances the dataset so that each class has an equal number of samples by undersampling.\n",
    "    \n",
    "    Parameters:\n",
    "    - csv_path (str): The path to the input CSV file with one-hot encoded age classes.\n",
    "    - output_csv (str): The path to save the balanced CSV file.\n",
    "    \"\"\"\n",
    "    # Load the CSV file into a pandas DataFrame\n",
    "    df = pd.read_csv(csv_path)\n",
    "\n",
    "    # Assuming that AGE_CLASS columns are one-hot encoded, first identify the classes\n",
    "    age_classes_columns = [col for col in df.columns if col.startswith('AGE_CLASS_')]\n",
    "    \n",
    "    # Create a new column 'AGE_CLASS' that contains the original class number (not one-hot encoded)\n",
    "    df['AGE_CLASS'] = df[age_classes_columns].idxmax(axis=1).apply(lambda x: int(x.split('_')[-1]))\n",
    "\n",
    "    # Find the minimum number of samples in any age class\n",
    "    min_samples = df['AGE_CLASS'].value_counts().min()\n",
    "\n",
    "    # Balance the dataset by undersampling each class to have `min_samples` number of rows\n",
    "    balanced_df = df.groupby('AGE_CLASS').apply(lambda x: x.sample(n=min_samples, random_state=42)).reset_index(drop=True)\n",
    "\n",
    "    # Drop the temporary 'AGE_CLASS' column since you still have one-hot encoded columns\n",
    "    balanced_df = balanced_df.drop(columns=['AGE_CLASS'])\n",
    "\n",
    "    # Save the balanced DataFrame to a new CSV file\n",
    "    balanced_df.to_csv(output_csv, index=False)\n",
    "\n",
    "    print(f\"Balanced dataset saved to {output_csv}\")\n",
    "\n",
    "# Step 1: Create the balanced dataset\n",
    "input_csv = 'demographics_csv/age_one_hot_all.csv'  # Input CSV path\n",
    "output_csv = 'demographics_csv/balanced_age.csv'  # Output CSV path\n",
    "\n",
    "balance_dataset(input_csv, output_csv)"
   ],
   "id": "f2de3cc279dabe9a",
   "outputs": [
    {
     "name": "stderr",
     "output_type": "stream",
     "text": [
      "C:\\Users\\laras\\AppData\\Local\\Temp\\ipykernel_8552\\3095505637.py:16: DtypeWarning: Columns (41) have mixed types. Specify dtype option on import or set low_memory=False.\n",
      "  df = pd.read_csv(csv_path)\n",
      "C:\\Users\\laras\\AppData\\Local\\Temp\\ipykernel_8552\\3095505637.py:28: DeprecationWarning: DataFrameGroupBy.apply operated on the grouping columns. This behavior is deprecated, and in a future version of pandas the grouping columns will be excluded from the operation. Either pass `include_groups=False` to exclude the groupings or explicitly select the grouping columns after groupby to silence this warning.\n",
      "  balanced_df = df.groupby('AGE_CLASS').apply(lambda x: x.sample(n=min_samples, random_state=42)).reset_index(drop=True)\n"
     ]
    },
    {
     "name": "stdout",
     "output_type": "stream",
     "text": [
      "Balanced dataset saved to demographics_csv/balanced_age.csv\n"
     ]
    }
   ],
   "execution_count": 4
  },
  {
   "metadata": {
    "ExecuteTime": {
     "end_time": "2024-10-08T12:27:18.921210Z",
     "start_time": "2024-10-08T12:27:03.388977Z"
    }
   },
   "cell_type": "code",
   "source": [
    "import pandas as pd\n",
    "from sklearn.model_selection import train_test_split\n",
    "from sklearn.preprocessing import StandardScaler, LabelEncoder\n",
    "from sklearn.neighbors import KNeighborsClassifier\n",
    "from sklearn.metrics import classification_report, accuracy_score\n",
    "\n",
    "# Load the dataset\n",
    "df = pd.read_csv('demographics_csv/balanced_age.csv')\n",
    "\n",
    "# Separate features and target\n",
    "X = df.drop(columns=[col for col in df.columns if col.startswith('AGE_CLASS_')])\n",
    "y = df[[col for col in df.columns if col.startswith('AGE_CLASS_')]].idxmax(axis=1).apply(lambda x: int(x.split('_')[-1]))\n",
    "\n",
    "# Encode any categorical variables\n",
    "label_encoder = LabelEncoder()\n",
    "for column in X.select_dtypes(include=['object']).columns:\n",
    "    X[column] = label_encoder.fit_transform(X[column])\n",
    "\n",
    "# Split the dataset into training and testing sets\n",
    "X_train, X_test, y_train, y_test = train_test_split(X, y, test_size=0.2, random_state=42)\n",
    "\n",
    "# Scale the features (standardization)\n",
    "scaler = StandardScaler()\n",
    "X_train = scaler.fit_transform(X_train)\n",
    "X_test = scaler.transform(X_test)\n",
    "\n",
    "# Train KNN model\n",
    "knn = KNeighborsClassifier()\n",
    "knn.fit(X_train, y_train)\n",
    "\n",
    "# Make predictions\n",
    "y_pred_knn = knn.predict(X_test)\n",
    "\n",
    "# Evaluate the model\n",
    "accuracy_knn = accuracy_score(y_test, y_pred_knn)\n",
    "print(f'KNN Accuracy: {accuracy_knn:.2f}')"
   ],
   "id": "4ba3a0d9a8865ae7",
   "outputs": [
    {
     "name": "stdout",
     "output_type": "stream",
     "text": [
      "KNN Accuracy: 0.96\n"
     ]
    }
   ],
   "execution_count": 5
  },
  {
   "metadata": {
    "ExecuteTime": {
     "end_time": "2024-10-08T12:27:54.843911Z",
     "start_time": "2024-10-08T12:27:18.921210Z"
    }
   },
   "cell_type": "code",
   "source": [
    "# RF\n",
    "from sklearn.ensemble import RandomForestClassifier\n",
    "from sklearn.metrics import classification_report, accuracy_score\n",
    "\n",
    "# Random Forest classifier\n",
    "rf = RandomForestClassifier(n_estimators=100, random_state=42)\n",
    "rf.fit(X_train, y_train)\n",
    "\n",
    "# Make predictions\n",
    "y_pred_rf = rf.predict(X_test)\n",
    "\n",
    "# Evaluate the model\n",
    "print(\"Random Forest Classifier Accuracy: \", accuracy_score(y_test, y_pred_rf))\n",
    "print(classification_report(y_test, y_pred_rf))\n"
   ],
   "id": "babffccc8bb2470e",
   "outputs": [
    {
     "name": "stdout",
     "output_type": "stream",
     "text": [
      "Random Forest Classifier Accuracy:  1.0\n",
      "              precision    recall  f1-score   support\n",
      "\n",
      "           0       1.00      1.00      1.00      5191\n",
      "           1       1.00      1.00      1.00      5266\n",
      "           2       1.00      1.00      1.00      5251\n",
      "           3       1.00      1.00      1.00      5179\n",
      "           4       1.00      1.00      1.00      4987\n",
      "\n",
      "    accuracy                           1.00     25874\n",
      "   macro avg       1.00      1.00      1.00     25874\n",
      "weighted avg       1.00      1.00      1.00     25874\n",
      "\n"
     ]
    }
   ],
   "execution_count": 6
  },
  {
   "metadata": {
    "ExecuteTime": {
     "end_time": "2024-10-08T12:40:07.073924Z",
     "start_time": "2024-10-08T12:27:54.846843Z"
    }
   },
   "cell_type": "code",
   "source": [
    "import pandas as pd\n",
    "from sklearn.model_selection import train_test_split\n",
    "from sklearn.preprocessing import StandardScaler, LabelEncoder, OneHotEncoder\n",
    "from sklearn.metrics import classification_report, accuracy_score\n",
    "import tensorflow as tf\n",
    "from tensorflow.keras import Sequential\n",
    "from tensorflow.keras.layers import Dense\n",
    "import matplotlib.pyplot as plt\n",
    "\n",
    "# Load the dataset\n",
    "df = pd.read_csv('demographics_csv/balanced_age.csv')\n",
    "\n",
    "# Separate features and target\n",
    "X = df.drop(columns=[col for col in df.columns if col.startswith('AGE_CLASS_')])\n",
    "y = df[[col for col in df.columns if col.startswith('AGE_CLASS_')]].idxmax(axis=1).apply(lambda x: int(x.split('_')[-1]))\n",
    "\n",
    "# Encode any categorical variables\n",
    "label_encoder = LabelEncoder()\n",
    "for column in X.select_dtypes(include=['object']).columns:\n",
    "    X[column] = label_encoder.fit_transform(X[column])\n",
    "\n",
    "# One-hot encode the target variable for ANN\n",
    "encoder = OneHotEncoder(sparse_output=False)\n",
    "y_train_encoded = encoder.fit_transform(y_train.values.reshape(-1, 1))\n",
    "y_test_encoded = encoder.transform(y_test.values.reshape(-1, 1))\n",
    "\n",
    "# Split the dataset into training and testing sets\n",
    "X_train, X_test, y_train, y_test = train_test_split(X, y, test_size=0.2, random_state=42)\n",
    "\n",
    "# Scale the features (standardization)\n",
    "scaler = StandardScaler()\n",
    "X_train = scaler.fit_transform(X_train)\n",
    "X_test = scaler.transform(X_test)\n",
    "\n",
    "# Build the ANN model\n",
    "model = Sequential()\n",
    "model.add(Dense(64, activation='relu', input_shape=(X_train.shape[1],)))\n",
    "model.add(Dense(32, activation='relu'))\n",
    "model.add(Dense(16, activation='relu'))\n",
    "model.add(Dense(y_train_encoded.shape[1], activation='softmax'))\n",
    "\n",
    "# Compile the model\n",
    "model.compile(optimizer='adam', loss='categorical_crossentropy', metrics=['accuracy'])\n",
    "\n",
    "# Train the model\n",
    "history = model.fit(X_train, y_train_encoded, epochs=50, batch_size=32, validation_data=(X_test, y_test_encoded))\n",
    "\n",
    "# Evaluate the model\n",
    "test_loss, test_acc = model.evaluate(X_test, y_test_encoded)\n",
    "print(\"ANN Accuracy: \", test_acc)\n",
    "\n",
    "# Plotting training & validation accuracy\n",
    "plt.plot(history.history['accuracy'], label='train accuracy')\n",
    "plt.plot(history.history['val_accuracy'], label='test accuracy')\n",
    "plt.title('ANN Model Accuracy')\n",
    "plt.ylabel('Accuracy')\n",
    "plt.xlabel('Epoch')\n",
    "plt.legend()\n",
    "plt.show()"
   ],
   "id": "a3ec6a61c9ab8874",
   "outputs": [
    {
     "name": "stderr",
     "output_type": "stream",
     "text": [
      "C:\\Users\\laras\\Coding\\EmotionRecognitionKeystrokeDynamics\\.venv\\lib\\site-packages\\keras\\src\\layers\\core\\dense.py:87: UserWarning: Do not pass an `input_shape`/`input_dim` argument to a layer. When using Sequential models, prefer using an `Input(shape)` object as the first layer in the model instead.\n",
      "  super().__init__(activity_regularizer=activity_regularizer, **kwargs)\n"
     ]
    },
    {
     "name": "stdout",
     "output_type": "stream",
     "text": [
      "Epoch 1/50\n",
      "\u001B[1m3235/3235\u001B[0m \u001B[32m━━━━━━━━━━━━━━━━━━━━\u001B[0m\u001B[37m\u001B[0m \u001B[1m49s\u001B[0m 14ms/step - accuracy: 0.8458 - loss: 0.4015 - val_accuracy: 0.9983 - val_loss: 0.0114\n",
      "Epoch 2/50\n",
      "\u001B[1m3235/3235\u001B[0m \u001B[32m━━━━━━━━━━━━━━━━━━━━\u001B[0m\u001B[37m\u001B[0m \u001B[1m45s\u001B[0m 14ms/step - accuracy: 0.9959 - loss: 0.0148 - val_accuracy: 0.9998 - val_loss: 0.0015\n",
      "Epoch 3/50\n",
      "\u001B[1m3235/3235\u001B[0m \u001B[32m━━━━━━━━━━━━━━━━━━━━\u001B[0m\u001B[37m\u001B[0m \u001B[1m46s\u001B[0m 14ms/step - accuracy: 0.9972 - loss: 0.0095 - val_accuracy: 0.9977 - val_loss: 0.0077\n",
      "Epoch 4/50\n",
      "\u001B[1m3235/3235\u001B[0m \u001B[32m━━━━━━━━━━━━━━━━━━━━\u001B[0m\u001B[37m\u001B[0m \u001B[1m49s\u001B[0m 15ms/step - accuracy: 0.9984 - loss: 0.0056 - val_accuracy: 0.9999 - val_loss: 5.2529e-04\n",
      "Epoch 5/50\n",
      "\u001B[1m3235/3235\u001B[0m \u001B[32m━━━━━━━━━━━━━━━━━━━━\u001B[0m\u001B[37m\u001B[0m \u001B[1m47s\u001B[0m 14ms/step - accuracy: 0.9987 - loss: 0.0045 - val_accuracy: 1.0000 - val_loss: 1.4361e-04\n",
      "Epoch 6/50\n",
      "\u001B[1m3235/3235\u001B[0m \u001B[32m━━━━━━━━━━━━━━━━━━━━\u001B[0m\u001B[37m\u001B[0m \u001B[1m45s\u001B[0m 3ms/step - accuracy: 0.9980 - loss: 0.0085 - val_accuracy: 1.0000 - val_loss: 2.1905e-04\n",
      "Epoch 7/50\n",
      "\u001B[1m3235/3235\u001B[0m \u001B[32m━━━━━━━━━━━━━━━━━━━━\u001B[0m\u001B[37m\u001B[0m \u001B[1m10s\u001B[0m 3ms/step - accuracy: 0.9985 - loss: 0.0048 - val_accuracy: 0.9999 - val_loss: 3.8680e-04\n",
      "Epoch 8/50\n",
      "\u001B[1m3235/3235\u001B[0m \u001B[32m━━━━━━━━━━━━━━━━━━━━\u001B[0m\u001B[37m\u001B[0m \u001B[1m9s\u001B[0m 3ms/step - accuracy: 0.9995 - loss: 0.0020 - val_accuracy: 0.9999 - val_loss: 3.8198e-04\n",
      "Epoch 9/50\n",
      "\u001B[1m3235/3235\u001B[0m \u001B[32m━━━━━━━━━━━━━━━━━━━━\u001B[0m\u001B[37m\u001B[0m \u001B[1m9s\u001B[0m 3ms/step - accuracy: 0.9982 - loss: 0.0063 - val_accuracy: 1.0000 - val_loss: 1.6338e-04\n",
      "Epoch 10/50\n",
      "\u001B[1m3235/3235\u001B[0m \u001B[32m━━━━━━━━━━━━━━━━━━━━\u001B[0m\u001B[37m\u001B[0m \u001B[1m10s\u001B[0m 3ms/step - accuracy: 1.0000 - loss: 1.9729e-04 - val_accuracy: 0.9963 - val_loss: 0.0122\n",
      "Epoch 11/50\n",
      "\u001B[1m3235/3235\u001B[0m \u001B[32m━━━━━━━━━━━━━━━━━━━━\u001B[0m\u001B[37m\u001B[0m \u001B[1m13s\u001B[0m 4ms/step - accuracy: 0.9988 - loss: 0.0036 - val_accuracy: 0.9999 - val_loss: 2.9391e-04\n",
      "Epoch 12/50\n",
      "\u001B[1m3235/3235\u001B[0m \u001B[32m━━━━━━━━━━━━━━━━━━━━\u001B[0m\u001B[37m\u001B[0m \u001B[1m13s\u001B[0m 4ms/step - accuracy: 1.0000 - loss: 3.9590e-05 - val_accuracy: 1.0000 - val_loss: 1.6471e-04\n",
      "Epoch 13/50\n",
      "\u001B[1m3235/3235\u001B[0m \u001B[32m━━━━━━━━━━━━━━━━━━━━\u001B[0m\u001B[37m\u001B[0m \u001B[1m10s\u001B[0m 3ms/step - accuracy: 0.9983 - loss: 0.0057 - val_accuracy: 0.9999 - val_loss: 2.7345e-04\n",
      "Epoch 14/50\n",
      "\u001B[1m3235/3235\u001B[0m \u001B[32m━━━━━━━━━━━━━━━━━━━━\u001B[0m\u001B[37m\u001B[0m \u001B[1m9s\u001B[0m 3ms/step - accuracy: 0.9982 - loss: 0.0057 - val_accuracy: 1.0000 - val_loss: 5.4245e-05\n",
      "Epoch 15/50\n",
      "\u001B[1m3235/3235\u001B[0m \u001B[32m━━━━━━━━━━━━━━━━━━━━\u001B[0m\u001B[37m\u001B[0m \u001B[1m9s\u001B[0m 3ms/step - accuracy: 0.9991 - loss: 0.0037 - val_accuracy: 0.9999 - val_loss: 4.5147e-04\n",
      "Epoch 16/50\n",
      "\u001B[1m3235/3235\u001B[0m \u001B[32m━━━━━━━━━━━━━━━━━━━━\u001B[0m\u001B[37m\u001B[0m \u001B[1m12s\u001B[0m 3ms/step - accuracy: 0.9992 - loss: 0.0032 - val_accuracy: 1.0000 - val_loss: 6.7475e-05\n",
      "Epoch 17/50\n",
      "\u001B[1m3235/3235\u001B[0m \u001B[32m━━━━━━━━━━━━━━━━━━━━\u001B[0m\u001B[37m\u001B[0m \u001B[1m11s\u001B[0m 3ms/step - accuracy: 0.9996 - loss: 0.0013 - val_accuracy: 1.0000 - val_loss: 1.4935e-04\n",
      "Epoch 18/50\n",
      "\u001B[1m3235/3235\u001B[0m \u001B[32m━━━━━━━━━━━━━━━━━━━━\u001B[0m\u001B[37m\u001B[0m \u001B[1m13s\u001B[0m 4ms/step - accuracy: 0.9997 - loss: 9.1432e-04 - val_accuracy: 1.0000 - val_loss: 1.1390e-04\n",
      "Epoch 19/50\n",
      "\u001B[1m3235/3235\u001B[0m \u001B[32m━━━━━━━━━━━━━━━━━━━━\u001B[0m\u001B[37m\u001B[0m \u001B[1m15s\u001B[0m 4ms/step - accuracy: 0.9996 - loss: 0.0014 - val_accuracy: 0.9949 - val_loss: 0.0178\n",
      "Epoch 20/50\n",
      "\u001B[1m3235/3235\u001B[0m \u001B[32m━━━━━━━━━━━━━━━━━━━━\u001B[0m\u001B[37m\u001B[0m \u001B[1m11s\u001B[0m 3ms/step - accuracy: 0.9978 - loss: 0.0073 - val_accuracy: 0.9907 - val_loss: 0.0301\n",
      "Epoch 21/50\n",
      "\u001B[1m3235/3235\u001B[0m \u001B[32m━━━━━━━━━━━━━━━━━━━━\u001B[0m\u001B[37m\u001B[0m \u001B[1m9s\u001B[0m 3ms/step - accuracy: 0.9978 - loss: 0.0082 - val_accuracy: 1.0000 - val_loss: 1.7104e-05\n",
      "Epoch 22/50\n",
      "\u001B[1m3235/3235\u001B[0m \u001B[32m━━━━━━━━━━━━━━━━━━━━\u001B[0m\u001B[37m\u001B[0m \u001B[1m10s\u001B[0m 3ms/step - accuracy: 1.0000 - loss: 1.0665e-05 - val_accuracy: 1.0000 - val_loss: 2.2700e-06\n",
      "Epoch 23/50\n",
      "\u001B[1m3235/3235\u001B[0m \u001B[32m━━━━━━━━━━━━━━━━━━━━\u001B[0m\u001B[37m\u001B[0m \u001B[1m10s\u001B[0m 3ms/step - accuracy: 1.0000 - loss: 2.3021e-06 - val_accuracy: 1.0000 - val_loss: 8.3802e-07\n",
      "Epoch 24/50\n",
      "\u001B[1m3235/3235\u001B[0m \u001B[32m━━━━━━━━━━━━━━━━━━━━\u001B[0m\u001B[37m\u001B[0m \u001B[1m10s\u001B[0m 3ms/step - accuracy: 0.9995 - loss: 0.0024 - val_accuracy: 1.0000 - val_loss: 2.5858e-04\n",
      "Epoch 25/50\n",
      "\u001B[1m3235/3235\u001B[0m \u001B[32m━━━━━━━━━━━━━━━━━━━━\u001B[0m\u001B[37m\u001B[0m \u001B[1m9s\u001B[0m 3ms/step - accuracy: 0.9996 - loss: 0.0014 - val_accuracy: 1.0000 - val_loss: 2.9540e-05\n",
      "Epoch 26/50\n",
      "\u001B[1m3235/3235\u001B[0m \u001B[32m━━━━━━━━━━━━━━━━━━━━\u001B[0m\u001B[37m\u001B[0m \u001B[1m10s\u001B[0m 3ms/step - accuracy: 1.0000 - loss: 1.6034e-05 - val_accuracy: 1.0000 - val_loss: 5.3219e-06\n",
      "Epoch 27/50\n",
      "\u001B[1m3235/3235\u001B[0m \u001B[32m━━━━━━━━━━━━━━━━━━━━\u001B[0m\u001B[37m\u001B[0m \u001B[1m9s\u001B[0m 3ms/step - accuracy: 1.0000 - loss: 3.3401e-06 - val_accuracy: 1.0000 - val_loss: 1.3628e-06\n",
      "Epoch 28/50\n",
      "\u001B[1m3235/3235\u001B[0m \u001B[32m━━━━━━━━━━━━━━━━━━━━\u001B[0m\u001B[37m\u001B[0m \u001B[1m9s\u001B[0m 3ms/step - accuracy: 1.0000 - loss: 8.2149e-07 - val_accuracy: 1.0000 - val_loss: 1.9988e-07\n",
      "Epoch 29/50\n",
      "\u001B[1m3235/3235\u001B[0m \u001B[32m━━━━━━━━━━━━━━━━━━━━\u001B[0m\u001B[37m\u001B[0m \u001B[1m9s\u001B[0m 3ms/step - accuracy: 1.0000 - loss: 1.2621e-07 - val_accuracy: 1.0000 - val_loss: 3.8973e-08\n",
      "Epoch 30/50\n",
      "\u001B[1m3235/3235\u001B[0m \u001B[32m━━━━━━━━━━━━━━━━━━━━\u001B[0m\u001B[37m\u001B[0m \u001B[1m9s\u001B[0m 3ms/step - accuracy: 1.0000 - loss: 2.7534e-08 - val_accuracy: 1.0000 - val_loss: 8.4774e-09\n",
      "Epoch 31/50\n",
      "\u001B[1m3235/3235\u001B[0m \u001B[32m━━━━━━━━━━━━━━━━━━━━\u001B[0m\u001B[37m\u001B[0m \u001B[1m9s\u001B[0m 3ms/step - accuracy: 0.9994 - loss: 0.0036 - val_accuracy: 0.9985 - val_loss: 0.0063\n",
      "Epoch 32/50\n",
      "\u001B[1m3235/3235\u001B[0m \u001B[32m━━━━━━━━━━━━━━━━━━━━\u001B[0m\u001B[37m\u001B[0m \u001B[1m9s\u001B[0m 3ms/step - accuracy: 0.9996 - loss: 0.0013 - val_accuracy: 1.0000 - val_loss: 7.7644e-05\n",
      "Epoch 33/50\n",
      "\u001B[1m3235/3235\u001B[0m \u001B[32m━━━━━━━━━━━━━━━━━━━━\u001B[0m\u001B[37m\u001B[0m \u001B[1m9s\u001B[0m 3ms/step - accuracy: 0.9989 - loss: 0.0052 - val_accuracy: 1.0000 - val_loss: 1.6089e-04\n",
      "Epoch 34/50\n",
      "\u001B[1m3235/3235\u001B[0m \u001B[32m━━━━━━━━━━━━━━━━━━━━\u001B[0m\u001B[37m\u001B[0m \u001B[1m9s\u001B[0m 3ms/step - accuracy: 1.0000 - loss: 2.9936e-05 - val_accuracy: 1.0000 - val_loss: 2.8407e-05\n",
      "Epoch 35/50\n",
      "\u001B[1m3235/3235\u001B[0m \u001B[32m━━━━━━━━━━━━━━━━━━━━\u001B[0m\u001B[37m\u001B[0m \u001B[1m9s\u001B[0m 3ms/step - accuracy: 1.0000 - loss: 2.8943e-06 - val_accuracy: 1.0000 - val_loss: 5.1712e-05\n",
      "Epoch 36/50\n",
      "\u001B[1m3235/3235\u001B[0m \u001B[32m━━━━━━━━━━━━━━━━━━━━\u001B[0m\u001B[37m\u001B[0m \u001B[1m9s\u001B[0m 3ms/step - accuracy: 1.0000 - loss: 2.6856e-07 - val_accuracy: 1.0000 - val_loss: 3.6326e-05\n",
      "Epoch 37/50\n",
      "\u001B[1m3235/3235\u001B[0m \u001B[32m━━━━━━━━━━━━━━━━━━━━\u001B[0m\u001B[37m\u001B[0m \u001B[1m9s\u001B[0m 3ms/step - accuracy: 1.0000 - loss: 4.5506e-08 - val_accuracy: 1.0000 - val_loss: 6.5070e-05\n",
      "Epoch 38/50\n",
      "\u001B[1m3235/3235\u001B[0m \u001B[32m━━━━━━━━━━━━━━━━━━━━\u001B[0m\u001B[37m\u001B[0m \u001B[1m9s\u001B[0m 3ms/step - accuracy: 0.9996 - loss: 0.0041 - val_accuracy: 1.0000 - val_loss: 3.2660e-04\n",
      "Epoch 39/50\n",
      "\u001B[1m3235/3235\u001B[0m \u001B[32m━━━━━━━━━━━━━━━━━━━━\u001B[0m\u001B[37m\u001B[0m \u001B[1m9s\u001B[0m 3ms/step - accuracy: 1.0000 - loss: 3.3311e-05 - val_accuracy: 1.0000 - val_loss: 3.0927e-04\n",
      "Epoch 40/50\n",
      "\u001B[1m3235/3235\u001B[0m \u001B[32m━━━━━━━━━━━━━━━━━━━━\u001B[0m\u001B[37m\u001B[0m \u001B[1m9s\u001B[0m 3ms/step - accuracy: 1.0000 - loss: 1.4054e-06 - val_accuracy: 1.0000 - val_loss: 4.3604e-05\n",
      "Epoch 41/50\n",
      "\u001B[1m3235/3235\u001B[0m \u001B[32m━━━━━━━━━━━━━━━━━━━━\u001B[0m\u001B[37m\u001B[0m \u001B[1m9s\u001B[0m 3ms/step - accuracy: 0.9997 - loss: 0.0013 - val_accuracy: 0.9999 - val_loss: 1.8515e-04\n",
      "Epoch 42/50\n",
      "\u001B[1m3235/3235\u001B[0m \u001B[32m━━━━━━━━━━━━━━━━━━━━\u001B[0m\u001B[37m\u001B[0m \u001B[1m9s\u001B[0m 3ms/step - accuracy: 1.0000 - loss: 1.8885e-04 - val_accuracy: 1.0000 - val_loss: 2.4132e-05\n",
      "Epoch 43/50\n",
      "\u001B[1m3235/3235\u001B[0m \u001B[32m━━━━━━━━━━━━━━━━━━━━\u001B[0m\u001B[37m\u001B[0m \u001B[1m9s\u001B[0m 3ms/step - accuracy: 1.0000 - loss: 9.1339e-06 - val_accuracy: 1.0000 - val_loss: 4.8504e-06\n",
      "Epoch 44/50\n",
      "\u001B[1m3235/3235\u001B[0m \u001B[32m━━━━━━━━━━━━━━━━━━━━\u001B[0m\u001B[37m\u001B[0m \u001B[1m9s\u001B[0m 3ms/step - accuracy: 1.0000 - loss: 2.0585e-06 - val_accuracy: 1.0000 - val_loss: 6.5566e-07\n",
      "Epoch 45/50\n",
      "\u001B[1m3235/3235\u001B[0m \u001B[32m━━━━━━━━━━━━━━━━━━━━\u001B[0m\u001B[37m\u001B[0m \u001B[1m9s\u001B[0m 3ms/step - accuracy: 1.0000 - loss: 3.2182e-07 - val_accuracy: 1.0000 - val_loss: 3.0555e-07\n",
      "Epoch 46/50\n",
      "\u001B[1m3235/3235\u001B[0m \u001B[32m━━━━━━━━━━━━━━━━━━━━\u001B[0m\u001B[37m\u001B[0m \u001B[1m9s\u001B[0m 3ms/step - accuracy: 1.0000 - loss: 6.3299e-08 - val_accuracy: 1.0000 - val_loss: 8.4356e-08\n",
      "Epoch 47/50\n",
      "\u001B[1m3235/3235\u001B[0m \u001B[32m━━━━━━━━━━━━━━━━━━━━\u001B[0m\u001B[37m\u001B[0m \u001B[1m9s\u001B[0m 3ms/step - accuracy: 1.0000 - loss: 1.3408e-08 - val_accuracy: 1.0000 - val_loss: 1.1306e-08\n",
      "Epoch 48/50\n",
      "\u001B[1m3235/3235\u001B[0m \u001B[32m━━━━━━━━━━━━━━━━━━━━\u001B[0m\u001B[37m\u001B[0m \u001B[1m9s\u001B[0m 3ms/step - accuracy: 0.9998 - loss: 0.0011 - val_accuracy: 0.9999 - val_loss: 2.3264e-04\n",
      "Epoch 49/50\n",
      "\u001B[1m3235/3235\u001B[0m \u001B[32m━━━━━━━━━━━━━━━━━━━━\u001B[0m\u001B[37m\u001B[0m \u001B[1m10s\u001B[0m 3ms/step - accuracy: 0.9997 - loss: 0.0010 - val_accuracy: 1.0000 - val_loss: 5.6663e-06\n",
      "Epoch 50/50\n",
      "\u001B[1m3235/3235\u001B[0m \u001B[32m━━━━━━━━━━━━━━━━━━━━\u001B[0m\u001B[37m\u001B[0m \u001B[1m11s\u001B[0m 3ms/step - accuracy: 1.0000 - loss: 2.6812e-06 - val_accuracy: 1.0000 - val_loss: 2.1705e-06\n",
      "\u001B[1m809/809\u001B[0m \u001B[32m━━━━━━━━━━━━━━━━━━━━\u001B[0m\u001B[37m\u001B[0m \u001B[1m2s\u001B[0m 2ms/step - accuracy: 1.0000 - loss: 1.6572e-06\n",
      "ANN Accuracy:  1.0\n"
     ]
    },
    {
     "data": {
      "text/plain": [
       "<Figure size 640x480 with 1 Axes>"
      ],
      "image/png": "[encoded data removed]"
     },
     "metadata": {},
     "output_type": "display_data"
    }
   ],
   "execution_count": 7
  },
  {
   "cell_type": "code",
   "source": [],
   "metadata": {
    "collapsed": false,
    "ExecuteTime": {
     "end_time": "2024-10-08T12:40:07.115880Z",
     "start_time": "2024-10-08T12:40:07.095907Z"
    }
   },
   "id": "7bd5e0dd32eb0a06",
   "outputs": [],
   "execution_count": 7
  }
 ],
 "metadata": {
  "kernelspec": {
   "display_name": "Python 3",
   "language": "python",
   "name": "python3"
  },
  "language_info": {
   "codemirror_mode": {
    "name": "ipython",
    "version": 2
   },
   "file_extension": ".py",
   "mimetype": "text/x-python",
   "name": "python",
   "nbconvert_exporter": "python",
   "pygments_lexer": "ipython2",
   "version": "2.7.6"
  }
 },
 "nbformat": 4,
 "nbformat_minor": 5
}
