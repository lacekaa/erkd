{
 "cells": [
  {
   "cell_type": "code",
   "execution_count": 1,
   "id": "initial_id",
   "metadata": {
    "collapsed": true,
    "ExecuteTime": {
     "end_time": "2024-09-27T14:29:31.087934Z",
     "start_time": "2024-09-27T14:29:27.018853Z"
    }
   },
   "outputs": [
    {
     "name": "stderr",
     "output_type": "stream",
     "text": [
      "C:\\Users\\dekassla\\AppData\\Local\\Temp\\ipykernel_21520\\3624466757.py:44: DtypeWarning: Columns (41) have mixed types.Specify dtype option on import or set low_memory=False.\n",
      "  transform_age_classes_one_hot(csv_path, output_csv)\n",
      "D:\\Coding_Projects\\erkd\\.venv\\lib\\site-packages\\pandas\\core\\arrays\\categorical.py:528: RuntimeWarning: invalid value encountered in cast\n",
      "  fill_value = lib.item_from_zerodim(np.array(np.nan).astype(dtype))\n"
     ]
    },
    {
     "name": "stdout",
     "output_type": "stream",
     "text": [
      "Transformed data with one-hot encoded age classes saved to demographics_csv/age_one_hot_all.csv\n"
     ]
    }
   ],
   "source": [
    "import pandas as pd\n",
    "\n",
    "def transform_age_classes_one_hot(csv_path, output_csv):\n",
    "    \"\"\"\n",
    "    Transforms the age column into one-hot encoded classes and maps them as follows:\n",
    "    10-20 -> AGE_CLASS_0\n",
    "    20-30 -> AGE_CLASS_1\n",
    "    30-40 -> AGE_CLASS_2\n",
    "    40-50 -> AGE_CLASS_3\n",
    "    50+   -> AGE_CLASS_4\n",
    "\n",
    "    Parameters:\n",
    "    - csv_path (str): The path to the input CSV file.\n",
    "    - output_csv (str): The path to save the transformed CSV file.\n",
    "    \"\"\"\n",
    "    # Load the CSV file into a pandas DataFrame\n",
    "    df = pd.read_csv(csv_path)\n",
    "\n",
    "    # Define the bins and corresponding labels (age classes)\n",
    "    bins = [10, 20, 30, 40, 50, float('inf')]  # float('inf') is used to cover ages greater than 50\n",
    "    labels = [0, 1, 2, 3, 4]  # New labels for the classes\n",
    "\n",
    "    # Create a new column 'AGE_CLASS' based on the age bins\n",
    "    df['AGE_CLASS'] = pd.cut(df['AGE'], bins=bins, labels=labels, right=False)\n",
    "\n",
    "    # Drop rows where the AGE column is not in the defined range (i.e., NaN in AGE_CLASS)\n",
    "    df = df.dropna(subset=['AGE_CLASS'])\n",
    "\n",
    "    # Convert AGE_CLASS to integer type (as cut returns category type)\n",
    "    df['AGE_CLASS'] = df['AGE_CLASS'].astype(int)\n",
    "\n",
    "    # One-hot encode the AGE_CLASS column\n",
    "    one_hot_encoded_df = pd.get_dummies(df, columns=['AGE_CLASS'], prefix='AGE_CLASS')\n",
    "\n",
    "    # Save the one-hot encoded DataFrame to a new CSV file\n",
    "    one_hot_encoded_df.to_csv(output_csv, index=False)\n",
    "\n",
    "    print(f\"Transformed data with one-hot encoded age classes saved to {output_csv}\")\n",
    "\n",
    "# Example usage:\n",
    "csv_path = 'demographics_csv/demo_keystroke.csv'  # Your input CSV path\n",
    "output_csv = 'demographics_csv/age_one_hot_all.csv'  # Output CSV path\n",
    "\n",
    "transform_age_classes_one_hot(csv_path, output_csv)\n"
   ]
  },
  {
   "metadata": {
    "ExecuteTime": {
     "end_time": "2024-09-27T14:29:37.296195Z",
     "start_time": "2024-09-27T14:29:36.063063Z"
    }
   },
   "cell_type": "code",
   "outputs": [
    {
     "name": "stdout",
     "output_type": "stream",
     "text": [
      "   PARTICIPANT_ID  AGE  GENDER  HAS_TAKEN_TYPING_COURSE COUNTRY  LAYOUT  \\\n",
      "0            1002   31  female                        0      PH  qwerty   \n",
      "1            1002   31  female                        0      PH  qwerty   \n",
      "2            1002   31  female                        0      PH  qwerty   \n",
      "3            1002   31  female                        0      PH  qwerty   \n",
      "4            1002   31  female                        0      PH  qwerty   \n",
      "\n",
      "  NATIVE_LANGUAGE FINGERS  TIME_SPENT_TYPING KEYBOARD_TYPE  ...  \\\n",
      "0              en    9-10                  2        laptop  ...   \n",
      "1              en    9-10                  2        laptop  ...   \n",
      "2              en    9-10                  2        laptop  ...   \n",
      "3              en    9-10                  2        laptop  ...   \n",
      "4              en    9-10                  2        laptop  ...   \n",
      "\n",
      "   KEY_HOLD_TIME_STD  ERROR_RATE_y  CONSECUTIVE_KEYS  CONSECUTIVE_KEYS_TIME  \\\n",
      "0       1.248468e+07      0.054323            1684.0              -148244.1   \n",
      "1       1.289820e+07      0.054322            8472.0              -148234.4   \n",
      "2       1.332158e+07      0.054321            7269.0              -148240.3   \n",
      "3       1.322737e+07      0.054320            6932.0              -148239.5   \n",
      "4       1.290504e+07      0.054320            3282.0              -148237.9   \n",
      "\n",
      "   SPEED_CLASS  AGE_CLASS_0  AGE_CLASS_1 AGE_CLASS_2 AGE_CLASS_3  AGE_CLASS_4  \n",
      "0           10            0            0           1           0            0  \n",
      "1           10            0            0           1           0            0  \n",
      "2           10            0            0           1           0            0  \n",
      "3           10            0            0           1           0            0  \n",
      "4           10            0            0           1           0            0  \n",
      "\n",
      "[5 rows x 49 columns]\n"
     ]
    },
    {
     "name": "stderr",
     "output_type": "stream",
     "text": [
      "D:\\Coding_Projects\\erkd\\.venv\\lib\\site-packages\\IPython\\core\\interactiveshell.py:3508: DtypeWarning: Columns (41) have mixed types.Specify dtype option on import or set low_memory=False.\n",
      "  exec(code_obj, self.user_global_ns, self.user_ns)\n"
     ]
    }
   ],
   "execution_count": 2,
   "source": [
    "import pandas as pd\n",
    "\n",
    "# Load the CSV file into a pandas DataFrame\n",
    "csv_path = 'demographics_csv/age_one_hot_all.csv'  # Replace with your actual CSV file path\n",
    "df = pd.read_csv(csv_path)\n",
    "\n",
    "# Display the first 5 rows of the DataFrame\n",
    "print(df.head())\n"
   ],
   "id": "a199c984d01a627"
  },
  {
   "metadata": {
    "ExecuteTime": {
     "end_time": "2024-09-27T14:29:46.554475Z",
     "start_time": "2024-09-27T14:29:43.577267Z"
    }
   },
   "cell_type": "code",
   "outputs": [
    {
     "name": "stderr",
     "output_type": "stream",
     "text": [
      "C:\\Users\\dekassla\\AppData\\Local\\Temp\\ipykernel_21520\\3095505637.py:42: DtypeWarning: Columns (41) have mixed types.Specify dtype option on import or set low_memory=False.\n",
      "  balance_dataset(input_csv, output_csv)\n"
     ]
    },
    {
     "name": "stdout",
     "output_type": "stream",
     "text": [
      "Balanced dataset saved to demographics_csv/balanced_age.csv\n"
     ]
    }
   ],
   "execution_count": 3,
   "source": [
    "import pandas as pd\n",
    "from sklearn.model_selection import train_test_split\n",
    "from sklearn.preprocessing import StandardScaler\n",
    "from sklearn.neighbors import KNeighborsClassifier\n",
    "from sklearn.metrics import classification_report, accuracy_score\n",
    "\n",
    "def balance_dataset(csv_path, output_csv):\n",
    "    \"\"\"\n",
    "    Balances the dataset so that each class has an equal number of samples by undersampling.\n",
    "    \n",
    "    Parameters:\n",
    "    - csv_path (str): The path to the input CSV file with one-hot encoded age classes.\n",
    "    - output_csv (str): The path to save the balanced CSV file.\n",
    "    \"\"\"\n",
    "    # Load the CSV file into a pandas DataFrame\n",
    "    df = pd.read_csv(csv_path)\n",
    "\n",
    "    # Assuming that AGE_CLASS columns are one-hot encoded, first identify the classes\n",
    "    age_classes_columns = [col for col in df.columns if col.startswith('AGE_CLASS_')]\n",
    "    \n",
    "    # Create a new column 'AGE_CLASS' that contains the original class number (not one-hot encoded)\n",
    "    df['AGE_CLASS'] = df[age_classes_columns].idxmax(axis=1).apply(lambda x: int(x.split('_')[-1]))\n",
    "\n",
    "    # Find the minimum number of samples in any age class\n",
    "    min_samples = df['AGE_CLASS'].value_counts().min()\n",
    "\n",
    "    # Balance the dataset by undersampling each class to have `min_samples` number of rows\n",
    "    balanced_df = df.groupby('AGE_CLASS').apply(lambda x: x.sample(n=min_samples, random_state=42)).reset_index(drop=True)\n",
    "\n",
    "    # Drop the temporary 'AGE_CLASS' column since you still have one-hot encoded columns\n",
    "    balanced_df = balanced_df.drop(columns=['AGE_CLASS'])\n",
    "\n",
    "    # Save the balanced DataFrame to a new CSV file\n",
    "    balanced_df.to_csv(output_csv, index=False)\n",
    "\n",
    "    print(f\"Balanced dataset saved to {output_csv}\")\n",
    "\n",
    "# Step 1: Create the balanced dataset\n",
    "input_csv = 'demographics_csv/age_one_hot_all.csv'  # Input CSV path\n",
    "output_csv = 'demographics_csv/balanced_age.csv'  # Output CSV path\n",
    "\n",
    "balance_dataset(input_csv, output_csv)"
   ],
   "id": "f2de3cc279dabe9a"
  },
  {
   "metadata": {
    "ExecuteTime": {
     "end_time": "2024-09-27T14:32:41.046703Z",
     "start_time": "2024-09-27T14:32:40.025054Z"
    }
   },
   "cell_type": "code",
   "outputs": [
    {
     "name": "stdout",
     "output_type": "stream",
     "text": [
      "KNN Accuracy: 0.98\n"
     ]
    }
   ],
   "execution_count": 8,
   "source": [
    "import pandas as pd\n",
    "from sklearn.model_selection import train_test_split\n",
    "from sklearn.preprocessing import StandardScaler, LabelEncoder\n",
    "from sklearn.neighbors import KNeighborsClassifier\n",
    "from sklearn.metrics import classification_report, accuracy_score\n",
    "\n",
    "# Load the dataset\n",
    "df = pd.read_csv('demographics_csv/balanced_age.csv')\n",
    "\n",
    "# Separate features and target\n",
    "X = df.drop(columns=[col for col in df.columns if col.startswith('AGE_CLASS_')])\n",
    "y = df[[col for col in df.columns if col.startswith('AGE_CLASS_')]].idxmax(axis=1).apply(lambda x: int(x.split('_')[-1]))\n",
    "\n",
    "# Encode any categorical variables\n",
    "label_encoder = LabelEncoder()\n",
    "for column in X.select_dtypes(include=['object']).columns:\n",
    "    X[column] = label_encoder.fit_transform(X[column])\n",
    "\n",
    "# Split the dataset into training and testing sets\n",
    "X_train, X_test, y_train, y_test = train_test_split(X, y, test_size=0.2, random_state=42)\n",
    "\n",
    "# Scale the features (standardization)\n",
    "scaler = StandardScaler()\n",
    "X_train = scaler.fit_transform(X_train)\n",
    "X_test = scaler.transform(X_test)\n",
    "\n",
    "# Train KNN model\n",
    "knn = KNeighborsClassifier()\n",
    "knn.fit(X_train, y_train)\n",
    "\n",
    "# Make predictions\n",
    "y_pred_knn = knn.predict(X_test)\n",
    "\n",
    "# Evaluate the model\n",
    "accuracy_knn = accuracy_score(y_test, y_pred_knn)\n",
    "print(f'KNN Accuracy: {accuracy_knn:.2f}')"
   ],
   "id": "4ba3a0d9a8865ae7"
  },
  {
   "metadata": {
    "ExecuteTime": {
     "end_time": "2024-09-27T14:33:07.883782Z",
     "start_time": "2024-09-27T14:33:05.180457Z"
    }
   },
   "cell_type": "code",
   "outputs": [
    {
     "name": "stdout",
     "output_type": "stream",
     "text": [
      "Random Forest Classifier Accuracy:  1.0\n",
      "              precision    recall  f1-score   support\n",
      "\n",
      "           0       1.00      1.00      1.00       828\n",
      "           1       1.00      1.00      1.00       850\n",
      "           2       1.00      1.00      1.00       850\n",
      "           3       1.00      1.00      1.00       854\n",
      "           4       1.00      1.00      1.00       869\n",
      "\n",
      "    accuracy                           1.00      4251\n",
      "   macro avg       1.00      1.00      1.00      4251\n",
      "weighted avg       1.00      1.00      1.00      4251\n"
     ]
    }
   ],
   "execution_count": 9,
   "source": [
    "# RF\n",
    "from sklearn.ensemble import RandomForestClassifier\n",
    "from sklearn.metrics import classification_report, accuracy_score\n",
    "\n",
    "# Random Forest classifier\n",
    "rf = RandomForestClassifier(n_estimators=100, random_state=42)\n",
    "rf.fit(X_train, y_train)\n",
    "\n",
    "# Make predictions\n",
    "y_pred_rf = rf.predict(X_test)\n",
    "\n",
    "# Evaluate the model\n",
    "print(\"Random Forest Classifier Accuracy: \", accuracy_score(y_test, y_pred_rf))\n",
    "print(classification_report(y_test, y_pred_rf))\n"
   ],
   "id": "babffccc8bb2470e"
  },
  {
   "metadata": {
    "ExecuteTime": {
     "end_time": "2024-09-27T14:36:18.882213Z",
     "start_time": "2024-09-27T14:35:47.928267Z"
    }
   },
   "cell_type": "code",
   "outputs": [
    {
     "name": "stderr",
     "output_type": "stream",
     "text": [
      "D:\\Coding_Projects\\erkd\\.venv\\lib\\site-packages\\keras\\src\\layers\\core\\dense.py:87: UserWarning: Do not pass an `input_shape`/`input_dim` argument to a layer. When using Sequential models, prefer using an `Input(shape)` object as the first layer in the model instead.\n",
      "  super().__init__(activity_regularizer=activity_regularizer, **kwargs)\n"
     ]
    },
    {
     "name": "stdout",
     "output_type": "stream",
     "text": [
      "Epoch 1/50\n",
      "\u001B[1m532/532\u001B[0m \u001B[32m━━━━━━━━━━━━━━━━━━━━\u001B[0m\u001B[37m\u001B[0m \u001B[1m2s\u001B[0m 1ms/step - accuracy: 0.6327 - loss: 0.9507 - val_accuracy: 0.9805 - val_loss: 0.0807\n",
      "Epoch 2/50\n",
      "\u001B[1m532/532\u001B[0m \u001B[32m━━━━━━━━━━━━━━━━━━━━\u001B[0m\u001B[37m\u001B[0m \u001B[1m1s\u001B[0m 1ms/step - accuracy: 0.9871 - loss: 0.0583 - val_accuracy: 0.9986 - val_loss: 0.0143\n",
      "Epoch 3/50\n",
      "\u001B[1m532/532\u001B[0m \u001B[32m━━━━━━━━━━━━━━━━━━━━\u001B[0m\u001B[37m\u001B[0m \u001B[1m1s\u001B[0m 1ms/step - accuracy: 0.9988 - loss: 0.0112 - val_accuracy: 0.9991 - val_loss: 0.0058\n",
      "Epoch 4/50\n",
      "\u001B[1m532/532\u001B[0m \u001B[32m━━━━━━━━━━━━━━━━━━━━\u001B[0m\u001B[37m\u001B[0m \u001B[1m1s\u001B[0m 1ms/step - accuracy: 0.9995 - loss: 0.0044 - val_accuracy: 0.9941 - val_loss: 0.0188\n",
      "Epoch 5/50\n",
      "\u001B[1m532/532\u001B[0m \u001B[32m━━━━━━━━━━━━━━━━━━━━\u001B[0m\u001B[37m\u001B[0m \u001B[1m1s\u001B[0m 986us/step - accuracy: 0.9989 - loss: 0.0034 - val_accuracy: 0.9995 - val_loss: 0.0013\n",
      "Epoch 6/50\n",
      "\u001B[1m532/532\u001B[0m \u001B[32m━━━━━━━━━━━━━━━━━━━━\u001B[0m\u001B[37m\u001B[0m \u001B[1m1s\u001B[0m 1ms/step - accuracy: 0.9998 - loss: 0.0011 - val_accuracy: 0.9969 - val_loss: 0.0085\n",
      "Epoch 7/50\n",
      "\u001B[1m532/532\u001B[0m \u001B[32m━━━━━━━━━━━━━━━━━━━━\u001B[0m\u001B[37m\u001B[0m \u001B[1m1s\u001B[0m 1ms/step - accuracy: 0.9997 - loss: 0.0018 - val_accuracy: 1.0000 - val_loss: 6.4597e-04\n",
      "Epoch 8/50\n",
      "\u001B[1m532/532\u001B[0m \u001B[32m━━━━━━━━━━━━━━━━━━━━\u001B[0m\u001B[37m\u001B[0m \u001B[1m1s\u001B[0m 1ms/step - accuracy: 1.0000 - loss: 2.9904e-04 - val_accuracy: 1.0000 - val_loss: 4.1865e-04\n",
      "Epoch 9/50\n",
      "\u001B[1m532/532\u001B[0m \u001B[32m━━━━━━━━━━━━━━━━━━━━\u001B[0m\u001B[37m\u001B[0m \u001B[1m1s\u001B[0m 976us/step - accuracy: 1.0000 - loss: 1.8738e-04 - val_accuracy: 1.0000 - val_loss: 3.0815e-04\n",
      "Epoch 10/50\n",
      "\u001B[1m532/532\u001B[0m \u001B[32m━━━━━━━━━━━━━━━━━━━━\u001B[0m\u001B[37m\u001B[0m \u001B[1m1s\u001B[0m 996us/step - accuracy: 1.0000 - loss: 1.2660e-04 - val_accuracy: 1.0000 - val_loss: 2.2920e-04\n",
      "Epoch 11/50\n",
      "\u001B[1m532/532\u001B[0m \u001B[32m━━━━━━━━━━━━━━━━━━━━\u001B[0m\u001B[37m\u001B[0m \u001B[1m1s\u001B[0m 1ms/step - accuracy: 1.0000 - loss: 9.4373e-05 - val_accuracy: 1.0000 - val_loss: 1.6982e-04\n",
      "Epoch 12/50\n",
      "\u001B[1m532/532\u001B[0m \u001B[32m━━━━━━━━━━━━━━━━━━━━\u001B[0m\u001B[37m\u001B[0m \u001B[1m1s\u001B[0m 992us/step - accuracy: 1.0000 - loss: 6.6192e-05 - val_accuracy: 1.0000 - val_loss: 1.4550e-04\n",
      "Epoch 13/50\n",
      "\u001B[1m532/532\u001B[0m \u001B[32m━━━━━━━━━━━━━━━━━━━━\u001B[0m\u001B[37m\u001B[0m \u001B[1m1s\u001B[0m 1ms/step - accuracy: 1.0000 - loss: 4.8414e-05 - val_accuracy: 1.0000 - val_loss: 1.0278e-04\n",
      "Epoch 14/50\n",
      "\u001B[1m532/532\u001B[0m \u001B[32m━━━━━━━━━━━━━━━━━━━━\u001B[0m\u001B[37m\u001B[0m \u001B[1m1s\u001B[0m 986us/step - accuracy: 1.0000 - loss: 3.4698e-05 - val_accuracy: 1.0000 - val_loss: 8.1988e-05\n",
      "Epoch 15/50\n",
      "\u001B[1m532/532\u001B[0m \u001B[32m━━━━━━━━━━━━━━━━━━━━\u001B[0m\u001B[37m\u001B[0m \u001B[1m1s\u001B[0m 986us/step - accuracy: 1.0000 - loss: 2.3294e-05 - val_accuracy: 1.0000 - val_loss: 6.3946e-05\n",
      "Epoch 16/50\n",
      "\u001B[1m532/532\u001B[0m \u001B[32m━━━━━━━━━━━━━━━━━━━━\u001B[0m\u001B[37m\u001B[0m \u001B[1m1s\u001B[0m 990us/step - accuracy: 1.0000 - loss: 1.6964e-05 - val_accuracy: 1.0000 - val_loss: 4.8327e-05\n",
      "Epoch 17/50\n",
      "\u001B[1m532/532\u001B[0m \u001B[32m━━━━━━━━━━━━━━━━━━━━\u001B[0m\u001B[37m\u001B[0m \u001B[1m1s\u001B[0m 946us/step - accuracy: 1.0000 - loss: 1.2714e-05 - val_accuracy: 1.0000 - val_loss: 4.8394e-05\n",
      "Epoch 18/50\n",
      "\u001B[1m532/532\u001B[0m \u001B[32m━━━━━━━━━━━━━━━━━━━━\u001B[0m\u001B[37m\u001B[0m \u001B[1m1s\u001B[0m 938us/step - accuracy: 1.0000 - loss: 9.4261e-06 - val_accuracy: 1.0000 - val_loss: 3.1980e-05\n",
      "Epoch 19/50\n",
      "\u001B[1m532/532\u001B[0m \u001B[32m━━━━━━━━━━━━━━━━━━━━\u001B[0m\u001B[37m\u001B[0m \u001B[1m1s\u001B[0m 1ms/step - accuracy: 1.0000 - loss: 6.5865e-06 - val_accuracy: 1.0000 - val_loss: 2.8725e-05\n",
      "Epoch 20/50\n",
      "\u001B[1m532/532\u001B[0m \u001B[32m━━━━━━━━━━━━━━━━━━━━\u001B[0m\u001B[37m\u001B[0m \u001B[1m1s\u001B[0m 1ms/step - accuracy: 1.0000 - loss: 5.0647e-06 - val_accuracy: 1.0000 - val_loss: 1.9699e-05\n",
      "Epoch 21/50\n",
      "\u001B[1m532/532\u001B[0m \u001B[32m━━━━━━━━━━━━━━━━━━━━\u001B[0m\u001B[37m\u001B[0m \u001B[1m1s\u001B[0m 984us/step - accuracy: 1.0000 - loss: 3.5269e-06 - val_accuracy: 1.0000 - val_loss: 1.8797e-05\n",
      "Epoch 22/50\n",
      "\u001B[1m532/532\u001B[0m \u001B[32m━━━━━━━━━━━━━━━━━━━━\u001B[0m\u001B[37m\u001B[0m \u001B[1m1s\u001B[0m 1ms/step - accuracy: 1.0000 - loss: 2.6907e-06 - val_accuracy: 1.0000 - val_loss: 1.7887e-05\n",
      "Epoch 23/50\n",
      "\u001B[1m532/532\u001B[0m \u001B[32m━━━━━━━━━━━━━━━━━━━━\u001B[0m\u001B[37m\u001B[0m \u001B[1m1s\u001B[0m 980us/step - accuracy: 1.0000 - loss: 2.0328e-06 - val_accuracy: 1.0000 - val_loss: 1.1514e-05\n",
      "Epoch 24/50\n",
      "\u001B[1m532/532\u001B[0m \u001B[32m━━━━━━━━━━━━━━━━━━━━\u001B[0m\u001B[37m\u001B[0m \u001B[1m1s\u001B[0m 1ms/step - accuracy: 1.0000 - loss: 1.5033e-06 - val_accuracy: 1.0000 - val_loss: 1.0363e-05\n",
      "Epoch 25/50\n",
      "\u001B[1m532/532\u001B[0m \u001B[32m━━━━━━━━━━━━━━━━━━━━\u001B[0m\u001B[37m\u001B[0m \u001B[1m1s\u001B[0m 975us/step - accuracy: 1.0000 - loss: 1.1090e-06 - val_accuracy: 1.0000 - val_loss: 1.0480e-05\n",
      "Epoch 26/50\n",
      "\u001B[1m532/532\u001B[0m \u001B[32m━━━━━━━━━━━━━━━━━━━━\u001B[0m\u001B[37m\u001B[0m \u001B[1m1s\u001B[0m 1ms/step - accuracy: 1.0000 - loss: 7.5819e-07 - val_accuracy: 1.0000 - val_loss: 9.7687e-06\n",
      "Epoch 27/50\n",
      "\u001B[1m532/532\u001B[0m \u001B[32m━━━━━━━━━━━━━━━━━━━━\u001B[0m\u001B[37m\u001B[0m \u001B[1m1s\u001B[0m 974us/step - accuracy: 1.0000 - loss: 5.5465e-07 - val_accuracy: 1.0000 - val_loss: 6.8365e-06\n",
      "Epoch 28/50\n",
      "\u001B[1m532/532\u001B[0m \u001B[32m━━━━━━━━━━━━━━━━━━━━\u001B[0m\u001B[37m\u001B[0m \u001B[1m1s\u001B[0m 1ms/step - accuracy: 1.0000 - loss: 4.2307e-07 - val_accuracy: 1.0000 - val_loss: 6.0291e-06\n",
      "Epoch 29/50\n",
      "\u001B[1m532/532\u001B[0m \u001B[32m━━━━━━━━━━━━━━━━━━━━\u001B[0m\u001B[37m\u001B[0m \u001B[1m1s\u001B[0m 1ms/step - accuracy: 1.0000 - loss: 3.0031e-07 - val_accuracy: 1.0000 - val_loss: 5.0733e-06\n",
      "Epoch 30/50\n",
      "\u001B[1m532/532\u001B[0m \u001B[32m━━━━━━━━━━━━━━━━━━━━\u001B[0m\u001B[37m\u001B[0m \u001B[1m1s\u001B[0m 1ms/step - accuracy: 1.0000 - loss: 2.4022e-07 - val_accuracy: 1.0000 - val_loss: 3.5934e-06\n",
      "Epoch 31/50\n",
      "\u001B[1m532/532\u001B[0m \u001B[32m━━━━━━━━━━━━━━━━━━━━\u001B[0m\u001B[37m\u001B[0m \u001B[1m1s\u001B[0m 959us/step - accuracy: 1.0000 - loss: 1.5947e-07 - val_accuracy: 1.0000 - val_loss: 3.0539e-06\n",
      "Epoch 32/50\n",
      "\u001B[1m532/532\u001B[0m \u001B[32m━━━━━━━━━━━━━━━━━━━━\u001B[0m\u001B[37m\u001B[0m \u001B[1m1s\u001B[0m 1ms/step - accuracy: 1.0000 - loss: 1.3048e-07 - val_accuracy: 1.0000 - val_loss: 2.8799e-06\n",
      "Epoch 33/50\n",
      "\u001B[1m532/532\u001B[0m \u001B[32m━━━━━━━━━━━━━━━━━━━━\u001B[0m\u001B[37m\u001B[0m \u001B[1m1s\u001B[0m 1ms/step - accuracy: 1.0000 - loss: 8.9599e-08 - val_accuracy: 1.0000 - val_loss: 2.4570e-06\n",
      "Epoch 34/50\n",
      "\u001B[1m532/532\u001B[0m \u001B[32m━━━━━━━━━━━━━━━━━━━━\u001B[0m\u001B[37m\u001B[0m \u001B[1m1s\u001B[0m 996us/step - accuracy: 1.0000 - loss: 6.4530e-08 - val_accuracy: 1.0000 - val_loss: 2.3655e-06\n",
      "Epoch 35/50\n",
      "\u001B[1m532/532\u001B[0m \u001B[32m━━━━━━━━━━━━━━━━━━━━\u001B[0m\u001B[37m\u001B[0m \u001B[1m1s\u001B[0m 951us/step - accuracy: 1.0000 - loss: 4.7567e-08 - val_accuracy: 1.0000 - val_loss: 2.0136e-06\n",
      "Epoch 36/50\n",
      "\u001B[1m532/532\u001B[0m \u001B[32m━━━━━━━━━━━━━━━━━━━━\u001B[0m\u001B[37m\u001B[0m \u001B[1m1s\u001B[0m 941us/step - accuracy: 1.0000 - loss: 3.7218e-08 - val_accuracy: 1.0000 - val_loss: 2.5368e-06\n",
      "Epoch 37/50\n",
      "\u001B[1m532/532\u001B[0m \u001B[32m━━━━━━━━━━━━━━━━━━━━\u001B[0m\u001B[37m\u001B[0m \u001B[1m1s\u001B[0m 1ms/step - accuracy: 1.0000 - loss: 3.0274e-08 - val_accuracy: 1.0000 - val_loss: 1.9528e-06\n",
      "Epoch 38/50\n",
      "\u001B[1m532/532\u001B[0m \u001B[32m━━━━━━━━━━━━━━━━━━━━\u001B[0m\u001B[37m\u001B[0m \u001B[1m1s\u001B[0m 954us/step - accuracy: 1.0000 - loss: 2.0850e-08 - val_accuracy: 1.0000 - val_loss: 2.3013e-06\n",
      "Epoch 39/50\n",
      "\u001B[1m532/532\u001B[0m \u001B[32m━━━━━━━━━━━━━━━━━━━━\u001B[0m\u001B[37m\u001B[0m \u001B[1m1s\u001B[0m 934us/step - accuracy: 1.0000 - loss: 1.5856e-08 - val_accuracy: 1.0000 - val_loss: 2.0431e-06\n",
      "Epoch 40/50\n",
      "\u001B[1m532/532\u001B[0m \u001B[32m━━━━━━━━━━━━━━━━━━━━\u001B[0m\u001B[37m\u001B[0m \u001B[1m1s\u001B[0m 963us/step - accuracy: 1.0000 - loss: 1.2417e-08 - val_accuracy: 1.0000 - val_loss: 1.0945e-06\n",
      "Epoch 41/50\n",
      "\u001B[1m532/532\u001B[0m \u001B[32m━━━━━━━━━━━━━━━━━━━━\u001B[0m\u001B[37m\u001B[0m \u001B[1m1s\u001B[0m 967us/step - accuracy: 1.0000 - loss: 9.5924e-09 - val_accuracy: 1.0000 - val_loss: 1.2419e-06\n",
      "Epoch 42/50\n",
      "\u001B[1m532/532\u001B[0m \u001B[32m━━━━━━━━━━━━━━━━━━━━\u001B[0m\u001B[37m\u001B[0m \u001B[1m1s\u001B[0m 956us/step - accuracy: 1.0000 - loss: 8.0587e-09 - val_accuracy: 1.0000 - val_loss: 1.2283e-06\n",
      "Epoch 43/50\n",
      "\u001B[1m532/532\u001B[0m \u001B[32m━━━━━━━━━━━━━━━━━━━━\u001B[0m\u001B[37m\u001B[0m \u001B[1m1s\u001B[0m 942us/step - accuracy: 1.0000 - loss: 6.1709e-09 - val_accuracy: 1.0000 - val_loss: 1.9537e-06\n",
      "Epoch 44/50\n",
      "\u001B[1m532/532\u001B[0m \u001B[32m━━━━━━━━━━━━━━━━━━━━\u001B[0m\u001B[37m\u001B[0m \u001B[1m1s\u001B[0m 981us/step - accuracy: 1.0000 - loss: 4.6160e-09 - val_accuracy: 1.0000 - val_loss: 3.2328e-06\n",
      "Epoch 45/50\n",
      "\u001B[1m532/532\u001B[0m \u001B[32m━━━━━━━━━━━━━━━━━━━━\u001B[0m\u001B[37m\u001B[0m \u001B[1m1s\u001B[0m 1ms/step - accuracy: 1.0000 - loss: 3.8138e-09 - val_accuracy: 1.0000 - val_loss: 1.3431e-06\n",
      "Epoch 46/50\n",
      "\u001B[1m532/532\u001B[0m \u001B[32m━━━━━━━━━━━━━━━━━━━━\u001B[0m\u001B[37m\u001B[0m \u001B[1m1s\u001B[0m 979us/step - accuracy: 1.0000 - loss: 3.1020e-09 - val_accuracy: 1.0000 - val_loss: 9.7721e-07\n",
      "Epoch 47/50\n",
      "\u001B[1m532/532\u001B[0m \u001B[32m━━━━━━━━━━━━━━━━━━━━\u001B[0m\u001B[37m\u001B[0m \u001B[1m1s\u001B[0m 972us/step - accuracy: 1.0000 - loss: 4.3551e-09 - val_accuracy: 1.0000 - val_loss: 1.1802e-06\n",
      "Epoch 48/50\n",
      "\u001B[1m532/532\u001B[0m \u001B[32m━━━━━━━━━━━━━━━━━━━━\u001B[0m\u001B[37m\u001B[0m \u001B[1m1s\u001B[0m 956us/step - accuracy: 1.0000 - loss: 2.2927e-09 - val_accuracy: 1.0000 - val_loss: 8.1708e-07\n",
      "Epoch 49/50\n",
      "\u001B[1m532/532\u001B[0m \u001B[32m━━━━━━━━━━━━━━━━━━━━\u001B[0m\u001B[37m\u001B[0m \u001B[1m1s\u001B[0m 969us/step - accuracy: 1.0000 - loss: 2.3416e-09 - val_accuracy: 1.0000 - val_loss: 1.0021e-06\n",
      "Epoch 50/50\n",
      "\u001B[1m532/532\u001B[0m \u001B[32m━━━━━━━━━━━━━━━━━━━━\u001B[0m\u001B[37m\u001B[0m \u001B[1m1s\u001B[0m 1ms/step - accuracy: 1.0000 - loss: 1.6760e-09 - val_accuracy: 1.0000 - val_loss: 2.4856e-06\n",
      "\u001B[1m133/133\u001B[0m \u001B[32m━━━━━━━━━━━━━━━━━━━━\u001B[0m\u001B[37m\u001B[0m \u001B[1m0s\u001B[0m 622us/step - accuracy: 1.0000 - loss: 3.5974e-06\n",
      "ANN Accuracy:  1.0\n"
     ]
    },
    {
     "data": {
      "text/plain": "<Figure size 640x480 with 1 Axes>",
      "image/png": "[encoded data removed]"
     },
     "metadata": {},
     "output_type": "display_data"
    }
   ],
   "execution_count": 11,
   "source": [
    "import pandas as pd\n",
    "from sklearn.model_selection import train_test_split\n",
    "from sklearn.preprocessing import StandardScaler, LabelEncoder, OneHotEncoder\n",
    "from sklearn.metrics import classification_report, accuracy_score\n",
    "import tensorflow as tf\n",
    "from tensorflow.keras import Sequential\n",
    "from tensorflow.keras.layers import Dense\n",
    "import matplotlib.pyplot as plt\n",
    "\n",
    "# Load the dataset\n",
    "df = pd.read_csv('demographics_csv/balanced_age.csv')\n",
    "\n",
    "# Separate features and target\n",
    "X = df.drop(columns=[col for col in df.columns if col.startswith('AGE_CLASS_')])\n",
    "y = df[[col for col in df.columns if col.startswith('AGE_CLASS_')]].idxmax(axis=1).apply(lambda x: int(x.split('_')[-1]))\n",
    "\n",
    "# Encode any categorical variables\n",
    "label_encoder = LabelEncoder()\n",
    "for column in X.select_dtypes(include=['object']).columns:\n",
    "    X[column] = label_encoder.fit_transform(X[column])\n",
    "\n",
    "# One-hot encode the target variable for ANN\n",
    "encoder = OneHotEncoder(sparse_output=False)\n",
    "y_train_encoded = encoder.fit_transform(y_train.values.reshape(-1, 1))\n",
    "y_test_encoded = encoder.transform(y_test.values.reshape(-1, 1))\n",
    "\n",
    "# Split the dataset into training and testing sets\n",
    "X_train, X_test, y_train, y_test = train_test_split(X, y, test_size=0.2, random_state=42)\n",
    "\n",
    "# Scale the features (standardization)\n",
    "scaler = StandardScaler()\n",
    "X_train = scaler.fit_transform(X_train)\n",
    "X_test = scaler.transform(X_test)\n",
    "\n",
    "# Build the ANN model\n",
    "model = Sequential()\n",
    "model.add(Dense(64, activation='relu', input_shape=(X_train.shape[1],)))\n",
    "model.add(Dense(32, activation='relu'))\n",
    "model.add(Dense(16, activation='relu'))\n",
    "model.add(Dense(y_train_encoded.shape[1], activation='softmax'))\n",
    "\n",
    "# Compile the model\n",
    "model.compile(optimizer='adam', loss='categorical_crossentropy', metrics=['accuracy'])\n",
    "\n",
    "# Train the model\n",
    "history = model.fit(X_train, y_train_encoded, epochs=50, batch_size=32, validation_data=(X_test, y_test_encoded))\n",
    "\n",
    "# Evaluate the model\n",
    "test_loss, test_acc = model.evaluate(X_test, y_test_encoded)\n",
    "print(\"ANN Accuracy: \", test_acc)\n",
    "\n",
    "# Plotting training & validation accuracy\n",
    "plt.plot(history.history['accuracy'], label='train accuracy')\n",
    "plt.plot(history.history['val_accuracy'], label='test accuracy')\n",
    "plt.title('ANN Model Accuracy')\n",
    "plt.ylabel('Accuracy')\n",
    "plt.xlabel('Epoch')\n",
    "plt.legend()\n",
    "plt.show()"
   ],
   "id": "a3ec6a61c9ab8874"
  },
  {
   "cell_type": "code",
   "outputs": [],
   "source": [],
   "metadata": {
    "collapsed": false
   },
   "id": "7bd5e0dd32eb0a06"
  }
 ],
 "metadata": {
  "kernelspec": {
   "display_name": "Python 3",
   "language": "python",
   "name": "python3"
  },
  "language_info": {
   "codemirror_mode": {
    "name": "ipython",
    "version": 2
   },
   "file_extension": ".py",
   "mimetype": "text/x-python",
   "name": "python",
   "nbconvert_exporter": "python",
   "pygments_lexer": "ipython2",
   "version": "2.7.6"
  }
 },
 "nbformat": 4,
 "nbformat_minor": 5
}
