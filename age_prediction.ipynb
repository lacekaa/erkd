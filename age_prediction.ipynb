{
 "cells": [
  {
   "cell_type": "code",
   "id": "initial_id",
   "metadata": {
    "collapsed": true,
    "ExecuteTime": {
     "end_time": "2024-10-08T12:26:37.306591Z",
     "start_time": "2024-10-08T12:25:28.925792Z"
    }
   },
   "source": [
    "import pandas as pd\n",
    "\n",
    "def transform_age_classes_one_hot(csv_path, output_csv):\n",
    "    \"\"\"\n",
    "    Transforms the age column into one-hot encoded classes and maps them as follows:\n",
    "    10-20 -> AGE_CLASS_0\n",
    "    20-30 -> AGE_CLASS_1\n",
    "    30-40 -> AGE_CLASS_2\n",
    "    40-50 -> AGE_CLASS_3\n",
    "    50+   -> AGE_CLASS_4\n",
    "\n",
    "    Parameters:\n",
    "    - csv_path (str): The path to the input CSV file.\n",
    "    - output_csv (str): The path to save the transformed CSV file.\n",
    "    \"\"\"\n",
    "    # Load the CSV file into a pandas DataFrame\n",
    "    df = pd.read_csv(csv_path)\n",
    "\n",
    "    # Define the bins and corresponding labels (age classes)\n",
    "    bins = [10, 20, 30, 40, 50, float('inf')]  # float('inf') is used to cover ages greater than 50\n",
    "    labels = [0, 1, 2, 3, 4]  # New labels for the classes\n",
    "\n",
    "    # Create a new column 'AGE_CLASS' based on the age bins\n",
    "    df['AGE_CLASS'] = pd.cut(df['AGE'], bins=bins, labels=labels, right=False)\n",
    "\n",
    "    # Drop rows where the AGE column is not in the defined range (i.e., NaN in AGE_CLASS)\n",
    "    df = df.dropna(subset=['AGE_CLASS'])\n",
    "\n",
    "    # Convert AGE_CLASS to integer type (as cut returns category type)\n",
    "    df['AGE_CLASS'] = df['AGE_CLASS'].astype(int)\n",
    "\n",
    "    # One-hot encode the AGE_CLASS column\n",
    "    one_hot_encoded_df = pd.get_dummies(df, columns=['AGE_CLASS'], prefix='AGE_CLASS')\n",
    "\n",
    "    # Save the one-hot encoded DataFrame to a new CSV file\n",
    "    one_hot_encoded_df.to_csv(output_csv, index=False)\n",
    "\n",
    "    print(f\"Transformed data with one-hot encoded age classes saved to {output_csv}\")\n",
    "\n",
    "# Example usage:\n",
    "csv_path = 'demographics_csv/demo_keystroke.csv'  # Your input CSV path\n",
    "output_csv = 'demographics_csv/age_one_hot_all.csv'  # Output CSV path\n",
    "\n",
    "transform_age_classes_one_hot(csv_path, output_csv)\n"
   ],
   "outputs": [
    {
     "name": "stderr",
     "output_type": "stream",
     "text": [
      "C:\\Users\\laras\\AppData\\Local\\Temp\\ipykernel_8552\\3624466757.py:17: DtypeWarning: Columns (41) have mixed types. Specify dtype option on import or set low_memory=False.\n",
      "  df = pd.read_csv(csv_path)\n"
     ]
    },
    {
     "name": "stdout",
     "output_type": "stream",
     "text": [
      "Transformed data with one-hot encoded age classes saved to demographics_csv/age_one_hot_all.csv\n"
     ]
    }
   ],
   "execution_count": 2
  },
  {
   "metadata": {
    "ExecuteTime": {
     "end_time": "2024-10-08T12:26:44.807407Z",
     "start_time": "2024-10-08T12:26:37.318028Z"
    }
   },
   "cell_type": "code",
   "source": [
    "import pandas as pd\n",
    "\n",
    "# Load the CSV file into a pandas DataFrame\n",
    "csv_path = 'demographics_csv/age_one_hot_all.csv'  # Replace with your actual CSV file path\n",
    "df = pd.read_csv(csv_path)\n",
    "\n",
    "# Display the first 5 rows of the DataFrame\n",
    "print(df.head())\n"
   ],
   "id": "a199c984d01a627",
   "outputs": [
    {
     "name": "stderr",
     "output_type": "stream",
     "text": [
      "C:\\Users\\laras\\AppData\\Local\\Temp\\ipykernel_8552\\585927553.py:5: DtypeWarning: Columns (41) have mixed types. Specify dtype option on import or set low_memory=False.\n",
      "  df = pd.read_csv(csv_path)\n"
     ]
    },
    {
     "name": "stdout",
     "output_type": "stream",
     "text": [
      "   PARTICIPANT_ID  AGE  GENDER  HAS_TAKEN_TYPING_COURSE COUNTRY  LAYOUT  \\\n",
      "0            1002   31  female                        0      PH  qwerty   \n",
      "1            1002   31  female                        0      PH  qwerty   \n",
      "2            1002   31  female                        0      PH  qwerty   \n",
      "3            1002   31  female                        0      PH  qwerty   \n",
      "4            1002   31  female                        0      PH  qwerty   \n",
      "\n",
      "  NATIVE_LANGUAGE FINGERS  TIME_SPENT_TYPING KEYBOARD_TYPE  ...  \\\n",
      "0              en    9-10                  2        laptop  ...   \n",
      "1              en    9-10                  2        laptop  ...   \n",
      "2              en    9-10                  2        laptop  ...   \n",
      "3              en    9-10                  2        laptop  ...   \n",
      "4              en    9-10                  2        laptop  ...   \n",
      "\n",
      "   KEY_HOLD_TIME_STD  ERROR_RATE_y  CONSECUTIVE_KEYS  CONSECUTIVE_KEYS_TIME  \\\n",
      "0       1.317593e+07           0.0            1684.0              -148244.1   \n",
      "1       1.297708e+07           0.0            8472.0              -148234.4   \n",
      "2       1.312969e+07           0.0            7269.0              -148240.3   \n",
      "3       1.318996e+07           0.0            6932.0              -148239.5   \n",
      "4       1.304505e+07           0.0            3282.0              -148237.9   \n",
      "\n",
      "   SPEED_CLASS  AGE_CLASS_0  AGE_CLASS_1 AGE_CLASS_2 AGE_CLASS_3  AGE_CLASS_4  \n",
      "0           10        False        False        True       False        False  \n",
      "1           10        False        False        True       False        False  \n",
      "2           10        False        False        True       False        False  \n",
      "3           10        False        False        True       False        False  \n",
      "4           10        False        False        True       False        False  \n",
      "\n",
      "[5 rows x 49 columns]\n"
     ]
    }
   ],
   "execution_count": 3
  },
  {
   "metadata": {
    "ExecuteTime": {
     "end_time": "2024-10-08T12:27:03.384351Z",
     "start_time": "2024-10-08T12:26:44.808415Z"
    }
   },
   "cell_type": "code",
   "source": [
    "import pandas as pd\n",
    "from sklearn.model_selection import train_test_split\n",
    "from sklearn.preprocessing import StandardScaler\n",
    "from sklearn.neighbors import KNeighborsClassifier\n",
    "from sklearn.metrics import classification_report, accuracy_score\n",
    "\n",
    "def balance_dataset(csv_path, output_csv):\n",
    "    \"\"\"\n",
    "    Balances the dataset so that each class has an equal number of samples by undersampling.\n",
    "    \n",
    "    Parameters:\n",
    "    - csv_path (str): The path to the input CSV file with one-hot encoded age classes.\n",
    "    - output_csv (str): The path to save the balanced CSV file.\n",
    "    \"\"\"\n",
    "    # Load the CSV file into a pandas DataFrame\n",
    "    df = pd.read_csv(csv_path)\n",
    "\n",
    "    # Assuming that AGE_CLASS columns are one-hot encoded, first identify the classes\n",
    "    age_classes_columns = [col for col in df.columns if col.startswith('AGE_CLASS_')]\n",
    "    \n",
    "    # Create a new column 'AGE_CLASS' that contains the original class number (not one-hot encoded)\n",
    "    df['AGE_CLASS'] = df[age_classes_columns].idxmax(axis=1).apply(lambda x: int(x.split('_')[-1]))\n",
    "\n",
    "    # Find the minimum number of samples in any age class\n",
    "    min_samples = df['AGE_CLASS'].value_counts().min()\n",
    "\n",
    "    # Balance the dataset by undersampling each class to have `min_samples` number of rows\n",
    "    balanced_df = df.groupby('AGE_CLASS').apply(lambda x: x.sample(n=min_samples, random_state=42)).reset_index(drop=True)\n",
    "\n",
    "    # Drop the temporary 'AGE_CLASS' column since you still have one-hot encoded columns\n",
    "    balanced_df = balanced_df.drop(columns=['AGE_CLASS'])\n",
    "\n",
    "    # Save the balanced DataFrame to a new CSV file\n",
    "    balanced_df.to_csv(output_csv, index=False)\n",
    "\n",
    "    print(f\"Balanced dataset saved to {output_csv}\")\n",
    "\n",
    "# Step 1: Create the balanced dataset\n",
    "input_csv = 'demographics_csv/age_one_hot_all.csv'  # Input CSV path\n",
    "output_csv = 'demographics_csv/balanced_age.csv'  # Output CSV path\n",
    "\n",
    "balance_dataset(input_csv, output_csv)"
   ],
   "id": "f2de3cc279dabe9a",
   "outputs": [
    {
     "name": "stderr",
     "output_type": "stream",
     "text": [
      "C:\\Users\\laras\\AppData\\Local\\Temp\\ipykernel_8552\\3095505637.py:16: DtypeWarning: Columns (41) have mixed types. Specify dtype option on import or set low_memory=False.\n",
      "  df = pd.read_csv(csv_path)\n",
      "C:\\Users\\laras\\AppData\\Local\\Temp\\ipykernel_8552\\3095505637.py:28: DeprecationWarning: DataFrameGroupBy.apply operated on the grouping columns. This behavior is deprecated, and in a future version of pandas the grouping columns will be excluded from the operation. Either pass `include_groups=False` to exclude the groupings or explicitly select the grouping columns after groupby to silence this warning.\n",
      "  balanced_df = df.groupby('AGE_CLASS').apply(lambda x: x.sample(n=min_samples, random_state=42)).reset_index(drop=True)\n"
     ]
    },
    {
     "name": "stdout",
     "output_type": "stream",
     "text": [
      "Balanced dataset saved to demographics_csv/balanced_age.csv\n"
     ]
    }
   ],
   "execution_count": 4
  },
  {
   "metadata": {
    "ExecuteTime": {
     "end_time": "2024-10-09T14:43:21.909581Z",
     "start_time": "2024-10-09T14:41:46.701482Z"
    }
   },
   "cell_type": "code",
   "source": [
    "import pandas as pd\n",
    "from sklearn.model_selection import train_test_split\n",
    "from sklearn.preprocessing import StandardScaler, LabelEncoder\n",
    "from sklearn.neighbors import KNeighborsClassifier\n",
    "from sklearn.inspection import permutation_importance\n",
    "from sklearn.metrics import accuracy_score\n",
    "import matplotlib.pyplot as plt\n",
    "\n",
    "def visualize_feature_importance(csv_path):\n",
    "    # Step 1: Read the CSV file\n",
    "    df = pd.read_csv(csv_path, low_memory=False)\n",
    "\n",
    "    # Step 2: Preprocess data\n",
    "    df = df.dropna()\n",
    "    label_encoder = LabelEncoder()\n",
    "    df['GENDER'] = label_encoder.fit_transform(df['GENDER'])\n",
    "    features = [\n",
    "        'AVG_WPM_15', 'AVG_IKI', 'ECPC', 'KSPC', 'ROR', 'D1U1', 'D1U2', 'D1U3', 'D1D2', 'D1D3', 'Z_SCORE'\n",
    "    ]\n",
    "    X = df[features]\n",
    "    y = df['GENDER']\n",
    "    participant_ids = df['PARTICIPANT_ID']\n",
    "\n",
    "    # Ensure unique PARTICIPANT_IDs in train and test sets\n",
    "    unique_ids = participant_ids.unique()\n",
    "    train_ids, test_ids = train_test_split(unique_ids, test_size=0.2, random_state=42)\n",
    "    train_mask = participant_ids.isin(train_ids)\n",
    "    test_mask = participant_ids.isin(test_ids)\n",
    "\n",
    "    X_train, X_test = X[train_mask], X[test_mask]\n",
    "    y_train, y_test = y[train_mask], y[test_mask]\n",
    "\n",
    "    # Scale features\n",
    "    scaler = StandardScaler()\n",
    "    X_train = scaler.fit_transform(X_train)\n",
    "    X_test = scaler.transform(X_test)\n",
    "\n",
    "    # Train KNN model\n",
    "    knn = KNeighborsClassifier(n_neighbors=5)\n",
    "    knn.fit(X_train, y_train)\n",
    "\n",
    "    # Calculate feature importance using permutation importance\n",
    "    result = permutation_importance(knn, X_test, y_test, n_repeats=10, random_state=42, n_jobs=2)\n",
    "    importance = result.importances_mean\n",
    "\n",
    "    # Visualize feature importance\n",
    "    feature_importance = pd.Series(importance, index=features)\n",
    "    feature_importance.sort_values(ascending=False, inplace=True)\n",
    "\n",
    "    plt.figure(figsize=(10, 6))\n",
    "    feature_importance.plot(kind='bar')\n",
    "    plt.title('Feature Importance')\n",
    "    plt.xlabel('Features')\n",
    "    plt.ylabel('Importance')\n",
    "    plt.show()\n",
    "\n",
    "    # Print accuracy\n",
    "    y_pred = knn.predict(X_test)\n",
    "    accuracy = accuracy_score(y_test, y_pred)\n",
    "    print(f'Accuracy: {accuracy:.2f}')\n",
    "\n",
    "# Example usage:\n",
    "csv_path = 'demographics_csv/demo_keystroke.csv'  # Path to the CSV file\n",
    "visualize_feature_importance(csv_path)"
   ],
   "id": "4ba3a0d9a8865ae7",
   "outputs": [
    {
     "data": {
      "text/plain": "<Figure size 1000x600 with 1 Axes>",
      "image/png": "[encoded data removed]"
     },
     "metadata": {},
     "output_type": "display_data"
    },
    {
     "name": "stdout",
     "output_type": "stream",
     "text": [
      "Accuracy: 0.56\n"
     ]
    }
   ],
   "execution_count": 1
  },
  {
   "metadata": {
    "ExecuteTime": {
     "end_time": "2024-10-09T14:44:53.281110Z",
     "start_time": "2024-10-09T14:44:50.484517Z"
    }
   },
   "cell_type": "code",
   "source": [
    "import pandas as pd\n",
    "from sklearn.model_selection import train_test_split\n",
    "from sklearn.preprocessing import StandardScaler, LabelEncoder\n",
    "from sklearn.ensemble import RandomForestClassifier\n",
    "from sklearn.metrics import classification_report, accuracy_score\n",
    "\n",
    "# Load the dataset\n",
    "df = pd.read_csv('demographics_csv/balanced_age.csv')\n",
    "\n",
    "# Separate features and target\n",
    "X = df.drop(columns=[col for col in df.columns if col.startswith('AGE_CLASS_')])\n",
    "y = df[[col for col in df.columns if col.startswith('AGE_CLASS_')]].idxmax(axis=1).apply(lambda x: int(x.split('_')[-1]))\n",
    "participant_ids = df['PARTICIPANT_ID']\n",
    "\n",
    "# Encode any categorical variables\n",
    "label_encoder = LabelEncoder()\n",
    "for column in X.select_dtypes(include=['object']).columns:\n",
    "    X[column] = label_encoder.fit_transform(X[column])\n",
    "\n",
    "# Ensure unique PARTICIPANT_IDs in train and test sets\n",
    "unique_ids = participant_ids.unique()\n",
    "train_ids, test_ids = train_test_split(unique_ids, test_size=0.2, random_state=42)\n",
    "train_mask = participant_ids.isin(train_ids)\n",
    "test_mask = participant_ids.isin(test_ids)\n",
    "\n",
    "X_train, X_test = X[train_mask], X[test_mask]\n",
    "y_train, y_test = y[train_mask], y[test_mask]\n",
    "\n",
    "# Scale the features (standardization)\n",
    "scaler = StandardScaler()\n",
    "X_train = scaler.fit_transform(X_train)\n",
    "X_test = scaler.transform(X_test)\n",
    "\n",
    "# Random Forest classifier\n",
    "rf = RandomForestClassifier(n_estimators=100, random_state=42)\n",
    "rf.fit(X_train, y_train)\n",
    "\n",
    "# Make predictions\n",
    "y_pred_rf = rf.predict(X_test)\n",
    "\n",
    "# Evaluate the model\n",
    "print(\"Random Forest Classifier Accuracy: \", accuracy_score(y_test, y_pred_rf))\n",
    "print(classification_report(y_test, y_pred_rf))"
   ],
   "id": "babffccc8bb2470e",
   "outputs": [
    {
     "name": "stdout",
     "output_type": "stream",
     "text": [
      "Random Forest Classifier Accuracy:  0.6671630677587491\n",
      "              precision    recall  f1-score   support\n",
      "\n",
      "           0       0.96      1.00      0.98      1045\n",
      "           1       0.60      0.88      0.71       789\n",
      "           2       0.67      0.32      0.43       688\n",
      "           3       0.52      1.00      0.68       726\n",
      "           4       0.00      0.00      0.00       781\n",
      "\n",
      "    accuracy                           0.67      4029\n",
      "   macro avg       0.55      0.64      0.56      4029\n",
      "weighted avg       0.57      0.67      0.59      4029\n"
     ]
    }
   ],
   "execution_count": 3
  },
  {
   "metadata": {
    "ExecuteTime": {
     "end_time": "2024-10-09T14:46:31.120030Z",
     "start_time": "2024-10-09T14:45:54.853765Z"
    }
   },
   "cell_type": "code",
   "source": [
    "import pandas as pd\n",
    "from sklearn.model_selection import train_test_split\n",
    "from sklearn.preprocessing import StandardScaler, LabelEncoder, OneHotEncoder\n",
    "from sklearn.metrics import classification_report, accuracy_score\n",
    "import tensorflow as tf\n",
    "from tensorflow.keras import Sequential\n",
    "from tensorflow.keras.layers import Dense\n",
    "import matplotlib.pyplot as plt\n",
    "\n",
    "# Load the dataset\n",
    "df = pd.read_csv('demographics_csv/balanced_age.csv')\n",
    "\n",
    "# Separate features and target\n",
    "X = df.drop(columns=[col for col in df.columns if col.startswith('AGE_CLASS_')])\n",
    "y = df[[col for col in df.columns if col.startswith('AGE_CLASS_')]].idxmax(axis=1).apply(lambda x: int(x.split('_')[-1]))\n",
    "participant_ids = df['PARTICIPANT_ID']\n",
    "\n",
    "# Encode any categorical variables\n",
    "label_encoder = LabelEncoder()\n",
    "for column in X.select_dtypes(include=['object']).columns:\n",
    "    X[column] = label_encoder.fit_transform(X[column])\n",
    "\n",
    "# Ensure unique PARTICIPANT_IDs in train and test sets\n",
    "unique_ids = participant_ids.unique()\n",
    "train_ids, test_ids = train_test_split(unique_ids, test_size=0.2, random_state=42)\n",
    "train_mask = participant_ids.isin(train_ids)\n",
    "test_mask = participant_ids.isin(test_ids)\n",
    "\n",
    "X_train, X_test = X[train_mask], X[test_mask]\n",
    "y_train, y_test = y[train_mask], y[test_mask]\n",
    "\n",
    "# Scale the features (standardization)\n",
    "scaler = StandardScaler()\n",
    "X_train = scaler.fit_transform(X_train)\n",
    "X_test = scaler.transform(X_test)\n",
    "\n",
    "# One-hot encode the target variable for ANN\n",
    "encoder = OneHotEncoder(sparse_output=False)\n",
    "y_train_encoded = encoder.fit_transform(y_train.values.reshape(-1, 1))\n",
    "y_test_encoded = encoder.transform(y_test.values.reshape(-1, 1))\n",
    "\n",
    "# Build the ANN model\n",
    "model = Sequential()\n",
    "model.add(Dense(64, activation='relu', input_shape=(X_train.shape[1],)))\n",
    "model.add(Dense(32, activation='relu'))\n",
    "model.add(Dense(16, activation='relu'))\n",
    "model.add(Dense(y_train_encoded.shape[1], activation='softmax'))\n",
    "\n",
    "# Compile the model\n",
    "model.compile(optimizer='adam', loss='categorical_crossentropy', metrics=['accuracy'])\n",
    "\n",
    "# Train the model\n",
    "history = model.fit(X_train, y_train_encoded, epochs=50, batch_size=32, validation_data=(X_test, y_test_encoded))\n",
    "\n",
    "# Evaluate the model\n",
    "test_loss, test_acc = model.evaluate(X_test, y_test_encoded)\n",
    "print(\"ANN Accuracy: \", test_acc)\n",
    "\n",
    "# Plotting training & validation accuracy\n",
    "plt.plot(history.history['accuracy'], label='train accuracy')\n",
    "plt.plot(history.history['val_accuracy'], label='test accuracy')\n",
    "plt.title('ANN Model Accuracy')\n",
    "plt.ylabel('Accuracy')\n",
    "plt.xlabel('Epoch')\n",
    "plt.legend()\n",
    "plt.show()"
   ],
   "id": "a3ec6a61c9ab8874",
   "outputs": [
    {
     "name": "stdout",
     "output_type": "stream",
     "text": [
      "Epoch 1/50\n"
     ]
    },
    {
     "name": "stderr",
     "output_type": "stream",
     "text": [
      "D:\\Coding_Projects\\erkd\\.venv\\lib\\site-packages\\keras\\src\\layers\\core\\dense.py:87: UserWarning: Do not pass an `input_shape`/`input_dim` argument to a layer. When using Sequential models, prefer using an `Input(shape)` object as the first layer in the model instead.\n",
      "  super().__init__(activity_regularizer=activity_regularizer, **kwargs)\n"
     ]
    },
    {
     "name": "stdout",
     "output_type": "stream",
     "text": [
      "\u001B[1m539/539\u001B[0m \u001B[32m━━━━━━━━━━━━━━━━━━━━\u001B[0m\u001B[37m\u001B[0m \u001B[1m2s\u001B[0m 1ms/step - accuracy: 0.6276 - loss: 0.9366 - val_accuracy: 0.5354 - val_loss: 1.5194\n",
      "Epoch 2/50\n",
      "\u001B[1m539/539\u001B[0m \u001B[32m━━━━━━━━━━━━━━━━━━━━\u001B[0m\u001B[37m\u001B[0m \u001B[1m1s\u001B[0m 1ms/step - accuracy: 0.9973 - loss: 0.0279 - val_accuracy: 0.5235 - val_loss: 1.9358\n",
      "Epoch 3/50\n",
      "\u001B[1m539/539\u001B[0m \u001B[32m━━━━━━━━━━━━━━━━━━━━\u001B[0m\u001B[37m\u001B[0m \u001B[1m1s\u001B[0m 1ms/step - accuracy: 0.9999 - loss: 0.0042 - val_accuracy: 0.5197 - val_loss: 2.2171\n",
      "Epoch 4/50\n",
      "\u001B[1m539/539\u001B[0m \u001B[32m━━━━━━━━━━━━━━━━━━━━\u001B[0m\u001B[37m\u001B[0m \u001B[1m1s\u001B[0m 962us/step - accuracy: 0.9992 - loss: 0.0038 - val_accuracy: 0.4947 - val_loss: 2.5345\n",
      "Epoch 5/50\n",
      "\u001B[1m539/539\u001B[0m \u001B[32m━━━━━━━━━━━━━━━━━━━━\u001B[0m\u001B[37m\u001B[0m \u001B[1m1s\u001B[0m 971us/step - accuracy: 0.9997 - loss: 0.0022 - val_accuracy: 0.5200 - val_loss: 2.7200\n",
      "Epoch 6/50\n",
      "\u001B[1m539/539\u001B[0m \u001B[32m━━━━━━━━━━━━━━━━━━━━\u001B[0m\u001B[37m\u001B[0m \u001B[1m1s\u001B[0m 1ms/step - accuracy: 1.0000 - loss: 3.5800e-04 - val_accuracy: 0.5081 - val_loss: 2.8185\n",
      "Epoch 7/50\n",
      "\u001B[1m539/539\u001B[0m \u001B[32m━━━━━━━━━━━━━━━━━━━━\u001B[0m\u001B[37m\u001B[0m \u001B[1m1s\u001B[0m 985us/step - accuracy: 1.0000 - loss: 2.0938e-04 - val_accuracy: 0.5168 - val_loss: 2.8817\n",
      "Epoch 8/50\n",
      "\u001B[1m539/539\u001B[0m \u001B[32m━━━━━━━━━━━━━━━━━━━━\u001B[0m\u001B[37m\u001B[0m \u001B[1m1s\u001B[0m 963us/step - accuracy: 1.0000 - loss: 1.4319e-04 - val_accuracy: 0.5048 - val_loss: 3.0464\n",
      "Epoch 9/50\n",
      "\u001B[1m539/539\u001B[0m \u001B[32m━━━━━━━━━━━━━━━━━━━━\u001B[0m\u001B[37m\u001B[0m \u001B[1m1s\u001B[0m 955us/step - accuracy: 1.0000 - loss: 9.4787e-05 - val_accuracy: 0.5128 - val_loss: 3.1102\n",
      "Epoch 10/50\n",
      "\u001B[1m539/539\u001B[0m \u001B[32m━━━━━━━━━━━━━━━━━━━━\u001B[0m\u001B[37m\u001B[0m \u001B[1m1s\u001B[0m 918us/step - accuracy: 1.0000 - loss: 7.3846e-05 - val_accuracy: 0.5205 - val_loss: 3.1766\n",
      "Epoch 11/50\n",
      "\u001B[1m539/539\u001B[0m \u001B[32m━━━━━━━━━━━━━━━━━━━━\u001B[0m\u001B[37m\u001B[0m \u001B[1m1s\u001B[0m 965us/step - accuracy: 1.0000 - loss: 4.9647e-05 - val_accuracy: 0.5220 - val_loss: 3.3017\n",
      "Epoch 12/50\n",
      "\u001B[1m539/539\u001B[0m \u001B[32m━━━━━━━━━━━━━━━━━━━━\u001B[0m\u001B[37m\u001B[0m \u001B[1m1s\u001B[0m 943us/step - accuracy: 1.0000 - loss: 3.7215e-05 - val_accuracy: 0.5259 - val_loss: 3.3909\n",
      "Epoch 13/50\n",
      "\u001B[1m539/539\u001B[0m \u001B[32m━━━━━━━━━━━━━━━━━━━━\u001B[0m\u001B[37m\u001B[0m \u001B[1m1s\u001B[0m 965us/step - accuracy: 1.0000 - loss: 2.5774e-05 - val_accuracy: 0.5259 - val_loss: 3.5207\n",
      "Epoch 14/50\n",
      "\u001B[1m539/539\u001B[0m \u001B[32m━━━━━━━━━━━━━━━━━━━━\u001B[0m\u001B[37m\u001B[0m \u001B[1m1s\u001B[0m 955us/step - accuracy: 1.0000 - loss: 1.8845e-05 - val_accuracy: 0.5180 - val_loss: 3.6074\n",
      "Epoch 15/50\n",
      "\u001B[1m539/539\u001B[0m \u001B[32m━━━━━━━━━━━━━━━━━━━━\u001B[0m\u001B[37m\u001B[0m \u001B[1m1s\u001B[0m 963us/step - accuracy: 1.0000 - loss: 1.4137e-05 - val_accuracy: 0.5197 - val_loss: 3.7136\n",
      "Epoch 16/50\n",
      "\u001B[1m539/539\u001B[0m \u001B[32m━━━━━━━━━━━━━━━━━━━━\u001B[0m\u001B[37m\u001B[0m \u001B[1m1s\u001B[0m 939us/step - accuracy: 1.0000 - loss: 1.0247e-05 - val_accuracy: 0.5244 - val_loss: 3.8523\n",
      "Epoch 17/50\n",
      "\u001B[1m539/539\u001B[0m \u001B[32m━━━━━━━━━━━━━━━━━━━━\u001B[0m\u001B[37m\u001B[0m \u001B[1m1s\u001B[0m 948us/step - accuracy: 1.0000 - loss: 7.4829e-06 - val_accuracy: 0.5240 - val_loss: 3.9139\n",
      "Epoch 18/50\n",
      "\u001B[1m539/539\u001B[0m \u001B[32m━━━━━━━━━━━━━━━━━━━━\u001B[0m\u001B[37m\u001B[0m \u001B[1m1s\u001B[0m 951us/step - accuracy: 1.0000 - loss: 5.4568e-06 - val_accuracy: 0.5252 - val_loss: 4.0137\n",
      "Epoch 19/50\n",
      "\u001B[1m539/539\u001B[0m \u001B[32m━━━━━━━━━━━━━━━━━━━━\u001B[0m\u001B[37m\u001B[0m \u001B[1m1s\u001B[0m 944us/step - accuracy: 1.0000 - loss: 4.0442e-06 - val_accuracy: 0.5269 - val_loss: 4.1787\n",
      "Epoch 20/50\n",
      "\u001B[1m539/539\u001B[0m \u001B[32m━━━━━━━━━━━━━━━━━━━━\u001B[0m\u001B[37m\u001B[0m \u001B[1m1s\u001B[0m 931us/step - accuracy: 1.0000 - loss: 2.9049e-06 - val_accuracy: 0.5272 - val_loss: 4.2949\n",
      "Epoch 21/50\n",
      "\u001B[1m539/539\u001B[0m \u001B[32m━━━━━━━━━━━━━━━━━━━━\u001B[0m\u001B[37m\u001B[0m \u001B[1m1s\u001B[0m 943us/step - accuracy: 1.0000 - loss: 2.1475e-06 - val_accuracy: 0.5284 - val_loss: 4.3785\n",
      "Epoch 22/50\n",
      "\u001B[1m539/539\u001B[0m \u001B[32m━━━━━━━━━━━━━━━━━━━━\u001B[0m\u001B[37m\u001B[0m \u001B[1m1s\u001B[0m 964us/step - accuracy: 1.0000 - loss: 1.6000e-06 - val_accuracy: 0.5240 - val_loss: 4.4896\n",
      "Epoch 23/50\n",
      "\u001B[1m539/539\u001B[0m \u001B[32m━━━━━━━━━━━━━━━━━━━━\u001B[0m\u001B[37m\u001B[0m \u001B[1m1s\u001B[0m 1ms/step - accuracy: 1.0000 - loss: 1.1441e-06 - val_accuracy: 0.5299 - val_loss: 4.5651\n",
      "Epoch 24/50\n",
      "\u001B[1m539/539\u001B[0m \u001B[32m━━━━━━━━━━━━━━━━━━━━\u001B[0m\u001B[37m\u001B[0m \u001B[1m1s\u001B[0m 986us/step - accuracy: 1.0000 - loss: 8.6402e-07 - val_accuracy: 0.5262 - val_loss: 4.7384\n",
      "Epoch 25/50\n",
      "\u001B[1m539/539\u001B[0m \u001B[32m━━━━━━━━━━━━━━━━━━━━\u001B[0m\u001B[37m\u001B[0m \u001B[1m1s\u001B[0m 1ms/step - accuracy: 1.0000 - loss: 6.3335e-07 - val_accuracy: 0.5282 - val_loss: 4.7874\n",
      "Epoch 26/50\n",
      "\u001B[1m539/539\u001B[0m \u001B[32m━━━━━━━━━━━━━━━━━━━━\u001B[0m\u001B[37m\u001B[0m \u001B[1m1s\u001B[0m 1ms/step - accuracy: 1.0000 - loss: 4.6033e-07 - val_accuracy: 0.5287 - val_loss: 4.9636\n",
      "Epoch 27/50\n",
      "\u001B[1m539/539\u001B[0m \u001B[32m━━━━━━━━━━━━━━━━━━━━\u001B[0m\u001B[37m\u001B[0m \u001B[1m1s\u001B[0m 1ms/step - accuracy: 1.0000 - loss: 3.5230e-07 - val_accuracy: 0.5329 - val_loss: 5.0213\n",
      "Epoch 28/50\n",
      "\u001B[1m539/539\u001B[0m \u001B[32m━━━━━━━━━━━━━━━━━━━━\u001B[0m\u001B[37m\u001B[0m \u001B[1m1s\u001B[0m 1ms/step - accuracy: 1.0000 - loss: 2.5924e-07 - val_accuracy: 0.5282 - val_loss: 5.1468\n",
      "Epoch 29/50\n",
      "\u001B[1m539/539\u001B[0m \u001B[32m━━━━━━━━━━━━━━━━━━━━\u001B[0m\u001B[37m\u001B[0m \u001B[1m1s\u001B[0m 1ms/step - accuracy: 1.0000 - loss: 1.8640e-07 - val_accuracy: 0.5299 - val_loss: 5.2065\n",
      "Epoch 30/50\n",
      "\u001B[1m539/539\u001B[0m \u001B[32m━━━━━━━━━━━━━━━━━━━━\u001B[0m\u001B[37m\u001B[0m \u001B[1m1s\u001B[0m 1ms/step - accuracy: 1.0000 - loss: 1.4133e-07 - val_accuracy: 0.5314 - val_loss: 5.3478\n",
      "Epoch 31/50\n",
      "\u001B[1m539/539\u001B[0m \u001B[32m━━━━━━━━━━━━━━━━━━━━\u001B[0m\u001B[37m\u001B[0m \u001B[1m1s\u001B[0m 1ms/step - accuracy: 1.0000 - loss: 1.0193e-07 - val_accuracy: 0.5316 - val_loss: 5.4348\n",
      "Epoch 32/50\n",
      "\u001B[1m539/539\u001B[0m \u001B[32m━━━━━━━━━━━━━━━━━━━━\u001B[0m\u001B[37m\u001B[0m \u001B[1m1s\u001B[0m 1ms/step - accuracy: 1.0000 - loss: 7.3320e-08 - val_accuracy: 0.5321 - val_loss: 5.5367\n",
      "Epoch 33/50\n",
      "\u001B[1m539/539\u001B[0m \u001B[32m━━━━━━━━━━━━━━━━━━━━\u001B[0m\u001B[37m\u001B[0m \u001B[1m1s\u001B[0m 994us/step - accuracy: 1.0000 - loss: 5.1580e-08 - val_accuracy: 0.5316 - val_loss: 5.5616\n",
      "Epoch 34/50\n",
      "\u001B[1m539/539\u001B[0m \u001B[32m━━━━━━━━━━━━━━━━━━━━\u001B[0m\u001B[37m\u001B[0m \u001B[1m1s\u001B[0m 1ms/step - accuracy: 1.0000 - loss: 3.5193e-08 - val_accuracy: 0.5309 - val_loss: 5.6779\n",
      "Epoch 35/50\n",
      "\u001B[1m539/539\u001B[0m \u001B[32m━━━━━━━━━━━━━━━━━━━━\u001B[0m\u001B[37m\u001B[0m \u001B[1m1s\u001B[0m 1ms/step - accuracy: 1.0000 - loss: 2.6466e-08 - val_accuracy: 0.5326 - val_loss: 5.7920\n",
      "Epoch 36/50\n",
      "\u001B[1m539/539\u001B[0m \u001B[32m━━━━━━━━━━━━━━━━━━━━\u001B[0m\u001B[37m\u001B[0m \u001B[1m1s\u001B[0m 1ms/step - accuracy: 1.0000 - loss: 1.9114e-08 - val_accuracy: 0.5326 - val_loss: 5.8278\n",
      "Epoch 37/50\n",
      "\u001B[1m539/539\u001B[0m \u001B[32m━━━━━━━━━━━━━━━━━━━━\u001B[0m\u001B[37m\u001B[0m \u001B[1m1s\u001B[0m 1ms/step - accuracy: 1.0000 - loss: 1.3946e-08 - val_accuracy: 0.5329 - val_loss: 5.9324\n",
      "Epoch 38/50\n",
      "\u001B[1m539/539\u001B[0m \u001B[32m━━━━━━━━━━━━━━━━━━━━\u001B[0m\u001B[37m\u001B[0m \u001B[1m1s\u001B[0m 1ms/step - accuracy: 1.0000 - loss: 9.6717e-09 - val_accuracy: 0.5334 - val_loss: 5.9321\n",
      "Epoch 39/50\n",
      "\u001B[1m539/539\u001B[0m \u001B[32m━━━━━━━━━━━━━━━━━━━━\u001B[0m\u001B[37m\u001B[0m \u001B[1m1s\u001B[0m 1ms/step - accuracy: 1.0000 - loss: 7.0599e-09 - val_accuracy: 0.5334 - val_loss: 6.0248\n",
      "Epoch 40/50\n",
      "\u001B[1m539/539\u001B[0m \u001B[32m━━━━━━━━━━━━━━━━━━━━\u001B[0m\u001B[37m\u001B[0m \u001B[1m1s\u001B[0m 1ms/step - accuracy: 1.0000 - loss: 5.1122e-09 - val_accuracy: 0.5336 - val_loss: 6.0656\n",
      "Epoch 41/50\n",
      "\u001B[1m539/539\u001B[0m \u001B[32m━━━━━━━━━━━━━━━━━━━━\u001B[0m\u001B[37m\u001B[0m \u001B[1m1s\u001B[0m 1ms/step - accuracy: 1.0000 - loss: 3.7325e-09 - val_accuracy: 0.5326 - val_loss: 6.1144\n",
      "Epoch 42/50\n",
      "\u001B[1m539/539\u001B[0m \u001B[32m━━━━━━━━━━━━━━━━━━━━\u001B[0m\u001B[37m\u001B[0m \u001B[1m1s\u001B[0m 974us/step - accuracy: 1.0000 - loss: 3.1572e-09 - val_accuracy: 0.5326 - val_loss: 6.2535\n",
      "Epoch 43/50\n",
      "\u001B[1m539/539\u001B[0m \u001B[32m━━━━━━━━━━━━━━━━━━━━\u001B[0m\u001B[37m\u001B[0m \u001B[1m1s\u001B[0m 997us/step - accuracy: 1.0000 - loss: 1.9397e-09 - val_accuracy: 0.5344 - val_loss: 6.2745\n",
      "Epoch 44/50\n",
      "\u001B[1m539/539\u001B[0m \u001B[32m━━━━━━━━━━━━━━━━━━━━\u001B[0m\u001B[37m\u001B[0m \u001B[1m1s\u001B[0m 1ms/step - accuracy: 1.0000 - loss: 1.4528e-09 - val_accuracy: 0.5344 - val_loss: 6.2658\n",
      "Epoch 45/50\n",
      "\u001B[1m539/539\u001B[0m \u001B[32m━━━━━━━━━━━━━━━━━━━━\u001B[0m\u001B[37m\u001B[0m \u001B[1m1s\u001B[0m 962us/step - accuracy: 1.0000 - loss: 1.1150e-09 - val_accuracy: 0.5369 - val_loss: 6.3581\n",
      "Epoch 46/50\n",
      "\u001B[1m539/539\u001B[0m \u001B[32m━━━━━━━━━━━━━━━━━━━━\u001B[0m\u001B[37m\u001B[0m \u001B[1m1s\u001B[0m 964us/step - accuracy: 1.0000 - loss: 9.9356e-10 - val_accuracy: 0.5371 - val_loss: 6.4993\n",
      "Epoch 47/50\n",
      "\u001B[1m539/539\u001B[0m \u001B[32m━━━━━━━━━━━━━━━━━━━━\u001B[0m\u001B[37m\u001B[0m \u001B[1m1s\u001B[0m 966us/step - accuracy: 1.0000 - loss: 1.0390e-09 - val_accuracy: 0.5371 - val_loss: 6.4945\n",
      "Epoch 48/50\n",
      "\u001B[1m539/539\u001B[0m \u001B[32m━━━━━━━━━━━━━━━━━━━━\u001B[0m\u001B[37m\u001B[0m \u001B[1m1s\u001B[0m 963us/step - accuracy: 1.0000 - loss: 1.1120e-09 - val_accuracy: 0.5359 - val_loss: 6.6571\n",
      "Epoch 49/50\n",
      "\u001B[1m539/539\u001B[0m \u001B[32m━━━━━━━━━━━━━━━━━━━━\u001B[0m\u001B[37m\u001B[0m \u001B[1m1s\u001B[0m 962us/step - accuracy: 1.0000 - loss: 1.2887e-09 - val_accuracy: 0.5356 - val_loss: 7.1983\n",
      "Epoch 50/50\n",
      "\u001B[1m539/539\u001B[0m \u001B[32m━━━━━━━━━━━━━━━━━━━━\u001B[0m\u001B[37m\u001B[0m \u001B[1m1s\u001B[0m 950us/step - accuracy: 0.9977 - loss: 0.0214 - val_accuracy: 0.5113 - val_loss: 5.5137\n",
      "\u001B[1m126/126\u001B[0m \u001B[32m━━━━━━━━━━━━━━━━━━━━\u001B[0m\u001B[37m\u001B[0m \u001B[1m0s\u001B[0m 681us/step - accuracy: 0.6501 - loss: 3.7724\n",
      "ANN Accuracy:  0.5112931132316589\n"
     ]
    },
    {
     "data": {
      "text/plain": "<Figure size 640x480 with 1 Axes>",
      "image/png": "[encoded data removed]"
     },
     "metadata": {},
     "output_type": "display_data"
    }
   ],
   "execution_count": 4
  },
  {
   "cell_type": "code",
   "source": [],
   "metadata": {
    "collapsed": false,
    "ExecuteTime": {
     "end_time": "2024-10-08T12:40:07.115880Z",
     "start_time": "2024-10-08T12:40:07.095907Z"
    }
   },
   "id": "7bd5e0dd32eb0a06",
   "outputs": [],
   "execution_count": 7
  }
 ],
 "metadata": {
  "kernelspec": {
   "display_name": "Python 3",
   "language": "python",
   "name": "python3"
  },
  "language_info": {
   "codemirror_mode": {
    "name": "ipython",
    "version": 2
   },
   "file_extension": ".py",
   "mimetype": "text/x-python",
   "name": "python",
   "nbconvert_exporter": "python",
   "pygments_lexer": "ipython2",
   "version": "2.7.6"
  }
 },
 "nbformat": 4,
 "nbformat_minor": 5
}
