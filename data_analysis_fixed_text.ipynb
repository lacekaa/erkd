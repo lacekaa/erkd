{
 "cells": [
  {
   "cell_type": "code",
   "execution_count": 2,
   "metadata": {
    "ExecuteTime": {
     "end_time": "2024-06-06T14:40:41.856817900Z",
     "start_time": "2024-06-06T14:40:38.853686100Z"
    }
   },
   "outputs": [],
   "source": [
    "import numpy as np\n",
    "import pandas as pd\n",
    "import nltk\n",
    "import seaborn as sn\n",
    "import matplotlib.pyplot as plt\n",
    "import language_tool_python\n",
    "import scipy.stats as stats\n",
    "\n",
    "tool = language_tool_python.LanguageTool('en-US')\n",
    "is_bad_rule = lambda rule: rule.message == 'Possible spelling mistake found.' and len(rule.replacements) and \\\n",
    "                           rule.replacements[0][0].isupper()"
   ]
  },
  {
   "cell_type": "markdown",
   "metadata": {},
   "source": [
    "## Data importation"
   ]
  },
  {
   "cell_type": "code",
   "execution_count": 3,
   "metadata": {
    "ExecuteTime": {
     "end_time": "2024-06-06T14:40:41.935820300Z",
     "start_time": "2024-06-06T14:40:41.859818300Z"
    }
   },
   "outputs": [],
   "source": [
    "df_fixed = pd.read_csv('data/fixed_text_typing_dataset.csv', sep=';')\n",
    "df_freq = pd.read_csv('data/frequency_dataset.csv', sep=';')\n",
    "df_user = pd.read_csv('data/participants_information.csv', sep=';')\n",
    "\n",
    "df_freq = df_freq.rename(columns={'User ID': 'userId'})"
   ]
  },
  {
   "cell_type": "markdown",
   "metadata": {},
   "source": [
    "## Sentences reconstruction and feature extraction"
   ]
  },
  {
   "cell_type": "code",
   "execution_count": 4,
   "metadata": {
    "ExecuteTime": {
     "end_time": "2024-06-06T14:40:45.000818900Z",
     "start_time": "2024-06-06T14:40:42.045856300Z"
    }
   },
   "outputs": [],
   "source": [
    "# reconstruct users' sentences from the keycode in df_fixed\n",
    "\n",
    "sentence = ''\n",
    "uppercase = False\n",
    "uppercase_tmp = False\n",
    "i_start = 0\n",
    "i_end = 0\n",
    "text_fixed = pd.DataFrame(columns=['sentence', 'idx_start', 'idx_end'])\n",
    "\n",
    "df_fixed.keyCode = df_fixed.keyCode.astype(str)\n",
    "\n",
    "for i in range(len(df_fixed)):\n",
    "    if i > 0 and (df_fixed.userId[i] != df_fixed.userId[i - 1] or df_fixed.emotionIndex[i] != df_fixed.emotionIndex[\n",
    "        i - 1]):  #df_fixed._id[i][:-2] != df_fixed._id[i-1][:-2]:\n",
    "        i_end = i - 1\n",
    "        if len(text_fixed) == 62:\n",
    "            ids_start = [i for i in range(len(sentence)) if sentence[i:i + 4] == 'once']\n",
    "            text_fixed = text_fixed.append(pd.DataFrame([[sentence, i_start, i_start + ids_start[1] - 1]],\n",
    "                                                        columns=['sentence', 'idx_start', 'idx_end']),\n",
    "                                           ignore_index=True)\n",
    "            text_fixed = text_fixed.append(\n",
    "                pd.DataFrame([[sentence, i_start + ids_start[1], i_start + ids_start[2] - 1]],\n",
    "                             columns=['sentence', 'idx_start', 'idx_end']), ignore_index=True)\n",
    "            text_fixed = text_fixed.append(\n",
    "                pd.DataFrame([[sentence, i_start + ids_start[2], i_end]], columns=['sentence', 'idx_start', 'idx_end']),\n",
    "                ignore_index=True)\n",
    "        elif len(text_fixed) == 134 or len(text_fixed) == 190:\n",
    "            ids_start = [i for i in range(len(sentence)) if sentence[i:i + 4] == 'Once']\n",
    "            text_fixed = text_fixed.append(pd.DataFrame([[sentence, i_start, i_start + ids_start[1] - 1]],\n",
    "                                                        columns=['sentence', 'idx_start', 'idx_end']),\n",
    "                                           ignore_index=True)\n",
    "            text_fixed = text_fixed.append(\n",
    "                pd.DataFrame([[sentence, i_start + ids_start[1], i_end]], columns=['sentence', 'idx_start', 'idx_end']),\n",
    "                ignore_index=True)\n",
    "        else:\n",
    "            if sentence[0].islower() and sentence[1].isupper():\n",
    "                sentence = sentence.swapcase()\n",
    "            text_fixed = text_fixed.append(\n",
    "                pd.DataFrame([[sentence, i_start, i_end]], columns=['sentence', 'idx_start', 'idx_end']),\n",
    "                ignore_index=True)\n",
    "        i_start = i\n",
    "        sentence = ''\n",
    "        uppercase = False\n",
    "        uppercase_tmp = False\n",
    "    if df_fixed.keyCode[i] == '\\\\b':  # delete key\n",
    "        sentence = sentence[:max(0, len(sentence) - 1)]\n",
    "        uppercase_tmp = False\n",
    "        continue\n",
    "    if df_fixed.keyCode[i] == '\\\\u0014':  # caps lock key\n",
    "        uppercase = not uppercase\n",
    "        continue\n",
    "    if df_fixed.keyCode[i] == '\\\\u0010' and not uppercase:  # shift key\n",
    "        uppercase_tmp = True\n",
    "        continue\n",
    "    if df_fixed.keyCode[i] == '¼':  # comma key\n",
    "        sentence += ','\n",
    "        uppercase_tmp = False\n",
    "        continue\n",
    "    if df_fixed.keyCode[i] == 'ß':  # exclamation mark key\n",
    "        sentence += '!'\n",
    "        uppercase_tmp = False\n",
    "        continue\n",
    "    if df_fixed.keyCode[i] == '¾':  # dot key\n",
    "        sentence += '.'\n",
    "        uppercase_tmp = False\n",
    "        continue\n",
    "    if df_fixed.keyCode[i] == '4    ':  # apostrophe key\n",
    "        sentence += \"'\"\n",
    "        uppercase_tmp = False\n",
    "        continue\n",
    "    if df_fixed.keyCode[i] == '6    ':  # dash key\n",
    "        sentence += \"-\"\n",
    "        uppercase_tmp = False\n",
    "        continue\n",
    "    if df_fixed.keyCode[i] == '¿':  # colon key\n",
    "        sentence += \":\"\n",
    "        uppercase_tmp = False\n",
    "        continue\n",
    "    if uppercase:\n",
    "        sentence += df_fixed.keyCode[i].upper()\n",
    "        continue\n",
    "    if uppercase_tmp:\n",
    "        sentence += df_fixed.keyCode[i].upper()\n",
    "        uppercase_tmp = False\n",
    "        continue\n",
    "    sentence += df_fixed.keyCode[i]\n",
    "\n",
    "text_fixed = text_fixed.append(pd.DataFrame([[sentence, i_start, i]], columns=['sentence', 'idx_start', 'idx_end']),\n",
    "                               ignore_index=True)"
   ]
  },
  {
   "cell_type": "markdown",
   "metadata": {},
   "source": [
    "### Fixed text"
   ]
  },
  {
   "cell_type": "code",
   "execution_count": 5,
   "metadata": {
    "ExecuteTime": {
     "end_time": "2024-06-06T14:40:45.016819800Z",
     "start_time": "2024-06-06T14:40:45.002817900Z"
    }
   },
   "outputs": [],
   "source": [
    "# fixed text that users have been asked to write\n",
    "\n",
    "gold_fixed = {\n",
    "    'N': 'Once there was a cat and a mouse. Usually, cats eat mice, and mice run away from cats. But this cat and this mouse liked each other very much. They liked each other so much that they lived together.',\n",
    "    'H': 'We can not help falling in love with cute and funny babies. Their beautiful and joyful laughter makes us happy.',\n",
    "    'C': 'Beautiful nature and calm music are always relaxing. The soft sounds are so pleasant to listen to. Watching the superb nature calms our body and soul.',\n",
    "    'S': 'The boy yells at his father to wake him up. But the father is dead. The poor boy is very sad. He realized that his father is gone forever.',\n",
    "    'A': 'Jake has a horrible temper, especially when he drinks alcohol. He gets andgry and agressive when he is drunk. He savagely  beats and violeates his wife.'\n",
    "}"
   ]
  },
  {
   "cell_type": "code",
   "execution_count": 6,
   "metadata": {
    "ExecuteTime": {
     "end_time": "2024-06-06T14:40:45.063688100Z",
     "start_time": "2024-06-06T14:40:45.024818800Z"
    }
   },
   "outputs": [
    {
     "data": {
      "text/plain": "   userId emotionIndex  index keyCode   keyDown     keyUp D1U1  D1U2    D1D2  \\\n0     100            N   3448       o  1,58E+12  1,58E+12   90  2556  2479.0   \n1     100            N   3449       n  1,58E+12  1,58E+12   77   258   131.0   \n2     100            N   3450       c  1,58E+12  1,58E+12  127   613   519.0   \n3     100            N   3451       e  1,58E+12  1,58E+12   94   276   200.0   \n4     100            N   3452          1,58E+12  1,58E+12   76  2104  2032.0   \n\n   U1D2  U1U2 answer  \n0  2389  2466    NaN  \n1    54   181    NaN  \n2   392   486    NaN  \n3   106   182    NaN  \n4  1956  2028    NaN  ",
      "text/html": "<div>\n<style scoped>\n    .dataframe tbody tr th:only-of-type {\n        vertical-align: middle;\n    }\n\n    .dataframe tbody tr th {\n        vertical-align: top;\n    }\n\n    .dataframe thead th {\n        text-align: right;\n    }\n</style>\n<table border=\"1\" class=\"dataframe\">\n  <thead>\n    <tr style=\"text-align: right;\">\n      <th></th>\n      <th>userId</th>\n      <th>emotionIndex</th>\n      <th>index</th>\n      <th>keyCode</th>\n      <th>keyDown</th>\n      <th>keyUp</th>\n      <th>D1U1</th>\n      <th>D1U2</th>\n      <th>D1D2</th>\n      <th>U1D2</th>\n      <th>U1U2</th>\n      <th>answer</th>\n    </tr>\n  </thead>\n  <tbody>\n    <tr>\n      <th>0</th>\n      <td>100</td>\n      <td>N</td>\n      <td>3448</td>\n      <td>o</td>\n      <td>1,58E+12</td>\n      <td>1,58E+12</td>\n      <td>90</td>\n      <td>2556</td>\n      <td>2479.0</td>\n      <td>2389</td>\n      <td>2466</td>\n      <td>NaN</td>\n    </tr>\n    <tr>\n      <th>1</th>\n      <td>100</td>\n      <td>N</td>\n      <td>3449</td>\n      <td>n</td>\n      <td>1,58E+12</td>\n      <td>1,58E+12</td>\n      <td>77</td>\n      <td>258</td>\n      <td>131.0</td>\n      <td>54</td>\n      <td>181</td>\n      <td>NaN</td>\n    </tr>\n    <tr>\n      <th>2</th>\n      <td>100</td>\n      <td>N</td>\n      <td>3450</td>\n      <td>c</td>\n      <td>1,58E+12</td>\n      <td>1,58E+12</td>\n      <td>127</td>\n      <td>613</td>\n      <td>519.0</td>\n      <td>392</td>\n      <td>486</td>\n      <td>NaN</td>\n    </tr>\n    <tr>\n      <th>3</th>\n      <td>100</td>\n      <td>N</td>\n      <td>3451</td>\n      <td>e</td>\n      <td>1,58E+12</td>\n      <td>1,58E+12</td>\n      <td>94</td>\n      <td>276</td>\n      <td>200.0</td>\n      <td>106</td>\n      <td>182</td>\n      <td>NaN</td>\n    </tr>\n    <tr>\n      <th>4</th>\n      <td>100</td>\n      <td>N</td>\n      <td>3452</td>\n      <td></td>\n      <td>1,58E+12</td>\n      <td>1,58E+12</td>\n      <td>76</td>\n      <td>2104</td>\n      <td>2032.0</td>\n      <td>1956</td>\n      <td>2028</td>\n      <td>NaN</td>\n    </tr>\n  </tbody>\n</table>\n</div>"
     },
     "execution_count": 6,
     "metadata": {},
     "output_type": "execute_result"
    }
   ],
   "source": [
    "# functions to extract features from the df_fixed table\n",
    "df_fixed = df_fixed.drop(['D1U3', 'D1D3'], axis=1)\n",
    "df_fixed.head()"
   ]
  },
  {
   "cell_type": "code",
   "execution_count": 7,
   "metadata": {
    "ExecuteTime": {
     "end_time": "2024-06-06T14:40:45.066711300Z",
     "start_time": "2024-06-06T14:40:45.051852400Z"
    }
   },
   "outputs": [],
   "source": [
    "def extract_editDistance_fixed(gold_fixed, emotion, sentence):\n",
    "    return nltk.edit_distance(sentence, gold_fixed[emotion])\n",
    "\n",
    "\n",
    "def extract_nbKeystroke(val, start, end):\n",
    "    return val[end] - val[start] + 1\n",
    "\n",
    "\n",
    "def extract_mean(val, start, end):\n",
    "    return np.mean(val[start:end + 1])\n",
    "\n",
    "\n",
    "def extract_std(val, start, end):\n",
    "    return np.std(val[start:end + 1])\n",
    "\n",
    "\n",
    "def extract_answer(val, start, end):\n",
    "    for i in range(start, end + 1):\n",
    "        if val[i] != np.nan:\n",
    "            return val[i]\n",
    "    return np.nan"
   ]
  },
  {
   "cell_type": "code",
   "execution_count": 8,
   "metadata": {
    "ExecuteTime": {
     "end_time": "2024-06-06T14:40:50.602686600Z",
     "start_time": "2024-06-06T14:40:45.068686500Z"
    }
   },
   "outputs": [
    {
     "data": {
      "text/plain": "  idx_start idx_end  userId emotionIndex  \\\n0         0     282     100            N   \n1       283     422     100            H   \n2       423     656     113            N   \n3       657     840     113            C   \n4       841     978     113            H   \n\n                                            sentence  editDistance  \\\n0  once there was a cat and a mouse. usually , ca...            26   \n1  We can not help falling in love with cute and ...             2   \n2  Once there was a cat and a mouse\\u0010. Usaual...            23   \n3  Beautiful nature and calm music are always rel...             2   \n4  We can not help falling in love with cute and ...             2   \n\n   nbKeystroke answer  \n0          283    NaN  \n1          140      R  \n2          234    NaN  \n3          184      R  \n4          138      R  ",
      "text/html": "<div>\n<style scoped>\n    .dataframe tbody tr th:only-of-type {\n        vertical-align: middle;\n    }\n\n    .dataframe tbody tr th {\n        vertical-align: top;\n    }\n\n    .dataframe thead th {\n        text-align: right;\n    }\n</style>\n<table border=\"1\" class=\"dataframe\">\n  <thead>\n    <tr style=\"text-align: right;\">\n      <th></th>\n      <th>idx_start</th>\n      <th>idx_end</th>\n      <th>userId</th>\n      <th>emotionIndex</th>\n      <th>sentence</th>\n      <th>editDistance</th>\n      <th>nbKeystroke</th>\n      <th>answer</th>\n    </tr>\n  </thead>\n  <tbody>\n    <tr>\n      <th>0</th>\n      <td>0</td>\n      <td>282</td>\n      <td>100</td>\n      <td>N</td>\n      <td>once there was a cat and a mouse. usually , ca...</td>\n      <td>26</td>\n      <td>283</td>\n      <td>NaN</td>\n    </tr>\n    <tr>\n      <th>1</th>\n      <td>283</td>\n      <td>422</td>\n      <td>100</td>\n      <td>H</td>\n      <td>We can not help falling in love with cute and ...</td>\n      <td>2</td>\n      <td>140</td>\n      <td>R</td>\n    </tr>\n    <tr>\n      <th>2</th>\n      <td>423</td>\n      <td>656</td>\n      <td>113</td>\n      <td>N</td>\n      <td>Once there was a cat and a mouse\\u0010. Usaual...</td>\n      <td>23</td>\n      <td>234</td>\n      <td>NaN</td>\n    </tr>\n    <tr>\n      <th>3</th>\n      <td>657</td>\n      <td>840</td>\n      <td>113</td>\n      <td>C</td>\n      <td>Beautiful nature and calm music are always rel...</td>\n      <td>2</td>\n      <td>184</td>\n      <td>R</td>\n    </tr>\n    <tr>\n      <th>4</th>\n      <td>841</td>\n      <td>978</td>\n      <td>113</td>\n      <td>H</td>\n      <td>We can not help falling in love with cute and ...</td>\n      <td>2</td>\n      <td>138</td>\n      <td>R</td>\n    </tr>\n  </tbody>\n</table>\n</div>"
     },
     "execution_count": 8,
     "metadata": {},
     "output_type": "execute_result"
    }
   ],
   "source": [
    "# key_features = ['D1U1', 'D1U2', 'D1D2', 'U1D2', 'U1U2']\n",
    "# \n",
    "# text_fixed['userId'] = df_fixed.userId[text_fixed.idx_start].values\n",
    "# text_fixed['emotionIndex'] = df_fixed.emotionIndex[text_fixed.idx_start].values\n",
    "# text_fixed = text_fixed.reindex(columns=['idx_start', 'idx_end', 'userId', 'emotionIndex', 'sentence'])\n",
    "# text_fixed['editDistance'] = text_fixed.apply(\n",
    "#     lambda x: extract_editDistance_fixed(gold_fixed, x['emotionIndex'], x['sentence']), axis=1)\n",
    "# text_fixed['nbKeystroke'] = text_fixed.apply(\n",
    "#     lambda x: extract_nbKeystroke(df_fixed.index, x['idx_start'], x['idx_end']), axis=1)\n",
    "# text_fixed['answer'] = text_fixed.apply(lambda x: extract_answer(df_fixed.answer, x['idx_start'], x['idx_end']), axis=1)\n",
    "# \n",
    "# for feat in key_features:\n",
    "#     df_fixed[feat] = df_fixed[feat].apply(lambda x: np.nan if np.abs(x) > 1570000000000 else x)\n",
    "#     text_fixed[feat + '_mean'] = text_fixed.apply(lambda x: extract_mean(df_fixed[feat], x['idx_start'], x['idx_end']),\n",
    "#                                                   axis=1)\n",
    "#     text_fixed[feat + '_std'] = text_fixed.apply(lambda x: extract_std(df_fixed[feat], x['idx_start'], x['idx_end']),\n",
    "#                                                  axis=1)\n",
    "# \n",
    "# text_fixed.head()\n",
    "\n",
    "\n",
    "# altered due to ufunc error: UFuncTypeError: ufunc 'absolute' did not contain a loop with signature matching types <class 'numpy.dtypes.StrDType'> -> None\n",
    "\n",
    "# Convert the key features columns to numeric, setting errors='coerce' to convert non-numeric values to NaN\n",
    "\n",
    "key_features = ['D1U1', 'D1U2', 'D1D2', 'U1D2', 'U1U2']\n",
    "\n",
    "for feat in key_features:\n",
    "    df_fixed[feat] = pd.to_numeric(df_fixed[feat], errors='coerce')\n",
    "\n",
    "# Apply the lambda function\n",
    "for feat in key_features:\n",
    "    df_fixed[feat] = df_fixed[feat].apply(lambda x: np.nan if np.abs(x) > 1570000000000 else x)\n",
    "    text_fixed[feat + '_mean'] = text_fixed.apply(lambda x: extract_mean(df_fixed[feat], x['idx_start'], x['idx_end']),\n",
    "                                                  axis=1)\n",
    "    text_fixed[feat + '_std'] = text_fixed.apply(lambda x: extract_std(df_fixed[feat], x['idx_start'], x['idx_end']),\n",
    "                                                 axis=1)\n",
    "\n",
    "# Rest of your code\n",
    "text_fixed['userId'] = df_fixed.userId[text_fixed.idx_start].values\n",
    "text_fixed['emotionIndex'] = df_fixed.emotionIndex[text_fixed.idx_start].values\n",
    "text_fixed = text_fixed.reindex(columns=['idx_start', 'idx_end', 'userId', 'emotionIndex', 'sentence'])\n",
    "text_fixed['editDistance'] = text_fixed.apply(\n",
    "    lambda x: extract_editDistance_fixed(gold_fixed, x['emotionIndex'], x['sentence']), axis=1)\n",
    "text_fixed['nbKeystroke'] = text_fixed.apply(\n",
    "    lambda x: extract_nbKeystroke(df_fixed.index, x['idx_start'], x['idx_end']), axis=1)\n",
    "text_fixed['answer'] = text_fixed.apply(lambda x: extract_answer(df_fixed.answer, x['idx_start'], x['idx_end']), axis=1)\n",
    "\n",
    "text_fixed.head()\n",
    "\n"
   ]
  },
  {
   "cell_type": "code",
   "execution_count": 9,
   "metadata": {
    "ExecuteTime": {
     "end_time": "2024-06-06T14:40:50.892688700Z",
     "start_time": "2024-06-06T14:40:50.607689Z"
    }
   },
   "outputs": [
    {
     "data": {
      "text/plain": "[]"
     },
     "execution_count": 9,
     "metadata": {},
     "output_type": "execute_result"
    },
    {
     "data": {
      "text/plain": "<Figure size 1500x1500 with 2 Axes>",
      "image/png": "[encoded data removed]"
     },
     "metadata": {},
     "output_type": "display_data"
    }
   ],
   "source": [
    "## correlation matrix\n",
    "\n",
    "# Numeric columns of the dataset\n",
    "text_fixed.emotionIndex = text_fixed.emotionIndex.map({'N': 0, 'H': 1, 'C': 2, 'S': 3, 'A': 4})\n",
    "numeric_col = ['emotionIndex', 'editDistance', 'nbKeystroke'] + [col for col in text_fixed.columns if\n",
    "                                                                 '_mean' in col] + [col for col in text_fixed.columns if\n",
    "                                                                                    '_std' in col]\n",
    "\n",
    "# Correlation Matrix formation\n",
    "corr_matrix = text_fixed.loc[:, numeric_col].corr()\n",
    "text_fixed.emotionIndex = text_fixed.emotionIndex.map({0: 'N', 1: 'H', 2: 'C', 3: 'S', 4: 'A'})\n",
    "\n",
    "#Using heatmap to visualize the correlation matrix\n",
    "plt.figure(figsize=(15, 15))\n",
    "sn.heatmap(corr_matrix, annot=True)\n",
    "plt.plot()"
   ]
  },
  {
   "cell_type": "markdown",
   "metadata": {},
   "source": [
    "## Join tables: text_fixed with df_freq_fixed"
   ]
  },
  {
   "cell_type": "code",
   "execution_count": 10,
   "metadata": {
    "ExecuteTime": {
     "end_time": "2024-06-06T14:40:50.904687200Z",
     "start_time": "2024-06-06T14:40:50.890689200Z"
    }
   },
   "outputs": [],
   "source": [
    "# filter fixed-text experiments in df_freq\n",
    "df_freq_fixed = df_freq[df_freq.textIndex == 'FI'].reset_index(drop=True)"
   ]
  },
  {
   "cell_type": "code",
   "execution_count": 11,
   "metadata": {
    "ExecuteTime": {
     "end_time": "2024-06-06T14:40:51.055685800Z",
     "start_time": "2024-06-06T14:40:50.907686600Z"
    }
   },
   "outputs": [],
   "source": [
    "# correction of expections to align df_freq_fixed and text_fixed tables\n",
    "text_fixed.loc[44, 'userId'] = 94\n",
    "tmp = text_fixed.loc[30]\n",
    "text_fixed.loc[30] = text_fixed.loc[31]\n",
    "text_fixed.loc[31] = tmp"
   ]
  },
  {
   "cell_type": "code",
   "execution_count": 12,
   "metadata": {
    "ExecuteTime": {
     "end_time": "2024-06-06T14:40:51.055685800Z",
     "start_time": "2024-06-06T14:40:50.924719700Z"
    }
   },
   "outputs": [],
   "source": [
    "# alignment of df_freq_fixed and text_fixed tables\n",
    "text_fixed['text_index'] = -1\n",
    "df_freq_fixed['text_index'] = -1\n",
    "index = 0\n",
    "\n",
    "i = 0\n",
    "j = 0\n",
    "while i < len(df_freq_fixed) and j < len(text_fixed):\n",
    "    if df_freq_fixed.userId[i] == text_fixed.userId[j] and df_freq_fixed.emotionIndex[i] == text_fixed.emotionIndex[j]:\n",
    "        df_freq_fixed.loc[i, 'text_index'] = index\n",
    "        text_fixed.loc[j, 'text_index'] = index\n",
    "        index += 1\n",
    "        i += 1\n",
    "        j += 1\n",
    "    elif j != len(text_fixed) - 1 and df_freq_fixed.userId[i] == text_fixed.userId[j + 1] and \\\n",
    "            df_freq_fixed.emotionIndex[i] == text_fixed.emotionIndex[j + 1]:\n",
    "        df_freq_fixed.loc[i, 'text_index'] = index\n",
    "        text_fixed.loc[j + 1, 'text_index'] = index\n",
    "        index += 1\n",
    "        i += 1\n",
    "        j += 2\n",
    "    elif i != len(df_freq_fixed) - 1 and df_freq_fixed.userId[i + 1] == text_fixed.userId[j] and \\\n",
    "            df_freq_fixed.emotionIndex[i + 1] == text_fixed.emotionIndex[j]:\n",
    "        df_freq_fixed.loc[i + 1, 'text_index'] = index\n",
    "        text_fixed.loc[j, 'text_index'] = index\n",
    "        index += 1\n",
    "        i += 2\n",
    "        j += 1\n",
    "    else:\n",
    "        i += 1\n",
    "        j += 1"
   ]
  },
  {
   "cell_type": "code",
   "execution_count": 13,
   "metadata": {
    "ExecuteTime": {
     "end_time": "2024-06-06T14:40:51.056686300Z",
     "start_time": "2024-06-06T14:40:51.034686600Z"
    }
   },
   "outputs": [],
   "source": [
    "# correction of expections to align df_freq_fixed and df_user tables\n",
    "tmp = df_user.loc[92]\n",
    "df_user.loc[92] = df_user.loc[91]\n",
    "df_user.loc[91] = tmp"
   ]
  },
  {
   "cell_type": "code",
   "execution_count": 14,
   "metadata": {
    "ExecuteTime": {
     "end_time": "2024-06-06T14:40:51.127686100Z",
     "start_time": "2024-06-06T14:40:51.057686Z"
    }
   },
   "outputs": [],
   "source": [
    "## alignment of df_freq_index and df_user tables\n",
    "df_freq_fixed['user_index'] = -1\n",
    "index = 0\n",
    "\n",
    "j = 0\n",
    "for i in range(len(df_freq_fixed)):\n",
    "    if i in [39, 59, 71, 145, 156, 159, 179, 235]:\n",
    "        j += 1\n",
    "    if j < len(df_user) and df_freq_fixed.userId[i] == df_user.userId[j]:\n",
    "        df_freq_fixed.loc[i, 'user_index'] = j\n",
    "        i += 1\n",
    "    else:\n",
    "        if j < len(df_user) - 1 and df_freq_fixed.userId[i] == df_user.userId[j + 1]:\n",
    "            df_freq_fixed.loc[i, 'user_index'] = j + 1\n",
    "            i += 1\n",
    "            j += 1\n",
    "        else:\n",
    "            for k in range(1, 6):\n",
    "                if df_freq_fixed.userId[i] == df_freq_fixed.userId[i - k]:\n",
    "                    df_freq_fixed.loc[i, 'user_index'] = df_freq_fixed.loc[i - k, 'user_index']\n",
    "                    break"
   ]
  },
  {
   "cell_type": "code",
   "execution_count": 15,
   "metadata": {
    "ExecuteTime": {
     "end_time": "2024-06-06T14:40:51.145690800Z",
     "start_time": "2024-06-06T14:40:51.116690Z"
    }
   },
   "outputs": [
    {
     "data": {
      "text/plain": "   userId textIndex emotionIndex  delFreq  leftFreq   TotTime  text_index  \\\n0     100        FI            N        8         1  192762.0           0   \n1     100        FI            H       11         0   99463.0           1   \n2     113        FI            N       10         0   84265.0           2   \n3     113        FI            C        7         0   78186.0           3   \n4     113        FI            H        9         0   48354.0           4   \n\n   user_index idx_start idx_end  ... nbKeystroke  answer  typeWith  \\\n0           0         0     282  ...       283.0     NaN   2 hands   \n1           0       283     422  ...       140.0       R   2 hands   \n2           1       423     656  ...       234.0     NaN   2 hands   \n3           1       657     840  ...       184.0       R   2 hands   \n4           1       841     978  ...       138.0       R   2 hands   \n\n          typistType              pcTimeAverage ageRange  gender   status  \\\n0       Touch Typist  More than 3 hours per day    16-19  Female  Student   \n1       Touch Typist  More than 3 hours per day    16-19  Female  Student   \n2  Two Finger Typist  less than an hour per day    20-29  Female  Student   \n3  Two Finger Typist  less than an hour per day    20-29  Female  Student   \n4  Two Finger Typist  less than an hour per day    20-29  Female  Student   \n\n               degree  country  \n0  College/University  Tunisia  \n1  College/University  Tunisia  \n2  College/University  Tunisia  \n3  College/University  Tunisia  \n4  College/University  Tunisia  \n\n[5 rows x 22 columns]",
      "text/html": "<div>\n<style scoped>\n    .dataframe tbody tr th:only-of-type {\n        vertical-align: middle;\n    }\n\n    .dataframe tbody tr th {\n        vertical-align: top;\n    }\n\n    .dataframe thead th {\n        text-align: right;\n    }\n</style>\n<table border=\"1\" class=\"dataframe\">\n  <thead>\n    <tr style=\"text-align: right;\">\n      <th></th>\n      <th>userId</th>\n      <th>textIndex</th>\n      <th>emotionIndex</th>\n      <th>delFreq</th>\n      <th>leftFreq</th>\n      <th>TotTime</th>\n      <th>text_index</th>\n      <th>user_index</th>\n      <th>idx_start</th>\n      <th>idx_end</th>\n      <th>...</th>\n      <th>nbKeystroke</th>\n      <th>answer</th>\n      <th>typeWith</th>\n      <th>typistType</th>\n      <th>pcTimeAverage</th>\n      <th>ageRange</th>\n      <th>gender</th>\n      <th>status</th>\n      <th>degree</th>\n      <th>country</th>\n    </tr>\n  </thead>\n  <tbody>\n    <tr>\n      <th>0</th>\n      <td>100</td>\n      <td>FI</td>\n      <td>N</td>\n      <td>8</td>\n      <td>1</td>\n      <td>192762.0</td>\n      <td>0</td>\n      <td>0</td>\n      <td>0</td>\n      <td>282</td>\n      <td>...</td>\n      <td>283.0</td>\n      <td>NaN</td>\n      <td>2 hands</td>\n      <td>Touch Typist</td>\n      <td>More than 3 hours per day</td>\n      <td>16-19</td>\n      <td>Female</td>\n      <td>Student</td>\n      <td>College/University</td>\n      <td>Tunisia</td>\n    </tr>\n    <tr>\n      <th>1</th>\n      <td>100</td>\n      <td>FI</td>\n      <td>H</td>\n      <td>11</td>\n      <td>0</td>\n      <td>99463.0</td>\n      <td>1</td>\n      <td>0</td>\n      <td>283</td>\n      <td>422</td>\n      <td>...</td>\n      <td>140.0</td>\n      <td>R</td>\n      <td>2 hands</td>\n      <td>Touch Typist</td>\n      <td>More than 3 hours per day</td>\n      <td>16-19</td>\n      <td>Female</td>\n      <td>Student</td>\n      <td>College/University</td>\n      <td>Tunisia</td>\n    </tr>\n    <tr>\n      <th>2</th>\n      <td>113</td>\n      <td>FI</td>\n      <td>N</td>\n      <td>10</td>\n      <td>0</td>\n      <td>84265.0</td>\n      <td>2</td>\n      <td>1</td>\n      <td>423</td>\n      <td>656</td>\n      <td>...</td>\n      <td>234.0</td>\n      <td>NaN</td>\n      <td>2 hands</td>\n      <td>Two Finger Typist</td>\n      <td>less than an hour per day</td>\n      <td>20-29</td>\n      <td>Female</td>\n      <td>Student</td>\n      <td>College/University</td>\n      <td>Tunisia</td>\n    </tr>\n    <tr>\n      <th>3</th>\n      <td>113</td>\n      <td>FI</td>\n      <td>C</td>\n      <td>7</td>\n      <td>0</td>\n      <td>78186.0</td>\n      <td>3</td>\n      <td>1</td>\n      <td>657</td>\n      <td>840</td>\n      <td>...</td>\n      <td>184.0</td>\n      <td>R</td>\n      <td>2 hands</td>\n      <td>Two Finger Typist</td>\n      <td>less than an hour per day</td>\n      <td>20-29</td>\n      <td>Female</td>\n      <td>Student</td>\n      <td>College/University</td>\n      <td>Tunisia</td>\n    </tr>\n    <tr>\n      <th>4</th>\n      <td>113</td>\n      <td>FI</td>\n      <td>H</td>\n      <td>9</td>\n      <td>0</td>\n      <td>48354.0</td>\n      <td>4</td>\n      <td>1</td>\n      <td>841</td>\n      <td>978</td>\n      <td>...</td>\n      <td>138.0</td>\n      <td>R</td>\n      <td>2 hands</td>\n      <td>Two Finger Typist</td>\n      <td>less than an hour per day</td>\n      <td>20-29</td>\n      <td>Female</td>\n      <td>Student</td>\n      <td>College/University</td>\n      <td>Tunisia</td>\n    </tr>\n  </tbody>\n</table>\n<p>5 rows × 22 columns</p>\n</div>"
     },
     "execution_count": 15,
     "metadata": {},
     "output_type": "execute_result"
    }
   ],
   "source": [
    "# merge all tables\n",
    "df_fixed_all = df_freq_fixed.join(text_fixed, on='text_index', how='left', rsuffix='_right')\n",
    "df_fixed_all = df_fixed_all.drop(['userId_right', 'emotionIndex_right', 'text_index_right'], axis=1)\n",
    "df_fixed_all = df_fixed_all.join(df_user.reset_index().rename(columns={'index': 'user_index'}), on='user_index',\n",
    "                                 how='left', rsuffix='_right')\n",
    "df_fixed_all = df_fixed_all.drop(['user_index_right', 'userId_right'], axis=1)\n",
    "df_fixed_all.head()"
   ]
  },
  {
   "cell_type": "markdown",
   "metadata": {},
   "source": [
    "## Data analysis"
   ]
  },
  {
   "cell_type": "markdown",
   "metadata": {},
   "source": [
    "### Useful functions"
   ]
  },
  {
   "cell_type": "code",
   "execution_count": 16,
   "metadata": {
    "ExecuteTime": {
     "end_time": "2024-06-06T14:40:51.512688200Z",
     "start_time": "2024-06-06T14:40:51.146692400Z"
    }
   },
   "outputs": [],
   "source": [
    "from sklearn.model_selection import train_test_split\n",
    "from sklearn.linear_model import LogisticRegression\n",
    "from sklearn.ensemble import RandomForestClassifier\n",
    "from sklearn.preprocessing import StandardScaler, MinMaxScaler\n",
    "from sklearn.svm import SVC\n",
    "from sklearn import metrics, model_selection\n",
    "from sklearn.neural_network import MLPClassifier\n",
    "import xgboost as xgb\n",
    "import shap\n",
    "from tqdm import trange"
   ]
  },
  {
   "cell_type": "code",
   "execution_count": 17,
   "metadata": {
    "ExecuteTime": {
     "end_time": "2024-06-06T14:40:51.526687200Z",
     "start_time": "2024-06-06T14:40:51.512688200Z"
    }
   },
   "outputs": [],
   "source": [
    "# Receiving a dictionary of performance metrics and printing them\n",
    "def show_metrics(performance_metrics):\n",
    "    for metric_name, metric in performance_metrics.items():\n",
    "        if metric_name.startswith(\"Confusion\"):\n",
    "            print(\"Confusion Matrix: \")\n",
    "            if len(metric) != 5:\n",
    "                print(pd.DataFrame(metric))\n",
    "            else:\n",
    "                print(pd.DataFrame(metric,\n",
    "                                   index=list(label_dictionary.values()),\n",
    "                                   columns=list(label_dictionary.values())))\n",
    "        else:\n",
    "            print(\"Metric : % s, Score : % 5.2f\" % (metric_name, metric))"
   ]
  },
  {
   "cell_type": "code",
   "execution_count": 18,
   "metadata": {
    "ExecuteTime": {
     "end_time": "2024-06-06T14:40:51.557716600Z",
     "start_time": "2024-06-06T14:40:51.530690400Z"
    }
   },
   "outputs": [],
   "source": [
    "# Plotting the Confusion Matrix as a heatmap\n",
    "label_dictionary = {1: 'N', 2: 'H', 3: 'C', 4: 'S', 5: 'A'}\n",
    "\n",
    "\n",
    "def plot_confusion_matrix(confusion_matrix):\n",
    "    if len(confusion_matrix) != 5:\n",
    "        df_cm = pd.DataFrame(confusion_matrix)\n",
    "    else:\n",
    "        df_cm = pd.DataFrame(confusion_matrix,\n",
    "                             index=[i for i in label_dictionary.values()],\n",
    "                             columns=[i for i in label_dictionary.values()])\n",
    "    plt.figure()\n",
    "    sn.set(font_scale=1.4)  # for label size\n",
    "    sn.heatmap(df_cm, annot=True, annot_kws={\"size\": 16}, cmap=\"Blues\")\n",
    "    plt.show()"
   ]
  },
  {
   "cell_type": "code",
   "execution_count": 19,
   "metadata": {
    "ExecuteTime": {
     "end_time": "2024-06-06T14:40:51.559686100Z",
     "start_time": "2024-06-06T14:40:51.547689200Z"
    }
   },
   "outputs": [],
   "source": [
    "# Computing the different Performance Metrics\n",
    "def compute_metrics(clf, dataX, dataY, show=False):\n",
    "    # Using Confusion Metrics to compute metrics\n",
    "    def performance_measures(y_true, y_pred):\n",
    "        cnf_matrix = metrics.confusion_matrix(y_true, y_pred, normalize='true')\n",
    "\n",
    "        FP = cnf_matrix.sum(axis=0) - np.diag(cnf_matrix)\n",
    "        FN = cnf_matrix.sum(axis=1) - np.diag(cnf_matrix)\n",
    "        TP = np.diag(cnf_matrix)\n",
    "        TN = cnf_matrix.sum() - (FP + FN + TP)\n",
    "\n",
    "        FP = FP.astype(float)\n",
    "        FN = FN.astype(float)\n",
    "        TP = TP.astype(float)\n",
    "        TN = TN.astype(float)\n",
    "\n",
    "        acc = np.mean((TP + TN) / (TP + FP + FN + TN))\n",
    "        TP_rate = np.mean(TP / (TP + FN))\n",
    "        FP_rate = np.mean(FP / (FP + TN))\n",
    "        precision = np.mean(TP / (TP + FP))\n",
    "        f_measure = 2 * precision * TP_rate / (precision + TP_rate)\n",
    "        f_micro = metrics.f1_score(y_true, y_pred, average='micro')\n",
    "        f_macro = metrics.f1_score(y_true, y_pred, average='macro')\n",
    "\n",
    "        # Returning \n",
    "        return (acc, TP_rate, FP_rate, precision, f_measure, f_micro, f_macro,\n",
    "                np.round(cnf_matrix, 2))\n",
    "\n",
    "    acc, tp_rate, fp_rate, precision, f_measure, f_micro, f_macro, confusion_matrix = performance_measures(y_true=dataY,\n",
    "                                                                                                           y_pred=clf.predict(\n",
    "                                                                                                               dataX))\n",
    "\n",
    "    performance_metrics = {\"ACC\": acc, \"TP_Rate\": tp_rate, \"FP_Rate\": fp_rate,\n",
    "                           \"Precision\": precision, \"F_Measure\": f_measure, \"F_Micro\": f_micro, \"F_Macro\": f_macro,\n",
    "                           \"Confusion Matrix\": confusion_matrix}\n",
    "    if show:\n",
    "        show_metrics(performance_metrics)\n",
    "\n",
    "    return performance_metrics"
   ]
  },
  {
   "cell_type": "markdown",
   "metadata": {},
   "source": [
    "### Data pre-processing"
   ]
  },
  {
   "cell_type": "code",
   "execution_count": 20,
   "metadata": {
    "ExecuteTime": {
     "end_time": "2024-06-06T14:40:51.574687500Z",
     "start_time": "2024-06-06T14:40:51.560719700Z"
    }
   },
   "outputs": [],
   "source": [
    "data_fixed = df_fixed_all.loc[:, df_fixed_all.columns.difference(\n",
    "    ['user_index', 'emotionIndex', 'userId', 'textIndex', 'text_index', 'idx_start', 'idx_end', 'sentence'])]\n",
    "label_fixed = df_fixed_all.emotionIndex.map({'N': 0, 'H': 1, 'C': 2, 'S': 3, 'A': 4})"
   ]
  },
  {
   "cell_type": "code",
   "execution_count": 21,
   "metadata": {
    "ExecuteTime": {
     "end_time": "2024-06-06T14:40:51.610719100Z",
     "start_time": "2024-06-06T14:40:51.577686700Z"
    }
   },
   "outputs": [],
   "source": [
    "# convert categorical features into numerical features\n",
    "data_fixed.gender = (data_fixed.gender == 'Male')\n",
    "data_fixed.ageRange = data_fixed.ageRange.map({'16-19': 1, '20-29': 2, '30-39': 3, '>=50': 4})\n",
    "data_fixed.answer = data_fixed.answer.map({'R': 1, 'W': 0})\n",
    "data_fixed.degree = data_fixed.degree.map({'High School': 1, 'College/University': 2})\n",
    "data_fixed.pcTimeAverage = data_fixed.pcTimeAverage.map(\n",
    "    {'less than an hour per day': 1, 'between 1 hour and 3 hours per day': 2, 'More than 3 hours per day': 3})\n",
    "data_fixed.status = data_fixed.status.map({'Student': 1, 'Professional': 2})\n",
    "data_fixed.typeWith = data_fixed.typeWith.map({'1 hand': 1, '2 hands': 2})\n",
    "data_fixed = pd.get_dummies(data_fixed, columns=['country', 'typistType'])\n",
    "data_fixed = data_fixed.fillna(-1)"
   ]
  },
  {
   "cell_type": "code",
   "execution_count": 22,
   "metadata": {
    "ExecuteTime": {
     "end_time": "2024-06-06T14:40:51.610719100Z",
     "start_time": "2024-06-06T14:40:51.593689800Z"
    }
   },
   "outputs": [],
   "source": [
    "data_fixed_filter = data_fixed\n",
    "#label_fixed = (label_fixed == 1)  ## for binary models"
   ]
  },
  {
   "cell_type": "markdown",
   "metadata": {},
   "source": [
    "### Statistical analysis"
   ]
  },
  {
   "cell_type": "code",
   "execution_count": 23,
   "metadata": {
    "ExecuteTime": {
     "end_time": "2024-06-06T14:40:52.150686400Z",
     "start_time": "2024-06-06T14:40:51.608689800Z"
    }
   },
   "outputs": [
    {
     "ename": "AttributeError",
     "evalue": "'DataFrame' object has no attribute 'D1U2_mean'",
     "output_type": "error",
     "traceback": [
      "\u001B[1;31m---------------------------------------------------------------------------\u001B[0m",
      "\u001B[1;31mAttributeError\u001B[0m                            Traceback (most recent call last)",
      "\u001B[1;32m~\\AppData\\Local\\Temp\\ipykernel_17608\\3215386777.py\u001B[0m in \u001B[0;36m?\u001B[1;34m()\u001B[0m\n\u001B[1;32m----> 1\u001B[1;33m \u001B[0mdata_fixed\u001B[0m\u001B[1;33m.\u001B[0m\u001B[0mD1U2_mean\u001B[0m\u001B[1;33m.\u001B[0m\u001B[0mdescribe\u001B[0m\u001B[1;33m(\u001B[0m\u001B[1;33m)\u001B[0m\u001B[1;33m\u001B[0m\u001B[1;33m\u001B[0m\u001B[0m\n\u001B[0m",
      "\u001B[1;32mD:\\Student_Projects\\LaraK\\Coding_Projects\\erkd\\venv\\lib\\site-packages\\pandas\\core\\generic.py\u001B[0m in \u001B[0;36m?\u001B[1;34m(self, name)\u001B[0m\n\u001B[0;32m   5483\u001B[0m             \u001B[1;32mand\u001B[0m \u001B[0mname\u001B[0m \u001B[1;32mnot\u001B[0m \u001B[1;32min\u001B[0m \u001B[0mself\u001B[0m\u001B[1;33m.\u001B[0m\u001B[0m_accessors\u001B[0m\u001B[1;33m\u001B[0m\u001B[1;33m\u001B[0m\u001B[0m\n\u001B[0;32m   5484\u001B[0m             \u001B[1;32mand\u001B[0m \u001B[0mself\u001B[0m\u001B[1;33m.\u001B[0m\u001B[0m_info_axis\u001B[0m\u001B[1;33m.\u001B[0m\u001B[0m_can_hold_identifiers_and_holds_name\u001B[0m\u001B[1;33m(\u001B[0m\u001B[0mname\u001B[0m\u001B[1;33m)\u001B[0m\u001B[1;33m\u001B[0m\u001B[1;33m\u001B[0m\u001B[0m\n\u001B[0;32m   5485\u001B[0m         ):\n\u001B[0;32m   5486\u001B[0m             \u001B[1;32mreturn\u001B[0m \u001B[0mself\u001B[0m\u001B[1;33m[\u001B[0m\u001B[0mname\u001B[0m\u001B[1;33m]\u001B[0m\u001B[1;33m\u001B[0m\u001B[1;33m\u001B[0m\u001B[0m\n\u001B[1;32m-> 5487\u001B[1;33m         \u001B[1;32mreturn\u001B[0m \u001B[0mobject\u001B[0m\u001B[1;33m.\u001B[0m\u001B[0m__getattribute__\u001B[0m\u001B[1;33m(\u001B[0m\u001B[0mself\u001B[0m\u001B[1;33m,\u001B[0m \u001B[0mname\u001B[0m\u001B[1;33m)\u001B[0m\u001B[1;33m\u001B[0m\u001B[1;33m\u001B[0m\u001B[0m\n\u001B[0m",
      "\u001B[1;31mAttributeError\u001B[0m: 'DataFrame' object has no attribute 'D1U2_mean'"
     ]
    }
   ],
   "source": [
    "data_fixed.D1U2_mean.describe()"
   ]
  },
  {
   "cell_type": "code",
   "execution_count": null,
   "metadata": {
    "ExecuteTime": {
     "end_time": "2024-06-06T14:40:52.156685700Z",
     "start_time": "2024-06-06T14:40:52.153687100Z"
    }
   },
   "outputs": [],
   "source": [
    "# only for demographic features\n",
    "personal_col = ['typeWith', 'gender', 'ageRange', 'degree', 'pcTimeAverage', 'status', 'country', 'typistType']\n",
    "for col in personal_col:\n",
    "    anova = stats.f_oneway(data_fixed.loc[data_fixed.D1U2_mean < 383, col],\n",
    "                           data_fixed.loc[(data_fixed.D1U2_mean >= 383) & (data_fixed.D1U2_mean < 462), col],\n",
    "                           data_fixed.loc[(data_fixed.D1U2_mean >= 462) & (data_fixed.D1U2_mean < 577), col],\n",
    "                           data_fixed.loc[data_fixed.D1U2_mean >= 577, col])\n",
    "    print(col + ': ' + str(anova))"
   ]
  },
  {
   "cell_type": "markdown",
   "metadata": {},
   "source": [
    "### Multi-class models"
   ]
  },
  {
   "cell_type": "code",
   "execution_count": null,
   "metadata": {
    "ExecuteTime": {
     "start_time": "2024-06-06T14:40:52.155687800Z"
    }
   },
   "outputs": [],
   "source": [
    "#define classification models\n",
    "classifiers_name = ['LogReg', 'RF', 'XGB', 'SVM', 'MLP']\n",
    "\n",
    "classifiers = [\n",
    "    LogisticRegression(multi_class='auto', max_iter=500, solver='newton-cg',\n",
    "                       class_weight={0: 0.1, 1: 1, 2: 1, 3: 1, 4: 1}),\n",
    "    RandomForestClassifier(n_estimators=200, max_depth=5, class_weight={0: 0.1, 1: 1, 2: 1, 3: 1, 4: 1}),\n",
    "    xgb.XGBClassifier(objective='multi:softmax', eval_metric='mlogloss', use_label_encoder=False),\n",
    "    SVC(kernel='rbf', decision_function_shape='ovr', probability=True),  #, class_weight={0:0.1,1:1,2:1,3:1,4:1}),\n",
    "    MLPClassifier(alpha=1, max_iter=500)]"
   ]
  },
  {
   "cell_type": "markdown",
   "source": [
    "# Markus Blödsinn"
   ],
   "metadata": {
    "collapsed": false
   }
  },
  {
   "cell_type": "code",
   "outputs": [],
   "source": [],
   "metadata": {
    "collapsed": false,
    "ExecuteTime": {
     "start_time": "2024-06-06T14:40:52.157686300Z"
    }
   }
  },
  {
   "cell_type": "code",
   "outputs": [],
   "source": [
    "# micro-F1 scores with a 10-fold cross-validation method\n",
    "\n",
    "model_scores_micro = {}\n",
    "for i in range(len(classifiers)):\n",
    "    model_scores_micro[classifiers_name[i]] = []\n",
    "    print(classifiers_name[i])\n",
    "    for j in range(10):\n",
    "        model = classifiers[i]\n",
    "        scores = model_selection.cross_val_score(model, X=data_fixed_filter, y=label_fixed, cv=10, n_jobs=1,\n",
    "                                                 scoring='f1_micro')\n",
    "        model_scores_micro[classifiers_name[i]] += list(scores)\n",
    "    mean = np.nanmean(model_scores_micro[classifiers_name[i]])\n",
    "    std = np.nanstd(model_scores_micro[classifiers_name[i]])\n",
    "    model_scores_micro[classifiers_name[i]] = [mean, std]\n",
    "\n",
    "model_scores_micro"
   ],
   "metadata": {
    "collapsed": false,
    "ExecuteTime": {
     "start_time": "2024-06-06T14:40:52.159685800Z"
    }
   },
   "execution_count": null
  },
  {
   "cell_type": "code",
   "execution_count": null,
   "metadata": {
    "ExecuteTime": {
     "start_time": "2024-06-06T14:40:52.161686300Z"
    }
   },
   "outputs": [],
   "source": [
    "# macro-F1 scores with a 10-fold cross-validation method\n",
    "\n",
    "model_scores_macro = {}\n",
    "for i in range(len(classifiers)):\n",
    "    model_scores_macro[classifiers_name[i]] = []\n",
    "    print(classifiers_name[i])\n",
    "    for j in range(10):\n",
    "        model = classifiers[i]\n",
    "        scores = model_selection.cross_val_score(model, X=data_fixed_filter, y=label_fixed, cv=10, n_jobs=1,\n",
    "                                                 scoring='f1_macro')\n",
    "        model_scores_macro[classifiers_name[i]] += list(scores)\n",
    "    mean = np.nanmean(model_scores_macro[classifiers_name[i]])\n",
    "    std = np.nanstd(model_scores_macro[classifiers_name[i]])\n",
    "    model_scores_macro[classifiers_name[i]] = [mean, std]\n",
    "\n",
    "model_scores_macro"
   ]
  },
  {
   "cell_type": "markdown",
   "metadata": {},
   "source": [
    "#### Best multi-class model"
   ]
  },
  {
   "cell_type": "code",
   "outputs": [],
   "source": [
    "#\"models.pkl\" | \"models.pickle\"\n",
    "def save_model(path: str, models):\n",
    "    with open(r\"{path}\", 'wb') as model_writer:\n",
    "        model_writer.write(models)\n",
    "\n",
    "\n",
    "def load_model(path: str):\n",
    "    models: list\n",
    "    with open(r\"{path}\", 'rb') as model_reader:\n",
    "        models = model_reader.read()\n",
    "    return models\n",
    "\n",
    "#TODO: also save scaler, may also be added in save model, path and type inlcuded"
   ],
   "metadata": {
    "collapsed": false,
    "ExecuteTime": {
     "start_time": "2024-06-06T14:40:52.162685500Z"
    }
   },
   "execution_count": null
  },
  {
   "cell_type": "code",
   "execution_count": null,
   "metadata": {
    "ExecuteTime": {
     "start_time": "2024-06-06T14:40:52.164686100Z"
    }
   },
   "outputs": [],
   "source": [
    "best_model = 'XGB'\n",
    "X_train, X_test, Y_train, Y_test = train_test_split(data_fixed_filter, label_fixed, test_size=0.2)\n",
    "\n",
    "scaler = MinMaxScaler()\n",
    "X_train = scaler.fit_transform(X_train)\n",
    "X_test = scaler.transform(X_test)\n",
    "\n",
    "model = classifiers[classifiers_name.index(best_model)]\n",
    "model.fit(X_train, Y_train)\n",
    "\n",
    "save_model(\"\")\n",
    "\n",
    "performance_metrics = compute_metrics(model, X_test, Y_test, show=True)\n",
    "plot_confusion_matrix(performance_metrics[\"Confusion Matrix\"])"
   ]
  },
  {
   "cell_type": "markdown",
   "metadata": {},
   "source": [
    "### Binary classification"
   ]
  },
  {
   "cell_type": "code",
   "execution_count": null,
   "metadata": {
    "ExecuteTime": {
     "start_time": "2024-06-06T14:40:52.166686Z"
    }
   },
   "outputs": [],
   "source": [
    "## binary classification with XGBoost\n",
    "for emotion_index in range(5):\n",
    "    f1_micro = np.array([])\n",
    "    f1_macro = np.array([])\n",
    "    recall = np.array([])\n",
    "\n",
    "    print(\"Class \" + label_dictionary[emotion_index + 1] + \":\")\n",
    "    label_fixed_binary = (label_fixed == emotion_index).astype(int)\n",
    "\n",
    "    for i in range(10):\n",
    "        model = xgb.XGBClassifier(objective='binary:logistic', eval_metric='mlogloss', use_label_encoder=False)\n",
    "        scores = model_selection.cross_validate(model, X=data_fixed_filter, y=label_fixed_binary, cv=10, n_jobs=1,\n",
    "                                                scoring=['f1_micro', 'f1_macro', 'recall'])\n",
    "\n",
    "        f1_micro = np.concatenate([f1_micro, scores['test_f1_micro']])\n",
    "        f1_macro = np.concatenate([f1_macro, scores['test_f1_macro']])\n",
    "        recall = np.concatenate([recall, scores['test_recall']])\n",
    "\n",
    "    print(np.round(np.nanmean(f1_micro), 3), np.round(np.nanstd(f1_micro), 3))\n",
    "    print(np.round(np.nanmean(f1_macro), 3), np.round(np.nanstd(f1_macro), 3))\n",
    "    print(np.round(np.nanmean(recall), 3), np.round(np.nanstd(recall), 3))\n",
    "\n",
    "    print()\n",
    "    print()"
   ]
  },
  {
   "cell_type": "code",
   "execution_count": null,
   "metadata": {
    "ExecuteTime": {
     "start_time": "2024-06-06T14:40:52.168686300Z"
    }
   },
   "outputs": [],
   "source": [
    "## binary classification with Random Forest\n",
    "for emotion_index in range(5):\n",
    "    f1_micro = np.array([])\n",
    "    f1_macro = np.array([])\n",
    "    recall = np.array([])\n",
    "\n",
    "    print(\"Class \" + label_dictionary[emotion_index + 1] + \":\")\n",
    "    label_fixed_binary = (label_fixed == emotion_index).astype(int)\n",
    "\n",
    "    for i in range(10):\n",
    "        model = RandomForestClassifier(n_estimators=200, max_depth=5, class_weight={0: 0.1, 1: 1})\n",
    "        scores = model_selection.cross_validate(model, X=data_fixed_filter, y=label_fixed_binary, cv=10, n_jobs=1,\n",
    "                                                scoring=['f1_micro', 'f1_macro', 'recall'])\n",
    "\n",
    "        f1_micro = np.concatenate([f1_micro, scores['test_f1_micro']])\n",
    "        f1_macro = np.concatenate([f1_macro, scores['test_f1_macro']])\n",
    "        recall = np.concatenate([recall, scores['test_recall']])\n",
    "\n",
    "    print(np.round(np.nanmean(f1_micro), 3), np.round(np.nanstd(f1_micro), 3))\n",
    "    print(np.round(np.nanmean(f1_macro), 3), np.round(np.nanstd(f1_macro), 3))\n",
    "    print(np.round(np.nanmean(recall), 3), np.round(np.nanstd(recall), 3))\n",
    "\n",
    "    print()\n",
    "    print()"
   ]
  },
  {
   "cell_type": "code",
   "execution_count": null,
   "metadata": {
    "ExecuteTime": {
     "start_time": "2024-06-06T14:40:52.170685900Z"
    }
   },
   "outputs": [],
   "source": [
    "## binary classification with SVM\n",
    "for emotion_index in range(5):\n",
    "    f1_micro = np.array([])\n",
    "    f1_macro = np.array([])\n",
    "    recall = np.array([])\n",
    "\n",
    "    print(\"Class \" + label_dictionary[emotion_index + 1] + \":\")\n",
    "    label_fixed_binary = (label_fixed == emotion_index).astype(int)\n",
    "\n",
    "    for i in range(10):\n",
    "        model = SVC(kernel='rbf', decision_function_shape='ovr', probability=True)\n",
    "        scores = model_selection.cross_validate(model, X=data_fixed_filter, y=label_fixed_binary, cv=10, n_jobs=1,\n",
    "                                                scoring=['f1_micro', 'f1_macro', 'recall'])\n",
    "\n",
    "        f1_micro = np.concatenate([f1_micro, scores['test_f1_micro']])\n",
    "        f1_macro = np.concatenate([f1_macro, scores['test_f1_macro']])\n",
    "        recall = np.concatenate([recall, scores['test_recall']])\n",
    "\n",
    "    print(np.round(np.nanmean(f1_micro), 3), np.round(np.nanstd(f1_micro), 3))\n",
    "    print(np.round(np.nanmean(f1_macro), 3), np.round(np.nanstd(f1_macro), 3))\n",
    "    print(np.round(np.nanmean(recall), 3), np.round(np.nanstd(recall), 3))\n",
    "\n",
    "    print()\n",
    "    print()"
   ]
  },
  {
   "cell_type": "markdown",
   "metadata": {},
   "source": [
    "## Feature importance"
   ]
  },
  {
   "cell_type": "code",
   "execution_count": null,
   "metadata": {
    "ExecuteTime": {
     "start_time": "2024-06-06T14:40:52.172686100Z"
    }
   },
   "outputs": [],
   "source": [
    "# data standardization\n",
    "scaler = MinMaxScaler()\n",
    "data_fixed = pd.DataFrame(scaler.fit_transform(data_fixed), columns=data_fixed.columns)"
   ]
  },
  {
   "cell_type": "markdown",
   "metadata": {},
   "source": [
    "#### Chi-squared"
   ]
  },
  {
   "cell_type": "code",
   "execution_count": null,
   "metadata": {
    "ExecuteTime": {
     "start_time": "2024-06-06T14:40:52.174687600Z"
    }
   },
   "outputs": [],
   "source": [
    "from sklearn.feature_selection import chi2\n",
    "from sklearn.feature_selection import SelectKBest\n",
    "\n",
    "demo_features = np.array(\n",
    "    ['typeWith', 'gender', 'ageRange', 'degree', 'pcTimeAverage', 'status', 'country', 'typistType'])\n",
    "\n",
    "# Feature extraction\n",
    "test = SelectKBest(score_func=chi2, k=8)\n",
    "fit = test.fit(data_fixed.loc[:, demo_features].fillna(100).replace(-1, 16),\n",
    "               pd.cut(data_fixed.D1U2_mean.fillna(0), bins=[0, 372, 445, 573, 4306], labels=[1, 2, 3, 4]).fillna(1))\n",
    "\n",
    "# Summarize scores\n",
    "np.set_printoptions(precision=3)\n",
    "print(\"Ordered features by importance with their corresponding chi2 score\")\n",
    "print(demo_features[np.argsort(fit.scores_)][::-1])\n",
    "print(fit.scores_[np.argsort(fit.scores_)][::-1])"
   ]
  },
  {
   "cell_type": "markdown",
   "metadata": {},
   "source": [
    "#### Correlation coefficients"
   ]
  },
  {
   "cell_type": "code",
   "execution_count": null,
   "metadata": {
    "ExecuteTime": {
     "start_time": "2024-06-06T14:40:52.176686600Z"
    }
   },
   "outputs": [],
   "source": [
    "importances = data_fixed.apply(lambda x: x.corr(data_fixed.D1U2_mean))\n",
    "indices = np.argsort(importances)\n",
    "indices_abs = np.argsort(np.abs(importances))[::-1]\n",
    "print(importances[indices_abs])"
   ]
  },
  {
   "cell_type": "code",
   "execution_count": null,
   "metadata": {
    "ExecuteTime": {
     "end_time": "2024-06-06T14:40:52.243722300Z",
     "start_time": "2024-06-06T14:40:52.177685800Z"
    }
   },
   "outputs": [],
   "source": [
    "plt.figure(figsize=(10, 10))\n",
    "plt.barh(range(len(indices)), importances[indices], color='g', align='center')\n",
    "plt.yticks(range(len(indices)), importances[indices].index.values)\n",
    "plt.xlabel('Relative Importance')\n",
    "plt.show()"
   ]
  },
  {
   "cell_type": "markdown",
   "metadata": {},
   "source": [
    "#### Information Gain"
   ]
  },
  {
   "cell_type": "code",
   "execution_count": null,
   "metadata": {
    "ExecuteTime": {
     "start_time": "2024-06-06T14:40:52.178686100Z"
    }
   },
   "outputs": [],
   "source": [
    "from info_gain import info_gain\n",
    "\n",
    "importances_ig = []\n",
    "for col in data_fixed.columns:\n",
    "    importances_ig.append(info_gain.info_gain(data_fixed[col], data_fixed.D1U2_mean))\n",
    "indices_ig = np.argsort(importances_ig)[::-1]\n",
    "pd.concat([pd.Series(data_fixed.columns[indices_ig]), pd.Series(np.sort(importances_ig)[::-1])], axis=1).set_index(0)"
   ]
  },
  {
   "cell_type": "markdown",
   "metadata": {},
   "source": [
    "#### Mutual information"
   ]
  },
  {
   "cell_type": "code",
   "execution_count": null,
   "metadata": {
    "ExecuteTime": {
     "start_time": "2024-06-06T14:40:52.180686400Z"
    }
   },
   "outputs": [],
   "source": [
    "from sklearn.feature_selection import mutual_info_regression\n",
    "\n",
    "mi = mutual_info_regression(data_fixed, data_fixed.D1U2_mean)\n",
    "mi = pd.Series(mi)\n",
    "mi.index = data_fixed.columns\n",
    "mi.sort_values(ascending=False)\n",
    "mi.sort_values(ascending=False).plot.bar(figsize=(10, 4))"
   ]
  },
  {
   "cell_type": "markdown",
   "metadata": {},
   "source": [
    "#### Recursive Feature Elimination (RFE)"
   ]
  },
  {
   "cell_type": "code",
   "execution_count": null,
   "metadata": {
    "ExecuteTime": {
     "start_time": "2024-06-06T14:40:52.181685800Z"
    }
   },
   "outputs": [],
   "source": [
    "from sklearn.feature_selection import RFE\n",
    "from sklearn.linear_model import LogisticRegression\n",
    "\n",
    "model = LogisticRegression(max_iter=1000)\n",
    "rfe = RFE(model, 1)\n",
    "fit = rfe.fit(data_fixed, label_fixed)\n",
    "\n",
    "print(\"Feature Ranking: %s\" % fit.ranking_)"
   ]
  },
  {
   "cell_type": "code",
   "execution_count": null,
   "metadata": {
    "ExecuteTime": {
     "start_time": "2024-06-06T14:40:52.183688100Z"
    }
   },
   "outputs": [],
   "source": [
    "list(data_fixed.columns[fit.ranking_ - 1])"
   ]
  },
  {
   "cell_type": "markdown",
   "metadata": {},
   "source": [
    "#### SHAP values"
   ]
  },
  {
   "cell_type": "code",
   "execution_count": null,
   "metadata": {
    "ExecuteTime": {
     "start_time": "2024-06-06T14:40:52.184688Z"
    }
   },
   "outputs": [],
   "source": [
    "# DF, based on which importance is checked\n",
    "X_importance = pd.DataFrame(data_fixed, columns=data_fixed.columns)\n",
    "\n",
    "# Explain model predictions using shap library:\n",
    "explainer = shap.TreeExplainer(model)\n",
    "shap_values = explainer.shap_values(X_importance)\n",
    "\n",
    "# Plot summary_plot\n",
    "shap.summary_plot(shap_values, X_importance, max_display=len(data_fixed.columns))"
   ]
  },
  {
   "cell_type": "markdown",
   "metadata": {},
   "source": [
    "#### RF feature importance"
   ]
  },
  {
   "cell_type": "code",
   "execution_count": null,
   "metadata": {
    "ExecuteTime": {
     "start_time": "2024-06-06T14:40:52.185686600Z"
    }
   },
   "outputs": [],
   "source": [
    "best_model = 'RF'\n",
    "X_train, X_test, Y_train, Y_test = train_test_split(data_fixed, label_fixed, test_size=0.2)\n",
    "\n",
    "scaler = MinMaxScaler()\n",
    "X_train = scaler.fit_transform(X_train)\n",
    "X_test = scaler.transform(X_test)\n",
    "\n",
    "model = classifiers[classifiers_name.index(best_model)]\n",
    "model.fit(X_train, Y_train)\n",
    "\n",
    "performance_metrics = compute_metrics(model, X_test, Y_test, show=True)\n",
    "plot_confusion_matrix(performance_metrics[\"Confusion Matrix\"])"
   ]
  },
  {
   "cell_type": "code",
   "execution_count": null,
   "metadata": {
    "ExecuteTime": {
     "start_time": "2024-06-06T14:40:52.187719Z"
    }
   },
   "outputs": [],
   "source": [
    "plt.figure(figsize=(10, 10))\n",
    "pd.Series(model.feature_importances_, index=data_fixed.columns).nlargest(data_fixed.shape[1])[::-1].plot(kind='barh')\n",
    "plt.show()"
   ]
  },
  {
   "cell_type": "markdown",
   "metadata": {},
   "source": [
    "#### XGB feature importance"
   ]
  },
  {
   "cell_type": "code",
   "execution_count": null,
   "metadata": {
    "ExecuteTime": {
     "start_time": "2024-06-06T14:40:52.188687200Z"
    }
   },
   "outputs": [],
   "source": [
    "best_model = 'XGB'\n",
    "X_train, X_test, Y_train, Y_test = train_test_split(data_fixed, label_fixed, test_size=0.2)\n",
    "\n",
    "scaler = MinMaxScaler()\n",
    "X_train = scaler.fit_transform(X_train)\n",
    "X_test = scaler.transform(X_test)\n",
    "\n",
    "model = classifiers[classifiers_name.index(best_model)]\n",
    "model.fit(X_train, Y_train)\n",
    "\n",
    "performance_metrics = compute_metrics(model, X_test, Y_test, show=True)\n",
    "plot_confusion_matrix(performance_metrics[\"Confusion Matrix\"])"
   ]
  },
  {
   "cell_type": "code",
   "execution_count": null,
   "metadata": {
    "ExecuteTime": {
     "start_time": "2024-06-06T14:40:52.189719Z"
    }
   },
   "outputs": [],
   "source": [
    "plt.figure(figsize=(10, 10))\n",
    "pd.Series(model.feature_importances_, index=data_fixed.columns).nlargest(data_fixed.shape[1])[::-1].plot(kind='barh')\n",
    "plt.show()"
   ]
  },
  {
   "cell_type": "code",
   "outputs": [],
   "source": [],
   "metadata": {
    "collapsed": false,
    "ExecuteTime": {
     "start_time": "2024-06-06T14:40:52.191719500Z"
    }
   }
  }
 ],
 "metadata": {
  "kernelspec": {
   "display_name": "Python 3",
   "language": "python",
   "name": "python3"
  },
  "language_info": {
   "codemirror_mode": {
    "name": "ipython",
    "version": 3
   },
   "file_extension": ".py",
   "mimetype": "text/x-python",
   "name": "python",
   "nbconvert_exporter": "python",
   "pygments_lexer": "ipython3",
   "version": "3.9.1"
  }
 },
 "nbformat": 4,
 "nbformat_minor": 4
}
