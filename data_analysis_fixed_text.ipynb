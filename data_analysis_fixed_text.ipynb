{
 "cells": [
  {
   "cell_type": "code",
   "execution_count": 1,
   "metadata": {
    "ExecuteTime": {
     "end_time": "2025-01-16T13:49:27.515807Z",
     "start_time": "2025-01-16T13:49:06.573885Z"
    }
   },
   "outputs": [],
   "source": [
    "import keras\n",
    "import numpy as np\n",
    "import pandas as pd\n",
    "import nltk\n",
    "import seaborn as sn\n",
    "import matplotlib.pyplot as plt\n",
    "import language_tool_python\n",
    "import scipy.stats as stats\n",
    "\n",
    "tool = language_tool_python.LanguageTool('en-US')\n",
    "is_bad_rule = lambda rule: rule.message == 'Possible spelling mistake found.' and len(rule.replacements) and \\\n",
    "                           rule.replacements[0][0].isupper()"
   ]
  },
  {
   "cell_type": "markdown",
   "source": [
    "## Transfer key_times.csv (external project) into same format of fixed_text_typing_dataset.csv (emotion recognition)"
   ],
   "metadata": {
    "collapsed": false
   }
  },
  {
   "cell_type": "code",
   "outputs": [],
   "source": [
    "import pandas as pd\n",
    "\n",
    "# Read the CSV\n",
    "df = pd.read_csv('keystrokes_reader_project/key_times.csv')\n",
    "\n",
    "# Replace specific key values with desired characters\n",
    "df['key'] = df['key'].replace({'Key.space': ' ', 'Key.backspace': '\\b', 'Key.enter': '\\n'})\n",
    "\n",
    "# Initialize new DataFrame with the required columns\n",
    "new_df_columns = ['userId', 'emotionIndex', 'index', 'keyCode', 'keyDown', 'keyUp', 'D1U1', 'D1U2', 'D1D2', 'U1D2', 'U1U2', 'D1U3', 'D1D3', 'answer']\n",
    "new_df = pd.DataFrame(columns=new_df_columns)\n",
    "\n",
    "# Loop through each row to calculate time differences\n",
    "for i, row in df.iterrows():\n",
    "    keyCode = row['key']\n",
    "    keyDown = row['down']\n",
    "    keyUp = row['up']\n",
    "    D1U1 = keyUp - keyDown  # Always calculable\n",
    "\n",
    "    # Initialize placeholders\n",
    "    D1U2 = D1D2 = U1D2 = U1U2 = D1U3 = D1D3 = None\n",
    "\n",
    "    # Calculate D1U2, D1D2, U1D2, U1U2 if not the last row\n",
    "    if i < len(df) - 1:\n",
    "        next_row = df.iloc[i + 1]\n",
    "        D1U2 = next_row['up'] - keyDown\n",
    "        D1D2 = next_row['down'] - keyDown\n",
    "        U1D2 = next_row['down'] - keyUp\n",
    "        U1U2 = next_row['up'] - keyUp\n",
    "\n",
    "    # Calculate D1D3, D1U3 if there are at least two more keys ahead\n",
    "    if i < len(df) - 2:\n",
    "        after_next_row = df.iloc[i + 2]\n",
    "        D1D3 = after_next_row['down'] - keyDown\n",
    "        D1U3 = after_next_row['up'] - keyDown\n",
    "\n",
    "    # Append row to new DataFrame\n",
    "    new_row = {\n",
    "        'userId': 100, 'emotionIndex': 'N', 'index': i, 'keyCode': keyCode,\n",
    "        'keyDown': keyDown, 'keyUp': keyUp, 'D1U1': D1U1, 'D1U2': D1U2,\n",
    "        'D1D2': D1D2, 'U1D2': U1D2, 'U1U2': U1U2, 'D1U3': D1U3, 'D1D3': D1D3,\n",
    "        'answer': None\n",
    "    }\n",
    "    new_df = new_df.append(new_row, ignore_index=True)\n",
    "\n",
    "# Export to CSV\n",
    "new_df.to_csv('keystrokes_reader_project/extended_fixed_key_times.csv', index=False)"
   ],
   "metadata": {
    "collapsed": false,
    "ExecuteTime": {
     "end_time": "2025-01-16T13:49:27.609477Z",
     "start_time": "2025-01-16T13:49:27.517807Z"
    }
   },
   "execution_count": 2
  },
  {
   "cell_type": "markdown",
   "metadata": {},
   "source": [
    "## Data importation"
   ]
  },
  {
   "cell_type": "code",
   "execution_count": 3,
   "metadata": {
    "ExecuteTime": {
     "end_time": "2025-01-16T13:49:27.721095Z",
     "start_time": "2025-01-16T13:49:27.611409Z"
    }
   },
   "outputs": [],
   "source": [
    "df_fixed = pd.read_csv('data/fixed_text_typing_dataset.csv', sep=';')\n",
    "df_freq = pd.read_csv('data/frequency_dataset.csv', sep=';')\n",
    "df_user = pd.read_csv('data/participants_information.csv', sep=';')\n",
    "\n",
    "df_freq = df_freq.rename(columns={'User ID': 'userId'})"
   ]
  },
  {
   "cell_type": "markdown",
   "metadata": {},
   "source": [
    "## Sentences reconstruction and feature extraction"
   ]
  },
  {
   "cell_type": "code",
   "execution_count": 4,
   "metadata": {
    "ExecuteTime": {
     "end_time": "2025-01-16T13:49:30.924463Z",
     "start_time": "2025-01-16T13:49:27.722095Z"
    }
   },
   "outputs": [],
   "source": [
    "# reconstruct users' sentences from the keycode in df_fixed\n",
    "\n",
    "sentence = ''\n",
    "uppercase = False\n",
    "uppercase_tmp = False\n",
    "i_start = 0\n",
    "i_end = 0\n",
    "text_fixed = pd.DataFrame(columns=['sentence', 'idx_start', 'idx_end'])\n",
    "\n",
    "df_fixed.keyCode = df_fixed.keyCode.astype(str)\n",
    "\n",
    "for i in range(len(df_fixed)):\n",
    "    if i > 0 and (df_fixed.userId[i] != df_fixed.userId[i - 1] or df_fixed.emotionIndex[i] != df_fixed.emotionIndex[\n",
    "        i - 1]):  #df_fixed._id[i][:-2] != df_fixed._id[i-1][:-2]:\n",
    "        i_end = i - 1\n",
    "        if len(text_fixed) == 62:\n",
    "            ids_start = [i for i in range(len(sentence)) if sentence[i:i + 4] == 'once']\n",
    "            text_fixed = text_fixed.append(pd.DataFrame([[sentence, i_start, i_start + ids_start[1] - 1]],\n",
    "                                                        columns=['sentence', 'idx_start', 'idx_end']),\n",
    "                                           ignore_index=True)\n",
    "            text_fixed = text_fixed.append(\n",
    "                pd.DataFrame([[sentence, i_start + ids_start[1], i_start + ids_start[2] - 1]],\n",
    "                             columns=['sentence', 'idx_start', 'idx_end']), ignore_index=True)\n",
    "            text_fixed = text_fixed.append(\n",
    "                pd.DataFrame([[sentence, i_start + ids_start[2], i_end]], columns=['sentence', 'idx_start', 'idx_end']),\n",
    "                ignore_index=True)\n",
    "        elif len(text_fixed) == 134 or len(text_fixed) == 190:\n",
    "            ids_start = [i for i in range(len(sentence)) if sentence[i:i + 4] == 'Once']\n",
    "            text_fixed = text_fixed.append(pd.DataFrame([[sentence, i_start, i_start + ids_start[1] - 1]],\n",
    "                                                        columns=['sentence', 'idx_start', 'idx_end']),\n",
    "                                           ignore_index=True)\n",
    "            text_fixed = text_fixed.append(\n",
    "                pd.DataFrame([[sentence, i_start + ids_start[1], i_end]], columns=['sentence', 'idx_start', 'idx_end']),\n",
    "                ignore_index=True)\n",
    "        else:\n",
    "            if sentence[0].islower() and sentence[1].isupper():\n",
    "                sentence = sentence.swapcase()\n",
    "            text_fixed = text_fixed.append(\n",
    "                pd.DataFrame([[sentence, i_start, i_end]], columns=['sentence', 'idx_start', 'idx_end']),\n",
    "                ignore_index=True)\n",
    "        i_start = i\n",
    "        sentence = ''\n",
    "        uppercase = False\n",
    "        uppercase_tmp = False\n",
    "    if df_fixed.keyCode[i] == '\\\\b':  # delete key\n",
    "        sentence = sentence[:max(0, len(sentence) - 1)]\n",
    "        uppercase_tmp = False\n",
    "        continue\n",
    "    if df_fixed.keyCode[i] == '\\\\u0014':  # caps lock key\n",
    "        uppercase = not uppercase\n",
    "        continue\n",
    "    if df_fixed.keyCode[i] == '\\\\u0010' and not uppercase:  # shift key\n",
    "        uppercase_tmp = True\n",
    "        continue\n",
    "    if df_fixed.keyCode[i] == '¼':  # comma key\n",
    "        sentence += ','\n",
    "        uppercase_tmp = False\n",
    "        continue\n",
    "    if df_fixed.keyCode[i] == 'ß':  # exclamation mark key\n",
    "        sentence += '!'\n",
    "        uppercase_tmp = False\n",
    "        continue\n",
    "    if df_fixed.keyCode[i] == '¾':  # dot key\n",
    "        sentence += '.'\n",
    "        uppercase_tmp = False\n",
    "        continue\n",
    "    if df_fixed.keyCode[i] == '4    ':  # apostrophe key\n",
    "        sentence += \"'\"\n",
    "        uppercase_tmp = False\n",
    "        continue\n",
    "    if df_fixed.keyCode[i] == '6    ':  # dash key\n",
    "        sentence += \"-\"\n",
    "        uppercase_tmp = False\n",
    "        continue\n",
    "    if df_fixed.keyCode[i] == '¿':  # colon key\n",
    "        sentence += \":\"\n",
    "        uppercase_tmp = False\n",
    "        continue\n",
    "    if uppercase:\n",
    "        sentence += df_fixed.keyCode[i].upper()\n",
    "        continue\n",
    "    if uppercase_tmp:\n",
    "        sentence += df_fixed.keyCode[i].upper()\n",
    "        uppercase_tmp = False\n",
    "        continue\n",
    "    sentence += df_fixed.keyCode[i]\n",
    "\n",
    "text_fixed = text_fixed.append(pd.DataFrame([[sentence, i_start, i]], columns=['sentence', 'idx_start', 'idx_end']),\n",
    "                               ignore_index=True)"
   ]
  },
  {
   "cell_type": "markdown",
   "metadata": {},
   "source": [
    "### Fixed text"
   ]
  },
  {
   "cell_type": "code",
   "execution_count": 5,
   "metadata": {
    "ExecuteTime": {
     "end_time": "2025-01-16T13:49:30.940514Z",
     "start_time": "2025-01-16T13:49:30.925467Z"
    }
   },
   "outputs": [],
   "source": [
    "# fixed text that users have been asked to write\n",
    "\n",
    "gold_fixed = {\n",
    "    'N': 'Once there was a cat and a mouse. Usually, cats eat mice, and mice run away from cats. But this cat and this mouse liked each other very much. They liked each other so much that they lived together.',\n",
    "    'H': 'We can not help falling in love with cute and funny babies. Their beautiful and joyful laughter makes us happy.',\n",
    "    'C': 'Beautiful nature and calm music are always relaxing. The soft sounds are so pleasant to listen to. Watching the superb nature calms our body and soul.',\n",
    "    'S': 'The boy yells at his father to wake him up. But the father is dead. The poor boy is very sad. He realized that his father is gone forever.',\n",
    "    'A': 'Jake has a horrible temper, especially when he drinks alcohol. He gets andgry and agressive when he is drunk. He savagely  beats and violeates his wife.'\n",
    "}"
   ]
  },
  {
   "cell_type": "code",
   "execution_count": 6,
   "metadata": {
    "ExecuteTime": {
     "end_time": "2025-01-16T13:49:30.971516Z",
     "start_time": "2025-01-16T13:49:30.941516Z"
    }
   },
   "outputs": [
    {
     "data": {
      "text/plain": "   userId emotionIndex  index keyCode   keyDown     keyUp D1U1  D1U2    D1D2  \\\n0     100            N   3448       o  1,58E+12  1,58E+12   90  2556  2479.0   \n1     100            N   3449       n  1,58E+12  1,58E+12   77   258   131.0   \n2     100            N   3450       c  1,58E+12  1,58E+12  127   613   519.0   \n3     100            N   3451       e  1,58E+12  1,58E+12   94   276   200.0   \n4     100            N   3452          1,58E+12  1,58E+12   76  2104  2032.0   \n\n   U1D2  U1U2 answer  \n0  2389  2466    NaN  \n1    54   181    NaN  \n2   392   486    NaN  \n3   106   182    NaN  \n4  1956  2028    NaN  ",
      "text/html": "<div>\n<style scoped>\n    .dataframe tbody tr th:only-of-type {\n        vertical-align: middle;\n    }\n\n    .dataframe tbody tr th {\n        vertical-align: top;\n    }\n\n    .dataframe thead th {\n        text-align: right;\n    }\n</style>\n<table border=\"1\" class=\"dataframe\">\n  <thead>\n    <tr style=\"text-align: right;\">\n      <th></th>\n      <th>userId</th>\n      <th>emotionIndex</th>\n      <th>index</th>\n      <th>keyCode</th>\n      <th>keyDown</th>\n      <th>keyUp</th>\n      <th>D1U1</th>\n      <th>D1U2</th>\n      <th>D1D2</th>\n      <th>U1D2</th>\n      <th>U1U2</th>\n      <th>answer</th>\n    </tr>\n  </thead>\n  <tbody>\n    <tr>\n      <th>0</th>\n      <td>100</td>\n      <td>N</td>\n      <td>3448</td>\n      <td>o</td>\n      <td>1,58E+12</td>\n      <td>1,58E+12</td>\n      <td>90</td>\n      <td>2556</td>\n      <td>2479.0</td>\n      <td>2389</td>\n      <td>2466</td>\n      <td>NaN</td>\n    </tr>\n    <tr>\n      <th>1</th>\n      <td>100</td>\n      <td>N</td>\n      <td>3449</td>\n      <td>n</td>\n      <td>1,58E+12</td>\n      <td>1,58E+12</td>\n      <td>77</td>\n      <td>258</td>\n      <td>131.0</td>\n      <td>54</td>\n      <td>181</td>\n      <td>NaN</td>\n    </tr>\n    <tr>\n      <th>2</th>\n      <td>100</td>\n      <td>N</td>\n      <td>3450</td>\n      <td>c</td>\n      <td>1,58E+12</td>\n      <td>1,58E+12</td>\n      <td>127</td>\n      <td>613</td>\n      <td>519.0</td>\n      <td>392</td>\n      <td>486</td>\n      <td>NaN</td>\n    </tr>\n    <tr>\n      <th>3</th>\n      <td>100</td>\n      <td>N</td>\n      <td>3451</td>\n      <td>e</td>\n      <td>1,58E+12</td>\n      <td>1,58E+12</td>\n      <td>94</td>\n      <td>276</td>\n      <td>200.0</td>\n      <td>106</td>\n      <td>182</td>\n      <td>NaN</td>\n    </tr>\n    <tr>\n      <th>4</th>\n      <td>100</td>\n      <td>N</td>\n      <td>3452</td>\n      <td></td>\n      <td>1,58E+12</td>\n      <td>1,58E+12</td>\n      <td>76</td>\n      <td>2104</td>\n      <td>2032.0</td>\n      <td>1956</td>\n      <td>2028</td>\n      <td>NaN</td>\n    </tr>\n  </tbody>\n</table>\n</div>"
     },
     "execution_count": 6,
     "metadata": {},
     "output_type": "execute_result"
    }
   ],
   "source": [
    "# functions to extract features from the df_fixed table\n",
    "df_fixed = df_fixed.drop(['D1U3', 'D1D3'], axis=1)\n",
    "df_fixed.head()"
   ]
  },
  {
   "cell_type": "code",
   "execution_count": 7,
   "metadata": {
    "ExecuteTime": {
     "end_time": "2025-01-16T13:49:30.986955Z",
     "start_time": "2025-01-16T13:49:30.972520Z"
    }
   },
   "outputs": [],
   "source": [
    "def extract_editDistance_fixed(gold_fixed, emotion, sentence):\n",
    "    return nltk.edit_distance(sentence, gold_fixed[emotion])\n",
    "\n",
    "#this method is used to calculate the edit distance between two strings\n",
    "#the edit distance is the number of characters that need to be substituted, inserted, or deleted, to transform one string into another\n",
    "\n",
    "\n",
    "def extract_nbKeystroke(val, start, end):\n",
    "    return val[end] - val[start] + 1\n",
    "\n",
    "#this method is used to calculate the number of keystrokes\n",
    "\n",
    "\n",
    "def extract_mean(val, start, end):\n",
    "    return np.mean(val[start:end + 1])\n",
    "#this method is used to calculate the mean of the values\n",
    "\n",
    "def extract_std(val, start, end):\n",
    "    return np.std(val[start:end + 1])\n",
    "#this method is used to calculate the standard deviation of the values\n",
    "\n",
    "def extract_answer(val, start, end):\n",
    "    for i in range(start, end + 1):\n",
    "        if val[i] != np.nan:\n",
    "            return val[i]\n",
    "    return np.nan\n",
    "#this method is used to extract the answer from the values"
   ]
  },
  {
   "cell_type": "code",
   "execution_count": 8,
   "metadata": {
    "ExecuteTime": {
     "end_time": "2025-01-16T13:49:39.932767Z",
     "start_time": "2025-01-16T13:49:30.989956Z"
    }
   },
   "outputs": [
    {
     "data": {
      "text/plain": "  idx_start idx_end  userId emotionIndex  \\\n0         0     282     100            N   \n1       283     422     100            H   \n2       423     656     113            N   \n3       657     840     113            C   \n4       841     978     113            H   \n\n                                            sentence  editDistance  \\\n0  once there was a cat and a mouse. usually , ca...            26   \n1  We can not help falling in love with cute and ...             2   \n2  Once there was a cat and a mouse\\u0010. Usaual...            23   \n3  Beautiful nature and calm music are always rel...             2   \n4  We can not help falling in love with cute and ...             2   \n\n   nbKeystroke answer  D1U1_mean   D1U1_std   D1U2_mean     D1U2_std  \\\n0          283    NaN  96.074380  31.715592  884.215768  1157.264475   \n1          140      R  99.071429  22.182246  813.769784   701.131104   \n2          234    NaN  88.440171  35.663291  449.802575   381.758170   \n3          184      R  92.587571  51.886713  526.255682   613.476557   \n4          138      R  92.086957  54.058138  443.934307   332.686657   \n\n    D1D2_mean     D1D2_std   U1D2_mean     U1D2_std   U1U2_mean     U1U2_std  \n0  683.060284  1101.553201  694.609959  1157.337134  677.178571  1108.432937  \n1  714.784173   699.459223  615.776978   696.222821  714.762590   697.865776  \n2  361.309013   379.970339  272.832618   380.091995  361.326180   381.705475  \n3  426.710383   601.426508  347.096591   614.503538  421.160221   614.552941  \n4  352.138686   325.048838  260.189781   325.204406  351.985401   332.486627  ",
      "text/html": "<div>\n<style scoped>\n    .dataframe tbody tr th:only-of-type {\n        vertical-align: middle;\n    }\n\n    .dataframe tbody tr th {\n        vertical-align: top;\n    }\n\n    .dataframe thead th {\n        text-align: right;\n    }\n</style>\n<table border=\"1\" class=\"dataframe\">\n  <thead>\n    <tr style=\"text-align: right;\">\n      <th></th>\n      <th>idx_start</th>\n      <th>idx_end</th>\n      <th>userId</th>\n      <th>emotionIndex</th>\n      <th>sentence</th>\n      <th>editDistance</th>\n      <th>nbKeystroke</th>\n      <th>answer</th>\n      <th>D1U1_mean</th>\n      <th>D1U1_std</th>\n      <th>D1U2_mean</th>\n      <th>D1U2_std</th>\n      <th>D1D2_mean</th>\n      <th>D1D2_std</th>\n      <th>U1D2_mean</th>\n      <th>U1D2_std</th>\n      <th>U1U2_mean</th>\n      <th>U1U2_std</th>\n    </tr>\n  </thead>\n  <tbody>\n    <tr>\n      <th>0</th>\n      <td>0</td>\n      <td>282</td>\n      <td>100</td>\n      <td>N</td>\n      <td>once there was a cat and a mouse. usually , ca...</td>\n      <td>26</td>\n      <td>283</td>\n      <td>NaN</td>\n      <td>96.074380</td>\n      <td>31.715592</td>\n      <td>884.215768</td>\n      <td>1157.264475</td>\n      <td>683.060284</td>\n      <td>1101.553201</td>\n      <td>694.609959</td>\n      <td>1157.337134</td>\n      <td>677.178571</td>\n      <td>1108.432937</td>\n    </tr>\n    <tr>\n      <th>1</th>\n      <td>283</td>\n      <td>422</td>\n      <td>100</td>\n      <td>H</td>\n      <td>We can not help falling in love with cute and ...</td>\n      <td>2</td>\n      <td>140</td>\n      <td>R</td>\n      <td>99.071429</td>\n      <td>22.182246</td>\n      <td>813.769784</td>\n      <td>701.131104</td>\n      <td>714.784173</td>\n      <td>699.459223</td>\n      <td>615.776978</td>\n      <td>696.222821</td>\n      <td>714.762590</td>\n      <td>697.865776</td>\n    </tr>\n    <tr>\n      <th>2</th>\n      <td>423</td>\n      <td>656</td>\n      <td>113</td>\n      <td>N</td>\n      <td>Once there was a cat and a mouse\\u0010. Usaual...</td>\n      <td>23</td>\n      <td>234</td>\n      <td>NaN</td>\n      <td>88.440171</td>\n      <td>35.663291</td>\n      <td>449.802575</td>\n      <td>381.758170</td>\n      <td>361.309013</td>\n      <td>379.970339</td>\n      <td>272.832618</td>\n      <td>380.091995</td>\n      <td>361.326180</td>\n      <td>381.705475</td>\n    </tr>\n    <tr>\n      <th>3</th>\n      <td>657</td>\n      <td>840</td>\n      <td>113</td>\n      <td>C</td>\n      <td>Beautiful nature and calm music are always rel...</td>\n      <td>2</td>\n      <td>184</td>\n      <td>R</td>\n      <td>92.587571</td>\n      <td>51.886713</td>\n      <td>526.255682</td>\n      <td>613.476557</td>\n      <td>426.710383</td>\n      <td>601.426508</td>\n      <td>347.096591</td>\n      <td>614.503538</td>\n      <td>421.160221</td>\n      <td>614.552941</td>\n    </tr>\n    <tr>\n      <th>4</th>\n      <td>841</td>\n      <td>978</td>\n      <td>113</td>\n      <td>H</td>\n      <td>We can not help falling in love with cute and ...</td>\n      <td>2</td>\n      <td>138</td>\n      <td>R</td>\n      <td>92.086957</td>\n      <td>54.058138</td>\n      <td>443.934307</td>\n      <td>332.686657</td>\n      <td>352.138686</td>\n      <td>325.048838</td>\n      <td>260.189781</td>\n      <td>325.204406</td>\n      <td>351.985401</td>\n      <td>332.486627</td>\n    </tr>\n  </tbody>\n</table>\n</div>"
     },
     "execution_count": 8,
     "metadata": {},
     "output_type": "execute_result"
    }
   ],
   "source": [
    "# key_features = ['D1U1', 'D1U2', 'D1D2', 'U1D2', 'U1U2']\n",
    "# \n",
    "# text_fixed['userId'] = df_fixed.userId[text_fixed.idx_start].values\n",
    "# text_fixed['emotionIndex'] = df_fixed.emotionIndex[text_fixed.idx_start].values\n",
    "# text_fixed = text_fixed.reindex(columns=['idx_start', 'idx_end', 'userId', 'emotionIndex', 'sentence'])\n",
    "# text_fixed['editDistance'] = text_fixed.apply(\n",
    "#     lambda x: extract_editDistance_fixed(gold_fixed, x['emotionIndex'], x['sentence']), axis=1)\n",
    "# text_fixed['nbKeystroke'] = text_fixed.apply(\n",
    "#     lambda x: extract_nbKeystroke(df_fixed.index, x['idx_start'], x['idx_end']), axis=1)\n",
    "# text_fixed['answer'] = text_fixed.apply(lambda x: extract_answer(df_fixed.answer, x['idx_start'], x['idx_end']), axis=1)\n",
    "# \n",
    "# for feat in key_features:\n",
    "#     df_fixed[feat] = df_fixed[feat].apply(lambda x: np.nan if np.abs(x) > 1570000000000 else x)\n",
    "#     text_fixed[feat + '_mean'] = text_fixed.apply(lambda x: extract_mean(df_fixed[feat], x['idx_start'], x['idx_end']),\n",
    "#                                                   axis=1)\n",
    "#     text_fixed[feat + '_std'] = text_fixed.apply(lambda x: extract_std(df_fixed[feat], x['idx_start'], x['idx_end']),\n",
    "#                                                  axis=1)\n",
    "# \n",
    "# text_fixed.head()\n",
    "\n",
    "\n",
    "# altered due to ufunc error: UFuncTypeError: ufunc 'absolute' did not contain a loop with signature matching types <class 'numpy.dtypes.StrDType'> -> None\n",
    "\n",
    "# Convert the key features columns to numeric, setting errors='coerce' to convert non-numeric values to NaN\n",
    "\n",
    "key_features = ['D1U1', 'D1U2', 'D1D2', 'U1D2', 'U1U2']\n",
    "\n",
    "for feat in key_features:\n",
    "    df_fixed[feat] = pd.to_numeric(df_fixed[feat], errors='coerce')\n",
    "\n",
    "    # Rest of your code\n",
    "text_fixed['userId'] = df_fixed.userId[text_fixed.idx_start].values\n",
    "text_fixed['emotionIndex'] = df_fixed.emotionIndex[text_fixed.idx_start].values\n",
    "text_fixed = text_fixed.reindex(columns=['idx_start', 'idx_end', 'userId', 'emotionIndex', 'sentence'])\n",
    "text_fixed['editDistance'] = text_fixed.apply(\n",
    "    lambda x: extract_editDistance_fixed(gold_fixed, x['emotionIndex'], x['sentence']), axis=1)\n",
    "text_fixed['nbKeystroke'] = text_fixed.apply(\n",
    "    lambda x: extract_nbKeystroke(df_fixed.index, x['idx_start'], x['idx_end']), axis=1)\n",
    "text_fixed['answer'] = text_fixed.apply(lambda x: extract_answer(df_fixed.answer, x['idx_start'], x['idx_end']), axis=1)\n",
    "\n",
    "# Apply the lambda function\n",
    "for feat in key_features:\n",
    "    df_fixed[feat] = df_fixed[feat].apply(lambda x: np.nan if np.abs(x) > 1570000000000 else x)\n",
    "    text_fixed[feat + '_mean'] = text_fixed.apply(lambda x: extract_mean(df_fixed[feat], x['idx_start'], x['idx_end']),\n",
    "                                                  axis=1)\n",
    "    text_fixed[feat + '_std'] = text_fixed.apply(lambda x: extract_std(df_fixed[feat], x['idx_start'], x['idx_end']),\n",
    "                                                 axis=1)\n",
    "\n",
    "text_fixed.head()\n",
    "\n"
   ]
  },
  {
   "cell_type": "code",
   "execution_count": 9,
   "metadata": {
    "ExecuteTime": {
     "end_time": "2025-01-16T13:49:41.593886Z",
     "start_time": "2025-01-16T13:49:39.934766Z"
    }
   },
   "outputs": [
    {
     "data": {
      "text/plain": "[]"
     },
     "execution_count": 9,
     "metadata": {},
     "output_type": "execute_result"
    },
    {
     "data": {
      "text/plain": "<Figure size 1500x1500 with 2 Axes>",
      "image/png": "[encoded data removed]"
     },
     "metadata": {},
     "output_type": "display_data"
    }
   ],
   "source": [
    "## correlation matrix\n",
    "\n",
    "# Numeric columns of the dataset\n",
    "text_fixed.emotionIndex = text_fixed.emotionIndex.map({'N': 0, 'H': 1, 'C': 2, 'S': 3, 'A': 4})\n",
    "numeric_col = ['emotionIndex', 'editDistance', 'nbKeystroke'] + [col for col in text_fixed.columns if\n",
    "                                                                 '_mean' in col] + [col for col in text_fixed.columns if\n",
    "                                                                                    '_std' in col]\n",
    "\n",
    "# Correlation Matrix formation\n",
    "corr_matrix = text_fixed.loc[:, numeric_col].corr()\n",
    "text_fixed.emotionIndex = text_fixed.emotionIndex.map({0: 'N', 1: 'H', 2: 'C', 3: 'S', 4: 'A'})\n",
    "\n",
    "#Using heatmap to visualize the correlation matrix\n",
    "plt.figure(figsize=(15, 15))\n",
    "sn.heatmap(corr_matrix, annot=True)\n",
    "plt.plot()"
   ]
  },
  {
   "cell_type": "markdown",
   "metadata": {},
   "source": [
    "## Join tables: text_fixed with df_freq_fixed"
   ]
  },
  {
   "cell_type": "code",
   "execution_count": 10,
   "metadata": {
    "ExecuteTime": {
     "end_time": "2025-01-16T13:49:41.609888Z",
     "start_time": "2025-01-16T13:49:41.595886Z"
    }
   },
   "outputs": [],
   "source": [
    "# filter fixed-text experiments in df_freq\n",
    "df_freq_fixed = df_freq[df_freq.textIndex == 'FI'].reset_index(drop=True)\n",
    "#this method is used to reset the index of the DataFrame"
   ]
  },
  {
   "cell_type": "code",
   "execution_count": 11,
   "metadata": {
    "ExecuteTime": {
     "end_time": "2025-01-16T13:49:41.625888Z",
     "start_time": "2025-01-16T13:49:41.611886Z"
    }
   },
   "outputs": [],
   "source": [
    "# correction of expections to align df_freq_fixed and text_fixed tables\n",
    "text_fixed.loc[44, 'userId'] = 94\n",
    "tmp = text_fixed.loc[30]\n",
    "text_fixed.loc[30] = text_fixed.loc[31]\n",
    "text_fixed.loc[31] = tmp"
   ]
  },
  {
   "cell_type": "code",
   "execution_count": 12,
   "metadata": {
    "ExecuteTime": {
     "end_time": "2025-01-16T13:49:41.753884Z",
     "start_time": "2025-01-16T13:49:41.627888Z"
    }
   },
   "outputs": [],
   "source": [
    "# alignment of df_freq_fixed and text_fixed tables\n",
    "text_fixed['text_index'] = -1\n",
    "df_freq_fixed['text_index'] = -1\n",
    "index = 0\n",
    "\n",
    "i = 0\n",
    "j = 0\n",
    "while i < len(df_freq_fixed) and j < len(text_fixed):\n",
    "    if df_freq_fixed.userId[i] == text_fixed.userId[j] and df_freq_fixed.emotionIndex[i] == text_fixed.emotionIndex[j]:\n",
    "        df_freq_fixed.loc[i, 'text_index'] = index\n",
    "        text_fixed.loc[j, 'text_index'] = index\n",
    "        index += 1\n",
    "        i += 1\n",
    "        j += 1\n",
    "    elif j != len(text_fixed) - 1 and df_freq_fixed.userId[i] == text_fixed.userId[j + 1] and \\\n",
    "            df_freq_fixed.emotionIndex[i] == text_fixed.emotionIndex[j + 1]:\n",
    "        df_freq_fixed.loc[i, 'text_index'] = index\n",
    "        text_fixed.loc[j + 1, 'text_index'] = index\n",
    "        index += 1\n",
    "        i += 1\n",
    "        j += 2\n",
    "    elif i != len(df_freq_fixed) - 1 and df_freq_fixed.userId[i + 1] == text_fixed.userId[j] and \\\n",
    "            df_freq_fixed.emotionIndex[i + 1] == text_fixed.emotionIndex[j]:\n",
    "        df_freq_fixed.loc[i + 1, 'text_index'] = index\n",
    "        text_fixed.loc[j, 'text_index'] = index\n",
    "        index += 1\n",
    "        i += 2\n",
    "        j += 1\n",
    "    else:\n",
    "        i += 1\n",
    "        j += 1"
   ]
  },
  {
   "cell_type": "code",
   "execution_count": 13,
   "metadata": {
    "ExecuteTime": {
     "end_time": "2025-01-16T13:49:41.769884Z",
     "start_time": "2025-01-16T13:49:41.755885Z"
    }
   },
   "outputs": [],
   "source": [
    "# correction of expections to align df_freq_fixed and df_user tables\n",
    "tmp = df_user.loc[92]\n",
    "df_user.loc[92] = df_user.loc[91]\n",
    "df_user.loc[91] = tmp"
   ]
  },
  {
   "cell_type": "code",
   "execution_count": 14,
   "metadata": {
    "ExecuteTime": {
     "end_time": "2025-01-16T13:49:41.832886Z",
     "start_time": "2025-01-16T13:49:41.770884Z"
    }
   },
   "outputs": [],
   "source": [
    "## alignment of df_freq_index and df_user tables\n",
    "df_freq_fixed['user_index'] = -1\n",
    "index = 0\n",
    "\n",
    "j = 0\n",
    "for i in range(len(df_freq_fixed)):\n",
    "    if i in [39, 59, 71, 145, 156, 159, 179, 235]:\n",
    "        j += 1\n",
    "    if j < len(df_user) and df_freq_fixed.userId[i] == df_user.userId[j]:\n",
    "        df_freq_fixed.loc[i, 'user_index'] = j\n",
    "        i += 1\n",
    "    else:\n",
    "        if j < len(df_user) - 1 and df_freq_fixed.userId[i] == df_user.userId[j + 1]:\n",
    "            df_freq_fixed.loc[i, 'user_index'] = j + 1\n",
    "            i += 1\n",
    "            j += 1\n",
    "        else:\n",
    "            for k in range(1, 6):\n",
    "                if df_freq_fixed.userId[i] == df_freq_fixed.userId[i - k]:\n",
    "                    df_freq_fixed.loc[i, 'user_index'] = df_freq_fixed.loc[i - k, 'user_index']\n",
    "                    break"
   ]
  },
  {
   "cell_type": "code",
   "execution_count": 15,
   "metadata": {
    "ExecuteTime": {
     "end_time": "2025-01-16T13:49:41.879886Z",
     "start_time": "2025-01-16T13:49:41.834886Z"
    }
   },
   "outputs": [
    {
     "data": {
      "text/plain": "   userId textIndex emotionIndex  delFreq  leftFreq   TotTime  text_index  \\\n0     100        FI            N        8         1  192762.0           0   \n1     100        FI            H       11         0   99463.0           1   \n2     113        FI            N       10         0   84265.0           2   \n3     113        FI            C        7         0   78186.0           3   \n4     113        FI            H        9         0   48354.0           4   \n\n   user_index idx_start idx_end  ...   U1U2_mean     U1U2_std  typeWith  \\\n0           0         0     282  ...  677.178571  1108.432937   2 hands   \n1           0       283     422  ...  714.762590   697.865776   2 hands   \n2           1       423     656  ...  361.326180   381.705475   2 hands   \n3           1       657     840  ...  421.160221   614.552941   2 hands   \n4           1       841     978  ...  351.985401   332.486627   2 hands   \n\n          typistType              pcTimeAverage  ageRange  gender   status  \\\n0       Touch Typist  More than 3 hours per day     16-19  Female  Student   \n1       Touch Typist  More than 3 hours per day     16-19  Female  Student   \n2  Two Finger Typist  less than an hour per day     20-29  Female  Student   \n3  Two Finger Typist  less than an hour per day     20-29  Female  Student   \n4  Two Finger Typist  less than an hour per day     20-29  Female  Student   \n\n               degree  country  \n0  College/University  Tunisia  \n1  College/University  Tunisia  \n2  College/University  Tunisia  \n3  College/University  Tunisia  \n4  College/University  Tunisia  \n\n[5 rows x 32 columns]",
      "text/html": "<div>\n<style scoped>\n    .dataframe tbody tr th:only-of-type {\n        vertical-align: middle;\n    }\n\n    .dataframe tbody tr th {\n        vertical-align: top;\n    }\n\n    .dataframe thead th {\n        text-align: right;\n    }\n</style>\n<table border=\"1\" class=\"dataframe\">\n  <thead>\n    <tr style=\"text-align: right;\">\n      <th></th>\n      <th>userId</th>\n      <th>textIndex</th>\n      <th>emotionIndex</th>\n      <th>delFreq</th>\n      <th>leftFreq</th>\n      <th>TotTime</th>\n      <th>text_index</th>\n      <th>user_index</th>\n      <th>idx_start</th>\n      <th>idx_end</th>\n      <th>...</th>\n      <th>U1U2_mean</th>\n      <th>U1U2_std</th>\n      <th>typeWith</th>\n      <th>typistType</th>\n      <th>pcTimeAverage</th>\n      <th>ageRange</th>\n      <th>gender</th>\n      <th>status</th>\n      <th>degree</th>\n      <th>country</th>\n    </tr>\n  </thead>\n  <tbody>\n    <tr>\n      <th>0</th>\n      <td>100</td>\n      <td>FI</td>\n      <td>N</td>\n      <td>8</td>\n      <td>1</td>\n      <td>192762.0</td>\n      <td>0</td>\n      <td>0</td>\n      <td>0</td>\n      <td>282</td>\n      <td>...</td>\n      <td>677.178571</td>\n      <td>1108.432937</td>\n      <td>2 hands</td>\n      <td>Touch Typist</td>\n      <td>More than 3 hours per day</td>\n      <td>16-19</td>\n      <td>Female</td>\n      <td>Student</td>\n      <td>College/University</td>\n      <td>Tunisia</td>\n    </tr>\n    <tr>\n      <th>1</th>\n      <td>100</td>\n      <td>FI</td>\n      <td>H</td>\n      <td>11</td>\n      <td>0</td>\n      <td>99463.0</td>\n      <td>1</td>\n      <td>0</td>\n      <td>283</td>\n      <td>422</td>\n      <td>...</td>\n      <td>714.762590</td>\n      <td>697.865776</td>\n      <td>2 hands</td>\n      <td>Touch Typist</td>\n      <td>More than 3 hours per day</td>\n      <td>16-19</td>\n      <td>Female</td>\n      <td>Student</td>\n      <td>College/University</td>\n      <td>Tunisia</td>\n    </tr>\n    <tr>\n      <th>2</th>\n      <td>113</td>\n      <td>FI</td>\n      <td>N</td>\n      <td>10</td>\n      <td>0</td>\n      <td>84265.0</td>\n      <td>2</td>\n      <td>1</td>\n      <td>423</td>\n      <td>656</td>\n      <td>...</td>\n      <td>361.326180</td>\n      <td>381.705475</td>\n      <td>2 hands</td>\n      <td>Two Finger Typist</td>\n      <td>less than an hour per day</td>\n      <td>20-29</td>\n      <td>Female</td>\n      <td>Student</td>\n      <td>College/University</td>\n      <td>Tunisia</td>\n    </tr>\n    <tr>\n      <th>3</th>\n      <td>113</td>\n      <td>FI</td>\n      <td>C</td>\n      <td>7</td>\n      <td>0</td>\n      <td>78186.0</td>\n      <td>3</td>\n      <td>1</td>\n      <td>657</td>\n      <td>840</td>\n      <td>...</td>\n      <td>421.160221</td>\n      <td>614.552941</td>\n      <td>2 hands</td>\n      <td>Two Finger Typist</td>\n      <td>less than an hour per day</td>\n      <td>20-29</td>\n      <td>Female</td>\n      <td>Student</td>\n      <td>College/University</td>\n      <td>Tunisia</td>\n    </tr>\n    <tr>\n      <th>4</th>\n      <td>113</td>\n      <td>FI</td>\n      <td>H</td>\n      <td>9</td>\n      <td>0</td>\n      <td>48354.0</td>\n      <td>4</td>\n      <td>1</td>\n      <td>841</td>\n      <td>978</td>\n      <td>...</td>\n      <td>351.985401</td>\n      <td>332.486627</td>\n      <td>2 hands</td>\n      <td>Two Finger Typist</td>\n      <td>less than an hour per day</td>\n      <td>20-29</td>\n      <td>Female</td>\n      <td>Student</td>\n      <td>College/University</td>\n      <td>Tunisia</td>\n    </tr>\n  </tbody>\n</table>\n<p>5 rows × 32 columns</p>\n</div>"
     },
     "execution_count": 15,
     "metadata": {},
     "output_type": "execute_result"
    }
   ],
   "source": [
    "# merge all tables\n",
    "df_fixed_all = df_freq_fixed.join(text_fixed, on='text_index', how='left', rsuffix='_right')\n",
    "df_fixed_all = df_fixed_all.drop(['userId_right', 'emotionIndex_right', 'text_index_right'], axis=1)\n",
    "df_fixed_all = df_fixed_all.join(df_user.reset_index().rename(columns={'index': 'user_index'}), on='user_index',\n",
    "                                 how='left', rsuffix='_right')\n",
    "df_fixed_all = df_fixed_all.drop(['user_index_right', 'userId_right'], axis=1)\n",
    "df_fixed_all.head()\n",
    "\n",
    "#df_fixed_all is the final DataFrame that contains all the information, that was built by joining the tables df_freq_fixed, text_fixed and df_user by using indexes that suit the sentences that were answered by the users"
   ]
  },
  {
   "cell_type": "markdown",
   "metadata": {},
   "source": [
    "## Data analysis"
   ]
  },
  {
   "cell_type": "markdown",
   "metadata": {},
   "source": [
    "### Useful functions"
   ]
  },
  {
   "cell_type": "code",
   "execution_count": 16,
   "metadata": {
    "ExecuteTime": {
     "end_time": "2025-01-16T13:49:48.731491Z",
     "start_time": "2025-01-16T13:49:41.881887Z"
    }
   },
   "outputs": [],
   "source": [
    "from sklearn.model_selection import train_test_split\n",
    "from sklearn.linear_model import LogisticRegression\n",
    "from sklearn.ensemble import RandomForestClassifier\n",
    "from sklearn.preprocessing import StandardScaler, MinMaxScaler\n",
    "from sklearn.svm import SVC\n",
    "from sklearn import metrics, model_selection\n",
    "from sklearn.neural_network import MLPClassifier\n",
    "import xgboost as xgb\n",
    "import shap\n",
    "from tqdm import trange"
   ]
  },
  {
   "cell_type": "code",
   "execution_count": 17,
   "metadata": {
    "ExecuteTime": {
     "end_time": "2025-01-16T13:49:48.746187Z",
     "start_time": "2025-01-16T13:49:48.732490Z"
    }
   },
   "outputs": [],
   "source": [
    "# Receiving a dictionary of performance metrics and printing them\n",
    "def show_metrics(performance_metrics):\n",
    "    for metric_name, metric in performance_metrics.items():\n",
    "        if metric_name.startswith(\"Confusion\"):\n",
    "            print(\"Confusion Matrix: \")\n",
    "            if len(metric) != 5:\n",
    "                print(pd.DataFrame(metric))\n",
    "            else:\n",
    "                print(pd.DataFrame(metric,\n",
    "                                   index=list(label_dictionary.values()),\n",
    "                                   columns=list(label_dictionary.values())))\n",
    "        else:\n",
    "            print(\"Metric : % s, Score : % 5.2f\" % (metric_name, metric))"
   ]
  },
  {
   "cell_type": "code",
   "execution_count": 18,
   "metadata": {
    "ExecuteTime": {
     "end_time": "2025-01-16T13:49:48.776734Z",
     "start_time": "2025-01-16T13:49:48.747190Z"
    }
   },
   "outputs": [],
   "source": [
    "# Plotting the Confusion Matrix as a heatmap\n",
    "label_dictionary = {1: 'N', 2: 'H', 3: 'C', 4: 'S', 5: 'A'}\n",
    "\n",
    "import pandas as pd\n",
    "from sklearn.model_selection import train_test_split\n",
    "from sklearn.preprocessing import StandardScaler, MinMaxScaler\n",
    "from sklearn.svm import SVC\n",
    "from sklearn.metrics import accuracy_score, confusion_matrix, ConfusionMatrixDisplay\n",
    "from sklearn.inspection import permutation_importance\n",
    "import matplotlib.pyplot as plt\n",
    "import pickle\n",
    "import logging\n",
    "\n",
    "# Set up logging\n",
    "logging.basicConfig(level=logging.INFO, format='%(asctime)s - %(levelname)s - %(message)s')\n",
    "\n",
    "# Define the plot_confusion_matrix function\n",
    "def plot_confusion_matrix(confusion_matrix, filename):\n",
    "    if len(confusion_matrix) != 5:\n",
    "        df_cm = pd.DataFrame(confusion_matrix)\n",
    "    else:\n",
    "        df_cm = pd.DataFrame(confusion_matrix,\n",
    "                             index=[i for i in label_dictionary.values()],\n",
    "                             columns=[i for i in label_dictionary.values()])\n",
    "    plt.figure()\n",
    "    sn.set(font_scale=1.4)  # for label size\n",
    "    sn.heatmap(df_cm, annot=True, annot_kws={\"size\": 16}, cmap=\"Blues\")\n",
    "    plt.savefig(filename)\n",
    "    plt.close()"
   ]
  },
  {
   "cell_type": "code",
   "execution_count": 19,
   "metadata": {
    "ExecuteTime": {
     "end_time": "2025-01-16T13:49:48.792321Z",
     "start_time": "2025-01-16T13:49:48.778735Z"
    }
   },
   "outputs": [],
   "source": [
    "# Computing the different Performance Metrics\n",
    "def compute_metrics(clf, dataX, dataY, show=False):\n",
    "    def performance_measures(y_true, y_pred):\n",
    "        cnf_matrix = metrics.confusion_matrix(y_true, y_pred, normalize='true')\n",
    "\n",
    "        FP = cnf_matrix.sum(axis=0) - np.diag(cnf_matrix)\n",
    "        FN = cnf_matrix.sum(axis=1) - np.diag(cnf_matrix)\n",
    "        TP = np.diag(cnf_matrix)\n",
    "        TN = cnf_matrix.sum() - (FP + FN + TP)\n",
    "\n",
    "        FP = FP.astype(float)\n",
    "        FN = FN.astype(float)\n",
    "        TP = TP.astype(float)\n",
    "        TN = TN.astype(float)\n",
    "\n",
    "        acc = np.mean((TP + TN) / (TP + FP + FN + TN))\n",
    "        TP_rate = np.mean(TP / (TP + FN))\n",
    "        FP_rate = np.mean(FP / (FP + TN))\n",
    "        precision = np.mean(TP / (TP + FP))\n",
    "        f_measure = 2 * precision * TP_rate / (precision + TP_rate)\n",
    "        f_micro = metrics.f1_score(y_true, y_pred, average='micro')\n",
    "        f_macro = metrics.f1_score(y_true, y_pred, average='macro')\n",
    "\n",
    "        return (acc, TP_rate, FP_rate, precision, f_measure, f_micro, f_macro,\n",
    "                np.round(cnf_matrix, 2))\n",
    "\n",
    "    acc, tp_rate, fp_rate, precision, f_measure, f_micro, f_macro, confusion_matrix = performance_measures(y_true=dataY,\n",
    "                                                                                                           y_pred=clf.predict(\n",
    "                                                                                                               dataX))\n",
    "\n",
    "    performance_metrics = {\"ACC\": acc, \"TP_Rate\": tp_rate, \"FP_Rate\": fp_rate,\n",
    "                           \"Precision\": precision, \"F_Measure\": f_measure, \"F_Micro\": f_micro, \"F_Macro\": f_macro,\n",
    "                           \"Confusion Matrix\": confusion_matrix}\n",
    "    if show:\n",
    "        show_metrics(performance_metrics)\n",
    "\n",
    "    return performance_metrics, clf"
   ]
  },
  {
   "cell_type": "markdown",
   "metadata": {},
   "source": [
    "### Data pre-processing"
   ]
  },
  {
   "cell_type": "code",
   "execution_count": 20,
   "metadata": {
    "ExecuteTime": {
     "end_time": "2025-01-16T13:49:48.807465Z",
     "start_time": "2025-01-16T13:49:48.793326Z"
    }
   },
   "outputs": [],
   "source": [
    "data_fixed = df_fixed_all.loc[:, df_fixed_all.columns.difference(\n",
    "    ['user_index', 'emotionIndex', 'userId', 'textIndex', 'text_index', 'idx_start', 'idx_end', 'sentence'])]\n",
    "#loc method is a method that takes only index labels and returns the rows of the dataframe\n",
    "label_fixed = df_fixed_all.emotionIndex.map({'N': 0, 'H': 1, 'C': 2, 'S': 3, 'A': 4})\n",
    "# "
   ]
  },
  {
   "cell_type": "code",
   "execution_count": 21,
   "metadata": {
    "ExecuteTime": {
     "end_time": "2025-01-16T13:49:48.838743Z",
     "start_time": "2025-01-16T13:49:48.808465Z"
    }
   },
   "outputs": [],
   "source": [
    "# convert categorical features into numerical features\n",
    "data_fixed.gender = (data_fixed.gender == 'Male')\n",
    "data_fixed.ageRange = data_fixed.ageRange.map({'16-19': 1, '20-29': 2, '30-39': 3, '>=50': 4})\n",
    "data_fixed.answer = data_fixed.answer.map({'R': 1, 'W': 0})\n",
    "data_fixed.degree = data_fixed.degree.map({'High School': 1, 'College/University': 2})\n",
    "data_fixed.pcTimeAverage = data_fixed.pcTimeAverage.map(\n",
    "    {'less than an hour per day': 1, 'between 1 hour and 3 hours per day': 2, 'More than 3 hours per day': 3})\n",
    "data_fixed.status = data_fixed.status.map({'Student': 1, 'Professional': 2})\n",
    "data_fixed.typeWith = data_fixed.typeWith.map({'1 hand': 1, '2 hands': 2})\n",
    "data_fixed = pd.get_dummies(data_fixed, columns=['country', 'typistType'])\n",
    "data_fixed = data_fixed.fillna(-1)\n",
    "#fillna method (-1) means that the missing values (NaN) are replaced by -1"
   ]
  },
  {
   "cell_type": "code",
   "execution_count": 22,
   "metadata": {
    "ExecuteTime": {
     "end_time": "2025-01-16T13:49:48.854743Z",
     "start_time": "2025-01-16T13:49:48.840744Z"
    }
   },
   "outputs": [
    {
     "name": "stdout",
     "output_type": "stream",
     "text": [
      "['D1D2_mean', 'D1D2_std', 'D1U1_mean', 'D1U1_std', 'D1U2_mean', 'D1U2_std', 'TotTime', 'U1D2_mean', 'U1D2_std', 'U1U2_mean', 'U1U2_std', 'ageRange', 'answer', 'degree', 'delFreq', 'editDistance', 'gender', 'leftFreq', 'nbKeystroke', 'pcTimeAverage', 'status', 'typeWith', 'country_Angola', 'country_Arabie_Saoudite', 'country_Bahamas', 'country_Barbade', 'country_Belgique', 'country_Belize', 'country_Canada', 'country_France', 'country_Germany', 'country_Italy', 'country_Portugal', 'country_Spain', 'country_Suisse', 'country_Tunisia', 'country_United Arab Emirates', 'country_United_States', 'typistType_One Finger Typist', 'typistType_Touch Typist', 'typistType_Two Finger Typist']\n",
      "41\n"
     ]
    }
   ],
   "source": [
    "data_fixed_filter = data_fixed\n",
    "features = data_fixed_filter.columns.tolist()\n",
    "print(features)\n",
    "print(len(features))\n",
    "#label_fixed = (label_fixed == 1)  ## for binary models"
   ]
  },
  {
   "cell_type": "markdown",
   "metadata": {},
   "source": [
    "### Statistical analysis"
   ]
  },
  {
   "cell_type": "code",
   "execution_count": 23,
   "metadata": {
    "ExecuteTime": {
     "end_time": "2025-01-16T13:49:48.870284Z",
     "start_time": "2025-01-16T13:49:48.855744Z"
    }
   },
   "outputs": [
    {
     "data": {
      "text/plain": "count     243.000000\nmean      527.396707\nstd       265.232255\nmin        -1.000000\n25%       382.898585\n50%       461.966216\n75%       577.206529\nmax      2831.904167\nName: D1U2_mean, dtype: float64"
     },
     "execution_count": 23,
     "metadata": {},
     "output_type": "execute_result"
    }
   ],
   "source": [
    "data_fixed.D1U2_mean.describe()"
   ]
  },
  {
   "cell_type": "code",
   "execution_count": 24,
   "metadata": {
    "ExecuteTime": {
     "end_time": "2025-01-16T13:49:48.918224Z",
     "start_time": "2025-01-16T13:49:48.871223Z"
    }
   },
   "outputs": [
    {
     "name": "stdout",
     "output_type": "stream",
     "text": [
      "typeWith: F_onewayResult(statistic=1.0625981968164069, pvalue=0.3656656135760937)\n",
      "gender: F_onewayResult(statistic=0.756571665449794, pvalue=0.5195069267139663)\n",
      "ageRange: F_onewayResult(statistic=0.9274717411270018, pvalue=0.4281108442943713)\n",
      "degree: F_onewayResult(statistic=0.5685627041613412, pvalue=0.6362275327388702)\n",
      "pcTimeAverage: F_onewayResult(statistic=1.6099404272995905, pvalue=0.1877059793560212)\n",
      "status: F_onewayResult(statistic=1.999588159091468, pvalue=0.11471258141355706)\n",
      "typeWith: F_onewayResult(statistic=0.19334546370631087, pvalue=0.9008717295902245)\n",
      "gender: F_onewayResult(statistic=0.3654624110050236, pvalue=0.7780002578658874)\n",
      "ageRange: F_onewayResult(statistic=1.33024615974079, pvalue=0.26515452912006854)\n",
      "degree: F_onewayResult(statistic=0.2681775674212019, pvalue=0.8483045927322145)\n",
      "pcTimeAverage: F_onewayResult(statistic=1.5907019558837678, pvalue=0.19226733253030542)\n",
      "status: F_onewayResult(statistic=0.6107938109828985, pvalue=0.6086008444504862)\n",
      "typeWith: F_onewayResult(statistic=0.19334546370631087, pvalue=0.9008717295902245)\n",
      "gender: F_onewayResult(statistic=0.3654624110050236, pvalue=0.7780002578658874)\n",
      "ageRange: F_onewayResult(statistic=1.33024615974079, pvalue=0.26515452912006854)\n",
      "degree: F_onewayResult(statistic=0.2681775674212019, pvalue=0.8483045927322145)\n",
      "pcTimeAverage: F_onewayResult(statistic=1.5907019558837678, pvalue=0.19226733253030542)\n",
      "status: F_onewayResult(statistic=0.6107938109828985, pvalue=0.6086008444504862)\n",
      "typeWith: F_onewayResult(statistic=0.7703406955391852, pvalue=0.5116173513704729)\n",
      "gender: F_onewayResult(statistic=1.2849793293869678, pvalue=0.28016804533731643)\n",
      "ageRange: F_onewayResult(statistic=1.5443587480119303, pvalue=0.20368715625803466)\n",
      "degree: F_onewayResult(statistic=1.0150572299132365, pvalue=0.3866798584103914)\n",
      "pcTimeAverage: F_onewayResult(statistic=2.1743851400205814, pvalue=0.09169030477864842)\n",
      "status: F_onewayResult(statistic=0.7772826826534772, pvalue=0.5076746436249924)\n"
     ]
    }
   ],
   "source": [
    "# only for demographic features\n",
    "# , 'country', 'typistType'\n",
    "\n",
    "test_columns = ['D1U2_mean', 'D1D2_mean', 'D1D2_mean', 'U1D2_mean']\n",
    "personal_col = ['typeWith', 'gender', 'ageRange', 'degree', 'pcTimeAverage', 'status']\n",
    "for column in test_columns:\n",
    "    for col in personal_col:\n",
    "        anova = stats.f_oneway(data_fixed.loc[data_fixed[column] < 383, col],\n",
    "                               data_fixed.loc[(data_fixed[column] >= 383) & (data_fixed[column] < 462), col],\n",
    "                               data_fixed.loc[(data_fixed[column] >= 462) & (data_fixed[column] < 577), col],\n",
    "                               data_fixed.loc[data_fixed[column] >= 577, col])\n",
    "        print(col + ': ' + str(anova))"
   ]
  },
  {
   "cell_type": "markdown",
   "metadata": {},
   "source": [
    "### Multi-class models"
   ]
  },
  {
   "cell_type": "code",
   "execution_count": 25,
   "metadata": {
    "ExecuteTime": {
     "end_time": "2025-01-16T13:49:48.934221Z",
     "start_time": "2025-01-16T13:49:48.919225Z"
    }
   },
   "outputs": [],
   "source": [
    "#define classification models\n",
    "classifiers_name = ['LogReg', 'RF', 'XGB', 'SVM', 'MLP']\n",
    "\n",
    "classifiers = [\n",
    "    LogisticRegression(multi_class='auto', max_iter=500, solver='newton-cg',\n",
    "                       class_weight={0: 0.1, 1: 1, 2: 1, 3: 1, 4: 1}),\n",
    "    RandomForestClassifier(n_estimators=200, max_depth=5, class_weight={0: 0.1, 1: 1, 2: 1, 3: 1, 4: 1}),\n",
    "    xgb.XGBClassifier(objective='multi:softmax', eval_metric='mlogloss', use_label_encoder=False),\n",
    "    SVC(kernel='rbf', decision_function_shape='ovr', probability=True),  #, class_weight={0:0.1,1:1,2:1,3:1,4:1}),\n",
    "    MLPClassifier(alpha=1, max_iter=500)]"
   ]
  },
  {
   "cell_type": "code",
   "outputs": [],
   "source": [
    "# comment in afterwards\n",
    "\n",
    "# micro-F1 scores with a 10-fold cross-validation method\n",
    "\n",
    "#model_scores_micro = {}\n",
    "#for i in range(len(classifiers)):\n",
    "#    model_scores_micro[classifiers_name[i]] = []\n",
    "#    print(classifiers_name[i])\n",
    "#    for j in range(10):\n",
    "#        model = classifiers[i]\n",
    "#        scores = model_selection.cross_val_score(model, X=data_fixed_filter, y=label_fixed, cv=10, n_jobs=1,\n",
    "#                                                 scoring='f1_micro')\n",
    "#        model_scores_micro[classifiers_name[i]] += list(scores)\n",
    "#    mean = np.nanmean(model_scores_micro[classifiers_name[i]])\n",
    "#    std = np.nanstd(model_scores_micro[classifiers_name[i]])\n",
    "#    model_scores_micro[classifiers_name[i]] = [mean, std]\n",
    "\n",
    "#model_scores_micro"
   ],
   "metadata": {
    "collapsed": false,
    "ExecuteTime": {
     "end_time": "2025-01-16T13:49:48.950276Z",
     "start_time": "2025-01-16T13:49:48.935226Z"
    }
   },
   "execution_count": 26
  },
  {
   "cell_type": "code",
   "execution_count": 27,
   "metadata": {
    "ExecuteTime": {
     "end_time": "2025-01-16T13:49:48.966251Z",
     "start_time": "2025-01-16T13:49:48.951241Z"
    }
   },
   "outputs": [],
   "source": [
    "# comment in afterwards\n",
    "\n",
    "# macro-F1 scores with a 10-fold cross-validation method\n",
    "\n",
    "#model_scores_macro = {}\n",
    "#for i in range(len(classifiers)):\n",
    "#    model_scores_macro[classifiers_name[i]] = []\n",
    "#    print(classifiers_name[i])\n",
    "#    for j in range(10):\n",
    "#        model = classifiers[i]\n",
    "#        scores = model_selection.cross_val_score(model, X=data_fixed_filter, y=label_fixed, cv=10, n_jobs=1,\n",
    "#                                                 scoring='f1_macro')\n",
    "#        model_scores_macro[classifiers_name[i]] += list(scores)\n",
    "#    mean = np.nanmean(model_scores_macro[classifiers_name[i]])\n",
    "#    std = np.nanstd(model_scores_macro[classifiers_name[i]])\n",
    "#    model_scores_macro[classifiers_name[i]] = [mean, std]\n",
    "#\n",
    "#model_scores_macro"
   ]
  },
  {
   "cell_type": "markdown",
   "metadata": {},
   "source": [
    "#### Best multi-class model"
   ]
  },
  {
   "cell_type": "markdown",
   "source": [
    "### Save Models"
   ],
   "metadata": {
    "collapsed": false
   }
  },
  {
   "cell_type": "code",
   "outputs": [],
   "source": [
    "#\"models.pkl\" | \"models.pickle\"\n",
    "def save_model_m(path: str, models):\n",
    "    with open(r\"{path}\", 'wb') as model_writer:\n",
    "        model_writer.write(models)\n",
    "\n",
    "\n",
    "def load_model_m(path: str):\n",
    "    models: list\n",
    "    with open(r\"{path}\", 'rb') as model_reader:\n",
    "        models = model_reader.read()\n",
    "    return models\n",
    "\n",
    "#TODO: also save scaler, may also be added in save model, path and type inlcuded"
   ],
   "metadata": {
    "collapsed": false,
    "ExecuteTime": {
     "end_time": "2025-01-16T13:49:48.981492Z",
     "start_time": "2025-01-16T13:49:48.967254Z"
    }
   },
   "execution_count": 28
  },
  {
   "cell_type": "code",
   "outputs": [],
   "source": [
    "import pandas as pd\n",
    "import pickle\n",
    "from sklearn.preprocessing import MinMaxScaler\n",
    "\n",
    "\n",
    "# Save the model to a file\n",
    "def save_model(model, filename):\n",
    "    with open(filename, 'wb') as file:\n",
    "        pickle.dump(model, file)\n",
    "\n",
    "\n",
    "# Load the model from a file\n",
    "def load_model(filename):\n",
    "    with open(filename, 'rb') as file:\n",
    "        return pickle.load(file)\n",
    "\n",
    "\n",
    "# Method to read a CSV file and predict the emotion\n",
    "def predict_emotion(csv_file, model_file):\n",
    "    # Load the model\n",
    "    model = load_model(model_file)\n",
    "\n",
    "    # Read the CSV file\n",
    "    data = pd.read_csv(csv_file)\n",
    "\n",
    "    # Preprocess the data\n",
    "    data['typeWith'] = data['typeWith'].map({'1 hand': 1, '2 hands': 2})\n",
    "    data['gender'] = (data['gender'] == 'Male')\n",
    "    data['ageRange'] = data['ageRange'].map({'16-19': 1, '20-29': 2, '30-39': 3, '>=50': 4})\n",
    "    data['degree'] = data['degree'].map({'High School': 1, 'College/University': 2})\n",
    "    data['pcTimeAverage'] = data['pcTimeAverage'].map(\n",
    "        {'less than an hour per day': 1, 'between 1 hour and 3 hours per day': 2, 'More than 3 hours per day': 3})\n",
    "    data['status'] = data['status'].map({'Student': 1, 'Professional': 2})\n",
    "\n",
    "    # Convert 'country' and 'typistType' columns if they exist\n",
    "    if 'country' in data.columns and 'typistType' in data.columns:\n",
    "        data = pd.get_dummies(data, columns=['country', 'typistType'])\n",
    "\n",
    "    data = data.fillna(-1)\n",
    "\n",
    "    # Scale the data\n",
    "    scaler = MinMaxScaler()\n",
    "    data = scaler.fit_transform(data)\n",
    "\n",
    "    # Predict the emotion\n",
    "    print(type(model))\n",
    "    predictions = model.predict_proba(data)\n",
    "\n",
    "    return predictions"
   ],
   "metadata": {
    "collapsed": false,
    "ExecuteTime": {
     "end_time": "2025-01-16T13:49:48.996675Z",
     "start_time": "2025-01-16T13:49:48.982494Z"
    }
   },
   "execution_count": 29
  },
  {
   "cell_type": "code",
   "outputs": [],
   "source": [
    "import matplotlib.pyplot as plt\n",
    "\n",
    "def save_feature_importance_plot(feature_importance, filename, title):\n",
    "    plt.figure(figsize=(10, 6))\n",
    "    feature_importance.plot(kind='bar', color='skyblue')\n",
    "    plt.title(title)\n",
    "    plt.xlabel('Features')\n",
    "    plt.ylabel('Importance')\n",
    "    plt.tight_layout()  # Adjust the layout to prevent cutting off parts of the plot\n",
    "    plt.savefig(filename)\n",
    "    plt.close()"
   ],
   "metadata": {
    "collapsed": false,
    "ExecuteTime": {
     "end_time": "2025-01-16T13:49:49.012765Z",
     "start_time": "2025-01-16T13:49:48.997678Z"
    }
   },
   "execution_count": 30
  },
  {
   "cell_type": "code",
   "execution_count": 31,
   "metadata": {
    "ExecuteTime": {
     "end_time": "2025-01-16T13:49:49.028287Z",
     "start_time": "2025-01-16T13:49:49.013768Z"
    }
   },
   "outputs": [],
   "source": [
    "def iterate_all_models(model_name):\n",
    "    X_train, X_test, Y_train, Y_test = train_test_split(data_fixed_filter, label_fixed, test_size=0.2)\n",
    "\n",
    "    scaler = MinMaxScaler()\n",
    "    X_train = scaler.fit_transform(X_train)\n",
    "    X_test = scaler.transform(X_test)\n",
    "\n",
    "    model = classifiers[classifiers_name.index(model_name)]\n",
    "    model.fit(X_train, Y_train)\n",
    "\n",
    "    save_model(model, f'{model_name}.pkl')\n",
    "\n",
    "    performance_metrics, trained_model = compute_metrics(model, X_test, Y_test, show=True)\n",
    "    plot_confusion_matrix(performance_metrics[\"Confusion Matrix\"], f'cf_fixed_{model_name}.pdf')\n",
    "\n",
    "    # Feature importance\n",
    "    result = permutation_importance(trained_model, X_test, Y_test, n_repeats=10, random_state=42, n_jobs=2)\n",
    "    feature_importance = pd.Series(result.importances_mean, index=data_fixed_filter.columns)\n",
    "    feature_importance.sort_values(ascending=False, inplace=True)\n",
    "\n",
    "    save_feature_importance_plot(feature_importance, f'fip_fixed_{model_name}.pdf', f'Feature Importance for {model_name}')\n",
    "\n",
    "def iterate_all_models_only_keyfeatures(model_name):\n",
    "    key_features = ['D1D2_mean', 'D1D2_std', 'D1U1_mean', 'D1U1_std', 'D1U2_mean', 'D1U2_std', 'TotTime', 'U1D2_mean', 'U1D2_std', 'U1U2_mean', 'U1U2_std']\n",
    "\n",
    "    data_keys = data_fixed_filter[key_features]\n",
    "\n",
    "    X_train, X_test, Y_train, Y_test = train_test_split(data_keys, label_fixed, test_size=0.2)\n",
    "\n",
    "    scaler = MinMaxScaler()\n",
    "    X_train_scaled = scaler.fit_transform(X_train)\n",
    "    X_test_scaled = scaler.transform(X_test)\n",
    "\n",
    "    model = classifiers[classifiers_name.index(model_name)]\n",
    "    model.fit(X_train_scaled, Y_train)\n",
    "\n",
    "    save_model(model, f'{model_name}_keyfeatures.pkl')\n",
    "\n",
    "    performance_metrics, trained_model = compute_metrics(model, X_test_scaled, Y_test, show=True)\n",
    "    plot_confusion_matrix(performance_metrics[\"Confusion Matrix\"], f'cf_fixed_{model_name}_keyfeatures.pdf')\n",
    "\n",
    "    # Feature importance\n",
    "    result = permutation_importance(trained_model, X_test_scaled, Y_test, n_repeats=10, random_state=42, n_jobs=2)\n",
    "    feature_importance = pd.Series(result.importances_mean, index=key_features)\n",
    "    feature_importance.sort_values(ascending=False, inplace=True)\n",
    "\n",
    "    save_feature_importance_plot(feature_importance, f'fip_fixed_{model_name}_keyfeatures.pdf', f'Feature Importance for {model_name} (Key Features)')"
   ]
  },
  {
   "cell_type": "code",
   "outputs": [
    {
     "name": "stderr",
     "output_type": "stream",
     "text": [
      "C:\\Users\\dekassla\\AppData\\Local\\Temp\\ipykernel_24300\\3803814231.py:10: FutureWarning: \n",
      "\n",
      "Passing `palette` without assigning `hue` is deprecated and will be removed in v0.14.0. Assign the `x` variable to `hue` and set `legend=False` for the same effect.\n",
      "\n",
      "  sns.barplot(x=emotion_counts.index, y=emotion_counts.values, palette='viridis')\n"
     ]
    },
    {
     "data": {
      "text/plain": "<Figure size 1000x600 with 1 Axes>",
      "image/png": "[encoded data removed]"
     },
     "metadata": {},
     "output_type": "display_data"
    }
   ],
   "source": [
    "import pandas as pd\n",
    "import matplotlib.pyplot as plt\n",
    "import seaborn as sns\n",
    "\n",
    "# Assuming df_fixed_all is your DataFrame and 'emotionIndex' is the column with emotions\n",
    "emotion_counts = df_fixed_all['emotionIndex'].value_counts()\n",
    "\n",
    "# Plot the distribution of emotions (counts)\n",
    "plt.figure(figsize=(10, 6))\n",
    "sns.barplot(x=emotion_counts.index, y=emotion_counts.values, palette='viridis')\n",
    "plt.title('Distribution of Emotions in the Dataset (Counts)')\n",
    "plt.xlabel('Emotion')\n",
    "plt.ylabel('Count')\n",
    "plt.savefig('emotion_distribution_counts.pdf')\n",
    "plt.show()"
   ],
   "metadata": {
    "collapsed": false,
    "ExecuteTime": {
     "end_time": "2025-01-16T13:49:49.552601Z",
     "start_time": "2025-01-16T13:49:49.030289Z"
    }
   },
   "execution_count": 32
  },
  {
   "cell_type": "code",
   "outputs": [
    {
     "name": "stderr",
     "output_type": "stream",
     "text": [
      "C:\\Users\\dekassla\\AppData\\Local\\Temp\\ipykernel_24300\\3551042765.py:6: FutureWarning: \n",
      "\n",
      "Passing `palette` without assigning `hue` is deprecated and will be removed in v0.14.0. Assign the `x` variable to `hue` and set `legend=False` for the same effect.\n",
      "\n",
      "  sns.barplot(x=emotion_percentages.index, y=emotion_percentages.values, palette='viridis')\n"
     ]
    },
    {
     "data": {
      "text/plain": "<Figure size 1000x600 with 1 Axes>",
      "image/png": "[encoded data removed]"
     },
     "metadata": {},
     "output_type": "display_data"
    }
   ],
   "source": [
    "# Calculate the percentage of each emotion\n",
    "emotion_percentages = (emotion_counts / emotion_counts.sum()) * 100\n",
    "\n",
    "# Plot the distribution of emotions (percentages)\n",
    "plt.figure(figsize=(10, 6))\n",
    "sns.barplot(x=emotion_percentages.index, y=emotion_percentages.values, palette='viridis')\n",
    "plt.title('Distribution of Emotions in the Dataset (Percentages)')\n",
    "plt.xlabel('Emotion')\n",
    "plt.ylabel('Percentage')\n",
    "plt.savefig('emotion_distribution_percentages.pdf')\n",
    "plt.show()"
   ],
   "metadata": {
    "collapsed": false,
    "ExecuteTime": {
     "end_time": "2025-01-16T13:49:49.791599Z",
     "start_time": "2025-01-16T13:49:49.553602Z"
    }
   },
   "execution_count": 33
  },
  {
   "cell_type": "code",
   "execution_count": 34,
   "outputs": [
    {
     "name": "stdout",
     "output_type": "stream",
     "text": [
      "For model:  LogReg  matrix is:\n",
      "Metric : ACC, Score :  0.66\n",
      "Metric : TP_Rate, Score :  0.15\n",
      "Metric : FP_Rate, Score :  0.21\n",
      "Metric : Precision, Score :   nan\n",
      "Metric : F_Measure, Score :   nan\n",
      "Metric : F_Micro, Score :  0.10\n",
      "Metric : F_Macro, Score :  0.09\n",
      "Confusion Matrix: \n",
      "     N     H     C     S     A\n",
      "N  0.0  0.32  0.08  0.40  0.20\n",
      "H  0.0  0.25  0.62  0.12  0.00\n",
      "C  0.0  0.25  0.25  0.25  0.25\n",
      "S  0.0  0.38  0.25  0.25  0.12\n",
      "A  0.0  0.25  0.50  0.25  0.00\n"
     ]
    },
    {
     "name": "stderr",
     "output_type": "stream",
     "text": [
      "D:\\Coding_Projects\\erkd_schieben\\erkd\\.venv\\lib\\site-packages\\sklearn\\linear_model\\_logistic.py:1247: FutureWarning: 'multi_class' was deprecated in version 1.5 and will be removed in 1.7. From then on, it will always use 'multinomial'. Leave it to its default value to avoid this warning.\n",
      "  warnings.warn(\n",
      "C:\\Users\\dekassla\\AppData\\Local\\Temp\\ipykernel_24300\\2373644635.py:19: RuntimeWarning: invalid value encountered in divide\n",
      "  precision = np.mean(TP / (TP + FP))\n",
      "D:\\Coding_Projects\\erkd_schieben\\erkd\\.venv\\lib\\site-packages\\sklearn\\linear_model\\_logistic.py:1247: FutureWarning: 'multi_class' was deprecated in version 1.5 and will be removed in 1.7. From then on, it will always use 'multinomial'. Leave it to its default value to avoid this warning.\n",
      "  warnings.warn(\n",
      "C:\\Users\\dekassla\\AppData\\Local\\Temp\\ipykernel_24300\\2373644635.py:19: RuntimeWarning: invalid value encountered in divide\n",
      "  precision = np.mean(TP / (TP + FP))\n"
     ]
    },
    {
     "name": "stdout",
     "output_type": "stream",
     "text": [
      "Metric : ACC, Score :  0.72\n",
      "Metric : TP_Rate, Score :  0.30\n",
      "Metric : FP_Rate, Score :  0.18\n",
      "Metric : Precision, Score :   nan\n",
      "Metric : F_Measure, Score :   nan\n",
      "Metric : F_Micro, Score :  0.20\n",
      "Metric : F_Macro, Score :  0.13\n",
      "Confusion Matrix: \n",
      "     N     H     C     S    A\n",
      "N  0.0  0.60  0.28  0.12  0.0\n",
      "H  0.0  0.88  0.12  0.00  0.0\n",
      "C  0.0  0.40  0.60  0.00  0.0\n",
      "S  0.0  0.50  0.50  0.00  0.0\n",
      "A  0.0  0.80  0.20  0.00  0.0\n",
      "For model:  RF  matrix is:\n",
      "Metric : ACC, Score :  0.78\n",
      "Metric : TP_Rate, Score :  0.44\n",
      "Metric : FP_Rate, Score :  0.14\n",
      "Metric : Precision, Score :  0.44\n",
      "Metric : F_Measure, Score :  0.44\n",
      "Metric : F_Micro, Score :  0.33\n",
      "Metric : F_Macro, Score :  0.33\n",
      "Confusion Matrix: \n",
      "      N     H     C     S     A\n",
      "N  0.15  0.27  0.23  0.23  0.12\n",
      "H  0.00  0.86  0.00  0.14  0.00\n",
      "C  0.14  0.14  0.29  0.29  0.14\n",
      "S  0.00  0.20  0.20  0.40  0.20\n",
      "A  0.00  0.25  0.25  0.00  0.50\n",
      "Metric : ACC, Score :  0.71\n",
      "Metric : TP_Rate, Score :  0.28\n",
      "Metric : FP_Rate, Score :  0.18\n",
      "Metric : Precision, Score :  0.24\n",
      "Metric : F_Measure, Score :  0.26\n",
      "Metric : F_Micro, Score :  0.27\n",
      "Metric : F_Macro, Score :  0.21\n",
      "Confusion Matrix: \n",
      "      N     H     C     S     A\n",
      "N  0.23  0.31  0.23  0.15  0.08\n",
      "H  0.00  0.80  0.00  0.00  0.20\n",
      "C  0.25  0.12  0.25  0.25  0.12\n",
      "S  0.14  0.43  0.14  0.14  0.14\n",
      "A  0.33  0.33  0.00  0.33  0.00\n",
      "For model:  XGB  matrix is:\n",
      "Metric : ACC, Score :  0.82\n",
      "Metric : TP_Rate, Score :  0.54\n",
      "Metric : FP_Rate, Score :  0.11\n",
      "Metric : Precision, Score :  0.52\n",
      "Metric : F_Measure, Score :  0.53\n",
      "Metric : F_Micro, Score :  0.57\n",
      "Metric : F_Macro, Score :  0.45\n",
      "Confusion Matrix: \n",
      "      N     H     C     S     A\n",
      "N  0.91  0.00  0.00  0.05  0.05\n",
      "H  0.43  0.43  0.14  0.00  0.00\n",
      "C  0.60  0.10  0.00  0.20  0.10\n",
      "S  0.50  0.00  0.00  0.38  0.12\n",
      "A  0.00  0.00  0.00  0.00  1.00\n",
      "Metric : ACC, Score :  0.74\n",
      "Metric : TP_Rate, Score :  0.36\n",
      "Metric : FP_Rate, Score :  0.16\n",
      "Metric : Precision, Score :  0.43\n",
      "Metric : F_Measure, Score :  0.39\n",
      "Metric : F_Micro, Score :  0.55\n",
      "Metric : F_Macro, Score :  0.36\n",
      "Confusion Matrix: \n",
      "      N     H     C     S     A\n",
      "N  0.85  0.08  0.04  0.00  0.04\n",
      "H  0.33  0.33  0.00  0.17  0.17\n",
      "C  0.67  0.00  0.17  0.17  0.00\n",
      "S  0.50  0.00  0.25  0.12  0.12\n",
      "A  0.33  0.00  0.00  0.33  0.33\n",
      "For model:  SVM  matrix is:\n",
      "Metric : ACC, Score :  0.68\n",
      "Metric : TP_Rate, Score :  0.20\n",
      "Metric : FP_Rate, Score :  0.20\n",
      "Metric : Precision, Score :   nan\n",
      "Metric : F_Measure, Score :   nan\n",
      "Metric : F_Micro, Score :  0.37\n",
      "Metric : F_Macro, Score :  0.11\n",
      "Confusion Matrix: \n",
      "     N    H    C    S    A\n",
      "N  1.0  0.0  0.0  0.0  0.0\n",
      "H  1.0  0.0  0.0  0.0  0.0\n",
      "C  1.0  0.0  0.0  0.0  0.0\n",
      "S  1.0  0.0  0.0  0.0  0.0\n",
      "A  1.0  0.0  0.0  0.0  0.0\n"
     ]
    },
    {
     "name": "stderr",
     "output_type": "stream",
     "text": [
      "C:\\Users\\dekassla\\AppData\\Local\\Temp\\ipykernel_24300\\2373644635.py:19: RuntimeWarning: invalid value encountered in divide\n",
      "  precision = np.mean(TP / (TP + FP))\n",
      "C:\\Users\\dekassla\\AppData\\Local\\Temp\\ipykernel_24300\\2373644635.py:19: RuntimeWarning: invalid value encountered in divide\n",
      "  precision = np.mean(TP / (TP + FP))\n"
     ]
    },
    {
     "name": "stdout",
     "output_type": "stream",
     "text": [
      "Metric : ACC, Score :  0.68\n",
      "Metric : TP_Rate, Score :  0.20\n",
      "Metric : FP_Rate, Score :  0.20\n",
      "Metric : Precision, Score :   nan\n",
      "Metric : F_Measure, Score :   nan\n",
      "Metric : F_Micro, Score :  0.49\n",
      "Metric : F_Macro, Score :  0.13\n",
      "Confusion Matrix: \n",
      "     N    H    C    S    A\n",
      "N  1.0  0.0  0.0  0.0  0.0\n",
      "H  1.0  0.0  0.0  0.0  0.0\n",
      "C  1.0  0.0  0.0  0.0  0.0\n",
      "S  1.0  0.0  0.0  0.0  0.0\n",
      "A  1.0  0.0  0.0  0.0  0.0\n",
      "For model:  MLP  matrix is:\n"
     ]
    },
    {
     "name": "stderr",
     "output_type": "stream",
     "text": [
      "D:\\Coding_Projects\\erkd_schieben\\erkd\\.venv\\lib\\site-packages\\sklearn\\neural_network\\_multilayer_perceptron.py:690: ConvergenceWarning: Stochastic Optimizer: Maximum iterations (500) reached and the optimization hasn't converged yet.\n",
      "  warnings.warn(\n",
      "C:\\Users\\dekassla\\AppData\\Local\\Temp\\ipykernel_24300\\2373644635.py:19: RuntimeWarning: invalid value encountered in divide\n",
      "  precision = np.mean(TP / (TP + FP))\n"
     ]
    },
    {
     "name": "stdout",
     "output_type": "stream",
     "text": [
      "Metric : ACC, Score :  0.68\n",
      "Metric : TP_Rate, Score :  0.20\n",
      "Metric : FP_Rate, Score :  0.20\n",
      "Metric : Precision, Score :   nan\n",
      "Metric : F_Measure, Score :   nan\n",
      "Metric : F_Micro, Score :  0.35\n",
      "Metric : F_Macro, Score :  0.14\n",
      "Confusion Matrix: \n",
      "      N     H    C     S     A\n",
      "N  0.89  0.11  0.0  0.00  0.00\n",
      "H  0.67  0.11  0.0  0.22  0.00\n",
      "C  0.78  0.11  0.0  0.00  0.11\n",
      "S  1.00  0.00  0.0  0.00  0.00\n",
      "A  0.88  0.00  0.0  0.12  0.00\n"
     ]
    },
    {
     "name": "stderr",
     "output_type": "stream",
     "text": [
      "C:\\Users\\dekassla\\AppData\\Local\\Temp\\ipykernel_24300\\2373644635.py:19: RuntimeWarning: invalid value encountered in divide\n",
      "  precision = np.mean(TP / (TP + FP))\n"
     ]
    },
    {
     "name": "stdout",
     "output_type": "stream",
     "text": [
      "Metric : ACC, Score :  0.68\n",
      "Metric : TP_Rate, Score :  0.20\n",
      "Metric : FP_Rate, Score :  0.20\n",
      "Metric : Precision, Score :   nan\n",
      "Metric : F_Measure, Score :   nan\n",
      "Metric : F_Micro, Score :  0.49\n",
      "Metric : F_Macro, Score :  0.13\n",
      "Confusion Matrix: \n",
      "     N    H    C    S    A\n",
      "N  1.0  0.0  0.0  0.0  0.0\n",
      "H  1.0  0.0  0.0  0.0  0.0\n",
      "C  1.0  0.0  0.0  0.0  0.0\n",
      "S  1.0  0.0  0.0  0.0  0.0\n",
      "A  1.0  0.0  0.0  0.0  0.0\n"
     ]
    }
   ],
   "source": [
    "# run all probabilities\n",
    "\n",
    "model_names = ['LogReg', 'RF', 'XGB', 'SVM', 'MLP']\n",
    "\n",
    "for model_name in model_names:\n",
    "    print(\"For model: \", model_name, \" matrix is:\")\n",
    "    iterate_all_models(model_name)\n",
    "    iterate_all_models_only_keyfeatures(model_name)"
   ],
   "metadata": {
    "collapsed": false,
    "ExecuteTime": {
     "end_time": "2025-01-16T13:50:02.308493Z",
     "start_time": "2025-01-16T13:49:49.792601Z"
    }
   }
  },
  {
   "cell_type": "markdown",
   "source": [
    "### Binary classification"
   ],
   "metadata": {
    "collapsed": false
   }
  },
  {
   "cell_type": "code",
   "outputs": [
    {
     "name": "stdout",
     "output_type": "stream",
     "text": [
      "   userId textIndex emotionIndex  delFreq  leftFreq   TotTime  text_index  \\\n",
      "0     164        FI            H        0         0  102126.0          97   \n",
      "1      58        FI            H        0         0   36777.0          15   \n",
      "2      25        FI            N        1         0   82270.0          50   \n",
      "3      99        FI            C        4         0   76312.0         173   \n",
      "4     138        FI            H        0         0   51046.0         122   \n",
      "\n",
      "   user_index idx_start idx_end  ...   U1U2_mean    U1U2_std  typeWith  \\\n",
      "0          -1     18853   18966  ...  260.566372  163.874973       NaN   \n",
      "1           2      2691    2799  ...  339.268519  288.754304   2 hands   \n",
      "2          26     10203   10403  ...  410.935000  344.718219   2 hands   \n",
      "3          86     33776   34020  ...  472.329167  549.966503   2 hands   \n",
      "4          56     23905   24083  ...  500.629213  503.603306   2 hands   \n",
      "\n",
      "          typistType                       pcTimeAverage  ageRange  gender  \\\n",
      "0                NaN                                 NaN       NaN     NaN   \n",
      "1       Touch Typist           More than 3 hours per day     20-29  Female   \n",
      "2  Two Finger Typist           More than 3 hours per day     20-29  Female   \n",
      "3       Touch Typist  between 1 hour and 3 hours per day     16-19  Female   \n",
      "4  Two Finger Typist  between 1 hour and 3 hours per day     20-29    Male   \n",
      "\n",
      "         status              degree  country  \n",
      "0           NaN                 NaN      NaN  \n",
      "1       Student  College/University  Tunisia  \n",
      "2       Student  College/University  Tunisia  \n",
      "3       Student  College/University  Tunisia  \n",
      "4  Professional  College/University  Tunisia  \n",
      "\n",
      "[5 rows x 32 columns]\n"
     ]
    }
   ],
   "source": [
    "# initialise more balanced dataframe, to have more equal number of samples for each emotion\n",
    "import pandas as pd\n",
    "\n",
    "# Define the emotion mapping\n",
    "emotion_mapping = {\n",
    "    'N': 'emotionNeutral',\n",
    "    'H': 'emotionHappy',\n",
    "    'C': 'emotionCalm',\n",
    "    'S': 'emotionSad',\n",
    "    'A': 'emotionAngry'\n",
    "}\n",
    "\n",
    "# Calculate the minimum sample size across all emotion categories\n",
    "min_sample_size = df_fixed_all['emotionIndex'].value_counts().min()\n",
    "\n",
    "# Sample data for each emotion category\n",
    "sampled_data = []\n",
    "for emotion in emotion_mapping.keys():\n",
    "    emotion_df = df_fixed_all[df_fixed_all['emotionIndex'] == emotion]\n",
    "    sampled_emotion_df = emotion_df.sample(n=min_sample_size, random_state=42)\n",
    "    sampled_data.append(sampled_emotion_df)\n",
    "\n",
    "# Concatenate the sampled data\n",
    "dataframe_balanced = pd.concat(sampled_data, axis=0)\n",
    "\n",
    "# Shuffle the resulting DataFrame\n",
    "dataframe_balanced = dataframe_balanced.sample(frac=1, random_state=42).reset_index(drop=True)\n",
    "\n",
    "# Display the first few rows to verify\n",
    "print(dataframe_balanced.head())"
   ],
   "metadata": {
    "collapsed": false,
    "ExecuteTime": {
     "end_time": "2025-01-16T13:50:02.340194Z",
     "start_time": "2025-01-16T13:50:02.314501Z"
    }
   },
   "execution_count": 35
  },
  {
   "cell_type": "code",
   "outputs": [
    {
     "name": "stdout",
     "output_type": "stream",
     "text": [
      "Epoch 1/100\n",
      "\u001B[1m3/3\u001B[0m \u001B[32m━━━━━━━━━━━━━━━━━━━━\u001B[0m\u001B[37m\u001B[0m \u001B[1m1s\u001B[0m 106ms/step - accuracy: 0.1641 - loss: 1.6237 - val_accuracy: 0.2500 - val_loss: 1.6231\n",
      "Epoch 2/100\n",
      "\u001B[1m3/3\u001B[0m \u001B[32m━━━━━━━━━━━━━━━━━━━━\u001B[0m\u001B[37m\u001B[0m \u001B[1m0s\u001B[0m 30ms/step - accuracy: 0.1836 - loss: 1.6256 - val_accuracy: 0.2500 - val_loss: 1.6228\n",
      "Epoch 3/100\n",
      "\u001B[1m3/3\u001B[0m \u001B[32m━━━━━━━━━━━━━━━━━━━━\u001B[0m\u001B[37m\u001B[0m \u001B[1m0s\u001B[0m 32ms/step - accuracy: 0.1641 - loss: 1.6320 - val_accuracy: 0.2500 - val_loss: 1.6225\n",
      "Epoch 4/100\n",
      "\u001B[1m3/3\u001B[0m \u001B[32m━━━━━━━━━━━━━━━━━━━━\u001B[0m\u001B[37m\u001B[0m \u001B[1m0s\u001B[0m 32ms/step - accuracy: 0.1914 - loss: 1.6225 - val_accuracy: 0.2500 - val_loss: 1.6223\n",
      "Epoch 5/100\n",
      "\u001B[1m3/3\u001B[0m \u001B[32m━━━━━━━━━━━━━━━━━━━━\u001B[0m\u001B[37m\u001B[0m \u001B[1m0s\u001B[0m 29ms/step - accuracy: 0.2070 - loss: 1.6169 - val_accuracy: 0.2500 - val_loss: 1.6221\n",
      "Epoch 6/100\n",
      "\u001B[1m3/3\u001B[0m \u001B[32m━━━━━━━━━━━━━━━━━━━━\u001B[0m\u001B[37m\u001B[0m \u001B[1m0s\u001B[0m 34ms/step - accuracy: 0.2148 - loss: 1.6139 - val_accuracy: 0.2500 - val_loss: 1.6219\n",
      "Epoch 7/100\n",
      "\u001B[1m3/3\u001B[0m \u001B[32m━━━━━━━━━━━━━━━━━━━━\u001B[0m\u001B[37m\u001B[0m \u001B[1m0s\u001B[0m 32ms/step - accuracy: 0.1680 - loss: 1.6217 - val_accuracy: 0.2500 - val_loss: 1.6217\n",
      "Epoch 8/100\n",
      "\u001B[1m3/3\u001B[0m \u001B[32m━━━━━━━━━━━━━━━━━━━━\u001B[0m\u001B[37m\u001B[0m \u001B[1m0s\u001B[0m 33ms/step - accuracy: 0.1797 - loss: 1.6155 - val_accuracy: 0.2500 - val_loss: 1.6215\n",
      "Epoch 9/100\n",
      "\u001B[1m3/3\u001B[0m \u001B[32m━━━━━━━━━━━━━━━━━━━━\u001B[0m\u001B[37m\u001B[0m \u001B[1m0s\u001B[0m 29ms/step - accuracy: 0.1836 - loss: 1.6162 - val_accuracy: 0.2500 - val_loss: 1.6213\n",
      "Epoch 10/100\n",
      "\u001B[1m3/3\u001B[0m \u001B[32m━━━━━━━━━━━━━━━━━━━━\u001B[0m\u001B[37m\u001B[0m \u001B[1m0s\u001B[0m 29ms/step - accuracy: 0.1732 - loss: 1.6186 - val_accuracy: 0.2500 - val_loss: 1.6211\n",
      "Epoch 11/100\n",
      "\u001B[1m3/3\u001B[0m \u001B[32m━━━━━━━━━━━━━━━━━━━━\u001B[0m\u001B[37m\u001B[0m \u001B[1m0s\u001B[0m 38ms/step - accuracy: 0.1732 - loss: 1.6232 - val_accuracy: 0.2500 - val_loss: 1.6210\n",
      "Epoch 12/100\n",
      "\u001B[1m3/3\u001B[0m \u001B[32m━━━━━━━━━━━━━━━━━━━━\u001B[0m\u001B[37m\u001B[0m \u001B[1m0s\u001B[0m 33ms/step - accuracy: 0.1888 - loss: 1.6208 - val_accuracy: 0.2500 - val_loss: 1.6209\n",
      "Epoch 13/100\n",
      "\u001B[1m3/3\u001B[0m \u001B[32m━━━━━━━━━━━━━━━━━━━━\u001B[0m\u001B[37m\u001B[0m \u001B[1m0s\u001B[0m 31ms/step - accuracy: 0.1771 - loss: 1.6172 - val_accuracy: 0.2500 - val_loss: 1.6207\n",
      "Epoch 14/100\n",
      "\u001B[1m3/3\u001B[0m \u001B[32m━━━━━━━━━━━━━━━━━━━━\u001B[0m\u001B[37m\u001B[0m \u001B[1m0s\u001B[0m 30ms/step - accuracy: 0.1953 - loss: 1.6140 - val_accuracy: 0.2500 - val_loss: 1.6206\n",
      "Epoch 15/100\n",
      "\u001B[1m3/3\u001B[0m \u001B[32m━━━━━━━━━━━━━━━━━━━━\u001B[0m\u001B[37m\u001B[0m \u001B[1m0s\u001B[0m 30ms/step - accuracy: 0.1823 - loss: 1.6132 - val_accuracy: 0.2500 - val_loss: 1.6205\n",
      "Epoch 16/100\n",
      "\u001B[1m3/3\u001B[0m \u001B[32m━━━━━━━━━━━━━━━━━━━━\u001B[0m\u001B[37m\u001B[0m \u001B[1m0s\u001B[0m 40ms/step - accuracy: 0.1862 - loss: 1.6154 - val_accuracy: 0.2500 - val_loss: 1.6204\n",
      "Epoch 17/100\n",
      "\u001B[1m3/3\u001B[0m \u001B[32m━━━━━━━━━━━━━━━━━━━━\u001B[0m\u001B[37m\u001B[0m \u001B[1m0s\u001B[0m 36ms/step - accuracy: 0.2018 - loss: 1.6131 - val_accuracy: 0.2083 - val_loss: 1.6203\n",
      "Epoch 18/100\n",
      "\u001B[1m3/3\u001B[0m \u001B[32m━━━━━━━━━━━━━━━━━━━━\u001B[0m\u001B[37m\u001B[0m \u001B[1m0s\u001B[0m 32ms/step - accuracy: 0.1901 - loss: 1.6131 - val_accuracy: 0.1667 - val_loss: 1.6202\n",
      "Epoch 19/100\n",
      "\u001B[1m3/3\u001B[0m \u001B[32m━━━━━━━━━━━━━━━━━━━━\u001B[0m\u001B[37m\u001B[0m \u001B[1m0s\u001B[0m 34ms/step - accuracy: 0.1784 - loss: 1.6188 - val_accuracy: 0.1667 - val_loss: 1.6201\n",
      "Epoch 20/100\n",
      "\u001B[1m3/3\u001B[0m \u001B[32m━━━━━━━━━━━━━━━━━━━━\u001B[0m\u001B[37m\u001B[0m \u001B[1m0s\u001B[0m 35ms/step - accuracy: 0.1276 - loss: 1.6165 - val_accuracy: 0.0833 - val_loss: 1.6200\n",
      "Epoch 21/100\n",
      "\u001B[1m3/3\u001B[0m \u001B[32m━━━━━━━━━━━━━━━━━━━━\u001B[0m\u001B[37m\u001B[0m \u001B[1m0s\u001B[0m 31ms/step - accuracy: 0.1810 - loss: 1.6113 - val_accuracy: 0.0833 - val_loss: 1.6200\n",
      "Epoch 22/100\n",
      "\u001B[1m3/3\u001B[0m \u001B[32m━━━━━━━━━━━━━━━━━━━━\u001B[0m\u001B[37m\u001B[0m \u001B[1m0s\u001B[0m 35ms/step - accuracy: 0.1276 - loss: 1.6136 - val_accuracy: 0.0833 - val_loss: 1.6198\n",
      "Epoch 23/100\n",
      "\u001B[1m3/3\u001B[0m \u001B[32m━━━━━━━━━━━━━━━━━━━━\u001B[0m\u001B[37m\u001B[0m \u001B[1m0s\u001B[0m 30ms/step - accuracy: 0.1068 - loss: 1.6110 - val_accuracy: 0.0833 - val_loss: 1.6197\n",
      "Epoch 24/100\n",
      "\u001B[1m3/3\u001B[0m \u001B[32m━━━━━━━━━━━━━━━━━━━━\u001B[0m\u001B[37m\u001B[0m \u001B[1m0s\u001B[0m 31ms/step - accuracy: 0.1628 - loss: 1.6173 - val_accuracy: 0.1250 - val_loss: 1.6197\n",
      "Epoch 25/100\n",
      "\u001B[1m3/3\u001B[0m \u001B[32m━━━━━━━━━━━━━━━━━━━━\u001B[0m\u001B[37m\u001B[0m \u001B[1m0s\u001B[0m 33ms/step - accuracy: 0.1667 - loss: 1.6088 - val_accuracy: 0.1250 - val_loss: 1.6196\n",
      "Epoch 26/100\n",
      "\u001B[1m3/3\u001B[0m \u001B[32m━━━━━━━━━━━━━━━━━━━━\u001B[0m\u001B[37m\u001B[0m \u001B[1m0s\u001B[0m 38ms/step - accuracy: 0.1966 - loss: 1.6115 - val_accuracy: 0.1250 - val_loss: 1.6195\n",
      "Epoch 27/100\n",
      "\u001B[1m3/3\u001B[0m \u001B[32m━━━━━━━━━━━━━━━━━━━━\u001B[0m\u001B[37m\u001B[0m \u001B[1m0s\u001B[0m 34ms/step - accuracy: 0.1328 - loss: 1.6133 - val_accuracy: 0.1250 - val_loss: 1.6194\n",
      "Epoch 28/100\n",
      "\u001B[1m3/3\u001B[0m \u001B[32m━━━━━━━━━━━━━━━━━━━━\u001B[0m\u001B[37m\u001B[0m \u001B[1m0s\u001B[0m 35ms/step - accuracy: 0.1602 - loss: 1.6125 - val_accuracy: 0.1250 - val_loss: 1.6193\n",
      "Epoch 29/100\n",
      "\u001B[1m3/3\u001B[0m \u001B[32m━━━━━━━━━━━━━━━━━━━━\u001B[0m\u001B[37m\u001B[0m \u001B[1m0s\u001B[0m 34ms/step - accuracy: 0.1836 - loss: 1.6079 - val_accuracy: 0.1250 - val_loss: 1.6193\n",
      "Epoch 30/100\n",
      "\u001B[1m3/3\u001B[0m \u001B[32m━━━━━━━━━━━━━━━━━━━━\u001B[0m\u001B[37m\u001B[0m \u001B[1m0s\u001B[0m 35ms/step - accuracy: 0.1680 - loss: 1.6086 - val_accuracy: 0.1250 - val_loss: 1.6192\n",
      "Epoch 31/100\n",
      "\u001B[1m3/3\u001B[0m \u001B[32m━━━━━━━━━━━━━━━━━━━━\u001B[0m\u001B[37m\u001B[0m \u001B[1m0s\u001B[0m 35ms/step - accuracy: 0.1328 - loss: 1.6106 - val_accuracy: 0.1250 - val_loss: 1.6192\n",
      "Epoch 32/100\n",
      "\u001B[1m3/3\u001B[0m \u001B[32m━━━━━━━━━━━━━━━━━━━━\u001B[0m\u001B[37m\u001B[0m \u001B[1m0s\u001B[0m 34ms/step - accuracy: 0.1432 - loss: 1.6096 - val_accuracy: 0.1667 - val_loss: 1.6191\n",
      "Epoch 33/100\n",
      "\u001B[1m3/3\u001B[0m \u001B[32m━━━━━━━━━━━━━━━━━━━━\u001B[0m\u001B[37m\u001B[0m \u001B[1m0s\u001B[0m 34ms/step - accuracy: 0.1562 - loss: 1.6091 - val_accuracy: 0.1250 - val_loss: 1.6191\n",
      "Epoch 34/100\n",
      "\u001B[1m3/3\u001B[0m \u001B[32m━━━━━━━━━━━━━━━━━━━━\u001B[0m\u001B[37m\u001B[0m \u001B[1m0s\u001B[0m 31ms/step - accuracy: 0.1159 - loss: 1.6100 - val_accuracy: 0.1250 - val_loss: 1.6190\n",
      "Epoch 35/100\n",
      "\u001B[1m3/3\u001B[0m \u001B[32m━━━━━━━━━━━━━━━━━━━━\u001B[0m\u001B[37m\u001B[0m \u001B[1m0s\u001B[0m 35ms/step - accuracy: 0.1784 - loss: 1.6105 - val_accuracy: 0.1250 - val_loss: 1.6190\n",
      "Epoch 36/100\n",
      "\u001B[1m3/3\u001B[0m \u001B[32m━━━━━━━━━━━━━━━━━━━━\u001B[0m\u001B[37m\u001B[0m \u001B[1m0s\u001B[0m 35ms/step - accuracy: 0.1432 - loss: 1.6104 - val_accuracy: 0.0833 - val_loss: 1.6189\n",
      "Epoch 37/100\n",
      "\u001B[1m3/3\u001B[0m \u001B[32m━━━━━━━━━━━━━━━━━━━━\u001B[0m\u001B[37m\u001B[0m \u001B[1m0s\u001B[0m 32ms/step - accuracy: 0.1497 - loss: 1.6120 - val_accuracy: 0.0833 - val_loss: 1.6189\n",
      "Epoch 38/100\n",
      "\u001B[1m3/3\u001B[0m \u001B[32m━━━━━━━━━━━━━━━━━━━━\u001B[0m\u001B[37m\u001B[0m \u001B[1m0s\u001B[0m 32ms/step - accuracy: 0.1693 - loss: 1.6091 - val_accuracy: 0.1667 - val_loss: 1.6188\n",
      "Epoch 39/100\n",
      "\u001B[1m3/3\u001B[0m \u001B[32m━━━━━━━━━━━━━━━━━━━━\u001B[0m\u001B[37m\u001B[0m \u001B[1m0s\u001B[0m 37ms/step - accuracy: 0.2174 - loss: 1.6060 - val_accuracy: 0.1667 - val_loss: 1.6188\n",
      "Epoch 40/100\n",
      "\u001B[1m3/3\u001B[0m \u001B[32m━━━━━━━━━━━━━━━━━━━━\u001B[0m\u001B[37m\u001B[0m \u001B[1m0s\u001B[0m 37ms/step - accuracy: 0.1745 - loss: 1.6086 - val_accuracy: 0.1667 - val_loss: 1.6188\n",
      "Epoch 41/100\n",
      "\u001B[1m3/3\u001B[0m \u001B[32m━━━━━━━━━━━━━━━━━━━━\u001B[0m\u001B[37m\u001B[0m \u001B[1m0s\u001B[0m 33ms/step - accuracy: 0.1810 - loss: 1.6105 - val_accuracy: 0.1667 - val_loss: 1.6187\n",
      "Epoch 42/100\n",
      "\u001B[1m3/3\u001B[0m \u001B[32m━━━━━━━━━━━━━━━━━━━━\u001B[0m\u001B[37m\u001B[0m \u001B[1m0s\u001B[0m 36ms/step - accuracy: 0.1979 - loss: 1.6089 - val_accuracy: 0.1667 - val_loss: 1.6187\n",
      "Epoch 43/100\n",
      "\u001B[1m3/3\u001B[0m \u001B[32m━━━━━━━━━━━━━━━━━━━━\u001B[0m\u001B[37m\u001B[0m \u001B[1m0s\u001B[0m 33ms/step - accuracy: 0.1667 - loss: 1.6072 - val_accuracy: 0.1667 - val_loss: 1.6186\n",
      "Epoch 44/100\n",
      "\u001B[1m3/3\u001B[0m \u001B[32m━━━━━━━━━━━━━━━━━━━━\u001B[0m\u001B[37m\u001B[0m \u001B[1m0s\u001B[0m 35ms/step - accuracy: 0.1927 - loss: 1.6133 - val_accuracy: 0.1667 - val_loss: 1.6186\n",
      "Epoch 45/100\n",
      "\u001B[1m3/3\u001B[0m \u001B[32m━━━━━━━━━━━━━━━━━━━━\u001B[0m\u001B[37m\u001B[0m \u001B[1m0s\u001B[0m 36ms/step - accuracy: 0.1823 - loss: 1.6079 - val_accuracy: 0.1667 - val_loss: 1.6186\n",
      "Epoch 46/100\n",
      "\u001B[1m3/3\u001B[0m \u001B[32m━━━━━━━━━━━━━━━━━━━━\u001B[0m\u001B[37m\u001B[0m \u001B[1m0s\u001B[0m 35ms/step - accuracy: 0.1654 - loss: 1.6105 - val_accuracy: 0.1667 - val_loss: 1.6185\n",
      "Epoch 47/100\n",
      "\u001B[1m3/3\u001B[0m \u001B[32m━━━━━━━━━━━━━━━━━━━━\u001B[0m\u001B[37m\u001B[0m \u001B[1m0s\u001B[0m 33ms/step - accuracy: 0.1458 - loss: 1.6096 - val_accuracy: 0.1667 - val_loss: 1.6185\n",
      "Epoch 48/100\n",
      "\u001B[1m3/3\u001B[0m \u001B[32m━━━━━━━━━━━━━━━━━━━━\u001B[0m\u001B[37m\u001B[0m \u001B[1m0s\u001B[0m 40ms/step - accuracy: 0.1680 - loss: 1.6126 - val_accuracy: 0.1667 - val_loss: 1.6185\n",
      "Epoch 49/100\n",
      "\u001B[1m3/3\u001B[0m \u001B[32m━━━━━━━━━━━━━━━━━━━━\u001B[0m\u001B[37m\u001B[0m \u001B[1m0s\u001B[0m 31ms/step - accuracy: 0.1810 - loss: 1.6109 - val_accuracy: 0.1667 - val_loss: 1.6184\n",
      "Epoch 50/100\n",
      "\u001B[1m3/3\u001B[0m \u001B[32m━━━━━━━━━━━━━━━━━━━━\u001B[0m\u001B[37m\u001B[0m \u001B[1m0s\u001B[0m 33ms/step - accuracy: 0.1966 - loss: 1.6091 - val_accuracy: 0.1667 - val_loss: 1.6184\n",
      "Epoch 51/100\n",
      "\u001B[1m3/3\u001B[0m \u001B[32m━━━━━━━━━━━━━━━━━━━━\u001B[0m\u001B[37m\u001B[0m \u001B[1m0s\u001B[0m 32ms/step - accuracy: 0.1901 - loss: 1.6086 - val_accuracy: 0.1667 - val_loss: 1.6184\n",
      "Epoch 52/100\n",
      "\u001B[1m3/3\u001B[0m \u001B[32m━━━━━━━━━━━━━━━━━━━━\u001B[0m\u001B[37m\u001B[0m \u001B[1m0s\u001B[0m 32ms/step - accuracy: 0.1836 - loss: 1.6080 - val_accuracy: 0.1667 - val_loss: 1.6183\n",
      "Epoch 53/100\n",
      "\u001B[1m3/3\u001B[0m \u001B[32m━━━━━━━━━━━━━━━━━━━━\u001B[0m\u001B[37m\u001B[0m \u001B[1m0s\u001B[0m 29ms/step - accuracy: 0.1693 - loss: 1.6095 - val_accuracy: 0.1667 - val_loss: 1.6183\n",
      "Epoch 54/100\n",
      "\u001B[1m3/3\u001B[0m \u001B[32m━━━━━━━━━━━━━━━━━━━━\u001B[0m\u001B[37m\u001B[0m \u001B[1m0s\u001B[0m 32ms/step - accuracy: 0.1888 - loss: 1.6083 - val_accuracy: 0.1667 - val_loss: 1.6183\n",
      "Epoch 55/100\n",
      "\u001B[1m3/3\u001B[0m \u001B[32m━━━━━━━━━━━━━━━━━━━━\u001B[0m\u001B[37m\u001B[0m \u001B[1m0s\u001B[0m 35ms/step - accuracy: 0.1615 - loss: 1.6102 - val_accuracy: 0.1667 - val_loss: 1.6183\n",
      "Epoch 56/100\n",
      "\u001B[1m3/3\u001B[0m \u001B[32m━━━━━━━━━━━━━━━━━━━━\u001B[0m\u001B[37m\u001B[0m \u001B[1m0s\u001B[0m 31ms/step - accuracy: 0.2070 - loss: 1.6056 - val_accuracy: 0.1667 - val_loss: 1.6182\n",
      "Epoch 57/100\n",
      "\u001B[1m3/3\u001B[0m \u001B[32m━━━━━━━━━━━━━━━━━━━━\u001B[0m\u001B[37m\u001B[0m \u001B[1m0s\u001B[0m 34ms/step - accuracy: 0.2122 - loss: 1.6067 - val_accuracy: 0.1667 - val_loss: 1.6182\n",
      "Epoch 58/100\n",
      "\u001B[1m3/3\u001B[0m \u001B[32m━━━━━━━━━━━━━━━━━━━━\u001B[0m\u001B[37m\u001B[0m \u001B[1m0s\u001B[0m 33ms/step - accuracy: 0.1771 - loss: 1.6080 - val_accuracy: 0.1667 - val_loss: 1.6182\n",
      "Epoch 59/100\n",
      "\u001B[1m3/3\u001B[0m \u001B[32m━━━━━━━━━━━━━━━━━━━━\u001B[0m\u001B[37m\u001B[0m \u001B[1m0s\u001B[0m 30ms/step - accuracy: 0.1836 - loss: 1.6075 - val_accuracy: 0.1667 - val_loss: 1.6181\n",
      "Epoch 60/100\n",
      "\u001B[1m3/3\u001B[0m \u001B[32m━━━━━━━━━━━━━━━━━━━━\u001B[0m\u001B[37m\u001B[0m \u001B[1m0s\u001B[0m 34ms/step - accuracy: 0.1927 - loss: 1.6090 - val_accuracy: 0.1667 - val_loss: 1.6181\n",
      "Epoch 61/100\n",
      "\u001B[1m3/3\u001B[0m \u001B[32m━━━━━━━━━━━━━━━━━━━━\u001B[0m\u001B[37m\u001B[0m \u001B[1m0s\u001B[0m 38ms/step - accuracy: 0.1758 - loss: 1.6102 - val_accuracy: 0.1667 - val_loss: 1.6180\n",
      "Epoch 62/100\n",
      "\u001B[1m3/3\u001B[0m \u001B[32m━━━━━━━━━━━━━━━━━━━━\u001B[0m\u001B[37m\u001B[0m \u001B[1m0s\u001B[0m 32ms/step - accuracy: 0.2201 - loss: 1.6035 - val_accuracy: 0.1667 - val_loss: 1.6180\n",
      "Epoch 63/100\n",
      "\u001B[1m3/3\u001B[0m \u001B[32m━━━━━━━━━━━━━━━━━━━━\u001B[0m\u001B[37m\u001B[0m \u001B[1m0s\u001B[0m 34ms/step - accuracy: 0.1940 - loss: 1.6039 - val_accuracy: 0.1667 - val_loss: 1.6179\n",
      "Epoch 64/100\n",
      "\u001B[1m3/3\u001B[0m \u001B[32m━━━━━━━━━━━━━━━━━━━━\u001B[0m\u001B[37m\u001B[0m \u001B[1m0s\u001B[0m 30ms/step - accuracy: 0.2201 - loss: 1.6066 - val_accuracy: 0.1667 - val_loss: 1.6179\n",
      "Epoch 65/100\n",
      "\u001B[1m3/3\u001B[0m \u001B[32m━━━━━━━━━━━━━━━━━━━━\u001B[0m\u001B[37m\u001B[0m \u001B[1m0s\u001B[0m 32ms/step - accuracy: 0.1680 - loss: 1.6088 - val_accuracy: 0.1667 - val_loss: 1.6178\n",
      "Epoch 66/100\n",
      "\u001B[1m3/3\u001B[0m \u001B[32m━━━━━━━━━━━━━━━━━━━━\u001B[0m\u001B[37m\u001B[0m \u001B[1m0s\u001B[0m 34ms/step - accuracy: 0.2070 - loss: 1.6062 - val_accuracy: 0.1667 - val_loss: 1.6178\n",
      "Epoch 67/100\n",
      "\u001B[1m3/3\u001B[0m \u001B[32m━━━━━━━━━━━━━━━━━━━━\u001B[0m\u001B[37m\u001B[0m \u001B[1m0s\u001B[0m 30ms/step - accuracy: 0.2122 - loss: 1.6065 - val_accuracy: 0.1667 - val_loss: 1.6177\n",
      "Epoch 68/100\n",
      "\u001B[1m3/3\u001B[0m \u001B[32m━━━━━━━━━━━━━━━━━━━━\u001B[0m\u001B[37m\u001B[0m \u001B[1m0s\u001B[0m 32ms/step - accuracy: 0.2253 - loss: 1.6044 - val_accuracy: 0.1667 - val_loss: 1.6177\n",
      "Epoch 69/100\n",
      "\u001B[1m3/3\u001B[0m \u001B[32m━━━━━━━━━━━━━━━━━━━━\u001B[0m\u001B[37m\u001B[0m \u001B[1m0s\u001B[0m 34ms/step - accuracy: 0.2122 - loss: 1.6052 - val_accuracy: 0.1667 - val_loss: 1.6176\n",
      "Epoch 70/100\n",
      "\u001B[1m3/3\u001B[0m \u001B[32m━━━━━━━━━━━━━━━━━━━━\u001B[0m\u001B[37m\u001B[0m \u001B[1m0s\u001B[0m 39ms/step - accuracy: 0.2057 - loss: 1.6057 - val_accuracy: 0.1667 - val_loss: 1.6176\n",
      "Epoch 71/100\n",
      "\u001B[1m3/3\u001B[0m \u001B[32m━━━━━━━━━━━━━━━━━━━━\u001B[0m\u001B[37m\u001B[0m \u001B[1m0s\u001B[0m 33ms/step - accuracy: 0.2057 - loss: 1.6062 - val_accuracy: 0.1667 - val_loss: 1.6175\n",
      "Epoch 72/100\n",
      "\u001B[1m3/3\u001B[0m \u001B[32m━━━━━━━━━━━━━━━━━━━━\u001B[0m\u001B[37m\u001B[0m \u001B[1m0s\u001B[0m 36ms/step - accuracy: 0.2513 - loss: 1.6037 - val_accuracy: 0.1667 - val_loss: 1.6175\n",
      "Epoch 73/100\n",
      "\u001B[1m3/3\u001B[0m \u001B[32m━━━━━━━━━━━━━━━━━━━━\u001B[0m\u001B[37m\u001B[0m \u001B[1m0s\u001B[0m 36ms/step - accuracy: 0.2070 - loss: 1.6074 - val_accuracy: 0.1667 - val_loss: 1.6175\n",
      "Epoch 74/100\n",
      "\u001B[1m3/3\u001B[0m \u001B[32m━━━━━━━━━━━━━━━━━━━━\u001B[0m\u001B[37m\u001B[0m \u001B[1m0s\u001B[0m 32ms/step - accuracy: 0.2018 - loss: 1.6063 - val_accuracy: 0.1667 - val_loss: 1.6174\n",
      "Epoch 75/100\n",
      "\u001B[1m3/3\u001B[0m \u001B[32m━━━━━━━━━━━━━━━━━━━━\u001B[0m\u001B[37m\u001B[0m \u001B[1m0s\u001B[0m 31ms/step - accuracy: 0.2057 - loss: 1.6047 - val_accuracy: 0.1667 - val_loss: 1.6174\n",
      "Epoch 76/100\n",
      "\u001B[1m3/3\u001B[0m \u001B[32m━━━━━━━━━━━━━━━━━━━━\u001B[0m\u001B[37m\u001B[0m \u001B[1m0s\u001B[0m 33ms/step - accuracy: 0.2174 - loss: 1.6071 - val_accuracy: 0.1667 - val_loss: 1.6174\n",
      "Epoch 77/100\n",
      "\u001B[1m3/3\u001B[0m \u001B[32m━━━━━━━━━━━━━━━━━━━━\u001B[0m\u001B[37m\u001B[0m \u001B[1m0s\u001B[0m 32ms/step - accuracy: 0.2161 - loss: 1.6038 - val_accuracy: 0.1667 - val_loss: 1.6173\n",
      "Epoch 78/100\n",
      "\u001B[1m3/3\u001B[0m \u001B[32m━━━━━━━━━━━━━━━━━━━━\u001B[0m\u001B[37m\u001B[0m \u001B[1m0s\u001B[0m 30ms/step - accuracy: 0.2370 - loss: 1.6046 - val_accuracy: 0.1667 - val_loss: 1.6173\n",
      "Epoch 79/100\n",
      "\u001B[1m3/3\u001B[0m \u001B[32m━━━━━━━━━━━━━━━━━━━━\u001B[0m\u001B[37m\u001B[0m \u001B[1m0s\u001B[0m 30ms/step - accuracy: 0.2227 - loss: 1.6068 - val_accuracy: 0.1667 - val_loss: 1.6173\n",
      "Epoch 80/100\n",
      "\u001B[1m3/3\u001B[0m \u001B[32m━━━━━━━━━━━━━━━━━━━━\u001B[0m\u001B[37m\u001B[0m \u001B[1m0s\u001B[0m 30ms/step - accuracy: 0.2318 - loss: 1.6039 - val_accuracy: 0.1667 - val_loss: 1.6172\n",
      "Epoch 81/100\n",
      "\u001B[1m3/3\u001B[0m \u001B[32m━━━━━━━━━━━━━━━━━━━━\u001B[0m\u001B[37m\u001B[0m \u001B[1m0s\u001B[0m 34ms/step - accuracy: 0.2318 - loss: 1.6045 - val_accuracy: 0.1667 - val_loss: 1.6172\n",
      "Epoch 82/100\n",
      "\u001B[1m3/3\u001B[0m \u001B[32m━━━━━━━━━━━━━━━━━━━━\u001B[0m\u001B[37m\u001B[0m \u001B[1m0s\u001B[0m 35ms/step - accuracy: 0.2344 - loss: 1.6044 - val_accuracy: 0.1667 - val_loss: 1.6172\n",
      "Epoch 83/100\n",
      "\u001B[1m3/3\u001B[0m \u001B[32m━━━━━━━━━━━━━━━━━━━━\u001B[0m\u001B[37m\u001B[0m \u001B[1m0s\u001B[0m 33ms/step - accuracy: 0.2513 - loss: 1.6031 - val_accuracy: 0.1667 - val_loss: 1.6172\n",
      "Epoch 84/100\n",
      "\u001B[1m3/3\u001B[0m \u001B[32m━━━━━━━━━━━━━━━━━━━━\u001B[0m\u001B[37m\u001B[0m \u001B[1m0s\u001B[0m 32ms/step - accuracy: 0.2513 - loss: 1.6038 - val_accuracy: 0.1667 - val_loss: 1.6171\n",
      "Epoch 85/100\n",
      "\u001B[1m3/3\u001B[0m \u001B[32m━━━━━━━━━━━━━━━━━━━━\u001B[0m\u001B[37m\u001B[0m \u001B[1m0s\u001B[0m 36ms/step - accuracy: 0.2552 - loss: 1.6047 - val_accuracy: 0.1667 - val_loss: 1.6171\n",
      "Epoch 86/100\n",
      "\u001B[1m3/3\u001B[0m \u001B[32m━━━━━━━━━━━━━━━━━━━━\u001B[0m\u001B[37m\u001B[0m \u001B[1m0s\u001B[0m 36ms/step - accuracy: 0.2552 - loss: 1.6047 - val_accuracy: 0.1667 - val_loss: 1.6171\n",
      "Epoch 87/100\n",
      "\u001B[1m3/3\u001B[0m \u001B[32m━━━━━━━━━━━━━━━━━━━━\u001B[0m\u001B[37m\u001B[0m \u001B[1m0s\u001B[0m 34ms/step - accuracy: 0.2227 - loss: 1.6028 - val_accuracy: 0.1667 - val_loss: 1.6171\n",
      "Epoch 88/100\n",
      "\u001B[1m3/3\u001B[0m \u001B[32m━━━━━━━━━━━━━━━━━━━━\u001B[0m\u001B[37m\u001B[0m \u001B[1m0s\u001B[0m 39ms/step - accuracy: 0.2565 - loss: 1.6041 - val_accuracy: 0.1667 - val_loss: 1.6170\n",
      "Epoch 89/100\n",
      "\u001B[1m3/3\u001B[0m \u001B[32m━━━━━━━━━━━━━━━━━━━━\u001B[0m\u001B[37m\u001B[0m \u001B[1m0s\u001B[0m 44ms/step - accuracy: 0.2396 - loss: 1.6056 - val_accuracy: 0.1667 - val_loss: 1.6170\n",
      "Epoch 90/100\n",
      "\u001B[1m3/3\u001B[0m \u001B[32m━━━━━━━━━━━━━━━━━━━━\u001B[0m\u001B[37m\u001B[0m \u001B[1m0s\u001B[0m 39ms/step - accuracy: 0.2435 - loss: 1.6051 - val_accuracy: 0.1667 - val_loss: 1.6170\n",
      "Epoch 91/100\n",
      "\u001B[1m3/3\u001B[0m \u001B[32m━━━━━━━━━━━━━━━━━━━━\u001B[0m\u001B[37m\u001B[0m \u001B[1m0s\u001B[0m 35ms/step - accuracy: 0.2565 - loss: 1.6042 - val_accuracy: 0.1667 - val_loss: 1.6170\n",
      "Epoch 92/100\n",
      "\u001B[1m3/3\u001B[0m \u001B[32m━━━━━━━━━━━━━━━━━━━━\u001B[0m\u001B[37m\u001B[0m \u001B[1m0s\u001B[0m 32ms/step - accuracy: 0.1940 - loss: 1.6030 - val_accuracy: 0.1667 - val_loss: 1.6169\n",
      "Epoch 93/100\n",
      "\u001B[1m3/3\u001B[0m \u001B[32m━━━━━━━━━━━━━━━━━━━━\u001B[0m\u001B[37m\u001B[0m \u001B[1m0s\u001B[0m 35ms/step - accuracy: 0.2604 - loss: 1.6044 - val_accuracy: 0.1667 - val_loss: 1.6169\n",
      "Epoch 94/100\n",
      "\u001B[1m3/3\u001B[0m \u001B[32m━━━━━━━━━━━━━━━━━━━━\u001B[0m\u001B[37m\u001B[0m \u001B[1m0s\u001B[0m 29ms/step - accuracy: 0.2357 - loss: 1.6052 - val_accuracy: 0.1667 - val_loss: 1.6168\n",
      "Epoch 95/100\n",
      "\u001B[1m3/3\u001B[0m \u001B[32m━━━━━━━━━━━━━━━━━━━━\u001B[0m\u001B[37m\u001B[0m \u001B[1m0s\u001B[0m 32ms/step - accuracy: 0.2435 - loss: 1.6024 - val_accuracy: 0.1667 - val_loss: 1.6168\n",
      "Epoch 96/100\n",
      "\u001B[1m3/3\u001B[0m \u001B[32m━━━━━━━━━━━━━━━━━━━━\u001B[0m\u001B[37m\u001B[0m \u001B[1m0s\u001B[0m 33ms/step - accuracy: 0.2500 - loss: 1.6042 - val_accuracy: 0.1667 - val_loss: 1.6168\n",
      "Epoch 97/100\n",
      "\u001B[1m3/3\u001B[0m \u001B[32m━━━━━━━━━━━━━━━━━━━━\u001B[0m\u001B[37m\u001B[0m \u001B[1m0s\u001B[0m 31ms/step - accuracy: 0.2422 - loss: 1.6040 - val_accuracy: 0.1667 - val_loss: 1.6168\n",
      "Epoch 98/100\n",
      "\u001B[1m3/3\u001B[0m \u001B[32m━━━━━━━━━━━━━━━━━━━━\u001B[0m\u001B[37m\u001B[0m \u001B[1m0s\u001B[0m 34ms/step - accuracy: 0.2695 - loss: 1.6023 - val_accuracy: 0.1667 - val_loss: 1.6167\n",
      "Epoch 99/100\n",
      "\u001B[1m3/3\u001B[0m \u001B[32m━━━━━━━━━━━━━━━━━━━━\u001B[0m\u001B[37m\u001B[0m \u001B[1m0s\u001B[0m 49ms/step - accuracy: 0.2435 - loss: 1.6013 - val_accuracy: 0.1667 - val_loss: 1.6167\n",
      "Epoch 100/100\n",
      "\u001B[1m3/3\u001B[0m \u001B[32m━━━━━━━━━━━━━━━━━━━━\u001B[0m\u001B[37m\u001B[0m \u001B[1m0s\u001B[0m 60ms/step - accuracy: 0.2279 - loss: 1.6027 - val_accuracy: 0.1667 - val_loss: 1.6167\n",
      "{'accuracy': [0.1875, 0.1875, 0.1875, 0.1875, 0.1875, 0.1875, 0.1875, 0.1875, 0.1875, 0.1979166716337204, 0.1979166716337204, 0.1979166716337204, 0.1979166716337204, 0.1875, 0.1770833283662796, 0.1770833283662796, 0.2083333283662796, 0.1770833283662796, 0.1770833283662796, 0.1458333283662796, 0.1666666716337204, 0.1458333283662796, 0.1354166716337204, 0.1770833283662796, 0.1770833283662796, 0.1666666716337204, 0.15625, 0.15625, 0.15625, 0.15625, 0.15625, 0.1458333283662796, 0.15625, 0.1458333283662796, 0.1458333283662796, 0.1458333283662796, 0.1666666716337204, 0.1666666716337204, 0.1770833283662796, 0.1770833283662796, 0.1666666716337204, 0.1770833283662796, 0.1770833283662796, 0.1666666716337204, 0.1770833283662796, 0.1666666716337204, 0.1666666716337204, 0.1875, 0.1979166716337204, 0.1979166716337204, 0.2083333283662796, 0.1875, 0.1979166716337204, 0.1979166716337204, 0.1979166716337204, 0.1875, 0.1979166716337204, 0.1979166716337204, 0.1875, 0.1979166716337204, 0.1875, 0.1979166716337204, 0.1770833283662796, 0.1979166716337204, 0.1875, 0.1875, 0.1979166716337204, 0.2083333283662796, 0.1979166716337204, 0.2083333283662796, 0.2083333283662796, 0.2291666716337204, 0.21875, 0.2083333283662796, 0.2083333283662796, 0.2395833283662796, 0.2291666716337204, 0.2395833283662796, 0.21875, 0.2291666716337204, 0.2291666716337204, 0.21875, 0.2291666716337204, 0.2291666716337204, 0.2291666716337204, 0.2291666716337204, 0.21875, 0.2395833283662796, 0.2291666716337204, 0.2291666716337204, 0.2395833283662796, 0.2083333283662796, 0.2395833283662796, 0.2291666716337204, 0.2291666716337204, 0.25, 0.25, 0.25, 0.2291666716337204, 0.2291666716337204], 'loss': [1.6213487386703491, 1.6207342147827148, 1.6206735372543335, 1.6196848154067993, 1.619250774383545, 1.618737816810608, 1.6182470321655273, 1.6178420782089233, 1.6173852682113647, 1.6170140504837036, 1.6165809631347656, 1.616090178489685, 1.6158095598220825, 1.6152863502502441, 1.6150097846984863, 1.6147089004516602, 1.6145020723342896, 1.614209532737732, 1.6136821508407593, 1.613648772239685, 1.6131881475448608, 1.6129183769226074, 1.6127723455429077, 1.6125093698501587, 1.612257480621338, 1.6121517419815063, 1.6118494272232056, 1.6115202903747559, 1.6114965677261353, 1.6111561059951782, 1.611005187034607, 1.6108211278915405, 1.6107650995254517, 1.6105937957763672, 1.6103429794311523, 1.6101456880569458, 1.6100648641586304, 1.6099506616592407, 1.6098918914794922, 1.6096134185791016, 1.6095036268234253, 1.6094846725463867, 1.6092381477355957, 1.6096487045288086, 1.6090189218521118, 1.608870506286621, 1.6087499856948853, 1.60861074924469, 1.6084470748901367, 1.608314871788025, 1.60834801197052, 1.6081180572509766, 1.6079530715942383, 1.6079683303833008, 1.607721209526062, 1.6078318357467651, 1.6077018976211548, 1.6072982549667358, 1.607203483581543, 1.6072157621383667, 1.6069785356521606, 1.6068263053894043, 1.6068687438964844, 1.6066780090332031, 1.6066827774047852, 1.6065276861190796, 1.6065250635147095, 1.606361746788025, 1.606186866760254, 1.6059843301773071, 1.60597562789917, 1.6058207750320435, 1.6058107614517212, 1.6057119369506836, 1.605607032775879, 1.6055313348770142, 1.6057277917861938, 1.6053880453109741, 1.60543954372406, 1.6052945852279663, 1.60515558719635, 1.6050580739974976, 1.6051663160324097, 1.6049848794937134, 1.6049237251281738, 1.6050151586532593, 1.6047359704971313, 1.60466730594635, 1.6047468185424805, 1.6045833826065063, 1.6045249700546265, 1.6045007705688477, 1.6043720245361328, 1.6045016050338745, 1.604312539100647, 1.6042089462280273, 1.6040644645690918, 1.6040607690811157, 1.6040539741516113, 1.604050636291504], 'val_accuracy': [0.25, 0.25, 0.25, 0.25, 0.25, 0.25, 0.25, 0.25, 0.25, 0.25, 0.25, 0.25, 0.25, 0.25, 0.25, 0.25, 0.2083333283662796, 0.1666666716337204, 0.1666666716337204, 0.0833333358168602, 0.0833333358168602, 0.0833333358168602, 0.0833333358168602, 0.125, 0.125, 0.125, 0.125, 0.125, 0.125, 0.125, 0.125, 0.1666666716337204, 0.125, 0.125, 0.125, 0.0833333358168602, 0.0833333358168602, 0.1666666716337204, 0.1666666716337204, 0.1666666716337204, 0.1666666716337204, 0.1666666716337204, 0.1666666716337204, 0.1666666716337204, 0.1666666716337204, 0.1666666716337204, 0.1666666716337204, 0.1666666716337204, 0.1666666716337204, 0.1666666716337204, 0.1666666716337204, 0.1666666716337204, 0.1666666716337204, 0.1666666716337204, 0.1666666716337204, 0.1666666716337204, 0.1666666716337204, 0.1666666716337204, 0.1666666716337204, 0.1666666716337204, 0.1666666716337204, 0.1666666716337204, 0.1666666716337204, 0.1666666716337204, 0.1666666716337204, 0.1666666716337204, 0.1666666716337204, 0.1666666716337204, 0.1666666716337204, 0.1666666716337204, 0.1666666716337204, 0.1666666716337204, 0.1666666716337204, 0.1666666716337204, 0.1666666716337204, 0.1666666716337204, 0.1666666716337204, 0.1666666716337204, 0.1666666716337204, 0.1666666716337204, 0.1666666716337204, 0.1666666716337204, 0.1666666716337204, 0.1666666716337204, 0.1666666716337204, 0.1666666716337204, 0.1666666716337204, 0.1666666716337204, 0.1666666716337204, 0.1666666716337204, 0.1666666716337204, 0.1666666716337204, 0.1666666716337204, 0.1666666716337204, 0.1666666716337204, 0.1666666716337204, 0.1666666716337204, 0.1666666716337204, 0.1666666716337204, 0.1666666716337204], 'val_loss': [1.6230539083480835, 1.6227906942367554, 1.6225446462631226, 1.6223087310791016, 1.6220922470092773, 1.6218830347061157, 1.6216826438903809, 1.6214933395385742, 1.6213127374649048, 1.6211436986923218, 1.6209923028945923, 1.620854377746582, 1.620718002319336, 1.6205915212631226, 1.6204723119735718, 1.6203645467758179, 1.6202720403671265, 1.6201831102371216, 1.6201027631759644, 1.6200250387191772, 1.6199508905410767, 1.6198476552963257, 1.6197437047958374, 1.6196566820144653, 1.6195732355117798, 1.619481086730957, 1.6194149255752563, 1.6193338632583618, 1.6192668676376343, 1.61920166015625, 1.6191558837890625, 1.61911141872406, 1.6190624237060547, 1.6190176010131836, 1.6189676523208618, 1.6189178228378296, 1.6188775300979614, 1.6188381910324097, 1.6187986135482788, 1.6187554597854614, 1.6187127828598022, 1.6186785697937012, 1.6186434030532837, 1.6186097860336304, 1.6185716390609741, 1.6185269355773926, 1.6184872388839722, 1.6184557676315308, 1.618425965309143, 1.6183944940567017, 1.6183652877807617, 1.6183370351791382, 1.6183067560195923, 1.6182785034179688, 1.6182513236999512, 1.6182159185409546, 1.6181913614273071, 1.6181613206863403, 1.6181097030639648, 1.6180715560913086, 1.6180206537246704, 1.6179660558700562, 1.6179156303405762, 1.6178609132766724, 1.6178022623062134, 1.6177517175674438, 1.617709755897522, 1.6176732778549194, 1.6176258325576782, 1.617590308189392, 1.6175460815429688, 1.617506980895996, 1.6174697875976562, 1.617425560951233, 1.6173971891403198, 1.6173619031906128, 1.6173127889633179, 1.6172866821289062, 1.6172575950622559, 1.6172348260879517, 1.6172078847885132, 1.617186427116394, 1.6171590089797974, 1.6171374320983887, 1.617108941078186, 1.6170800924301147, 1.6170616149902344, 1.6170417070388794, 1.6170158386230469, 1.6169757843017578, 1.6169527769088745, 1.6169077157974243, 1.6168757677078247, 1.616848349571228, 1.6168292760849, 1.616804599761963, 1.61675226688385, 1.6167346239089966, 1.6167017221450806, 1.6167062520980835]}\n",
      "\u001B[1m1/1\u001B[0m \u001B[32m━━━━━━━━━━━━━━━━━━━━\u001B[0m\u001B[37m\u001B[0m \u001B[1m0s\u001B[0m 123ms/step\n",
      "\u001B[1m1/1\u001B[0m \u001B[32m━━━━━━━━━━━━━━━━━━━━\u001B[0m\u001B[37m\u001B[0m \u001B[1m0s\u001B[0m 56ms/step\n"
     ]
    },
    {
     "name": "stderr",
     "output_type": "stream",
     "text": [
      "D:\\Coding_Projects\\erkd_schieben\\erkd\\.venv\\lib\\site-packages\\joblib\\externals\\loky\\process_executor.py:752: UserWarning: A worker stopped while some jobs were given to the executor. This can be caused by a too short worker timeout or by a memory leak.\n",
      "  warnings.warn(\n"
     ]
    }
   ],
   "source": [
    "import pandas as pd\n",
    "from sklearn.model_selection import train_test_split\n",
    "from sklearn.preprocessing import MinMaxScaler\n",
    "from sklearn.metrics import confusion_matrix, ConfusionMatrixDisplay\n",
    "from sklearn.inspection import permutation_importance\n",
    "import tensorflow as tf\n",
    "from tensorflow import keras\n",
    "from tensorflow.keras import layers\n",
    "import matplotlib.pyplot as plt\n",
    "import numpy as np\n",
    "\n",
    "# Define the key features\n",
    "key_features = ['D1D2_mean', 'D1D2_std', 'D1U1_mean', 'D1U1_std', 'D1U2_mean', 'D1U2_std', 'TotTime', 'U1D2_mean', 'U1U2_std']\n",
    "\n",
    "# Ensure key features are present in dataframe_balanced\n",
    "missing_features = [feat for feat in key_features if feat not in dataframe_balanced.columns]\n",
    "if missing_features:\n",
    "    raise KeyError(f\"Missing features in dataframe_balanced: {missing_features}\")\n",
    "\n",
    "# Filter the DataFrame to include only the specified key features\n",
    "data_keys = dataframe_balanced[key_features]\n",
    "\n",
    "# One-hot encode the emotions\n",
    "emotion_one_hot = pd.get_dummies(dataframe_balanced['emotionIndex'])\n",
    "\n",
    "# Ensure the number of samples in data_keys and emotion_one_hot are the same\n",
    "if len(data_keys) != len(emotion_one_hot):\n",
    "    raise ValueError(f\"Mismatch in number of samples: data_keys ({len(data_keys)}) and emotion_one_hot ({len(emotion_one_hot)})\")\n",
    "\n",
    "# Split the data\n",
    "X_train, X_test, Y_train, Y_test = train_test_split(data_keys, emotion_one_hot, test_size=0.2)\n",
    "\n",
    "# Scale the data\n",
    "scaler = MinMaxScaler()\n",
    "X_train_scaled = scaler.fit_transform(X_train)\n",
    "X_test_scaled = scaler.transform(X_test)\n",
    "\n",
    "# Define the model\n",
    "model = keras.models.Sequential()\n",
    "model.add(layers.Input(shape=(len(key_features),)))\n",
    "model.add(layers.Dense(int(len(key_features) * 1.5), activation=\"relu\"))\n",
    "model.add(layers.Dense(int(len(key_features) * 0.8), activation=\"relu\"))\n",
    "model.add(layers.Dense(int(len(key_features) * 0.5), activation=\"relu\"))\n",
    "model.add(layers.Dense(emotion_one_hot.shape[1], activation=\"softmax\"))\n",
    "\n",
    "# Compile the model\n",
    "model.compile(optimizer=keras.optimizers.SGD(0.01), loss=\"categorical_crossentropy\", metrics=[\"accuracy\"])\n",
    "\n",
    "# Train the model\n",
    "history = model.fit(X_train_scaled, Y_train, batch_size=32, epochs=100, validation_data=(X_test_scaled, Y_test))\n",
    "\n",
    "# Check if the training history is available\n",
    "print(history.history)\n",
    "\n",
    "# Predict the test set\n",
    "Y_pred = model.predict(X_test_scaled)\n",
    "Y_pred_classes = Y_pred.argmax(axis=1)\n",
    "Y_test_classes = Y_test.values.argmax(axis=1)\n",
    "\n",
    "# Confusion Matrix\n",
    "cm = confusion_matrix(Y_test_classes, Y_pred_classes)\n",
    "disp = ConfusionMatrixDisplay(confusion_matrix=cm, display_labels=emotion_one_hot.columns)\n",
    "disp.plot(cmap=plt.cm.Blues)\n",
    "plt.title('Confusion Matrix')\n",
    "plt.tight_layout()\n",
    "plt.savefig('cf_fixed_ann.pdf')\n",
    "plt.close()\n",
    "\n",
    "# Custom scoring function\n",
    "def custom_scorer(estimator, X, y):\n",
    "    y_pred = estimator.predict(X)\n",
    "    y_pred_classes = y_pred.argmax(axis=1)\n",
    "    return np.mean(y_pred_classes == y)\n",
    "\n",
    "# Feature Importance\n",
    "result = permutation_importance(model, X_test_scaled, Y_test_classes, scoring=custom_scorer, n_repeats=10, random_state=42, n_jobs=2)\n",
    "feature_importance = pd.Series(result.importances_mean, index=key_features)\n",
    "feature_importance.sort_values(ascending=False, inplace=True)\n",
    "\n",
    "plt.figure(figsize=(10, 6))\n",
    "feature_importance.plot(kind='bar', color='skyblue')\n",
    "plt.title('Feature Importance')\n",
    "plt.xlabel('Features')\n",
    "plt.ylabel('Importance')\n",
    "plt.tight_layout()\n",
    "plt.savefig('fip_fixed_ann.pdf')\n",
    "plt.close()"
   ],
   "metadata": {
    "collapsed": false,
    "ExecuteTime": {
     "end_time": "2025-01-16T13:50:27.493417Z",
     "start_time": "2025-01-16T13:50:02.342145Z"
    }
   },
   "execution_count": 36
  },
  {
   "cell_type": "code",
   "outputs": [
    {
     "name": "stdout",
     "output_type": "stream",
     "text": [
      "Epoch 1/100\n",
      "\u001B[1m3/3\u001B[0m \u001B[32m━━━━━━━━━━━━━━━━━━━━\u001B[0m\u001B[37m\u001B[0m \u001B[1m1s\u001B[0m 107ms/step - accuracy: 0.3376 - loss: 1.3861 - val_accuracy: 0.1000 - val_loss: 1.3839\n",
      "Epoch 2/100\n",
      "\u001B[1m3/3\u001B[0m \u001B[32m━━━━━━━━━━━━━━━━━━━━\u001B[0m\u001B[37m\u001B[0m \u001B[1m0s\u001B[0m 33ms/step - accuracy: 0.3166 - loss: 1.3865 - val_accuracy: 0.1000 - val_loss: 1.3843\n",
      "Epoch 3/100\n",
      "\u001B[1m3/3\u001B[0m \u001B[32m━━━━━━━━━━━━━━━━━━━━\u001B[0m\u001B[37m\u001B[0m \u001B[1m0s\u001B[0m 35ms/step - accuracy: 0.2893 - loss: 1.3883 - val_accuracy: 0.1000 - val_loss: 1.3848\n",
      "Epoch 4/100\n",
      "\u001B[1m3/3\u001B[0m \u001B[32m━━━━━━━━━━━━━━━━━━━━\u001B[0m\u001B[37m\u001B[0m \u001B[1m0s\u001B[0m 32ms/step - accuracy: 0.3166 - loss: 1.3858 - val_accuracy: 0.1000 - val_loss: 1.3858\n",
      "Epoch 5/100\n",
      "\u001B[1m3/3\u001B[0m \u001B[32m━━━━━━━━━━━━━━━━━━━━\u001B[0m\u001B[37m\u001B[0m \u001B[1m0s\u001B[0m 32ms/step - accuracy: 0.2854 - loss: 1.3858 - val_accuracy: 0.1000 - val_loss: 1.3864\n",
      "Epoch 6/100\n",
      "\u001B[1m3/3\u001B[0m \u001B[32m━━━━━━━━━━━━━━━━━━━━\u001B[0m\u001B[37m\u001B[0m \u001B[1m0s\u001B[0m 32ms/step - accuracy: 0.3166 - loss: 1.3862 - val_accuracy: 0.1500 - val_loss: 1.3871\n",
      "Epoch 7/100\n",
      "\u001B[1m3/3\u001B[0m \u001B[32m━━━━━━━━━━━━━━━━━━━━\u001B[0m\u001B[37m\u001B[0m \u001B[1m0s\u001B[0m 30ms/step - accuracy: 0.3127 - loss: 1.3868 - val_accuracy: 0.1500 - val_loss: 1.3873\n",
      "Epoch 8/100\n",
      "\u001B[1m3/3\u001B[0m \u001B[32m━━━━━━━━━━━━━━━━━━━━\u001B[0m\u001B[37m\u001B[0m \u001B[1m0s\u001B[0m 31ms/step - accuracy: 0.3454 - loss: 1.3868 - val_accuracy: 0.1000 - val_loss: 1.3879\n",
      "Epoch 9/100\n",
      "\u001B[1m3/3\u001B[0m \u001B[32m━━━━━━━━━━━━━━━━━━━━\u001B[0m\u001B[37m\u001B[0m \u001B[1m0s\u001B[0m 32ms/step - accuracy: 0.2932 - loss: 1.3861 - val_accuracy: 0.1000 - val_loss: 1.3883\n",
      "Epoch 10/100\n",
      "\u001B[1m3/3\u001B[0m \u001B[32m━━━━━━━━━━━━━━━━━━━━\u001B[0m\u001B[37m\u001B[0m \u001B[1m0s\u001B[0m 30ms/step - accuracy: 0.2815 - loss: 1.3859 - val_accuracy: 0.1000 - val_loss: 1.3890\n",
      "Epoch 11/100\n",
      "\u001B[1m3/3\u001B[0m \u001B[32m━━━━━━━━━━━━━━━━━━━━\u001B[0m\u001B[37m\u001B[0m \u001B[1m0s\u001B[0m 35ms/step - accuracy: 0.2683 - loss: 1.3856 - val_accuracy: 0.1000 - val_loss: 1.3894\n",
      "Epoch 12/100\n",
      "\u001B[1m3/3\u001B[0m \u001B[32m━━━━━━━━━━━━━━━━━━━━\u001B[0m\u001B[37m\u001B[0m \u001B[1m0s\u001B[0m 31ms/step - accuracy: 0.2815 - loss: 1.3861 - val_accuracy: 0.1000 - val_loss: 1.3898\n",
      "Epoch 13/100\n",
      "\u001B[1m3/3\u001B[0m \u001B[32m━━━━━━━━━━━━━━━━━━━━\u001B[0m\u001B[37m\u001B[0m \u001B[1m0s\u001B[0m 33ms/step - accuracy: 0.2775 - loss: 1.3872 - val_accuracy: 0.1000 - val_loss: 1.3903\n",
      "Epoch 14/100\n",
      "\u001B[1m3/3\u001B[0m \u001B[32m━━━━━━━━━━━━━━━━━━━━\u001B[0m\u001B[37m\u001B[0m \u001B[1m0s\u001B[0m 30ms/step - accuracy: 0.3049 - loss: 1.3849 - val_accuracy: 0.1000 - val_loss: 1.3911\n",
      "Epoch 15/100\n",
      "\u001B[1m3/3\u001B[0m \u001B[32m━━━━━━━━━━━━━━━━━━━━\u001B[0m\u001B[37m\u001B[0m \u001B[1m0s\u001B[0m 33ms/step - accuracy: 0.2502 - loss: 1.3874 - val_accuracy: 0.1000 - val_loss: 1.3917\n",
      "Epoch 16/100\n",
      "\u001B[1m3/3\u001B[0m \u001B[32m━━━━━━━━━━━━━━━━━━━━\u001B[0m\u001B[37m\u001B[0m \u001B[1m0s\u001B[0m 34ms/step - accuracy: 0.2619 - loss: 1.3851 - val_accuracy: 0.1000 - val_loss: 1.3926\n",
      "Epoch 17/100\n",
      "\u001B[1m3/3\u001B[0m \u001B[32m━━━━━━━━━━━━━━━━━━━━\u001B[0m\u001B[37m\u001B[0m \u001B[1m0s\u001B[0m 32ms/step - accuracy: 0.2971 - loss: 1.3856 - val_accuracy: 0.1000 - val_loss: 1.3930\n",
      "Epoch 18/100\n",
      "\u001B[1m3/3\u001B[0m \u001B[32m━━━━━━━━━━━━━━━━━━━━\u001B[0m\u001B[37m\u001B[0m \u001B[1m0s\u001B[0m 31ms/step - accuracy: 0.3127 - loss: 1.3835 - val_accuracy: 0.1000 - val_loss: 1.3938\n",
      "Epoch 19/100\n",
      "\u001B[1m3/3\u001B[0m \u001B[32m━━━━━━━━━━━━━━━━━━━━\u001B[0m\u001B[37m\u001B[0m \u001B[1m0s\u001B[0m 30ms/step - accuracy: 0.3127 - loss: 1.3842 - val_accuracy: 0.1000 - val_loss: 1.3945\n",
      "Epoch 20/100\n",
      "\u001B[1m3/3\u001B[0m \u001B[32m━━━━━━━━━━━━━━━━━━━━\u001B[0m\u001B[37m\u001B[0m \u001B[1m0s\u001B[0m 40ms/step - accuracy: 0.2893 - loss: 1.3822 - val_accuracy: 0.1000 - val_loss: 1.3945\n",
      "Epoch 21/100\n",
      "\u001B[1m3/3\u001B[0m \u001B[32m━━━━━━━━━━━━━━━━━━━━\u001B[0m\u001B[37m\u001B[0m \u001B[1m0s\u001B[0m 34ms/step - accuracy: 0.2893 - loss: 1.3850 - val_accuracy: 0.1000 - val_loss: 1.3952\n",
      "Epoch 22/100\n",
      "\u001B[1m3/3\u001B[0m \u001B[32m━━━━━━━━━━━━━━━━━━━━\u001B[0m\u001B[37m\u001B[0m \u001B[1m0s\u001B[0m 29ms/step - accuracy: 0.2971 - loss: 1.3832 - val_accuracy: 0.1000 - val_loss: 1.3961\n",
      "Epoch 23/100\n",
      "\u001B[1m3/3\u001B[0m \u001B[32m━━━━━━━━━━━━━━━━━━━━\u001B[0m\u001B[37m\u001B[0m \u001B[1m0s\u001B[0m 29ms/step - accuracy: 0.3440 - loss: 1.3815 - val_accuracy: 0.1000 - val_loss: 1.3962\n",
      "Epoch 24/100\n",
      "\u001B[1m3/3\u001B[0m \u001B[32m━━━━━━━━━━━━━━━━━━━━\u001B[0m\u001B[37m\u001B[0m \u001B[1m0s\u001B[0m 34ms/step - accuracy: 0.2658 - loss: 1.3846 - val_accuracy: 0.1000 - val_loss: 1.3973\n",
      "Epoch 25/100\n",
      "\u001B[1m3/3\u001B[0m \u001B[32m━━━━━━━━━━━━━━━━━━━━\u001B[0m\u001B[37m\u001B[0m \u001B[1m0s\u001B[0m 30ms/step - accuracy: 0.2971 - loss: 1.3823 - val_accuracy: 0.1000 - val_loss: 1.3980\n",
      "Epoch 26/100\n",
      "\u001B[1m3/3\u001B[0m \u001B[32m━━━━━━━━━━━━━━━━━━━━\u001B[0m\u001B[37m\u001B[0m \u001B[1m0s\u001B[0m 33ms/step - accuracy: 0.2854 - loss: 1.3829 - val_accuracy: 0.1000 - val_loss: 1.3984\n",
      "Epoch 27/100\n",
      "\u001B[1m3/3\u001B[0m \u001B[32m━━━━━━━━━━━━━━━━━━━━\u001B[0m\u001B[37m\u001B[0m \u001B[1m0s\u001B[0m 30ms/step - accuracy: 0.3010 - loss: 1.3820 - val_accuracy: 0.1000 - val_loss: 1.3988\n",
      "Epoch 28/100\n",
      "\u001B[1m3/3\u001B[0m \u001B[32m━━━━━━━━━━━━━━━━━━━━\u001B[0m\u001B[37m\u001B[0m \u001B[1m0s\u001B[0m 29ms/step - accuracy: 0.2971 - loss: 1.3833 - val_accuracy: 0.1000 - val_loss: 1.3991\n",
      "Epoch 29/100\n",
      "\u001B[1m3/3\u001B[0m \u001B[32m━━━━━━━━━━━━━━━━━━━━\u001B[0m\u001B[37m\u001B[0m \u001B[1m0s\u001B[0m 34ms/step - accuracy: 0.2815 - loss: 1.3828 - val_accuracy: 0.1000 - val_loss: 1.3996\n",
      "Epoch 30/100\n",
      "\u001B[1m3/3\u001B[0m \u001B[32m━━━━━━━━━━━━━━━━━━━━\u001B[0m\u001B[37m\u001B[0m \u001B[1m0s\u001B[0m 36ms/step - accuracy: 0.3166 - loss: 1.3810 - val_accuracy: 0.1000 - val_loss: 1.3999\n",
      "Epoch 31/100\n",
      "\u001B[1m3/3\u001B[0m \u001B[32m━━━━━━━━━━━━━━━━━━━━\u001B[0m\u001B[37m\u001B[0m \u001B[1m0s\u001B[0m 32ms/step - accuracy: 0.2971 - loss: 1.3817 - val_accuracy: 0.1000 - val_loss: 1.4003\n",
      "Epoch 32/100\n",
      "\u001B[1m3/3\u001B[0m \u001B[32m━━━━━━━━━━━━━━━━━━━━\u001B[0m\u001B[37m\u001B[0m \u001B[1m0s\u001B[0m 34ms/step - accuracy: 0.3010 - loss: 1.3808 - val_accuracy: 0.1000 - val_loss: 1.4006\n",
      "Epoch 33/100\n",
      "\u001B[1m3/3\u001B[0m \u001B[32m━━━━━━━━━━━━━━━━━━━━\u001B[0m\u001B[37m\u001B[0m \u001B[1m0s\u001B[0m 37ms/step - accuracy: 0.2932 - loss: 1.3845 - val_accuracy: 0.1000 - val_loss: 1.4013\n",
      "Epoch 34/100\n",
      "\u001B[1m3/3\u001B[0m \u001B[32m━━━━━━━━━━━━━━━━━━━━\u001B[0m\u001B[37m\u001B[0m \u001B[1m0s\u001B[0m 31ms/step - accuracy: 0.3010 - loss: 1.3814 - val_accuracy: 0.1000 - val_loss: 1.4017\n",
      "Epoch 35/100\n",
      "\u001B[1m3/3\u001B[0m \u001B[32m━━━━━━━━━━━━━━━━━━━━\u001B[0m\u001B[37m\u001B[0m \u001B[1m0s\u001B[0m 33ms/step - accuracy: 0.2619 - loss: 1.3833 - val_accuracy: 0.1000 - val_loss: 1.4023\n",
      "Epoch 36/100\n",
      "\u001B[1m3/3\u001B[0m \u001B[32m━━━━━━━━━━━━━━━━━━━━\u001B[0m\u001B[37m\u001B[0m \u001B[1m0s\u001B[0m 30ms/step - accuracy: 0.2736 - loss: 1.3845 - val_accuracy: 0.1000 - val_loss: 1.4030\n",
      "Epoch 37/100\n",
      "\u001B[1m3/3\u001B[0m \u001B[32m━━━━━━━━━━━━━━━━━━━━\u001B[0m\u001B[37m\u001B[0m \u001B[1m0s\u001B[0m 32ms/step - accuracy: 0.2932 - loss: 1.3810 - val_accuracy: 0.1000 - val_loss: 1.4032\n",
      "Epoch 38/100\n",
      "\u001B[1m3/3\u001B[0m \u001B[32m━━━━━━━━━━━━━━━━━━━━\u001B[0m\u001B[37m\u001B[0m \u001B[1m0s\u001B[0m 35ms/step - accuracy: 0.2932 - loss: 1.3819 - val_accuracy: 0.1000 - val_loss: 1.4034\n",
      "Epoch 39/100\n",
      "\u001B[1m3/3\u001B[0m \u001B[32m━━━━━━━━━━━━━━━━━━━━\u001B[0m\u001B[37m\u001B[0m \u001B[1m0s\u001B[0m 36ms/step - accuracy: 0.2854 - loss: 1.3821 - val_accuracy: 0.1000 - val_loss: 1.4037\n",
      "Epoch 40/100\n",
      "\u001B[1m3/3\u001B[0m \u001B[32m━━━━━━━━━━━━━━━━━━━━\u001B[0m\u001B[37m\u001B[0m \u001B[1m0s\u001B[0m 38ms/step - accuracy: 0.3049 - loss: 1.3829 - val_accuracy: 0.1000 - val_loss: 1.4041\n",
      "Epoch 41/100\n",
      "\u001B[1m3/3\u001B[0m \u001B[32m━━━━━━━━━━━━━━━━━━━━\u001B[0m\u001B[37m\u001B[0m \u001B[1m0s\u001B[0m 29ms/step - accuracy: 0.3088 - loss: 1.3809 - val_accuracy: 0.1000 - val_loss: 1.4040\n",
      "Epoch 42/100\n",
      "\u001B[1m3/3\u001B[0m \u001B[32m━━━━━━━━━━━━━━━━━━━━\u001B[0m\u001B[37m\u001B[0m \u001B[1m0s\u001B[0m 31ms/step - accuracy: 0.2815 - loss: 1.3824 - val_accuracy: 0.1000 - val_loss: 1.4044\n",
      "Epoch 43/100\n",
      "\u001B[1m3/3\u001B[0m \u001B[32m━━━━━━━━━━━━━━━━━━━━\u001B[0m\u001B[37m\u001B[0m \u001B[1m0s\u001B[0m 34ms/step - accuracy: 0.2580 - loss: 1.3829 - val_accuracy: 0.1000 - val_loss: 1.4055\n",
      "Epoch 44/100\n",
      "\u001B[1m3/3\u001B[0m \u001B[32m━━━━━━━━━━━━━━━━━━━━\u001B[0m\u001B[37m\u001B[0m \u001B[1m0s\u001B[0m 34ms/step - accuracy: 0.3010 - loss: 1.3801 - val_accuracy: 0.1000 - val_loss: 1.4060\n",
      "Epoch 45/100\n",
      "\u001B[1m3/3\u001B[0m \u001B[32m━━━━━━━━━━━━━━━━━━━━\u001B[0m\u001B[37m\u001B[0m \u001B[1m0s\u001B[0m 35ms/step - accuracy: 0.2463 - loss: 1.3846 - val_accuracy: 0.1000 - val_loss: 1.4068\n",
      "Epoch 46/100\n",
      "\u001B[1m3/3\u001B[0m \u001B[32m━━━━━━━━━━━━━━━━━━━━\u001B[0m\u001B[37m\u001B[0m \u001B[1m0s\u001B[0m 35ms/step - accuracy: 0.2736 - loss: 1.3821 - val_accuracy: 0.1000 - val_loss: 1.4073\n",
      "Epoch 47/100\n",
      "\u001B[1m3/3\u001B[0m \u001B[32m━━━━━━━━━━━━━━━━━━━━\u001B[0m\u001B[37m\u001B[0m \u001B[1m0s\u001B[0m 30ms/step - accuracy: 0.2971 - loss: 1.3801 - val_accuracy: 0.1000 - val_loss: 1.4077\n",
      "Epoch 48/100\n",
      "\u001B[1m3/3\u001B[0m \u001B[32m━━━━━━━━━━━━━━━━━━━━\u001B[0m\u001B[37m\u001B[0m \u001B[1m0s\u001B[0m 33ms/step - accuracy: 0.3127 - loss: 1.3794 - val_accuracy: 0.1000 - val_loss: 1.4081\n",
      "Epoch 49/100\n",
      "\u001B[1m3/3\u001B[0m \u001B[32m━━━━━━━━━━━━━━━━━━━━\u001B[0m\u001B[37m\u001B[0m \u001B[1m0s\u001B[0m 38ms/step - accuracy: 0.2932 - loss: 1.3777 - val_accuracy: 0.1000 - val_loss: 1.4084\n",
      "Epoch 50/100\n",
      "\u001B[1m3/3\u001B[0m \u001B[32m━━━━━━━━━━━━━━━━━━━━\u001B[0m\u001B[37m\u001B[0m \u001B[1m0s\u001B[0m 39ms/step - accuracy: 0.3010 - loss: 1.3797 - val_accuracy: 0.1000 - val_loss: 1.4087\n",
      "Epoch 51/100\n",
      "\u001B[1m3/3\u001B[0m \u001B[32m━━━━━━━━━━━━━━━━━━━━\u001B[0m\u001B[37m\u001B[0m \u001B[1m0s\u001B[0m 43ms/step - accuracy: 0.2268 - loss: 1.3868 - val_accuracy: 0.1000 - val_loss: 1.4093\n",
      "Epoch 52/100\n",
      "\u001B[1m3/3\u001B[0m \u001B[32m━━━━━━━━━━━━━━━━━━━━\u001B[0m\u001B[37m\u001B[0m \u001B[1m0s\u001B[0m 47ms/step - accuracy: 0.2658 - loss: 1.3805 - val_accuracy: 0.1000 - val_loss: 1.4096\n",
      "Epoch 53/100\n",
      "\u001B[1m3/3\u001B[0m \u001B[32m━━━━━━━━━━━━━━━━━━━━\u001B[0m\u001B[37m\u001B[0m \u001B[1m0s\u001B[0m 39ms/step - accuracy: 0.2971 - loss: 1.3815 - val_accuracy: 0.1000 - val_loss: 1.4103\n",
      "Epoch 54/100\n",
      "\u001B[1m3/3\u001B[0m \u001B[32m━━━━━━━━━━━━━━━━━━━━\u001B[0m\u001B[37m\u001B[0m \u001B[1m0s\u001B[0m 33ms/step - accuracy: 0.2775 - loss: 1.3817 - val_accuracy: 0.1000 - val_loss: 1.4108\n",
      "Epoch 55/100\n",
      "\u001B[1m3/3\u001B[0m \u001B[32m━━━━━━━━━━━━━━━━━━━━\u001B[0m\u001B[37m\u001B[0m \u001B[1m0s\u001B[0m 35ms/step - accuracy: 0.2580 - loss: 1.3840 - val_accuracy: 0.1000 - val_loss: 1.4111\n",
      "Epoch 56/100\n",
      "\u001B[1m3/3\u001B[0m \u001B[32m━━━━━━━━━━━━━━━━━━━━\u001B[0m\u001B[37m\u001B[0m \u001B[1m0s\u001B[0m 33ms/step - accuracy: 0.2697 - loss: 1.3803 - val_accuracy: 0.1000 - val_loss: 1.4111\n",
      "Epoch 57/100\n",
      "\u001B[1m3/3\u001B[0m \u001B[32m━━━━━━━━━━━━━━━━━━━━\u001B[0m\u001B[37m\u001B[0m \u001B[1m0s\u001B[0m 34ms/step - accuracy: 0.2815 - loss: 1.3809 - val_accuracy: 0.1000 - val_loss: 1.4115\n",
      "Epoch 58/100\n",
      "\u001B[1m3/3\u001B[0m \u001B[32m━━━━━━━━━━━━━━━━━━━━\u001B[0m\u001B[37m\u001B[0m \u001B[1m0s\u001B[0m 36ms/step - accuracy: 0.2971 - loss: 1.3795 - val_accuracy: 0.1000 - val_loss: 1.4121\n",
      "Epoch 59/100\n",
      "\u001B[1m3/3\u001B[0m \u001B[32m━━━━━━━━━━━━━━━━━━━━\u001B[0m\u001B[37m\u001B[0m \u001B[1m0s\u001B[0m 36ms/step - accuracy: 0.2971 - loss: 1.3806 - val_accuracy: 0.1000 - val_loss: 1.4127\n",
      "Epoch 60/100\n",
      "\u001B[1m3/3\u001B[0m \u001B[32m━━━━━━━━━━━━━━━━━━━━\u001B[0m\u001B[37m\u001B[0m \u001B[1m0s\u001B[0m 35ms/step - accuracy: 0.2932 - loss: 1.3785 - val_accuracy: 0.1000 - val_loss: 1.4125\n",
      "Epoch 61/100\n",
      "\u001B[1m3/3\u001B[0m \u001B[32m━━━━━━━━━━━━━━━━━━━━\u001B[0m\u001B[37m\u001B[0m \u001B[1m0s\u001B[0m 35ms/step - accuracy: 0.2775 - loss: 1.3809 - val_accuracy: 0.1000 - val_loss: 1.4133\n",
      "Epoch 62/100\n",
      "\u001B[1m3/3\u001B[0m \u001B[32m━━━━━━━━━━━━━━━━━━━━\u001B[0m\u001B[37m\u001B[0m \u001B[1m0s\u001B[0m 33ms/step - accuracy: 0.2854 - loss: 1.3794 - val_accuracy: 0.1000 - val_loss: 1.4139\n",
      "Epoch 63/100\n",
      "\u001B[1m3/3\u001B[0m \u001B[32m━━━━━━━━━━━━━━━━━━━━\u001B[0m\u001B[37m\u001B[0m \u001B[1m0s\u001B[0m 34ms/step - accuracy: 0.2854 - loss: 1.3821 - val_accuracy: 0.1000 - val_loss: 1.4145\n",
      "Epoch 64/100\n",
      "\u001B[1m3/3\u001B[0m \u001B[32m━━━━━━━━━━━━━━━━━━━━\u001B[0m\u001B[37m\u001B[0m \u001B[1m0s\u001B[0m 35ms/step - accuracy: 0.2932 - loss: 1.3806 - val_accuracy: 0.1000 - val_loss: 1.4149\n",
      "Epoch 65/100\n",
      "\u001B[1m3/3\u001B[0m \u001B[32m━━━━━━━━━━━━━━━━━━━━\u001B[0m\u001B[37m\u001B[0m \u001B[1m0s\u001B[0m 34ms/step - accuracy: 0.2932 - loss: 1.3786 - val_accuracy: 0.1000 - val_loss: 1.4155\n",
      "Epoch 66/100\n",
      "\u001B[1m3/3\u001B[0m \u001B[32m━━━━━━━━━━━━━━━━━━━━\u001B[0m\u001B[37m\u001B[0m \u001B[1m0s\u001B[0m 31ms/step - accuracy: 0.3049 - loss: 1.3791 - val_accuracy: 0.1000 - val_loss: 1.4158\n",
      "Epoch 67/100\n",
      "\u001B[1m3/3\u001B[0m \u001B[32m━━━━━━━━━━━━━━━━━━━━\u001B[0m\u001B[37m\u001B[0m \u001B[1m0s\u001B[0m 31ms/step - accuracy: 0.2736 - loss: 1.3833 - val_accuracy: 0.1000 - val_loss: 1.4160\n",
      "Epoch 68/100\n",
      "\u001B[1m3/3\u001B[0m \u001B[32m━━━━━━━━━━━━━━━━━━━━\u001B[0m\u001B[37m\u001B[0m \u001B[1m0s\u001B[0m 34ms/step - accuracy: 0.2736 - loss: 1.3790 - val_accuracy: 0.1000 - val_loss: 1.4163\n",
      "Epoch 69/100\n",
      "\u001B[1m3/3\u001B[0m \u001B[32m━━━━━━━━━━━━━━━━━━━━\u001B[0m\u001B[37m\u001B[0m \u001B[1m0s\u001B[0m 31ms/step - accuracy: 0.2971 - loss: 1.3783 - val_accuracy: 0.1000 - val_loss: 1.4165\n",
      "Epoch 70/100\n",
      "\u001B[1m3/3\u001B[0m \u001B[32m━━━━━━━━━━━━━━━━━━━━\u001B[0m\u001B[37m\u001B[0m \u001B[1m0s\u001B[0m 31ms/step - accuracy: 0.2775 - loss: 1.3793 - val_accuracy: 0.1000 - val_loss: 1.4167\n",
      "Epoch 71/100\n",
      "\u001B[1m3/3\u001B[0m \u001B[32m━━━━━━━━━━━━━━━━━━━━\u001B[0m\u001B[37m\u001B[0m \u001B[1m0s\u001B[0m 32ms/step - accuracy: 0.2932 - loss: 1.3749 - val_accuracy: 0.1000 - val_loss: 1.4169\n",
      "Epoch 72/100\n",
      "\u001B[1m3/3\u001B[0m \u001B[32m━━━━━━━━━━━━━━━━━━━━\u001B[0m\u001B[37m\u001B[0m \u001B[1m0s\u001B[0m 35ms/step - accuracy: 0.3049 - loss: 1.3790 - val_accuracy: 0.1000 - val_loss: 1.4177\n",
      "Epoch 73/100\n",
      "\u001B[1m3/3\u001B[0m \u001B[32m━━━━━━━━━━━━━━━━━━━━\u001B[0m\u001B[37m\u001B[0m \u001B[1m0s\u001B[0m 34ms/step - accuracy: 0.2697 - loss: 1.3802 - val_accuracy: 0.1000 - val_loss: 1.4181\n",
      "Epoch 74/100\n",
      "\u001B[1m3/3\u001B[0m \u001B[32m━━━━━━━━━━━━━━━━━━━━\u001B[0m\u001B[37m\u001B[0m \u001B[1m0s\u001B[0m 36ms/step - accuracy: 0.2580 - loss: 1.3843 - val_accuracy: 0.1000 - val_loss: 1.4189\n",
      "Epoch 75/100\n",
      "\u001B[1m3/3\u001B[0m \u001B[32m━━━━━━━━━━━━━━━━━━━━\u001B[0m\u001B[37m\u001B[0m \u001B[1m0s\u001B[0m 35ms/step - accuracy: 0.2775 - loss: 1.3788 - val_accuracy: 0.1000 - val_loss: 1.4193\n",
      "Epoch 76/100\n",
      "\u001B[1m3/3\u001B[0m \u001B[32m━━━━━━━━━━━━━━━━━━━━\u001B[0m\u001B[37m\u001B[0m \u001B[1m0s\u001B[0m 30ms/step - accuracy: 0.2893 - loss: 1.3753 - val_accuracy: 0.1000 - val_loss: 1.4194\n",
      "Epoch 77/100\n",
      "\u001B[1m3/3\u001B[0m \u001B[32m━━━━━━━━━━━━━━━━━━━━\u001B[0m\u001B[37m\u001B[0m \u001B[1m0s\u001B[0m 31ms/step - accuracy: 0.3166 - loss: 1.3770 - val_accuracy: 0.1000 - val_loss: 1.4199\n",
      "Epoch 78/100\n",
      "\u001B[1m3/3\u001B[0m \u001B[32m━━━━━━━━━━━━━━━━━━━━\u001B[0m\u001B[37m\u001B[0m \u001B[1m0s\u001B[0m 32ms/step - accuracy: 0.2893 - loss: 1.3787 - val_accuracy: 0.1000 - val_loss: 1.4207\n",
      "Epoch 79/100\n",
      "\u001B[1m3/3\u001B[0m \u001B[32m━━━━━━━━━━━━━━━━━━━━\u001B[0m\u001B[37m\u001B[0m \u001B[1m0s\u001B[0m 35ms/step - accuracy: 0.3088 - loss: 1.3735 - val_accuracy: 0.1000 - val_loss: 1.4206\n",
      "Epoch 80/100\n",
      "\u001B[1m3/3\u001B[0m \u001B[32m━━━━━━━━━━━━━━━━━━━━\u001B[0m\u001B[37m\u001B[0m \u001B[1m0s\u001B[0m 32ms/step - accuracy: 0.2580 - loss: 1.3812 - val_accuracy: 0.1000 - val_loss: 1.4213\n",
      "Epoch 81/100\n",
      "\u001B[1m3/3\u001B[0m \u001B[32m━━━━━━━━━━━━━━━━━━━━\u001B[0m\u001B[37m\u001B[0m \u001B[1m0s\u001B[0m 31ms/step - accuracy: 0.3010 - loss: 1.3752 - val_accuracy: 0.1000 - val_loss: 1.4216\n",
      "Epoch 82/100\n",
      "\u001B[1m3/3\u001B[0m \u001B[32m━━━━━━━━━━━━━━━━━━━━\u001B[0m\u001B[37m\u001B[0m \u001B[1m0s\u001B[0m 34ms/step - accuracy: 0.2815 - loss: 1.3780 - val_accuracy: 0.1000 - val_loss: 1.4221\n",
      "Epoch 83/100\n",
      "\u001B[1m3/3\u001B[0m \u001B[32m━━━━━━━━━━━━━━━━━━━━\u001B[0m\u001B[37m\u001B[0m \u001B[1m0s\u001B[0m 35ms/step - accuracy: 0.2697 - loss: 1.3794 - val_accuracy: 0.1000 - val_loss: 1.4226\n",
      "Epoch 84/100\n",
      "\u001B[1m3/3\u001B[0m \u001B[32m━━━━━━━━━━━━━━━━━━━━\u001B[0m\u001B[37m\u001B[0m \u001B[1m0s\u001B[0m 34ms/step - accuracy: 0.2893 - loss: 1.3773 - val_accuracy: 0.1000 - val_loss: 1.4228\n",
      "Epoch 85/100\n",
      "\u001B[1m3/3\u001B[0m \u001B[32m━━━━━━━━━━━━━━━━━━━━\u001B[0m\u001B[37m\u001B[0m \u001B[1m0s\u001B[0m 35ms/step - accuracy: 0.3010 - loss: 1.3741 - val_accuracy: 0.1000 - val_loss: 1.4229\n",
      "Epoch 86/100\n",
      "\u001B[1m3/3\u001B[0m \u001B[32m━━━━━━━━━━━━━━━━━━━━\u001B[0m\u001B[37m\u001B[0m \u001B[1m0s\u001B[0m 40ms/step - accuracy: 0.3088 - loss: 1.3773 - val_accuracy: 0.1000 - val_loss: 1.4237\n",
      "Epoch 87/100\n",
      "\u001B[1m3/3\u001B[0m \u001B[32m━━━━━━━━━━━━━━━━━━━━\u001B[0m\u001B[37m\u001B[0m \u001B[1m0s\u001B[0m 34ms/step - accuracy: 0.2697 - loss: 1.3760 - val_accuracy: 0.1000 - val_loss: 1.4239\n",
      "Epoch 88/100\n",
      "\u001B[1m3/3\u001B[0m \u001B[32m━━━━━━━━━━━━━━━━━━━━\u001B[0m\u001B[37m\u001B[0m \u001B[1m0s\u001B[0m 31ms/step - accuracy: 0.2971 - loss: 1.3745 - val_accuracy: 0.1000 - val_loss: 1.4243\n",
      "Epoch 89/100\n",
      "\u001B[1m3/3\u001B[0m \u001B[32m━━━━━━━━━━━━━━━━━━━━\u001B[0m\u001B[37m\u001B[0m \u001B[1m0s\u001B[0m 34ms/step - accuracy: 0.3205 - loss: 1.3758 - val_accuracy: 0.1000 - val_loss: 1.4248\n",
      "Epoch 90/100\n",
      "\u001B[1m3/3\u001B[0m \u001B[32m━━━━━━━━━━━━━━━━━━━━\u001B[0m\u001B[37m\u001B[0m \u001B[1m0s\u001B[0m 33ms/step - accuracy: 0.2815 - loss: 1.3776 - val_accuracy: 0.1000 - val_loss: 1.4252\n",
      "Epoch 91/100\n",
      "\u001B[1m3/3\u001B[0m \u001B[32m━━━━━━━━━━━━━━━━━━━━\u001B[0m\u001B[37m\u001B[0m \u001B[1m0s\u001B[0m 33ms/step - accuracy: 0.2932 - loss: 1.3778 - val_accuracy: 0.1000 - val_loss: 1.4255\n",
      "Epoch 92/100\n",
      "\u001B[1m3/3\u001B[0m \u001B[32m━━━━━━━━━━━━━━━━━━━━\u001B[0m\u001B[37m\u001B[0m \u001B[1m0s\u001B[0m 33ms/step - accuracy: 0.2580 - loss: 1.3812 - val_accuracy: 0.1000 - val_loss: 1.4260\n",
      "Epoch 93/100\n",
      "\u001B[1m3/3\u001B[0m \u001B[32m━━━━━━━━━━━━━━━━━━━━\u001B[0m\u001B[37m\u001B[0m \u001B[1m0s\u001B[0m 34ms/step - accuracy: 0.2463 - loss: 1.3823 - val_accuracy: 0.1000 - val_loss: 1.4264\n",
      "Epoch 94/100\n",
      "\u001B[1m3/3\u001B[0m \u001B[32m━━━━━━━━━━━━━━━━━━━━\u001B[0m\u001B[37m\u001B[0m \u001B[1m0s\u001B[0m 31ms/step - accuracy: 0.3127 - loss: 1.3719 - val_accuracy: 0.1000 - val_loss: 1.4264\n",
      "Epoch 95/100\n",
      "\u001B[1m3/3\u001B[0m \u001B[32m━━━━━━━━━━━━━━━━━━━━\u001B[0m\u001B[37m\u001B[0m \u001B[1m0s\u001B[0m 32ms/step - accuracy: 0.3205 - loss: 1.3712 - val_accuracy: 0.1000 - val_loss: 1.4267\n",
      "Epoch 96/100\n",
      "\u001B[1m3/3\u001B[0m \u001B[32m━━━━━━━━━━━━━━━━━━━━\u001B[0m\u001B[37m\u001B[0m \u001B[1m0s\u001B[0m 34ms/step - accuracy: 0.2932 - loss: 1.3739 - val_accuracy: 0.1000 - val_loss: 1.4271\n",
      "Epoch 97/100\n",
      "\u001B[1m3/3\u001B[0m \u001B[32m━━━━━━━━━━━━━━━━━━━━\u001B[0m\u001B[37m\u001B[0m \u001B[1m0s\u001B[0m 30ms/step - accuracy: 0.3244 - loss: 1.3741 - val_accuracy: 0.1000 - val_loss: 1.4272\n",
      "Epoch 98/100\n",
      "\u001B[1m3/3\u001B[0m \u001B[32m━━━━━━━━━━━━━━━━━━━━\u001B[0m\u001B[37m\u001B[0m \u001B[1m0s\u001B[0m 31ms/step - accuracy: 0.2854 - loss: 1.3757 - val_accuracy: 0.1000 - val_loss: 1.4275\n",
      "Epoch 99/100\n",
      "\u001B[1m3/3\u001B[0m \u001B[32m━━━━━━━━━━━━━━━━━━━━\u001B[0m\u001B[37m\u001B[0m \u001B[1m0s\u001B[0m 32ms/step - accuracy: 0.3049 - loss: 1.3763 - val_accuracy: 0.1000 - val_loss: 1.4275\n",
      "Epoch 100/100\n",
      "\u001B[1m3/3\u001B[0m \u001B[32m━━━━━━━━━━━━━━━━━━━━\u001B[0m\u001B[37m\u001B[0m \u001B[1m0s\u001B[0m 34ms/step - accuracy: 0.2932 - loss: 1.3772 - val_accuracy: 0.1000 - val_loss: 1.4279\n",
      "{'accuracy': [0.31578946113586426, 0.28947368264198303, 0.28947368264198303, 0.28947368264198303, 0.28947368264198303, 0.28947368264198303, 0.28947368264198303, 0.31578946113586426, 0.28947368264198303, 0.28947368264198303, 0.2631579041481018, 0.28947368264198303, 0.28947368264198303, 0.28947368264198303, 0.28947368264198303, 0.28947368264198303, 0.28947368264198303, 0.28947368264198303, 0.28947368264198303, 0.28947368264198303, 0.28947368264198303, 0.28947368264198303, 0.28947368264198303, 0.28947368264198303, 0.28947368264198303, 0.28947368264198303, 0.28947368264198303, 0.28947368264198303, 0.28947368264198303, 0.28947368264198303, 0.28947368264198303, 0.28947368264198303, 0.28947368264198303, 0.28947368264198303, 0.28947368264198303, 0.28947368264198303, 0.28947368264198303, 0.28947368264198303, 0.28947368264198303, 0.28947368264198303, 0.28947368264198303, 0.28947368264198303, 0.28947368264198303, 0.28947368264198303, 0.28947368264198303, 0.28947368264198303, 0.28947368264198303, 0.28947368264198303, 0.28947368264198303, 0.28947368264198303, 0.28947368264198303, 0.28947368264198303, 0.28947368264198303, 0.28947368264198303, 0.28947368264198303, 0.28947368264198303, 0.28947368264198303, 0.28947368264198303, 0.28947368264198303, 0.28947368264198303, 0.28947368264198303, 0.28947368264198303, 0.28947368264198303, 0.28947368264198303, 0.28947368264198303, 0.28947368264198303, 0.28947368264198303, 0.28947368264198303, 0.28947368264198303, 0.28947368264198303, 0.28947368264198303, 0.28947368264198303, 0.28947368264198303, 0.28947368264198303, 0.28947368264198303, 0.28947368264198303, 0.28947368264198303, 0.28947368264198303, 0.28947368264198303, 0.28947368264198303, 0.28947368264198303, 0.28947368264198303, 0.28947368264198303, 0.28947368264198303, 0.28947368264198303, 0.28947368264198303, 0.28947368264198303, 0.28947368264198303, 0.28947368264198303, 0.28947368264198303, 0.28947368264198303, 0.28947368264198303, 0.28947368264198303, 0.28947368264198303, 0.28947368264198303, 0.28947368264198303, 0.28947368264198303, 0.28947368264198303, 0.28947368264198303, 0.28947368264198303], 'loss': [1.3879224061965942, 1.3877285718917847, 1.3876351118087769, 1.387402892112732, 1.3871166706085205, 1.3869829177856445, 1.3866896629333496, 1.3865922689437866, 1.3864202499389648, 1.3862348794937134, 1.38602614402771, 1.385911226272583, 1.3858059644699097, 1.3856052160263062, 1.3854396343231201, 1.385150671005249, 1.3849636316299438, 1.384857177734375, 1.384612798690796, 1.3844819068908691, 1.3843361139297485, 1.384089708328247, 1.3840235471725464, 1.38389253616333, 1.383526086807251, 1.3832861185073853, 1.3832292556762695, 1.383056640625, 1.382978916168213, 1.3829528093338013, 1.3828022480010986, 1.382680892944336, 1.3826442956924438, 1.3824052810668945, 1.382315993309021, 1.3821147680282593, 1.3819578886032104, 1.3819546699523926, 1.3818001747131348, 1.3817275762557983, 1.3816777467727661, 1.381612777709961, 1.381503939628601, 1.38124418258667, 1.3811970949172974, 1.3809868097305298, 1.380915880203247, 1.3807865381240845, 1.3806877136230469, 1.3805657625198364, 1.3807276487350464, 1.3803459405899048, 1.380237340927124, 1.3801199197769165, 1.3801122903823853, 1.3799480199813843, 1.3798654079437256, 1.3797527551651, 1.3796675205230713, 1.3795567750930786, 1.379537582397461, 1.3793216943740845, 1.3791974782943726, 1.3791005611419678, 1.3789976835250854, 1.3789358139038086, 1.3789430856704712, 1.3787257671356201, 1.3786896467208862, 1.3786131143569946, 1.378678321838379, 1.3784774541854858, 1.378326177597046, 1.378269910812378, 1.3781230449676514, 1.3780536651611328, 1.3780444860458374, 1.3778754472732544, 1.377800703048706, 1.377746343612671, 1.3775969743728638, 1.3775732517242432, 1.377405047416687, 1.3773201704025269, 1.377250075340271, 1.3773207664489746, 1.3770906925201416, 1.3770009279251099, 1.3770811557769775, 1.3767685890197754, 1.3767024278640747, 1.376784324645996, 1.376580834388733, 1.376516580581665, 1.3764985799789429, 1.3763275146484375, 1.3762885332107544, 1.3762178421020508, 1.376139760017395, 1.376038670539856], 'val_accuracy': [0.10000000149011612, 0.10000000149011612, 0.10000000149011612, 0.10000000149011612, 0.10000000149011612, 0.15000000596046448, 0.15000000596046448, 0.10000000149011612, 0.10000000149011612, 0.10000000149011612, 0.10000000149011612, 0.10000000149011612, 0.10000000149011612, 0.10000000149011612, 0.10000000149011612, 0.10000000149011612, 0.10000000149011612, 0.10000000149011612, 0.10000000149011612, 0.10000000149011612, 0.10000000149011612, 0.10000000149011612, 0.10000000149011612, 0.10000000149011612, 0.10000000149011612, 0.10000000149011612, 0.10000000149011612, 0.10000000149011612, 0.10000000149011612, 0.10000000149011612, 0.10000000149011612, 0.10000000149011612, 0.10000000149011612, 0.10000000149011612, 0.10000000149011612, 0.10000000149011612, 0.10000000149011612, 0.10000000149011612, 0.10000000149011612, 0.10000000149011612, 0.10000000149011612, 0.10000000149011612, 0.10000000149011612, 0.10000000149011612, 0.10000000149011612, 0.10000000149011612, 0.10000000149011612, 0.10000000149011612, 0.10000000149011612, 0.10000000149011612, 0.10000000149011612, 0.10000000149011612, 0.10000000149011612, 0.10000000149011612, 0.10000000149011612, 0.10000000149011612, 0.10000000149011612, 0.10000000149011612, 0.10000000149011612, 0.10000000149011612, 0.10000000149011612, 0.10000000149011612, 0.10000000149011612, 0.10000000149011612, 0.10000000149011612, 0.10000000149011612, 0.10000000149011612, 0.10000000149011612, 0.10000000149011612, 0.10000000149011612, 0.10000000149011612, 0.10000000149011612, 0.10000000149011612, 0.10000000149011612, 0.10000000149011612, 0.10000000149011612, 0.10000000149011612, 0.10000000149011612, 0.10000000149011612, 0.10000000149011612, 0.10000000149011612, 0.10000000149011612, 0.10000000149011612, 0.10000000149011612, 0.10000000149011612, 0.10000000149011612, 0.10000000149011612, 0.10000000149011612, 0.10000000149011612, 0.10000000149011612, 0.10000000149011612, 0.10000000149011612, 0.10000000149011612, 0.10000000149011612, 0.10000000149011612, 0.10000000149011612, 0.10000000149011612, 0.10000000149011612, 0.10000000149011612, 0.10000000149011612], 'val_loss': [1.3838679790496826, 1.3843082189559937, 1.3848307132720947, 1.385758399963379, 1.3864214420318604, 1.3871057033538818, 1.3872877359390259, 1.3878679275512695, 1.3883358240127563, 1.3890076875686646, 1.3894027471542358, 1.3898298740386963, 1.390313744544983, 1.3910847902297974, 1.3916881084442139, 1.3925926685333252, 1.393004059791565, 1.3938065767288208, 1.3944740295410156, 1.3944625854492188, 1.3952405452728271, 1.3961219787597656, 1.3961718082427979, 1.3973029851913452, 1.398033857345581, 1.398442029953003, 1.398844599723816, 1.3991130590438843, 1.399588942527771, 1.3998850584030151, 1.400288462638855, 1.400595784187317, 1.4012796878814697, 1.4017179012298584, 1.4022856950759888, 1.402964472770691, 1.4031579494476318, 1.403365969657898, 1.4037212133407593, 1.4041237831115723, 1.404011607170105, 1.4044101238250732, 1.4054687023162842, 1.4060157537460327, 1.4067957401275635, 1.4072754383087158, 1.4076696634292603, 1.4080597162246704, 1.4084417819976807, 1.4087393283843994, 1.409276008605957, 1.40961492061615, 1.4103420972824097, 1.4107787609100342, 1.4110685586929321, 1.4111230373382568, 1.411471962928772, 1.412118911743164, 1.4126821756362915, 1.4124902486801147, 1.4132671356201172, 1.4138990640640259, 1.4145190715789795, 1.4149013757705688, 1.4154646396636963, 1.4158174991607666, 1.4160182476043701, 1.4162547588348389, 1.4164988994598389, 1.4167128801345825, 1.4169400930404663, 1.4176640510559082, 1.4180562496185303, 1.4188705682754517, 1.4193202257156372, 1.4194424152374268, 1.419874906539917, 1.420705795288086, 1.4205924272537231, 1.4212560653686523, 1.4216428995132446, 1.4220874309539795, 1.4225879907608032, 1.4228323698043823, 1.422935128211975, 1.4236606359481812, 1.4239400625228882, 1.4242985248565674, 1.424842357635498, 1.4252138137817383, 1.425480842590332, 1.4260034561157227, 1.4264219999313354, 1.4263559579849243, 1.426688551902771, 1.427109956741333, 1.4272385835647583, 1.4274895191192627, 1.42754065990448, 1.4279054403305054]}\n"
     ]
    }
   ],
   "source": [
    "import pandas as pd\n",
    "from sklearn.model_selection import train_test_split\n",
    "from sklearn.preprocessing import MinMaxScaler\n",
    "import tensorflow as tf\n",
    "from tensorflow import keras\n",
    "from tensorflow.keras import layers\n",
    "\n",
    "# Define the key features\n",
    "key_features = ['D1D2_mean', 'D1D2_std', 'D1U1_mean', 'D1U1_std', 'D1U2_mean', 'D1U2_std', 'TotTime', 'U1D2_mean', 'U1U2_std']\n",
    "\n",
    "# Filter out rows with 'emotionNeutral'\n",
    "dataframe_filtered = dataframe_balanced[dataframe_balanced['emotionIndex'] != 'H' ]\n",
    "\n",
    "# Ensure key features are present in dataframe_filtered\n",
    "missing_features = [feat for feat in key_features if feat not in dataframe_filtered.columns]\n",
    "if missing_features:\n",
    "    raise KeyError(f\"Missing features in dataframe_filtered: {missing_features}\")\n",
    "\n",
    "# Filter the DataFrame to include only the specified key features\n",
    "data_keys = dataframe_filtered[key_features]\n",
    "\n",
    "# One-hot encode the emotions\n",
    "emotion_one_hot = pd.get_dummies(dataframe_filtered['emotionIndex'])\n",
    "\n",
    "# Ensure the number of samples in data_keys and emotion_one_hot are the same\n",
    "if len(data_keys) != len(emotion_one_hot):\n",
    "    raise ValueError(f\"Mismatch in number of samples: data_keys ({len(data_keys)}) and emotion_one_hot ({len(emotion_one_hot)})\")\n",
    "\n",
    "# Split the data\n",
    "X_train, X_test, Y_train, Y_test = train_test_split(data_keys, emotion_one_hot, test_size=0.2)\n",
    "\n",
    "# Scale the data\n",
    "scaler = MinMaxScaler()\n",
    "X_train_scaled = scaler.fit_transform(X_train)\n",
    "X_test_scaled = scaler.transform(X_test)\n",
    "\n",
    "# Define the model\n",
    "model = keras.models.Sequential()\n",
    "model.add(layers.Input(shape=(len(key_features),)))\n",
    "model.add(layers.Dense(int(len(key_features) * 1.5), activation=\"relu\"))\n",
    "model.add(layers.Dense(int(len(key_features) * 0.8), activation=\"relu\"))\n",
    "model.add(layers.Dense(int(len(key_features) * 0.2), activation=\"relu\"))\n",
    "model.add(layers.Dense(emotion_one_hot.shape[1], activation=\"softmax\"))\n",
    "\n",
    "# Compile the model\n",
    "model.compile(optimizer=keras.optimizers.SGD(0.01), loss=\"categorical_crossentropy\", metrics=[\"accuracy\"])\n",
    "\n",
    "# Train the model\n",
    "history = model.fit(X_train_scaled, Y_train, batch_size=32, epochs=100, validation_data=(X_test_scaled, Y_test))\n",
    "\n",
    "# Check if the training history is available\n",
    "print(history.history)"
   ],
   "metadata": {
    "collapsed": false,
    "ExecuteTime": {
     "end_time": "2025-01-16T13:50:37.689015Z",
     "start_time": "2025-01-16T13:50:27.495416Z"
    }
   },
   "execution_count": 37
  },
  {
   "cell_type": "code",
   "outputs": [
    {
     "name": "stdout",
     "output_type": "stream",
     "text": [
      "   userId textIndex emotionIndex  delFreq  leftFreq   TotTime  text_index  \\\n",
      "0      87        FI            C        8         0   53227.0         114   \n",
      "1     114        FI            S        1         0   46453.0         157   \n",
      "2      25        FI            N        1         0   82270.0          50   \n",
      "3      72        FI            N        6         0  125088.0         233   \n",
      "4     109        FI            N        8         0   80065.0         148   \n",
      "\n",
      "   user_index idx_start idx_end  ...   U1U2_mean    U1U2_std  typeWith  \\\n",
      "0          54     22567   22713  ...  360.751724  194.664788   2 hands   \n",
      "1          76     30746   30959  ...  344.934272  363.676745   2 hands   \n",
      "2          26     10203   10403  ...  410.935000  344.718219   2 hands   \n",
      "3         116     44982   45180  ...  254.570707  231.913717   2 hands   \n",
      "4          71     29030   29258  ...  318.929825  256.428052   2 hands   \n",
      "\n",
      "          typistType                       pcTimeAverage  ageRange  gender  \\\n",
      "0       Touch Typist           less than an hour per day     20-29  Female   \n",
      "1       Touch Typist           More than 3 hours per day     20-29    Male   \n",
      "2  Two Finger Typist           More than 3 hours per day     20-29  Female   \n",
      "3       Touch Typist           More than 3 hours per day      >=50  Female   \n",
      "4  Two Finger Typist  between 1 hour and 3 hours per day     16-19  Female   \n",
      "\n",
      "         status              degree  country  \n",
      "0       Student  College/University  Germany  \n",
      "1       Student  College/University  Tunisia  \n",
      "2       Student  College/University  Tunisia  \n",
      "3  Professional  College/University   Belize  \n",
      "4       Student  College/University  Tunisia  \n",
      "\n",
      "[5 rows x 32 columns]\n",
      "Epoch 1/100\n",
      "\u001B[1m4/4\u001B[0m \u001B[32m━━━━━━━━━━━━━━━━━━━━\u001B[0m\u001B[37m\u001B[0m \u001B[1m1s\u001B[0m 67ms/step - accuracy: 0.4674 - loss: 0.6939 - val_accuracy: 0.5312 - val_loss: 0.6954\n",
      "Epoch 2/100\n",
      "\u001B[1m4/4\u001B[0m \u001B[32m━━━━━━━━━━━━━━━━━━━━\u001B[0m\u001B[37m\u001B[0m \u001B[1m0s\u001B[0m 22ms/step - accuracy: 0.4738 - loss: 0.6932 - val_accuracy: 0.4688 - val_loss: 0.6957\n",
      "Epoch 3/100\n",
      "\u001B[1m4/4\u001B[0m \u001B[32m━━━━━━━━━━━━━━━━━━━━\u001B[0m\u001B[37m\u001B[0m \u001B[1m0s\u001B[0m 20ms/step - accuracy: 0.4770 - loss: 0.6939 - val_accuracy: 0.4375 - val_loss: 0.6959\n",
      "Epoch 4/100\n",
      "\u001B[1m4/4\u001B[0m \u001B[32m━━━━━━━━━━━━━━━━━━━━\u001B[0m\u001B[37m\u001B[0m \u001B[1m0s\u001B[0m 19ms/step - accuracy: 0.6089 - loss: 0.6923 - val_accuracy: 0.4062 - val_loss: 0.6961\n",
      "Epoch 5/100\n",
      "\u001B[1m4/4\u001B[0m \u001B[32m━━━━━━━━━━━━━━━━━━━━\u001B[0m\u001B[37m\u001B[0m \u001B[1m0s\u001B[0m 23ms/step - accuracy: 0.6285 - loss: 0.6917 - val_accuracy: 0.4062 - val_loss: 0.6961\n",
      "Epoch 6/100\n",
      "\u001B[1m4/4\u001B[0m \u001B[32m━━━━━━━━━━━━━━━━━━━━\u001B[0m\u001B[37m\u001B[0m \u001B[1m0s\u001B[0m 20ms/step - accuracy: 0.6049 - loss: 0.6913 - val_accuracy: 0.3750 - val_loss: 0.6962\n",
      "Epoch 7/100\n",
      "\u001B[1m4/4\u001B[0m \u001B[32m━━━━━━━━━━━━━━━━━━━━\u001B[0m\u001B[37m\u001B[0m \u001B[1m0s\u001B[0m 21ms/step - accuracy: 0.6257 - loss: 0.6909 - val_accuracy: 0.4688 - val_loss: 0.6963\n",
      "Epoch 8/100\n",
      "\u001B[1m4/4\u001B[0m \u001B[32m━━━━━━━━━━━━━━━━━━━━\u001B[0m\u001B[37m\u001B[0m \u001B[1m0s\u001B[0m 19ms/step - accuracy: 0.5954 - loss: 0.6922 - val_accuracy: 0.4688 - val_loss: 0.6963\n",
      "Epoch 9/100\n",
      "\u001B[1m4/4\u001B[0m \u001B[32m━━━━━━━━━━━━━━━━━━━━\u001B[0m\u001B[37m\u001B[0m \u001B[1m0s\u001B[0m 23ms/step - accuracy: 0.5870 - loss: 0.6920 - val_accuracy: 0.4688 - val_loss: 0.6964\n",
      "Epoch 10/100\n",
      "\u001B[1m4/4\u001B[0m \u001B[32m━━━━━━━━━━━━━━━━━━━━\u001B[0m\u001B[37m\u001B[0m \u001B[1m0s\u001B[0m 21ms/step - accuracy: 0.5504 - loss: 0.6918 - val_accuracy: 0.5000 - val_loss: 0.6964\n",
      "Epoch 11/100\n",
      "\u001B[1m4/4\u001B[0m \u001B[32m━━━━━━━━━━━━━━━━━━━━\u001B[0m\u001B[37m\u001B[0m \u001B[1m0s\u001B[0m 23ms/step - accuracy: 0.5305 - loss: 0.6907 - val_accuracy: 0.4688 - val_loss: 0.6964\n",
      "Epoch 12/100\n",
      "\u001B[1m4/4\u001B[0m \u001B[32m━━━━━━━━━━━━━━━━━━━━\u001B[0m\u001B[37m\u001B[0m \u001B[1m0s\u001B[0m 22ms/step - accuracy: 0.6013 - loss: 0.6903 - val_accuracy: 0.5000 - val_loss: 0.6965\n",
      "Epoch 13/100\n",
      "\u001B[1m4/4\u001B[0m \u001B[32m━━━━━━━━━━━━━━━━━━━━\u001B[0m\u001B[37m\u001B[0m \u001B[1m0s\u001B[0m 22ms/step - accuracy: 0.5588 - loss: 0.6905 - val_accuracy: 0.5000 - val_loss: 0.6965\n",
      "Epoch 14/100\n",
      "\u001B[1m4/4\u001B[0m \u001B[32m━━━━━━━━━━━━━━━━━━━━\u001B[0m\u001B[37m\u001B[0m \u001B[1m0s\u001B[0m 21ms/step - accuracy: 0.4929 - loss: 0.6916 - val_accuracy: 0.5000 - val_loss: 0.6965\n",
      "Epoch 15/100\n",
      "\u001B[1m4/4\u001B[0m \u001B[32m━━━━━━━━━━━━━━━━━━━━\u001B[0m\u001B[37m\u001B[0m \u001B[1m0s\u001B[0m 20ms/step - accuracy: 0.5304 - loss: 0.6920 - val_accuracy: 0.5000 - val_loss: 0.6966\n",
      "Epoch 16/100\n",
      "\u001B[1m4/4\u001B[0m \u001B[32m━━━━━━━━━━━━━━━━━━━━\u001B[0m\u001B[37m\u001B[0m \u001B[1m0s\u001B[0m 22ms/step - accuracy: 0.5201 - loss: 0.6916 - val_accuracy: 0.5000 - val_loss: 0.6966\n",
      "Epoch 17/100\n",
      "\u001B[1m4/4\u001B[0m \u001B[32m━━━━━━━━━━━━━━━━━━━━\u001B[0m\u001B[37m\u001B[0m \u001B[1m0s\u001B[0m 21ms/step - accuracy: 0.5230 - loss: 0.6904 - val_accuracy: 0.5000 - val_loss: 0.6966\n",
      "Epoch 18/100\n",
      "\u001B[1m4/4\u001B[0m \u001B[32m━━━━━━━━━━━━━━━━━━━━\u001B[0m\u001B[37m\u001B[0m \u001B[1m0s\u001B[0m 23ms/step - accuracy: 0.5084 - loss: 0.6907 - val_accuracy: 0.5000 - val_loss: 0.6966\n",
      "Epoch 19/100\n",
      "\u001B[1m4/4\u001B[0m \u001B[32m━━━━━━━━━━━━━━━━━━━━\u001B[0m\u001B[37m\u001B[0m \u001B[1m0s\u001B[0m 23ms/step - accuracy: 0.5513 - loss: 0.6897 - val_accuracy: 0.5000 - val_loss: 0.6966\n",
      "Epoch 20/100\n",
      "\u001B[1m4/4\u001B[0m \u001B[32m━━━━━━━━━━━━━━━━━━━━\u001B[0m\u001B[37m\u001B[0m \u001B[1m0s\u001B[0m 24ms/step - accuracy: 0.5429 - loss: 0.6894 - val_accuracy: 0.4688 - val_loss: 0.6967\n",
      "Epoch 21/100\n",
      "\u001B[1m4/4\u001B[0m \u001B[32m━━━━━━━━━━━━━━━━━━━━\u001B[0m\u001B[37m\u001B[0m \u001B[1m0s\u001B[0m 22ms/step - accuracy: 0.5200 - loss: 0.6937 - val_accuracy: 0.4688 - val_loss: 0.6967\n",
      "Epoch 22/100\n",
      "\u001B[1m4/4\u001B[0m \u001B[32m━━━━━━━━━━━━━━━━━━━━\u001B[0m\u001B[37m\u001B[0m \u001B[1m0s\u001B[0m 20ms/step - accuracy: 0.5294 - loss: 0.6908 - val_accuracy: 0.4688 - val_loss: 0.6967\n",
      "Epoch 23/100\n",
      "\u001B[1m4/4\u001B[0m \u001B[32m━━━━━━━━━━━━━━━━━━━━\u001B[0m\u001B[37m\u001B[0m \u001B[1m0s\u001B[0m 19ms/step - accuracy: 0.5158 - loss: 0.6909 - val_accuracy: 0.4688 - val_loss: 0.6967\n",
      "Epoch 24/100\n",
      "\u001B[1m4/4\u001B[0m \u001B[32m━━━━━━━━━━━━━━━━━━━━\u001B[0m\u001B[37m\u001B[0m \u001B[1m0s\u001B[0m 21ms/step - accuracy: 0.4823 - loss: 0.6934 - val_accuracy: 0.4688 - val_loss: 0.6968\n",
      "Epoch 25/100\n",
      "\u001B[1m4/4\u001B[0m \u001B[32m━━━━━━━━━━━━━━━━━━━━\u001B[0m\u001B[37m\u001B[0m \u001B[1m0s\u001B[0m 24ms/step - accuracy: 0.5355 - loss: 0.6895 - val_accuracy: 0.4688 - val_loss: 0.6968\n",
      "Epoch 26/100\n",
      "\u001B[1m4/4\u001B[0m \u001B[32m━━━━━━━━━━━━━━━━━━━━\u001B[0m\u001B[37m\u001B[0m \u001B[1m0s\u001B[0m 23ms/step - accuracy: 0.5355 - loss: 0.6899 - val_accuracy: 0.4688 - val_loss: 0.6968\n",
      "Epoch 27/100\n",
      "\u001B[1m4/4\u001B[0m \u001B[32m━━━━━━━━━━━━━━━━━━━━\u001B[0m\u001B[37m\u001B[0m \u001B[1m0s\u001B[0m 21ms/step - accuracy: 0.5554 - loss: 0.6911 - val_accuracy: 0.4688 - val_loss: 0.6968\n",
      "Epoch 28/100\n",
      "\u001B[1m4/4\u001B[0m \u001B[32m━━━━━━━━━━━━━━━━━━━━\u001B[0m\u001B[37m\u001B[0m \u001B[1m0s\u001B[0m 23ms/step - accuracy: 0.5491 - loss: 0.6879 - val_accuracy: 0.4688 - val_loss: 0.6968\n",
      "Epoch 29/100\n",
      "\u001B[1m4/4\u001B[0m \u001B[32m━━━━━━━━━━━━━━━━━━━━\u001B[0m\u001B[37m\u001B[0m \u001B[1m0s\u001B[0m 23ms/step - accuracy: 0.5304 - loss: 0.6902 - val_accuracy: 0.4688 - val_loss: 0.6968\n",
      "Epoch 30/100\n",
      "\u001B[1m4/4\u001B[0m \u001B[32m━━━━━━━━━━━━━━━━━━━━\u001B[0m\u001B[37m\u001B[0m \u001B[1m0s\u001B[0m 21ms/step - accuracy: 0.5346 - loss: 0.6912 - val_accuracy: 0.4688 - val_loss: 0.6969\n",
      "Epoch 31/100\n",
      "\u001B[1m4/4\u001B[0m \u001B[32m━━━━━━━━━━━━━━━━━━━━\u001B[0m\u001B[37m\u001B[0m \u001B[1m0s\u001B[0m 21ms/step - accuracy: 0.5324 - loss: 0.6897 - val_accuracy: 0.4688 - val_loss: 0.6969\n",
      "Epoch 32/100\n",
      "\u001B[1m4/4\u001B[0m \u001B[32m━━━━━━━━━━━━━━━━━━━━\u001B[0m\u001B[37m\u001B[0m \u001B[1m0s\u001B[0m 26ms/step - accuracy: 0.5355 - loss: 0.6888 - val_accuracy: 0.4688 - val_loss: 0.6969\n",
      "Epoch 33/100\n",
      "\u001B[1m4/4\u001B[0m \u001B[32m━━━━━━━━━━━━━━━━━━━━\u001B[0m\u001B[37m\u001B[0m \u001B[1m0s\u001B[0m 20ms/step - accuracy: 0.5241 - loss: 0.6915 - val_accuracy: 0.4688 - val_loss: 0.6969\n",
      "Epoch 34/100\n",
      "\u001B[1m4/4\u001B[0m \u001B[32m━━━━━━━━━━━━━━━━━━━━\u001B[0m\u001B[37m\u001B[0m \u001B[1m0s\u001B[0m 22ms/step - accuracy: 0.5449 - loss: 0.6895 - val_accuracy: 0.4688 - val_loss: 0.6969\n",
      "Epoch 35/100\n",
      "\u001B[1m4/4\u001B[0m \u001B[32m━━━━━━━━━━━━━━━━━━━━\u001B[0m\u001B[37m\u001B[0m \u001B[1m0s\u001B[0m 19ms/step - accuracy: 0.5355 - loss: 0.6901 - val_accuracy: 0.4688 - val_loss: 0.6969\n",
      "Epoch 36/100\n",
      "\u001B[1m4/4\u001B[0m \u001B[32m━━━━━━━━━━━━━━━━━━━━\u001B[0m\u001B[37m\u001B[0m \u001B[1m0s\u001B[0m 21ms/step - accuracy: 0.4835 - loss: 0.6922 - val_accuracy: 0.4688 - val_loss: 0.6969\n",
      "Epoch 37/100\n",
      "\u001B[1m4/4\u001B[0m \u001B[32m━━━━━━━━━━━━━━━━━━━━\u001B[0m\u001B[37m\u001B[0m \u001B[1m0s\u001B[0m 21ms/step - accuracy: 0.5220 - loss: 0.6904 - val_accuracy: 0.5000 - val_loss: 0.6970\n",
      "Epoch 38/100\n",
      "\u001B[1m4/4\u001B[0m \u001B[32m━━━━━━━━━━━━━━━━━━━━\u001B[0m\u001B[37m\u001B[0m \u001B[1m0s\u001B[0m 21ms/step - accuracy: 0.5283 - loss: 0.6903 - val_accuracy: 0.5000 - val_loss: 0.6970\n",
      "Epoch 39/100\n",
      "\u001B[1m4/4\u001B[0m \u001B[32m━━━━━━━━━━━━━━━━━━━━\u001B[0m\u001B[37m\u001B[0m \u001B[1m0s\u001B[0m 20ms/step - accuracy: 0.4886 - loss: 0.6908 - val_accuracy: 0.5000 - val_loss: 0.6970\n",
      "Epoch 40/100\n",
      "\u001B[1m4/4\u001B[0m \u001B[32m━━━━━━━━━━━━━━━━━━━━\u001B[0m\u001B[37m\u001B[0m \u001B[1m0s\u001B[0m 20ms/step - accuracy: 0.5263 - loss: 0.6907 - val_accuracy: 0.5000 - val_loss: 0.6970\n",
      "Epoch 41/100\n",
      "\u001B[1m4/4\u001B[0m \u001B[32m━━━━━━━━━━━━━━━━━━━━\u001B[0m\u001B[37m\u001B[0m \u001B[1m0s\u001B[0m 20ms/step - accuracy: 0.5210 - loss: 0.6909 - val_accuracy: 0.5000 - val_loss: 0.6971\n",
      "Epoch 42/100\n",
      "\u001B[1m4/4\u001B[0m \u001B[32m━━━━━━━━━━━━━━━━━━━━\u001B[0m\u001B[37m\u001B[0m \u001B[1m0s\u001B[0m 28ms/step - accuracy: 0.5200 - loss: 0.6904 - val_accuracy: 0.5000 - val_loss: 0.6971\n",
      "Epoch 43/100\n",
      "\u001B[1m4/4\u001B[0m \u001B[32m━━━━━━━━━━━━━━━━━━━━\u001B[0m\u001B[37m\u001B[0m \u001B[1m0s\u001B[0m 24ms/step - accuracy: 0.5282 - loss: 0.6896 - val_accuracy: 0.5000 - val_loss: 0.6971\n",
      "Epoch 44/100\n",
      "\u001B[1m4/4\u001B[0m \u001B[32m━━━━━━━━━━━━━━━━━━━━\u001B[0m\u001B[37m\u001B[0m \u001B[1m0s\u001B[0m 24ms/step - accuracy: 0.5293 - loss: 0.6889 - val_accuracy: 0.5000 - val_loss: 0.6971\n",
      "Epoch 45/100\n",
      "\u001B[1m4/4\u001B[0m \u001B[32m━━━━━━━━━━━━━━━━━━━━\u001B[0m\u001B[37m\u001B[0m \u001B[1m0s\u001B[0m 22ms/step - accuracy: 0.5617 - loss: 0.6867 - val_accuracy: 0.5000 - val_loss: 0.6971\n",
      "Epoch 46/100\n",
      "\u001B[1m4/4\u001B[0m \u001B[32m━━━━━━━━━━━━━━━━━━━━\u001B[0m\u001B[37m\u001B[0m \u001B[1m0s\u001B[0m 22ms/step - accuracy: 0.5501 - loss: 0.6892 - val_accuracy: 0.5000 - val_loss: 0.6971\n",
      "Epoch 47/100\n",
      "\u001B[1m4/4\u001B[0m \u001B[32m━━━━━━━━━━━━━━━━━━━━\u001B[0m\u001B[37m\u001B[0m \u001B[1m0s\u001B[0m 22ms/step - accuracy: 0.5210 - loss: 0.6901 - val_accuracy: 0.5000 - val_loss: 0.6971\n",
      "Epoch 48/100\n",
      "\u001B[1m4/4\u001B[0m \u001B[32m━━━━━━━━━━━━━━━━━━━━\u001B[0m\u001B[37m\u001B[0m \u001B[1m0s\u001B[0m 22ms/step - accuracy: 0.4876 - loss: 0.6919 - val_accuracy: 0.5000 - val_loss: 0.6971\n",
      "Epoch 49/100\n",
      "\u001B[1m4/4\u001B[0m \u001B[32m━━━━━━━━━━━━━━━━━━━━\u001B[0m\u001B[37m\u001B[0m \u001B[1m0s\u001B[0m 21ms/step - accuracy: 0.5679 - loss: 0.6918 - val_accuracy: 0.5000 - val_loss: 0.6971\n",
      "Epoch 50/100\n",
      "\u001B[1m4/4\u001B[0m \u001B[32m━━━━━━━━━━━━━━━━━━━━\u001B[0m\u001B[37m\u001B[0m \u001B[1m0s\u001B[0m 21ms/step - accuracy: 0.4959 - loss: 0.6932 - val_accuracy: 0.5000 - val_loss: 0.6971\n",
      "Epoch 51/100\n",
      "\u001B[1m4/4\u001B[0m \u001B[32m━━━━━━━━━━━━━━━━━━━━\u001B[0m\u001B[37m\u001B[0m \u001B[1m0s\u001B[0m 21ms/step - accuracy: 0.5220 - loss: 0.6914 - val_accuracy: 0.5000 - val_loss: 0.6972\n",
      "Epoch 52/100\n",
      "\u001B[1m4/4\u001B[0m \u001B[32m━━━━━━━━━━━━━━━━━━━━\u001B[0m\u001B[37m\u001B[0m \u001B[1m0s\u001B[0m 23ms/step - accuracy: 0.5564 - loss: 0.6860 - val_accuracy: 0.5000 - val_loss: 0.6971\n",
      "Epoch 53/100\n",
      "\u001B[1m4/4\u001B[0m \u001B[32m━━━━━━━━━━━━━━━━━━━━\u001B[0m\u001B[37m\u001B[0m \u001B[1m0s\u001B[0m 25ms/step - accuracy: 0.4908 - loss: 0.6924 - val_accuracy: 0.5000 - val_loss: 0.6972\n",
      "Epoch 54/100\n",
      "\u001B[1m4/4\u001B[0m \u001B[32m━━━━━━━━━━━━━━━━━━━━\u001B[0m\u001B[37m\u001B[0m \u001B[1m0s\u001B[0m 21ms/step - accuracy: 0.5283 - loss: 0.6909 - val_accuracy: 0.5000 - val_loss: 0.6972\n",
      "Epoch 55/100\n",
      "\u001B[1m4/4\u001B[0m \u001B[32m━━━━━━━━━━━━━━━━━━━━\u001B[0m\u001B[37m\u001B[0m \u001B[1m0s\u001B[0m 21ms/step - accuracy: 0.5044 - loss: 0.6926 - val_accuracy: 0.5000 - val_loss: 0.6972\n",
      "Epoch 56/100\n",
      "\u001B[1m4/4\u001B[0m \u001B[32m━━━━━━━━━━━━━━━━━━━━\u001B[0m\u001B[37m\u001B[0m \u001B[1m0s\u001B[0m 28ms/step - accuracy: 0.4865 - loss: 0.6923 - val_accuracy: 0.5000 - val_loss: 0.6972\n",
      "Epoch 57/100\n",
      "\u001B[1m4/4\u001B[0m \u001B[32m━━━━━━━━━━━━━━━━━━━━\u001B[0m\u001B[37m\u001B[0m \u001B[1m0s\u001B[0m 22ms/step - accuracy: 0.5356 - loss: 0.6885 - val_accuracy: 0.5000 - val_loss: 0.6972\n",
      "Epoch 58/100\n",
      "\u001B[1m4/4\u001B[0m \u001B[32m━━━━━━━━━━━━━━━━━━━━\u001B[0m\u001B[37m\u001B[0m \u001B[1m0s\u001B[0m 26ms/step - accuracy: 0.5689 - loss: 0.6882 - val_accuracy: 0.5000 - val_loss: 0.6972\n",
      "Epoch 59/100\n",
      "\u001B[1m4/4\u001B[0m \u001B[32m━━━━━━━━━━━━━━━━━━━━\u001B[0m\u001B[37m\u001B[0m \u001B[1m0s\u001B[0m 23ms/step - accuracy: 0.5272 - loss: 0.6878 - val_accuracy: 0.5000 - val_loss: 0.6972\n",
      "Epoch 60/100\n",
      "\u001B[1m4/4\u001B[0m \u001B[32m━━━━━━━━━━━━━━━━━━━━\u001B[0m\u001B[37m\u001B[0m \u001B[1m0s\u001B[0m 20ms/step - accuracy: 0.5210 - loss: 0.6882 - val_accuracy: 0.5000 - val_loss: 0.6972\n",
      "Epoch 61/100\n",
      "\u001B[1m4/4\u001B[0m \u001B[32m━━━━━━━━━━━━━━━━━━━━\u001B[0m\u001B[37m\u001B[0m \u001B[1m0s\u001B[0m 20ms/step - accuracy: 0.5073 - loss: 0.6878 - val_accuracy: 0.5000 - val_loss: 0.6971\n",
      "Epoch 62/100\n",
      "\u001B[1m4/4\u001B[0m \u001B[32m━━━━━━━━━━━━━━━━━━━━\u001B[0m\u001B[37m\u001B[0m \u001B[1m0s\u001B[0m 19ms/step - accuracy: 0.5251 - loss: 0.6909 - val_accuracy: 0.5000 - val_loss: 0.6972\n",
      "Epoch 63/100\n",
      "\u001B[1m4/4\u001B[0m \u001B[32m━━━━━━━━━━━━━━━━━━━━\u001B[0m\u001B[37m\u001B[0m \u001B[1m0s\u001B[0m 20ms/step - accuracy: 0.5314 - loss: 0.6904 - val_accuracy: 0.5000 - val_loss: 0.6971\n",
      "Epoch 64/100\n",
      "\u001B[1m4/4\u001B[0m \u001B[32m━━━━━━━━━━━━━━━━━━━━\u001B[0m\u001B[37m\u001B[0m \u001B[1m0s\u001B[0m 21ms/step - accuracy: 0.4855 - loss: 0.6891 - val_accuracy: 0.5000 - val_loss: 0.6972\n",
      "Epoch 65/100\n",
      "\u001B[1m4/4\u001B[0m \u001B[32m━━━━━━━━━━━━━━━━━━━━\u001B[0m\u001B[37m\u001B[0m \u001B[1m0s\u001B[0m 20ms/step - accuracy: 0.4980 - loss: 0.6914 - val_accuracy: 0.5000 - val_loss: 0.6971\n",
      "Epoch 66/100\n",
      "\u001B[1m4/4\u001B[0m \u001B[32m━━━━━━━━━━━━━━━━━━━━\u001B[0m\u001B[37m\u001B[0m \u001B[1m0s\u001B[0m 20ms/step - accuracy: 0.5126 - loss: 0.6891 - val_accuracy: 0.5000 - val_loss: 0.6971\n",
      "Epoch 67/100\n",
      "\u001B[1m4/4\u001B[0m \u001B[32m━━━━━━━━━━━━━━━━━━━━\u001B[0m\u001B[37m\u001B[0m \u001B[1m0s\u001B[0m 20ms/step - accuracy: 0.5585 - loss: 0.6878 - val_accuracy: 0.5000 - val_loss: 0.6971\n",
      "Epoch 68/100\n",
      "\u001B[1m4/4\u001B[0m \u001B[32m━━━━━━━━━━━━━━━━━━━━\u001B[0m\u001B[37m\u001B[0m \u001B[1m0s\u001B[0m 20ms/step - accuracy: 0.5355 - loss: 0.6900 - val_accuracy: 0.5000 - val_loss: 0.6971\n",
      "Epoch 69/100\n",
      "\u001B[1m4/4\u001B[0m \u001B[32m━━━━━━━━━━━━━━━━━━━━\u001B[0m\u001B[37m\u001B[0m \u001B[1m0s\u001B[0m 22ms/step - accuracy: 0.5251 - loss: 0.6896 - val_accuracy: 0.5000 - val_loss: 0.6971\n",
      "Epoch 70/100\n",
      "\u001B[1m4/4\u001B[0m \u001B[32m━━━━━━━━━━━━━━━━━━━━\u001B[0m\u001B[37m\u001B[0m \u001B[1m0s\u001B[0m 20ms/step - accuracy: 0.5303 - loss: 0.6876 - val_accuracy: 0.5000 - val_loss: 0.6971\n",
      "Epoch 71/100\n",
      "\u001B[1m4/4\u001B[0m \u001B[32m━━━━━━━━━━━━━━━━━━━━\u001B[0m\u001B[37m\u001B[0m \u001B[1m0s\u001B[0m 20ms/step - accuracy: 0.4981 - loss: 0.6919 - val_accuracy: 0.5000 - val_loss: 0.6971\n",
      "Epoch 72/100\n",
      "\u001B[1m4/4\u001B[0m \u001B[32m━━━━━━━━━━━━━━━━━━━━\u001B[0m\u001B[37m\u001B[0m \u001B[1m0s\u001B[0m 21ms/step - accuracy: 0.4710 - loss: 0.6930 - val_accuracy: 0.5000 - val_loss: 0.6971\n",
      "Epoch 73/100\n",
      "\u001B[1m4/4\u001B[0m \u001B[32m━━━━━━━━━━━━━━━━━━━━\u001B[0m\u001B[37m\u001B[0m \u001B[1m0s\u001B[0m 20ms/step - accuracy: 0.5762 - loss: 0.6869 - val_accuracy: 0.5000 - val_loss: 0.6971\n",
      "Epoch 74/100\n",
      "\u001B[1m4/4\u001B[0m \u001B[32m━━━━━━━━━━━━━━━━━━━━\u001B[0m\u001B[37m\u001B[0m \u001B[1m0s\u001B[0m 21ms/step - accuracy: 0.5032 - loss: 0.6902 - val_accuracy: 0.5000 - val_loss: 0.6971\n",
      "Epoch 75/100\n",
      "\u001B[1m4/4\u001B[0m \u001B[32m━━━━━━━━━━━━━━━━━━━━\u001B[0m\u001B[37m\u001B[0m \u001B[1m0s\u001B[0m 21ms/step - accuracy: 0.5554 - loss: 0.6874 - val_accuracy: 0.5000 - val_loss: 0.6970\n",
      "Epoch 76/100\n",
      "\u001B[1m4/4\u001B[0m \u001B[32m━━━━━━━━━━━━━━━━━━━━\u001B[0m\u001B[37m\u001B[0m \u001B[1m0s\u001B[0m 20ms/step - accuracy: 0.5126 - loss: 0.6899 - val_accuracy: 0.5000 - val_loss: 0.6970\n",
      "Epoch 77/100\n",
      "\u001B[1m4/4\u001B[0m \u001B[32m━━━━━━━━━━━━━━━━━━━━\u001B[0m\u001B[37m\u001B[0m \u001B[1m0s\u001B[0m 19ms/step - accuracy: 0.5543 - loss: 0.6876 - val_accuracy: 0.5000 - val_loss: 0.6970\n",
      "Epoch 78/100\n",
      "\u001B[1m4/4\u001B[0m \u001B[32m━━━━━━━━━━━━━━━━━━━━\u001B[0m\u001B[37m\u001B[0m \u001B[1m0s\u001B[0m 19ms/step - accuracy: 0.5230 - loss: 0.6894 - val_accuracy: 0.5000 - val_loss: 0.6970\n",
      "Epoch 79/100\n",
      "\u001B[1m4/4\u001B[0m \u001B[32m━━━━━━━━━━━━━━━━━━━━\u001B[0m\u001B[37m\u001B[0m \u001B[1m0s\u001B[0m 20ms/step - accuracy: 0.5012 - loss: 0.6877 - val_accuracy: 0.5000 - val_loss: 0.6970\n",
      "Epoch 80/100\n",
      "\u001B[1m4/4\u001B[0m \u001B[32m━━━━━━━━━━━━━━━━━━━━\u001B[0m\u001B[37m\u001B[0m \u001B[1m0s\u001B[0m 22ms/step - accuracy: 0.5480 - loss: 0.6891 - val_accuracy: 0.5000 - val_loss: 0.6970\n",
      "Epoch 81/100\n",
      "\u001B[1m4/4\u001B[0m \u001B[32m━━━━━━━━━━━━━━━━━━━━\u001B[0m\u001B[37m\u001B[0m \u001B[1m0s\u001B[0m 25ms/step - accuracy: 0.5324 - loss: 0.6868 - val_accuracy: 0.5000 - val_loss: 0.6970\n",
      "Epoch 82/100\n",
      "\u001B[1m4/4\u001B[0m \u001B[32m━━━━━━━━━━━━━━━━━━━━\u001B[0m\u001B[37m\u001B[0m \u001B[1m0s\u001B[0m 20ms/step - accuracy: 0.5313 - loss: 0.6884 - val_accuracy: 0.5000 - val_loss: 0.6969\n",
      "Epoch 83/100\n",
      "\u001B[1m4/4\u001B[0m \u001B[32m━━━━━━━━━━━━━━━━━━━━\u001B[0m\u001B[37m\u001B[0m \u001B[1m0s\u001B[0m 20ms/step - accuracy: 0.5063 - loss: 0.6887 - val_accuracy: 0.5000 - val_loss: 0.6969\n",
      "Epoch 84/100\n",
      "\u001B[1m4/4\u001B[0m \u001B[32m━━━━━━━━━━━━━━━━━━━━\u001B[0m\u001B[37m\u001B[0m \u001B[1m0s\u001B[0m 21ms/step - accuracy: 0.5066 - loss: 0.6897 - val_accuracy: 0.5000 - val_loss: 0.6969\n",
      "Epoch 85/100\n",
      "\u001B[1m4/4\u001B[0m \u001B[32m━━━━━━━━━━━━━━━━━━━━\u001B[0m\u001B[37m\u001B[0m \u001B[1m0s\u001B[0m 19ms/step - accuracy: 0.5126 - loss: 0.6901 - val_accuracy: 0.5000 - val_loss: 0.6969\n",
      "Epoch 86/100\n",
      "\u001B[1m4/4\u001B[0m \u001B[32m━━━━━━━━━━━━━━━━━━━━\u001B[0m\u001B[37m\u001B[0m \u001B[1m0s\u001B[0m 22ms/step - accuracy: 0.5136 - loss: 0.6893 - val_accuracy: 0.5000 - val_loss: 0.6969\n",
      "Epoch 87/100\n",
      "\u001B[1m4/4\u001B[0m \u001B[32m━━━━━━━━━━━━━━━━━━━━\u001B[0m\u001B[37m\u001B[0m \u001B[1m0s\u001B[0m 21ms/step - accuracy: 0.4857 - loss: 0.6913 - val_accuracy: 0.5000 - val_loss: 0.6969\n",
      "Epoch 88/100\n",
      "\u001B[1m4/4\u001B[0m \u001B[32m━━━━━━━━━━━━━━━━━━━━\u001B[0m\u001B[37m\u001B[0m \u001B[1m0s\u001B[0m 20ms/step - accuracy: 0.5116 - loss: 0.6896 - val_accuracy: 0.5000 - val_loss: 0.6969\n",
      "Epoch 89/100\n",
      "\u001B[1m4/4\u001B[0m \u001B[32m━━━━━━━━━━━━━━━━━━━━\u001B[0m\u001B[37m\u001B[0m \u001B[1m0s\u001B[0m 21ms/step - accuracy: 0.5085 - loss: 0.6906 - val_accuracy: 0.5000 - val_loss: 0.6969\n",
      "Epoch 90/100\n",
      "\u001B[1m4/4\u001B[0m \u001B[32m━━━━━━━━━━━━━━━━━━━━\u001B[0m\u001B[37m\u001B[0m \u001B[1m0s\u001B[0m 21ms/step - accuracy: 0.5345 - loss: 0.6878 - val_accuracy: 0.5000 - val_loss: 0.6969\n",
      "Epoch 91/100\n",
      "\u001B[1m4/4\u001B[0m \u001B[32m━━━━━━━━━━━━━━━━━━━━\u001B[0m\u001B[37m\u001B[0m \u001B[1m0s\u001B[0m 21ms/step - accuracy: 0.4562 - loss: 0.6912 - val_accuracy: 0.5000 - val_loss: 0.6968\n",
      "Epoch 92/100\n",
      "\u001B[1m4/4\u001B[0m \u001B[32m━━━━━━━━━━━━━━━━━━━━\u001B[0m\u001B[37m\u001B[0m \u001B[1m0s\u001B[0m 23ms/step - accuracy: 0.5230 - loss: 0.6904 - val_accuracy: 0.5000 - val_loss: 0.6968\n",
      "Epoch 93/100\n",
      "\u001B[1m4/4\u001B[0m \u001B[32m━━━━━━━━━━━━━━━━━━━━\u001B[0m\u001B[37m\u001B[0m \u001B[1m0s\u001B[0m 19ms/step - accuracy: 0.5002 - loss: 0.6909 - val_accuracy: 0.5000 - val_loss: 0.6968\n",
      "Epoch 94/100\n",
      "\u001B[1m4/4\u001B[0m \u001B[32m━━━━━━━━━━━━━━━━━━━━\u001B[0m\u001B[37m\u001B[0m \u001B[1m0s\u001B[0m 20ms/step - accuracy: 0.5148 - loss: 0.6906 - val_accuracy: 0.5000 - val_loss: 0.6968\n",
      "Epoch 95/100\n",
      "\u001B[1m4/4\u001B[0m \u001B[32m━━━━━━━━━━━━━━━━━━━━\u001B[0m\u001B[37m\u001B[0m \u001B[1m0s\u001B[0m 21ms/step - accuracy: 0.4906 - loss: 0.6887 - val_accuracy: 0.5000 - val_loss: 0.6968\n",
      "Epoch 96/100\n",
      "\u001B[1m4/4\u001B[0m \u001B[32m━━━━━━━━━━━━━━━━━━━━\u001B[0m\u001B[37m\u001B[0m \u001B[1m0s\u001B[0m 20ms/step - accuracy: 0.5074 - loss: 0.6912 - val_accuracy: 0.5000 - val_loss: 0.6968\n",
      "Epoch 97/100\n",
      "\u001B[1m4/4\u001B[0m \u001B[32m━━━━━━━━━━━━━━━━━━━━\u001B[0m\u001B[37m\u001B[0m \u001B[1m0s\u001B[0m 21ms/step - accuracy: 0.5377 - loss: 0.6892 - val_accuracy: 0.5000 - val_loss: 0.6968\n",
      "Epoch 98/100\n",
      "\u001B[1m4/4\u001B[0m \u001B[32m━━━━━━━━━━━━━━━━━━━━\u001B[0m\u001B[37m\u001B[0m \u001B[1m0s\u001B[0m 21ms/step - accuracy: 0.5325 - loss: 0.6870 - val_accuracy: 0.5000 - val_loss: 0.6968\n",
      "Epoch 99/100\n",
      "\u001B[1m4/4\u001B[0m \u001B[32m━━━━━━━━━━━━━━━━━━━━\u001B[0m\u001B[37m\u001B[0m \u001B[1m0s\u001B[0m 21ms/step - accuracy: 0.5024 - loss: 0.6904 - val_accuracy: 0.5000 - val_loss: 0.6968\n",
      "Epoch 100/100\n",
      "\u001B[1m4/4\u001B[0m \u001B[32m━━━━━━━━━━━━━━━━━━━━\u001B[0m\u001B[37m\u001B[0m \u001B[1m0s\u001B[0m 20ms/step - accuracy: 0.5337 - loss: 0.6904 - val_accuracy: 0.5000 - val_loss: 0.6967\n",
      "{'accuracy': [0.4444444477558136, 0.4682539701461792, 0.4920634925365448, 0.5873016119003296, 0.5555555820465088, 0.6111111044883728, 0.6111111044883728, 0.5952380895614624, 0.5873016119003296, 0.5714285969734192, 0.5396825671195984, 0.5476190447807312, 0.5714285969734192, 0.523809552192688, 0.5317460298538208, 0.5555555820465088, 0.5158730149269104, 0.5158730149269104, 0.5396825671195984, 0.5317460298538208, 0.5396825671195984, 0.5396825671195984, 0.523809552192688, 0.5079365372657776, 0.5158730149269104, 0.5158730149269104, 0.5317460298538208, 0.523809552192688, 0.523809552192688, 0.5317460298538208, 0.523809552192688, 0.5158730149269104, 0.5158730149269104, 0.5158730149269104, 0.5158730149269104, 0.5317460298538208, 0.523809552192688, 0.523809552192688, 0.5079365372657776, 0.5396825671195984, 0.5317460298538208, 0.5317460298538208, 0.5158730149269104, 0.523809552192688, 0.5317460298538208, 0.523809552192688, 0.523809552192688, 0.523809552192688, 0.5317460298538208, 0.5158730149269104, 0.5158730149269104, 0.5317460298538208, 0.523809552192688, 0.523809552192688, 0.5396825671195984, 0.5079365372657776, 0.5317460298538208, 0.523809552192688, 0.523809552192688, 0.523809552192688, 0.5079365372657776, 0.523809552192688, 0.5317460298538208, 0.5158730149269104, 0.5158730149269104, 0.5158730149269104, 0.523809552192688, 0.5158730149269104, 0.523809552192688, 0.5158730149269104, 0.523809552192688, 0.5317460298538208, 0.523809552192688, 0.5158730149269104, 0.523809552192688, 0.523809552192688, 0.523809552192688, 0.5079365372657776, 0.523809552192688, 0.5158730149269104, 0.5158730149269104, 0.5158730149269104, 0.5158730149269104, 0.5555555820465088, 0.523809552192688, 0.5158730149269104, 0.5396825671195984, 0.5158730149269104, 0.5317460298538208, 0.5158730149269104, 0.4841269850730896, 0.5158730149269104, 0.5317460298538208, 0.5317460298538208, 0.5, 0.523809552192688, 0.5317460298538208, 0.5317460298538208, 0.5476190447807312, 0.5555555820465088], 'loss': [0.6929579973220825, 0.6927292943000793, 0.6923410892486572, 0.6920719742774963, 0.6920620203018188, 0.6917383074760437, 0.6916625499725342, 0.6916581988334656, 0.6915494203567505, 0.6914777159690857, 0.6914210915565491, 0.6913748979568481, 0.6913033127784729, 0.6912111639976501, 0.691169261932373, 0.6911486387252808, 0.691128671169281, 0.6911681890487671, 0.6910542249679565, 0.6910417079925537, 0.6910093426704407, 0.6909486055374146, 0.6909092664718628, 0.6909043788909912, 0.6908566951751709, 0.6907986998558044, 0.690760612487793, 0.6908752918243408, 0.6906830072402954, 0.6908431053161621, 0.6907332539558411, 0.6906640529632568, 0.6906116008758545, 0.6905806660652161, 0.6906262040138245, 0.6905449628829956, 0.6904475688934326, 0.6904412508010864, 0.6905202269554138, 0.6903576254844666, 0.6903291940689087, 0.6902797818183899, 0.6903817057609558, 0.6902292370796204, 0.6902607679367065, 0.690242350101471, 0.6902142763137817, 0.6901965141296387, 0.690300464630127, 0.6902489066123962, 0.6900876760482788, 0.6900215744972229, 0.6900233626365662, 0.6900147795677185, 0.6899428367614746, 0.6899709701538086, 0.6899141669273376, 0.689971923828125, 0.6898436546325684, 0.6897349953651428, 0.6899488568305969, 0.6897100806236267, 0.6897146105766296, 0.6897099614143372, 0.6896863579750061, 0.68963623046875, 0.6895647644996643, 0.689589262008667, 0.6894989013671875, 0.6894996166229248, 0.6896005272865295, 0.6895782947540283, 0.6894979476928711, 0.689389169216156, 0.6895119547843933, 0.689365804195404, 0.6893918514251709, 0.6893562078475952, 0.6893590092658997, 0.6893051862716675, 0.6892833113670349, 0.6892021894454956, 0.6893340945243835, 0.6892617344856262, 0.689172625541687, 0.6891455054283142, 0.689288318157196, 0.6890842914581299, 0.6890895962715149, 0.6891125440597534, 0.6891298890113831, 0.6890711188316345, 0.68902587890625, 0.688981294631958, 0.6890772581100464, 0.6890595555305481, 0.6889767050743103, 0.6889496445655823, 0.6889094710350037, 0.6890141367912292], 'val_accuracy': [0.53125, 0.46875, 0.4375, 0.40625, 0.40625, 0.375, 0.46875, 0.46875, 0.46875, 0.5, 0.46875, 0.5, 0.5, 0.5, 0.5, 0.5, 0.5, 0.5, 0.5, 0.46875, 0.46875, 0.46875, 0.46875, 0.46875, 0.46875, 0.46875, 0.46875, 0.46875, 0.46875, 0.46875, 0.46875, 0.46875, 0.46875, 0.46875, 0.46875, 0.46875, 0.5, 0.5, 0.5, 0.5, 0.5, 0.5, 0.5, 0.5, 0.5, 0.5, 0.5, 0.5, 0.5, 0.5, 0.5, 0.5, 0.5, 0.5, 0.5, 0.5, 0.5, 0.5, 0.5, 0.5, 0.5, 0.5, 0.5, 0.5, 0.5, 0.5, 0.5, 0.5, 0.5, 0.5, 0.5, 0.5, 0.5, 0.5, 0.5, 0.5, 0.5, 0.5, 0.5, 0.5, 0.5, 0.5, 0.5, 0.5, 0.5, 0.5, 0.5, 0.5, 0.5, 0.5, 0.5, 0.5, 0.5, 0.5, 0.5, 0.5, 0.5, 0.5, 0.5, 0.5], 'val_loss': [0.6954435706138611, 0.6956694722175598, 0.6959162950515747, 0.6961069703102112, 0.696132481098175, 0.6962007284164429, 0.6962584257125854, 0.696304202079773, 0.6963557004928589, 0.6963924169540405, 0.6964303255081177, 0.6964741945266724, 0.6965125799179077, 0.6965469121932983, 0.6965743899345398, 0.6965886354446411, 0.6966053247451782, 0.6966153383255005, 0.696641206741333, 0.6966654062271118, 0.6966876983642578, 0.696713924407959, 0.6967350244522095, 0.6967562437057495, 0.6967722177505493, 0.6967910528182983, 0.6968064904212952, 0.6968235969543457, 0.6968425512313843, 0.6968520879745483, 0.696864128112793, 0.6968751549720764, 0.6968873739242554, 0.6969060897827148, 0.696921706199646, 0.6969464421272278, 0.6969658136367798, 0.6969853639602661, 0.6970139741897583, 0.6970393657684326, 0.6970601081848145, 0.6970720291137695, 0.6970807313919067, 0.6970924139022827, 0.6970994472503662, 0.6971001625061035, 0.6971197128295898, 0.6971294283866882, 0.6971259117126465, 0.6971384286880493, 0.6971527338027954, 0.6971473693847656, 0.6971539258956909, 0.6971652507781982, 0.6971689462661743, 0.6971747875213623, 0.6971708536148071, 0.6971572041511536, 0.6971555948257446, 0.6971548199653625, 0.6971498727798462, 0.6971527338027954, 0.6971465349197388, 0.6971513032913208, 0.6971475481987, 0.6971421241760254, 0.6971314549446106, 0.6971201300621033, 0.6971099376678467, 0.697101354598999, 0.697098970413208, 0.6970922946929932, 0.6970717310905457, 0.697060227394104, 0.6970488429069519, 0.6970396637916565, 0.6970248222351074, 0.6970131397247314, 0.6970013976097107, 0.6969770789146423, 0.6969542503356934, 0.6969436407089233, 0.696926474571228, 0.696919858455658, 0.6969096660614014, 0.6969038248062134, 0.6968907713890076, 0.6968821287155151, 0.6968749761581421, 0.6968560218811035, 0.6968458294868469, 0.6968269348144531, 0.6968109607696533, 0.6968007683753967, 0.696782112121582, 0.6967706680297852, 0.6967654228210449, 0.6967529058456421, 0.6967502236366272, 0.6967415809631348]}\n",
      "\u001B[1m1/1\u001B[0m \u001B[32m━━━━━━━━━━━━━━━━━━━━\u001B[0m\u001B[37m\u001B[0m \u001B[1m0s\u001B[0m 34ms/step - accuracy: 0.5000 - loss: 0.6967\n",
      "Test Loss: 0.6967415809631348, Test Accuracy: 0.5\n",
      "\u001B[1m1/1\u001B[0m \u001B[32m━━━━━━━━━━━━━━━━━━━━\u001B[0m\u001B[37m\u001B[0m \u001B[1m0s\u001B[0m 58ms/step\n",
      "\u001B[1m1/1\u001B[0m \u001B[32m━━━━━━━━━━━━━━━━━━━━\u001B[0m\u001B[37m\u001B[0m \u001B[1m0s\u001B[0m 24ms/step\n"
     ]
    }
   ],
   "source": [
    "import pandas as pd\n",
    "from sklearn.model_selection import train_test_split\n",
    "from sklearn.preprocessing import MinMaxScaler\n",
    "from sklearn.metrics import confusion_matrix, ConfusionMatrixDisplay\n",
    "from sklearn.inspection import permutation_importance\n",
    "import tensorflow as tf\n",
    "from tensorflow import keras\n",
    "from tensorflow.keras import layers\n",
    "import seaborn as sns\n",
    "import matplotlib.pyplot as plt\n",
    "import numpy as np\n",
    "\n",
    "# Calculate the minimum sample size between male and female\n",
    "min_sample_size = df_fixed_all['gender'].value_counts().min()\n",
    "\n",
    "# Sample data for each gender category\n",
    "male_data = df_fixed_all[df_fixed_all['gender'] == 'Male'].sample(min_sample_size, random_state=42)\n",
    "female_data = df_fixed_all[df_fixed_all['gender'] == 'Female'].sample(min_sample_size, random_state=42)\n",
    "\n",
    "# Concatenate the sampled data\n",
    "dataframe_balanced = pd.concat([male_data, female_data], axis=0)\n",
    "\n",
    "# Shuffle the resulting DataFrame\n",
    "dataframe_balanced = dataframe_balanced.sample(frac=1, random_state=42).reset_index(drop=True)\n",
    "\n",
    "# Display the first few rows to verify\n",
    "print(dataframe_balanced.head())\n",
    "\n",
    "# Define the key features\n",
    "key_features = ['D1D2_mean', 'D1D2_std', 'D1U1_mean', 'D1U1_std', 'D1U2_mean', 'D1U2_std', 'TotTime', 'U1D2_mean', 'U1U2_std']\n",
    "\n",
    "# Ensure key features are present in the DataFrame\n",
    "missing_features = [feat for feat in key_features if feat not in dataframe_balanced.columns]\n",
    "if missing_features:\n",
    "    raise KeyError(f\"Missing features in dataframe_balanced: {missing_features}\")\n",
    "\n",
    "# Filter the DataFrame to include only the specified key features\n",
    "data_keys = dataframe_balanced[key_features]\n",
    "\n",
    "# Clean the DataFrame by filling missing values with the mean of the column\n",
    "data_keys = data_keys.fillna(data_keys.mean())\n",
    "\n",
    "# Encode the gender labels as binary values\n",
    "dataframe_balanced['gender'] = dataframe_balanced['gender'].map({'Female': 0, 'Male': 1})\n",
    "\n",
    "# Ensure the gender column is present\n",
    "if 'gender' not in dataframe_balanced.columns:\n",
    "    raise KeyError(\"Gender column is missing in dataframe_balanced\")\n",
    "\n",
    "# Handle missing values in the gender column\n",
    "if dataframe_balanced['gender'].isnull().any():\n",
    "    dataframe_balanced['gender'] = dataframe_balanced['gender'].fillna(dataframe_balanced['gender'].mode()[0])\n",
    "\n",
    "# Extract the gender labels\n",
    "gender_labels = dataframe_balanced['gender']\n",
    "\n",
    "# Check for and handle any NaN values in gender_labels\n",
    "if gender_labels.isnull().any():\n",
    "    raise ValueError(\"Gender labels contain NaN values. Please clean the data.\")\n",
    "\n",
    "# Split the data into training and testing sets\n",
    "X_train, X_test, Y_train, Y_test = train_test_split(data_keys, gender_labels, test_size=0.2, random_state=42)\n",
    "\n",
    "# Scale the data\n",
    "scaler = MinMaxScaler()\n",
    "X_train_scaled = scaler.fit_transform(X_train)\n",
    "X_test_scaled = scaler.transform(X_test)\n",
    "\n",
    "# Define the model\n",
    "model = keras.models.Sequential()\n",
    "model.add(layers.Input(shape=(len(key_features),)))\n",
    "model.add(layers.Dense(int(len(key_features) * 1.5), activation=\"relu\"))\n",
    "model.add(layers.Dense(int(len(key_features) * 0.8), activation=\"relu\"))\n",
    "model.add(layers.Dense(int(len(key_features) * 0.5), activation=\"relu\"))\n",
    "model.add(layers.Dense(1, activation=\"sigmoid\"))  # Use sigmoid for binary classification\n",
    "\n",
    "# Compile the model\n",
    "model.compile(optimizer=keras.optimizers.SGD(0.01), loss=\"binary_crossentropy\", metrics=[\"accuracy\"])\n",
    "\n",
    "# Train the model\n",
    "history = model.fit(X_train_scaled, Y_train, batch_size=32, epochs=100, validation_data=(X_test_scaled, Y_test))\n",
    "\n",
    "# Check if the training history is available\n",
    "print(history.history)\n",
    "\n",
    "# Evaluate the model on the test data\n",
    "test_loss, test_accuracy = model.evaluate(X_test_scaled, Y_test)\n",
    "print(f\"Test Loss: {test_loss}, Test Accuracy: {test_accuracy}\")\n",
    "\n",
    "# Plot and save confusion matrix\n",
    "def plot_confusion_matrix(model, X_test, Y_test, filename):\n",
    "    # Predict the gender on the test set\n",
    "    Y_pred = (model.predict(X_test) > 0.5).astype(\"int32\")\n",
    "\n",
    "    # Compute the confusion matrix\n",
    "    cm = confusion_matrix(Y_test, Y_pred)\n",
    "\n",
    "    # Plot the confusion matrix\n",
    "    plt.figure(figsize=(8, 6))\n",
    "    sns.heatmap(cm, annot=True, fmt='d', cmap='Blues', xticklabels=['Female', 'Male'], yticklabels=['Female', 'Male'])\n",
    "    plt.xlabel('Predicted')\n",
    "    plt.ylabel('Actual')\n",
    "    plt.title('Confusion Matrix')\n",
    "    plt.tight_layout()\n",
    "    plt.savefig(filename)\n",
    "    plt.close()\n",
    "\n",
    "# Save confusion matrix\n",
    "plot_confusion_matrix(model, X_test_scaled, Y_test, 'cf_fixed_gender_ann.pdf')\n",
    "\n",
    "# Custom scoring function\n",
    "def custom_scorer(estimator, X, y):\n",
    "    y_pred = estimator.predict(X)\n",
    "    y_pred_classes = (y_pred > 0.5).astype(\"int32\").flatten()\n",
    "    return np.mean(y_pred_classes == y)\n",
    "\n",
    "# Feature Importance\n",
    "result = permutation_importance(model, X_test_scaled, Y_test, scoring=custom_scorer, n_repeats=10, random_state=42, n_jobs=2)\n",
    "feature_importance = pd.Series(result.importances_mean, index=key_features)\n",
    "feature_importance.sort_values(ascending=False, inplace=True)\n",
    "\n",
    "# Plot and save feature importance\n",
    "plt.figure(figsize=(10, 6))\n",
    "feature_importance.plot(kind='bar', color='skyblue')\n",
    "plt.title('Feature Importance')\n",
    "plt.xlabel('Features')\n",
    "plt.ylabel('Importance')\n",
    "plt.tight_layout()\n",
    "plt.savefig('fip_fixed_gender_ann.pdf')\n",
    "plt.close()"
   ],
   "metadata": {
    "collapsed": false,
    "ExecuteTime": {
     "end_time": "2025-01-16T13:50:51.600436Z",
     "start_time": "2025-01-16T13:50:37.690016Z"
    }
   },
   "execution_count": 38
  },
  {
   "cell_type": "markdown",
   "source": [
    "# gender prediction"
   ],
   "metadata": {
    "collapsed": false
   }
  },
  {
   "cell_type": "code",
   "outputs": [
    {
     "name": "stdout",
     "output_type": "stream",
     "text": [
      "Gender Distribution in the Dataset:\n",
      "Male: 79\n",
      "Female: 79\n"
     ]
    }
   ],
   "source": [
    "def display_gender_distribution(dataframe):\n",
    "    gender_counts = dataframe['gender'].value_counts()\n",
    "    print(\"Gender Distribution in the Dataset:\")\n",
    "    print(f\"Male: {gender_counts.get(1, 0)}\")\n",
    "    print(f\"Female: {gender_counts.get(0, 0)}\")\n",
    "\n",
    "# Display gender distribution\n",
    "display_gender_distribution(dataframe_balanced)"
   ],
   "metadata": {
    "collapsed": false,
    "ExecuteTime": {
     "end_time": "2025-01-16T13:50:51.615856Z",
     "start_time": "2025-01-16T13:50:51.601378Z"
    }
   },
   "execution_count": 39
  },
  {
   "cell_type": "code",
   "outputs": [
    {
     "name": "stdout",
     "output_type": "stream",
     "text": [
      "Number of male samples: 78\n",
      "Number of female samples: 78\n"
     ]
    }
   ],
   "source": [
    "# Calculate the minimum sample size between male and female\n",
    "min_sample_size = df_fixed_all['gender'].value_counts().min() - 1\n",
    "\n",
    "# Sample data for each gender category\n",
    "male_data = df_fixed_all[df_fixed_all['gender'] == 'Male'].sample(min_sample_size, random_state=42)\n",
    "female_data = df_fixed_all[df_fixed_all['gender'] == 'Female'].sample(min_sample_size, random_state=42)\n",
    "\n",
    "# Concatenate the sampled data\n",
    "dataframe_balanced = pd.concat([male_data, female_data], axis=0)\n",
    "\n",
    "# Shuffle the resulting DataFrame\n",
    "dataframe_balanced = dataframe_balanced.sample(frac=1, random_state=42).reset_index(drop=True)\n",
    "\n",
    "# Verify the number of samples\n",
    "print(\"Number of male samples:\", len(dataframe_balanced[dataframe_balanced['gender'] == 'Male']))\n",
    "print(\"Number of female samples:\", len(dataframe_balanced[dataframe_balanced['gender'] == 'Female']))"
   ],
   "metadata": {
    "collapsed": false,
    "ExecuteTime": {
     "end_time": "2025-01-16T13:50:51.631331Z",
     "start_time": "2025-01-16T13:50:51.616854Z"
    }
   },
   "execution_count": 40
  },
  {
   "cell_type": "code",
   "outputs": [
    {
     "name": "stdout",
     "output_type": "stream",
     "text": [
      "Number of samples in training set: 124\n",
      "Number of samples in testing set: 32\n",
      "Number of male samples in training set: 61\n",
      "Number of female samples in training set: 63\n",
      "Number of male samples in testing set: 17\n",
      "Number of female samples in testing set: 15\n"
     ]
    }
   ],
   "source": [
    "from sklearn.model_selection import train_test_split\n",
    "from sklearn.preprocessing import MinMaxScaler\n",
    "\n",
    "# Define the key features\n",
    "key_features = ['D1D2_mean', 'D1D2_std', 'D1U1_mean', 'D1U1_std', 'D1U2_mean', 'D1U2_std', 'TotTime', 'U1D2_mean', 'U1U2_std']\n",
    "\n",
    "# Ensure key features are present in the DataFrame\n",
    "missing_features = [feat for feat in key_features if feat not in dataframe_balanced.columns]\n",
    "if missing_features:\n",
    "    raise KeyError(f\"Missing features in dataframe_balanced: {missing_features}\")\n",
    "\n",
    "# Filter the DataFrame to include only the specified key features\n",
    "data_keys = dataframe_balanced[key_features]\n",
    "\n",
    "# Clean the DataFrame by filling missing values with the mean of the column\n",
    "data_keys = data_keys.fillna(data_keys.mean())\n",
    "\n",
    "# Encode the gender labels as binary values\n",
    "dataframe_balanced['gender'] = dataframe_balanced['gender'].map({'Female': 0, 'Male': 1})\n",
    "\n",
    "# Extract the gender labels\n",
    "gender_labels = dataframe_balanced['gender']\n",
    "\n",
    "# Split the data into training and testing sets\n",
    "X_train, X_test, Y_train, Y_test = train_test_split(data_keys, gender_labels, test_size=0.2, random_state=42)\n",
    "\n",
    "# Verify the number of samples in the training and testing sets\n",
    "print(\"Number of samples in training set:\", len(X_train))\n",
    "print(\"Number of samples in testing set:\", len(X_test))\n",
    "print(\"Number of male samples in training set:\", sum(Y_train))\n",
    "print(\"Number of female samples in training set:\", len(Y_train) - sum(Y_train))\n",
    "print(\"Number of male samples in testing set:\", sum(Y_test))\n",
    "print(\"Number of female samples in testing set:\", len(Y_test) - sum(Y_test))"
   ],
   "metadata": {
    "collapsed": false,
    "ExecuteTime": {
     "end_time": "2025-01-16T13:50:51.646811Z",
     "start_time": "2025-01-16T13:50:51.632331Z"
    }
   },
   "execution_count": 41
  },
  {
   "cell_type": "code",
   "outputs": [
    {
     "name": "stdout",
     "output_type": "stream",
     "text": [
      "\u001B[1m1/1\u001B[0m \u001B[32m━━━━━━━━━━━━━━━━━━━━\u001B[0m\u001B[37m\u001B[0m \u001B[1m0s\u001B[0m 28ms/step\n",
      "Accuracy: 0.50\n",
      "Number of male samples: 17\n",
      "Number of female samples: 15\n"
     ]
    },
    {
     "data": {
      "text/plain": "<Figure size 800x600 with 2 Axes>",
      "image/png": "[encoded data removed]"
     },
     "metadata": {},
     "output_type": "display_data"
    }
   ],
   "source": [
    "import seaborn as sns\n",
    "import matplotlib.pyplot as plt\n",
    "from sklearn.metrics import confusion_matrix, accuracy_score\n",
    "\n",
    "def plot_confusion_matrix(model, X_test, Y_test):\n",
    "    # Predict the gender on the test set\n",
    "    Y_pred = (model.predict(X_test) > 0.5).astype(\"int32\")\n",
    "    \n",
    "    # Compute the confusion matrix\n",
    "    cm = confusion_matrix(Y_test, Y_pred)\n",
    "    \n",
    "    # Calculate accuracy\n",
    "    accuracy = accuracy_score(Y_test, Y_pred)\n",
    "    \n",
    "    # Count the number of samples for each gender\n",
    "    male_count = (Y_test == 1).sum()\n",
    "    female_count = (Y_test == 0).sum()\n",
    "    \n",
    "    # Print accuracy and sample counts\n",
    "    print(f\"Accuracy: {accuracy:.2f}\")\n",
    "    print(f\"Number of male samples: {male_count}\")\n",
    "    print(f\"Number of female samples: {female_count}\")\n",
    "    \n",
    "    # Plot the confusion matrix\n",
    "    plt.figure(figsize=(8, 6))\n",
    "    sns.heatmap(cm, annot=True, fmt='d', cmap='Blues', xticklabels=['Female', 'Male'], yticklabels=['Female', 'Male'])\n",
    "    plt.xlabel('Predicted')\n",
    "    plt.ylabel('Actual')\n",
    "    plt.title('Confusion Matrix')\n",
    "    plt.show()\n",
    "\n",
    "# Usage\n",
    "plot_confusion_matrix(model, X_test_scaled, Y_test)"
   ],
   "metadata": {
    "collapsed": false,
    "ExecuteTime": {
     "end_time": "2025-01-16T13:50:51.881758Z",
     "start_time": "2025-01-16T13:50:51.647812Z"
    }
   },
   "execution_count": 42
  },
  {
   "cell_type": "code",
   "outputs": [
    {
     "name": "stdout",
     "output_type": "stream",
     "text": [
      "\u001B[1m1/1\u001B[0m \u001B[32m━━━━━━━━━━━━━━━━━━━━\u001B[0m\u001B[37m\u001B[0m \u001B[1m0s\u001B[0m 40ms/step\n",
      "Accuracy: 0.50\n",
      "Number of male samples: 17\n",
      "Number of female samples: 15\n",
      "\u001B[1m1/1\u001B[0m \u001B[32m━━━━━━━━━━━━━━━━━━━━\u001B[0m\u001B[37m\u001B[0m \u001B[1m0s\u001B[0m 46ms/step\n"
     ]
    }
   ],
   "source": [
    "import seaborn as sns\n",
    "import matplotlib.pyplot as plt\n",
    "from sklearn.metrics import confusion_matrix, accuracy_score\n",
    "from sklearn.inspection import permutation_importance\n",
    "import pandas as pd\n",
    "import numpy as np\n",
    "\n",
    "def custom_scorer(estimator, X, y):\n",
    "    y_pred = estimator.predict(X)\n",
    "    y_pred_classes = (y_pred > 0.5).astype(\"int32\").flatten()\n",
    "    return np.mean(y_pred_classes == y)\n",
    "\n",
    "def plot_confusion_matrix_and_feature_importance(model, X_test, Y_test, feature_names):\n",
    "    # Predict the gender on the test set\n",
    "    Y_pred = (model.predict(X_test) > 0.5).astype(\"int32\")\n",
    "\n",
    "    # Compute the confusion matrix\n",
    "    cm = confusion_matrix(Y_test, Y_pred)\n",
    "\n",
    "    # Calculate accuracy\n",
    "    accuracy = accuracy_score(Y_test, Y_pred)\n",
    "\n",
    "    # Count the number of samples for each gender\n",
    "    male_count = (Y_test == 1).sum()\n",
    "    female_count = (Y_test == 0).sum()\n",
    "\n",
    "    # Print accuracy and sample counts\n",
    "    print(f\"Accuracy: {accuracy:.2f}\")\n",
    "    print(f\"Number of male samples: {male_count}\")\n",
    "    print(f\"Number of female samples: {female_count}\")\n",
    "\n",
    "    # Plot and save the confusion matrix\n",
    "    plt.figure(figsize=(8, 6))\n",
    "    sns.heatmap(cm, annot=True, fmt='d', cmap='Blues', xticklabels=['Female', 'Male'], yticklabels=['Female', 'Male'])\n",
    "    plt.xlabel('Predicted')\n",
    "    plt.ylabel('Actual')\n",
    "    plt.title('Confusion Matrix')\n",
    "    plt.tight_layout()\n",
    "    plt.savefig('cm_ann_gender_balanced.pdf')\n",
    "    plt.close()\n",
    "\n",
    "    # Save the confusion matrix as a CSV file\n",
    "    cm_df = pd.DataFrame(cm, index=['Female', 'Male'], columns=['Female', 'Male'])\n",
    "    cm_df.to_csv('cm_ann_gender_balanced.csv')\n",
    "\n",
    "    # Compute feature importance using permutation importance\n",
    "    result = permutation_importance(model, X_test, Y_test, scoring=custom_scorer, n_repeats=10, random_state=42, n_jobs=2)\n",
    "    feature_importance = pd.Series(result.importances_mean, index=feature_names)\n",
    "    feature_importance.sort_values(ascending=False, inplace=True)\n",
    "\n",
    "    # Plot and save feature importance\n",
    "    plt.figure(figsize=(10, 6))\n",
    "    feature_importance.plot(kind='bar', color='skyblue')\n",
    "    plt.title('Feature Importance')\n",
    "    plt.xlabel('Features')\n",
    "    plt.ylabel('Importance')\n",
    "    plt.tight_layout()\n",
    "    plt.savefig('fip_ann_gender_balanced.pdf')\n",
    "    plt.close()\n",
    "\n",
    "    # Save feature importance as a CSV file\n",
    "    feature_importance.to_csv('fip_ann_gender_balanced.csv')\n",
    "\n",
    "# Usage\n",
    "plot_confusion_matrix_and_feature_importance(model, X_test_scaled, Y_test, key_features)"
   ],
   "metadata": {
    "collapsed": false,
    "ExecuteTime": {
     "end_time": "2025-01-16T13:59:36.522951Z",
     "start_time": "2025-01-16T13:59:07.582043Z"
    }
   },
   "execution_count": 44
  },
  {
   "cell_type": "code",
   "outputs": [],
   "source": [
    "# Handle missing values in the gender column\n",
    "if dataframe_balanced['gender'].isnull().any():\n",
    "    # Check if the mode calculation returns a valid result\n",
    "    gender_mode = dataframe_balanced['gender'].mode()\n",
    "    if not gender_mode.empty:\n",
    "        dataframe_balanced['gender'] = dataframe_balanced['gender'].fillna(gender_mode[0])\n",
    "    else:\n",
    "        raise ValueError(\"Cannot fill NaN values in the gender column as the mode calculation failed.\")\n",
    "\n",
    "# Extract the gender labels\n",
    "gender_labels = dataframe_balanced['gender']\n",
    "\n",
    "# Check for and handle any NaN values in gender_labels\n",
    "if gender_labels.isnull().any():\n",
    "    raise ValueError(\"Gender labels contain NaN values. Please clean the data.\")\n",
    "\n",
    "# Ensure the gender column is present\n",
    "if 'gender' not in dataframe_balanced.columns:\n",
    "    raise KeyError(\"Gender column is missing in dataframe_balanced\")\n",
    "\n",
    "# Verify the gender column is correctly encoded\n",
    "if not set(dataframe_balanced['gender'].unique()).issubset({0, 1}):\n",
    "    raise ValueError(\"Gender column contains invalid values. Expected binary encoding (0 or 1).\")"
   ],
   "metadata": {
    "collapsed": false,
    "ExecuteTime": {
     "end_time": "2025-01-16T13:50:53.833817Z",
     "start_time": "2025-01-16T13:50:53.833817Z"
    }
   },
   "execution_count": null
  },
  {
   "cell_type": "code",
   "outputs": [],
   "source": [
    "# plot loss\n",
    "\n",
    "import matplotlib.pyplot as plt\n",
    "\n",
    "# Extract loss data\n",
    "loss = history.history['loss']\n",
    "val_loss = history.history['val_loss']\n",
    "\n",
    "# Plot loss\n",
    "plt.figure(figsize=(10, 6))\n",
    "plt.plot(loss, label='Training Loss')\n",
    "plt.plot(val_loss, label='Validation Loss')\n",
    "plt.title('Model Loss')\n",
    "plt.xlabel('Epochs')\n",
    "plt.ylabel('Loss')\n",
    "plt.legend()\n",
    "plt.show()"
   ],
   "metadata": {
    "collapsed": false,
    "ExecuteTime": {
     "end_time": "2025-01-16T13:50:53.834818Z",
     "start_time": "2025-01-16T13:50:53.834818Z"
    }
   },
   "execution_count": null
  },
  {
   "cell_type": "code",
   "outputs": [],
   "source": [
    "import tensorflow as tf\n",
    "from tensorflow import keras\n",
    "from tensorflow.keras import layers\n",
    "from sklearn.model_selection import train_test_split\n",
    "from sklearn.preprocessing import MinMaxScaler\n",
    "from sklearn.metrics import confusion_matrix, ConfusionMatrixDisplay\n",
    "from sklearn.inspection import permutation_importance\n",
    "import pandas as pd\n",
    "import numpy as np\n",
    "import matplotlib.pyplot as plt\n",
    "import seaborn as sns\n",
    "\n",
    "# Copy the DataFrame\n",
    "df_fixed_all_one_hot = df_fixed_all.copy()\n",
    "\n",
    "# Check if 'emotionIndex' exists in df_fixed_all\n",
    "if 'emotionIndex' not in df_fixed_all_one_hot.columns:\n",
    "    raise KeyError(\"'emotionIndex' column is missing from df_fixed_all\")\n",
    "\n",
    "# Define the emotion mapping with shorter labels\n",
    "emotion_mapping = {\n",
    "    'N': 'N',\n",
    "    'H': 'H',\n",
    "    'C': 'C',\n",
    "    'S': 'S',\n",
    "    'A': 'A'\n",
    "}\n",
    "\n",
    "# Map the emotionIndex to new column names\n",
    "df_fixed_all_one_hot['emotion'] = df_fixed_all_one_hot['emotionIndex'].map(emotion_mapping)\n",
    "\n",
    "# One-hot encode the emotions\n",
    "emotion_one_hot = pd.get_dummies(df_fixed_all_one_hot['emotion'])\n",
    "\n",
    "# Drop the original emotionIndex and emotion columns\n",
    "df_fixed_all_one_hot = df_fixed_all_one_hot.drop(['emotionIndex', 'emotion'], axis=1)\n",
    "\n",
    "# Concatenate the one-hot encoded columns to the original DataFrame\n",
    "df_fixed_all_one_hot = pd.concat([df_fixed_all_one_hot, emotion_one_hot], axis=1)\n",
    "\n",
    "# Display the first few rows to verify\n",
    "print(df_fixed_all_one_hot.head())\n",
    "\n",
    "label_fixed_one_hot = pd.get_dummies(df_fixed_all_one_hot[emotion_mapping.values()])\n",
    "\n",
    "# Define the number of input features\n",
    "key_features = ['D1D2_mean', 'D1D2_std', 'D1U1_mean', 'D1U1_std', 'D1U2_mean', 'D1U2_std', 'TotTime', 'U1D2_mean', 'U1D2_std', 'U1U2_mean', 'U1U2_std']\n",
    "input_shape = (len(key_features),)\n",
    "\n",
    "# Define the number of output classes (emotions)\n",
    "num_classes = label_fixed_one_hot.shape[1]\n",
    "\n",
    "# Define the model\n",
    "model = keras.models.Sequential()\n",
    "model.add(layers.Input(shape=input_shape))\n",
    "model.add(layers.Dense(int(input_shape[0] * 1.5), activation=\"relu\"))\n",
    "model.add(layers.Dense(int(input_shape[0] * 0.8), activation=\"relu\"))\n",
    "model.add(layers.Dense(int(input_shape[0] * 0.5), activation=\"relu\"))\n",
    "model.add(layers.Dense(num_classes, activation=\"softmax\"))  # Use softmax for multi-class classification\n",
    "\n",
    "# Print the model summary\n",
    "print(model.summary())\n",
    "\n",
    "# Compile the model\n",
    "model.compile(optimizer=keras.optimizers.SGD(0.01), loss=\"categorical_crossentropy\", metrics=[\"accuracy\"])\n",
    "\n",
    "# Filter the DataFrame to include only the specified key features\n",
    "# Check if key_features exist in data_fixed_filter\n",
    "print(\"Columns in data_fixed_filter:\", data_fixed_filter.columns.tolist())\n",
    "\n",
    "# Ensure key_features are present in data_fixed_filter\n",
    "missing_features = [feat for feat in key_features if feat not in data_fixed_filter.columns]\n",
    "if missing_features:\n",
    "    raise KeyError(f\"Missing features in data_fixed_filter: {missing_features}\")\n",
    "\n",
    "data_keys = data_fixed_filter[key_features]\n",
    "\n",
    "# Split the data\n",
    "X_train, X_test, Y_train, Y_test = train_test_split(data_keys, label_fixed_one_hot, test_size=0.2)\n",
    "\n",
    "# Scale the data\n",
    "scaler = MinMaxScaler()\n",
    "X_train_scaled = scaler.fit_transform(X_train)\n",
    "X_test_scaled = scaler.transform(X_test)\n",
    "\n",
    "# Train the model\n",
    "history = model.fit(X_train_scaled, Y_train, batch_size=32, epochs=100, validation_data=(X_test_scaled, Y_test))\n",
    "\n",
    "# Check if the training history is available\n",
    "print(history.history)\n",
    "\n",
    "# Predict the test set\n",
    "Y_pred = model.predict(X_test_scaled)\n",
    "Y_pred_classes = np.argmax(Y_pred, axis=1)\n",
    "Y_test_classes = np.argmax(Y_test.to_numpy(), axis=1)\n",
    "\n",
    "# Confusion Matrix\n",
    "cm = confusion_matrix(Y_test_classes, Y_pred_classes)\n",
    "disp = ConfusionMatrixDisplay(confusion_matrix=cm, display_labels=emotion_mapping.values())\n",
    "disp.plot(cmap=plt.cm.Blues)\n",
    "plt.title('Confusion Matrix')\n",
    "plt.tight_layout()\n",
    "plt.savefig('cf_fixed_ann_unbalanced.pdf')\n",
    "plt.close()\n",
    "\n",
    "# Custom scoring function\n",
    "def custom_scorer(estimator, X, y):\n",
    "    y_pred = estimator.predict(X)\n",
    "    y_pred_classes = np.argmax(y_pred, axis=1)\n",
    "    return np.mean(y_pred_classes == y)\n",
    "\n",
    "# Feature Importance\n",
    "result = permutation_importance(model, X_test_scaled, Y_test_classes, scoring=custom_scorer, n_repeats=10, random_state=42, n_jobs=2)\n",
    "feature_importance = pd.Series(result.importances_mean, index=key_features)\n",
    "feature_importance.sort_values(ascending=False, inplace=True)\n",
    "\n",
    "# Plot and save feature importance\n",
    "plt.figure(figsize=(10, 6))\n",
    "feature_importance.plot(kind='bar', color='skyblue')\n",
    "plt.title('Feature Importance')\n",
    "plt.xlabel('Features')\n",
    "plt.ylabel('Importance')\n",
    "plt.tight_layout()\n",
    "plt.savefig('fip_fixed_ann_unbalanced.pdf')\n",
    "plt.close()\n",
    "\n",
    "# Evaluate the model on the test data\n",
    "test_loss, test_accuracy = model.evaluate(X_test_scaled, Y_test)\n",
    "print(f\"Test Loss: {test_loss}, Test Accuracy: {test_accuracy}\")"
   ],
   "metadata": {
    "collapsed": false
   },
   "execution_count": null
  },
  {
   "cell_type": "code",
   "outputs": [],
   "source": [
    "# plot loss\n",
    "\n",
    "import matplotlib.pyplot as plt\n",
    "\n",
    "# Extract loss data\n",
    "loss = history.history['loss']\n",
    "val_loss = history.history['val_loss']\n",
    "\n",
    "# Plot loss\n",
    "plt.figure(figsize=(10, 6))\n",
    "plt.plot(loss, label='Training Loss')\n",
    "plt.plot(val_loss, label='Validation Loss')\n",
    "plt.title('Model Loss')\n",
    "plt.xlabel('Epochs')\n",
    "plt.ylabel('Loss')\n",
    "plt.legend()\n",
    "plt.show()"
   ],
   "metadata": {
    "collapsed": false
   },
   "execution_count": null
  },
  {
   "cell_type": "code",
   "outputs": [],
   "source": [
    "import numpy as np\n",
    "import seaborn as sn\n",
    "import matplotlib.pyplot as plt\n",
    "from sklearn.metrics import confusion_matrix\n",
    "\n",
    "# Predict the classes for the test set\n",
    "Y_pred = model.predict(X_test_scaled)\n",
    "Y_pred_classes = np.argmax(Y_pred, axis=1)  # Convert probabilities to class labels\n",
    "\n",
    "# Ensure Y_test is a 1D array\n",
    "if Y_test.ndim == 2:\n",
    "    Y_test_classes = np.argmax(Y_test.to_numpy(), axis=1)  # Convert one-hot encoded DataFrame to class labels\n",
    "else:\n",
    "    Y_test_classes = Y_test.to_numpy()\n",
    "\n",
    "# Generate the confusion matrix\n",
    "conf_matrix = confusion_matrix(Y_test_classes, Y_pred_classes)\n",
    "\n",
    "# Define the emotion mapping\n",
    "emotion_mapping = {\n",
    "    'N': 'emotionNeutral',\n",
    "    'H': 'emotionHappy',\n",
    "    'C': 'emotionCalm',\n",
    "    'S': 'emotionSad',\n",
    "    'A': 'emotionAngry'\n",
    "}\n",
    "\n",
    "# Plot the confusion matrix\n",
    "plt.figure(figsize=(10, 8))\n",
    "sn.heatmap(conf_matrix, annot=True, fmt='d', cmap='Blues', xticklabels=emotion_mapping.values(), yticklabels=emotion_mapping.values())\n",
    "plt.xlabel('Predicted')\n",
    "plt.ylabel('True')\n",
    "plt.title('Confusion Matrix')\n",
    "plt.show()"
   ],
   "metadata": {
    "collapsed": false
   },
   "execution_count": null
  },
  {
   "cell_type": "code",
   "outputs": [],
   "source": [
    "# Print class distribution in the training set\n",
    "print(\"Class distribution in Y_train:\")\n",
    "print(Y_train.sum(axis=0))\n",
    "\n",
    "# Print class distribution in the test set\n",
    "print(\"Class distribution in Y_test:\")\n",
    "print(Y_test.sum(axis=0))\n",
    "\n",
    "# Print a sample of model predictions\n",
    "Y_pred = model.predict(X_test_scaled)\n",
    "Y_pred_classes = np.argmax(Y_pred, axis=1)\n",
    "print(\"Sample predictions:\", Y_pred_classes[:20])\n",
    "\n",
    "# Ensure Y_test is a 1D array\n",
    "Y_test_classes = np.argmax(Y_test.to_numpy(), axis=1)\n",
    "\n",
    "# Generate the confusion matrix\n",
    "conf_matrix = confusion_matrix(Y_test_classes, Y_pred_classes)\n",
    "\n",
    "# Plot the confusion matrix\n",
    "plt.figure(figsize=(10, 8))\n",
    "sn.heatmap(conf_matrix, annot=True, fmt='d', cmap='Blues', xticklabels=emotion_mapping.values(), yticklabels=emotion_mapping.values())\n",
    "plt.xlabel('Predicted')\n",
    "plt.ylabel('True')\n",
    "plt.title('Confusion Matrix')\n",
    "plt.show()"
   ],
   "metadata": {
    "collapsed": false,
    "ExecuteTime": {
     "start_time": "2025-01-16T13:50:53.839820Z"
    }
   },
   "execution_count": null
  },
  {
   "cell_type": "code",
   "outputs": [],
   "source": [
    "import pandas as pd\n",
    "\n",
    "# Define the emotion mapping\n",
    "emotion_mapping = {\n",
    "    'N': 'emotionNeutral',\n",
    "    'H': 'emotionHappy',\n",
    "    'C': 'emotionCalm',\n",
    "    'S': 'emotionSad',\n",
    "    'A': 'emotionAngry'\n",
    "}\n",
    "\n",
    "# Sample DataFrame\n",
    "# df_fixed_all = pd.DataFrame({\n",
    "#     'emotionIndex': ['N', 'H', 'C', 'S', 'A', 'N', 'H', 'C', 'S', 'A', 'N', 'H', 'C', 'S', 'A']\n",
    "# })\n",
    "\n",
    "# Count the occurrences of each emotion\n",
    "emotion_counts = df_fixed_all['emotionIndex'].value_counts()\n",
    "\n",
    "# Map the counts to emotion names\n",
    "emotion_counts_named = emotion_counts.rename(index=emotion_mapping)\n",
    "\n",
    "# Print the counts\n",
    "print(emotion_counts_named)"
   ],
   "metadata": {
    "collapsed": false,
    "ExecuteTime": {
     "start_time": "2025-01-16T13:50:53.840818Z"
    }
   },
   "execution_count": null
  },
  {
   "cell_type": "code",
   "outputs": [],
   "source": [
    "import tensorflow as tf\n",
    "from tensorflow import keras\n",
    "from tensorflow.keras import layers\n",
    "from sklearn.model_selection import train_test_split\n",
    "from sklearn.preprocessing import MinMaxScaler\n",
    "import pandas as pd\n",
    "\n",
    "# Convert labels to one-hot encoding\n",
    "emotion_mapping = {\n",
    "    'N': 'emotionNeutral',\n",
    "    'H': 'emotionHappy',\n",
    "    'C': 'emotionCalm',\n",
    "    'S': 'emotionSad',\n",
    "    'A': 'emotionAngry'\n",
    "}\n",
    "\n",
    "\n",
    "label_fixed_one_hot = pd.get_dummies(df_fixed_all.emotionIndex.map(emotion_mapping))\n",
    "\n",
    "# Define the number of input features\n",
    "input_shape = (len(key_features),)\n",
    "\n",
    "# Define the number of output classes (emotions)\n",
    "num_classes = label_fixed_one_hot.shape[1]\n",
    "\n",
    "# Define the model\n",
    "model = keras.models.Sequential()\n",
    "model.add(layers.Input(shape=input_shape))\n",
    "model.add(layers.Dense(int(input_shape[0] * 0.8), activation=\"relu\"))\n",
    "model.add(layers.Dense(int(input_shape[0] * 0.6), activation=\"relu\"))\n",
    "model.add(layers.Dense(int(input_shape[0] * 0.1), activation=\"relu\"))\n",
    "model.add(layers.Dense(num_classes, activation=\"softmax\"))  # Use softmax for multi-class classification\n",
    "\n",
    "# Print the model summary\n",
    "print(model.summary())\n",
    "\n",
    "# Compile the model\n",
    "model.compile(optimizer=keras.optimizers.SGD(0.01), loss=\"categorical_crossentropy\", metrics=[\"accuracy\"])\n",
    "\n",
    "# Filter the DataFrame to include only the specified key features\n",
    "data_keys = data_fixed_filter[key_features]\n",
    "\n",
    "# Split the data\n",
    "X_train, X_test, Y_train, Y_test = train_test_split(data_keys, label_fixed_one_hot, test_size=0.2)\n",
    "\n",
    "# Scale the data\n",
    "scaler = MinMaxScaler()\n",
    "X_train_scaled = scaler.fit_transform(X_train)\n",
    "X_test_scaled = scaler.transform(X_test)\n",
    "\n",
    "# Train the model\n",
    "history = model.fit(X_train_scaled, Y_train, batch_size=32, epochs=100, validation_data=(X_test_scaled, Y_test))"
   ],
   "metadata": {
    "collapsed": false,
    "ExecuteTime": {
     "start_time": "2025-01-16T13:50:53.841818Z"
    }
   },
   "execution_count": null
  },
  {
   "cell_type": "code",
   "outputs": [],
   "source": [
    "# emotion count \n",
    "\n",
    "import pandas as pd\n",
    "\n",
    "# Define the emotion mapping\n",
    "emotion_mapping = {\n",
    "    'N': 'emotionNeutral',\n",
    "    'H': 'emotionHappy',\n",
    "    'C': 'emotionCalm',\n",
    "    'S': 'emotionSad',\n",
    "    'A': 'emotionAngry'\n",
    "}\n",
    "\n",
    "# Sample DataFrame\n",
    "# df_fixed_all = pd.DataFrame({\n",
    "#     'emotionIndex': ['N', 'H', 'C', 'S', 'A', 'N', 'H', 'C', 'S', 'A', 'N', 'H', 'C', 'S', 'A']\n",
    "# })\n",
    "\n",
    "# Count the occurrences of each emotion\n",
    "emotion_counts = df_fixed_all['emotionIndex'].value_counts()\n",
    "\n",
    "# Map the counts to emotion names\n",
    "emotion_counts_named = emotion_counts.rename(index=emotion_mapping)\n",
    "\n",
    "# Print the counts\n",
    "print(emotion_counts_named)"
   ],
   "metadata": {
    "collapsed": false,
    "ExecuteTime": {
     "start_time": "2025-01-16T13:50:53.842818Z"
    }
   },
   "execution_count": null
  },
  {
   "cell_type": "code",
   "outputs": [],
   "source": [
    "# Map emotions to new column names\n",
    "emotion_mapping = {\n",
    "    'N': 'emotionNeutral',\n",
    "    'H': 'emotionHappy',\n",
    "    'C': 'emotionCalm',\n",
    "    'S': 'emotionSad',\n",
    "    'A': 'emotionAngry'\n",
    "}\n",
    "\n",
    "# Convert emotionIndex to one-hot encoding with specified column names\n",
    "label_fixed_one_hot = pd.get_dummies(df_fixed_all.emotionIndex.map(emotion_mapping))\n",
    "\n",
    "# Display the first few rows to verify\n",
    "print(label_fixed_one_hot.head())"
   ],
   "metadata": {
    "collapsed": false
   },
   "execution_count": null
  },
  {
   "cell_type": "markdown",
   "metadata": {},
   "source": [
    "### Binary classification"
   ]
  },
  {
   "cell_type": "code",
   "execution_count": null,
   "metadata": {},
   "outputs": [],
   "source": [
    "## binary classification with XGBoost\n",
    "for emotion_index in range(5):\n",
    "    f1_micro = np.array([])\n",
    "    f1_macro = np.array([])\n",
    "    recall = np.array([])\n",
    "\n",
    "    print(\"Class \" + label_dictionary[emotion_index + 1] + \":\")\n",
    "    label_fixed_binary = (label_fixed == emotion_index).astype(int)\n",
    "\n",
    "    for i in range(10):\n",
    "        model = xgb.XGBClassifier(objective='binary:logistic', eval_metric='mlogloss', use_label_encoder=False)\n",
    "        scores = model_selection.cross_validate(model, X=data_fixed_filter, y=label_fixed_binary, cv=10, n_jobs=1,\n",
    "                                                scoring=['f1_micro', 'f1_macro', 'recall'])\n",
    "\n",
    "        f1_micro = np.concatenate([f1_micro, scores['test_f1_micro']])\n",
    "        f1_macro = np.concatenate([f1_macro, scores['test_f1_macro']])\n",
    "        recall = np.concatenate([recall, scores['test_recall']])\n",
    "\n",
    "    print(np.round(np.nanmean(f1_micro), 3), np.round(np.nanstd(f1_micro), 3))\n",
    "    print(np.round(np.nanmean(f1_macro), 3), np.round(np.nanstd(f1_macro), 3))\n",
    "    print(np.round(np.nanmean(recall), 3), np.round(np.nanstd(recall), 3))\n",
    "\n",
    "    print()\n",
    "    print()"
   ]
  },
  {
   "cell_type": "code",
   "execution_count": null,
   "metadata": {
    "ExecuteTime": {
     "start_time": "2025-01-16T13:50:53.846820Z"
    }
   },
   "outputs": [],
   "source": [
    "## binary classification with Random Forest\n",
    "for emotion_index in range(5):\n",
    "    f1_micro = np.array([])\n",
    "    f1_macro = np.array([])\n",
    "    recall = np.array([])\n",
    "\n",
    "    print(\"Class \" + label_dictionary[emotion_index + 1] + \":\")\n",
    "    label_fixed_binary = (label_fixed == emotion_index).astype(int)\n",
    "\n",
    "    for i in range(10):\n",
    "        model = RandomForestClassifier(n_estimators=200, max_depth=5, class_weight={0: 0.1, 1: 1})\n",
    "        scores = model_selection.cross_validate(model, X=data_fixed_filter, y=label_fixed_binary, cv=10, n_jobs=1,\n",
    "                                                scoring=['f1_micro', 'f1_macro', 'recall'])\n",
    "\n",
    "        f1_micro = np.concatenate([f1_micro, scores['test_f1_micro']])\n",
    "        f1_macro = np.concatenate([f1_macro, scores['test_f1_macro']])\n",
    "        recall = np.concatenate([recall, scores['test_recall']])\n",
    "\n",
    "    print(np.round(np.nanmean(f1_micro), 3), np.round(np.nanstd(f1_micro), 3))\n",
    "    print(np.round(np.nanmean(f1_macro), 3), np.round(np.nanstd(f1_macro), 3))\n",
    "    print(np.round(np.nanmean(recall), 3), np.round(np.nanstd(recall), 3))\n",
    "\n",
    "    print()\n",
    "    print()"
   ]
  },
  {
   "cell_type": "code",
   "execution_count": null,
   "metadata": {
    "ExecuteTime": {
     "start_time": "2025-01-16T13:50:53.847820Z"
    }
   },
   "outputs": [],
   "source": [
    "## binary classification with SVM\n",
    "for emotion_index in range(5):\n",
    "    f1_micro = np.array([])\n",
    "    f1_macro = np.array([])\n",
    "    recall = np.array([])\n",
    "\n",
    "    print(\"Class \" + label_dictionary[emotion_index + 1] + \":\")\n",
    "    label_fixed_binary = (label_fixed == emotion_index).astype(int)\n",
    "\n",
    "    for i in range(10):\n",
    "        model = SVC(kernel='rbf', decision_function_shape='ovr', probability=True)\n",
    "        scores = model_selection.cross_validate(model, X=data_fixed_filter, y=label_fixed_binary, cv=10, n_jobs=1,\n",
    "                                                scoring=['f1_micro', 'f1_macro', 'recall'])\n",
    "\n",
    "        f1_micro = np.concatenate([f1_micro, scores['test_f1_micro']])\n",
    "        f1_macro = np.concatenate([f1_macro, scores['test_f1_macro']])\n",
    "        recall = np.concatenate([recall, scores['test_recall']])\n",
    "\n",
    "    print(np.round(np.nanmean(f1_micro), 3), np.round(np.nanstd(f1_micro), 3))\n",
    "    print(np.round(np.nanmean(f1_macro), 3), np.round(np.nanstd(f1_macro), 3))\n",
    "    print(np.round(np.nanmean(recall), 3), np.round(np.nanstd(recall), 3))\n",
    "\n",
    "    print()\n",
    "    print()"
   ]
  },
  {
   "cell_type": "markdown",
   "source": [
    "### Predicting values that have been created externally (not part of emotion prediction project)"
   ],
   "metadata": {
    "collapsed": false
   }
  },
  {
   "cell_type": "code",
   "outputs": [],
   "source": [
    "# import pandas as pd\n",
    "# from sklearn.preprocessing import MinMaxScaler\n",
    "# import pickle\n",
    "# \n",
    "# # Load the CSV file\n",
    "# df = pd.read_csv('data/fixed_dummy_dataset.csv')\n",
    "# \n",
    "# # Check if 'emotionIndex' exists in the DataFrame\n",
    "# if 'emotionIndex' not in df.columns:\n",
    "#     raise KeyError(\"'emotionIndex' column is missing from the DataFrame\")\n",
    "# \n",
    "# # Select a single row (for example, the first row for simplicity)\n",
    "# sample_row = df.iloc[0:1]\n",
    "# \n",
    "# # Preprocess the sample_row\n",
    "# # Convert categorical features into numerical features\n",
    "# sample_row.loc[:, 'gender'] = (sample_row['gender'] == 'Male').astype(int)\n",
    "# sample_row.loc[:, 'ageRange'] = sample_row['ageRange'].map({'16-19': 1, '20-29': 2, '30-39': 3, '>=50': 4})\n",
    "# sample_row.loc[:, 'degree'] = sample_row['degree'].map({'High School': 1, 'College/University': 2})\n",
    "# sample_row.loc[:, 'pcTimeAverage'] = sample_row['pcTimeAverage'].map({'less than an hour per day': 1, 'between 1 hour and 3 hours per day': 2, 'More than 3 hours per day': 3})\n",
    "# sample_row.loc[:, 'status'] = sample_row['status'].map({'Student': 1, 'Professional': 2})\n",
    "# sample_row.loc[:, 'typeWith'] = sample_row['typeWith'].map({'1 hand': 1, '2 hands': 2})\n",
    "# \n",
    "# # Check if 'country' and 'typistType' columns exist before creating dummies\n",
    "# if 'country' in sample_row.columns and 'typistType' in sample_row.columns:\n",
    "#     sample_row = pd.get_dummies(sample_row, columns=['country', 'typistType'])\n",
    "# else:\n",
    "#     print(\"Columns 'country' and/or 'typistType' do not exist in the DataFrame.\")\n",
    "# \n",
    "# print(\"now df: \", sample_row)\n",
    "# \n",
    "# # Assuming 'emotionIndex' is the label column in your CSV\n",
    "# if 'emotionIndex' not in sample_row.columns:\n",
    "#     raise KeyError(\"'emotionIndex' column is missing from the sample_row DataFrame\")\n",
    "# \n",
    "# actual_emotion = sample_row['emotionIndex'].values[0]  # Save the actual emotion for comparison\n",
    "# sample_row = sample_row.drop('emotionIndex', axis=1)  # Drop the label column for prediction\n",
    "# \n",
    "# print(\"after dropping emotion:\", sample_row)\n",
    "# \n",
    "# # Scale the data\n",
    "# scaler = MinMaxScaler()\n",
    "# sample_row_scaled = scaler.fit_transform(sample_row)\n",
    "# \n",
    "# # Load your model\n",
    "# with open('model.pkl', 'rb') as file:\n",
    "#     model = pickle.load(file)\n",
    "# \n",
    "# # Predict the emotion\n",
    "# predicted_emotion = model.predict(sample_row_scaled)\n",
    "# \n",
    "# # Print out the predicted and actual emotion for comparison\n",
    "# print(f\"Predicted Emotion: {predicted_emotion}\")\n",
    "# print(f\"Actual Emotion: {actual_emotion}\")"
   ],
   "metadata": {
    "collapsed": false,
    "ExecuteTime": {
     "start_time": "2025-01-16T13:50:53.848819Z"
    }
   },
   "execution_count": null
  },
  {
   "cell_type": "code",
   "outputs": [],
   "source": [
    "# note to self: you first have to conduct a cell running the iterate all method, to save model correctly\n",
    "# Predict the emotion from a CSV file\n",
    "for model in model_names:\n",
    "    predictions = predict_emotion('data/fixed_dummy_dataset.csv', f'{model}.pkl')\n",
    "    print(predictions)"
   ],
   "metadata": {
    "collapsed": false,
    "ExecuteTime": {
     "start_time": "2025-01-16T13:50:53.849818Z"
    }
   },
   "execution_count": null
  },
  {
   "cell_type": "code",
   "outputs": [],
   "source": [
    "#predict real csv\n",
    "# Save the first 5 rows of the dataframe `data_fixed` to a CSV file\n",
    "data_fixed.head(5).to_csv('data/data_fixed_first_5_rows.csv', index=False)"
   ],
   "metadata": {
    "collapsed": false,
    "ExecuteTime": {
     "start_time": "2025-01-16T13:50:53.850820Z"
    }
   },
   "execution_count": null
  },
  {
   "cell_type": "code",
   "outputs": [],
   "source": [
    "for model in model_names:\n",
    "    predictions = predict_emotion('data/data_fixed_first_5_rows.csv', f'{model}.pkl')\n",
    "    print(predictions)"
   ],
   "metadata": {
    "collapsed": false,
    "ExecuteTime": {
     "start_time": "2025-01-16T13:50:53.851819Z"
    }
   },
   "execution_count": null
  },
  {
   "cell_type": "markdown",
   "metadata": {},
   "source": [
    "## Feature importance"
   ]
  },
  {
   "cell_type": "code",
   "execution_count": null,
   "metadata": {
    "ExecuteTime": {
     "start_time": "2025-01-16T13:50:53.853820Z"
    }
   },
   "outputs": [],
   "source": [
    "# data standardization\n",
    "scaler = MinMaxScaler()\n",
    "data_fixed = pd.DataFrame(scaler.fit_transform(data_fixed), columns=data_fixed.columns)"
   ]
  },
  {
   "cell_type": "markdown",
   "metadata": {},
   "source": [
    "#### Chi-squared"
   ]
  },
  {
   "cell_type": "code",
   "execution_count": null,
   "metadata": {},
   "outputs": [],
   "source": [
    "from sklearn.feature_selection import chi2\n",
    "from sklearn.feature_selection import SelectKBest\n",
    "\n",
    "demo_features = np.array(\n",
    "    ['typeWith', 'gender', 'ageRange', 'degree', 'pcTimeAverage', 'status', 'country', 'typistType'])\n",
    "\n",
    "# Feature extraction\n",
    "test = SelectKBest(score_func=chi2, k=8)\n",
    "fit = test.fit(data_fixed.loc[:, demo_features].fillna(100).replace(-1, 16),\n",
    "               pd.cut(data_fixed.D1U2_mean.fillna(0), bins=[0, 372, 445, 573, 4306], labels=[1, 2, 3, 4]).fillna(1))\n",
    "\n",
    "# Summarize scores\n",
    "np.set_printoptions(precision=3)\n",
    "print(\"Ordered features by importance with their corresponding chi2 score\")\n",
    "print(demo_features[np.argsort(fit.scores_)][::-1])\n",
    "print(fit.scores_[np.argsort(fit.scores_)][::-1])"
   ]
  },
  {
   "cell_type": "markdown",
   "metadata": {},
   "source": [
    "#### Correlation coefficients"
   ]
  },
  {
   "cell_type": "code",
   "execution_count": null,
   "metadata": {
    "ExecuteTime": {
     "start_time": "2025-01-16T13:50:53.856821Z"
    }
   },
   "outputs": [],
   "source": [
    "importances = data_fixed.apply(lambda x: x.corr(data_fixed.D1U2_mean))\n",
    "indices = np.argsort(importances)\n",
    "indices_abs = np.argsort(np.abs(importances))[::-1]\n",
    "print(importances[indices_abs])"
   ]
  },
  {
   "cell_type": "code",
   "execution_count": null,
   "metadata": {
    "ExecuteTime": {
     "start_time": "2025-01-16T13:50:53.857820Z"
    }
   },
   "outputs": [],
   "source": [
    "plt.figure(figsize=(10, 10))\n",
    "plt.barh(range(len(indices)), importances[indices], color='g', align='center')\n",
    "plt.yticks(range(len(indices)), importances[indices].index.values)\n",
    "plt.xlabel('Relative Importance')\n",
    "plt.show()"
   ]
  },
  {
   "cell_type": "markdown",
   "metadata": {},
   "source": [
    "#### Information Gain"
   ]
  },
  {
   "cell_type": "code",
   "execution_count": null,
   "metadata": {},
   "outputs": [],
   "source": [
    "from info_gain import info_gain\n",
    "\n",
    "importances_ig = []\n",
    "for col in data_fixed.columns:\n",
    "    importances_ig.append(info_gain.info_gain(data_fixed[col], data_fixed.D1U2_mean))\n",
    "indices_ig = np.argsort(importances_ig)[::-1]\n",
    "pd.concat([pd.Series(data_fixed.columns[indices_ig]), pd.Series(np.sort(importances_ig)[::-1])], axis=1).set_index(0)"
   ]
  },
  {
   "cell_type": "markdown",
   "metadata": {},
   "source": [
    "#### Mutual information"
   ]
  },
  {
   "cell_type": "code",
   "execution_count": null,
   "metadata": {
    "ExecuteTime": {
     "start_time": "2025-01-16T13:50:53.860818Z"
    }
   },
   "outputs": [],
   "source": [
    "from sklearn.feature_selection import mutual_info_regression\n",
    "\n",
    "mi = mutual_info_regression(data_fixed, data_fixed.D1U2_mean)\n",
    "mi = pd.Series(mi)\n",
    "mi.index = data_fixed.columns\n",
    "mi.sort_values(ascending=False)\n",
    "mi.sort_values(ascending=False).plot.bar(figsize=(10, 4))"
   ]
  },
  {
   "cell_type": "markdown",
   "metadata": {},
   "source": [
    "#### Recursive Feature Elimination (RFE)"
   ]
  },
  {
   "cell_type": "code",
   "execution_count": null,
   "metadata": {
    "ExecuteTime": {
     "start_time": "2025-01-16T13:50:53.861818Z"
    }
   },
   "outputs": [],
   "source": [
    "from sklearn.feature_selection import RFE\n",
    "from sklearn.linear_model import LogisticRegression\n",
    "\n",
    "model = LogisticRegression(max_iter=1000)\n",
    "rfe = RFE(model, 1)\n",
    "fit = rfe.fit(data_fixed, label_fixed)\n",
    "\n",
    "print(\"Feature Ranking: %s\" % fit.ranking_)"
   ]
  },
  {
   "cell_type": "code",
   "execution_count": null,
   "metadata": {},
   "outputs": [],
   "source": [
    "list(data_fixed.columns[fit.ranking_ - 1])"
   ]
  },
  {
   "cell_type": "markdown",
   "metadata": {},
   "source": [
    "#### SHAP values"
   ]
  },
  {
   "cell_type": "code",
   "execution_count": null,
   "metadata": {
    "ExecuteTime": {
     "start_time": "2025-01-16T13:50:53.863818Z"
    }
   },
   "outputs": [],
   "source": [
    "# DF, based on which importance is checked\n",
    "X_importance = pd.DataFrame(data_fixed, columns=data_fixed.columns)\n",
    "\n",
    "# Explain model predictions using shap library:\n",
    "explainer = shap.TreeExplainer(model)\n",
    "shap_values = explainer.shap_values(X_importance)\n",
    "\n",
    "# Plot summary_plot\n",
    "shap.summary_plot(shap_values, X_importance, max_display=len(data_fixed.columns))"
   ]
  },
  {
   "cell_type": "markdown",
   "metadata": {},
   "source": [
    "#### RF feature importance"
   ]
  },
  {
   "cell_type": "code",
   "outputs": [],
   "source": [
    "# fixing RF feature importance\n",
    "\n",
    "import matplotlib.pyplot as plt\n",
    "import numpy as np\n",
    "\n",
    "def plot_feature_importance(model, feature_names):\n",
    "    \"\"\"\n",
    "    Plots the feature importance of a trained Random Forest model.\n",
    "    \n",
    "    Parameters:\n",
    "    - model: The trained Random Forest model.\n",
    "    - feature_names: A list of names corresponding to the features used by the model.\n",
    "    \"\"\"\n",
    "    # Get the feature importances from the model\n",
    "    importances = model.feature_importances_\n",
    "    \n",
    "    # Sort the feature importances in descending order\n",
    "    indices = np.argsort(importances)[::-1]\n",
    "    \n",
    "    # Rearrange the feature names so they match the sorted feature importances\n",
    "    names = [feature_names[i] for i in indices]\n",
    "    \n",
    "    # Create a bar chart\n",
    "    plt.figure(figsize=(10, 8))\n",
    "    plt.title(\"Feature Importance\")\n",
    "    plt.barh(range(len(indices)), importances[indices], align='center')\n",
    "    plt.yticks(range(len(indices)), names)\n",
    "    plt.xlabel('Relative Importance')\n",
    "    plt.gca().invert_yaxis()  # Invert y-axis to have the most important feature on top\n",
    "    plt.show()\n",
    "\n",
    "\n",
    "with open('RF.pkl', 'rb') as file:\n",
    "    model = pickle.load(file)\n",
    "\n",
    "plot_feature_importance(model, data_fixed.columns.tolist())"
   ],
   "metadata": {
    "collapsed": false
   },
   "execution_count": null
  },
  {
   "cell_type": "code",
   "execution_count": null,
   "metadata": {
    "ExecuteTime": {
     "start_time": "2025-01-16T13:50:53.866822Z"
    }
   },
   "outputs": [],
   "source": [
    "best_model = 'RF'\n",
    "X_train, X_test, Y_train, Y_test = train_test_split(data_fixed, label_fixed, test_size=0.2)\n",
    "\n",
    "scaler = MinMaxScaler()\n",
    "X_train = scaler.fit_transform(X_train)\n",
    "X_test = scaler.transform(X_test)\n",
    "\n",
    "model = classifiers[classifiers_name.index(best_model)]\n",
    "model.fit(X_train, Y_train)\n",
    "\n",
    "performance_metrics = compute_metrics(model, X_test, Y_test, show=True)\n",
    "plot_confusion_matrix(performance_metrics[\"Confusion Matrix\"])"
   ]
  },
  {
   "cell_type": "code",
   "execution_count": null,
   "metadata": {
    "ExecuteTime": {
     "start_time": "2025-01-16T13:50:53.867817Z"
    }
   },
   "outputs": [],
   "source": [
    "plt.figure(figsize=(10, 10))\n",
    "pd.Series(model.feature_importances_, index=data_fixed.columns).nlargest(data_fixed.shape[1])[::-1].plot(kind='barh')\n",
    "plt.show()"
   ]
  },
  {
   "cell_type": "markdown",
   "metadata": {},
   "source": [
    "#### XGB feature importance"
   ]
  },
  {
   "cell_type": "code",
   "execution_count": null,
   "metadata": {},
   "outputs": [],
   "source": [
    "best_model = 'XGB'\n",
    "X_train, X_test, Y_train, Y_test = train_test_split(data_fixed, label_fixed, test_size=0.2)\n",
    "\n",
    "scaler = MinMaxScaler()\n",
    "X_train = scaler.fit_transform(X_train)\n",
    "X_test = scaler.transform(X_test)\n",
    "\n",
    "model = classifiers[classifiers_name.index(best_model)]\n",
    "model.fit(X_train, Y_train)\n",
    "\n",
    "performance_metrics = compute_metrics(model, X_test, Y_test, show=True)\n",
    "plot_confusion_matrix(performance_metrics[\"Confusion Matrix\"])"
   ]
  },
  {
   "cell_type": "code",
   "execution_count": null,
   "metadata": {
    "ExecuteTime": {
     "start_time": "2025-01-16T13:50:53.870820Z"
    }
   },
   "outputs": [],
   "source": [
    "plt.figure(figsize=(10, 10))\n",
    "pd.Series(model.feature_importances_, index=data_fixed.columns).nlargest(data_fixed.shape[1])[::-1].plot(kind='barh')\n",
    "plt.show()"
   ]
  },
  {
   "cell_type": "code",
   "outputs": [],
   "source": [],
   "metadata": {
    "collapsed": false,
    "ExecuteTime": {
     "start_time": "2025-01-16T13:50:53.872820Z"
    }
   }
  }
 ],
 "metadata": {
  "kernelspec": {
   "display_name": "Python 3",
   "language": "python",
   "name": "python3"
  },
  "language_info": {
   "codemirror_mode": {
    "name": "ipython",
    "version": 3
   },
   "file_extension": ".py",
   "mimetype": "text/x-python",
   "name": "python",
   "nbconvert_exporter": "python",
   "pygments_lexer": "ipython3",
   "version": "3.9.1"
  }
 },
 "nbformat": 4,
 "nbformat_minor": 4
}
