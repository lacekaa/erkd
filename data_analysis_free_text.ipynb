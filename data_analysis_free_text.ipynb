{
 "cells": [
  {
   "cell_type": "code",
   "execution_count": 1,
   "metadata": {
    "ExecuteTime": {
     "end_time": "2024-06-03T14:24:35.057868100Z",
     "start_time": "2024-06-03T14:24:32.851865200Z"
    }
   },
   "outputs": [],
   "source": [
    "import numpy as np\n",
    "import pandas as pd\n",
    "import nltk\n",
    "import seaborn as sn\n",
    "import matplotlib.pyplot as plt\n",
    "import language_tool_python\n",
    "import scipy.stats as stats\n",
    "\n",
    "tool = language_tool_python.LanguageTool('en-US')\n",
    "is_bad_rule = lambda rule: rule.message == 'Possible spelling mistake found.' and len(rule.replacements) and rule.replacements[0][0].isupper()"
   ]
  },
  {
   "cell_type": "markdown",
   "metadata": {},
   "source": [
    "## Data importation"
   ]
  },
  {
   "cell_type": "code",
   "execution_count": 2,
   "metadata": {
    "ExecuteTime": {
     "end_time": "2024-06-03T14:24:35.104866300Z",
     "start_time": "2024-06-03T14:24:35.056867Z"
    }
   },
   "outputs": [],
   "source": [
    "df_free = pd.read_csv('data/free_text_typing_dataset.csv', sep=';')\n",
    "df_freq = pd.read_csv('data/frequency_dataset.csv', sep=';')\n",
    "df_user = pd.read_csv('data/participants_information.csv', sep=';')\n",
    "\n",
    "df_free = df_free.rename(columns={'userid':'userId'})\n",
    "df_freq = df_freq.rename(columns={'User ID':'userId'})"
   ]
  },
  {
   "cell_type": "markdown",
   "metadata": {},
   "source": [
    "## Sentences reconstruction and feature extraction"
   ]
  },
  {
   "cell_type": "code",
   "execution_count": 3,
   "metadata": {
    "ExecuteTime": {
     "end_time": "2024-06-03T14:24:36.245870Z",
     "start_time": "2024-06-03T14:24:35.108866400Z"
    }
   },
   "outputs": [],
   "source": [
    "# reconstruct users' sentences from the keycode in df_free\n",
    "\n",
    "sentence = ''\n",
    "uppercase = False\n",
    "uppercase_tmp = False\n",
    "i_start = 0\n",
    "i_end = 0\n",
    "text_free = pd.DataFrame(columns=['sentence', 'idx_start', 'idx_end'])\n",
    "\n",
    "df_free.keyCode = df_free.keyCode.astype(str)\n",
    "\n",
    "for i in range(len(df_free)):\n",
    "    if i > 0 and (df_free.userId[i] != df_free.userId[i-1] or df_free.emotionIndex[i] != df_free.emotionIndex[i-1]): #df_free._id[i][:-2] != df_free._id[i-1][:-2]:\n",
    "        i_end = i-1\n",
    "        if len(sentence) > 1 and sentence[0].islower() and sentence[1].isupper():\n",
    "            sentence = sentence.swapcase()\n",
    "        text_free = text_free.append(pd.DataFrame([[sentence, i_start, i_end]], columns=['sentence', 'idx_start', 'idx_end']), ignore_index = True)\n",
    "        i_start = i\n",
    "        sentence = ''\n",
    "        uppercase = False\n",
    "        uppercase_tmp = False\n",
    "    if df_free.keyCode[i] == '\\\\b':   # delete key\n",
    "        sentence = sentence[:max(0,len(sentence)-1)]\n",
    "        uppercase_tmp = False\n",
    "        continue\n",
    "    if df_free.keyCode[i] == '\\\\u0014':   # caps lock key\n",
    "        uppercase = not uppercase\n",
    "        continue\n",
    "    if df_free.keyCode[i] == '\\\\u0010' and not uppercase:   # shift key\n",
    "        uppercase_tmp = True\n",
    "        continue\n",
    "    if df_free.keyCode[i] == '¼':     # comma key\n",
    "        sentence += ','\n",
    "        uppercase_tmp = False\n",
    "        continue\n",
    "    if df_free.keyCode[i] == 'ß':     # exclamation mark key\n",
    "        sentence += '!'\n",
    "        uppercase_tmp = False\n",
    "        continue\n",
    "    if df_free.keyCode[i] == '¾':   # dot key\n",
    "        sentence += '.'\n",
    "        uppercase_tmp = False\n",
    "        continue\n",
    "    if df_free.keyCode[i] == '4    ':   # apostrophe key\n",
    "        sentence += \"'\"\n",
    "        uppercase_tmp = False\n",
    "        continue\n",
    "    if df_free.keyCode[i] == '6    ':    # dash key\n",
    "        sentence += \"-\"\n",
    "        uppercase_tmp = False\n",
    "        continue\n",
    "    if df_free.keyCode[i] == '¿':   # colon key\n",
    "        sentence += \":\"\n",
    "        uppercase_tmp = False\n",
    "        continue\n",
    "    if uppercase:\n",
    "        sentence += df_free.keyCode[i].upper()\n",
    "        continue\n",
    "    if uppercase_tmp:\n",
    "        sentence += df_free.keyCode[i].upper()\n",
    "        uppercase_tmp = False\n",
    "        continue\n",
    "    sentence += df_free.keyCode[i]    \n",
    "\n",
    "text_free = text_free.append(pd.DataFrame([[sentence, i_start, i]], columns=['sentence', 'idx_start', 'idx_end']), ignore_index = True)"
   ]
  },
  {
   "cell_type": "code",
   "execution_count": 4,
   "metadata": {
    "ExecuteTime": {
     "end_time": "2024-06-03T14:24:36.259866300Z",
     "start_time": "2024-06-03T14:24:36.244867900Z"
    }
   },
   "outputs": [
    {
     "data": {
      "text/plain": "                        _id  userId emotionIndex  index keyCode      keyDown  \\\n0  5e1e2631d2dd163d472fd5ac     100            N    822  \\u0011  1,57903E+12   \n1  5e1e2631d2dd163d472fd5ad     100            N    823       v  1,57903E+12   \n2  5e1e2631d2dd163d472fd5ae     100            N    824      \\b  1,57903E+12   \n3  5e1e2631d2dd163d472fd5af     100            N    825      \\b  1,57903E+12   \n4  5e1e2631d2dd163d472fd5b0     100            N    826      \\b  1,57903E+12   \n\n         keyUp          D1U1          D1U2     D1D2         U1D2  \\\n0  1,57903E+12           982           764    709.0         -273   \n1  1,57903E+12            55  -1,57903E+12  23415.0        23360   \n2          NaN  -1,57903E+12  -1,57903E+12    607.0  1,57903E+12   \n3          NaN  -1,57903E+12  -1,57903E+12     35.0  1,57903E+12   \n4          NaN  -1,57903E+12  -1,57903E+12     42.0  1,57903E+12   \n\n           U1U2 answer  \n0          -218    NaN  \n1  -1,57903E+12    NaN  \n2             0    NaN  \n3             0    NaN  \n4             0    NaN  ",
      "text/html": "<div>\n<style scoped>\n    .dataframe tbody tr th:only-of-type {\n        vertical-align: middle;\n    }\n\n    .dataframe tbody tr th {\n        vertical-align: top;\n    }\n\n    .dataframe thead th {\n        text-align: right;\n    }\n</style>\n<table border=\"1\" class=\"dataframe\">\n  <thead>\n    <tr style=\"text-align: right;\">\n      <th></th>\n      <th>_id</th>\n      <th>userId</th>\n      <th>emotionIndex</th>\n      <th>index</th>\n      <th>keyCode</th>\n      <th>keyDown</th>\n      <th>keyUp</th>\n      <th>D1U1</th>\n      <th>D1U2</th>\n      <th>D1D2</th>\n      <th>U1D2</th>\n      <th>U1U2</th>\n      <th>answer</th>\n    </tr>\n  </thead>\n  <tbody>\n    <tr>\n      <th>0</th>\n      <td>5e1e2631d2dd163d472fd5ac</td>\n      <td>100</td>\n      <td>N</td>\n      <td>822</td>\n      <td>\\u0011</td>\n      <td>1,57903E+12</td>\n      <td>1,57903E+12</td>\n      <td>982</td>\n      <td>764</td>\n      <td>709.0</td>\n      <td>-273</td>\n      <td>-218</td>\n      <td>NaN</td>\n    </tr>\n    <tr>\n      <th>1</th>\n      <td>5e1e2631d2dd163d472fd5ad</td>\n      <td>100</td>\n      <td>N</td>\n      <td>823</td>\n      <td>v</td>\n      <td>1,57903E+12</td>\n      <td>1,57903E+12</td>\n      <td>55</td>\n      <td>-1,57903E+12</td>\n      <td>23415.0</td>\n      <td>23360</td>\n      <td>-1,57903E+12</td>\n      <td>NaN</td>\n    </tr>\n    <tr>\n      <th>2</th>\n      <td>5e1e2631d2dd163d472fd5ae</td>\n      <td>100</td>\n      <td>N</td>\n      <td>824</td>\n      <td>\\b</td>\n      <td>1,57903E+12</td>\n      <td>NaN</td>\n      <td>-1,57903E+12</td>\n      <td>-1,57903E+12</td>\n      <td>607.0</td>\n      <td>1,57903E+12</td>\n      <td>0</td>\n      <td>NaN</td>\n    </tr>\n    <tr>\n      <th>3</th>\n      <td>5e1e2631d2dd163d472fd5af</td>\n      <td>100</td>\n      <td>N</td>\n      <td>825</td>\n      <td>\\b</td>\n      <td>1,57903E+12</td>\n      <td>NaN</td>\n      <td>-1,57903E+12</td>\n      <td>-1,57903E+12</td>\n      <td>35.0</td>\n      <td>1,57903E+12</td>\n      <td>0</td>\n      <td>NaN</td>\n    </tr>\n    <tr>\n      <th>4</th>\n      <td>5e1e2631d2dd163d472fd5b0</td>\n      <td>100</td>\n      <td>N</td>\n      <td>826</td>\n      <td>\\b</td>\n      <td>1,57903E+12</td>\n      <td>NaN</td>\n      <td>-1,57903E+12</td>\n      <td>-1,57903E+12</td>\n      <td>42.0</td>\n      <td>1,57903E+12</td>\n      <td>0</td>\n      <td>NaN</td>\n    </tr>\n  </tbody>\n</table>\n</div>"
     },
     "execution_count": 4,
     "metadata": {},
     "output_type": "execute_result"
    }
   ],
   "source": [
    "# drop features highly correlated  with other features\n",
    "df_free = df_free.drop(['D1U3','D1D3'], axis=1)\n",
    "df_free.head()"
   ]
  },
  {
   "cell_type": "code",
   "execution_count": 5,
   "metadata": {
    "ExecuteTime": {
     "end_time": "2024-06-03T14:24:36.286866Z",
     "start_time": "2024-06-03T14:24:36.260866300Z"
    }
   },
   "outputs": [],
   "source": [
    "# functions to extract features from the df_free table\n",
    "def extract_editDistance_free(sentence):\n",
    "    matches = tool.check(sentence)\n",
    "    matches = [rule for rule in matches if not is_bad_rule(rule)]\n",
    "    correct = language_tool_python.utils.correct(sentence, matches)\n",
    "    return nltk.edit_distance(sentence, correct)\n",
    "\n",
    "def extract_nbKeystroke(val, start, end):\n",
    "    return val[end] - val[start] + 1\n",
    "\n",
    "def extract_mean(val, start, end):\n",
    "    return np.mean(val[start:end+1])\n",
    "\n",
    "def extract_std(val, start, end):\n",
    "    return np.std(val[start:end+1])\n",
    "\n",
    "def extract_answer(val, start, end):\n",
    "    for i in range(start, end+1):\n",
    "        if val[i] != np.nan:\n",
    "            return val[i]\n",
    "    return np.nan"
   ]
  },
  {
   "cell_type": "code",
   "execution_count": 6,
   "metadata": {
    "ExecuteTime": {
     "end_time": "2024-06-03T14:24:50.301352500Z",
     "start_time": "2024-06-03T14:24:36.276866700Z"
    }
   },
   "outputs": [
    {
     "ename": "UFuncTypeError",
     "evalue": "ufunc 'absolute' did not contain a loop with signature matching types <class 'numpy.dtypes.StrDType'> -> None",
     "output_type": "error",
     "traceback": [
      "\u001B[1;31m---------------------------------------------------------------------------\u001B[0m",
      "\u001B[1;31mUFuncTypeError\u001B[0m                            Traceback (most recent call last)",
      "Cell \u001B[1;32mIn[6], line 11\u001B[0m\n\u001B[0;32m      8\u001B[0m text_free[\u001B[38;5;124m'\u001B[39m\u001B[38;5;124manswer\u001B[39m\u001B[38;5;124m'\u001B[39m] \u001B[38;5;241m=\u001B[39m text_free\u001B[38;5;241m.\u001B[39mapply(\u001B[38;5;28;01mlambda\u001B[39;00m x: extract_answer(df_free\u001B[38;5;241m.\u001B[39manswer, x[\u001B[38;5;124m'\u001B[39m\u001B[38;5;124midx_start\u001B[39m\u001B[38;5;124m'\u001B[39m], x[\u001B[38;5;124m'\u001B[39m\u001B[38;5;124midx_end\u001B[39m\u001B[38;5;124m'\u001B[39m]), axis\u001B[38;5;241m=\u001B[39m\u001B[38;5;241m1\u001B[39m)\n\u001B[0;32m     10\u001B[0m \u001B[38;5;28;01mfor\u001B[39;00m feat \u001B[38;5;129;01min\u001B[39;00m key_features:\n\u001B[1;32m---> 11\u001B[0m     df_free[feat] \u001B[38;5;241m=\u001B[39m \u001B[43mdf_free\u001B[49m\u001B[43m[\u001B[49m\u001B[43mfeat\u001B[49m\u001B[43m]\u001B[49m\u001B[38;5;241;43m.\u001B[39;49m\u001B[43mapply\u001B[49m\u001B[43m(\u001B[49m\u001B[38;5;28;43;01mlambda\u001B[39;49;00m\u001B[43m \u001B[49m\u001B[43mx\u001B[49m\u001B[43m:\u001B[49m\u001B[43m \u001B[49m\u001B[43mnp\u001B[49m\u001B[38;5;241;43m.\u001B[39;49m\u001B[43mnan\u001B[49m\u001B[43m \u001B[49m\u001B[38;5;28;43;01mif\u001B[39;49;00m\u001B[43m \u001B[49m\u001B[43mnp\u001B[49m\u001B[38;5;241;43m.\u001B[39;49m\u001B[43mabs\u001B[49m\u001B[43m(\u001B[49m\u001B[43mx\u001B[49m\u001B[43m)\u001B[49m\u001B[43m \u001B[49m\u001B[38;5;241;43m>\u001B[39;49m\u001B[43m \u001B[49m\u001B[38;5;241;43m1570000000000\u001B[39;49m\u001B[43m \u001B[49m\u001B[38;5;28;43;01melse\u001B[39;49;00m\u001B[43m \u001B[49m\u001B[43mx\u001B[49m\u001B[43m)\u001B[49m\n\u001B[0;32m     12\u001B[0m     text_free[feat\u001B[38;5;241m+\u001B[39m\u001B[38;5;124m'\u001B[39m\u001B[38;5;124m_mean\u001B[39m\u001B[38;5;124m'\u001B[39m] \u001B[38;5;241m=\u001B[39m text_free\u001B[38;5;241m.\u001B[39mapply(\u001B[38;5;28;01mlambda\u001B[39;00m x: extract_mean(df_free[feat], x[\u001B[38;5;124m'\u001B[39m\u001B[38;5;124midx_start\u001B[39m\u001B[38;5;124m'\u001B[39m], x[\u001B[38;5;124m'\u001B[39m\u001B[38;5;124midx_end\u001B[39m\u001B[38;5;124m'\u001B[39m]), axis\u001B[38;5;241m=\u001B[39m\u001B[38;5;241m1\u001B[39m)\n\u001B[0;32m     13\u001B[0m     text_free[feat\u001B[38;5;241m+\u001B[39m\u001B[38;5;124m'\u001B[39m\u001B[38;5;124m_std\u001B[39m\u001B[38;5;124m'\u001B[39m] \u001B[38;5;241m=\u001B[39m text_free\u001B[38;5;241m.\u001B[39mapply(\u001B[38;5;28;01mlambda\u001B[39;00m x: extract_std(df_free[feat], x[\u001B[38;5;124m'\u001B[39m\u001B[38;5;124midx_start\u001B[39m\u001B[38;5;124m'\u001B[39m], x[\u001B[38;5;124m'\u001B[39m\u001B[38;5;124midx_end\u001B[39m\u001B[38;5;124m'\u001B[39m]), axis\u001B[38;5;241m=\u001B[39m\u001B[38;5;241m1\u001B[39m)\n",
      "File \u001B[1;32m~\\Documents\\EmotionRecognitionKeystrokeDynamics\\venv\\lib\\site-packages\\pandas\\core\\series.py:4357\u001B[0m, in \u001B[0;36mSeries.apply\u001B[1;34m(self, func, convert_dtype, args, **kwargs)\u001B[0m\n\u001B[0;32m   4247\u001B[0m \u001B[38;5;28;01mdef\u001B[39;00m \u001B[38;5;21mapply\u001B[39m(\n\u001B[0;32m   4248\u001B[0m     \u001B[38;5;28mself\u001B[39m,\n\u001B[0;32m   4249\u001B[0m     func: AggFuncType,\n\u001B[1;32m   (...)\u001B[0m\n\u001B[0;32m   4252\u001B[0m     \u001B[38;5;241m*\u001B[39m\u001B[38;5;241m*\u001B[39mkwargs,\n\u001B[0;32m   4253\u001B[0m ) \u001B[38;5;241m-\u001B[39m\u001B[38;5;241m>\u001B[39m FrameOrSeriesUnion:\n\u001B[0;32m   4254\u001B[0m \u001B[38;5;250m    \u001B[39m\u001B[38;5;124;03m\"\"\"\u001B[39;00m\n\u001B[0;32m   4255\u001B[0m \u001B[38;5;124;03m    Invoke function on values of Series.\u001B[39;00m\n\u001B[0;32m   4256\u001B[0m \n\u001B[1;32m   (...)\u001B[0m\n\u001B[0;32m   4355\u001B[0m \u001B[38;5;124;03m    dtype: float64\u001B[39;00m\n\u001B[0;32m   4356\u001B[0m \u001B[38;5;124;03m    \"\"\"\u001B[39;00m\n\u001B[1;32m-> 4357\u001B[0m     \u001B[38;5;28;01mreturn\u001B[39;00m \u001B[43mSeriesApply\u001B[49m\u001B[43m(\u001B[49m\u001B[38;5;28;43mself\u001B[39;49m\u001B[43m,\u001B[49m\u001B[43m \u001B[49m\u001B[43mfunc\u001B[49m\u001B[43m,\u001B[49m\u001B[43m \u001B[49m\u001B[43mconvert_dtype\u001B[49m\u001B[43m,\u001B[49m\u001B[43m \u001B[49m\u001B[43margs\u001B[49m\u001B[43m,\u001B[49m\u001B[43m \u001B[49m\u001B[43mkwargs\u001B[49m\u001B[43m)\u001B[49m\u001B[38;5;241;43m.\u001B[39;49m\u001B[43mapply\u001B[49m\u001B[43m(\u001B[49m\u001B[43m)\u001B[49m\n",
      "File \u001B[1;32m~\\Documents\\EmotionRecognitionKeystrokeDynamics\\venv\\lib\\site-packages\\pandas\\core\\apply.py:1043\u001B[0m, in \u001B[0;36mSeriesApply.apply\u001B[1;34m(self)\u001B[0m\n\u001B[0;32m   1039\u001B[0m \u001B[38;5;28;01mif\u001B[39;00m \u001B[38;5;28misinstance\u001B[39m(\u001B[38;5;28mself\u001B[39m\u001B[38;5;241m.\u001B[39mf, \u001B[38;5;28mstr\u001B[39m):\n\u001B[0;32m   1040\u001B[0m     \u001B[38;5;66;03m# if we are a string, try to dispatch\u001B[39;00m\n\u001B[0;32m   1041\u001B[0m     \u001B[38;5;28;01mreturn\u001B[39;00m \u001B[38;5;28mself\u001B[39m\u001B[38;5;241m.\u001B[39mapply_str()\n\u001B[1;32m-> 1043\u001B[0m \u001B[38;5;28;01mreturn\u001B[39;00m \u001B[38;5;28;43mself\u001B[39;49m\u001B[38;5;241;43m.\u001B[39;49m\u001B[43mapply_standard\u001B[49m\u001B[43m(\u001B[49m\u001B[43m)\u001B[49m\n",
      "File \u001B[1;32m~\\Documents\\EmotionRecognitionKeystrokeDynamics\\venv\\lib\\site-packages\\pandas\\core\\apply.py:1098\u001B[0m, in \u001B[0;36mSeriesApply.apply_standard\u001B[1;34m(self)\u001B[0m\n\u001B[0;32m   1092\u001B[0m         values \u001B[38;5;241m=\u001B[39m obj\u001B[38;5;241m.\u001B[39mastype(\u001B[38;5;28mobject\u001B[39m)\u001B[38;5;241m.\u001B[39m_values\n\u001B[0;32m   1093\u001B[0m         \u001B[38;5;66;03m# error: Argument 2 to \"map_infer\" has incompatible type\u001B[39;00m\n\u001B[0;32m   1094\u001B[0m         \u001B[38;5;66;03m# \"Union[Callable[..., Any], str, List[Union[Callable[..., Any], str]],\u001B[39;00m\n\u001B[0;32m   1095\u001B[0m         \u001B[38;5;66;03m# Dict[Hashable, Union[Union[Callable[..., Any], str],\u001B[39;00m\n\u001B[0;32m   1096\u001B[0m         \u001B[38;5;66;03m# List[Union[Callable[..., Any], str]]]]]\"; expected\u001B[39;00m\n\u001B[0;32m   1097\u001B[0m         \u001B[38;5;66;03m# \"Callable[[Any], Any]\"\u001B[39;00m\n\u001B[1;32m-> 1098\u001B[0m         mapped \u001B[38;5;241m=\u001B[39m \u001B[43mlib\u001B[49m\u001B[38;5;241;43m.\u001B[39;49m\u001B[43mmap_infer\u001B[49m\u001B[43m(\u001B[49m\n\u001B[0;32m   1099\u001B[0m \u001B[43m            \u001B[49m\u001B[43mvalues\u001B[49m\u001B[43m,\u001B[49m\n\u001B[0;32m   1100\u001B[0m \u001B[43m            \u001B[49m\u001B[43mf\u001B[49m\u001B[43m,\u001B[49m\u001B[43m  \u001B[49m\u001B[38;5;66;43;03m# type: ignore[arg-type]\u001B[39;49;00m\n\u001B[0;32m   1101\u001B[0m \u001B[43m            \u001B[49m\u001B[43mconvert\u001B[49m\u001B[38;5;241;43m=\u001B[39;49m\u001B[38;5;28;43mself\u001B[39;49m\u001B[38;5;241;43m.\u001B[39;49m\u001B[43mconvert_dtype\u001B[49m\u001B[43m,\u001B[49m\n\u001B[0;32m   1102\u001B[0m \u001B[43m        \u001B[49m\u001B[43m)\u001B[49m\n\u001B[0;32m   1104\u001B[0m \u001B[38;5;28;01mif\u001B[39;00m \u001B[38;5;28mlen\u001B[39m(mapped) \u001B[38;5;129;01mand\u001B[39;00m \u001B[38;5;28misinstance\u001B[39m(mapped[\u001B[38;5;241m0\u001B[39m], ABCSeries):\n\u001B[0;32m   1105\u001B[0m     \u001B[38;5;66;03m# GH 25959 use pd.array instead of tolist\u001B[39;00m\n\u001B[0;32m   1106\u001B[0m     \u001B[38;5;66;03m# so extension arrays can be used\u001B[39;00m\n\u001B[0;32m   1107\u001B[0m     \u001B[38;5;28;01mreturn\u001B[39;00m obj\u001B[38;5;241m.\u001B[39m_constructor_expanddim(pd_array(mapped), index\u001B[38;5;241m=\u001B[39mobj\u001B[38;5;241m.\u001B[39mindex)\n",
      "File \u001B[1;32m~\\Documents\\EmotionRecognitionKeystrokeDynamics\\venv\\lib\\site-packages\\pandas\\_libs\\lib.pyx:2859\u001B[0m, in \u001B[0;36mpandas._libs.lib.map_infer\u001B[1;34m()\u001B[0m\n",
      "Cell \u001B[1;32mIn[6], line 11\u001B[0m, in \u001B[0;36m<lambda>\u001B[1;34m(x)\u001B[0m\n\u001B[0;32m      8\u001B[0m text_free[\u001B[38;5;124m'\u001B[39m\u001B[38;5;124manswer\u001B[39m\u001B[38;5;124m'\u001B[39m] \u001B[38;5;241m=\u001B[39m text_free\u001B[38;5;241m.\u001B[39mapply(\u001B[38;5;28;01mlambda\u001B[39;00m x: extract_answer(df_free\u001B[38;5;241m.\u001B[39manswer, x[\u001B[38;5;124m'\u001B[39m\u001B[38;5;124midx_start\u001B[39m\u001B[38;5;124m'\u001B[39m], x[\u001B[38;5;124m'\u001B[39m\u001B[38;5;124midx_end\u001B[39m\u001B[38;5;124m'\u001B[39m]), axis\u001B[38;5;241m=\u001B[39m\u001B[38;5;241m1\u001B[39m)\n\u001B[0;32m     10\u001B[0m \u001B[38;5;28;01mfor\u001B[39;00m feat \u001B[38;5;129;01min\u001B[39;00m key_features:\n\u001B[1;32m---> 11\u001B[0m     df_free[feat] \u001B[38;5;241m=\u001B[39m df_free[feat]\u001B[38;5;241m.\u001B[39mapply(\u001B[38;5;28;01mlambda\u001B[39;00m x: np\u001B[38;5;241m.\u001B[39mnan \u001B[38;5;28;01mif\u001B[39;00m \u001B[43mnp\u001B[49m\u001B[38;5;241;43m.\u001B[39;49m\u001B[43mabs\u001B[49m\u001B[43m(\u001B[49m\u001B[43mx\u001B[49m\u001B[43m)\u001B[49m \u001B[38;5;241m>\u001B[39m \u001B[38;5;241m1570000000000\u001B[39m \u001B[38;5;28;01melse\u001B[39;00m x)\n\u001B[0;32m     12\u001B[0m     text_free[feat\u001B[38;5;241m+\u001B[39m\u001B[38;5;124m'\u001B[39m\u001B[38;5;124m_mean\u001B[39m\u001B[38;5;124m'\u001B[39m] \u001B[38;5;241m=\u001B[39m text_free\u001B[38;5;241m.\u001B[39mapply(\u001B[38;5;28;01mlambda\u001B[39;00m x: extract_mean(df_free[feat], x[\u001B[38;5;124m'\u001B[39m\u001B[38;5;124midx_start\u001B[39m\u001B[38;5;124m'\u001B[39m], x[\u001B[38;5;124m'\u001B[39m\u001B[38;5;124midx_end\u001B[39m\u001B[38;5;124m'\u001B[39m]), axis\u001B[38;5;241m=\u001B[39m\u001B[38;5;241m1\u001B[39m)\n\u001B[0;32m     13\u001B[0m     text_free[feat\u001B[38;5;241m+\u001B[39m\u001B[38;5;124m'\u001B[39m\u001B[38;5;124m_std\u001B[39m\u001B[38;5;124m'\u001B[39m] \u001B[38;5;241m=\u001B[39m text_free\u001B[38;5;241m.\u001B[39mapply(\u001B[38;5;28;01mlambda\u001B[39;00m x: extract_std(df_free[feat], x[\u001B[38;5;124m'\u001B[39m\u001B[38;5;124midx_start\u001B[39m\u001B[38;5;124m'\u001B[39m], x[\u001B[38;5;124m'\u001B[39m\u001B[38;5;124midx_end\u001B[39m\u001B[38;5;124m'\u001B[39m]), axis\u001B[38;5;241m=\u001B[39m\u001B[38;5;241m1\u001B[39m)\n",
      "\u001B[1;31mUFuncTypeError\u001B[0m: ufunc 'absolute' did not contain a loop with signature matching types <class 'numpy.dtypes.StrDType'> -> None"
     ]
    }
   ],
   "source": [
    "key_features = ['D1U1','D1U2','D1D2','U1D2','U1U2']\n",
    "\n",
    "text_free['userId'] = df_free.userId[text_free.idx_start].values\n",
    "text_free['emotionIndex'] = df_free.emotionIndex[text_free.idx_start].values\n",
    "text_free = text_free.reindex(columns=['idx_start','idx_end','userId','emotionIndex','sentence'])\n",
    "text_free['editDistance'] = text_free.apply(lambda x: extract_editDistance_free(x['sentence']), axis=1)\n",
    "text_free['nbKeystroke'] = text_free.apply(lambda x: extract_nbKeystroke(df_free.index, x['idx_start'], x['idx_end']), axis=1)\n",
    "text_free['answer'] = text_free.apply(lambda x: extract_answer(df_free.answer, x['idx_start'], x['idx_end']), axis=1)\n",
    "\n",
    "for feat in key_features:\n",
    "    df_free[feat] = df_free[feat].apply(lambda x: np.nan if np.abs(x) > 1570000000000 else x)\n",
    "    text_free[feat+'_mean'] = text_free.apply(lambda x: extract_mean(df_free[feat], x['idx_start'], x['idx_end']), axis=1)\n",
    "    text_free[feat+'_std'] = text_free.apply(lambda x: extract_std(df_free[feat], x['idx_start'], x['idx_end']), axis=1)\n",
    "\n",
    "\n",
    "text_free.head()"
   ]
  },
  {
   "cell_type": "code",
   "execution_count": 7,
   "metadata": {
    "ExecuteTime": {
     "end_time": "2024-06-03T14:27:05.905163900Z",
     "start_time": "2024-06-03T14:27:05.705154500Z"
    }
   },
   "outputs": [
    {
     "data": {
      "text/plain": "[]"
     },
     "execution_count": 7,
     "metadata": {},
     "output_type": "execute_result"
    },
    {
     "data": {
      "text/plain": "<Figure size 1500x1500 with 2 Axes>",
      "image/png": "[encoded data removed]"
     },
     "metadata": {},
     "output_type": "display_data"
    }
   ],
   "source": [
    "## correlation matrix\n",
    "\n",
    "# Numeric columns of the dataset\n",
    "text_free.emotionIndex = text_free.emotionIndex.map({'N':0,'H':1,'C':2,'S':3,'A':4})\n",
    "numeric_col = ['emotionIndex','editDistance','nbKeystroke'] + [col for col in text_free.columns if '_mean' in col] + [col for col in text_free.columns if '_std' in col]\n",
    "\n",
    "# Correlation Matrix formation\n",
    "corr_matrix = text_free.loc[:, numeric_col].corr()\n",
    "text_free.emotionIndex = text_free.emotionIndex.map({0:'N',1:'H',2:'C',3:'S',4:'A'})\n",
    " \n",
    "#Using heatmap to visualize the correlation matrix\n",
    "plt.figure(figsize = (15,15))\n",
    "sn.heatmap(corr_matrix, annot=True)\n",
    "plt.plot()"
   ]
  },
  {
   "cell_type": "markdown",
   "metadata": {},
   "source": [
    "## Join tables: text_free with df_freq_free"
   ]
  },
  {
   "cell_type": "code",
   "execution_count": 8,
   "metadata": {
    "ExecuteTime": {
     "end_time": "2024-06-03T14:27:10.519090500Z",
     "start_time": "2024-06-03T14:27:10.485089300Z"
    }
   },
   "outputs": [],
   "source": [
    "# filter free-text experiments in df_freq\n",
    "df_freq_free = df_freq[df_freq.textIndex == 'FR'].reset_index(drop=True)"
   ]
  },
  {
   "cell_type": "code",
   "execution_count": 9,
   "metadata": {
    "ExecuteTime": {
     "end_time": "2024-06-03T14:27:14.427086900Z",
     "start_time": "2024-06-03T14:27:14.405086Z"
    }
   },
   "outputs": [],
   "source": [
    "# correction of expections to align df_freq_free and text_free tables\n",
    "text_free.loc[43,'userId'] = 94\n",
    "tmp = text_free.loc[29]\n",
    "text_free.loc[29] = text_free.loc[30]\n",
    "text_free.loc[30] = tmp"
   ]
  },
  {
   "cell_type": "code",
   "execution_count": 10,
   "metadata": {
    "ExecuteTime": {
     "end_time": "2024-06-03T14:27:21.041268300Z",
     "start_time": "2024-06-03T14:27:20.991269200Z"
    }
   },
   "outputs": [],
   "source": [
    "# alignment of df_freq_free and text_free tables\n",
    "text_free['text_index'] = -1\n",
    "df_freq_free['text_index'] = -1\n",
    "index = 0\n",
    "\n",
    "i = 0\n",
    "j = 0\n",
    "while i<len(df_freq_free) and j<len(text_free):\n",
    "    if df_freq_free.userId[i] == text_free.userId[j] and df_freq_free.emotionIndex[i] == text_free.emotionIndex[j]:\n",
    "        df_freq_free.loc[i,'text_index'] = index\n",
    "        text_free.loc[j,'text_index'] = index\n",
    "        index += 1\n",
    "        i += 1\n",
    "        j += 1\n",
    "    elif j != len(text_free)-1 and df_freq_free.userId[i] == text_free.userId[j+1] and df_freq_free.emotionIndex[i] == text_free.emotionIndex[j+1]:\n",
    "        df_freq_free.loc[i,'text_index'] = index\n",
    "        text_free.loc[j+1,'text_index'] = index\n",
    "        index += 1\n",
    "        i += 1\n",
    "        j += 2\n",
    "    elif i != len(df_freq_free)-1 and df_freq_free.userId[i+1] == text_free.userId[j] and df_freq_free.emotionIndex[i+1] == text_free.emotionIndex[j]:\n",
    "        df_freq_free.loc[i+1,'text_index'] = index\n",
    "        text_free.loc[j,'text_index'] = index\n",
    "        index += 1\n",
    "        i += 2\n",
    "        j += 1\n",
    "    else:\n",
    "        i += 1\n",
    "        j += 1"
   ]
  },
  {
   "cell_type": "code",
   "execution_count": null,
   "metadata": {
    "ExecuteTime": {
     "start_time": "2024-06-03T14:24:50.304350500Z"
    }
   },
   "outputs": [],
   "source": [
    "# correction of expections to align df_freq_free and df_user tables\n",
    "tmp = df_user.loc[10]\n",
    "df_user.loc[10] = df_user.loc[11]\n",
    "df_user.loc[11] = tmp\n",
    "tmp = df_user.loc[70]\n",
    "df_user.loc[70] = df_user.loc[71]\n",
    "df_user.loc[71] = tmp\n",
    "tmp = df_user.loc[91]\n",
    "df_user.loc[91] = df_user.loc[92]\n",
    "df_user.loc[92] = tmp"
   ]
  },
  {
   "cell_type": "code",
   "execution_count": 11,
   "metadata": {
    "ExecuteTime": {
     "end_time": "2024-06-03T14:27:25.872325800Z",
     "start_time": "2024-06-03T14:27:25.840328800Z"
    }
   },
   "outputs": [],
   "source": [
    "# alignment of df_freq_free and df_user tables\n",
    "df_freq_free['user_index'] = -1\n",
    "index = 0\n",
    "\n",
    "j = 0\n",
    "for i in range(len(df_freq_free)):\n",
    "    if i in [20,38,58,68,129,139,150,154,173,225,227]: \n",
    "        j += 1\n",
    "    if j < len(df_user) and df_freq_free.userId[i] == df_user.userId[j]:\n",
    "        df_freq_free.loc[i,'user_index'] = j\n",
    "        i += 1\n",
    "    else:\n",
    "        if j < len(df_user)-1 and df_freq_free.userId[i] == df_user.userId[j+1]:\n",
    "            df_freq_free.loc[i,'user_index'] = j+1\n",
    "            i += 1\n",
    "            j += 1\n",
    "        else:\n",
    "            for k in range(1,7):\n",
    "                if df_freq_free.userId[i] == df_freq_free.userId[i-k]:\n",
    "                    df_freq_free.loc[i,'user_index'] = df_freq_free.loc[i-k,'user_index']\n",
    "                    break"
   ]
  },
  {
   "cell_type": "code",
   "execution_count": 12,
   "metadata": {
    "ExecuteTime": {
     "end_time": "2024-06-03T14:27:29.668250400Z",
     "start_time": "2024-06-03T14:27:29.634246400Z"
    }
   },
   "outputs": [
    {
     "data": {
      "text/plain": "   userId textIndex emotionIndex  delFreq  leftFreq  TotTime  text_index  \\\n0     100        FR            N      145         0      NaN           0   \n1     100        FR            H        0         0      NaN           1   \n2     113        FR            N       44         0      NaN           2   \n3     113        FR            C       24         0      NaN           3   \n4     113        FR            H       15         0      NaN           4   \n\n   user_index idx_start idx_end  ... nbKeystroke  answer  typeWith  \\\n0           0         0     147  ...         148     NaN   2 hands   \n1           0       148     204  ...          57       R   2 hands   \n2           1       205     329  ...         125     NaN   2 hands   \n3           1       330     428  ...          99     NaN   2 hands   \n4           1       429     483  ...          55       R   2 hands   \n\n          typistType              pcTimeAverage ageRange  gender   status  \\\n0       Touch Typist  More than 3 hours per day    16-19  Female  Student   \n1       Touch Typist  More than 3 hours per day    16-19  Female  Student   \n2  Two Finger Typist  less than an hour per day    20-29  Female  Student   \n3  Two Finger Typist  less than an hour per day    20-29  Female  Student   \n4  Two Finger Typist  less than an hour per day    20-29  Female  Student   \n\n               degree  country  \n0  College/University  Tunisia  \n1  College/University  Tunisia  \n2  College/University  Tunisia  \n3  College/University  Tunisia  \n4  College/University  Tunisia  \n\n[5 rows x 22 columns]",
      "text/html": "<div>\n<style scoped>\n    .dataframe tbody tr th:only-of-type {\n        vertical-align: middle;\n    }\n\n    .dataframe tbody tr th {\n        vertical-align: top;\n    }\n\n    .dataframe thead th {\n        text-align: right;\n    }\n</style>\n<table border=\"1\" class=\"dataframe\">\n  <thead>\n    <tr style=\"text-align: right;\">\n      <th></th>\n      <th>userId</th>\n      <th>textIndex</th>\n      <th>emotionIndex</th>\n      <th>delFreq</th>\n      <th>leftFreq</th>\n      <th>TotTime</th>\n      <th>text_index</th>\n      <th>user_index</th>\n      <th>idx_start</th>\n      <th>idx_end</th>\n      <th>...</th>\n      <th>nbKeystroke</th>\n      <th>answer</th>\n      <th>typeWith</th>\n      <th>typistType</th>\n      <th>pcTimeAverage</th>\n      <th>ageRange</th>\n      <th>gender</th>\n      <th>status</th>\n      <th>degree</th>\n      <th>country</th>\n    </tr>\n  </thead>\n  <tbody>\n    <tr>\n      <th>0</th>\n      <td>100</td>\n      <td>FR</td>\n      <td>N</td>\n      <td>145</td>\n      <td>0</td>\n      <td>NaN</td>\n      <td>0</td>\n      <td>0</td>\n      <td>0</td>\n      <td>147</td>\n      <td>...</td>\n      <td>148</td>\n      <td>NaN</td>\n      <td>2 hands</td>\n      <td>Touch Typist</td>\n      <td>More than 3 hours per day</td>\n      <td>16-19</td>\n      <td>Female</td>\n      <td>Student</td>\n      <td>College/University</td>\n      <td>Tunisia</td>\n    </tr>\n    <tr>\n      <th>1</th>\n      <td>100</td>\n      <td>FR</td>\n      <td>H</td>\n      <td>0</td>\n      <td>0</td>\n      <td>NaN</td>\n      <td>1</td>\n      <td>0</td>\n      <td>148</td>\n      <td>204</td>\n      <td>...</td>\n      <td>57</td>\n      <td>R</td>\n      <td>2 hands</td>\n      <td>Touch Typist</td>\n      <td>More than 3 hours per day</td>\n      <td>16-19</td>\n      <td>Female</td>\n      <td>Student</td>\n      <td>College/University</td>\n      <td>Tunisia</td>\n    </tr>\n    <tr>\n      <th>2</th>\n      <td>113</td>\n      <td>FR</td>\n      <td>N</td>\n      <td>44</td>\n      <td>0</td>\n      <td>NaN</td>\n      <td>2</td>\n      <td>1</td>\n      <td>205</td>\n      <td>329</td>\n      <td>...</td>\n      <td>125</td>\n      <td>NaN</td>\n      <td>2 hands</td>\n      <td>Two Finger Typist</td>\n      <td>less than an hour per day</td>\n      <td>20-29</td>\n      <td>Female</td>\n      <td>Student</td>\n      <td>College/University</td>\n      <td>Tunisia</td>\n    </tr>\n    <tr>\n      <th>3</th>\n      <td>113</td>\n      <td>FR</td>\n      <td>C</td>\n      <td>24</td>\n      <td>0</td>\n      <td>NaN</td>\n      <td>3</td>\n      <td>1</td>\n      <td>330</td>\n      <td>428</td>\n      <td>...</td>\n      <td>99</td>\n      <td>NaN</td>\n      <td>2 hands</td>\n      <td>Two Finger Typist</td>\n      <td>less than an hour per day</td>\n      <td>20-29</td>\n      <td>Female</td>\n      <td>Student</td>\n      <td>College/University</td>\n      <td>Tunisia</td>\n    </tr>\n    <tr>\n      <th>4</th>\n      <td>113</td>\n      <td>FR</td>\n      <td>H</td>\n      <td>15</td>\n      <td>0</td>\n      <td>NaN</td>\n      <td>4</td>\n      <td>1</td>\n      <td>429</td>\n      <td>483</td>\n      <td>...</td>\n      <td>55</td>\n      <td>R</td>\n      <td>2 hands</td>\n      <td>Two Finger Typist</td>\n      <td>less than an hour per day</td>\n      <td>20-29</td>\n      <td>Female</td>\n      <td>Student</td>\n      <td>College/University</td>\n      <td>Tunisia</td>\n    </tr>\n  </tbody>\n</table>\n<p>5 rows × 22 columns</p>\n</div>"
     },
     "execution_count": 12,
     "metadata": {},
     "output_type": "execute_result"
    }
   ],
   "source": [
    "# merge all tables\n",
    "df_free_all = df_freq_free.join(text_free, on='text_index', how='left', rsuffix='_right')\n",
    "df_free_all = df_free_all.drop(['userId_right', 'emotionIndex_right', 'text_index_right'], axis=1)\n",
    "df_free_all = df_free_all.join(df_user.reset_index().rename(columns={'index':'user_index'}), on='user_index', how='left', rsuffix='_right')\n",
    "df_free_all = df_free_all.drop(['user_index_right','userId_right'], axis=1)\n",
    "df_free_all.head()"
   ]
  },
  {
   "cell_type": "markdown",
   "metadata": {},
   "source": [
    "## Data analysis"
   ]
  },
  {
   "cell_type": "markdown",
   "metadata": {},
   "source": [
    "### Useful functions"
   ]
  },
  {
   "cell_type": "code",
   "execution_count": 13,
   "metadata": {
    "ExecuteTime": {
     "end_time": "2024-06-03T14:27:42.243895500Z",
     "start_time": "2024-06-03T14:27:42.000880100Z"
    }
   },
   "outputs": [],
   "source": [
    "from sklearn.model_selection import train_test_split\n",
    "from sklearn.linear_model import LogisticRegression\n",
    "from sklearn.ensemble import RandomForestClassifier\n",
    "from sklearn.preprocessing import StandardScaler, MinMaxScaler\n",
    "from sklearn.svm import SVC\n",
    "from sklearn import metrics, model_selection\n",
    "from sklearn.neural_network import MLPClassifier\n",
    "import xgboost as xgb\n",
    "import shap\n",
    "from tqdm import trange"
   ]
  },
  {
   "cell_type": "code",
   "execution_count": 14,
   "metadata": {
    "ExecuteTime": {
     "end_time": "2024-06-03T14:27:44.684647500Z",
     "start_time": "2024-06-03T14:27:44.666646300Z"
    }
   },
   "outputs": [],
   "source": [
    "# Receiving a dictionary of performance metrics and printing them\n",
    "def show_metrics(performance_metrics):\n",
    "    for metric_name, metric in performance_metrics.items():\n",
    "        if metric_name.startswith(\"Confusion\"):\n",
    "            print(\"Confusion Matrix: \")\n",
    "            if len(metric) != 5:\n",
    "                print(pd.DataFrame(metric))\n",
    "            else:\n",
    "                print(pd.DataFrame(metric, \n",
    "                  index=list(label_dictionary.values()), \n",
    "                  columns=list(label_dictionary.values())))\n",
    "        else:\n",
    "            print(\"Metric : % s, Score : % 5.2f\" %(metric_name, metric))  "
   ]
  },
  {
   "cell_type": "code",
   "execution_count": 15,
   "metadata": {
    "ExecuteTime": {
     "end_time": "2024-06-03T14:27:47.332324200Z",
     "start_time": "2024-06-03T14:27:47.312323900Z"
    }
   },
   "outputs": [],
   "source": [
    "# Plotting the Confusion Matrix as a heatmap\n",
    "label_dictionary = {1: 'N', 2: 'H', 3: 'C', 4: 'S', 5: 'A'}\n",
    "\n",
    "def plot_confusion_matrix(confusion_matrix):\n",
    "    if len(confusion_matrix) != 5:\n",
    "        df_cm = pd.DataFrame(confusion_matrix)\n",
    "    else:\n",
    "        df_cm = pd.DataFrame(confusion_matrix, \n",
    "                         index = [i for i in label_dictionary.values()],\n",
    "                         columns = [i for i in label_dictionary.values()])\n",
    "    plt.figure()\n",
    "    sn.set(font_scale=1.4) # for label size\n",
    "    sn.heatmap(df_cm, annot=True, annot_kws={\"size\": 16}, cmap=\"Blues\")\n",
    "    plt.show()"
   ]
  },
  {
   "cell_type": "code",
   "execution_count": 16,
   "metadata": {
    "ExecuteTime": {
     "end_time": "2024-06-03T14:27:49.597859600Z",
     "start_time": "2024-06-03T14:27:49.568861500Z"
    }
   },
   "outputs": [],
   "source": [
    "# Computing the different Performance Metrics\n",
    "def compute_metrics(clf, dataX, dataY, show=False):\n",
    "    # Using Confusion Metrics to compute metrics\n",
    "    def performance_measures(y_true, y_pred):\n",
    "        cnf_matrix = metrics.confusion_matrix(y_true, y_pred, normalize='true')\n",
    "\n",
    "        FP = cnf_matrix.sum(axis=0) - np.diag(cnf_matrix) \n",
    "        FN = cnf_matrix.sum(axis=1) - np.diag(cnf_matrix)\n",
    "        TP = np.diag(cnf_matrix)\n",
    "        TN = cnf_matrix.sum() - (FP + FN + TP)\n",
    "\n",
    "        FP = FP.astype(float)\n",
    "        FN = FN.astype(float)\n",
    "        TP = TP.astype(float)\n",
    "        TN = TN.astype(float)\n",
    "\n",
    "        acc = np.mean((TP + TN) / (TP + FP + FN + TN))\n",
    "        TP_rate = np.mean(TP / (TP + FN))\n",
    "        FP_rate = np.mean(FP / (FP + TN))\n",
    "        precision = np.mean(TP / (TP + FP))\n",
    "        f_measure = 2 * precision * TP_rate / (precision + TP_rate)\n",
    "        f_micro = metrics.f1_score(y_true, y_pred, average='micro')\n",
    "        f_macro = metrics.f1_score(y_true, y_pred, average='macro')\n",
    "        \n",
    "        # Returning \n",
    "        return (acc, TP_rate, FP_rate, precision, f_measure, f_micro, f_macro,\n",
    "                np.round(cnf_matrix, 2))\n",
    "\n",
    "    acc, tp_rate, fp_rate, precision, f_measure, f_micro, f_macro, confusion_matrix = performance_measures(y_true=dataY, y_pred=clf.predict(dataX))\n",
    "    \n",
    "    \n",
    "    performance_metrics = {\"ACC\": acc, \"TP_Rate\": tp_rate, \"FP_Rate\": fp_rate,\n",
    "            \"Precision\": precision, \"F_Measure\": f_measure, \"F_Micro\": f_micro, \"F_Macro\": f_macro,\n",
    "            \"Confusion Matrix\": confusion_matrix} \n",
    "    if show:\n",
    "        show_metrics(performance_metrics)\n",
    "\n",
    "    return performance_metrics"
   ]
  },
  {
   "cell_type": "markdown",
   "metadata": {},
   "source": [
    "### Data pre-processing"
   ]
  },
  {
   "cell_type": "code",
   "execution_count": 17,
   "metadata": {
    "ExecuteTime": {
     "end_time": "2024-06-03T14:27:51.946504100Z",
     "start_time": "2024-06-03T14:27:51.934503900Z"
    }
   },
   "outputs": [],
   "source": [
    "data_free = df_free_all.loc[:,df_free_all.columns.difference(['user_index','answer','emotionIndex','userId','textIndex','TotTime','text_index','idx_start','idx_end','sentence'])]\n",
    "label_free = df_free_all.emotionIndex.map({'N':0,'H':1,'C':2,'S':3,'A':4})"
   ]
  },
  {
   "cell_type": "code",
   "execution_count": 18,
   "metadata": {
    "ExecuteTime": {
     "end_time": "2024-06-03T14:27:55.302507900Z",
     "start_time": "2024-06-03T14:27:55.285509Z"
    }
   },
   "outputs": [],
   "source": [
    "# convert categorical features into numerical features\n",
    "data_free.gender = (data_free.gender == 'Male')\n",
    "data_free.ageRange = data_free.ageRange.map({'16-19':1,'20-29':2,'30-39':3,'>=50':4})\n",
    "data_free.degree = data_free.degree.map({'High School':1, 'College/University':2})\n",
    "data_free.pcTimeAverage = data_free.pcTimeAverage.map({'less than an hour per day':1, 'between 1 hour and 3 hours per day':2, 'More than 3 hours per day':3})\n",
    "data_free.status = data_free.status.map({'Student':1, 'Professional':2})\n",
    "data_free.typeWith = data_free.typeWith.map({'1 hand':1, '2 hands':2})\n",
    "data_free = pd.get_dummies(data_free, columns=['country','typistType'])\n",
    "data_free = data_free.fillna(-1)"
   ]
  },
  {
   "cell_type": "code",
   "execution_count": 19,
   "metadata": {
    "ExecuteTime": {
     "end_time": "2024-06-03T14:27:57.582575Z",
     "start_time": "2024-06-03T14:27:57.567572800Z"
    }
   },
   "outputs": [],
   "source": [
    "data_free_filter = data_free\n",
    "#label_free = (label_free == 1)  ## for binary models"
   ]
  },
  {
   "cell_type": "markdown",
   "metadata": {},
   "source": [
    "### Statistical analysis"
   ]
  },
  {
   "cell_type": "code",
   "execution_count": 20,
   "metadata": {
    "ExecuteTime": {
     "end_time": "2024-06-03T14:27:59.752750Z",
     "start_time": "2024-06-03T14:27:59.697749700Z"
    }
   },
   "outputs": [
    {
     "ename": "AttributeError",
     "evalue": "'DataFrame' object has no attribute 'D1U2_mean'",
     "output_type": "error",
     "traceback": [
      "\u001B[1;31m---------------------------------------------------------------------------\u001B[0m",
      "\u001B[1;31mAttributeError\u001B[0m                            Traceback (most recent call last)",
      "\u001B[1;32m~\\AppData\\Local\\Temp\\ipykernel_46792\\2512359795.py\u001B[0m in \u001B[0;36m?\u001B[1;34m()\u001B[0m\n\u001B[1;32m----> 1\u001B[1;33m \u001B[0mdata_free\u001B[0m\u001B[1;33m.\u001B[0m\u001B[0mD1U2_mean\u001B[0m\u001B[1;33m.\u001B[0m\u001B[0mdescribe\u001B[0m\u001B[1;33m(\u001B[0m\u001B[1;33m)\u001B[0m\u001B[1;33m\u001B[0m\u001B[1;33m\u001B[0m\u001B[0m\n\u001B[0m",
      "\u001B[1;32m~\\Documents\\EmotionRecognitionKeystrokeDynamics\\venv\\lib\\site-packages\\pandas\\core\\generic.py\u001B[0m in \u001B[0;36m?\u001B[1;34m(self, name)\u001B[0m\n\u001B[0;32m   5483\u001B[0m             \u001B[1;32mand\u001B[0m \u001B[0mname\u001B[0m \u001B[1;32mnot\u001B[0m \u001B[1;32min\u001B[0m \u001B[0mself\u001B[0m\u001B[1;33m.\u001B[0m\u001B[0m_accessors\u001B[0m\u001B[1;33m\u001B[0m\u001B[1;33m\u001B[0m\u001B[0m\n\u001B[0;32m   5484\u001B[0m             \u001B[1;32mand\u001B[0m \u001B[0mself\u001B[0m\u001B[1;33m.\u001B[0m\u001B[0m_info_axis\u001B[0m\u001B[1;33m.\u001B[0m\u001B[0m_can_hold_identifiers_and_holds_name\u001B[0m\u001B[1;33m(\u001B[0m\u001B[0mname\u001B[0m\u001B[1;33m)\u001B[0m\u001B[1;33m\u001B[0m\u001B[1;33m\u001B[0m\u001B[0m\n\u001B[0;32m   5485\u001B[0m         ):\n\u001B[0;32m   5486\u001B[0m             \u001B[1;32mreturn\u001B[0m \u001B[0mself\u001B[0m\u001B[1;33m[\u001B[0m\u001B[0mname\u001B[0m\u001B[1;33m]\u001B[0m\u001B[1;33m\u001B[0m\u001B[1;33m\u001B[0m\u001B[0m\n\u001B[1;32m-> 5487\u001B[1;33m         \u001B[1;32mreturn\u001B[0m \u001B[0mobject\u001B[0m\u001B[1;33m.\u001B[0m\u001B[0m__getattribute__\u001B[0m\u001B[1;33m(\u001B[0m\u001B[0mself\u001B[0m\u001B[1;33m,\u001B[0m \u001B[0mname\u001B[0m\u001B[1;33m)\u001B[0m\u001B[1;33m\u001B[0m\u001B[1;33m\u001B[0m\u001B[0m\n\u001B[0m",
      "\u001B[1;31mAttributeError\u001B[0m: 'DataFrame' object has no attribute 'D1U2_mean'"
     ]
    }
   ],
   "source": [
    "data_free.D1U2_mean.describe()"
   ]
  },
  {
   "cell_type": "code",
   "execution_count": 21,
   "metadata": {
    "ExecuteTime": {
     "end_time": "2024-06-03T14:28:07.674900600Z",
     "start_time": "2024-06-03T14:28:07.630900900Z"
    }
   },
   "outputs": [
    {
     "ename": "AttributeError",
     "evalue": "'DataFrame' object has no attribute 'D1U2_mean'",
     "output_type": "error",
     "traceback": [
      "\u001B[1;31m---------------------------------------------------------------------------\u001B[0m",
      "\u001B[1;31mAttributeError\u001B[0m                            Traceback (most recent call last)",
      "\u001B[1;32m~\\AppData\\Local\\Temp\\ipykernel_46792\\799383928.py\u001B[0m in \u001B[0;36m?\u001B[1;34m()\u001B[0m\n\u001B[0;32m      3\u001B[0m \u001B[1;31m# only for demographic features\u001B[0m\u001B[1;33m\u001B[0m\u001B[1;33m\u001B[0m\u001B[0m\n\u001B[1;32m----> 4\u001B[1;33m \u001B[0mpersonal_col\u001B[0m \u001B[1;33m=\u001B[0m \u001B[1;33m[\u001B[0m\u001B[1;34m'typeWith'\u001B[0m\u001B[1;33m,\u001B[0m\u001B[1;34m'gender'\u001B[0m\u001B[1;33m,\u001B[0m\u001B[1;34m'ageRange'\u001B[0m\u001B[1;33m,\u001B[0m\u001B[1;34m'degree'\u001B[0m\u001B[1;33m,\u001B[0m\u001B[1;34m'pcTimeAverage'\u001B[0m\u001B[1;33m,\u001B[0m\u001B[1;34m'status'\u001B[0m\u001B[1;33m,\u001B[0m\u001B[1;34m'country'\u001B[0m\u001B[1;33m,\u001B[0m\u001B[1;34m'typistType'\u001B[0m\u001B[1;33m]\u001B[0m\u001B[1;33m\u001B[0m\u001B[1;33m\u001B[0m\u001B[0m\n\u001B[0m\u001B[0;32m      5\u001B[0m \u001B[1;32mfor\u001B[0m \u001B[0mcol\u001B[0m \u001B[1;32min\u001B[0m \u001B[0mpersonal_col\u001B[0m\u001B[1;33m:\u001B[0m\u001B[1;33m\u001B[0m\u001B[1;33m\u001B[0m\u001B[0m\n\u001B[0;32m      6\u001B[0m     anova = stats.f_oneway(data_free.loc[data_free.D1U2_mean < 372, col],\n\u001B[0;32m      7\u001B[0m                \u001B[0mdata_free\u001B[0m\u001B[1;33m.\u001B[0m\u001B[0mloc\u001B[0m\u001B[1;33m[\u001B[0m\u001B[1;33m(\u001B[0m\u001B[0mdata_free\u001B[0m\u001B[1;33m.\u001B[0m\u001B[0mD1U2_mean\u001B[0m \u001B[1;33m>=\u001B[0m \u001B[1;36m372\u001B[0m\u001B[1;33m)\u001B[0m \u001B[1;33m&\u001B[0m \u001B[1;33m(\u001B[0m\u001B[0mdata_free\u001B[0m\u001B[1;33m.\u001B[0m\u001B[0mD1U2_mean\u001B[0m \u001B[1;33m<\u001B[0m \u001B[1;36m446\u001B[0m\u001B[1;33m)\u001B[0m\u001B[1;33m,\u001B[0m \u001B[0mcol\u001B[0m\u001B[1;33m]\u001B[0m\u001B[1;33m,\u001B[0m\u001B[1;33m\u001B[0m\u001B[1;33m\u001B[0m\u001B[0m\n",
      "\u001B[1;32m~\\Documents\\EmotionRecognitionKeystrokeDynamics\\venv\\lib\\site-packages\\pandas\\core\\generic.py\u001B[0m in \u001B[0;36m?\u001B[1;34m(self, name)\u001B[0m\n\u001B[0;32m   5483\u001B[0m             \u001B[1;32mand\u001B[0m \u001B[0mname\u001B[0m \u001B[1;32mnot\u001B[0m \u001B[1;32min\u001B[0m \u001B[0mself\u001B[0m\u001B[1;33m.\u001B[0m\u001B[0m_accessors\u001B[0m\u001B[1;33m\u001B[0m\u001B[1;33m\u001B[0m\u001B[0m\n\u001B[0;32m   5484\u001B[0m             \u001B[1;32mand\u001B[0m \u001B[0mself\u001B[0m\u001B[1;33m.\u001B[0m\u001B[0m_info_axis\u001B[0m\u001B[1;33m.\u001B[0m\u001B[0m_can_hold_identifiers_and_holds_name\u001B[0m\u001B[1;33m(\u001B[0m\u001B[0mname\u001B[0m\u001B[1;33m)\u001B[0m\u001B[1;33m\u001B[0m\u001B[1;33m\u001B[0m\u001B[0m\n\u001B[0;32m   5485\u001B[0m         ):\n\u001B[0;32m   5486\u001B[0m             \u001B[1;32mreturn\u001B[0m \u001B[0mself\u001B[0m\u001B[1;33m[\u001B[0m\u001B[0mname\u001B[0m\u001B[1;33m]\u001B[0m\u001B[1;33m\u001B[0m\u001B[1;33m\u001B[0m\u001B[0m\n\u001B[1;32m-> 5487\u001B[1;33m         \u001B[1;32mreturn\u001B[0m \u001B[0mobject\u001B[0m\u001B[1;33m.\u001B[0m\u001B[0m__getattribute__\u001B[0m\u001B[1;33m(\u001B[0m\u001B[0mself\u001B[0m\u001B[1;33m,\u001B[0m \u001B[0mname\u001B[0m\u001B[1;33m)\u001B[0m\u001B[1;33m\u001B[0m\u001B[1;33m\u001B[0m\u001B[0m\n\u001B[0m",
      "\u001B[1;31mAttributeError\u001B[0m: 'DataFrame' object has no attribute 'D1U2_mean'"
     ]
    }
   ],
   "source": [
    "# only for demographic features\n",
    "personal_col = ['typeWith','gender','ageRange','degree','pcTimeAverage','status','country','typistType']\n",
    "for col in personal_col:\n",
    "    anova = stats.f_oneway(data_free.loc[data_free.D1U2_mean < 372, col],\n",
    "               data_free.loc[(data_free.D1U2_mean >= 372) & (data_free.D1U2_mean < 446), col],\n",
    "               data_free.loc[(data_free.D1U2_mean >= 446) & (data_free.D1U2_mean < 574), col],\n",
    "               data_free.loc[data_free.D1U2_mean >= 574, col])\n",
    "    print(col + ': ' + str(anova))"
   ]
  },
  {
   "cell_type": "markdown",
   "metadata": {},
   "source": [
    "### Multi-class models"
   ]
  },
  {
   "cell_type": "code",
   "execution_count": 22,
   "metadata": {
    "ExecuteTime": {
     "end_time": "2024-06-03T14:28:23.673203500Z",
     "start_time": "2024-06-03T14:28:23.661203600Z"
    }
   },
   "outputs": [],
   "source": [
    "#define classification models\n",
    "classifiers_name = ['LogReg','RF','XGB','SVM','MLP']\n",
    "\n",
    "classifiers = [\n",
    "    LogisticRegression(multi_class='auto', max_iter=500, solver='newton-cg', class_weight={0:0.1,1:1,2:1,3:1,4:1}), \n",
    "    RandomForestClassifier(n_estimators=200, max_depth=5, class_weight={0:0.1,1:1,2:1,3:1,4:1}),\n",
    "    xgb.XGBClassifier(objective='multi:softmax', eval_metric='mlogloss',use_label_encoder=False),\n",
    "    SVC(kernel='rbf',decision_function_shape='ovr', probability=True),#, class_weight={0:0.1,1:1,2:1,3:1,4:1}),\n",
    "    MLPClassifier(alpha=1, max_iter=500)]"
   ]
  },
  {
   "cell_type": "code",
   "execution_count": 23,
   "metadata": {
    "ExecuteTime": {
     "end_time": "2024-06-03T14:28:48.495273Z",
     "start_time": "2024-06-03T14:28:26.158258800Z"
    }
   },
   "outputs": [
    {
     "name": "stdout",
     "output_type": "stream",
     "text": [
      "LogReg\n"
     ]
    },
    {
     "name": "stderr",
     "output_type": "stream",
     "text": [
      "C:\\Users\\Lara\\Documents\\EmotionRecognitionKeystrokeDynamics\\venv\\lib\\site-packages\\sklearn\\linear_model\\_logistic.py:1247: FutureWarning: 'multi_class' was deprecated in version 1.5 and will be removed in 1.7. From then on, it will always use 'multinomial'. Leave it to its default value to avoid this warning.\n",
      "  warnings.warn(\n",
      "C:\\Users\\Lara\\Documents\\EmotionRecognitionKeystrokeDynamics\\venv\\lib\\site-packages\\sklearn\\linear_model\\_logistic.py:1247: FutureWarning: 'multi_class' was deprecated in version 1.5 and will be removed in 1.7. From then on, it will always use 'multinomial'. Leave it to its default value to avoid this warning.\n",
      "  warnings.warn(\n",
      "C:\\Users\\Lara\\Documents\\EmotionRecognitionKeystrokeDynamics\\venv\\lib\\site-packages\\sklearn\\linear_model\\_logistic.py:1247: FutureWarning: 'multi_class' was deprecated in version 1.5 and will be removed in 1.7. From then on, it will always use 'multinomial'. Leave it to its default value to avoid this warning.\n",
      "  warnings.warn(\n",
      "C:\\Users\\Lara\\Documents\\EmotionRecognitionKeystrokeDynamics\\venv\\lib\\site-packages\\sklearn\\linear_model\\_logistic.py:1247: FutureWarning: 'multi_class' was deprecated in version 1.5 and will be removed in 1.7. From then on, it will always use 'multinomial'. Leave it to its default value to avoid this warning.\n",
      "  warnings.warn(\n",
      "C:\\Users\\Lara\\Documents\\EmotionRecognitionKeystrokeDynamics\\venv\\lib\\site-packages\\sklearn\\linear_model\\_logistic.py:1247: FutureWarning: 'multi_class' was deprecated in version 1.5 and will be removed in 1.7. From then on, it will always use 'multinomial'. Leave it to its default value to avoid this warning.\n",
      "  warnings.warn(\n",
      "C:\\Users\\Lara\\Documents\\EmotionRecognitionKeystrokeDynamics\\venv\\lib\\site-packages\\sklearn\\linear_model\\_logistic.py:1247: FutureWarning: 'multi_class' was deprecated in version 1.5 and will be removed in 1.7. From then on, it will always use 'multinomial'. Leave it to its default value to avoid this warning.\n",
      "  warnings.warn(\n",
      "C:\\Users\\Lara\\Documents\\EmotionRecognitionKeystrokeDynamics\\venv\\lib\\site-packages\\sklearn\\linear_model\\_logistic.py:1247: FutureWarning: 'multi_class' was deprecated in version 1.5 and will be removed in 1.7. From then on, it will always use 'multinomial'. Leave it to its default value to avoid this warning.\n",
      "  warnings.warn(\n",
      "C:\\Users\\Lara\\Documents\\EmotionRecognitionKeystrokeDynamics\\venv\\lib\\site-packages\\sklearn\\linear_model\\_logistic.py:1247: FutureWarning: 'multi_class' was deprecated in version 1.5 and will be removed in 1.7. From then on, it will always use 'multinomial'. Leave it to its default value to avoid this warning.\n",
      "  warnings.warn(\n",
      "C:\\Users\\Lara\\Documents\\EmotionRecognitionKeystrokeDynamics\\venv\\lib\\site-packages\\sklearn\\linear_model\\_logistic.py:1247: FutureWarning: 'multi_class' was deprecated in version 1.5 and will be removed in 1.7. From then on, it will always use 'multinomial'. Leave it to its default value to avoid this warning.\n",
      "  warnings.warn(\n",
      "C:\\Users\\Lara\\Documents\\EmotionRecognitionKeystrokeDynamics\\venv\\lib\\site-packages\\sklearn\\linear_model\\_logistic.py:1247: FutureWarning: 'multi_class' was deprecated in version 1.5 and will be removed in 1.7. From then on, it will always use 'multinomial'. Leave it to its default value to avoid this warning.\n",
      "  warnings.warn(\n",
      "C:\\Users\\Lara\\Documents\\EmotionRecognitionKeystrokeDynamics\\venv\\lib\\site-packages\\sklearn\\linear_model\\_logistic.py:1247: FutureWarning: 'multi_class' was deprecated in version 1.5 and will be removed in 1.7. From then on, it will always use 'multinomial'. Leave it to its default value to avoid this warning.\n",
      "  warnings.warn(\n",
      "C:\\Users\\Lara\\Documents\\EmotionRecognitionKeystrokeDynamics\\venv\\lib\\site-packages\\sklearn\\linear_model\\_logistic.py:1247: FutureWarning: 'multi_class' was deprecated in version 1.5 and will be removed in 1.7. From then on, it will always use 'multinomial'. Leave it to its default value to avoid this warning.\n",
      "  warnings.warn(\n",
      "C:\\Users\\Lara\\Documents\\EmotionRecognitionKeystrokeDynamics\\venv\\lib\\site-packages\\sklearn\\linear_model\\_logistic.py:1247: FutureWarning: 'multi_class' was deprecated in version 1.5 and will be removed in 1.7. From then on, it will always use 'multinomial'. Leave it to its default value to avoid this warning.\n",
      "  warnings.warn(\n",
      "C:\\Users\\Lara\\Documents\\EmotionRecognitionKeystrokeDynamics\\venv\\lib\\site-packages\\sklearn\\linear_model\\_logistic.py:1247: FutureWarning: 'multi_class' was deprecated in version 1.5 and will be removed in 1.7. From then on, it will always use 'multinomial'. Leave it to its default value to avoid this warning.\n",
      "  warnings.warn(\n",
      "C:\\Users\\Lara\\Documents\\EmotionRecognitionKeystrokeDynamics\\venv\\lib\\site-packages\\sklearn\\linear_model\\_logistic.py:1247: FutureWarning: 'multi_class' was deprecated in version 1.5 and will be removed in 1.7. From then on, it will always use 'multinomial'. Leave it to its default value to avoid this warning.\n",
      "  warnings.warn(\n",
      "C:\\Users\\Lara\\Documents\\EmotionRecognitionKeystrokeDynamics\\venv\\lib\\site-packages\\sklearn\\linear_model\\_logistic.py:1247: FutureWarning: 'multi_class' was deprecated in version 1.5 and will be removed in 1.7. From then on, it will always use 'multinomial'. Leave it to its default value to avoid this warning.\n",
      "  warnings.warn(\n",
      "C:\\Users\\Lara\\Documents\\EmotionRecognitionKeystrokeDynamics\\venv\\lib\\site-packages\\sklearn\\linear_model\\_logistic.py:1247: FutureWarning: 'multi_class' was deprecated in version 1.5 and will be removed in 1.7. From then on, it will always use 'multinomial'. Leave it to its default value to avoid this warning.\n",
      "  warnings.warn(\n",
      "C:\\Users\\Lara\\Documents\\EmotionRecognitionKeystrokeDynamics\\venv\\lib\\site-packages\\sklearn\\linear_model\\_logistic.py:1247: FutureWarning: 'multi_class' was deprecated in version 1.5 and will be removed in 1.7. From then on, it will always use 'multinomial'. Leave it to its default value to avoid this warning.\n",
      "  warnings.warn(\n",
      "C:\\Users\\Lara\\Documents\\EmotionRecognitionKeystrokeDynamics\\venv\\lib\\site-packages\\sklearn\\linear_model\\_logistic.py:1247: FutureWarning: 'multi_class' was deprecated in version 1.5 and will be removed in 1.7. From then on, it will always use 'multinomial'. Leave it to its default value to avoid this warning.\n",
      "  warnings.warn(\n",
      "C:\\Users\\Lara\\Documents\\EmotionRecognitionKeystrokeDynamics\\venv\\lib\\site-packages\\sklearn\\linear_model\\_logistic.py:1247: FutureWarning: 'multi_class' was deprecated in version 1.5 and will be removed in 1.7. From then on, it will always use 'multinomial'. Leave it to its default value to avoid this warning.\n",
      "  warnings.warn(\n",
      "C:\\Users\\Lara\\Documents\\EmotionRecognitionKeystrokeDynamics\\venv\\lib\\site-packages\\sklearn\\linear_model\\_logistic.py:1247: FutureWarning: 'multi_class' was deprecated in version 1.5 and will be removed in 1.7. From then on, it will always use 'multinomial'. Leave it to its default value to avoid this warning.\n",
      "  warnings.warn(\n",
      "C:\\Users\\Lara\\Documents\\EmotionRecognitionKeystrokeDynamics\\venv\\lib\\site-packages\\sklearn\\linear_model\\_logistic.py:1247: FutureWarning: 'multi_class' was deprecated in version 1.5 and will be removed in 1.7. From then on, it will always use 'multinomial'. Leave it to its default value to avoid this warning.\n",
      "  warnings.warn(\n",
      "C:\\Users\\Lara\\Documents\\EmotionRecognitionKeystrokeDynamics\\venv\\lib\\site-packages\\sklearn\\linear_model\\_logistic.py:1247: FutureWarning: 'multi_class' was deprecated in version 1.5 and will be removed in 1.7. From then on, it will always use 'multinomial'. Leave it to its default value to avoid this warning.\n",
      "  warnings.warn(\n",
      "C:\\Users\\Lara\\Documents\\EmotionRecognitionKeystrokeDynamics\\venv\\lib\\site-packages\\sklearn\\linear_model\\_logistic.py:1247: FutureWarning: 'multi_class' was deprecated in version 1.5 and will be removed in 1.7. From then on, it will always use 'multinomial'. Leave it to its default value to avoid this warning.\n",
      "  warnings.warn(\n",
      "C:\\Users\\Lara\\Documents\\EmotionRecognitionKeystrokeDynamics\\venv\\lib\\site-packages\\sklearn\\linear_model\\_logistic.py:1247: FutureWarning: 'multi_class' was deprecated in version 1.5 and will be removed in 1.7. From then on, it will always use 'multinomial'. Leave it to its default value to avoid this warning.\n",
      "  warnings.warn(\n",
      "C:\\Users\\Lara\\Documents\\EmotionRecognitionKeystrokeDynamics\\venv\\lib\\site-packages\\sklearn\\linear_model\\_logistic.py:1247: FutureWarning: 'multi_class' was deprecated in version 1.5 and will be removed in 1.7. From then on, it will always use 'multinomial'. Leave it to its default value to avoid this warning.\n",
      "  warnings.warn(\n",
      "C:\\Users\\Lara\\Documents\\EmotionRecognitionKeystrokeDynamics\\venv\\lib\\site-packages\\sklearn\\linear_model\\_logistic.py:1247: FutureWarning: 'multi_class' was deprecated in version 1.5 and will be removed in 1.7. From then on, it will always use 'multinomial'. Leave it to its default value to avoid this warning.\n",
      "  warnings.warn(\n",
      "C:\\Users\\Lara\\Documents\\EmotionRecognitionKeystrokeDynamics\\venv\\lib\\site-packages\\sklearn\\linear_model\\_logistic.py:1247: FutureWarning: 'multi_class' was deprecated in version 1.5 and will be removed in 1.7. From then on, it will always use 'multinomial'. Leave it to its default value to avoid this warning.\n",
      "  warnings.warn(\n",
      "C:\\Users\\Lara\\Documents\\EmotionRecognitionKeystrokeDynamics\\venv\\lib\\site-packages\\sklearn\\linear_model\\_logistic.py:1247: FutureWarning: 'multi_class' was deprecated in version 1.5 and will be removed in 1.7. From then on, it will always use 'multinomial'. Leave it to its default value to avoid this warning.\n",
      "  warnings.warn(\n",
      "C:\\Users\\Lara\\Documents\\EmotionRecognitionKeystrokeDynamics\\venv\\lib\\site-packages\\sklearn\\linear_model\\_logistic.py:1247: FutureWarning: 'multi_class' was deprecated in version 1.5 and will be removed in 1.7. From then on, it will always use 'multinomial'. Leave it to its default value to avoid this warning.\n",
      "  warnings.warn(\n",
      "C:\\Users\\Lara\\Documents\\EmotionRecognitionKeystrokeDynamics\\venv\\lib\\site-packages\\sklearn\\linear_model\\_logistic.py:1247: FutureWarning: 'multi_class' was deprecated in version 1.5 and will be removed in 1.7. From then on, it will always use 'multinomial'. Leave it to its default value to avoid this warning.\n",
      "  warnings.warn(\n",
      "C:\\Users\\Lara\\Documents\\EmotionRecognitionKeystrokeDynamics\\venv\\lib\\site-packages\\sklearn\\linear_model\\_logistic.py:1247: FutureWarning: 'multi_class' was deprecated in version 1.5 and will be removed in 1.7. From then on, it will always use 'multinomial'. Leave it to its default value to avoid this warning.\n",
      "  warnings.warn(\n",
      "C:\\Users\\Lara\\Documents\\EmotionRecognitionKeystrokeDynamics\\venv\\lib\\site-packages\\sklearn\\linear_model\\_logistic.py:1247: FutureWarning: 'multi_class' was deprecated in version 1.5 and will be removed in 1.7. From then on, it will always use 'multinomial'. Leave it to its default value to avoid this warning.\n",
      "  warnings.warn(\n",
      "C:\\Users\\Lara\\Documents\\EmotionRecognitionKeystrokeDynamics\\venv\\lib\\site-packages\\sklearn\\linear_model\\_logistic.py:1247: FutureWarning: 'multi_class' was deprecated in version 1.5 and will be removed in 1.7. From then on, it will always use 'multinomial'. Leave it to its default value to avoid this warning.\n",
      "  warnings.warn(\n",
      "C:\\Users\\Lara\\Documents\\EmotionRecognitionKeystrokeDynamics\\venv\\lib\\site-packages\\sklearn\\linear_model\\_logistic.py:1247: FutureWarning: 'multi_class' was deprecated in version 1.5 and will be removed in 1.7. From then on, it will always use 'multinomial'. Leave it to its default value to avoid this warning.\n",
      "  warnings.warn(\n",
      "C:\\Users\\Lara\\Documents\\EmotionRecognitionKeystrokeDynamics\\venv\\lib\\site-packages\\sklearn\\linear_model\\_logistic.py:1247: FutureWarning: 'multi_class' was deprecated in version 1.5 and will be removed in 1.7. From then on, it will always use 'multinomial'. Leave it to its default value to avoid this warning.\n",
      "  warnings.warn(\n",
      "C:\\Users\\Lara\\Documents\\EmotionRecognitionKeystrokeDynamics\\venv\\lib\\site-packages\\sklearn\\linear_model\\_logistic.py:1247: FutureWarning: 'multi_class' was deprecated in version 1.5 and will be removed in 1.7. From then on, it will always use 'multinomial'. Leave it to its default value to avoid this warning.\n",
      "  warnings.warn(\n",
      "C:\\Users\\Lara\\Documents\\EmotionRecognitionKeystrokeDynamics\\venv\\lib\\site-packages\\sklearn\\linear_model\\_logistic.py:1247: FutureWarning: 'multi_class' was deprecated in version 1.5 and will be removed in 1.7. From then on, it will always use 'multinomial'. Leave it to its default value to avoid this warning.\n",
      "  warnings.warn(\n",
      "C:\\Users\\Lara\\Documents\\EmotionRecognitionKeystrokeDynamics\\venv\\lib\\site-packages\\sklearn\\linear_model\\_logistic.py:1247: FutureWarning: 'multi_class' was deprecated in version 1.5 and will be removed in 1.7. From then on, it will always use 'multinomial'. Leave it to its default value to avoid this warning.\n",
      "  warnings.warn(\n",
      "C:\\Users\\Lara\\Documents\\EmotionRecognitionKeystrokeDynamics\\venv\\lib\\site-packages\\sklearn\\linear_model\\_logistic.py:1247: FutureWarning: 'multi_class' was deprecated in version 1.5 and will be removed in 1.7. From then on, it will always use 'multinomial'. Leave it to its default value to avoid this warning.\n",
      "  warnings.warn(\n",
      "C:\\Users\\Lara\\Documents\\EmotionRecognitionKeystrokeDynamics\\venv\\lib\\site-packages\\sklearn\\linear_model\\_logistic.py:1247: FutureWarning: 'multi_class' was deprecated in version 1.5 and will be removed in 1.7. From then on, it will always use 'multinomial'. Leave it to its default value to avoid this warning.\n",
      "  warnings.warn(\n",
      "C:\\Users\\Lara\\Documents\\EmotionRecognitionKeystrokeDynamics\\venv\\lib\\site-packages\\sklearn\\linear_model\\_logistic.py:1247: FutureWarning: 'multi_class' was deprecated in version 1.5 and will be removed in 1.7. From then on, it will always use 'multinomial'. Leave it to its default value to avoid this warning.\n",
      "  warnings.warn(\n",
      "C:\\Users\\Lara\\Documents\\EmotionRecognitionKeystrokeDynamics\\venv\\lib\\site-packages\\sklearn\\linear_model\\_logistic.py:1247: FutureWarning: 'multi_class' was deprecated in version 1.5 and will be removed in 1.7. From then on, it will always use 'multinomial'. Leave it to its default value to avoid this warning.\n",
      "  warnings.warn(\n",
      "C:\\Users\\Lara\\Documents\\EmotionRecognitionKeystrokeDynamics\\venv\\lib\\site-packages\\sklearn\\linear_model\\_logistic.py:1247: FutureWarning: 'multi_class' was deprecated in version 1.5 and will be removed in 1.7. From then on, it will always use 'multinomial'. Leave it to its default value to avoid this warning.\n",
      "  warnings.warn(\n",
      "C:\\Users\\Lara\\Documents\\EmotionRecognitionKeystrokeDynamics\\venv\\lib\\site-packages\\sklearn\\linear_model\\_logistic.py:1247: FutureWarning: 'multi_class' was deprecated in version 1.5 and will be removed in 1.7. From then on, it will always use 'multinomial'. Leave it to its default value to avoid this warning.\n",
      "  warnings.warn(\n",
      "C:\\Users\\Lara\\Documents\\EmotionRecognitionKeystrokeDynamics\\venv\\lib\\site-packages\\sklearn\\linear_model\\_logistic.py:1247: FutureWarning: 'multi_class' was deprecated in version 1.5 and will be removed in 1.7. From then on, it will always use 'multinomial'. Leave it to its default value to avoid this warning.\n",
      "  warnings.warn(\n",
      "C:\\Users\\Lara\\Documents\\EmotionRecognitionKeystrokeDynamics\\venv\\lib\\site-packages\\sklearn\\linear_model\\_logistic.py:1247: FutureWarning: 'multi_class' was deprecated in version 1.5 and will be removed in 1.7. From then on, it will always use 'multinomial'. Leave it to its default value to avoid this warning.\n",
      "  warnings.warn(\n",
      "C:\\Users\\Lara\\Documents\\EmotionRecognitionKeystrokeDynamics\\venv\\lib\\site-packages\\sklearn\\linear_model\\_logistic.py:1247: FutureWarning: 'multi_class' was deprecated in version 1.5 and will be removed in 1.7. From then on, it will always use 'multinomial'. Leave it to its default value to avoid this warning.\n",
      "  warnings.warn(\n",
      "C:\\Users\\Lara\\Documents\\EmotionRecognitionKeystrokeDynamics\\venv\\lib\\site-packages\\sklearn\\linear_model\\_logistic.py:1247: FutureWarning: 'multi_class' was deprecated in version 1.5 and will be removed in 1.7. From then on, it will always use 'multinomial'. Leave it to its default value to avoid this warning.\n",
      "  warnings.warn(\n",
      "C:\\Users\\Lara\\Documents\\EmotionRecognitionKeystrokeDynamics\\venv\\lib\\site-packages\\sklearn\\linear_model\\_logistic.py:1247: FutureWarning: 'multi_class' was deprecated in version 1.5 and will be removed in 1.7. From then on, it will always use 'multinomial'. Leave it to its default value to avoid this warning.\n",
      "  warnings.warn(\n",
      "C:\\Users\\Lara\\Documents\\EmotionRecognitionKeystrokeDynamics\\venv\\lib\\site-packages\\sklearn\\linear_model\\_logistic.py:1247: FutureWarning: 'multi_class' was deprecated in version 1.5 and will be removed in 1.7. From then on, it will always use 'multinomial'. Leave it to its default value to avoid this warning.\n",
      "  warnings.warn(\n",
      "C:\\Users\\Lara\\Documents\\EmotionRecognitionKeystrokeDynamics\\venv\\lib\\site-packages\\sklearn\\linear_model\\_logistic.py:1247: FutureWarning: 'multi_class' was deprecated in version 1.5 and will be removed in 1.7. From then on, it will always use 'multinomial'. Leave it to its default value to avoid this warning.\n",
      "  warnings.warn(\n",
      "C:\\Users\\Lara\\Documents\\EmotionRecognitionKeystrokeDynamics\\venv\\lib\\site-packages\\sklearn\\linear_model\\_logistic.py:1247: FutureWarning: 'multi_class' was deprecated in version 1.5 and will be removed in 1.7. From then on, it will always use 'multinomial'. Leave it to its default value to avoid this warning.\n",
      "  warnings.warn(\n",
      "C:\\Users\\Lara\\Documents\\EmotionRecognitionKeystrokeDynamics\\venv\\lib\\site-packages\\sklearn\\linear_model\\_logistic.py:1247: FutureWarning: 'multi_class' was deprecated in version 1.5 and will be removed in 1.7. From then on, it will always use 'multinomial'. Leave it to its default value to avoid this warning.\n",
      "  warnings.warn(\n",
      "C:\\Users\\Lara\\Documents\\EmotionRecognitionKeystrokeDynamics\\venv\\lib\\site-packages\\sklearn\\linear_model\\_logistic.py:1247: FutureWarning: 'multi_class' was deprecated in version 1.5 and will be removed in 1.7. From then on, it will always use 'multinomial'. Leave it to its default value to avoid this warning.\n",
      "  warnings.warn(\n",
      "C:\\Users\\Lara\\Documents\\EmotionRecognitionKeystrokeDynamics\\venv\\lib\\site-packages\\sklearn\\linear_model\\_logistic.py:1247: FutureWarning: 'multi_class' was deprecated in version 1.5 and will be removed in 1.7. From then on, it will always use 'multinomial'. Leave it to its default value to avoid this warning.\n",
      "  warnings.warn(\n",
      "C:\\Users\\Lara\\Documents\\EmotionRecognitionKeystrokeDynamics\\venv\\lib\\site-packages\\sklearn\\linear_model\\_logistic.py:1247: FutureWarning: 'multi_class' was deprecated in version 1.5 and will be removed in 1.7. From then on, it will always use 'multinomial'. Leave it to its default value to avoid this warning.\n",
      "  warnings.warn(\n",
      "C:\\Users\\Lara\\Documents\\EmotionRecognitionKeystrokeDynamics\\venv\\lib\\site-packages\\sklearn\\linear_model\\_logistic.py:1247: FutureWarning: 'multi_class' was deprecated in version 1.5 and will be removed in 1.7. From then on, it will always use 'multinomial'. Leave it to its default value to avoid this warning.\n",
      "  warnings.warn(\n",
      "C:\\Users\\Lara\\Documents\\EmotionRecognitionKeystrokeDynamics\\venv\\lib\\site-packages\\sklearn\\linear_model\\_logistic.py:1247: FutureWarning: 'multi_class' was deprecated in version 1.5 and will be removed in 1.7. From then on, it will always use 'multinomial'. Leave it to its default value to avoid this warning.\n",
      "  warnings.warn(\n",
      "C:\\Users\\Lara\\Documents\\EmotionRecognitionKeystrokeDynamics\\venv\\lib\\site-packages\\sklearn\\linear_model\\_logistic.py:1247: FutureWarning: 'multi_class' was deprecated in version 1.5 and will be removed in 1.7. From then on, it will always use 'multinomial'. Leave it to its default value to avoid this warning.\n",
      "  warnings.warn(\n",
      "C:\\Users\\Lara\\Documents\\EmotionRecognitionKeystrokeDynamics\\venv\\lib\\site-packages\\sklearn\\linear_model\\_logistic.py:1247: FutureWarning: 'multi_class' was deprecated in version 1.5 and will be removed in 1.7. From then on, it will always use 'multinomial'. Leave it to its default value to avoid this warning.\n",
      "  warnings.warn(\n",
      "C:\\Users\\Lara\\Documents\\EmotionRecognitionKeystrokeDynamics\\venv\\lib\\site-packages\\sklearn\\linear_model\\_logistic.py:1247: FutureWarning: 'multi_class' was deprecated in version 1.5 and will be removed in 1.7. From then on, it will always use 'multinomial'. Leave it to its default value to avoid this warning.\n",
      "  warnings.warn(\n",
      "C:\\Users\\Lara\\Documents\\EmotionRecognitionKeystrokeDynamics\\venv\\lib\\site-packages\\sklearn\\linear_model\\_logistic.py:1247: FutureWarning: 'multi_class' was deprecated in version 1.5 and will be removed in 1.7. From then on, it will always use 'multinomial'. Leave it to its default value to avoid this warning.\n",
      "  warnings.warn(\n",
      "C:\\Users\\Lara\\Documents\\EmotionRecognitionKeystrokeDynamics\\venv\\lib\\site-packages\\sklearn\\linear_model\\_logistic.py:1247: FutureWarning: 'multi_class' was deprecated in version 1.5 and will be removed in 1.7. From then on, it will always use 'multinomial'. Leave it to its default value to avoid this warning.\n",
      "  warnings.warn(\n",
      "C:\\Users\\Lara\\Documents\\EmotionRecognitionKeystrokeDynamics\\venv\\lib\\site-packages\\sklearn\\linear_model\\_logistic.py:1247: FutureWarning: 'multi_class' was deprecated in version 1.5 and will be removed in 1.7. From then on, it will always use 'multinomial'. Leave it to its default value to avoid this warning.\n",
      "  warnings.warn(\n",
      "C:\\Users\\Lara\\Documents\\EmotionRecognitionKeystrokeDynamics\\venv\\lib\\site-packages\\sklearn\\linear_model\\_logistic.py:1247: FutureWarning: 'multi_class' was deprecated in version 1.5 and will be removed in 1.7. From then on, it will always use 'multinomial'. Leave it to its default value to avoid this warning.\n",
      "  warnings.warn(\n",
      "C:\\Users\\Lara\\Documents\\EmotionRecognitionKeystrokeDynamics\\venv\\lib\\site-packages\\sklearn\\linear_model\\_logistic.py:1247: FutureWarning: 'multi_class' was deprecated in version 1.5 and will be removed in 1.7. From then on, it will always use 'multinomial'. Leave it to its default value to avoid this warning.\n",
      "  warnings.warn(\n",
      "C:\\Users\\Lara\\Documents\\EmotionRecognitionKeystrokeDynamics\\venv\\lib\\site-packages\\sklearn\\linear_model\\_logistic.py:1247: FutureWarning: 'multi_class' was deprecated in version 1.5 and will be removed in 1.7. From then on, it will always use 'multinomial'. Leave it to its default value to avoid this warning.\n",
      "  warnings.warn(\n",
      "C:\\Users\\Lara\\Documents\\EmotionRecognitionKeystrokeDynamics\\venv\\lib\\site-packages\\sklearn\\linear_model\\_logistic.py:1247: FutureWarning: 'multi_class' was deprecated in version 1.5 and will be removed in 1.7. From then on, it will always use 'multinomial'. Leave it to its default value to avoid this warning.\n",
      "  warnings.warn(\n",
      "C:\\Users\\Lara\\Documents\\EmotionRecognitionKeystrokeDynamics\\venv\\lib\\site-packages\\sklearn\\linear_model\\_logistic.py:1247: FutureWarning: 'multi_class' was deprecated in version 1.5 and will be removed in 1.7. From then on, it will always use 'multinomial'. Leave it to its default value to avoid this warning.\n",
      "  warnings.warn(\n",
      "C:\\Users\\Lara\\Documents\\EmotionRecognitionKeystrokeDynamics\\venv\\lib\\site-packages\\sklearn\\linear_model\\_logistic.py:1247: FutureWarning: 'multi_class' was deprecated in version 1.5 and will be removed in 1.7. From then on, it will always use 'multinomial'. Leave it to its default value to avoid this warning.\n",
      "  warnings.warn(\n",
      "C:\\Users\\Lara\\Documents\\EmotionRecognitionKeystrokeDynamics\\venv\\lib\\site-packages\\sklearn\\linear_model\\_logistic.py:1247: FutureWarning: 'multi_class' was deprecated in version 1.5 and will be removed in 1.7. From then on, it will always use 'multinomial'. Leave it to its default value to avoid this warning.\n",
      "  warnings.warn(\n",
      "C:\\Users\\Lara\\Documents\\EmotionRecognitionKeystrokeDynamics\\venv\\lib\\site-packages\\sklearn\\linear_model\\_logistic.py:1247: FutureWarning: 'multi_class' was deprecated in version 1.5 and will be removed in 1.7. From then on, it will always use 'multinomial'. Leave it to its default value to avoid this warning.\n",
      "  warnings.warn(\n",
      "C:\\Users\\Lara\\Documents\\EmotionRecognitionKeystrokeDynamics\\venv\\lib\\site-packages\\sklearn\\linear_model\\_logistic.py:1247: FutureWarning: 'multi_class' was deprecated in version 1.5 and will be removed in 1.7. From then on, it will always use 'multinomial'. Leave it to its default value to avoid this warning.\n",
      "  warnings.warn(\n",
      "C:\\Users\\Lara\\Documents\\EmotionRecognitionKeystrokeDynamics\\venv\\lib\\site-packages\\sklearn\\linear_model\\_logistic.py:1247: FutureWarning: 'multi_class' was deprecated in version 1.5 and will be removed in 1.7. From then on, it will always use 'multinomial'. Leave it to its default value to avoid this warning.\n",
      "  warnings.warn(\n",
      "C:\\Users\\Lara\\Documents\\EmotionRecognitionKeystrokeDynamics\\venv\\lib\\site-packages\\sklearn\\linear_model\\_logistic.py:1247: FutureWarning: 'multi_class' was deprecated in version 1.5 and will be removed in 1.7. From then on, it will always use 'multinomial'. Leave it to its default value to avoid this warning.\n",
      "  warnings.warn(\n",
      "C:\\Users\\Lara\\Documents\\EmotionRecognitionKeystrokeDynamics\\venv\\lib\\site-packages\\sklearn\\linear_model\\_logistic.py:1247: FutureWarning: 'multi_class' was deprecated in version 1.5 and will be removed in 1.7. From then on, it will always use 'multinomial'. Leave it to its default value to avoid this warning.\n",
      "  warnings.warn(\n",
      "C:\\Users\\Lara\\Documents\\EmotionRecognitionKeystrokeDynamics\\venv\\lib\\site-packages\\sklearn\\linear_model\\_logistic.py:1247: FutureWarning: 'multi_class' was deprecated in version 1.5 and will be removed in 1.7. From then on, it will always use 'multinomial'. Leave it to its default value to avoid this warning.\n",
      "  warnings.warn(\n",
      "C:\\Users\\Lara\\Documents\\EmotionRecognitionKeystrokeDynamics\\venv\\lib\\site-packages\\sklearn\\linear_model\\_logistic.py:1247: FutureWarning: 'multi_class' was deprecated in version 1.5 and will be removed in 1.7. From then on, it will always use 'multinomial'. Leave it to its default value to avoid this warning.\n",
      "  warnings.warn(\n",
      "C:\\Users\\Lara\\Documents\\EmotionRecognitionKeystrokeDynamics\\venv\\lib\\site-packages\\sklearn\\linear_model\\_logistic.py:1247: FutureWarning: 'multi_class' was deprecated in version 1.5 and will be removed in 1.7. From then on, it will always use 'multinomial'. Leave it to its default value to avoid this warning.\n",
      "  warnings.warn(\n",
      "C:\\Users\\Lara\\Documents\\EmotionRecognitionKeystrokeDynamics\\venv\\lib\\site-packages\\sklearn\\linear_model\\_logistic.py:1247: FutureWarning: 'multi_class' was deprecated in version 1.5 and will be removed in 1.7. From then on, it will always use 'multinomial'. Leave it to its default value to avoid this warning.\n",
      "  warnings.warn(\n",
      "C:\\Users\\Lara\\Documents\\EmotionRecognitionKeystrokeDynamics\\venv\\lib\\site-packages\\sklearn\\linear_model\\_logistic.py:1247: FutureWarning: 'multi_class' was deprecated in version 1.5 and will be removed in 1.7. From then on, it will always use 'multinomial'. Leave it to its default value to avoid this warning.\n",
      "  warnings.warn(\n",
      "C:\\Users\\Lara\\Documents\\EmotionRecognitionKeystrokeDynamics\\venv\\lib\\site-packages\\sklearn\\linear_model\\_logistic.py:1247: FutureWarning: 'multi_class' was deprecated in version 1.5 and will be removed in 1.7. From then on, it will always use 'multinomial'. Leave it to its default value to avoid this warning.\n",
      "  warnings.warn(\n",
      "C:\\Users\\Lara\\Documents\\EmotionRecognitionKeystrokeDynamics\\venv\\lib\\site-packages\\sklearn\\linear_model\\_logistic.py:1247: FutureWarning: 'multi_class' was deprecated in version 1.5 and will be removed in 1.7. From then on, it will always use 'multinomial'. Leave it to its default value to avoid this warning.\n",
      "  warnings.warn(\n",
      "C:\\Users\\Lara\\Documents\\EmotionRecognitionKeystrokeDynamics\\venv\\lib\\site-packages\\sklearn\\linear_model\\_logistic.py:1247: FutureWarning: 'multi_class' was deprecated in version 1.5 and will be removed in 1.7. From then on, it will always use 'multinomial'. Leave it to its default value to avoid this warning.\n",
      "  warnings.warn(\n",
      "C:\\Users\\Lara\\Documents\\EmotionRecognitionKeystrokeDynamics\\venv\\lib\\site-packages\\sklearn\\linear_model\\_logistic.py:1247: FutureWarning: 'multi_class' was deprecated in version 1.5 and will be removed in 1.7. From then on, it will always use 'multinomial'. Leave it to its default value to avoid this warning.\n",
      "  warnings.warn(\n",
      "C:\\Users\\Lara\\Documents\\EmotionRecognitionKeystrokeDynamics\\venv\\lib\\site-packages\\sklearn\\linear_model\\_logistic.py:1247: FutureWarning: 'multi_class' was deprecated in version 1.5 and will be removed in 1.7. From then on, it will always use 'multinomial'. Leave it to its default value to avoid this warning.\n",
      "  warnings.warn(\n",
      "C:\\Users\\Lara\\Documents\\EmotionRecognitionKeystrokeDynamics\\venv\\lib\\site-packages\\sklearn\\linear_model\\_logistic.py:1247: FutureWarning: 'multi_class' was deprecated in version 1.5 and will be removed in 1.7. From then on, it will always use 'multinomial'. Leave it to its default value to avoid this warning.\n",
      "  warnings.warn(\n",
      "C:\\Users\\Lara\\Documents\\EmotionRecognitionKeystrokeDynamics\\venv\\lib\\site-packages\\sklearn\\linear_model\\_logistic.py:1247: FutureWarning: 'multi_class' was deprecated in version 1.5 and will be removed in 1.7. From then on, it will always use 'multinomial'. Leave it to its default value to avoid this warning.\n",
      "  warnings.warn(\n",
      "C:\\Users\\Lara\\Documents\\EmotionRecognitionKeystrokeDynamics\\venv\\lib\\site-packages\\sklearn\\linear_model\\_logistic.py:1247: FutureWarning: 'multi_class' was deprecated in version 1.5 and will be removed in 1.7. From then on, it will always use 'multinomial'. Leave it to its default value to avoid this warning.\n",
      "  warnings.warn(\n",
      "C:\\Users\\Lara\\Documents\\EmotionRecognitionKeystrokeDynamics\\venv\\lib\\site-packages\\sklearn\\linear_model\\_logistic.py:1247: FutureWarning: 'multi_class' was deprecated in version 1.5 and will be removed in 1.7. From then on, it will always use 'multinomial'. Leave it to its default value to avoid this warning.\n",
      "  warnings.warn(\n",
      "C:\\Users\\Lara\\Documents\\EmotionRecognitionKeystrokeDynamics\\venv\\lib\\site-packages\\sklearn\\linear_model\\_logistic.py:1247: FutureWarning: 'multi_class' was deprecated in version 1.5 and will be removed in 1.7. From then on, it will always use 'multinomial'. Leave it to its default value to avoid this warning.\n",
      "  warnings.warn(\n",
      "C:\\Users\\Lara\\Documents\\EmotionRecognitionKeystrokeDynamics\\venv\\lib\\site-packages\\sklearn\\linear_model\\_logistic.py:1247: FutureWarning: 'multi_class' was deprecated in version 1.5 and will be removed in 1.7. From then on, it will always use 'multinomial'. Leave it to its default value to avoid this warning.\n",
      "  warnings.warn(\n",
      "C:\\Users\\Lara\\Documents\\EmotionRecognitionKeystrokeDynamics\\venv\\lib\\site-packages\\sklearn\\linear_model\\_logistic.py:1247: FutureWarning: 'multi_class' was deprecated in version 1.5 and will be removed in 1.7. From then on, it will always use 'multinomial'. Leave it to its default value to avoid this warning.\n",
      "  warnings.warn(\n",
      "C:\\Users\\Lara\\Documents\\EmotionRecognitionKeystrokeDynamics\\venv\\lib\\site-packages\\sklearn\\linear_model\\_logistic.py:1247: FutureWarning: 'multi_class' was deprecated in version 1.5 and will be removed in 1.7. From then on, it will always use 'multinomial'. Leave it to its default value to avoid this warning.\n",
      "  warnings.warn(\n",
      "C:\\Users\\Lara\\Documents\\EmotionRecognitionKeystrokeDynamics\\venv\\lib\\site-packages\\sklearn\\linear_model\\_logistic.py:1247: FutureWarning: 'multi_class' was deprecated in version 1.5 and will be removed in 1.7. From then on, it will always use 'multinomial'. Leave it to its default value to avoid this warning.\n",
      "  warnings.warn(\n",
      "C:\\Users\\Lara\\Documents\\EmotionRecognitionKeystrokeDynamics\\venv\\lib\\site-packages\\sklearn\\linear_model\\_logistic.py:1247: FutureWarning: 'multi_class' was deprecated in version 1.5 and will be removed in 1.7. From then on, it will always use 'multinomial'. Leave it to its default value to avoid this warning.\n",
      "  warnings.warn(\n",
      "C:\\Users\\Lara\\Documents\\EmotionRecognitionKeystrokeDynamics\\venv\\lib\\site-packages\\sklearn\\linear_model\\_logistic.py:1247: FutureWarning: 'multi_class' was deprecated in version 1.5 and will be removed in 1.7. From then on, it will always use 'multinomial'. Leave it to its default value to avoid this warning.\n",
      "  warnings.warn(\n",
      "C:\\Users\\Lara\\Documents\\EmotionRecognitionKeystrokeDynamics\\venv\\lib\\site-packages\\sklearn\\linear_model\\_logistic.py:1247: FutureWarning: 'multi_class' was deprecated in version 1.5 and will be removed in 1.7. From then on, it will always use 'multinomial'. Leave it to its default value to avoid this warning.\n",
      "  warnings.warn(\n",
      "C:\\Users\\Lara\\Documents\\EmotionRecognitionKeystrokeDynamics\\venv\\lib\\site-packages\\sklearn\\linear_model\\_logistic.py:1247: FutureWarning: 'multi_class' was deprecated in version 1.5 and will be removed in 1.7. From then on, it will always use 'multinomial'. Leave it to its default value to avoid this warning.\n",
      "  warnings.warn(\n"
     ]
    },
    {
     "name": "stdout",
     "output_type": "stream",
     "text": [
      "RF\n",
      "XGB\n",
      "SVM\n",
      "MLP\n"
     ]
    },
    {
     "data": {
      "text/plain": "{'LogReg': [0.15706521739130436, 0.045072303578633274],\n 'RF': [0.171231884057971, 0.08191470505099609],\n 'XGB': [0.3536231884057971, 0.09194906948937653],\n 'SVM': [0.47663043478260875, 0.014525551656087758],\n 'MLP': [0.4336594202898551, 0.09044765010882228]}"
     },
     "execution_count": 23,
     "metadata": {},
     "output_type": "execute_result"
    }
   ],
   "source": [
    "# micro-F1 scores with a 10-fold cross-validation method\n",
    "\n",
    "model_scores_micro = {}\n",
    "for i in range(len(classifiers)):\n",
    "    model_scores_micro[classifiers_name[i]] = []\n",
    "    print(classifiers_name[i])\n",
    "    for j in range(10):\n",
    "        model = classifiers[i]\n",
    "        scores = model_selection.cross_val_score(model, X=data_free_filter, y=label_free, cv=10, n_jobs=1, scoring='f1_micro')\n",
    "        model_scores_micro[classifiers_name[i]] += list(scores)\n",
    "    mean = np.nanmean(model_scores_micro[classifiers_name[i]])\n",
    "    std = np.nanstd(model_scores_micro[classifiers_name[i]])\n",
    "    model_scores_micro[classifiers_name[i]] = [mean,std]\n",
    "\n",
    "model_scores_micro"
   ]
  },
  {
   "cell_type": "code",
   "execution_count": 24,
   "metadata": {
    "ExecuteTime": {
     "end_time": "2024-06-03T14:35:33.936976Z",
     "start_time": "2024-06-03T14:35:11.947980400Z"
    }
   },
   "outputs": [
    {
     "name": "stdout",
     "output_type": "stream",
     "text": [
      "LogReg\n"
     ]
    },
    {
     "name": "stderr",
     "output_type": "stream",
     "text": [
      "C:\\Users\\Lara\\Documents\\EmotionRecognitionKeystrokeDynamics\\venv\\lib\\site-packages\\sklearn\\linear_model\\_logistic.py:1247: FutureWarning: 'multi_class' was deprecated in version 1.5 and will be removed in 1.7. From then on, it will always use 'multinomial'. Leave it to its default value to avoid this warning.\n",
      "  warnings.warn(\n",
      "C:\\Users\\Lara\\Documents\\EmotionRecognitionKeystrokeDynamics\\venv\\lib\\site-packages\\sklearn\\linear_model\\_logistic.py:1247: FutureWarning: 'multi_class' was deprecated in version 1.5 and will be removed in 1.7. From then on, it will always use 'multinomial'. Leave it to its default value to avoid this warning.\n",
      "  warnings.warn(\n",
      "C:\\Users\\Lara\\Documents\\EmotionRecognitionKeystrokeDynamics\\venv\\lib\\site-packages\\sklearn\\linear_model\\_logistic.py:1247: FutureWarning: 'multi_class' was deprecated in version 1.5 and will be removed in 1.7. From then on, it will always use 'multinomial'. Leave it to its default value to avoid this warning.\n",
      "  warnings.warn(\n",
      "C:\\Users\\Lara\\Documents\\EmotionRecognitionKeystrokeDynamics\\venv\\lib\\site-packages\\sklearn\\linear_model\\_logistic.py:1247: FutureWarning: 'multi_class' was deprecated in version 1.5 and will be removed in 1.7. From then on, it will always use 'multinomial'. Leave it to its default value to avoid this warning.\n",
      "  warnings.warn(\n",
      "C:\\Users\\Lara\\Documents\\EmotionRecognitionKeystrokeDynamics\\venv\\lib\\site-packages\\sklearn\\linear_model\\_logistic.py:1247: FutureWarning: 'multi_class' was deprecated in version 1.5 and will be removed in 1.7. From then on, it will always use 'multinomial'. Leave it to its default value to avoid this warning.\n",
      "  warnings.warn(\n",
      "C:\\Users\\Lara\\Documents\\EmotionRecognitionKeystrokeDynamics\\venv\\lib\\site-packages\\sklearn\\linear_model\\_logistic.py:1247: FutureWarning: 'multi_class' was deprecated in version 1.5 and will be removed in 1.7. From then on, it will always use 'multinomial'. Leave it to its default value to avoid this warning.\n",
      "  warnings.warn(\n",
      "C:\\Users\\Lara\\Documents\\EmotionRecognitionKeystrokeDynamics\\venv\\lib\\site-packages\\sklearn\\linear_model\\_logistic.py:1247: FutureWarning: 'multi_class' was deprecated in version 1.5 and will be removed in 1.7. From then on, it will always use 'multinomial'. Leave it to its default value to avoid this warning.\n",
      "  warnings.warn(\n",
      "C:\\Users\\Lara\\Documents\\EmotionRecognitionKeystrokeDynamics\\venv\\lib\\site-packages\\sklearn\\linear_model\\_logistic.py:1247: FutureWarning: 'multi_class' was deprecated in version 1.5 and will be removed in 1.7. From then on, it will always use 'multinomial'. Leave it to its default value to avoid this warning.\n",
      "  warnings.warn(\n",
      "C:\\Users\\Lara\\Documents\\EmotionRecognitionKeystrokeDynamics\\venv\\lib\\site-packages\\sklearn\\linear_model\\_logistic.py:1247: FutureWarning: 'multi_class' was deprecated in version 1.5 and will be removed in 1.7. From then on, it will always use 'multinomial'. Leave it to its default value to avoid this warning.\n",
      "  warnings.warn(\n",
      "C:\\Users\\Lara\\Documents\\EmotionRecognitionKeystrokeDynamics\\venv\\lib\\site-packages\\sklearn\\linear_model\\_logistic.py:1247: FutureWarning: 'multi_class' was deprecated in version 1.5 and will be removed in 1.7. From then on, it will always use 'multinomial'. Leave it to its default value to avoid this warning.\n",
      "  warnings.warn(\n",
      "C:\\Users\\Lara\\Documents\\EmotionRecognitionKeystrokeDynamics\\venv\\lib\\site-packages\\sklearn\\linear_model\\_logistic.py:1247: FutureWarning: 'multi_class' was deprecated in version 1.5 and will be removed in 1.7. From then on, it will always use 'multinomial'. Leave it to its default value to avoid this warning.\n",
      "  warnings.warn(\n",
      "C:\\Users\\Lara\\Documents\\EmotionRecognitionKeystrokeDynamics\\venv\\lib\\site-packages\\sklearn\\linear_model\\_logistic.py:1247: FutureWarning: 'multi_class' was deprecated in version 1.5 and will be removed in 1.7. From then on, it will always use 'multinomial'. Leave it to its default value to avoid this warning.\n",
      "  warnings.warn(\n",
      "C:\\Users\\Lara\\Documents\\EmotionRecognitionKeystrokeDynamics\\venv\\lib\\site-packages\\sklearn\\linear_model\\_logistic.py:1247: FutureWarning: 'multi_class' was deprecated in version 1.5 and will be removed in 1.7. From then on, it will always use 'multinomial'. Leave it to its default value to avoid this warning.\n",
      "  warnings.warn(\n",
      "C:\\Users\\Lara\\Documents\\EmotionRecognitionKeystrokeDynamics\\venv\\lib\\site-packages\\sklearn\\linear_model\\_logistic.py:1247: FutureWarning: 'multi_class' was deprecated in version 1.5 and will be removed in 1.7. From then on, it will always use 'multinomial'. Leave it to its default value to avoid this warning.\n",
      "  warnings.warn(\n",
      "C:\\Users\\Lara\\Documents\\EmotionRecognitionKeystrokeDynamics\\venv\\lib\\site-packages\\sklearn\\linear_model\\_logistic.py:1247: FutureWarning: 'multi_class' was deprecated in version 1.5 and will be removed in 1.7. From then on, it will always use 'multinomial'. Leave it to its default value to avoid this warning.\n",
      "  warnings.warn(\n",
      "C:\\Users\\Lara\\Documents\\EmotionRecognitionKeystrokeDynamics\\venv\\lib\\site-packages\\sklearn\\linear_model\\_logistic.py:1247: FutureWarning: 'multi_class' was deprecated in version 1.5 and will be removed in 1.7. From then on, it will always use 'multinomial'. Leave it to its default value to avoid this warning.\n",
      "  warnings.warn(\n",
      "C:\\Users\\Lara\\Documents\\EmotionRecognitionKeystrokeDynamics\\venv\\lib\\site-packages\\sklearn\\linear_model\\_logistic.py:1247: FutureWarning: 'multi_class' was deprecated in version 1.5 and will be removed in 1.7. From then on, it will always use 'multinomial'. Leave it to its default value to avoid this warning.\n",
      "  warnings.warn(\n",
      "C:\\Users\\Lara\\Documents\\EmotionRecognitionKeystrokeDynamics\\venv\\lib\\site-packages\\sklearn\\linear_model\\_logistic.py:1247: FutureWarning: 'multi_class' was deprecated in version 1.5 and will be removed in 1.7. From then on, it will always use 'multinomial'. Leave it to its default value to avoid this warning.\n",
      "  warnings.warn(\n",
      "C:\\Users\\Lara\\Documents\\EmotionRecognitionKeystrokeDynamics\\venv\\lib\\site-packages\\sklearn\\linear_model\\_logistic.py:1247: FutureWarning: 'multi_class' was deprecated in version 1.5 and will be removed in 1.7. From then on, it will always use 'multinomial'. Leave it to its default value to avoid this warning.\n",
      "  warnings.warn(\n",
      "C:\\Users\\Lara\\Documents\\EmotionRecognitionKeystrokeDynamics\\venv\\lib\\site-packages\\sklearn\\linear_model\\_logistic.py:1247: FutureWarning: 'multi_class' was deprecated in version 1.5 and will be removed in 1.7. From then on, it will always use 'multinomial'. Leave it to its default value to avoid this warning.\n",
      "  warnings.warn(\n",
      "C:\\Users\\Lara\\Documents\\EmotionRecognitionKeystrokeDynamics\\venv\\lib\\site-packages\\sklearn\\linear_model\\_logistic.py:1247: FutureWarning: 'multi_class' was deprecated in version 1.5 and will be removed in 1.7. From then on, it will always use 'multinomial'. Leave it to its default value to avoid this warning.\n",
      "  warnings.warn(\n",
      "C:\\Users\\Lara\\Documents\\EmotionRecognitionKeystrokeDynamics\\venv\\lib\\site-packages\\sklearn\\linear_model\\_logistic.py:1247: FutureWarning: 'multi_class' was deprecated in version 1.5 and will be removed in 1.7. From then on, it will always use 'multinomial'. Leave it to its default value to avoid this warning.\n",
      "  warnings.warn(\n",
      "C:\\Users\\Lara\\Documents\\EmotionRecognitionKeystrokeDynamics\\venv\\lib\\site-packages\\sklearn\\linear_model\\_logistic.py:1247: FutureWarning: 'multi_class' was deprecated in version 1.5 and will be removed in 1.7. From then on, it will always use 'multinomial'. Leave it to its default value to avoid this warning.\n",
      "  warnings.warn(\n",
      "C:\\Users\\Lara\\Documents\\EmotionRecognitionKeystrokeDynamics\\venv\\lib\\site-packages\\sklearn\\linear_model\\_logistic.py:1247: FutureWarning: 'multi_class' was deprecated in version 1.5 and will be removed in 1.7. From then on, it will always use 'multinomial'. Leave it to its default value to avoid this warning.\n",
      "  warnings.warn(\n",
      "C:\\Users\\Lara\\Documents\\EmotionRecognitionKeystrokeDynamics\\venv\\lib\\site-packages\\sklearn\\linear_model\\_logistic.py:1247: FutureWarning: 'multi_class' was deprecated in version 1.5 and will be removed in 1.7. From then on, it will always use 'multinomial'. Leave it to its default value to avoid this warning.\n",
      "  warnings.warn(\n",
      "C:\\Users\\Lara\\Documents\\EmotionRecognitionKeystrokeDynamics\\venv\\lib\\site-packages\\sklearn\\linear_model\\_logistic.py:1247: FutureWarning: 'multi_class' was deprecated in version 1.5 and will be removed in 1.7. From then on, it will always use 'multinomial'. Leave it to its default value to avoid this warning.\n",
      "  warnings.warn(\n",
      "C:\\Users\\Lara\\Documents\\EmotionRecognitionKeystrokeDynamics\\venv\\lib\\site-packages\\sklearn\\linear_model\\_logistic.py:1247: FutureWarning: 'multi_class' was deprecated in version 1.5 and will be removed in 1.7. From then on, it will always use 'multinomial'. Leave it to its default value to avoid this warning.\n",
      "  warnings.warn(\n",
      "C:\\Users\\Lara\\Documents\\EmotionRecognitionKeystrokeDynamics\\venv\\lib\\site-packages\\sklearn\\linear_model\\_logistic.py:1247: FutureWarning: 'multi_class' was deprecated in version 1.5 and will be removed in 1.7. From then on, it will always use 'multinomial'. Leave it to its default value to avoid this warning.\n",
      "  warnings.warn(\n",
      "C:\\Users\\Lara\\Documents\\EmotionRecognitionKeystrokeDynamics\\venv\\lib\\site-packages\\sklearn\\linear_model\\_logistic.py:1247: FutureWarning: 'multi_class' was deprecated in version 1.5 and will be removed in 1.7. From then on, it will always use 'multinomial'. Leave it to its default value to avoid this warning.\n",
      "  warnings.warn(\n",
      "C:\\Users\\Lara\\Documents\\EmotionRecognitionKeystrokeDynamics\\venv\\lib\\site-packages\\sklearn\\linear_model\\_logistic.py:1247: FutureWarning: 'multi_class' was deprecated in version 1.5 and will be removed in 1.7. From then on, it will always use 'multinomial'. Leave it to its default value to avoid this warning.\n",
      "  warnings.warn(\n",
      "C:\\Users\\Lara\\Documents\\EmotionRecognitionKeystrokeDynamics\\venv\\lib\\site-packages\\sklearn\\linear_model\\_logistic.py:1247: FutureWarning: 'multi_class' was deprecated in version 1.5 and will be removed in 1.7. From then on, it will always use 'multinomial'. Leave it to its default value to avoid this warning.\n",
      "  warnings.warn(\n",
      "C:\\Users\\Lara\\Documents\\EmotionRecognitionKeystrokeDynamics\\venv\\lib\\site-packages\\sklearn\\linear_model\\_logistic.py:1247: FutureWarning: 'multi_class' was deprecated in version 1.5 and will be removed in 1.7. From then on, it will always use 'multinomial'. Leave it to its default value to avoid this warning.\n",
      "  warnings.warn(\n",
      "C:\\Users\\Lara\\Documents\\EmotionRecognitionKeystrokeDynamics\\venv\\lib\\site-packages\\sklearn\\linear_model\\_logistic.py:1247: FutureWarning: 'multi_class' was deprecated in version 1.5 and will be removed in 1.7. From then on, it will always use 'multinomial'. Leave it to its default value to avoid this warning.\n",
      "  warnings.warn(\n",
      "C:\\Users\\Lara\\Documents\\EmotionRecognitionKeystrokeDynamics\\venv\\lib\\site-packages\\sklearn\\linear_model\\_logistic.py:1247: FutureWarning: 'multi_class' was deprecated in version 1.5 and will be removed in 1.7. From then on, it will always use 'multinomial'. Leave it to its default value to avoid this warning.\n",
      "  warnings.warn(\n",
      "C:\\Users\\Lara\\Documents\\EmotionRecognitionKeystrokeDynamics\\venv\\lib\\site-packages\\sklearn\\linear_model\\_logistic.py:1247: FutureWarning: 'multi_class' was deprecated in version 1.5 and will be removed in 1.7. From then on, it will always use 'multinomial'. Leave it to its default value to avoid this warning.\n",
      "  warnings.warn(\n",
      "C:\\Users\\Lara\\Documents\\EmotionRecognitionKeystrokeDynamics\\venv\\lib\\site-packages\\sklearn\\linear_model\\_logistic.py:1247: FutureWarning: 'multi_class' was deprecated in version 1.5 and will be removed in 1.7. From then on, it will always use 'multinomial'. Leave it to its default value to avoid this warning.\n",
      "  warnings.warn(\n",
      "C:\\Users\\Lara\\Documents\\EmotionRecognitionKeystrokeDynamics\\venv\\lib\\site-packages\\sklearn\\linear_model\\_logistic.py:1247: FutureWarning: 'multi_class' was deprecated in version 1.5 and will be removed in 1.7. From then on, it will always use 'multinomial'. Leave it to its default value to avoid this warning.\n",
      "  warnings.warn(\n",
      "C:\\Users\\Lara\\Documents\\EmotionRecognitionKeystrokeDynamics\\venv\\lib\\site-packages\\sklearn\\linear_model\\_logistic.py:1247: FutureWarning: 'multi_class' was deprecated in version 1.5 and will be removed in 1.7. From then on, it will always use 'multinomial'. Leave it to its default value to avoid this warning.\n",
      "  warnings.warn(\n",
      "C:\\Users\\Lara\\Documents\\EmotionRecognitionKeystrokeDynamics\\venv\\lib\\site-packages\\sklearn\\linear_model\\_logistic.py:1247: FutureWarning: 'multi_class' was deprecated in version 1.5 and will be removed in 1.7. From then on, it will always use 'multinomial'. Leave it to its default value to avoid this warning.\n",
      "  warnings.warn(\n",
      "C:\\Users\\Lara\\Documents\\EmotionRecognitionKeystrokeDynamics\\venv\\lib\\site-packages\\sklearn\\linear_model\\_logistic.py:1247: FutureWarning: 'multi_class' was deprecated in version 1.5 and will be removed in 1.7. From then on, it will always use 'multinomial'. Leave it to its default value to avoid this warning.\n",
      "  warnings.warn(\n",
      "C:\\Users\\Lara\\Documents\\EmotionRecognitionKeystrokeDynamics\\venv\\lib\\site-packages\\sklearn\\linear_model\\_logistic.py:1247: FutureWarning: 'multi_class' was deprecated in version 1.5 and will be removed in 1.7. From then on, it will always use 'multinomial'. Leave it to its default value to avoid this warning.\n",
      "  warnings.warn(\n",
      "C:\\Users\\Lara\\Documents\\EmotionRecognitionKeystrokeDynamics\\venv\\lib\\site-packages\\sklearn\\linear_model\\_logistic.py:1247: FutureWarning: 'multi_class' was deprecated in version 1.5 and will be removed in 1.7. From then on, it will always use 'multinomial'. Leave it to its default value to avoid this warning.\n",
      "  warnings.warn(\n",
      "C:\\Users\\Lara\\Documents\\EmotionRecognitionKeystrokeDynamics\\venv\\lib\\site-packages\\sklearn\\linear_model\\_logistic.py:1247: FutureWarning: 'multi_class' was deprecated in version 1.5 and will be removed in 1.7. From then on, it will always use 'multinomial'. Leave it to its default value to avoid this warning.\n",
      "  warnings.warn(\n",
      "C:\\Users\\Lara\\Documents\\EmotionRecognitionKeystrokeDynamics\\venv\\lib\\site-packages\\sklearn\\linear_model\\_logistic.py:1247: FutureWarning: 'multi_class' was deprecated in version 1.5 and will be removed in 1.7. From then on, it will always use 'multinomial'. Leave it to its default value to avoid this warning.\n",
      "  warnings.warn(\n",
      "C:\\Users\\Lara\\Documents\\EmotionRecognitionKeystrokeDynamics\\venv\\lib\\site-packages\\sklearn\\linear_model\\_logistic.py:1247: FutureWarning: 'multi_class' was deprecated in version 1.5 and will be removed in 1.7. From then on, it will always use 'multinomial'. Leave it to its default value to avoid this warning.\n",
      "  warnings.warn(\n",
      "C:\\Users\\Lara\\Documents\\EmotionRecognitionKeystrokeDynamics\\venv\\lib\\site-packages\\sklearn\\linear_model\\_logistic.py:1247: FutureWarning: 'multi_class' was deprecated in version 1.5 and will be removed in 1.7. From then on, it will always use 'multinomial'. Leave it to its default value to avoid this warning.\n",
      "  warnings.warn(\n",
      "C:\\Users\\Lara\\Documents\\EmotionRecognitionKeystrokeDynamics\\venv\\lib\\site-packages\\sklearn\\linear_model\\_logistic.py:1247: FutureWarning: 'multi_class' was deprecated in version 1.5 and will be removed in 1.7. From then on, it will always use 'multinomial'. Leave it to its default value to avoid this warning.\n",
      "  warnings.warn(\n",
      "C:\\Users\\Lara\\Documents\\EmotionRecognitionKeystrokeDynamics\\venv\\lib\\site-packages\\sklearn\\linear_model\\_logistic.py:1247: FutureWarning: 'multi_class' was deprecated in version 1.5 and will be removed in 1.7. From then on, it will always use 'multinomial'. Leave it to its default value to avoid this warning.\n",
      "  warnings.warn(\n",
      "C:\\Users\\Lara\\Documents\\EmotionRecognitionKeystrokeDynamics\\venv\\lib\\site-packages\\sklearn\\linear_model\\_logistic.py:1247: FutureWarning: 'multi_class' was deprecated in version 1.5 and will be removed in 1.7. From then on, it will always use 'multinomial'. Leave it to its default value to avoid this warning.\n",
      "  warnings.warn(\n",
      "C:\\Users\\Lara\\Documents\\EmotionRecognitionKeystrokeDynamics\\venv\\lib\\site-packages\\sklearn\\linear_model\\_logistic.py:1247: FutureWarning: 'multi_class' was deprecated in version 1.5 and will be removed in 1.7. From then on, it will always use 'multinomial'. Leave it to its default value to avoid this warning.\n",
      "  warnings.warn(\n",
      "C:\\Users\\Lara\\Documents\\EmotionRecognitionKeystrokeDynamics\\venv\\lib\\site-packages\\sklearn\\linear_model\\_logistic.py:1247: FutureWarning: 'multi_class' was deprecated in version 1.5 and will be removed in 1.7. From then on, it will always use 'multinomial'. Leave it to its default value to avoid this warning.\n",
      "  warnings.warn(\n",
      "C:\\Users\\Lara\\Documents\\EmotionRecognitionKeystrokeDynamics\\venv\\lib\\site-packages\\sklearn\\linear_model\\_logistic.py:1247: FutureWarning: 'multi_class' was deprecated in version 1.5 and will be removed in 1.7. From then on, it will always use 'multinomial'. Leave it to its default value to avoid this warning.\n",
      "  warnings.warn(\n",
      "C:\\Users\\Lara\\Documents\\EmotionRecognitionKeystrokeDynamics\\venv\\lib\\site-packages\\sklearn\\linear_model\\_logistic.py:1247: FutureWarning: 'multi_class' was deprecated in version 1.5 and will be removed in 1.7. From then on, it will always use 'multinomial'. Leave it to its default value to avoid this warning.\n",
      "  warnings.warn(\n",
      "C:\\Users\\Lara\\Documents\\EmotionRecognitionKeystrokeDynamics\\venv\\lib\\site-packages\\sklearn\\linear_model\\_logistic.py:1247: FutureWarning: 'multi_class' was deprecated in version 1.5 and will be removed in 1.7. From then on, it will always use 'multinomial'. Leave it to its default value to avoid this warning.\n",
      "  warnings.warn(\n",
      "C:\\Users\\Lara\\Documents\\EmotionRecognitionKeystrokeDynamics\\venv\\lib\\site-packages\\sklearn\\linear_model\\_logistic.py:1247: FutureWarning: 'multi_class' was deprecated in version 1.5 and will be removed in 1.7. From then on, it will always use 'multinomial'. Leave it to its default value to avoid this warning.\n",
      "  warnings.warn(\n",
      "C:\\Users\\Lara\\Documents\\EmotionRecognitionKeystrokeDynamics\\venv\\lib\\site-packages\\sklearn\\linear_model\\_logistic.py:1247: FutureWarning: 'multi_class' was deprecated in version 1.5 and will be removed in 1.7. From then on, it will always use 'multinomial'. Leave it to its default value to avoid this warning.\n",
      "  warnings.warn(\n",
      "C:\\Users\\Lara\\Documents\\EmotionRecognitionKeystrokeDynamics\\venv\\lib\\site-packages\\sklearn\\linear_model\\_logistic.py:1247: FutureWarning: 'multi_class' was deprecated in version 1.5 and will be removed in 1.7. From then on, it will always use 'multinomial'. Leave it to its default value to avoid this warning.\n",
      "  warnings.warn(\n",
      "C:\\Users\\Lara\\Documents\\EmotionRecognitionKeystrokeDynamics\\venv\\lib\\site-packages\\sklearn\\linear_model\\_logistic.py:1247: FutureWarning: 'multi_class' was deprecated in version 1.5 and will be removed in 1.7. From then on, it will always use 'multinomial'. Leave it to its default value to avoid this warning.\n",
      "  warnings.warn(\n",
      "C:\\Users\\Lara\\Documents\\EmotionRecognitionKeystrokeDynamics\\venv\\lib\\site-packages\\sklearn\\linear_model\\_logistic.py:1247: FutureWarning: 'multi_class' was deprecated in version 1.5 and will be removed in 1.7. From then on, it will always use 'multinomial'. Leave it to its default value to avoid this warning.\n",
      "  warnings.warn(\n",
      "C:\\Users\\Lara\\Documents\\EmotionRecognitionKeystrokeDynamics\\venv\\lib\\site-packages\\sklearn\\linear_model\\_logistic.py:1247: FutureWarning: 'multi_class' was deprecated in version 1.5 and will be removed in 1.7. From then on, it will always use 'multinomial'. Leave it to its default value to avoid this warning.\n",
      "  warnings.warn(\n",
      "C:\\Users\\Lara\\Documents\\EmotionRecognitionKeystrokeDynamics\\venv\\lib\\site-packages\\sklearn\\linear_model\\_logistic.py:1247: FutureWarning: 'multi_class' was deprecated in version 1.5 and will be removed in 1.7. From then on, it will always use 'multinomial'. Leave it to its default value to avoid this warning.\n",
      "  warnings.warn(\n",
      "C:\\Users\\Lara\\Documents\\EmotionRecognitionKeystrokeDynamics\\venv\\lib\\site-packages\\sklearn\\linear_model\\_logistic.py:1247: FutureWarning: 'multi_class' was deprecated in version 1.5 and will be removed in 1.7. From then on, it will always use 'multinomial'. Leave it to its default value to avoid this warning.\n",
      "  warnings.warn(\n",
      "C:\\Users\\Lara\\Documents\\EmotionRecognitionKeystrokeDynamics\\venv\\lib\\site-packages\\sklearn\\linear_model\\_logistic.py:1247: FutureWarning: 'multi_class' was deprecated in version 1.5 and will be removed in 1.7. From then on, it will always use 'multinomial'. Leave it to its default value to avoid this warning.\n",
      "  warnings.warn(\n",
      "C:\\Users\\Lara\\Documents\\EmotionRecognitionKeystrokeDynamics\\venv\\lib\\site-packages\\sklearn\\linear_model\\_logistic.py:1247: FutureWarning: 'multi_class' was deprecated in version 1.5 and will be removed in 1.7. From then on, it will always use 'multinomial'. Leave it to its default value to avoid this warning.\n",
      "  warnings.warn(\n",
      "C:\\Users\\Lara\\Documents\\EmotionRecognitionKeystrokeDynamics\\venv\\lib\\site-packages\\sklearn\\linear_model\\_logistic.py:1247: FutureWarning: 'multi_class' was deprecated in version 1.5 and will be removed in 1.7. From then on, it will always use 'multinomial'. Leave it to its default value to avoid this warning.\n",
      "  warnings.warn(\n",
      "C:\\Users\\Lara\\Documents\\EmotionRecognitionKeystrokeDynamics\\venv\\lib\\site-packages\\sklearn\\linear_model\\_logistic.py:1247: FutureWarning: 'multi_class' was deprecated in version 1.5 and will be removed in 1.7. From then on, it will always use 'multinomial'. Leave it to its default value to avoid this warning.\n",
      "  warnings.warn(\n",
      "C:\\Users\\Lara\\Documents\\EmotionRecognitionKeystrokeDynamics\\venv\\lib\\site-packages\\sklearn\\linear_model\\_logistic.py:1247: FutureWarning: 'multi_class' was deprecated in version 1.5 and will be removed in 1.7. From then on, it will always use 'multinomial'. Leave it to its default value to avoid this warning.\n",
      "  warnings.warn(\n",
      "C:\\Users\\Lara\\Documents\\EmotionRecognitionKeystrokeDynamics\\venv\\lib\\site-packages\\sklearn\\linear_model\\_logistic.py:1247: FutureWarning: 'multi_class' was deprecated in version 1.5 and will be removed in 1.7. From then on, it will always use 'multinomial'. Leave it to its default value to avoid this warning.\n",
      "  warnings.warn(\n",
      "C:\\Users\\Lara\\Documents\\EmotionRecognitionKeystrokeDynamics\\venv\\lib\\site-packages\\sklearn\\linear_model\\_logistic.py:1247: FutureWarning: 'multi_class' was deprecated in version 1.5 and will be removed in 1.7. From then on, it will always use 'multinomial'. Leave it to its default value to avoid this warning.\n",
      "  warnings.warn(\n",
      "C:\\Users\\Lara\\Documents\\EmotionRecognitionKeystrokeDynamics\\venv\\lib\\site-packages\\sklearn\\linear_model\\_logistic.py:1247: FutureWarning: 'multi_class' was deprecated in version 1.5 and will be removed in 1.7. From then on, it will always use 'multinomial'. Leave it to its default value to avoid this warning.\n",
      "  warnings.warn(\n",
      "C:\\Users\\Lara\\Documents\\EmotionRecognitionKeystrokeDynamics\\venv\\lib\\site-packages\\sklearn\\linear_model\\_logistic.py:1247: FutureWarning: 'multi_class' was deprecated in version 1.5 and will be removed in 1.7. From then on, it will always use 'multinomial'. Leave it to its default value to avoid this warning.\n",
      "  warnings.warn(\n",
      "C:\\Users\\Lara\\Documents\\EmotionRecognitionKeystrokeDynamics\\venv\\lib\\site-packages\\sklearn\\linear_model\\_logistic.py:1247: FutureWarning: 'multi_class' was deprecated in version 1.5 and will be removed in 1.7. From then on, it will always use 'multinomial'. Leave it to its default value to avoid this warning.\n",
      "  warnings.warn(\n",
      "C:\\Users\\Lara\\Documents\\EmotionRecognitionKeystrokeDynamics\\venv\\lib\\site-packages\\sklearn\\linear_model\\_logistic.py:1247: FutureWarning: 'multi_class' was deprecated in version 1.5 and will be removed in 1.7. From then on, it will always use 'multinomial'. Leave it to its default value to avoid this warning.\n",
      "  warnings.warn(\n",
      "C:\\Users\\Lara\\Documents\\EmotionRecognitionKeystrokeDynamics\\venv\\lib\\site-packages\\sklearn\\linear_model\\_logistic.py:1247: FutureWarning: 'multi_class' was deprecated in version 1.5 and will be removed in 1.7. From then on, it will always use 'multinomial'. Leave it to its default value to avoid this warning.\n",
      "  warnings.warn(\n",
      "C:\\Users\\Lara\\Documents\\EmotionRecognitionKeystrokeDynamics\\venv\\lib\\site-packages\\sklearn\\linear_model\\_logistic.py:1247: FutureWarning: 'multi_class' was deprecated in version 1.5 and will be removed in 1.7. From then on, it will always use 'multinomial'. Leave it to its default value to avoid this warning.\n",
      "  warnings.warn(\n",
      "C:\\Users\\Lara\\Documents\\EmotionRecognitionKeystrokeDynamics\\venv\\lib\\site-packages\\sklearn\\linear_model\\_logistic.py:1247: FutureWarning: 'multi_class' was deprecated in version 1.5 and will be removed in 1.7. From then on, it will always use 'multinomial'. Leave it to its default value to avoid this warning.\n",
      "  warnings.warn(\n",
      "C:\\Users\\Lara\\Documents\\EmotionRecognitionKeystrokeDynamics\\venv\\lib\\site-packages\\sklearn\\linear_model\\_logistic.py:1247: FutureWarning: 'multi_class' was deprecated in version 1.5 and will be removed in 1.7. From then on, it will always use 'multinomial'. Leave it to its default value to avoid this warning.\n",
      "  warnings.warn(\n",
      "C:\\Users\\Lara\\Documents\\EmotionRecognitionKeystrokeDynamics\\venv\\lib\\site-packages\\sklearn\\linear_model\\_logistic.py:1247: FutureWarning: 'multi_class' was deprecated in version 1.5 and will be removed in 1.7. From then on, it will always use 'multinomial'. Leave it to its default value to avoid this warning.\n",
      "  warnings.warn(\n",
      "C:\\Users\\Lara\\Documents\\EmotionRecognitionKeystrokeDynamics\\venv\\lib\\site-packages\\sklearn\\linear_model\\_logistic.py:1247: FutureWarning: 'multi_class' was deprecated in version 1.5 and will be removed in 1.7. From then on, it will always use 'multinomial'. Leave it to its default value to avoid this warning.\n",
      "  warnings.warn(\n",
      "C:\\Users\\Lara\\Documents\\EmotionRecognitionKeystrokeDynamics\\venv\\lib\\site-packages\\sklearn\\linear_model\\_logistic.py:1247: FutureWarning: 'multi_class' was deprecated in version 1.5 and will be removed in 1.7. From then on, it will always use 'multinomial'. Leave it to its default value to avoid this warning.\n",
      "  warnings.warn(\n",
      "C:\\Users\\Lara\\Documents\\EmotionRecognitionKeystrokeDynamics\\venv\\lib\\site-packages\\sklearn\\linear_model\\_logistic.py:1247: FutureWarning: 'multi_class' was deprecated in version 1.5 and will be removed in 1.7. From then on, it will always use 'multinomial'. Leave it to its default value to avoid this warning.\n",
      "  warnings.warn(\n",
      "C:\\Users\\Lara\\Documents\\EmotionRecognitionKeystrokeDynamics\\venv\\lib\\site-packages\\sklearn\\linear_model\\_logistic.py:1247: FutureWarning: 'multi_class' was deprecated in version 1.5 and will be removed in 1.7. From then on, it will always use 'multinomial'. Leave it to its default value to avoid this warning.\n",
      "  warnings.warn(\n",
      "C:\\Users\\Lara\\Documents\\EmotionRecognitionKeystrokeDynamics\\venv\\lib\\site-packages\\sklearn\\linear_model\\_logistic.py:1247: FutureWarning: 'multi_class' was deprecated in version 1.5 and will be removed in 1.7. From then on, it will always use 'multinomial'. Leave it to its default value to avoid this warning.\n",
      "  warnings.warn(\n",
      "C:\\Users\\Lara\\Documents\\EmotionRecognitionKeystrokeDynamics\\venv\\lib\\site-packages\\sklearn\\linear_model\\_logistic.py:1247: FutureWarning: 'multi_class' was deprecated in version 1.5 and will be removed in 1.7. From then on, it will always use 'multinomial'. Leave it to its default value to avoid this warning.\n",
      "  warnings.warn(\n",
      "C:\\Users\\Lara\\Documents\\EmotionRecognitionKeystrokeDynamics\\venv\\lib\\site-packages\\sklearn\\linear_model\\_logistic.py:1247: FutureWarning: 'multi_class' was deprecated in version 1.5 and will be removed in 1.7. From then on, it will always use 'multinomial'. Leave it to its default value to avoid this warning.\n",
      "  warnings.warn(\n",
      "C:\\Users\\Lara\\Documents\\EmotionRecognitionKeystrokeDynamics\\venv\\lib\\site-packages\\sklearn\\linear_model\\_logistic.py:1247: FutureWarning: 'multi_class' was deprecated in version 1.5 and will be removed in 1.7. From then on, it will always use 'multinomial'. Leave it to its default value to avoid this warning.\n",
      "  warnings.warn(\n",
      "C:\\Users\\Lara\\Documents\\EmotionRecognitionKeystrokeDynamics\\venv\\lib\\site-packages\\sklearn\\linear_model\\_logistic.py:1247: FutureWarning: 'multi_class' was deprecated in version 1.5 and will be removed in 1.7. From then on, it will always use 'multinomial'. Leave it to its default value to avoid this warning.\n",
      "  warnings.warn(\n",
      "C:\\Users\\Lara\\Documents\\EmotionRecognitionKeystrokeDynamics\\venv\\lib\\site-packages\\sklearn\\linear_model\\_logistic.py:1247: FutureWarning: 'multi_class' was deprecated in version 1.5 and will be removed in 1.7. From then on, it will always use 'multinomial'. Leave it to its default value to avoid this warning.\n",
      "  warnings.warn(\n",
      "C:\\Users\\Lara\\Documents\\EmotionRecognitionKeystrokeDynamics\\venv\\lib\\site-packages\\sklearn\\linear_model\\_logistic.py:1247: FutureWarning: 'multi_class' was deprecated in version 1.5 and will be removed in 1.7. From then on, it will always use 'multinomial'. Leave it to its default value to avoid this warning.\n",
      "  warnings.warn(\n",
      "C:\\Users\\Lara\\Documents\\EmotionRecognitionKeystrokeDynamics\\venv\\lib\\site-packages\\sklearn\\linear_model\\_logistic.py:1247: FutureWarning: 'multi_class' was deprecated in version 1.5 and will be removed in 1.7. From then on, it will always use 'multinomial'. Leave it to its default value to avoid this warning.\n",
      "  warnings.warn(\n",
      "C:\\Users\\Lara\\Documents\\EmotionRecognitionKeystrokeDynamics\\venv\\lib\\site-packages\\sklearn\\linear_model\\_logistic.py:1247: FutureWarning: 'multi_class' was deprecated in version 1.5 and will be removed in 1.7. From then on, it will always use 'multinomial'. Leave it to its default value to avoid this warning.\n",
      "  warnings.warn(\n",
      "C:\\Users\\Lara\\Documents\\EmotionRecognitionKeystrokeDynamics\\venv\\lib\\site-packages\\sklearn\\linear_model\\_logistic.py:1247: FutureWarning: 'multi_class' was deprecated in version 1.5 and will be removed in 1.7. From then on, it will always use 'multinomial'. Leave it to its default value to avoid this warning.\n",
      "  warnings.warn(\n",
      "C:\\Users\\Lara\\Documents\\EmotionRecognitionKeystrokeDynamics\\venv\\lib\\site-packages\\sklearn\\linear_model\\_logistic.py:1247: FutureWarning: 'multi_class' was deprecated in version 1.5 and will be removed in 1.7. From then on, it will always use 'multinomial'. Leave it to its default value to avoid this warning.\n",
      "  warnings.warn(\n",
      "C:\\Users\\Lara\\Documents\\EmotionRecognitionKeystrokeDynamics\\venv\\lib\\site-packages\\sklearn\\linear_model\\_logistic.py:1247: FutureWarning: 'multi_class' was deprecated in version 1.5 and will be removed in 1.7. From then on, it will always use 'multinomial'. Leave it to its default value to avoid this warning.\n",
      "  warnings.warn(\n",
      "C:\\Users\\Lara\\Documents\\EmotionRecognitionKeystrokeDynamics\\venv\\lib\\site-packages\\sklearn\\linear_model\\_logistic.py:1247: FutureWarning: 'multi_class' was deprecated in version 1.5 and will be removed in 1.7. From then on, it will always use 'multinomial'. Leave it to its default value to avoid this warning.\n",
      "  warnings.warn(\n",
      "C:\\Users\\Lara\\Documents\\EmotionRecognitionKeystrokeDynamics\\venv\\lib\\site-packages\\sklearn\\linear_model\\_logistic.py:1247: FutureWarning: 'multi_class' was deprecated in version 1.5 and will be removed in 1.7. From then on, it will always use 'multinomial'. Leave it to its default value to avoid this warning.\n",
      "  warnings.warn(\n",
      "C:\\Users\\Lara\\Documents\\EmotionRecognitionKeystrokeDynamics\\venv\\lib\\site-packages\\sklearn\\linear_model\\_logistic.py:1247: FutureWarning: 'multi_class' was deprecated in version 1.5 and will be removed in 1.7. From then on, it will always use 'multinomial'. Leave it to its default value to avoid this warning.\n",
      "  warnings.warn(\n",
      "C:\\Users\\Lara\\Documents\\EmotionRecognitionKeystrokeDynamics\\venv\\lib\\site-packages\\sklearn\\linear_model\\_logistic.py:1247: FutureWarning: 'multi_class' was deprecated in version 1.5 and will be removed in 1.7. From then on, it will always use 'multinomial'. Leave it to its default value to avoid this warning.\n",
      "  warnings.warn(\n",
      "C:\\Users\\Lara\\Documents\\EmotionRecognitionKeystrokeDynamics\\venv\\lib\\site-packages\\sklearn\\linear_model\\_logistic.py:1247: FutureWarning: 'multi_class' was deprecated in version 1.5 and will be removed in 1.7. From then on, it will always use 'multinomial'. Leave it to its default value to avoid this warning.\n",
      "  warnings.warn(\n",
      "C:\\Users\\Lara\\Documents\\EmotionRecognitionKeystrokeDynamics\\venv\\lib\\site-packages\\sklearn\\linear_model\\_logistic.py:1247: FutureWarning: 'multi_class' was deprecated in version 1.5 and will be removed in 1.7. From then on, it will always use 'multinomial'. Leave it to its default value to avoid this warning.\n",
      "  warnings.warn(\n"
     ]
    },
    {
     "name": "stdout",
     "output_type": "stream",
     "text": [
      "RF\n",
      "XGB\n",
      "SVM\n",
      "MLP\n"
     ]
    },
    {
     "data": {
      "text/plain": "{'LogReg': [0.12813727383727386, 0.046913120916078396],\n 'RF': [0.14074586054468408, 0.07717508132182908],\n 'XGB': [0.1755743289848553, 0.044239064801387125],\n 'SVM': [0.1290868347338935, 0.002659241598887632],\n 'MLP': [0.15829428865063797, 0.047281166911656736]}"
     },
     "execution_count": 24,
     "metadata": {},
     "output_type": "execute_result"
    }
   ],
   "source": [
    "# macro-F1 scores with a 10-fold cross-validation method\n",
    "\n",
    "model_scores_macro = {}\n",
    "for i in range(len(classifiers)):\n",
    "    model_scores_macro[classifiers_name[i]] = []\n",
    "    print(classifiers_name[i])\n",
    "    for j in range(10):\n",
    "        model = classifiers[i]\n",
    "        scores = model_selection.cross_val_score(model, X=data_free_filter, y=label_free, cv=10, n_jobs=1, scoring='f1_macro')\n",
    "        model_scores_macro[classifiers_name[i]] += list(scores)\n",
    "    mean = np.nanmean(model_scores_macro[classifiers_name[i]])\n",
    "    std = np.nanstd(model_scores_macro[classifiers_name[i]])\n",
    "    model_scores_macro[classifiers_name[i]] = [mean,std]\n",
    "\n",
    "model_scores_macro"
   ]
  },
  {
   "cell_type": "markdown",
   "metadata": {},
   "source": [
    "#### Best multi-class model"
   ]
  },
  {
   "cell_type": "code",
   "execution_count": 25,
   "metadata": {
    "ExecuteTime": {
     "end_time": "2024-06-03T14:38:58.506457600Z",
     "start_time": "2024-06-03T14:38:58.282456800Z"
    }
   },
   "outputs": [
    {
     "name": "stdout",
     "output_type": "stream",
     "text": [
      "Metric : ACC, Score :  0.69\n",
      "Metric : TP_Rate, Score :   nan\n",
      "Metric : FP_Rate, Score :  0.19\n",
      "Metric : Precision, Score :  0.24\n",
      "Metric : F_Measure, Score :   nan\n",
      "Metric : F_Micro, Score :  0.38\n",
      "Metric : F_Macro, Score :  0.20\n",
      "Confusion Matrix: \n",
      "      N     H     C     S     A\n",
      "N  0.64  0.08  0.08  0.16  0.04\n",
      "H  0.57  0.00  0.00  0.00  0.43\n",
      "C  0.17  0.00  0.17  0.50  0.17\n",
      "S  0.33  0.33  0.00  0.11  0.22\n",
      "A  0.00  0.00  0.00  0.00  0.00\n"
     ]
    },
    {
     "name": "stderr",
     "output_type": "stream",
     "text": [
      "C:\\Users\\Lara\\AppData\\Local\\Temp\\ipykernel_46792\\1964377520.py:18: RuntimeWarning: invalid value encountered in divide\n",
      "  TP_rate = np.mean(TP / (TP + FN))\n"
     ]
    },
    {
     "data": {
      "text/plain": "<Figure size 640x480 with 2 Axes>",
      "image/png": "[encoded data removed]"
     },
     "metadata": {},
     "output_type": "display_data"
    }
   ],
   "source": [
    "best_model = 'XGB'\n",
    "X_train, X_test, Y_train, Y_test = train_test_split(data_free_filter, label_free, test_size=0.2)\n",
    "\n",
    "scaler = MinMaxScaler()\n",
    "X_train = scaler.fit_transform(X_train)\n",
    "X_test = scaler.transform(X_test)\n",
    "\n",
    "model = classifiers[classifiers_name.index(best_model)]\n",
    "model.fit(X_train, Y_train)\n",
    "\n",
    "performance_metrics = compute_metrics(model, X_test, Y_test, show=True)\n",
    "plot_confusion_matrix(performance_metrics[\"Confusion Matrix\"])"
   ]
  },
  {
   "cell_type": "markdown",
   "metadata": {},
   "source": [
    "### Binary classification"
   ]
  },
  {
   "cell_type": "code",
   "execution_count": 26,
   "metadata": {
    "ExecuteTime": {
     "end_time": "2024-06-03T14:39:15.627778Z",
     "start_time": "2024-06-03T14:39:03.602780800Z"
    }
   },
   "outputs": [
    {
     "name": "stdout",
     "output_type": "stream",
     "text": [
      "Class N:\n",
      "0.6 0.094\n",
      "0.593 0.099\n",
      "0.608 0.192\n",
      "\n",
      "\n",
      "Class H:\n",
      "0.805 0.045\n",
      "0.52 0.079\n",
      "0.133 0.135\n",
      "\n",
      "\n",
      "Class C:\n",
      "0.813 0.038\n",
      "0.479 0.062\n",
      "0.058 0.118\n",
      "\n",
      "\n",
      "Class S:\n",
      "0.838 0.053\n",
      "0.554 0.148\n",
      "0.192 0.264\n",
      "\n",
      "\n",
      "Class A:\n",
      "0.859 0.059\n",
      "0.495 0.11\n",
      "0.05 0.15\n"
     ]
    }
   ],
   "source": [
    "## binary classification with XGBoost\n",
    "for emotion_index in range(5):\n",
    "    f1_micro = np.array([])\n",
    "    f1_macro = np.array([])\n",
    "    recall = np.array([])\n",
    "    \n",
    "    print(\"Class \" + label_dictionary[emotion_index+1] + \":\")\n",
    "    label_free_binary = (label_free == emotion_index).astype(int)\n",
    "    \n",
    "    for i in range(10):\n",
    "        model = xgb.XGBClassifier(objective='binary:logistic',eval_metric='mlogloss',use_label_encoder=False)\n",
    "        scores = model_selection.cross_validate(model, X=data_free_filter, y=label_free_binary, cv=10, n_jobs=1, scoring=['f1_micro','f1_macro','recall'])\n",
    "        \n",
    "        f1_micro = np.concatenate([f1_micro, scores['test_f1_micro']])\n",
    "        f1_macro = np.concatenate([f1_macro, scores['test_f1_macro']])\n",
    "        recall = np.concatenate([recall, scores['test_recall']])\n",
    "        \n",
    "    print(np.round(np.nanmean(f1_micro),3), np.round(np.nanstd(f1_micro),3))\n",
    "    print(np.round(np.nanmean(f1_macro),3), np.round(np.nanstd(f1_macro),3))\n",
    "    print(np.round(np.nanmean(recall),3), np.round(np.nanstd(recall),3))\n",
    "    \n",
    "    print()\n",
    "    print()"
   ]
  },
  {
   "cell_type": "code",
   "execution_count": 27,
   "metadata": {
    "ExecuteTime": {
     "end_time": "2024-06-03T14:41:28.382411Z",
     "start_time": "2024-06-03T14:40:38.980697200Z"
    }
   },
   "outputs": [
    {
     "name": "stdout",
     "output_type": "stream",
     "text": [
      "Class N:\n",
      "0.497 0.045\n",
      "0.368 0.069\n",
      "0.908 0.248\n",
      "\n",
      "\n",
      "Class H:\n",
      "0.582 0.15\n",
      "0.421 0.101\n",
      "0.277 0.315\n",
      "\n",
      "\n",
      "Class C:\n",
      "0.629 0.12\n",
      "0.494 0.1\n",
      "0.483 0.317\n",
      "\n",
      "\n",
      "Class S:\n",
      "0.62 0.165\n",
      "0.502 0.112\n",
      "0.599 0.299\n",
      "\n",
      "\n",
      "Class A:\n",
      "0.726 0.207\n",
      "0.544 0.173\n",
      "0.428 0.289\n"
     ]
    }
   ],
   "source": [
    "## binary classification with Random Forest\n",
    "for emotion_index in range(5):\n",
    "    f1_micro = np.array([])\n",
    "    f1_macro = np.array([])\n",
    "    recall = np.array([])\n",
    "    \n",
    "    print(\"Class \" + label_dictionary[emotion_index+1] + \":\")\n",
    "    label_free_binary = (label_free == emotion_index).astype(int)\n",
    "    \n",
    "    for i in range(10):\n",
    "        model = RandomForestClassifier(n_estimators=200, max_depth=5, class_weight={0:0.1,1:1})\n",
    "        scores = model_selection.cross_validate(model, X=data_free_filter, y=label_free_binary, cv=10, n_jobs=1, scoring=['f1_micro','f1_macro','recall'])\n",
    "        \n",
    "        f1_micro = np.concatenate([f1_micro, scores['test_f1_micro']])\n",
    "        f1_macro = np.concatenate([f1_macro, scores['test_f1_macro']])\n",
    "        recall = np.concatenate([recall, scores['test_recall']])\n",
    "        \n",
    "    print(np.round(np.nanmean(f1_micro),3), np.round(np.nanstd(f1_micro),3))\n",
    "    print(np.round(np.nanmean(f1_macro),3), np.round(np.nanstd(f1_macro),3))\n",
    "    print(np.round(np.nanmean(recall),3), np.round(np.nanstd(recall),3))\n",
    "    \n",
    "    print()\n",
    "    print()"
   ]
  },
  {
   "cell_type": "code",
   "execution_count": 28,
   "metadata": {
    "ExecuteTime": {
     "end_time": "2024-06-03T14:43:33.595672700Z",
     "start_time": "2024-06-03T14:43:29.928671100Z"
    }
   },
   "outputs": [
    {
     "name": "stdout",
     "output_type": "stream",
     "text": [
      "Class N:\n",
      "0.565 0.063\n",
      "0.478 0.086\n",
      "0.179 0.115\n",
      "\n",
      "\n",
      "Class H:\n",
      "0.847 0.018\n",
      "0.459 0.005\n",
      "0.0 0.0\n",
      "\n",
      "\n",
      "Class C:\n",
      "0.868 0.012\n",
      "0.465 0.003\n",
      "0.0 0.0\n",
      "\n",
      "\n",
      "Class S:\n",
      "0.864 0.015\n",
      "0.463 0.005\n",
      "0.0 0.0\n",
      "\n",
      "\n",
      "Class A:\n",
      "0.898 0.019\n",
      "0.473 0.005\n",
      "0.0 0.0\n",
      "\n"
     ]
    }
   ],
   "source": [
    "## binary classification with SVM\n",
    "for emotion_index in range(5):\n",
    "    f1_micro = np.array([])\n",
    "    f1_macro = np.array([])\n",
    "    recall = np.array([])\n",
    "    \n",
    "    print(\"Class \" + label_dictionary[emotion_index+1] + \":\")\n",
    "    label_free_binary = (label_free == emotion_index).astype(int)\n",
    "    \n",
    "    for i in range(10):\n",
    "        model = SVC(kernel='rbf',decision_function_shape='ovr', probability=True)\n",
    "        scores = model_selection.cross_validate(model, X=data_free_filter, y=label_free_binary, cv=10, n_jobs=1, scoring=['f1_micro','f1_macro','recall'])\n",
    "        \n",
    "        f1_micro = np.concatenate([f1_micro, scores['test_f1_micro']])\n",
    "        f1_macro = np.concatenate([f1_macro, scores['test_f1_macro']])\n",
    "        recall = np.concatenate([recall, scores['test_recall']])\n",
    "        \n",
    "    print(np.round(np.nanmean(f1_micro),3), np.round(np.nanstd(f1_micro),3))\n",
    "    print(np.round(np.nanmean(f1_macro),3), np.round(np.nanstd(f1_macro),3))\n",
    "    print(np.round(np.nanmean(recall),3), np.round(np.nanstd(recall),3))\n",
    "    \n",
    "    print()\n",
    "    print()"
   ]
  },
  {
   "cell_type": "markdown",
   "metadata": {},
   "source": [
    "## Feature importance"
   ]
  },
  {
   "cell_type": "code",
   "execution_count": 29,
   "metadata": {
    "ExecuteTime": {
     "end_time": "2024-06-03T14:43:47.036327400Z",
     "start_time": "2024-06-03T14:43:47.021329300Z"
    }
   },
   "outputs": [],
   "source": [
    "scaler = MinMaxScaler()\n",
    "data_free = pd.DataFrame(scaler.fit_transform(data_free), columns=data_free.columns)"
   ]
  },
  {
   "cell_type": "markdown",
   "metadata": {},
   "source": [
    "#### Chi-squared"
   ]
  },
  {
   "cell_type": "code",
   "execution_count": 30,
   "metadata": {
    "ExecuteTime": {
     "end_time": "2024-06-03T14:43:57.766983800Z",
     "start_time": "2024-06-03T14:43:57.636985Z"
    }
   },
   "outputs": [
    {
     "ename": "KeyError",
     "evalue": "\"['country', 'typistType'] not in index\"",
     "output_type": "error",
     "traceback": [
      "\u001B[1;31m---------------------------------------------------------------------------\u001B[0m",
      "\u001B[1;31mKeyError\u001B[0m                                  Traceback (most recent call last)",
      "Cell \u001B[1;32mIn[30], line 8\u001B[0m\n\u001B[0;32m      6\u001B[0m \u001B[38;5;66;03m# Feature extraction\u001B[39;00m\n\u001B[0;32m      7\u001B[0m test \u001B[38;5;241m=\u001B[39m SelectKBest(score_func\u001B[38;5;241m=\u001B[39mchi2, k\u001B[38;5;241m=\u001B[39m\u001B[38;5;241m8\u001B[39m)\n\u001B[1;32m----> 8\u001B[0m fit \u001B[38;5;241m=\u001B[39m test\u001B[38;5;241m.\u001B[39mfit(\u001B[43mdata_free\u001B[49m\u001B[38;5;241;43m.\u001B[39;49m\u001B[43mloc\u001B[49m\u001B[43m[\u001B[49m\u001B[43m:\u001B[49m\u001B[43m,\u001B[49m\u001B[43mdemo_features\u001B[49m\u001B[43m]\u001B[49m\u001B[38;5;241m.\u001B[39mfillna(\u001B[38;5;241m100\u001B[39m)\u001B[38;5;241m.\u001B[39mreplace(\u001B[38;5;241m-\u001B[39m\u001B[38;5;241m1\u001B[39m,\u001B[38;5;241m16\u001B[39m), pd\u001B[38;5;241m.\u001B[39mcut(data_free\u001B[38;5;241m.\u001B[39mD1U2_mean\u001B[38;5;241m.\u001B[39mfillna(\u001B[38;5;241m0\u001B[39m),bins\u001B[38;5;241m=\u001B[39m[\u001B[38;5;241m0\u001B[39m,\u001B[38;5;241m372\u001B[39m,\u001B[38;5;241m445\u001B[39m,\u001B[38;5;241m573\u001B[39m,\u001B[38;5;241m4306\u001B[39m],labels\u001B[38;5;241m=\u001B[39m[\u001B[38;5;241m1\u001B[39m,\u001B[38;5;241m2\u001B[39m,\u001B[38;5;241m3\u001B[39m,\u001B[38;5;241m4\u001B[39m])\u001B[38;5;241m.\u001B[39mfillna(\u001B[38;5;241m1\u001B[39m))\n\u001B[0;32m     10\u001B[0m \u001B[38;5;66;03m# Summarize scores\u001B[39;00m\n\u001B[0;32m     11\u001B[0m np\u001B[38;5;241m.\u001B[39mset_printoptions(precision\u001B[38;5;241m=\u001B[39m\u001B[38;5;241m3\u001B[39m)\n",
      "File \u001B[1;32m~\\Documents\\EmotionRecognitionKeystrokeDynamics\\venv\\lib\\site-packages\\pandas\\core\\indexing.py:925\u001B[0m, in \u001B[0;36m_LocationIndexer.__getitem__\u001B[1;34m(self, key)\u001B[0m\n\u001B[0;32m    923\u001B[0m         \u001B[38;5;28;01mwith\u001B[39;00m suppress(\u001B[38;5;167;01mKeyError\u001B[39;00m, \u001B[38;5;167;01mIndexError\u001B[39;00m):\n\u001B[0;32m    924\u001B[0m             \u001B[38;5;28;01mreturn\u001B[39;00m \u001B[38;5;28mself\u001B[39m\u001B[38;5;241m.\u001B[39mobj\u001B[38;5;241m.\u001B[39m_get_value(\u001B[38;5;241m*\u001B[39mkey, takeable\u001B[38;5;241m=\u001B[39m\u001B[38;5;28mself\u001B[39m\u001B[38;5;241m.\u001B[39m_takeable)\n\u001B[1;32m--> 925\u001B[0m     \u001B[38;5;28;01mreturn\u001B[39;00m \u001B[38;5;28;43mself\u001B[39;49m\u001B[38;5;241;43m.\u001B[39;49m\u001B[43m_getitem_tuple\u001B[49m\u001B[43m(\u001B[49m\u001B[43mkey\u001B[49m\u001B[43m)\u001B[49m\n\u001B[0;32m    926\u001B[0m \u001B[38;5;28;01melse\u001B[39;00m:\n\u001B[0;32m    927\u001B[0m     \u001B[38;5;66;03m# we by definition only have the 0th axis\u001B[39;00m\n\u001B[0;32m    928\u001B[0m     axis \u001B[38;5;241m=\u001B[39m \u001B[38;5;28mself\u001B[39m\u001B[38;5;241m.\u001B[39maxis \u001B[38;5;129;01mor\u001B[39;00m \u001B[38;5;241m0\u001B[39m\n",
      "File \u001B[1;32m~\\Documents\\EmotionRecognitionKeystrokeDynamics\\venv\\lib\\site-packages\\pandas\\core\\indexing.py:1109\u001B[0m, in \u001B[0;36m_LocIndexer._getitem_tuple\u001B[1;34m(self, tup)\u001B[0m\n\u001B[0;32m   1106\u001B[0m \u001B[38;5;28;01mif\u001B[39;00m \u001B[38;5;28mself\u001B[39m\u001B[38;5;241m.\u001B[39m_multi_take_opportunity(tup):\n\u001B[0;32m   1107\u001B[0m     \u001B[38;5;28;01mreturn\u001B[39;00m \u001B[38;5;28mself\u001B[39m\u001B[38;5;241m.\u001B[39m_multi_take(tup)\n\u001B[1;32m-> 1109\u001B[0m \u001B[38;5;28;01mreturn\u001B[39;00m \u001B[38;5;28;43mself\u001B[39;49m\u001B[38;5;241;43m.\u001B[39;49m\u001B[43m_getitem_tuple_same_dim\u001B[49m\u001B[43m(\u001B[49m\u001B[43mtup\u001B[49m\u001B[43m)\u001B[49m\n",
      "File \u001B[1;32m~\\Documents\\EmotionRecognitionKeystrokeDynamics\\venv\\lib\\site-packages\\pandas\\core\\indexing.py:806\u001B[0m, in \u001B[0;36m_LocationIndexer._getitem_tuple_same_dim\u001B[1;34m(self, tup)\u001B[0m\n\u001B[0;32m    803\u001B[0m \u001B[38;5;28;01mif\u001B[39;00m com\u001B[38;5;241m.\u001B[39mis_null_slice(key):\n\u001B[0;32m    804\u001B[0m     \u001B[38;5;28;01mcontinue\u001B[39;00m\n\u001B[1;32m--> 806\u001B[0m retval \u001B[38;5;241m=\u001B[39m \u001B[38;5;28;43mgetattr\u001B[39;49m\u001B[43m(\u001B[49m\u001B[43mretval\u001B[49m\u001B[43m,\u001B[49m\u001B[43m \u001B[49m\u001B[38;5;28;43mself\u001B[39;49m\u001B[38;5;241;43m.\u001B[39;49m\u001B[43mname\u001B[49m\u001B[43m)\u001B[49m\u001B[38;5;241;43m.\u001B[39;49m\u001B[43m_getitem_axis\u001B[49m\u001B[43m(\u001B[49m\u001B[43mkey\u001B[49m\u001B[43m,\u001B[49m\u001B[43m \u001B[49m\u001B[43maxis\u001B[49m\u001B[38;5;241;43m=\u001B[39;49m\u001B[43mi\u001B[49m\u001B[43m)\u001B[49m\n\u001B[0;32m    807\u001B[0m \u001B[38;5;66;03m# We should never have retval.ndim < self.ndim, as that should\u001B[39;00m\n\u001B[0;32m    808\u001B[0m \u001B[38;5;66;03m#  be handled by the _getitem_lowerdim call above.\u001B[39;00m\n\u001B[0;32m    809\u001B[0m \u001B[38;5;28;01massert\u001B[39;00m retval\u001B[38;5;241m.\u001B[39mndim \u001B[38;5;241m==\u001B[39m \u001B[38;5;28mself\u001B[39m\u001B[38;5;241m.\u001B[39mndim\n",
      "File \u001B[1;32m~\\Documents\\EmotionRecognitionKeystrokeDynamics\\venv\\lib\\site-packages\\pandas\\core\\indexing.py:1153\u001B[0m, in \u001B[0;36m_LocIndexer._getitem_axis\u001B[1;34m(self, key, axis)\u001B[0m\n\u001B[0;32m   1150\u001B[0m     \u001B[38;5;28;01mif\u001B[39;00m \u001B[38;5;28mhasattr\u001B[39m(key, \u001B[38;5;124m\"\u001B[39m\u001B[38;5;124mndim\u001B[39m\u001B[38;5;124m\"\u001B[39m) \u001B[38;5;129;01mand\u001B[39;00m key\u001B[38;5;241m.\u001B[39mndim \u001B[38;5;241m>\u001B[39m \u001B[38;5;241m1\u001B[39m:\n\u001B[0;32m   1151\u001B[0m         \u001B[38;5;28;01mraise\u001B[39;00m \u001B[38;5;167;01mValueError\u001B[39;00m(\u001B[38;5;124m\"\u001B[39m\u001B[38;5;124mCannot index with multidimensional key\u001B[39m\u001B[38;5;124m\"\u001B[39m)\n\u001B[1;32m-> 1153\u001B[0m     \u001B[38;5;28;01mreturn\u001B[39;00m \u001B[38;5;28;43mself\u001B[39;49m\u001B[38;5;241;43m.\u001B[39;49m\u001B[43m_getitem_iterable\u001B[49m\u001B[43m(\u001B[49m\u001B[43mkey\u001B[49m\u001B[43m,\u001B[49m\u001B[43m \u001B[49m\u001B[43maxis\u001B[49m\u001B[38;5;241;43m=\u001B[39;49m\u001B[43maxis\u001B[49m\u001B[43m)\u001B[49m\n\u001B[0;32m   1155\u001B[0m \u001B[38;5;66;03m# nested tuple slicing\u001B[39;00m\n\u001B[0;32m   1156\u001B[0m \u001B[38;5;28;01mif\u001B[39;00m is_nested_tuple(key, labels):\n",
      "File \u001B[1;32m~\\Documents\\EmotionRecognitionKeystrokeDynamics\\venv\\lib\\site-packages\\pandas\\core\\indexing.py:1093\u001B[0m, in \u001B[0;36m_LocIndexer._getitem_iterable\u001B[1;34m(self, key, axis)\u001B[0m\n\u001B[0;32m   1090\u001B[0m \u001B[38;5;28mself\u001B[39m\u001B[38;5;241m.\u001B[39m_validate_key(key, axis)\n\u001B[0;32m   1092\u001B[0m \u001B[38;5;66;03m# A collection of keys\u001B[39;00m\n\u001B[1;32m-> 1093\u001B[0m keyarr, indexer \u001B[38;5;241m=\u001B[39m \u001B[38;5;28;43mself\u001B[39;49m\u001B[38;5;241;43m.\u001B[39;49m\u001B[43m_get_listlike_indexer\u001B[49m\u001B[43m(\u001B[49m\u001B[43mkey\u001B[49m\u001B[43m,\u001B[49m\u001B[43m \u001B[49m\u001B[43maxis\u001B[49m\u001B[43m)\u001B[49m\n\u001B[0;32m   1094\u001B[0m \u001B[38;5;28;01mreturn\u001B[39;00m \u001B[38;5;28mself\u001B[39m\u001B[38;5;241m.\u001B[39mobj\u001B[38;5;241m.\u001B[39m_reindex_with_indexers(\n\u001B[0;32m   1095\u001B[0m     {axis: [keyarr, indexer]}, copy\u001B[38;5;241m=\u001B[39m\u001B[38;5;28;01mTrue\u001B[39;00m, allow_dups\u001B[38;5;241m=\u001B[39m\u001B[38;5;28;01mTrue\u001B[39;00m\n\u001B[0;32m   1096\u001B[0m )\n",
      "File \u001B[1;32m~\\Documents\\EmotionRecognitionKeystrokeDynamics\\venv\\lib\\site-packages\\pandas\\core\\indexing.py:1314\u001B[0m, in \u001B[0;36m_LocIndexer._get_listlike_indexer\u001B[1;34m(self, key, axis)\u001B[0m\n\u001B[0;32m   1311\u001B[0m \u001B[38;5;28;01melse\u001B[39;00m:\n\u001B[0;32m   1312\u001B[0m     keyarr, indexer, new_indexer \u001B[38;5;241m=\u001B[39m ax\u001B[38;5;241m.\u001B[39m_reindex_non_unique(keyarr)\n\u001B[1;32m-> 1314\u001B[0m \u001B[38;5;28;43mself\u001B[39;49m\u001B[38;5;241;43m.\u001B[39;49m\u001B[43m_validate_read_indexer\u001B[49m\u001B[43m(\u001B[49m\u001B[43mkeyarr\u001B[49m\u001B[43m,\u001B[49m\u001B[43m \u001B[49m\u001B[43mindexer\u001B[49m\u001B[43m,\u001B[49m\u001B[43m \u001B[49m\u001B[43maxis\u001B[49m\u001B[43m)\u001B[49m\n\u001B[0;32m   1316\u001B[0m \u001B[38;5;28;01mif\u001B[39;00m needs_i8_conversion(ax\u001B[38;5;241m.\u001B[39mdtype) \u001B[38;5;129;01mor\u001B[39;00m \u001B[38;5;28misinstance\u001B[39m(\n\u001B[0;32m   1317\u001B[0m     ax, (IntervalIndex, CategoricalIndex)\n\u001B[0;32m   1318\u001B[0m ):\n\u001B[0;32m   1319\u001B[0m     \u001B[38;5;66;03m# For CategoricalIndex take instead of reindex to preserve dtype.\u001B[39;00m\n\u001B[0;32m   1320\u001B[0m     \u001B[38;5;66;03m#  For IntervalIndex this is to map integers to the Intervals they match to.\u001B[39;00m\n\u001B[0;32m   1321\u001B[0m     keyarr \u001B[38;5;241m=\u001B[39m ax\u001B[38;5;241m.\u001B[39mtake(indexer)\n",
      "File \u001B[1;32m~\\Documents\\EmotionRecognitionKeystrokeDynamics\\venv\\lib\\site-packages\\pandas\\core\\indexing.py:1377\u001B[0m, in \u001B[0;36m_LocIndexer._validate_read_indexer\u001B[1;34m(self, key, indexer, axis)\u001B[0m\n\u001B[0;32m   1374\u001B[0m     \u001B[38;5;28;01mraise\u001B[39;00m \u001B[38;5;167;01mKeyError\u001B[39;00m(\u001B[38;5;124mf\u001B[39m\u001B[38;5;124m\"\u001B[39m\u001B[38;5;124mNone of [\u001B[39m\u001B[38;5;132;01m{\u001B[39;00mkey\u001B[38;5;132;01m}\u001B[39;00m\u001B[38;5;124m] are in the [\u001B[39m\u001B[38;5;132;01m{\u001B[39;00maxis_name\u001B[38;5;132;01m}\u001B[39;00m\u001B[38;5;124m]\u001B[39m\u001B[38;5;124m\"\u001B[39m)\n\u001B[0;32m   1376\u001B[0m not_found \u001B[38;5;241m=\u001B[39m \u001B[38;5;28mlist\u001B[39m(ensure_index(key)[missing_mask\u001B[38;5;241m.\u001B[39mnonzero()[\u001B[38;5;241m0\u001B[39m]]\u001B[38;5;241m.\u001B[39munique())\n\u001B[1;32m-> 1377\u001B[0m \u001B[38;5;28;01mraise\u001B[39;00m \u001B[38;5;167;01mKeyError\u001B[39;00m(\u001B[38;5;124mf\u001B[39m\u001B[38;5;124m\"\u001B[39m\u001B[38;5;132;01m{\u001B[39;00mnot_found\u001B[38;5;132;01m}\u001B[39;00m\u001B[38;5;124m not in index\u001B[39m\u001B[38;5;124m\"\u001B[39m)\n",
      "\u001B[1;31mKeyError\u001B[0m: \"['country', 'typistType'] not in index\""
     ]
    }
   ],
   "source": [
    "from sklearn.feature_selection import chi2\n",
    "from sklearn.feature_selection import SelectKBest\n",
    "\n",
    "demo_features = np.array(['typeWith','gender','ageRange','degree','pcTimeAverage','status','country','typistType'])\n",
    "\n",
    "# Feature extraction\n",
    "test = SelectKBest(score_func=chi2, k=8)\n",
    "fit = test.fit(data_free.loc[:,demo_features].fillna(100).replace(-1,16), pd.cut(data_free.D1U2_mean.fillna(0),bins=[0,372,445,573,4306],labels=[1,2,3,4]).fillna(1))\n",
    "\n",
    "# Summarize scores\n",
    "np.set_printoptions(precision=3)\n",
    "print(\"Ordered features by importance with their corresponding chi2 score\")\n",
    "print(demo_features[np.argsort(fit.scores_)][::-1])\n",
    "print(fit.scores_[np.argsort(fit.scores_)][::-1])"
   ]
  },
  {
   "cell_type": "markdown",
   "metadata": {},
   "source": [
    "#### Correlation coefficients"
   ]
  },
  {
   "cell_type": "code",
   "execution_count": null,
   "metadata": {
    "ExecuteTime": {
     "start_time": "2024-06-03T14:24:50.322350700Z"
    }
   },
   "outputs": [],
   "source": [
    "importances = data_free.apply(lambda x: x.corr(data_free.D1U2_mean))\n",
    "indices = np.argsort(importances)\n",
    "indices_abs = np.argsort(np.abs(importances))[::-1]\n",
    "print(importances[indices_abs])"
   ]
  },
  {
   "cell_type": "code",
   "execution_count": null,
   "metadata": {
    "ExecuteTime": {
     "start_time": "2024-06-03T14:24:50.323350500Z"
    }
   },
   "outputs": [],
   "source": [
    "plt.figure(figsize=(10,10))\n",
    "plt.barh(range(len(indices)), importances[indices], color='g', align='center')\n",
    "plt.yticks(range(len(indices)), importances[indices].index.values)\n",
    "plt.xlabel('Relative Importance')\n",
    "plt.show()"
   ]
  },
  {
   "cell_type": "markdown",
   "metadata": {},
   "source": [
    "#### Information Gain"
   ]
  },
  {
   "cell_type": "code",
   "execution_count": null,
   "metadata": {
    "ExecuteTime": {
     "start_time": "2024-06-03T14:24:50.323350500Z"
    }
   },
   "outputs": [],
   "source": [
    "from info_gain import info_gain \n",
    "\n",
    "importances_ig = []\n",
    "for col in data_free.columns:\n",
    "    importances_ig.append(info_gain.info_gain(data_free[col],data_free.D1U2_mean))\n",
    "indices_ig = np.argsort(importances_ig)[::-1]\n",
    "pd.concat([pd.Series(data_free.columns[indices_ig]), pd.Series(np.sort(importances_ig)[::-1])], axis=1).set_index(0)"
   ]
  },
  {
   "cell_type": "markdown",
   "metadata": {},
   "source": [
    "#### Mutual information"
   ]
  },
  {
   "cell_type": "code",
   "execution_count": null,
   "metadata": {
    "ExecuteTime": {
     "start_time": "2024-06-03T14:24:50.324350500Z"
    }
   },
   "outputs": [],
   "source": [
    "from sklearn.feature_selection import mutual_info_regression\n",
    "\n",
    "mi = mutual_info_regression(data_free, data_free.D1U2_mean)\n",
    "mi = pd.Series(mi)\n",
    "mi.index = data_free.columns\n",
    "mi.sort_values(ascending=False)\n",
    "mi.sort_values(ascending=False).plot.bar(figsize=(10, 4))"
   ]
  },
  {
   "cell_type": "markdown",
   "metadata": {},
   "source": [
    "#### Recursive Feature Elimination (RFE)"
   ]
  },
  {
   "cell_type": "code",
   "execution_count": null,
   "metadata": {
    "ExecuteTime": {
     "start_time": "2024-06-03T14:24:50.325350Z"
    }
   },
   "outputs": [],
   "source": [
    "from sklearn.feature_selection import RFE\n",
    "from sklearn.linear_model import LogisticRegression\n",
    "\n",
    "model = LogisticRegression(max_iter=1000) \n",
    "rfe = RFE(model, 1)\n",
    "fit = rfe.fit(data_free, label_free)\n",
    "\n",
    "print(\"Feature Ranking: %s\"% fit.ranking_)"
   ]
  },
  {
   "cell_type": "code",
   "execution_count": null,
   "metadata": {
    "ExecuteTime": {
     "start_time": "2024-06-03T14:24:50.325350Z"
    }
   },
   "outputs": [],
   "source": [
    "list(data_free.columns[fit.ranking_ - 1])"
   ]
  },
  {
   "cell_type": "markdown",
   "metadata": {},
   "source": [
    "#### SHAP values"
   ]
  },
  {
   "cell_type": "code",
   "execution_count": null,
   "metadata": {
    "ExecuteTime": {
     "start_time": "2024-06-03T14:24:50.326351400Z"
    }
   },
   "outputs": [],
   "source": [
    "# DF, based on which importance is checked\n",
    "X_importance = pd.DataFrame(data_free_filter, columns=data_free_filter.columns)\n",
    "\n",
    "# Explain model predictions using shap library:\n",
    "explainer = shap.TreeExplainer(model)\n",
    "shap_values = explainer.shap_values(X_importance)\n",
    "\n",
    "# Plot summary_plot\n",
    "shap.summary_plot(shap_values, X_importance, max_display=data_free.shape[1])"
   ]
  },
  {
   "cell_type": "markdown",
   "metadata": {},
   "source": [
    "#### RF feature importance"
   ]
  },
  {
   "cell_type": "code",
   "execution_count": null,
   "metadata": {
    "ExecuteTime": {
     "start_time": "2024-06-03T14:24:50.326351400Z"
    }
   },
   "outputs": [],
   "source": [
    "best_model = 'RF'\n",
    "X_train, X_test, Y_train, Y_test = train_test_split(data_free, label_free, test_size=0.2)\n",
    "\n",
    "scaler = MinMaxScaler()\n",
    "X_train = scaler.fit_transform(X_train)\n",
    "X_test = scaler.transform(X_test)\n",
    "\n",
    "model = classifiers[classifiers_name.index(best_model)]\n",
    "model.fit(X_train, Y_train)\n",
    "\n",
    "performance_metrics = compute_metrics(model, X_test, Y_test, show=True)\n",
    "plot_confusion_matrix(performance_metrics[\"Confusion Matrix\"])"
   ]
  },
  {
   "cell_type": "code",
   "execution_count": null,
   "metadata": {
    "ExecuteTime": {
     "start_time": "2024-06-03T14:24:50.327353200Z"
    }
   },
   "outputs": [],
   "source": [
    "plt.figure(figsize=(10,10))\n",
    "pd.Series(model.feature_importances_, index=data_free.columns).nlargest(data_free.shape[1])[::-1].plot(kind='barh')\n",
    "plt.show()"
   ]
  },
  {
   "cell_type": "markdown",
   "metadata": {},
   "source": [
    "#### XGB feature importance"
   ]
  },
  {
   "cell_type": "code",
   "execution_count": null,
   "metadata": {
    "ExecuteTime": {
     "start_time": "2024-06-03T14:24:50.328351700Z"
    }
   },
   "outputs": [],
   "source": [
    "best_model = 'XGB'\n",
    "X_train, X_test, Y_train, Y_test = train_test_split(data_free, label_free, test_size=0.2)\n",
    "\n",
    "scaler = MinMaxScaler()\n",
    "X_train = scaler.fit_transform(X_train)\n",
    "X_test = scaler.transform(X_test)\n",
    "\n",
    "model = classifiers[classifiers_name.index(best_model)]\n",
    "model.fit(X_train, Y_train)\n",
    "\n",
    "performance_metrics = compute_metrics(model, X_test, Y_test, show=True)\n",
    "plot_confusion_matrix(performance_metrics[\"Confusion Matrix\"])"
   ]
  },
  {
   "cell_type": "code",
   "execution_count": null,
   "metadata": {
    "ExecuteTime": {
     "start_time": "2024-06-03T14:24:50.328351700Z"
    }
   },
   "outputs": [],
   "source": [
    "plt.figure(figsize=(10,10))\n",
    "pd.Series(model.feature_importances_, index=data_free.columns).nlargest(data_free.shape[1])[::-1].plot(kind='barh')\n",
    "plt.show()"
   ]
  }
 ],
 "metadata": {
  "kernelspec": {
   "display_name": "Python 3",
   "language": "python",
   "name": "python3"
  },
  "language_info": {
   "codemirror_mode": {
    "name": "ipython",
    "version": 3
   },
   "file_extension": ".py",
   "mimetype": "text/x-python",
   "name": "python",
   "nbconvert_exporter": "python",
   "pygments_lexer": "ipython3",
   "version": "3.9.1"
  }
 },
 "nbformat": 4,
 "nbformat_minor": 4
}
