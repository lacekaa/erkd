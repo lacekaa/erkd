{
 "cells": [
  {
   "cell_type": "code",
   "execution_count": 54,
   "metadata": {
    "ExecuteTime": {
     "end_time": "2025-01-20T15:38:28.417454Z",
     "start_time": "2025-01-20T15:38:17.399446Z"
    }
   },
   "outputs": [],
   "source": [
    "import numpy as np\n",
    "import pandas as pd\n",
    "import nltk\n",
    "import seaborn as sn\n",
    "import matplotlib.pyplot as plt\n",
    "import language_tool_python\n",
    "import scipy.stats as stats\n",
    "\n",
    "tool = language_tool_python.LanguageTool('en-US')\n",
    "is_bad_rule = lambda rule: rule.message == 'Possible spelling mistake found.' and len(rule.replacements) and \\\n",
    "                           rule.replacements[0][0].isupper()"
   ]
  },
  {
   "cell_type": "markdown",
   "metadata": {},
   "source": [
    "## Data importation"
   ]
  },
  {
   "cell_type": "code",
   "execution_count": 55,
   "metadata": {
    "ExecuteTime": {
     "end_time": "2025-01-20T15:38:28.542530Z",
     "start_time": "2025-01-20T15:38:28.419455Z"
    }
   },
   "outputs": [],
   "source": [
    "df_free = pd.read_csv('data/free_text_typing_dataset.csv', sep=';')\n",
    "df_freq = pd.read_csv('data/frequency_dataset.csv', sep=';')\n",
    "df_user = pd.read_csv('data/participants_information.csv', sep=';')\n",
    "\n",
    "df_free = df_free.rename(columns={'userid': 'userId'})\n",
    "df_freq = df_freq.rename(columns={'User ID': 'userId'})"
   ]
  },
  {
   "cell_type": "markdown",
   "metadata": {},
   "source": [
    "## Sentences reconstruction and feature extraction"
   ]
  },
  {
   "cell_type": "code",
   "execution_count": 56,
   "metadata": {
    "ExecuteTime": {
     "end_time": "2025-01-20T15:38:31.257644Z",
     "start_time": "2025-01-20T15:38:28.543529Z"
    }
   },
   "outputs": [],
   "source": [
    "# reconstruct users' sentences from the keycode in df_free\n",
    "\n",
    "sentence = ''\n",
    "uppercase = False\n",
    "uppercase_tmp = False\n",
    "i_start = 0\n",
    "i_end = 0\n",
    "text_free = pd.DataFrame(columns=['sentence', 'idx_start', 'idx_end'])\n",
    "\n",
    "df_free.keyCode = df_free.keyCode.astype(str)\n",
    "\n",
    "for i in range(len(df_free)):\n",
    "    if i > 0 and (df_free.userId[i] != df_free.userId[i - 1] or df_free.emotionIndex[i] != df_free.emotionIndex[\n",
    "        i - 1]):  #df_free._id[i][:-2] != df_free._id[i-1][:-2]:\n",
    "        i_end = i - 1\n",
    "        if len(sentence) > 1 and sentence[0].islower() and sentence[1].isupper():\n",
    "            sentence = sentence.swapcase()\n",
    "        text_free = text_free.append(\n",
    "            pd.DataFrame([[sentence, i_start, i_end]], columns=['sentence', 'idx_start', 'idx_end']), ignore_index=True)\n",
    "        i_start = i\n",
    "        sentence = ''\n",
    "        uppercase = False\n",
    "        uppercase_tmp = False\n",
    "    if df_free.keyCode[i] == '\\\\b':  # delete key\n",
    "        sentence = sentence[:max(0, len(sentence) - 1)]\n",
    "        uppercase_tmp = False\n",
    "        continue\n",
    "    if df_free.keyCode[i] == '\\\\u0014':  # caps lock key\n",
    "        uppercase = not uppercase\n",
    "        continue\n",
    "    if df_free.keyCode[i] == '\\\\u0010' and not uppercase:  # shift key\n",
    "        uppercase_tmp = True\n",
    "        continue\n",
    "    if df_free.keyCode[i] == '¼':  # comma key\n",
    "        sentence += ','\n",
    "        uppercase_tmp = False\n",
    "        continue\n",
    "    if df_free.keyCode[i] == 'ß':  # exclamation mark key\n",
    "        sentence += '!'\n",
    "        uppercase_tmp = False\n",
    "        continue\n",
    "    if df_free.keyCode[i] == '¾':  # dot key\n",
    "        sentence += '.'\n",
    "        uppercase_tmp = False\n",
    "        continue\n",
    "    if df_free.keyCode[i] == '4    ':  # apostrophe key\n",
    "        sentence += \"'\"\n",
    "        uppercase_tmp = False\n",
    "        continue\n",
    "    if df_free.keyCode[i] == '6    ':  # dash key\n",
    "        sentence += \"-\"\n",
    "        uppercase_tmp = False\n",
    "        continue\n",
    "    if df_free.keyCode[i] == '¿':  # colon key\n",
    "        sentence += \":\"\n",
    "        uppercase_tmp = False\n",
    "        continue\n",
    "    if uppercase:\n",
    "        sentence += df_free.keyCode[i].upper()\n",
    "        continue\n",
    "    if uppercase_tmp:\n",
    "        sentence += df_free.keyCode[i].upper()\n",
    "        uppercase_tmp = False\n",
    "        continue\n",
    "    sentence += df_free.keyCode[i]\n",
    "\n",
    "text_free = text_free.append(pd.DataFrame([[sentence, i_start, i]], columns=['sentence', 'idx_start', 'idx_end']),\n",
    "                             ignore_index=True)"
   ]
  },
  {
   "cell_type": "code",
   "execution_count": 57,
   "metadata": {
    "ExecuteTime": {
     "end_time": "2025-01-20T15:38:31.289641Z",
     "start_time": "2025-01-20T15:38:31.259644Z"
    }
   },
   "outputs": [
    {
     "data": {
      "text/plain": "                        _id  userId emotionIndex  index keyCode      keyDown  \\\n0  5e1e2631d2dd163d472fd5ac     100            N    822  \\u0011  1,57903E+12   \n1  5e1e2631d2dd163d472fd5ad     100            N    823       v  1,57903E+12   \n2  5e1e2631d2dd163d472fd5ae     100            N    824      \\b  1,57903E+12   \n3  5e1e2631d2dd163d472fd5af     100            N    825      \\b  1,57903E+12   \n4  5e1e2631d2dd163d472fd5b0     100            N    826      \\b  1,57903E+12   \n\n         keyUp          D1U1          D1U2     D1D2         U1D2  \\\n0  1,57903E+12           982           764    709.0         -273   \n1  1,57903E+12            55  -1,57903E+12  23415.0        23360   \n2          NaN  -1,57903E+12  -1,57903E+12    607.0  1,57903E+12   \n3          NaN  -1,57903E+12  -1,57903E+12     35.0  1,57903E+12   \n4          NaN  -1,57903E+12  -1,57903E+12     42.0  1,57903E+12   \n\n           U1U2 answer  \n0          -218    NaN  \n1  -1,57903E+12    NaN  \n2             0    NaN  \n3             0    NaN  \n4             0    NaN  ",
      "text/html": "<div>\n<style scoped>\n    .dataframe tbody tr th:only-of-type {\n        vertical-align: middle;\n    }\n\n    .dataframe tbody tr th {\n        vertical-align: top;\n    }\n\n    .dataframe thead th {\n        text-align: right;\n    }\n</style>\n<table border=\"1\" class=\"dataframe\">\n  <thead>\n    <tr style=\"text-align: right;\">\n      <th></th>\n      <th>_id</th>\n      <th>userId</th>\n      <th>emotionIndex</th>\n      <th>index</th>\n      <th>keyCode</th>\n      <th>keyDown</th>\n      <th>keyUp</th>\n      <th>D1U1</th>\n      <th>D1U2</th>\n      <th>D1D2</th>\n      <th>U1D2</th>\n      <th>U1U2</th>\n      <th>answer</th>\n    </tr>\n  </thead>\n  <tbody>\n    <tr>\n      <th>0</th>\n      <td>5e1e2631d2dd163d472fd5ac</td>\n      <td>100</td>\n      <td>N</td>\n      <td>822</td>\n      <td>\\u0011</td>\n      <td>1,57903E+12</td>\n      <td>1,57903E+12</td>\n      <td>982</td>\n      <td>764</td>\n      <td>709.0</td>\n      <td>-273</td>\n      <td>-218</td>\n      <td>NaN</td>\n    </tr>\n    <tr>\n      <th>1</th>\n      <td>5e1e2631d2dd163d472fd5ad</td>\n      <td>100</td>\n      <td>N</td>\n      <td>823</td>\n      <td>v</td>\n      <td>1,57903E+12</td>\n      <td>1,57903E+12</td>\n      <td>55</td>\n      <td>-1,57903E+12</td>\n      <td>23415.0</td>\n      <td>23360</td>\n      <td>-1,57903E+12</td>\n      <td>NaN</td>\n    </tr>\n    <tr>\n      <th>2</th>\n      <td>5e1e2631d2dd163d472fd5ae</td>\n      <td>100</td>\n      <td>N</td>\n      <td>824</td>\n      <td>\\b</td>\n      <td>1,57903E+12</td>\n      <td>NaN</td>\n      <td>-1,57903E+12</td>\n      <td>-1,57903E+12</td>\n      <td>607.0</td>\n      <td>1,57903E+12</td>\n      <td>0</td>\n      <td>NaN</td>\n    </tr>\n    <tr>\n      <th>3</th>\n      <td>5e1e2631d2dd163d472fd5af</td>\n      <td>100</td>\n      <td>N</td>\n      <td>825</td>\n      <td>\\b</td>\n      <td>1,57903E+12</td>\n      <td>NaN</td>\n      <td>-1,57903E+12</td>\n      <td>-1,57903E+12</td>\n      <td>35.0</td>\n      <td>1,57903E+12</td>\n      <td>0</td>\n      <td>NaN</td>\n    </tr>\n    <tr>\n      <th>4</th>\n      <td>5e1e2631d2dd163d472fd5b0</td>\n      <td>100</td>\n      <td>N</td>\n      <td>826</td>\n      <td>\\b</td>\n      <td>1,57903E+12</td>\n      <td>NaN</td>\n      <td>-1,57903E+12</td>\n      <td>-1,57903E+12</td>\n      <td>42.0</td>\n      <td>1,57903E+12</td>\n      <td>0</td>\n      <td>NaN</td>\n    </tr>\n  </tbody>\n</table>\n</div>"
     },
     "execution_count": 57,
     "metadata": {},
     "output_type": "execute_result"
    }
   ],
   "source": [
    "# drop features highly correlated  with other features\n",
    "df_free = df_free.drop(['D1U3', 'D1D3'], axis=1)\n",
    "df_free.head()"
   ]
  },
  {
   "cell_type": "code",
   "execution_count": 58,
   "metadata": {
    "ExecuteTime": {
     "end_time": "2025-01-20T15:38:31.304643Z",
     "start_time": "2025-01-20T15:38:31.291643Z"
    }
   },
   "outputs": [],
   "source": [
    "# functions to extract features from the df_free table\n",
    "def extract_editDistance_free(sentence):\n",
    "    matches = tool.check(sentence)\n",
    "    matches = [rule for rule in matches if not is_bad_rule(rule)]\n",
    "    correct = language_tool_python.utils.correct(sentence, matches)\n",
    "    return nltk.edit_distance(sentence, correct)\n",
    "\n",
    "\n",
    "def extract_nbKeystroke(val, start, end):\n",
    "    return val[end] - val[start] + 1\n",
    "\n",
    "\n",
    "def extract_mean(val, start, end):\n",
    "    return np.mean(val[start:end + 1])\n",
    "\n",
    "\n",
    "def extract_std(val, start, end):\n",
    "    return np.std(val[start:end + 1])\n",
    "\n",
    "\n",
    "def extract_answer(val, start, end):\n",
    "    for i in range(start, end + 1):\n",
    "        if val[i] != np.nan:\n",
    "            return val[i]\n",
    "    return np.nan"
   ]
  },
  {
   "cell_type": "code",
   "execution_count": 59,
   "metadata": {
    "ExecuteTime": {
     "end_time": "2025-01-20T15:39:04.778251Z",
     "start_time": "2025-01-20T15:38:31.306641Z"
    }
   },
   "outputs": [
    {
     "data": {
      "text/plain": "  idx_start idx_end  userId emotionIndex  \\\n0         0     147     100            N   \n1       148     204     100            H   \n2       205     329     113            N   \n3       330     428     113            C   \n4       429     483     113            H   \n\n                                            sentence  editDistance  \\\n0                                                                0   \n1  \\u0011v                                       ...            54   \n2         i spent all the day at home , watching tv              2   \n3  i love nature and calm places they are so rela...             1   \n4                            Babies are always cute              0   \n\n   nbKeystroke answer   D1U1_mean    D1U1_std   D1U2_mean    D1U2_std  \\\n0          148    NaN  129.055556  209.692492  354.823529  388.461102   \n1           57      R  623.666667  805.151884  807.000000  738.000000   \n2          125    NaN   81.840426   17.108106  452.322581  768.536497   \n3           99    NaN   80.518519   21.773305  471.662500  708.471258   \n4           55      R   79.944444   16.943716  355.641509  234.051123   \n\n    D1D2_mean     D1D2_std    U1D2_mean     U1D2_std   U1U2_mean    U1U2_std  \n0  237.190476  1925.711443  1531.588235  5470.427094   27.120567  155.153800  \n1  169.339286   731.543458  2504.500000  2799.500000   -4.018519   29.255256  \n2  316.620968   696.210104   319.215054   779.491188  288.000000  691.356686  \n3  389.540816   711.718088   371.462500   766.997114  341.119565  670.032800  \n4  292.018519   263.993090   207.905660   260.560373  272.692308  231.421904  ",
      "text/html": "<div>\n<style scoped>\n    .dataframe tbody tr th:only-of-type {\n        vertical-align: middle;\n    }\n\n    .dataframe tbody tr th {\n        vertical-align: top;\n    }\n\n    .dataframe thead th {\n        text-align: right;\n    }\n</style>\n<table border=\"1\" class=\"dataframe\">\n  <thead>\n    <tr style=\"text-align: right;\">\n      <th></th>\n      <th>idx_start</th>\n      <th>idx_end</th>\n      <th>userId</th>\n      <th>emotionIndex</th>\n      <th>sentence</th>\n      <th>editDistance</th>\n      <th>nbKeystroke</th>\n      <th>answer</th>\n      <th>D1U1_mean</th>\n      <th>D1U1_std</th>\n      <th>D1U2_mean</th>\n      <th>D1U2_std</th>\n      <th>D1D2_mean</th>\n      <th>D1D2_std</th>\n      <th>U1D2_mean</th>\n      <th>U1D2_std</th>\n      <th>U1U2_mean</th>\n      <th>U1U2_std</th>\n    </tr>\n  </thead>\n  <tbody>\n    <tr>\n      <th>0</th>\n      <td>0</td>\n      <td>147</td>\n      <td>100</td>\n      <td>N</td>\n      <td></td>\n      <td>0</td>\n      <td>148</td>\n      <td>NaN</td>\n      <td>129.055556</td>\n      <td>209.692492</td>\n      <td>354.823529</td>\n      <td>388.461102</td>\n      <td>237.190476</td>\n      <td>1925.711443</td>\n      <td>1531.588235</td>\n      <td>5470.427094</td>\n      <td>27.120567</td>\n      <td>155.153800</td>\n    </tr>\n    <tr>\n      <th>1</th>\n      <td>148</td>\n      <td>204</td>\n      <td>100</td>\n      <td>H</td>\n      <td>\\u0011v                                       ...</td>\n      <td>54</td>\n      <td>57</td>\n      <td>R</td>\n      <td>623.666667</td>\n      <td>805.151884</td>\n      <td>807.000000</td>\n      <td>738.000000</td>\n      <td>169.339286</td>\n      <td>731.543458</td>\n      <td>2504.500000</td>\n      <td>2799.500000</td>\n      <td>-4.018519</td>\n      <td>29.255256</td>\n    </tr>\n    <tr>\n      <th>2</th>\n      <td>205</td>\n      <td>329</td>\n      <td>113</td>\n      <td>N</td>\n      <td>i spent all the day at home , watching tv</td>\n      <td>2</td>\n      <td>125</td>\n      <td>NaN</td>\n      <td>81.840426</td>\n      <td>17.108106</td>\n      <td>452.322581</td>\n      <td>768.536497</td>\n      <td>316.620968</td>\n      <td>696.210104</td>\n      <td>319.215054</td>\n      <td>779.491188</td>\n      <td>288.000000</td>\n      <td>691.356686</td>\n    </tr>\n    <tr>\n      <th>3</th>\n      <td>330</td>\n      <td>428</td>\n      <td>113</td>\n      <td>C</td>\n      <td>i love nature and calm places they are so rela...</td>\n      <td>1</td>\n      <td>99</td>\n      <td>NaN</td>\n      <td>80.518519</td>\n      <td>21.773305</td>\n      <td>471.662500</td>\n      <td>708.471258</td>\n      <td>389.540816</td>\n      <td>711.718088</td>\n      <td>371.462500</td>\n      <td>766.997114</td>\n      <td>341.119565</td>\n      <td>670.032800</td>\n    </tr>\n    <tr>\n      <th>4</th>\n      <td>429</td>\n      <td>483</td>\n      <td>113</td>\n      <td>H</td>\n      <td>Babies are always cute</td>\n      <td>0</td>\n      <td>55</td>\n      <td>R</td>\n      <td>79.944444</td>\n      <td>16.943716</td>\n      <td>355.641509</td>\n      <td>234.051123</td>\n      <td>292.018519</td>\n      <td>263.993090</td>\n      <td>207.905660</td>\n      <td>260.560373</td>\n      <td>272.692308</td>\n      <td>231.421904</td>\n    </tr>\n  </tbody>\n</table>\n</div>"
     },
     "execution_count": 59,
     "metadata": {},
     "output_type": "execute_result"
    }
   ],
   "source": [
    "# here as well UFuncTypeError: ufunc 'absolute' did not contain a loop with signature matching types <class 'numpy.dtypes.StrDType'> -> None\n",
    "\n",
    "# key_features = ['D1U1','D1U2','D1D2','U1D2','U1U2']\n",
    "# \n",
    "# text_free['userId'] = df_free.userId[text_free.idx_start].values\n",
    "# text_free['emotionIndex'] = df_free.emotionIndex[text_free.idx_start].values\n",
    "# text_free = text_free.reindex(columns=['idx_start','idx_end','userId','emotionIndex','sentence'])\n",
    "# text_free['editDistance'] = text_free.apply(lambda x: extract_editDistance_free(x['sentence']), axis=1)\n",
    "# text_free['nbKeystroke'] = text_free.apply(lambda x: extract_nbKeystroke(df_free.index, x['idx_start'], x['idx_end']), axis=1)\n",
    "# text_free['answer'] = text_free.apply(lambda x: extract_answer(df_free.answer, x['idx_start'], x['idx_end']), axis=1)\n",
    "# \n",
    "# for feat in key_features:\n",
    "#     df_free[feat] = df_free[feat].apply(lambda x: np.nan if np.abs(x) > 1570000000000 else x)\n",
    "#     text_free[feat+'_mean'] = text_free.apply(lambda x: extract_mean(df_free[feat], x['idx_start'], x['idx_end']), axis=1)\n",
    "#     text_free[feat+'_std'] = text_free.apply(lambda x: extract_std(df_free[feat], x['idx_start'], x['idx_end']), axis=1)\n",
    "# \n",
    "# \n",
    "# text_free.head()\n",
    "\n",
    "\n",
    "# changed into:\n",
    "key_features = ['D1U1', 'D1U2', 'D1D2', 'U1D2', 'U1U2']\n",
    "\n",
    "# Ensure the columns are numeric\n",
    "for feat in key_features:\n",
    "    df_free[feat] = pd.to_numeric(df_free[feat], errors='coerce')\n",
    "\n",
    "text_free['userId'] = df_free.userId[text_free.idx_start].values\n",
    "text_free['emotionIndex'] = df_free.emotionIndex[text_free.idx_start].values\n",
    "text_free = text_free.reindex(columns=['idx_start', 'idx_end', 'userId', 'emotionIndex', 'sentence'])\n",
    "text_free['editDistance'] = text_free.apply(lambda x: extract_editDistance_free(x['sentence']), axis=1)\n",
    "text_free['nbKeystroke'] = text_free.apply(lambda x: extract_nbKeystroke(df_free.index, x['idx_start'], x['idx_end']),\n",
    "                                           axis=1)\n",
    "text_free['answer'] = text_free.apply(lambda x: extract_answer(df_free.answer, x['idx_start'], x['idx_end']), axis=1)\n",
    "# Apply the lambda function after ensuring columns are numeric\n",
    "for feat in key_features:\n",
    "    df_free[feat] = df_free[feat].apply(lambda x: np.nan if np.abs(x) > 1570000000000 else x)\n",
    "    text_free[feat + '_mean'] = text_free.apply(lambda x: extract_mean(df_free[feat], x['idx_start'], x['idx_end']),\n",
    "                                                axis=1)\n",
    "    text_free[feat + '_std'] = text_free.apply(lambda x: extract_std(df_free[feat], x['idx_start'], x['idx_end']),\n",
    "                                               axis=1)\n",
    "\n",
    "# Additional processing\n",
    "\n",
    "text_free.head()\n"
   ]
  },
  {
   "cell_type": "code",
   "execution_count": 60,
   "metadata": {
    "ExecuteTime": {
     "end_time": "2025-01-20T15:39:05.871845Z",
     "start_time": "2025-01-20T15:39:04.780255Z"
    }
   },
   "outputs": [
    {
     "data": {
      "text/plain": "[]"
     },
     "execution_count": 60,
     "metadata": {},
     "output_type": "execute_result"
    },
    {
     "data": {
      "text/plain": "<Figure size 1500x1500 with 2 Axes>",
      "image/png": "[encoded data removed]"
     },
     "metadata": {},
     "output_type": "display_data"
    }
   ],
   "source": [
    "## correlation matrix\n",
    "\n",
    "# Numeric columns of the dataset\n",
    "text_free.emotionIndex = text_free.emotionIndex.map({'N': 0, 'H': 1, 'C': 2, 'S': 3, 'A': 4})\n",
    "numeric_col = ['emotionIndex', 'editDistance', 'nbKeystroke'] + [col for col in text_free.columns if '_mean' in col] + [\n",
    "    col for col in text_free.columns if '_std' in col]\n",
    "\n",
    "# Correlation Matrix formation\n",
    "corr_matrix = text_free.loc[:, numeric_col].corr()\n",
    "text_free.emotionIndex = text_free.emotionIndex.map({0: 'N', 1: 'H', 2: 'C', 3: 'S', 4: 'A'})\n",
    "\n",
    "#Using heatmap to visualize the correlation matrix\n",
    "plt.figure(figsize=(15, 15))\n",
    "sn.heatmap(corr_matrix, annot=True)\n",
    "plt.plot()"
   ]
  },
  {
   "cell_type": "markdown",
   "metadata": {},
   "source": [
    "## Join tables: text_free with df_freq_free"
   ]
  },
  {
   "cell_type": "code",
   "execution_count": 61,
   "metadata": {
    "ExecuteTime": {
     "end_time": "2025-01-20T15:39:05.886842Z",
     "start_time": "2025-01-20T15:39:05.874846Z"
    }
   },
   "outputs": [],
   "source": [
    "# filter free-text experiments in df_freq\n",
    "df_freq_free = df_freq[df_freq.textIndex == 'FR'].reset_index(drop=True)"
   ]
  },
  {
   "cell_type": "code",
   "execution_count": 62,
   "metadata": {
    "ExecuteTime": {
     "end_time": "2025-01-20T15:39:05.917844Z",
     "start_time": "2025-01-20T15:39:05.889843Z"
    }
   },
   "outputs": [],
   "source": [
    "# correction of expections to align df_freq_free and text_free tables\n",
    "text_free.loc[43, 'userId'] = 94\n",
    "tmp = text_free.loc[29]\n",
    "text_free.loc[29] = text_free.loc[30]\n",
    "text_free.loc[30] = tmp"
   ]
  },
  {
   "cell_type": "code",
   "execution_count": 63,
   "metadata": {
    "ExecuteTime": {
     "end_time": "2025-01-20T15:39:06.089834Z",
     "start_time": "2025-01-20T15:39:05.923840Z"
    }
   },
   "outputs": [],
   "source": [
    "# alignment of df_freq_free and text_free tables\n",
    "text_free['text_index'] = -1\n",
    "df_freq_free['text_index'] = -1\n",
    "index = 0\n",
    "\n",
    "i = 0\n",
    "j = 0\n",
    "while i < len(df_freq_free) and j < len(text_free):\n",
    "    if df_freq_free.userId[i] == text_free.userId[j] and df_freq_free.emotionIndex[i] == text_free.emotionIndex[j]:\n",
    "        df_freq_free.loc[i, 'text_index'] = index\n",
    "        text_free.loc[j, 'text_index'] = index\n",
    "        index += 1\n",
    "        i += 1\n",
    "        j += 1\n",
    "    elif j != len(text_free) - 1 and df_freq_free.userId[i] == text_free.userId[j + 1] and df_freq_free.emotionIndex[\n",
    "        i] == text_free.emotionIndex[j + 1]:\n",
    "        df_freq_free.loc[i, 'text_index'] = index\n",
    "        text_free.loc[j + 1, 'text_index'] = index\n",
    "        index += 1\n",
    "        i += 1\n",
    "        j += 2\n",
    "    elif i != len(df_freq_free) - 1 and df_freq_free.userId[i + 1] == text_free.userId[j] and df_freq_free.emotionIndex[\n",
    "        i + 1] == text_free.emotionIndex[j]:\n",
    "        df_freq_free.loc[i + 1, 'text_index'] = index\n",
    "        text_free.loc[j, 'text_index'] = index\n",
    "        index += 1\n",
    "        i += 2\n",
    "        j += 1\n",
    "    else:\n",
    "        i += 1\n",
    "        j += 1"
   ]
  },
  {
   "cell_type": "code",
   "execution_count": 64,
   "metadata": {
    "ExecuteTime": {
     "end_time": "2025-01-20T15:39:06.120832Z",
     "start_time": "2025-01-20T15:39:06.090835Z"
    }
   },
   "outputs": [],
   "source": [
    "# correction of expections to align df_freq_free and df_user tables\n",
    "tmp = df_user.loc[10]\n",
    "df_user.loc[10] = df_user.loc[11]\n",
    "df_user.loc[11] = tmp\n",
    "tmp = df_user.loc[70]\n",
    "df_user.loc[70] = df_user.loc[71]\n",
    "df_user.loc[71] = tmp\n",
    "tmp = df_user.loc[91]\n",
    "df_user.loc[91] = df_user.loc[92]\n",
    "df_user.loc[92] = tmp"
   ]
  },
  {
   "cell_type": "code",
   "execution_count": 65,
   "metadata": {
    "ExecuteTime": {
     "end_time": "2025-01-20T15:39:06.183831Z",
     "start_time": "2025-01-20T15:39:06.122833Z"
    }
   },
   "outputs": [],
   "source": [
    "# alignment of df_freq_free and df_user tables\n",
    "df_freq_free['user_index'] = -1\n",
    "index = 0\n",
    "\n",
    "j = 0\n",
    "for i in range(len(df_freq_free)):\n",
    "    if i in [20, 38, 58, 68, 129, 139, 150, 154, 173, 225, 227]:\n",
    "        j += 1\n",
    "    if j < len(df_user) and df_freq_free.userId[i] == df_user.userId[j]:\n",
    "        df_freq_free.loc[i, 'user_index'] = j\n",
    "        i += 1\n",
    "    else:\n",
    "        if j < len(df_user) - 1 and df_freq_free.userId[i] == df_user.userId[j + 1]:\n",
    "            df_freq_free.loc[i, 'user_index'] = j + 1\n",
    "            i += 1\n",
    "            j += 1\n",
    "        else:\n",
    "            for k in range(1, 7):\n",
    "                if df_freq_free.userId[i] == df_freq_free.userId[i - k]:\n",
    "                    df_freq_free.loc[i, 'user_index'] = df_freq_free.loc[i - k, 'user_index']\n",
    "                    break"
   ]
  },
  {
   "cell_type": "code",
   "execution_count": 66,
   "metadata": {
    "ExecuteTime": {
     "end_time": "2025-01-20T15:39:06.214833Z",
     "start_time": "2025-01-20T15:39:06.185833Z"
    }
   },
   "outputs": [
    {
     "data": {
      "text/plain": "   userId textIndex emotionIndex  delFreq  leftFreq  TotTime  text_index  \\\n0     100        FR            N      145         0      NaN           0   \n1     100        FR            H        0         0      NaN           1   \n2     113        FR            N       44         0      NaN           2   \n3     113        FR            C       24         0      NaN           3   \n4     113        FR            H       15         0      NaN           4   \n\n   user_index idx_start idx_end  ...   U1U2_mean    U1U2_std  typeWith  \\\n0           0         0     147  ...   27.120567  155.153800   2 hands   \n1           0       148     204  ...   -4.018519   29.255256   2 hands   \n2           1       205     329  ...  288.000000  691.356686   2 hands   \n3           1       330     428  ...  341.119565  670.032800   2 hands   \n4           1       429     483  ...  272.692308  231.421904   2 hands   \n\n          typistType              pcTimeAverage  ageRange  gender   status  \\\n0       Touch Typist  More than 3 hours per day     16-19  Female  Student   \n1       Touch Typist  More than 3 hours per day     16-19  Female  Student   \n2  Two Finger Typist  less than an hour per day     20-29  Female  Student   \n3  Two Finger Typist  less than an hour per day     20-29  Female  Student   \n4  Two Finger Typist  less than an hour per day     20-29  Female  Student   \n\n               degree  country  \n0  College/University  Tunisia  \n1  College/University  Tunisia  \n2  College/University  Tunisia  \n3  College/University  Tunisia  \n4  College/University  Tunisia  \n\n[5 rows x 32 columns]",
      "text/html": "<div>\n<style scoped>\n    .dataframe tbody tr th:only-of-type {\n        vertical-align: middle;\n    }\n\n    .dataframe tbody tr th {\n        vertical-align: top;\n    }\n\n    .dataframe thead th {\n        text-align: right;\n    }\n</style>\n<table border=\"1\" class=\"dataframe\">\n  <thead>\n    <tr style=\"text-align: right;\">\n      <th></th>\n      <th>userId</th>\n      <th>textIndex</th>\n      <th>emotionIndex</th>\n      <th>delFreq</th>\n      <th>leftFreq</th>\n      <th>TotTime</th>\n      <th>text_index</th>\n      <th>user_index</th>\n      <th>idx_start</th>\n      <th>idx_end</th>\n      <th>...</th>\n      <th>U1U2_mean</th>\n      <th>U1U2_std</th>\n      <th>typeWith</th>\n      <th>typistType</th>\n      <th>pcTimeAverage</th>\n      <th>ageRange</th>\n      <th>gender</th>\n      <th>status</th>\n      <th>degree</th>\n      <th>country</th>\n    </tr>\n  </thead>\n  <tbody>\n    <tr>\n      <th>0</th>\n      <td>100</td>\n      <td>FR</td>\n      <td>N</td>\n      <td>145</td>\n      <td>0</td>\n      <td>NaN</td>\n      <td>0</td>\n      <td>0</td>\n      <td>0</td>\n      <td>147</td>\n      <td>...</td>\n      <td>27.120567</td>\n      <td>155.153800</td>\n      <td>2 hands</td>\n      <td>Touch Typist</td>\n      <td>More than 3 hours per day</td>\n      <td>16-19</td>\n      <td>Female</td>\n      <td>Student</td>\n      <td>College/University</td>\n      <td>Tunisia</td>\n    </tr>\n    <tr>\n      <th>1</th>\n      <td>100</td>\n      <td>FR</td>\n      <td>H</td>\n      <td>0</td>\n      <td>0</td>\n      <td>NaN</td>\n      <td>1</td>\n      <td>0</td>\n      <td>148</td>\n      <td>204</td>\n      <td>...</td>\n      <td>-4.018519</td>\n      <td>29.255256</td>\n      <td>2 hands</td>\n      <td>Touch Typist</td>\n      <td>More than 3 hours per day</td>\n      <td>16-19</td>\n      <td>Female</td>\n      <td>Student</td>\n      <td>College/University</td>\n      <td>Tunisia</td>\n    </tr>\n    <tr>\n      <th>2</th>\n      <td>113</td>\n      <td>FR</td>\n      <td>N</td>\n      <td>44</td>\n      <td>0</td>\n      <td>NaN</td>\n      <td>2</td>\n      <td>1</td>\n      <td>205</td>\n      <td>329</td>\n      <td>...</td>\n      <td>288.000000</td>\n      <td>691.356686</td>\n      <td>2 hands</td>\n      <td>Two Finger Typist</td>\n      <td>less than an hour per day</td>\n      <td>20-29</td>\n      <td>Female</td>\n      <td>Student</td>\n      <td>College/University</td>\n      <td>Tunisia</td>\n    </tr>\n    <tr>\n      <th>3</th>\n      <td>113</td>\n      <td>FR</td>\n      <td>C</td>\n      <td>24</td>\n      <td>0</td>\n      <td>NaN</td>\n      <td>3</td>\n      <td>1</td>\n      <td>330</td>\n      <td>428</td>\n      <td>...</td>\n      <td>341.119565</td>\n      <td>670.032800</td>\n      <td>2 hands</td>\n      <td>Two Finger Typist</td>\n      <td>less than an hour per day</td>\n      <td>20-29</td>\n      <td>Female</td>\n      <td>Student</td>\n      <td>College/University</td>\n      <td>Tunisia</td>\n    </tr>\n    <tr>\n      <th>4</th>\n      <td>113</td>\n      <td>FR</td>\n      <td>H</td>\n      <td>15</td>\n      <td>0</td>\n      <td>NaN</td>\n      <td>4</td>\n      <td>1</td>\n      <td>429</td>\n      <td>483</td>\n      <td>...</td>\n      <td>272.692308</td>\n      <td>231.421904</td>\n      <td>2 hands</td>\n      <td>Two Finger Typist</td>\n      <td>less than an hour per day</td>\n      <td>20-29</td>\n      <td>Female</td>\n      <td>Student</td>\n      <td>College/University</td>\n      <td>Tunisia</td>\n    </tr>\n  </tbody>\n</table>\n<p>5 rows × 32 columns</p>\n</div>"
     },
     "execution_count": 66,
     "metadata": {},
     "output_type": "execute_result"
    }
   ],
   "source": [
    "# merge all tables\n",
    "df_free_all = df_freq_free.join(text_free, on='text_index', how='left', rsuffix='_right')\n",
    "df_free_all = df_free_all.drop(['userId_right', 'emotionIndex_right', 'text_index_right'], axis=1)\n",
    "df_free_all = df_free_all.join(df_user.reset_index().rename(columns={'index': 'user_index'}), on='user_index',\n",
    "                               how='left', rsuffix='_right')\n",
    "df_free_all = df_free_all.drop(['user_index_right', 'userId_right'], axis=1)\n",
    "df_free_all.head()"
   ]
  },
  {
   "cell_type": "markdown",
   "metadata": {},
   "source": [
    "## Data analysis"
   ]
  },
  {
   "cell_type": "markdown",
   "metadata": {},
   "source": [
    "### Useful functions"
   ]
  },
  {
   "cell_type": "code",
   "execution_count": 67,
   "metadata": {
    "ExecuteTime": {
     "end_time": "2025-01-20T15:39:06.229832Z",
     "start_time": "2025-01-20T15:39:06.216833Z"
    }
   },
   "outputs": [],
   "source": [
    "from sklearn.model_selection import train_test_split\n",
    "from sklearn.linear_model import LogisticRegression\n",
    "from sklearn.ensemble import RandomForestClassifier\n",
    "from sklearn.preprocessing import StandardScaler, MinMaxScaler\n",
    "from sklearn.svm import SVC\n",
    "from sklearn import metrics, model_selection\n",
    "from sklearn.neural_network import MLPClassifier\n",
    "import xgboost as xgb\n",
    "import shap\n",
    "from tqdm import trange"
   ]
  },
  {
   "cell_type": "code",
   "execution_count": 68,
   "metadata": {
    "ExecuteTime": {
     "end_time": "2025-01-20T15:39:06.245830Z",
     "start_time": "2025-01-20T15:39:06.231832Z"
    }
   },
   "outputs": [],
   "source": [
    "# Receiving a dictionary of performance metrics and printing them\n",
    "def show_metrics(performance_metrics):\n",
    "    for metric_name, metric in performance_metrics.items():\n",
    "        if metric_name.startswith(\"Confusion\"):\n",
    "            print(\"Confusion Matrix: \")\n",
    "            if len(metric) != 5:\n",
    "                print(pd.DataFrame(metric))\n",
    "            else:\n",
    "                print(pd.DataFrame(metric,\n",
    "                                   index=list(label_dictionary.values()),\n",
    "                                   columns=list(label_dictionary.values())))\n",
    "        else:\n",
    "            print(\"Metric : % s, Score : % 5.2f\" % (metric_name, metric))"
   ]
  },
  {
   "cell_type": "code",
   "execution_count": 69,
   "metadata": {
    "ExecuteTime": {
     "end_time": "2025-01-20T15:39:06.260831Z",
     "start_time": "2025-01-20T15:39:06.247832Z"
    }
   },
   "outputs": [],
   "source": [
    "# Plotting the Confusion Matrix as a heatmap\n",
    "label_dictionary = {1: 'N', 2: 'H', 3: 'C', 4: 'S', 5: 'A'}\n",
    "\n",
    "\n",
    "def plot_confusion_matrix(confusion_matrix):\n",
    "    if len(confusion_matrix) != 5:\n",
    "        df_cm = pd.DataFrame(confusion_matrix)\n",
    "    else:\n",
    "        df_cm = pd.DataFrame(confusion_matrix,\n",
    "                             index=[i for i in label_dictionary.values()],\n",
    "                             columns=[i for i in label_dictionary.values()])\n",
    "    plt.figure()\n",
    "    sn.set(font_scale=1.4)  # for label size\n",
    "    sn.heatmap(df_cm, annot=True, annot_kws={\"size\": 16}, cmap=\"Blues\")\n",
    "    plt.show()"
   ]
  },
  {
   "cell_type": "code",
   "execution_count": 70,
   "metadata": {
    "ExecuteTime": {
     "end_time": "2025-01-20T15:39:06.276830Z",
     "start_time": "2025-01-20T15:39:06.262830Z"
    }
   },
   "outputs": [],
   "source": [
    "# Computing the different Performance Metrics\n",
    "def compute_metrics(clf, dataX, dataY, show=False):\n",
    "    # Using Confusion Metrics to compute metrics\n",
    "    def performance_measures(y_true, y_pred):\n",
    "        cnf_matrix = metrics.confusion_matrix(y_true, y_pred, normalize='true')\n",
    "\n",
    "        FP = cnf_matrix.sum(axis=0) - np.diag(cnf_matrix)\n",
    "        FN = cnf_matrix.sum(axis=1) - np.diag(cnf_matrix)\n",
    "        TP = np.diag(cnf_matrix)\n",
    "        TN = cnf_matrix.sum() - (FP + FN + TP)\n",
    "\n",
    "        FP = FP.astype(float)\n",
    "        FN = FN.astype(float)\n",
    "        TP = TP.astype(float)\n",
    "        TN = TN.astype(float)\n",
    "\n",
    "        acc = np.mean((TP + TN) / (TP + FP + FN + TN))\n",
    "        TP_rate = np.mean(TP / (TP + FN))\n",
    "        FP_rate = np.mean(FP / (FP + TN))\n",
    "        precision = np.mean(TP / (TP + FP))\n",
    "        f_measure = 2 * precision * TP_rate / (precision + TP_rate)\n",
    "        f_micro = metrics.f1_score(y_true, y_pred, average='micro')\n",
    "        f_macro = metrics.f1_score(y_true, y_pred, average='macro')\n",
    "\n",
    "        # Returning \n",
    "        return (acc, TP_rate, FP_rate, precision, f_measure, f_micro, f_macro,\n",
    "                np.round(cnf_matrix, 2))\n",
    "\n",
    "    acc, tp_rate, fp_rate, precision, f_measure, f_micro, f_macro, confusion_matrix = performance_measures(y_true=dataY,\n",
    "                                                                                                           y_pred=clf.predict(\n",
    "                                                                                                               dataX))\n",
    "\n",
    "    performance_metrics = {\"ACC\": acc, \"TP_Rate\": tp_rate, \"FP_Rate\": fp_rate,\n",
    "                           \"Precision\": precision, \"F_Measure\": f_measure, \"F_Micro\": f_micro, \"F_Macro\": f_macro,\n",
    "                           \"Confusion Matrix\": confusion_matrix}\n",
    "    if show:\n",
    "        show_metrics(performance_metrics)\n",
    "\n",
    "    return performance_metrics"
   ]
  },
  {
   "cell_type": "markdown",
   "metadata": {},
   "source": [
    "### Data pre-processing"
   ]
  },
  {
   "cell_type": "code",
   "execution_count": 71,
   "metadata": {
    "ExecuteTime": {
     "end_time": "2025-01-20T15:39:06.292829Z",
     "start_time": "2025-01-20T15:39:06.278832Z"
    }
   },
   "outputs": [],
   "source": [
    "data_free = df_free_all.loc[:, df_free_all.columns.difference(\n",
    "    ['user_index', 'answer', 'emotionIndex', 'userId', 'textIndex', 'TotTime', 'text_index', 'idx_start', 'idx_end',\n",
    "     'sentence'])]\n",
    "label_free = df_free_all.emotionIndex.map({'N': 0, 'H': 1, 'C': 2, 'S': 3, 'A': 4})"
   ]
  },
  {
   "cell_type": "code",
   "execution_count": 72,
   "metadata": {
    "ExecuteTime": {
     "end_time": "2025-01-20T15:39:06.323827Z",
     "start_time": "2025-01-20T15:39:06.294830Z"
    }
   },
   "outputs": [],
   "source": [
    "# convert categorical features into numerical features\n",
    "data_free.gender = (data_free.gender == 'Male')\n",
    "data_free.ageRange = data_free.ageRange.map({'16-19': 1, '20-29': 2, '30-39': 3, '>=50': 4})\n",
    "data_free.degree = data_free.degree.map({'High School': 1, 'College/University': 2})\n",
    "data_free.pcTimeAverage = data_free.pcTimeAverage.map(\n",
    "    {'less than an hour per day': 1, 'between 1 hour and 3 hours per day': 2, 'More than 3 hours per day': 3})\n",
    "data_free.status = data_free.status.map({'Student': 1, 'Professional': 2})\n",
    "data_free.typeWith = data_free.typeWith.map({'1 hand': 1, '2 hands': 2})\n",
    "data_free = pd.get_dummies(data_free, columns=['country', 'typistType'])\n",
    "data_free = data_free.fillna(-1)"
   ]
  },
  {
   "cell_type": "code",
   "execution_count": 73,
   "metadata": {
    "ExecuteTime": {
     "end_time": "2025-01-20T15:39:06.339826Z",
     "start_time": "2025-01-20T15:39:06.325830Z"
    }
   },
   "outputs": [],
   "source": [
    "data_free_filter = data_free\n",
    "#label_free = (label_free == 1)  ## for binary models"
   ]
  },
  {
   "cell_type": "markdown",
   "metadata": {},
   "source": [
    "### Statistical analysis"
   ]
  },
  {
   "cell_type": "code",
   "execution_count": 74,
   "metadata": {
    "ExecuteTime": {
     "end_time": "2025-01-20T15:39:06.355826Z",
     "start_time": "2025-01-20T15:39:06.341828Z"
    }
   },
   "outputs": [
    {
     "data": {
      "text/plain": "count    235.000000\nmean     102.183962\nstd       44.528857\nmin        3.489796\n25%       84.644915\n50%      100.714286\n75%      117.112400\nmax      623.666667\nName: D1U1_mean, dtype: float64"
     },
     "execution_count": 74,
     "metadata": {},
     "output_type": "execute_result"
    }
   ],
   "source": [
    "data_free.D1U1_mean.describe()"
   ]
  },
  {
   "cell_type": "code",
   "execution_count": 74,
   "outputs": [],
   "source": [],
   "metadata": {
    "collapsed": false,
    "ExecuteTime": {
     "end_time": "2025-01-20T15:39:06.371825Z",
     "start_time": "2025-01-20T15:39:06.357827Z"
    }
   }
  },
  {
   "cell_type": "code",
   "execution_count": 75,
   "metadata": {
    "ExecuteTime": {
     "end_time": "2025-01-20T15:39:06.434823Z",
     "start_time": "2025-01-20T15:39:06.373828Z"
    }
   },
   "outputs": [
    {
     "name": "stdout",
     "output_type": "stream",
     "text": [
      "typeWith: F_onewayResult(statistic=1.5165383466752125, pvalue=0.21094643995214019)\n",
      "gender: F_onewayResult(statistic=1.5264998018995204, pvalue=0.20835703916217313)\n",
      "ageRange: F_onewayResult(statistic=2.2679154334853315, pvalue=0.08138116258879094)\n",
      "degree: F_onewayResult(statistic=0.335322606831029, pvalue=0.79981181432536)\n",
      "pcTimeAverage: F_onewayResult(statistic=2.829350253966248, pvalue=0.03923893758331766)\n",
      "status: F_onewayResult(statistic=4.2294065261630305, pvalue=0.00619267691858431)\n",
      "typeWith: F_onewayResult(statistic=2.868674187899302, pvalue=0.03727139058277848)\n",
      "gender: F_onewayResult(statistic=1.642499495998926, pvalue=0.18032269073951496)\n",
      "ageRange: F_onewayResult(statistic=4.664182022556698, pvalue=0.0034800039989746905)\n",
      "degree: F_onewayResult(statistic=0.8353605059393695, pvalue=0.4756588477286309)\n",
      "pcTimeAverage: F_onewayResult(statistic=5.240294074054093, pvalue=0.0016213190067492105)\n",
      "status: F_onewayResult(statistic=5.114902449810686, pvalue=0.0019144712034167954)\n",
      "typeWith: F_onewayResult(statistic=2.868674187899302, pvalue=0.03727139058277848)\n",
      "gender: F_onewayResult(statistic=1.642499495998926, pvalue=0.18032269073951496)\n",
      "ageRange: F_onewayResult(statistic=4.664182022556698, pvalue=0.0034800039989746905)\n",
      "degree: F_onewayResult(statistic=0.8353605059393695, pvalue=0.4756588477286309)\n",
      "pcTimeAverage: F_onewayResult(statistic=5.240294074054093, pvalue=0.0016213190067492105)\n",
      "status: F_onewayResult(statistic=5.114902449810686, pvalue=0.0019144712034167954)\n",
      "typeWith: F_onewayResult(statistic=2.884053086159679, pvalue=0.0365286665815388)\n",
      "gender: F_onewayResult(statistic=1.9624991470255078, pvalue=0.12037611533776026)\n",
      "ageRange: F_onewayResult(statistic=1.4152351908609282, pvalue=0.23904137191096164)\n",
      "degree: F_onewayResult(statistic=1.5709603886437655, pvalue=0.197159178083141)\n",
      "pcTimeAverage: F_onewayResult(statistic=1.9355316641524014, pvalue=0.12457963498321104)\n",
      "status: F_onewayResult(statistic=2.431027774599823, pvalue=0.06591211946454632)\n"
     ]
    }
   ],
   "source": [
    "    # in line,'country','typistType'\n",
    "    \n",
    "    # only for demographic features\n",
    "    # \n",
    "    # \n",
    "    # personal_col = ['typeWith', 'gender', 'ageRange', 'degree', 'pcTimeAverage', 'status']\n",
    "    # for col in personal_col:\n",
    "    #     anova = stats.f_oneway(data_free.loc[data_free.D1U2_mean < 372, col],\n",
    "    #                            data_free.loc[(data_free.D1U2_mean >= 372) & (data_free.D1U2_mean < 446), col],\n",
    "    #                            data_free.loc[(data_free.D1U2_mean >= 446) & (data_free.D1U2_mean < 574), col],\n",
    "    #                            data_free.loc[data_free.D1U2_mean >= 574, col])\n",
    "    #     print(col + ': ' + str(anova))\n",
    "#     \n",
    "#     \n",
    "# personal_col = ['typeWith', 'gender', 'ageRange', 'degree', 'pcTimeAverage', 'status']\n",
    "# for col in personal_col:\n",
    "#         anova = stats.f_oneway(data_free.loc[data_free.D1D2_mean < 372, col],\n",
    "#                                data_free.loc[(data_free.D1D2_mean >= 372) & (data_free.D1D2_mean < 446), col],\n",
    "#                                data_free.loc[(data_free.D1D2_mean >= 446) & (data_free.D1D2_mean < 574), col],\n",
    "#                                data_free.loc[data_free.D1D2_mean >= 574, col])\n",
    "#         print(col + ': ' + str(anova))\n",
    "    \n",
    "test_columns = ['D1U2_mean', 'D1D2_mean', 'D1D2_mean', 'U1D2_mean']\n",
    "personal_col = ['typeWith', 'gender', 'ageRange', 'degree', 'pcTimeAverage', 'status']\n",
    "\n",
    "for column in test_columns:\n",
    "        for col in personal_col:\n",
    "            anova = stats.f_oneway(data_free.loc[data_free[column] < 372, col],\n",
    "                                   data_free.loc[(data_free[column] >= 372) & (data_free[column] < 446), col],\n",
    "                                   data_free.loc[(data_free[column] >= 446) & (data_free[column] < 574), col],\n",
    "                                   data_free.loc[data_free[column] >= 574, col])\n",
    "            print(col + ': ' + str(anova))\n",
    "        \n",
    "\n",
    "        "
   ]
  },
  {
   "cell_type": "markdown",
   "source": [
    "## Plotting the distribution of emotions"
   ],
   "metadata": {
    "collapsed": false
   }
  },
  {
   "cell_type": "code",
   "outputs": [
    {
     "name": "stderr",
     "output_type": "stream",
     "text": [
      "C:\\Users\\dekassla\\AppData\\Local\\Temp\\ipykernel_13408\\819621762.py:10: FutureWarning: \n",
      "\n",
      "Passing `palette` without assigning `hue` is deprecated and will be removed in v0.14.0. Assign the `x` variable to `hue` and set `legend=False` for the same effect.\n",
      "\n",
      "  sns.barplot(x=emotion_counts.index, y=emotion_counts.values, palette='viridis')\n"
     ]
    },
    {
     "data": {
      "text/plain": "<Figure size 1000x600 with 1 Axes>",
      "image/png": "[encoded data removed]"
     },
     "metadata": {},
     "output_type": "display_data"
    }
   ],
   "source": [
    "import pandas as pd\n",
    "import matplotlib.pyplot as plt\n",
    "import seaborn as sns\n",
    "\n",
    "# Assuming df_fixed_all is your DataFrame and 'emotionIndex' is the column with emotions\n",
    "emotion_counts = df_free_all['emotionIndex'].value_counts()\n",
    "\n",
    "# Plot the distribution of emotions (counts)\n",
    "plt.figure(figsize=(10, 6))\n",
    "sns.barplot(x=emotion_counts.index, y=emotion_counts.values, palette='viridis')\n",
    "plt.title('Distribution of Emotions in the Dataset (Counts)')\n",
    "plt.xlabel('Emotion')\n",
    "plt.ylabel('Count')\n",
    "plt.savefig('emotion_distribution_counts_free.pdf')\n",
    "plt.show()"
   ],
   "metadata": {
    "collapsed": false,
    "ExecuteTime": {
     "end_time": "2025-01-20T15:39:06.750819Z",
     "start_time": "2025-01-20T15:39:06.436827Z"
    }
   },
   "execution_count": 76
  },
  {
   "cell_type": "code",
   "outputs": [
    {
     "name": "stderr",
     "output_type": "stream",
     "text": [
      "C:\\Users\\dekassla\\AppData\\Local\\Temp\\ipykernel_13408\\714116372.py:6: FutureWarning: \n",
      "\n",
      "Passing `palette` without assigning `hue` is deprecated and will be removed in v0.14.0. Assign the `x` variable to `hue` and set `legend=False` for the same effect.\n",
      "\n",
      "  sns.barplot(x=emotion_percentages.index, y=emotion_percentages.values, palette='viridis')\n"
     ]
    },
    {
     "data": {
      "text/plain": "<Figure size 1000x600 with 1 Axes>",
      "image/png": "[encoded data removed]"
     },
     "metadata": {},
     "output_type": "display_data"
    }
   ],
   "source": [
    "# Calculate the percentage of each emotion\n",
    "emotion_percentages = (emotion_counts / emotion_counts.sum()) * 100\n",
    "\n",
    "# Plot the distribution of emotions (percentages)\n",
    "plt.figure(figsize=(10, 6))\n",
    "sns.barplot(x=emotion_percentages.index, y=emotion_percentages.values, palette='viridis')\n",
    "plt.title('Distribution of Emotions in the Dataset (Percentages)')\n",
    "plt.xlabel('Emotion')\n",
    "plt.ylabel('Percentage')\n",
    "plt.savefig('emotion_distribution_percentages_fixed.pdf')\n",
    "plt.show()"
   ],
   "metadata": {
    "collapsed": false,
    "ExecuteTime": {
     "end_time": "2025-01-20T15:39:07.143804Z",
     "start_time": "2025-01-20T15:39:06.751816Z"
    }
   },
   "execution_count": 77
  },
  {
   "cell_type": "markdown",
   "metadata": {},
   "source": [
    "### Multi-class models"
   ]
  },
  {
   "cell_type": "markdown",
   "source": [
    "#save models"
   ],
   "metadata": {
    "collapsed": false
   }
  },
  {
   "cell_type": "code",
   "execution_count": 78,
   "outputs": [],
   "source": [
    "import pandas as pd\n",
    "import pickle\n",
    "from sklearn.preprocessing import MinMaxScaler\n",
    "\n",
    "# Save the model to a file\n",
    "def save_model(model, filename):\n",
    "    with open(filename, 'wb') as file:\n",
    "        pickle.dump(model, file)\n",
    "\n",
    "# Load the model from a file\n",
    "def load_model(filename):\n",
    "    with open(filename, 'rb') as file:\n",
    "        return pickle.load(file)\n",
    "\n",
    "# Method to read a CSV file and predict the emotion\n",
    "def predict_emotion(csv_file, model_file):\n",
    "    # Load the model\n",
    "    model = load_model(model_file)\n",
    "\n",
    "    # Read the CSV file\n",
    "    data = pd.read_csv(csv_file)\n",
    "\n",
    "    # Preprocess the data (assuming you are using MinMaxScaler in your project)\n",
    "    scaler = MinMaxScaler()\n",
    "    data = scaler.fit_transform(data)\n",
    "\n",
    "    # Predict the emotion\n",
    "    predictions = model.predict(data)\n",
    "\n",
    "    return predictions "
   ],
   "metadata": {
    "collapsed": false,
    "ExecuteTime": {
     "end_time": "2025-01-20T15:39:07.158803Z",
     "start_time": "2025-01-20T15:39:07.145804Z"
    }
   }
  },
  {
   "cell_type": "code",
   "outputs": [],
   "source": [
    "#altered bf save\n",
    "\n",
    "import pandas as pd\n",
    "import matplotlib.pyplot as plt\n",
    "\n",
    "def save_feature_importance(feature_importance, csv_filename, pdf_filename):\n",
    "    # Save to CSV\n",
    "    feature_importance.to_csv(csv_filename, index=False)\n",
    "    print(f\"Feature importance saved to '{csv_filename}'\")\n",
    "\n",
    "    # Plot and save to PDF\n",
    "    plt.figure(figsize=(10, 6))\n",
    "    feature_importance.plot(kind='bar', x='Feature', y='Importance', legend=False, color='skyblue')\n",
    "    plt.title('Feature Importance')\n",
    "    plt.xlabel('Features')\n",
    "    plt.ylabel('Importance')\n",
    "    plt.tight_layout()\n",
    "    plt.savefig(pdf_filename)\n",
    "    plt.close()\n",
    "    print(f\"Feature importance saved to '{pdf_filename}'\")"
   ],
   "metadata": {
    "collapsed": false,
    "ExecuteTime": {
     "end_time": "2025-01-20T15:39:07.173805Z",
     "start_time": "2025-01-20T15:39:07.160805Z"
    }
   },
   "execution_count": 79
  },
  {
   "cell_type": "code",
   "outputs": [],
   "source": [
    "def iterate_all_models(model_name):\n",
    "    X_train, X_test, Y_train, Y_test = train_test_split(data_free_filter, label_free, test_size=0.2)\n",
    "\n",
    "    scaler = MinMaxScaler()\n",
    "    X_train = scaler.fit_transform(X_train)\n",
    "    X_test = scaler.transform(X_test)\n",
    "\n",
    "    model = classifiers[classifiers_name.index(model_name)]\n",
    "    model.fit(X_train, Y_train)\n",
    "\n",
    "    save_model(model, f'{model_name}.pkl')\n",
    "\n",
    "    performance_metrics, trained_model = compute_metrics(model, X_test, Y_test, show=True)\n",
    "    plot_confusion_matrix(performance_metrics[\"Confusion Matrix\"], f'cf_fixed_{model_name}.png')\n",
    "\n",
    "    # Feature importance\n",
    "    result = permutation_importance(trained_model, X_test, Y_test, n_repeats=10, random_state=42, n_jobs=2)\n",
    "    feature_importance = pd.DataFrame({\n",
    "        'Feature': data_free_filter.columns,\n",
    "        'Importance': result.importances_mean\n",
    "    }).sort_values(by='Importance', ascending=False)\n",
    "\n",
    "    save_feature_importance(feature_importance, f'{model_name}_feature_importance.csv', f'{model_name}_feature_importance.pdf')\n",
    "\n",
    "def iterate_all_models_only_keyfeatures(model_name):\n",
    "    key_features = ['D1D2_mean', 'D1D2_std', 'D1U1_mean', 'D1U1_std', 'D1U2_mean', 'D1U2_std', 'TotTime', 'U1D2_mean', 'U1D2_std', 'U1U2_mean', 'U1U2_std']\n",
    "\n",
    "    data_keys = data_free_filter[key_features]\n",
    "\n",
    "    X_train, X_test, Y_train, Y_test = train_test_split(data_keys, label_free, test_size=0.2)\n",
    "\n",
    "    scaler = MinMaxScaler()\n",
    "    X_train_scaled = scaler.fit_transform(X_train)\n",
    "    X_test_scaled = scaler.transform(X_test)\n",
    "\n",
    "    model = classifiers[classifiers_name.index(model_name)]\n",
    "    model.fit(X_train_scaled, Y_train)\n",
    "\n",
    "    save_model(model, f'{model_name}_keyfeatures.pkl')\n",
    "\n",
    "    performance_metrics, trained_model = compute_metrics(model, X_test_scaled, Y_test, show=True)\n",
    "    plot_confusion_matrix(performance_metrics[\"Confusion Matrix\"], f'cf_fixed_{model_name}_keyfeatures.png')\n",
    "\n",
    "    # Feature importance\n",
    "    result = permutation_importance(trained_model, X_test_scaled, Y_test, n_repeats=10, random_state=42, n_jobs=2)\n",
    "    feature_importance = pd.DataFrame({\n",
    "        'Feature': key_features,\n",
    "        'Importance': result.importances_mean\n",
    "    }).sort_values(by='Importance', ascending=False)\n",
    "\n",
    "    save_feature_importance(feature_importance, f'{model_name}_keyfeatures_feature_importance.csv', f'{model_name}_keyfeatures_feature_importance.pdf')"
   ],
   "metadata": {
    "collapsed": false,
    "ExecuteTime": {
     "end_time": "2025-01-20T15:39:07.203802Z",
     "start_time": "2025-01-20T15:39:07.181803Z"
    }
   },
   "execution_count": 80
  },
  {
   "cell_type": "code",
   "execution_count": 81,
   "metadata": {
    "ExecuteTime": {
     "end_time": "2025-01-20T15:39:07.219801Z",
     "start_time": "2025-01-20T15:39:07.205804Z"
    }
   },
   "outputs": [],
   "source": [
    "#define classification models\n",
    "classifiers_name = ['LogReg', 'RF', 'XGB', 'SVM', 'MLP']\n",
    "\n",
    "classifiers = [\n",
    "    LogisticRegression(multi_class='auto', max_iter=500, solver='newton-cg',\n",
    "                       class_weight={0: 0.1, 1: 1, 2: 1, 3: 1, 4: 1}),\n",
    "    RandomForestClassifier(n_estimators=200, max_depth=5, class_weight={0: 0.1, 1: 1, 2: 1, 3: 1, 4: 1}),\n",
    "    xgb.XGBClassifier(objective='multi:softmax', eval_metric='mlogloss', use_label_encoder=False),\n",
    "    SVC(kernel='rbf', decision_function_shape='ovr', probability=True),  #, class_weight={0:0.1,1:1,2:1,3:1,4:1}),\n",
    "    MLPClassifier(alpha=1, max_iter=500)]"
   ]
  },
  {
   "cell_type": "code",
   "execution_count": 82,
   "metadata": {
    "ExecuteTime": {
     "end_time": "2025-01-20T15:42:55.326201Z",
     "start_time": "2025-01-20T15:39:07.221802Z"
    }
   },
   "outputs": [
    {
     "name": "stdout",
     "output_type": "stream",
     "text": [
      "LogReg\n"
     ]
    },
    {
     "name": "stderr",
     "output_type": "stream",
     "text": [
      "D:\\Coding_Projects\\erkd_schieben\\erkd\\.venv\\lib\\site-packages\\sklearn\\linear_model\\_logistic.py:1247: FutureWarning: 'multi_class' was deprecated in version 1.5 and will be removed in 1.7. From then on, it will always use 'multinomial'. Leave it to its default value to avoid this warning.\n",
      "  warnings.warn(\n",
      "D:\\Coding_Projects\\erkd_schieben\\erkd\\.venv\\lib\\site-packages\\sklearn\\linear_model\\_logistic.py:1247: FutureWarning: 'multi_class' was deprecated in version 1.5 and will be removed in 1.7. From then on, it will always use 'multinomial'. Leave it to its default value to avoid this warning.\n",
      "  warnings.warn(\n",
      "D:\\Coding_Projects\\erkd_schieben\\erkd\\.venv\\lib\\site-packages\\sklearn\\linear_model\\_logistic.py:1247: FutureWarning: 'multi_class' was deprecated in version 1.5 and will be removed in 1.7. From then on, it will always use 'multinomial'. Leave it to its default value to avoid this warning.\n",
      "  warnings.warn(\n",
      "D:\\Coding_Projects\\erkd_schieben\\erkd\\.venv\\lib\\site-packages\\sklearn\\linear_model\\_logistic.py:1247: FutureWarning: 'multi_class' was deprecated in version 1.5 and will be removed in 1.7. From then on, it will always use 'multinomial'. Leave it to its default value to avoid this warning.\n",
      "  warnings.warn(\n",
      "D:\\Coding_Projects\\erkd_schieben\\erkd\\.venv\\lib\\site-packages\\sklearn\\linear_model\\_logistic.py:1247: FutureWarning: 'multi_class' was deprecated in version 1.5 and will be removed in 1.7. From then on, it will always use 'multinomial'. Leave it to its default value to avoid this warning.\n",
      "  warnings.warn(\n",
      "D:\\Coding_Projects\\erkd_schieben\\erkd\\.venv\\lib\\site-packages\\sklearn\\linear_model\\_logistic.py:1247: FutureWarning: 'multi_class' was deprecated in version 1.5 and will be removed in 1.7. From then on, it will always use 'multinomial'. Leave it to its default value to avoid this warning.\n",
      "  warnings.warn(\n",
      "D:\\Coding_Projects\\erkd_schieben\\erkd\\.venv\\lib\\site-packages\\sklearn\\linear_model\\_logistic.py:1247: FutureWarning: 'multi_class' was deprecated in version 1.5 and will be removed in 1.7. From then on, it will always use 'multinomial'. Leave it to its default value to avoid this warning.\n",
      "  warnings.warn(\n",
      "D:\\Coding_Projects\\erkd_schieben\\erkd\\.venv\\lib\\site-packages\\sklearn\\linear_model\\_logistic.py:1247: FutureWarning: 'multi_class' was deprecated in version 1.5 and will be removed in 1.7. From then on, it will always use 'multinomial'. Leave it to its default value to avoid this warning.\n",
      "  warnings.warn(\n",
      "D:\\Coding_Projects\\erkd_schieben\\erkd\\.venv\\lib\\site-packages\\sklearn\\linear_model\\_logistic.py:1247: FutureWarning: 'multi_class' was deprecated in version 1.5 and will be removed in 1.7. From then on, it will always use 'multinomial'. Leave it to its default value to avoid this warning.\n",
      "  warnings.warn(\n",
      "D:\\Coding_Projects\\erkd_schieben\\erkd\\.venv\\lib\\site-packages\\sklearn\\linear_model\\_logistic.py:1247: FutureWarning: 'multi_class' was deprecated in version 1.5 and will be removed in 1.7. From then on, it will always use 'multinomial'. Leave it to its default value to avoid this warning.\n",
      "  warnings.warn(\n",
      "D:\\Coding_Projects\\erkd_schieben\\erkd\\.venv\\lib\\site-packages\\sklearn\\linear_model\\_logistic.py:1247: FutureWarning: 'multi_class' was deprecated in version 1.5 and will be removed in 1.7. From then on, it will always use 'multinomial'. Leave it to its default value to avoid this warning.\n",
      "  warnings.warn(\n",
      "D:\\Coding_Projects\\erkd_schieben\\erkd\\.venv\\lib\\site-packages\\sklearn\\linear_model\\_logistic.py:1247: FutureWarning: 'multi_class' was deprecated in version 1.5 and will be removed in 1.7. From then on, it will always use 'multinomial'. Leave it to its default value to avoid this warning.\n",
      "  warnings.warn(\n",
      "D:\\Coding_Projects\\erkd_schieben\\erkd\\.venv\\lib\\site-packages\\sklearn\\linear_model\\_logistic.py:1247: FutureWarning: 'multi_class' was deprecated in version 1.5 and will be removed in 1.7. From then on, it will always use 'multinomial'. Leave it to its default value to avoid this warning.\n",
      "  warnings.warn(\n",
      "D:\\Coding_Projects\\erkd_schieben\\erkd\\.venv\\lib\\site-packages\\sklearn\\linear_model\\_logistic.py:1247: FutureWarning: 'multi_class' was deprecated in version 1.5 and will be removed in 1.7. From then on, it will always use 'multinomial'. Leave it to its default value to avoid this warning.\n",
      "  warnings.warn(\n",
      "D:\\Coding_Projects\\erkd_schieben\\erkd\\.venv\\lib\\site-packages\\sklearn\\linear_model\\_logistic.py:1247: FutureWarning: 'multi_class' was deprecated in version 1.5 and will be removed in 1.7. From then on, it will always use 'multinomial'. Leave it to its default value to avoid this warning.\n",
      "  warnings.warn(\n",
      "D:\\Coding_Projects\\erkd_schieben\\erkd\\.venv\\lib\\site-packages\\sklearn\\linear_model\\_logistic.py:1247: FutureWarning: 'multi_class' was deprecated in version 1.5 and will be removed in 1.7. From then on, it will always use 'multinomial'. Leave it to its default value to avoid this warning.\n",
      "  warnings.warn(\n",
      "D:\\Coding_Projects\\erkd_schieben\\erkd\\.venv\\lib\\site-packages\\sklearn\\linear_model\\_logistic.py:1247: FutureWarning: 'multi_class' was deprecated in version 1.5 and will be removed in 1.7. From then on, it will always use 'multinomial'. Leave it to its default value to avoid this warning.\n",
      "  warnings.warn(\n",
      "D:\\Coding_Projects\\erkd_schieben\\erkd\\.venv\\lib\\site-packages\\sklearn\\linear_model\\_logistic.py:1247: FutureWarning: 'multi_class' was deprecated in version 1.5 and will be removed in 1.7. From then on, it will always use 'multinomial'. Leave it to its default value to avoid this warning.\n",
      "  warnings.warn(\n",
      "D:\\Coding_Projects\\erkd_schieben\\erkd\\.venv\\lib\\site-packages\\sklearn\\linear_model\\_logistic.py:1247: FutureWarning: 'multi_class' was deprecated in version 1.5 and will be removed in 1.7. From then on, it will always use 'multinomial'. Leave it to its default value to avoid this warning.\n",
      "  warnings.warn(\n",
      "D:\\Coding_Projects\\erkd_schieben\\erkd\\.venv\\lib\\site-packages\\sklearn\\linear_model\\_logistic.py:1247: FutureWarning: 'multi_class' was deprecated in version 1.5 and will be removed in 1.7. From then on, it will always use 'multinomial'. Leave it to its default value to avoid this warning.\n",
      "  warnings.warn(\n",
      "D:\\Coding_Projects\\erkd_schieben\\erkd\\.venv\\lib\\site-packages\\sklearn\\linear_model\\_logistic.py:1247: FutureWarning: 'multi_class' was deprecated in version 1.5 and will be removed in 1.7. From then on, it will always use 'multinomial'. Leave it to its default value to avoid this warning.\n",
      "  warnings.warn(\n",
      "D:\\Coding_Projects\\erkd_schieben\\erkd\\.venv\\lib\\site-packages\\sklearn\\linear_model\\_logistic.py:1247: FutureWarning: 'multi_class' was deprecated in version 1.5 and will be removed in 1.7. From then on, it will always use 'multinomial'. Leave it to its default value to avoid this warning.\n",
      "  warnings.warn(\n",
      "D:\\Coding_Projects\\erkd_schieben\\erkd\\.venv\\lib\\site-packages\\sklearn\\linear_model\\_logistic.py:1247: FutureWarning: 'multi_class' was deprecated in version 1.5 and will be removed in 1.7. From then on, it will always use 'multinomial'. Leave it to its default value to avoid this warning.\n",
      "  warnings.warn(\n",
      "D:\\Coding_Projects\\erkd_schieben\\erkd\\.venv\\lib\\site-packages\\sklearn\\linear_model\\_logistic.py:1247: FutureWarning: 'multi_class' was deprecated in version 1.5 and will be removed in 1.7. From then on, it will always use 'multinomial'. Leave it to its default value to avoid this warning.\n",
      "  warnings.warn(\n",
      "D:\\Coding_Projects\\erkd_schieben\\erkd\\.venv\\lib\\site-packages\\sklearn\\linear_model\\_logistic.py:1247: FutureWarning: 'multi_class' was deprecated in version 1.5 and will be removed in 1.7. From then on, it will always use 'multinomial'. Leave it to its default value to avoid this warning.\n",
      "  warnings.warn(\n",
      "D:\\Coding_Projects\\erkd_schieben\\erkd\\.venv\\lib\\site-packages\\sklearn\\linear_model\\_logistic.py:1247: FutureWarning: 'multi_class' was deprecated in version 1.5 and will be removed in 1.7. From then on, it will always use 'multinomial'. Leave it to its default value to avoid this warning.\n",
      "  warnings.warn(\n",
      "D:\\Coding_Projects\\erkd_schieben\\erkd\\.venv\\lib\\site-packages\\sklearn\\linear_model\\_logistic.py:1247: FutureWarning: 'multi_class' was deprecated in version 1.5 and will be removed in 1.7. From then on, it will always use 'multinomial'. Leave it to its default value to avoid this warning.\n",
      "  warnings.warn(\n",
      "D:\\Coding_Projects\\erkd_schieben\\erkd\\.venv\\lib\\site-packages\\sklearn\\linear_model\\_logistic.py:1247: FutureWarning: 'multi_class' was deprecated in version 1.5 and will be removed in 1.7. From then on, it will always use 'multinomial'. Leave it to its default value to avoid this warning.\n",
      "  warnings.warn(\n",
      "D:\\Coding_Projects\\erkd_schieben\\erkd\\.venv\\lib\\site-packages\\sklearn\\linear_model\\_logistic.py:1247: FutureWarning: 'multi_class' was deprecated in version 1.5 and will be removed in 1.7. From then on, it will always use 'multinomial'. Leave it to its default value to avoid this warning.\n",
      "  warnings.warn(\n",
      "D:\\Coding_Projects\\erkd_schieben\\erkd\\.venv\\lib\\site-packages\\sklearn\\linear_model\\_logistic.py:1247: FutureWarning: 'multi_class' was deprecated in version 1.5 and will be removed in 1.7. From then on, it will always use 'multinomial'. Leave it to its default value to avoid this warning.\n",
      "  warnings.warn(\n",
      "D:\\Coding_Projects\\erkd_schieben\\erkd\\.venv\\lib\\site-packages\\sklearn\\linear_model\\_logistic.py:1247: FutureWarning: 'multi_class' was deprecated in version 1.5 and will be removed in 1.7. From then on, it will always use 'multinomial'. Leave it to its default value to avoid this warning.\n",
      "  warnings.warn(\n",
      "D:\\Coding_Projects\\erkd_schieben\\erkd\\.venv\\lib\\site-packages\\sklearn\\linear_model\\_logistic.py:1247: FutureWarning: 'multi_class' was deprecated in version 1.5 and will be removed in 1.7. From then on, it will always use 'multinomial'. Leave it to its default value to avoid this warning.\n",
      "  warnings.warn(\n",
      "D:\\Coding_Projects\\erkd_schieben\\erkd\\.venv\\lib\\site-packages\\sklearn\\linear_model\\_logistic.py:1247: FutureWarning: 'multi_class' was deprecated in version 1.5 and will be removed in 1.7. From then on, it will always use 'multinomial'. Leave it to its default value to avoid this warning.\n",
      "  warnings.warn(\n",
      "D:\\Coding_Projects\\erkd_schieben\\erkd\\.venv\\lib\\site-packages\\sklearn\\linear_model\\_logistic.py:1247: FutureWarning: 'multi_class' was deprecated in version 1.5 and will be removed in 1.7. From then on, it will always use 'multinomial'. Leave it to its default value to avoid this warning.\n",
      "  warnings.warn(\n",
      "D:\\Coding_Projects\\erkd_schieben\\erkd\\.venv\\lib\\site-packages\\sklearn\\linear_model\\_logistic.py:1247: FutureWarning: 'multi_class' was deprecated in version 1.5 and will be removed in 1.7. From then on, it will always use 'multinomial'. Leave it to its default value to avoid this warning.\n",
      "  warnings.warn(\n",
      "D:\\Coding_Projects\\erkd_schieben\\erkd\\.venv\\lib\\site-packages\\sklearn\\linear_model\\_logistic.py:1247: FutureWarning: 'multi_class' was deprecated in version 1.5 and will be removed in 1.7. From then on, it will always use 'multinomial'. Leave it to its default value to avoid this warning.\n",
      "  warnings.warn(\n",
      "D:\\Coding_Projects\\erkd_schieben\\erkd\\.venv\\lib\\site-packages\\sklearn\\linear_model\\_logistic.py:1247: FutureWarning: 'multi_class' was deprecated in version 1.5 and will be removed in 1.7. From then on, it will always use 'multinomial'. Leave it to its default value to avoid this warning.\n",
      "  warnings.warn(\n",
      "D:\\Coding_Projects\\erkd_schieben\\erkd\\.venv\\lib\\site-packages\\sklearn\\linear_model\\_logistic.py:1247: FutureWarning: 'multi_class' was deprecated in version 1.5 and will be removed in 1.7. From then on, it will always use 'multinomial'. Leave it to its default value to avoid this warning.\n",
      "  warnings.warn(\n",
      "D:\\Coding_Projects\\erkd_schieben\\erkd\\.venv\\lib\\site-packages\\sklearn\\linear_model\\_logistic.py:1247: FutureWarning: 'multi_class' was deprecated in version 1.5 and will be removed in 1.7. From then on, it will always use 'multinomial'. Leave it to its default value to avoid this warning.\n",
      "  warnings.warn(\n",
      "D:\\Coding_Projects\\erkd_schieben\\erkd\\.venv\\lib\\site-packages\\sklearn\\linear_model\\_logistic.py:1247: FutureWarning: 'multi_class' was deprecated in version 1.5 and will be removed in 1.7. From then on, it will always use 'multinomial'. Leave it to its default value to avoid this warning.\n",
      "  warnings.warn(\n",
      "D:\\Coding_Projects\\erkd_schieben\\erkd\\.venv\\lib\\site-packages\\sklearn\\linear_model\\_logistic.py:1247: FutureWarning: 'multi_class' was deprecated in version 1.5 and will be removed in 1.7. From then on, it will always use 'multinomial'. Leave it to its default value to avoid this warning.\n",
      "  warnings.warn(\n",
      "D:\\Coding_Projects\\erkd_schieben\\erkd\\.venv\\lib\\site-packages\\sklearn\\linear_model\\_logistic.py:1247: FutureWarning: 'multi_class' was deprecated in version 1.5 and will be removed in 1.7. From then on, it will always use 'multinomial'. Leave it to its default value to avoid this warning.\n",
      "  warnings.warn(\n",
      "D:\\Coding_Projects\\erkd_schieben\\erkd\\.venv\\lib\\site-packages\\sklearn\\linear_model\\_logistic.py:1247: FutureWarning: 'multi_class' was deprecated in version 1.5 and will be removed in 1.7. From then on, it will always use 'multinomial'. Leave it to its default value to avoid this warning.\n",
      "  warnings.warn(\n",
      "D:\\Coding_Projects\\erkd_schieben\\erkd\\.venv\\lib\\site-packages\\sklearn\\linear_model\\_logistic.py:1247: FutureWarning: 'multi_class' was deprecated in version 1.5 and will be removed in 1.7. From then on, it will always use 'multinomial'. Leave it to its default value to avoid this warning.\n",
      "  warnings.warn(\n",
      "D:\\Coding_Projects\\erkd_schieben\\erkd\\.venv\\lib\\site-packages\\sklearn\\linear_model\\_logistic.py:1247: FutureWarning: 'multi_class' was deprecated in version 1.5 and will be removed in 1.7. From then on, it will always use 'multinomial'. Leave it to its default value to avoid this warning.\n",
      "  warnings.warn(\n",
      "D:\\Coding_Projects\\erkd_schieben\\erkd\\.venv\\lib\\site-packages\\sklearn\\linear_model\\_logistic.py:1247: FutureWarning: 'multi_class' was deprecated in version 1.5 and will be removed in 1.7. From then on, it will always use 'multinomial'. Leave it to its default value to avoid this warning.\n",
      "  warnings.warn(\n",
      "D:\\Coding_Projects\\erkd_schieben\\erkd\\.venv\\lib\\site-packages\\sklearn\\linear_model\\_logistic.py:1247: FutureWarning: 'multi_class' was deprecated in version 1.5 and will be removed in 1.7. From then on, it will always use 'multinomial'. Leave it to its default value to avoid this warning.\n",
      "  warnings.warn(\n",
      "D:\\Coding_Projects\\erkd_schieben\\erkd\\.venv\\lib\\site-packages\\sklearn\\linear_model\\_logistic.py:1247: FutureWarning: 'multi_class' was deprecated in version 1.5 and will be removed in 1.7. From then on, it will always use 'multinomial'. Leave it to its default value to avoid this warning.\n",
      "  warnings.warn(\n",
      "D:\\Coding_Projects\\erkd_schieben\\erkd\\.venv\\lib\\site-packages\\sklearn\\linear_model\\_logistic.py:1247: FutureWarning: 'multi_class' was deprecated in version 1.5 and will be removed in 1.7. From then on, it will always use 'multinomial'. Leave it to its default value to avoid this warning.\n",
      "  warnings.warn(\n",
      "D:\\Coding_Projects\\erkd_schieben\\erkd\\.venv\\lib\\site-packages\\sklearn\\linear_model\\_logistic.py:1247: FutureWarning: 'multi_class' was deprecated in version 1.5 and will be removed in 1.7. From then on, it will always use 'multinomial'. Leave it to its default value to avoid this warning.\n",
      "  warnings.warn(\n",
      "D:\\Coding_Projects\\erkd_schieben\\erkd\\.venv\\lib\\site-packages\\sklearn\\linear_model\\_logistic.py:1247: FutureWarning: 'multi_class' was deprecated in version 1.5 and will be removed in 1.7. From then on, it will always use 'multinomial'. Leave it to its default value to avoid this warning.\n",
      "  warnings.warn(\n",
      "D:\\Coding_Projects\\erkd_schieben\\erkd\\.venv\\lib\\site-packages\\sklearn\\linear_model\\_logistic.py:1247: FutureWarning: 'multi_class' was deprecated in version 1.5 and will be removed in 1.7. From then on, it will always use 'multinomial'. Leave it to its default value to avoid this warning.\n",
      "  warnings.warn(\n",
      "D:\\Coding_Projects\\erkd_schieben\\erkd\\.venv\\lib\\site-packages\\sklearn\\linear_model\\_logistic.py:1247: FutureWarning: 'multi_class' was deprecated in version 1.5 and will be removed in 1.7. From then on, it will always use 'multinomial'. Leave it to its default value to avoid this warning.\n",
      "  warnings.warn(\n",
      "D:\\Coding_Projects\\erkd_schieben\\erkd\\.venv\\lib\\site-packages\\sklearn\\linear_model\\_logistic.py:1247: FutureWarning: 'multi_class' was deprecated in version 1.5 and will be removed in 1.7. From then on, it will always use 'multinomial'. Leave it to its default value to avoid this warning.\n",
      "  warnings.warn(\n",
      "D:\\Coding_Projects\\erkd_schieben\\erkd\\.venv\\lib\\site-packages\\sklearn\\linear_model\\_logistic.py:1247: FutureWarning: 'multi_class' was deprecated in version 1.5 and will be removed in 1.7. From then on, it will always use 'multinomial'. Leave it to its default value to avoid this warning.\n",
      "  warnings.warn(\n",
      "D:\\Coding_Projects\\erkd_schieben\\erkd\\.venv\\lib\\site-packages\\sklearn\\linear_model\\_logistic.py:1247: FutureWarning: 'multi_class' was deprecated in version 1.5 and will be removed in 1.7. From then on, it will always use 'multinomial'. Leave it to its default value to avoid this warning.\n",
      "  warnings.warn(\n",
      "D:\\Coding_Projects\\erkd_schieben\\erkd\\.venv\\lib\\site-packages\\sklearn\\linear_model\\_logistic.py:1247: FutureWarning: 'multi_class' was deprecated in version 1.5 and will be removed in 1.7. From then on, it will always use 'multinomial'. Leave it to its default value to avoid this warning.\n",
      "  warnings.warn(\n",
      "D:\\Coding_Projects\\erkd_schieben\\erkd\\.venv\\lib\\site-packages\\sklearn\\linear_model\\_logistic.py:1247: FutureWarning: 'multi_class' was deprecated in version 1.5 and will be removed in 1.7. From then on, it will always use 'multinomial'. Leave it to its default value to avoid this warning.\n",
      "  warnings.warn(\n",
      "D:\\Coding_Projects\\erkd_schieben\\erkd\\.venv\\lib\\site-packages\\sklearn\\linear_model\\_logistic.py:1247: FutureWarning: 'multi_class' was deprecated in version 1.5 and will be removed in 1.7. From then on, it will always use 'multinomial'. Leave it to its default value to avoid this warning.\n",
      "  warnings.warn(\n",
      "D:\\Coding_Projects\\erkd_schieben\\erkd\\.venv\\lib\\site-packages\\sklearn\\linear_model\\_logistic.py:1247: FutureWarning: 'multi_class' was deprecated in version 1.5 and will be removed in 1.7. From then on, it will always use 'multinomial'. Leave it to its default value to avoid this warning.\n",
      "  warnings.warn(\n",
      "D:\\Coding_Projects\\erkd_schieben\\erkd\\.venv\\lib\\site-packages\\sklearn\\linear_model\\_logistic.py:1247: FutureWarning: 'multi_class' was deprecated in version 1.5 and will be removed in 1.7. From then on, it will always use 'multinomial'. Leave it to its default value to avoid this warning.\n",
      "  warnings.warn(\n",
      "D:\\Coding_Projects\\erkd_schieben\\erkd\\.venv\\lib\\site-packages\\sklearn\\linear_model\\_logistic.py:1247: FutureWarning: 'multi_class' was deprecated in version 1.5 and will be removed in 1.7. From then on, it will always use 'multinomial'. Leave it to its default value to avoid this warning.\n",
      "  warnings.warn(\n",
      "D:\\Coding_Projects\\erkd_schieben\\erkd\\.venv\\lib\\site-packages\\sklearn\\linear_model\\_logistic.py:1247: FutureWarning: 'multi_class' was deprecated in version 1.5 and will be removed in 1.7. From then on, it will always use 'multinomial'. Leave it to its default value to avoid this warning.\n",
      "  warnings.warn(\n",
      "D:\\Coding_Projects\\erkd_schieben\\erkd\\.venv\\lib\\site-packages\\sklearn\\linear_model\\_logistic.py:1247: FutureWarning: 'multi_class' was deprecated in version 1.5 and will be removed in 1.7. From then on, it will always use 'multinomial'. Leave it to its default value to avoid this warning.\n",
      "  warnings.warn(\n",
      "D:\\Coding_Projects\\erkd_schieben\\erkd\\.venv\\lib\\site-packages\\sklearn\\linear_model\\_logistic.py:1247: FutureWarning: 'multi_class' was deprecated in version 1.5 and will be removed in 1.7. From then on, it will always use 'multinomial'. Leave it to its default value to avoid this warning.\n",
      "  warnings.warn(\n",
      "D:\\Coding_Projects\\erkd_schieben\\erkd\\.venv\\lib\\site-packages\\sklearn\\linear_model\\_logistic.py:1247: FutureWarning: 'multi_class' was deprecated in version 1.5 and will be removed in 1.7. From then on, it will always use 'multinomial'. Leave it to its default value to avoid this warning.\n",
      "  warnings.warn(\n",
      "D:\\Coding_Projects\\erkd_schieben\\erkd\\.venv\\lib\\site-packages\\sklearn\\linear_model\\_logistic.py:1247: FutureWarning: 'multi_class' was deprecated in version 1.5 and will be removed in 1.7. From then on, it will always use 'multinomial'. Leave it to its default value to avoid this warning.\n",
      "  warnings.warn(\n",
      "D:\\Coding_Projects\\erkd_schieben\\erkd\\.venv\\lib\\site-packages\\sklearn\\linear_model\\_logistic.py:1247: FutureWarning: 'multi_class' was deprecated in version 1.5 and will be removed in 1.7. From then on, it will always use 'multinomial'. Leave it to its default value to avoid this warning.\n",
      "  warnings.warn(\n",
      "D:\\Coding_Projects\\erkd_schieben\\erkd\\.venv\\lib\\site-packages\\sklearn\\linear_model\\_logistic.py:1247: FutureWarning: 'multi_class' was deprecated in version 1.5 and will be removed in 1.7. From then on, it will always use 'multinomial'. Leave it to its default value to avoid this warning.\n",
      "  warnings.warn(\n",
      "D:\\Coding_Projects\\erkd_schieben\\erkd\\.venv\\lib\\site-packages\\sklearn\\linear_model\\_logistic.py:1247: FutureWarning: 'multi_class' was deprecated in version 1.5 and will be removed in 1.7. From then on, it will always use 'multinomial'. Leave it to its default value to avoid this warning.\n",
      "  warnings.warn(\n",
      "D:\\Coding_Projects\\erkd_schieben\\erkd\\.venv\\lib\\site-packages\\sklearn\\linear_model\\_logistic.py:1247: FutureWarning: 'multi_class' was deprecated in version 1.5 and will be removed in 1.7. From then on, it will always use 'multinomial'. Leave it to its default value to avoid this warning.\n",
      "  warnings.warn(\n",
      "D:\\Coding_Projects\\erkd_schieben\\erkd\\.venv\\lib\\site-packages\\sklearn\\linear_model\\_logistic.py:1247: FutureWarning: 'multi_class' was deprecated in version 1.5 and will be removed in 1.7. From then on, it will always use 'multinomial'. Leave it to its default value to avoid this warning.\n",
      "  warnings.warn(\n",
      "D:\\Coding_Projects\\erkd_schieben\\erkd\\.venv\\lib\\site-packages\\sklearn\\linear_model\\_logistic.py:1247: FutureWarning: 'multi_class' was deprecated in version 1.5 and will be removed in 1.7. From then on, it will always use 'multinomial'. Leave it to its default value to avoid this warning.\n",
      "  warnings.warn(\n",
      "D:\\Coding_Projects\\erkd_schieben\\erkd\\.venv\\lib\\site-packages\\sklearn\\linear_model\\_logistic.py:1247: FutureWarning: 'multi_class' was deprecated in version 1.5 and will be removed in 1.7. From then on, it will always use 'multinomial'. Leave it to its default value to avoid this warning.\n",
      "  warnings.warn(\n",
      "D:\\Coding_Projects\\erkd_schieben\\erkd\\.venv\\lib\\site-packages\\sklearn\\linear_model\\_logistic.py:1247: FutureWarning: 'multi_class' was deprecated in version 1.5 and will be removed in 1.7. From then on, it will always use 'multinomial'. Leave it to its default value to avoid this warning.\n",
      "  warnings.warn(\n",
      "D:\\Coding_Projects\\erkd_schieben\\erkd\\.venv\\lib\\site-packages\\sklearn\\linear_model\\_logistic.py:1247: FutureWarning: 'multi_class' was deprecated in version 1.5 and will be removed in 1.7. From then on, it will always use 'multinomial'. Leave it to its default value to avoid this warning.\n",
      "  warnings.warn(\n",
      "D:\\Coding_Projects\\erkd_schieben\\erkd\\.venv\\lib\\site-packages\\sklearn\\linear_model\\_logistic.py:1247: FutureWarning: 'multi_class' was deprecated in version 1.5 and will be removed in 1.7. From then on, it will always use 'multinomial'. Leave it to its default value to avoid this warning.\n",
      "  warnings.warn(\n",
      "D:\\Coding_Projects\\erkd_schieben\\erkd\\.venv\\lib\\site-packages\\sklearn\\linear_model\\_logistic.py:1247: FutureWarning: 'multi_class' was deprecated in version 1.5 and will be removed in 1.7. From then on, it will always use 'multinomial'. Leave it to its default value to avoid this warning.\n",
      "  warnings.warn(\n",
      "D:\\Coding_Projects\\erkd_schieben\\erkd\\.venv\\lib\\site-packages\\sklearn\\linear_model\\_logistic.py:1247: FutureWarning: 'multi_class' was deprecated in version 1.5 and will be removed in 1.7. From then on, it will always use 'multinomial'. Leave it to its default value to avoid this warning.\n",
      "  warnings.warn(\n",
      "D:\\Coding_Projects\\erkd_schieben\\erkd\\.venv\\lib\\site-packages\\sklearn\\linear_model\\_logistic.py:1247: FutureWarning: 'multi_class' was deprecated in version 1.5 and will be removed in 1.7. From then on, it will always use 'multinomial'. Leave it to its default value to avoid this warning.\n",
      "  warnings.warn(\n",
      "D:\\Coding_Projects\\erkd_schieben\\erkd\\.venv\\lib\\site-packages\\sklearn\\linear_model\\_logistic.py:1247: FutureWarning: 'multi_class' was deprecated in version 1.5 and will be removed in 1.7. From then on, it will always use 'multinomial'. Leave it to its default value to avoid this warning.\n",
      "  warnings.warn(\n",
      "D:\\Coding_Projects\\erkd_schieben\\erkd\\.venv\\lib\\site-packages\\sklearn\\linear_model\\_logistic.py:1247: FutureWarning: 'multi_class' was deprecated in version 1.5 and will be removed in 1.7. From then on, it will always use 'multinomial'. Leave it to its default value to avoid this warning.\n",
      "  warnings.warn(\n",
      "D:\\Coding_Projects\\erkd_schieben\\erkd\\.venv\\lib\\site-packages\\sklearn\\linear_model\\_logistic.py:1247: FutureWarning: 'multi_class' was deprecated in version 1.5 and will be removed in 1.7. From then on, it will always use 'multinomial'. Leave it to its default value to avoid this warning.\n",
      "  warnings.warn(\n",
      "D:\\Coding_Projects\\erkd_schieben\\erkd\\.venv\\lib\\site-packages\\sklearn\\linear_model\\_logistic.py:1247: FutureWarning: 'multi_class' was deprecated in version 1.5 and will be removed in 1.7. From then on, it will always use 'multinomial'. Leave it to its default value to avoid this warning.\n",
      "  warnings.warn(\n",
      "D:\\Coding_Projects\\erkd_schieben\\erkd\\.venv\\lib\\site-packages\\sklearn\\linear_model\\_logistic.py:1247: FutureWarning: 'multi_class' was deprecated in version 1.5 and will be removed in 1.7. From then on, it will always use 'multinomial'. Leave it to its default value to avoid this warning.\n",
      "  warnings.warn(\n",
      "D:\\Coding_Projects\\erkd_schieben\\erkd\\.venv\\lib\\site-packages\\sklearn\\linear_model\\_logistic.py:1247: FutureWarning: 'multi_class' was deprecated in version 1.5 and will be removed in 1.7. From then on, it will always use 'multinomial'. Leave it to its default value to avoid this warning.\n",
      "  warnings.warn(\n",
      "D:\\Coding_Projects\\erkd_schieben\\erkd\\.venv\\lib\\site-packages\\sklearn\\linear_model\\_logistic.py:1247: FutureWarning: 'multi_class' was deprecated in version 1.5 and will be removed in 1.7. From then on, it will always use 'multinomial'. Leave it to its default value to avoid this warning.\n",
      "  warnings.warn(\n",
      "D:\\Coding_Projects\\erkd_schieben\\erkd\\.venv\\lib\\site-packages\\sklearn\\linear_model\\_logistic.py:1247: FutureWarning: 'multi_class' was deprecated in version 1.5 and will be removed in 1.7. From then on, it will always use 'multinomial'. Leave it to its default value to avoid this warning.\n",
      "  warnings.warn(\n",
      "D:\\Coding_Projects\\erkd_schieben\\erkd\\.venv\\lib\\site-packages\\sklearn\\linear_model\\_logistic.py:1247: FutureWarning: 'multi_class' was deprecated in version 1.5 and will be removed in 1.7. From then on, it will always use 'multinomial'. Leave it to its default value to avoid this warning.\n",
      "  warnings.warn(\n",
      "D:\\Coding_Projects\\erkd_schieben\\erkd\\.venv\\lib\\site-packages\\sklearn\\linear_model\\_logistic.py:1247: FutureWarning: 'multi_class' was deprecated in version 1.5 and will be removed in 1.7. From then on, it will always use 'multinomial'. Leave it to its default value to avoid this warning.\n",
      "  warnings.warn(\n",
      "D:\\Coding_Projects\\erkd_schieben\\erkd\\.venv\\lib\\site-packages\\sklearn\\linear_model\\_logistic.py:1247: FutureWarning: 'multi_class' was deprecated in version 1.5 and will be removed in 1.7. From then on, it will always use 'multinomial'. Leave it to its default value to avoid this warning.\n",
      "  warnings.warn(\n",
      "D:\\Coding_Projects\\erkd_schieben\\erkd\\.venv\\lib\\site-packages\\sklearn\\linear_model\\_logistic.py:1247: FutureWarning: 'multi_class' was deprecated in version 1.5 and will be removed in 1.7. From then on, it will always use 'multinomial'. Leave it to its default value to avoid this warning.\n",
      "  warnings.warn(\n",
      "D:\\Coding_Projects\\erkd_schieben\\erkd\\.venv\\lib\\site-packages\\sklearn\\linear_model\\_logistic.py:1247: FutureWarning: 'multi_class' was deprecated in version 1.5 and will be removed in 1.7. From then on, it will always use 'multinomial'. Leave it to its default value to avoid this warning.\n",
      "  warnings.warn(\n",
      "D:\\Coding_Projects\\erkd_schieben\\erkd\\.venv\\lib\\site-packages\\sklearn\\linear_model\\_logistic.py:1247: FutureWarning: 'multi_class' was deprecated in version 1.5 and will be removed in 1.7. From then on, it will always use 'multinomial'. Leave it to its default value to avoid this warning.\n",
      "  warnings.warn(\n",
      "D:\\Coding_Projects\\erkd_schieben\\erkd\\.venv\\lib\\site-packages\\sklearn\\linear_model\\_logistic.py:1247: FutureWarning: 'multi_class' was deprecated in version 1.5 and will be removed in 1.7. From then on, it will always use 'multinomial'. Leave it to its default value to avoid this warning.\n",
      "  warnings.warn(\n",
      "D:\\Coding_Projects\\erkd_schieben\\erkd\\.venv\\lib\\site-packages\\sklearn\\linear_model\\_logistic.py:1247: FutureWarning: 'multi_class' was deprecated in version 1.5 and will be removed in 1.7. From then on, it will always use 'multinomial'. Leave it to its default value to avoid this warning.\n",
      "  warnings.warn(\n",
      "D:\\Coding_Projects\\erkd_schieben\\erkd\\.venv\\lib\\site-packages\\sklearn\\linear_model\\_logistic.py:1247: FutureWarning: 'multi_class' was deprecated in version 1.5 and will be removed in 1.7. From then on, it will always use 'multinomial'. Leave it to its default value to avoid this warning.\n",
      "  warnings.warn(\n",
      "D:\\Coding_Projects\\erkd_schieben\\erkd\\.venv\\lib\\site-packages\\sklearn\\linear_model\\_logistic.py:1247: FutureWarning: 'multi_class' was deprecated in version 1.5 and will be removed in 1.7. From then on, it will always use 'multinomial'. Leave it to its default value to avoid this warning.\n",
      "  warnings.warn(\n",
      "D:\\Coding_Projects\\erkd_schieben\\erkd\\.venv\\lib\\site-packages\\sklearn\\linear_model\\_logistic.py:1247: FutureWarning: 'multi_class' was deprecated in version 1.5 and will be removed in 1.7. From then on, it will always use 'multinomial'. Leave it to its default value to avoid this warning.\n",
      "  warnings.warn(\n",
      "D:\\Coding_Projects\\erkd_schieben\\erkd\\.venv\\lib\\site-packages\\sklearn\\linear_model\\_logistic.py:1247: FutureWarning: 'multi_class' was deprecated in version 1.5 and will be removed in 1.7. From then on, it will always use 'multinomial'. Leave it to its default value to avoid this warning.\n",
      "  warnings.warn(\n"
     ]
    },
    {
     "name": "stdout",
     "output_type": "stream",
     "text": [
      "RF\n",
      "XGB\n",
      "SVM\n",
      "MLP\n"
     ]
    },
    {
     "data": {
      "text/plain": "{'LogReg': [0.17880434782608692, 0.06469725150287983],\n 'RF': [0.2150724637681159, 0.053136303114487075],\n 'XGB': [0.4601449275362318, 0.06926357458379678],\n 'SVM': [0.4724637681159421, 0.013133745623472371],\n 'MLP': [0.30672101449275363, 0.1141895680142859]}"
     },
     "execution_count": 82,
     "metadata": {},
     "output_type": "execute_result"
    }
   ],
   "source": [
    "# micro-F1 scores with a 10-fold cross-validation method\n",
    "\n",
    "model_scores_micro = {}\n",
    "for i in range(len(classifiers)):\n",
    "    model_scores_micro[classifiers_name[i]] = []\n",
    "    print(classifiers_name[i])\n",
    "    for j in range(10):\n",
    "        model = classifiers[i]\n",
    "        scores = model_selection.cross_val_score(model, X=data_free_filter, y=label_free, cv=10, n_jobs=1,\n",
    "                                                 scoring='f1_micro')\n",
    "        model_scores_micro[classifiers_name[i]] += list(scores)\n",
    "    mean = np.nanmean(model_scores_micro[classifiers_name[i]])\n",
    "    std = np.nanstd(model_scores_micro[classifiers_name[i]])\n",
    "    model_scores_micro[classifiers_name[i]] = [mean, std]\n",
    "\n",
    "model_scores_micro"
   ]
  },
  {
   "cell_type": "code",
   "execution_count": 83,
   "metadata": {
    "ExecuteTime": {
     "end_time": "2025-01-20T15:46:24.604546Z",
     "start_time": "2025-01-20T15:42:55.327203Z"
    }
   },
   "outputs": [
    {
     "name": "stdout",
     "output_type": "stream",
     "text": [
      "LogReg\n"
     ]
    },
    {
     "name": "stderr",
     "output_type": "stream",
     "text": [
      "D:\\Coding_Projects\\erkd_schieben\\erkd\\.venv\\lib\\site-packages\\sklearn\\linear_model\\_logistic.py:1247: FutureWarning: 'multi_class' was deprecated in version 1.5 and will be removed in 1.7. From then on, it will always use 'multinomial'. Leave it to its default value to avoid this warning.\n",
      "  warnings.warn(\n",
      "D:\\Coding_Projects\\erkd_schieben\\erkd\\.venv\\lib\\site-packages\\sklearn\\linear_model\\_logistic.py:1247: FutureWarning: 'multi_class' was deprecated in version 1.5 and will be removed in 1.7. From then on, it will always use 'multinomial'. Leave it to its default value to avoid this warning.\n",
      "  warnings.warn(\n",
      "D:\\Coding_Projects\\erkd_schieben\\erkd\\.venv\\lib\\site-packages\\sklearn\\linear_model\\_logistic.py:1247: FutureWarning: 'multi_class' was deprecated in version 1.5 and will be removed in 1.7. From then on, it will always use 'multinomial'. Leave it to its default value to avoid this warning.\n",
      "  warnings.warn(\n",
      "D:\\Coding_Projects\\erkd_schieben\\erkd\\.venv\\lib\\site-packages\\sklearn\\linear_model\\_logistic.py:1247: FutureWarning: 'multi_class' was deprecated in version 1.5 and will be removed in 1.7. From then on, it will always use 'multinomial'. Leave it to its default value to avoid this warning.\n",
      "  warnings.warn(\n",
      "D:\\Coding_Projects\\erkd_schieben\\erkd\\.venv\\lib\\site-packages\\sklearn\\linear_model\\_logistic.py:1247: FutureWarning: 'multi_class' was deprecated in version 1.5 and will be removed in 1.7. From then on, it will always use 'multinomial'. Leave it to its default value to avoid this warning.\n",
      "  warnings.warn(\n",
      "D:\\Coding_Projects\\erkd_schieben\\erkd\\.venv\\lib\\site-packages\\sklearn\\linear_model\\_logistic.py:1247: FutureWarning: 'multi_class' was deprecated in version 1.5 and will be removed in 1.7. From then on, it will always use 'multinomial'. Leave it to its default value to avoid this warning.\n",
      "  warnings.warn(\n",
      "D:\\Coding_Projects\\erkd_schieben\\erkd\\.venv\\lib\\site-packages\\sklearn\\linear_model\\_logistic.py:1247: FutureWarning: 'multi_class' was deprecated in version 1.5 and will be removed in 1.7. From then on, it will always use 'multinomial'. Leave it to its default value to avoid this warning.\n",
      "  warnings.warn(\n",
      "D:\\Coding_Projects\\erkd_schieben\\erkd\\.venv\\lib\\site-packages\\sklearn\\linear_model\\_logistic.py:1247: FutureWarning: 'multi_class' was deprecated in version 1.5 and will be removed in 1.7. From then on, it will always use 'multinomial'. Leave it to its default value to avoid this warning.\n",
      "  warnings.warn(\n",
      "D:\\Coding_Projects\\erkd_schieben\\erkd\\.venv\\lib\\site-packages\\sklearn\\linear_model\\_logistic.py:1247: FutureWarning: 'multi_class' was deprecated in version 1.5 and will be removed in 1.7. From then on, it will always use 'multinomial'. Leave it to its default value to avoid this warning.\n",
      "  warnings.warn(\n",
      "D:\\Coding_Projects\\erkd_schieben\\erkd\\.venv\\lib\\site-packages\\sklearn\\linear_model\\_logistic.py:1247: FutureWarning: 'multi_class' was deprecated in version 1.5 and will be removed in 1.7. From then on, it will always use 'multinomial'. Leave it to its default value to avoid this warning.\n",
      "  warnings.warn(\n",
      "D:\\Coding_Projects\\erkd_schieben\\erkd\\.venv\\lib\\site-packages\\sklearn\\linear_model\\_logistic.py:1247: FutureWarning: 'multi_class' was deprecated in version 1.5 and will be removed in 1.7. From then on, it will always use 'multinomial'. Leave it to its default value to avoid this warning.\n",
      "  warnings.warn(\n",
      "D:\\Coding_Projects\\erkd_schieben\\erkd\\.venv\\lib\\site-packages\\sklearn\\linear_model\\_logistic.py:1247: FutureWarning: 'multi_class' was deprecated in version 1.5 and will be removed in 1.7. From then on, it will always use 'multinomial'. Leave it to its default value to avoid this warning.\n",
      "  warnings.warn(\n",
      "D:\\Coding_Projects\\erkd_schieben\\erkd\\.venv\\lib\\site-packages\\sklearn\\linear_model\\_logistic.py:1247: FutureWarning: 'multi_class' was deprecated in version 1.5 and will be removed in 1.7. From then on, it will always use 'multinomial'. Leave it to its default value to avoid this warning.\n",
      "  warnings.warn(\n",
      "D:\\Coding_Projects\\erkd_schieben\\erkd\\.venv\\lib\\site-packages\\sklearn\\linear_model\\_logistic.py:1247: FutureWarning: 'multi_class' was deprecated in version 1.5 and will be removed in 1.7. From then on, it will always use 'multinomial'. Leave it to its default value to avoid this warning.\n",
      "  warnings.warn(\n",
      "D:\\Coding_Projects\\erkd_schieben\\erkd\\.venv\\lib\\site-packages\\sklearn\\linear_model\\_logistic.py:1247: FutureWarning: 'multi_class' was deprecated in version 1.5 and will be removed in 1.7. From then on, it will always use 'multinomial'. Leave it to its default value to avoid this warning.\n",
      "  warnings.warn(\n",
      "D:\\Coding_Projects\\erkd_schieben\\erkd\\.venv\\lib\\site-packages\\sklearn\\linear_model\\_logistic.py:1247: FutureWarning: 'multi_class' was deprecated in version 1.5 and will be removed in 1.7. From then on, it will always use 'multinomial'. Leave it to its default value to avoid this warning.\n",
      "  warnings.warn(\n",
      "D:\\Coding_Projects\\erkd_schieben\\erkd\\.venv\\lib\\site-packages\\sklearn\\linear_model\\_logistic.py:1247: FutureWarning: 'multi_class' was deprecated in version 1.5 and will be removed in 1.7. From then on, it will always use 'multinomial'. Leave it to its default value to avoid this warning.\n",
      "  warnings.warn(\n",
      "D:\\Coding_Projects\\erkd_schieben\\erkd\\.venv\\lib\\site-packages\\sklearn\\linear_model\\_logistic.py:1247: FutureWarning: 'multi_class' was deprecated in version 1.5 and will be removed in 1.7. From then on, it will always use 'multinomial'. Leave it to its default value to avoid this warning.\n",
      "  warnings.warn(\n",
      "D:\\Coding_Projects\\erkd_schieben\\erkd\\.venv\\lib\\site-packages\\sklearn\\linear_model\\_logistic.py:1247: FutureWarning: 'multi_class' was deprecated in version 1.5 and will be removed in 1.7. From then on, it will always use 'multinomial'. Leave it to its default value to avoid this warning.\n",
      "  warnings.warn(\n",
      "D:\\Coding_Projects\\erkd_schieben\\erkd\\.venv\\lib\\site-packages\\sklearn\\linear_model\\_logistic.py:1247: FutureWarning: 'multi_class' was deprecated in version 1.5 and will be removed in 1.7. From then on, it will always use 'multinomial'. Leave it to its default value to avoid this warning.\n",
      "  warnings.warn(\n",
      "D:\\Coding_Projects\\erkd_schieben\\erkd\\.venv\\lib\\site-packages\\sklearn\\linear_model\\_logistic.py:1247: FutureWarning: 'multi_class' was deprecated in version 1.5 and will be removed in 1.7. From then on, it will always use 'multinomial'. Leave it to its default value to avoid this warning.\n",
      "  warnings.warn(\n",
      "D:\\Coding_Projects\\erkd_schieben\\erkd\\.venv\\lib\\site-packages\\sklearn\\linear_model\\_logistic.py:1247: FutureWarning: 'multi_class' was deprecated in version 1.5 and will be removed in 1.7. From then on, it will always use 'multinomial'. Leave it to its default value to avoid this warning.\n",
      "  warnings.warn(\n",
      "D:\\Coding_Projects\\erkd_schieben\\erkd\\.venv\\lib\\site-packages\\sklearn\\linear_model\\_logistic.py:1247: FutureWarning: 'multi_class' was deprecated in version 1.5 and will be removed in 1.7. From then on, it will always use 'multinomial'. Leave it to its default value to avoid this warning.\n",
      "  warnings.warn(\n",
      "D:\\Coding_Projects\\erkd_schieben\\erkd\\.venv\\lib\\site-packages\\sklearn\\linear_model\\_logistic.py:1247: FutureWarning: 'multi_class' was deprecated in version 1.5 and will be removed in 1.7. From then on, it will always use 'multinomial'. Leave it to its default value to avoid this warning.\n",
      "  warnings.warn(\n",
      "D:\\Coding_Projects\\erkd_schieben\\erkd\\.venv\\lib\\site-packages\\sklearn\\linear_model\\_logistic.py:1247: FutureWarning: 'multi_class' was deprecated in version 1.5 and will be removed in 1.7. From then on, it will always use 'multinomial'. Leave it to its default value to avoid this warning.\n",
      "  warnings.warn(\n",
      "D:\\Coding_Projects\\erkd_schieben\\erkd\\.venv\\lib\\site-packages\\sklearn\\linear_model\\_logistic.py:1247: FutureWarning: 'multi_class' was deprecated in version 1.5 and will be removed in 1.7. From then on, it will always use 'multinomial'. Leave it to its default value to avoid this warning.\n",
      "  warnings.warn(\n",
      "D:\\Coding_Projects\\erkd_schieben\\erkd\\.venv\\lib\\site-packages\\sklearn\\linear_model\\_logistic.py:1247: FutureWarning: 'multi_class' was deprecated in version 1.5 and will be removed in 1.7. From then on, it will always use 'multinomial'. Leave it to its default value to avoid this warning.\n",
      "  warnings.warn(\n",
      "D:\\Coding_Projects\\erkd_schieben\\erkd\\.venv\\lib\\site-packages\\sklearn\\linear_model\\_logistic.py:1247: FutureWarning: 'multi_class' was deprecated in version 1.5 and will be removed in 1.7. From then on, it will always use 'multinomial'. Leave it to its default value to avoid this warning.\n",
      "  warnings.warn(\n",
      "D:\\Coding_Projects\\erkd_schieben\\erkd\\.venv\\lib\\site-packages\\sklearn\\linear_model\\_logistic.py:1247: FutureWarning: 'multi_class' was deprecated in version 1.5 and will be removed in 1.7. From then on, it will always use 'multinomial'. Leave it to its default value to avoid this warning.\n",
      "  warnings.warn(\n",
      "D:\\Coding_Projects\\erkd_schieben\\erkd\\.venv\\lib\\site-packages\\sklearn\\linear_model\\_logistic.py:1247: FutureWarning: 'multi_class' was deprecated in version 1.5 and will be removed in 1.7. From then on, it will always use 'multinomial'. Leave it to its default value to avoid this warning.\n",
      "  warnings.warn(\n",
      "D:\\Coding_Projects\\erkd_schieben\\erkd\\.venv\\lib\\site-packages\\sklearn\\linear_model\\_logistic.py:1247: FutureWarning: 'multi_class' was deprecated in version 1.5 and will be removed in 1.7. From then on, it will always use 'multinomial'. Leave it to its default value to avoid this warning.\n",
      "  warnings.warn(\n",
      "D:\\Coding_Projects\\erkd_schieben\\erkd\\.venv\\lib\\site-packages\\sklearn\\linear_model\\_logistic.py:1247: FutureWarning: 'multi_class' was deprecated in version 1.5 and will be removed in 1.7. From then on, it will always use 'multinomial'. Leave it to its default value to avoid this warning.\n",
      "  warnings.warn(\n",
      "D:\\Coding_Projects\\erkd_schieben\\erkd\\.venv\\lib\\site-packages\\sklearn\\linear_model\\_logistic.py:1247: FutureWarning: 'multi_class' was deprecated in version 1.5 and will be removed in 1.7. From then on, it will always use 'multinomial'. Leave it to its default value to avoid this warning.\n",
      "  warnings.warn(\n",
      "D:\\Coding_Projects\\erkd_schieben\\erkd\\.venv\\lib\\site-packages\\sklearn\\linear_model\\_logistic.py:1247: FutureWarning: 'multi_class' was deprecated in version 1.5 and will be removed in 1.7. From then on, it will always use 'multinomial'. Leave it to its default value to avoid this warning.\n",
      "  warnings.warn(\n",
      "D:\\Coding_Projects\\erkd_schieben\\erkd\\.venv\\lib\\site-packages\\sklearn\\linear_model\\_logistic.py:1247: FutureWarning: 'multi_class' was deprecated in version 1.5 and will be removed in 1.7. From then on, it will always use 'multinomial'. Leave it to its default value to avoid this warning.\n",
      "  warnings.warn(\n",
      "D:\\Coding_Projects\\erkd_schieben\\erkd\\.venv\\lib\\site-packages\\sklearn\\linear_model\\_logistic.py:1247: FutureWarning: 'multi_class' was deprecated in version 1.5 and will be removed in 1.7. From then on, it will always use 'multinomial'. Leave it to its default value to avoid this warning.\n",
      "  warnings.warn(\n",
      "D:\\Coding_Projects\\erkd_schieben\\erkd\\.venv\\lib\\site-packages\\sklearn\\linear_model\\_logistic.py:1247: FutureWarning: 'multi_class' was deprecated in version 1.5 and will be removed in 1.7. From then on, it will always use 'multinomial'. Leave it to its default value to avoid this warning.\n",
      "  warnings.warn(\n",
      "D:\\Coding_Projects\\erkd_schieben\\erkd\\.venv\\lib\\site-packages\\sklearn\\linear_model\\_logistic.py:1247: FutureWarning: 'multi_class' was deprecated in version 1.5 and will be removed in 1.7. From then on, it will always use 'multinomial'. Leave it to its default value to avoid this warning.\n",
      "  warnings.warn(\n",
      "D:\\Coding_Projects\\erkd_schieben\\erkd\\.venv\\lib\\site-packages\\sklearn\\linear_model\\_logistic.py:1247: FutureWarning: 'multi_class' was deprecated in version 1.5 and will be removed in 1.7. From then on, it will always use 'multinomial'. Leave it to its default value to avoid this warning.\n",
      "  warnings.warn(\n",
      "D:\\Coding_Projects\\erkd_schieben\\erkd\\.venv\\lib\\site-packages\\sklearn\\linear_model\\_logistic.py:1247: FutureWarning: 'multi_class' was deprecated in version 1.5 and will be removed in 1.7. From then on, it will always use 'multinomial'. Leave it to its default value to avoid this warning.\n",
      "  warnings.warn(\n",
      "D:\\Coding_Projects\\erkd_schieben\\erkd\\.venv\\lib\\site-packages\\sklearn\\linear_model\\_logistic.py:1247: FutureWarning: 'multi_class' was deprecated in version 1.5 and will be removed in 1.7. From then on, it will always use 'multinomial'. Leave it to its default value to avoid this warning.\n",
      "  warnings.warn(\n",
      "D:\\Coding_Projects\\erkd_schieben\\erkd\\.venv\\lib\\site-packages\\sklearn\\linear_model\\_logistic.py:1247: FutureWarning: 'multi_class' was deprecated in version 1.5 and will be removed in 1.7. From then on, it will always use 'multinomial'. Leave it to its default value to avoid this warning.\n",
      "  warnings.warn(\n",
      "D:\\Coding_Projects\\erkd_schieben\\erkd\\.venv\\lib\\site-packages\\sklearn\\linear_model\\_logistic.py:1247: FutureWarning: 'multi_class' was deprecated in version 1.5 and will be removed in 1.7. From then on, it will always use 'multinomial'. Leave it to its default value to avoid this warning.\n",
      "  warnings.warn(\n",
      "D:\\Coding_Projects\\erkd_schieben\\erkd\\.venv\\lib\\site-packages\\sklearn\\linear_model\\_logistic.py:1247: FutureWarning: 'multi_class' was deprecated in version 1.5 and will be removed in 1.7. From then on, it will always use 'multinomial'. Leave it to its default value to avoid this warning.\n",
      "  warnings.warn(\n",
      "D:\\Coding_Projects\\erkd_schieben\\erkd\\.venv\\lib\\site-packages\\sklearn\\linear_model\\_logistic.py:1247: FutureWarning: 'multi_class' was deprecated in version 1.5 and will be removed in 1.7. From then on, it will always use 'multinomial'. Leave it to its default value to avoid this warning.\n",
      "  warnings.warn(\n",
      "D:\\Coding_Projects\\erkd_schieben\\erkd\\.venv\\lib\\site-packages\\sklearn\\linear_model\\_logistic.py:1247: FutureWarning: 'multi_class' was deprecated in version 1.5 and will be removed in 1.7. From then on, it will always use 'multinomial'. Leave it to its default value to avoid this warning.\n",
      "  warnings.warn(\n",
      "D:\\Coding_Projects\\erkd_schieben\\erkd\\.venv\\lib\\site-packages\\sklearn\\linear_model\\_logistic.py:1247: FutureWarning: 'multi_class' was deprecated in version 1.5 and will be removed in 1.7. From then on, it will always use 'multinomial'. Leave it to its default value to avoid this warning.\n",
      "  warnings.warn(\n",
      "D:\\Coding_Projects\\erkd_schieben\\erkd\\.venv\\lib\\site-packages\\sklearn\\linear_model\\_logistic.py:1247: FutureWarning: 'multi_class' was deprecated in version 1.5 and will be removed in 1.7. From then on, it will always use 'multinomial'. Leave it to its default value to avoid this warning.\n",
      "  warnings.warn(\n",
      "D:\\Coding_Projects\\erkd_schieben\\erkd\\.venv\\lib\\site-packages\\sklearn\\linear_model\\_logistic.py:1247: FutureWarning: 'multi_class' was deprecated in version 1.5 and will be removed in 1.7. From then on, it will always use 'multinomial'. Leave it to its default value to avoid this warning.\n",
      "  warnings.warn(\n",
      "D:\\Coding_Projects\\erkd_schieben\\erkd\\.venv\\lib\\site-packages\\sklearn\\linear_model\\_logistic.py:1247: FutureWarning: 'multi_class' was deprecated in version 1.5 and will be removed in 1.7. From then on, it will always use 'multinomial'. Leave it to its default value to avoid this warning.\n",
      "  warnings.warn(\n",
      "D:\\Coding_Projects\\erkd_schieben\\erkd\\.venv\\lib\\site-packages\\sklearn\\linear_model\\_logistic.py:1247: FutureWarning: 'multi_class' was deprecated in version 1.5 and will be removed in 1.7. From then on, it will always use 'multinomial'. Leave it to its default value to avoid this warning.\n",
      "  warnings.warn(\n",
      "D:\\Coding_Projects\\erkd_schieben\\erkd\\.venv\\lib\\site-packages\\sklearn\\linear_model\\_logistic.py:1247: FutureWarning: 'multi_class' was deprecated in version 1.5 and will be removed in 1.7. From then on, it will always use 'multinomial'. Leave it to its default value to avoid this warning.\n",
      "  warnings.warn(\n",
      "D:\\Coding_Projects\\erkd_schieben\\erkd\\.venv\\lib\\site-packages\\sklearn\\linear_model\\_logistic.py:1247: FutureWarning: 'multi_class' was deprecated in version 1.5 and will be removed in 1.7. From then on, it will always use 'multinomial'. Leave it to its default value to avoid this warning.\n",
      "  warnings.warn(\n",
      "D:\\Coding_Projects\\erkd_schieben\\erkd\\.venv\\lib\\site-packages\\sklearn\\linear_model\\_logistic.py:1247: FutureWarning: 'multi_class' was deprecated in version 1.5 and will be removed in 1.7. From then on, it will always use 'multinomial'. Leave it to its default value to avoid this warning.\n",
      "  warnings.warn(\n",
      "D:\\Coding_Projects\\erkd_schieben\\erkd\\.venv\\lib\\site-packages\\sklearn\\linear_model\\_logistic.py:1247: FutureWarning: 'multi_class' was deprecated in version 1.5 and will be removed in 1.7. From then on, it will always use 'multinomial'. Leave it to its default value to avoid this warning.\n",
      "  warnings.warn(\n",
      "D:\\Coding_Projects\\erkd_schieben\\erkd\\.venv\\lib\\site-packages\\sklearn\\linear_model\\_logistic.py:1247: FutureWarning: 'multi_class' was deprecated in version 1.5 and will be removed in 1.7. From then on, it will always use 'multinomial'. Leave it to its default value to avoid this warning.\n",
      "  warnings.warn(\n",
      "D:\\Coding_Projects\\erkd_schieben\\erkd\\.venv\\lib\\site-packages\\sklearn\\linear_model\\_logistic.py:1247: FutureWarning: 'multi_class' was deprecated in version 1.5 and will be removed in 1.7. From then on, it will always use 'multinomial'. Leave it to its default value to avoid this warning.\n",
      "  warnings.warn(\n",
      "D:\\Coding_Projects\\erkd_schieben\\erkd\\.venv\\lib\\site-packages\\sklearn\\linear_model\\_logistic.py:1247: FutureWarning: 'multi_class' was deprecated in version 1.5 and will be removed in 1.7. From then on, it will always use 'multinomial'. Leave it to its default value to avoid this warning.\n",
      "  warnings.warn(\n",
      "D:\\Coding_Projects\\erkd_schieben\\erkd\\.venv\\lib\\site-packages\\sklearn\\linear_model\\_logistic.py:1247: FutureWarning: 'multi_class' was deprecated in version 1.5 and will be removed in 1.7. From then on, it will always use 'multinomial'. Leave it to its default value to avoid this warning.\n",
      "  warnings.warn(\n",
      "D:\\Coding_Projects\\erkd_schieben\\erkd\\.venv\\lib\\site-packages\\sklearn\\linear_model\\_logistic.py:1247: FutureWarning: 'multi_class' was deprecated in version 1.5 and will be removed in 1.7. From then on, it will always use 'multinomial'. Leave it to its default value to avoid this warning.\n",
      "  warnings.warn(\n",
      "D:\\Coding_Projects\\erkd_schieben\\erkd\\.venv\\lib\\site-packages\\sklearn\\linear_model\\_logistic.py:1247: FutureWarning: 'multi_class' was deprecated in version 1.5 and will be removed in 1.7. From then on, it will always use 'multinomial'. Leave it to its default value to avoid this warning.\n",
      "  warnings.warn(\n",
      "D:\\Coding_Projects\\erkd_schieben\\erkd\\.venv\\lib\\site-packages\\sklearn\\linear_model\\_logistic.py:1247: FutureWarning: 'multi_class' was deprecated in version 1.5 and will be removed in 1.7. From then on, it will always use 'multinomial'. Leave it to its default value to avoid this warning.\n",
      "  warnings.warn(\n",
      "D:\\Coding_Projects\\erkd_schieben\\erkd\\.venv\\lib\\site-packages\\sklearn\\linear_model\\_logistic.py:1247: FutureWarning: 'multi_class' was deprecated in version 1.5 and will be removed in 1.7. From then on, it will always use 'multinomial'. Leave it to its default value to avoid this warning.\n",
      "  warnings.warn(\n",
      "D:\\Coding_Projects\\erkd_schieben\\erkd\\.venv\\lib\\site-packages\\sklearn\\linear_model\\_logistic.py:1247: FutureWarning: 'multi_class' was deprecated in version 1.5 and will be removed in 1.7. From then on, it will always use 'multinomial'. Leave it to its default value to avoid this warning.\n",
      "  warnings.warn(\n",
      "D:\\Coding_Projects\\erkd_schieben\\erkd\\.venv\\lib\\site-packages\\sklearn\\linear_model\\_logistic.py:1247: FutureWarning: 'multi_class' was deprecated in version 1.5 and will be removed in 1.7. From then on, it will always use 'multinomial'. Leave it to its default value to avoid this warning.\n",
      "  warnings.warn(\n",
      "D:\\Coding_Projects\\erkd_schieben\\erkd\\.venv\\lib\\site-packages\\sklearn\\linear_model\\_logistic.py:1247: FutureWarning: 'multi_class' was deprecated in version 1.5 and will be removed in 1.7. From then on, it will always use 'multinomial'. Leave it to its default value to avoid this warning.\n",
      "  warnings.warn(\n",
      "D:\\Coding_Projects\\erkd_schieben\\erkd\\.venv\\lib\\site-packages\\sklearn\\linear_model\\_logistic.py:1247: FutureWarning: 'multi_class' was deprecated in version 1.5 and will be removed in 1.7. From then on, it will always use 'multinomial'. Leave it to its default value to avoid this warning.\n",
      "  warnings.warn(\n",
      "D:\\Coding_Projects\\erkd_schieben\\erkd\\.venv\\lib\\site-packages\\sklearn\\linear_model\\_logistic.py:1247: FutureWarning: 'multi_class' was deprecated in version 1.5 and will be removed in 1.7. From then on, it will always use 'multinomial'. Leave it to its default value to avoid this warning.\n",
      "  warnings.warn(\n",
      "D:\\Coding_Projects\\erkd_schieben\\erkd\\.venv\\lib\\site-packages\\sklearn\\linear_model\\_logistic.py:1247: FutureWarning: 'multi_class' was deprecated in version 1.5 and will be removed in 1.7. From then on, it will always use 'multinomial'. Leave it to its default value to avoid this warning.\n",
      "  warnings.warn(\n",
      "D:\\Coding_Projects\\erkd_schieben\\erkd\\.venv\\lib\\site-packages\\sklearn\\linear_model\\_logistic.py:1247: FutureWarning: 'multi_class' was deprecated in version 1.5 and will be removed in 1.7. From then on, it will always use 'multinomial'. Leave it to its default value to avoid this warning.\n",
      "  warnings.warn(\n",
      "D:\\Coding_Projects\\erkd_schieben\\erkd\\.venv\\lib\\site-packages\\sklearn\\linear_model\\_logistic.py:1247: FutureWarning: 'multi_class' was deprecated in version 1.5 and will be removed in 1.7. From then on, it will always use 'multinomial'. Leave it to its default value to avoid this warning.\n",
      "  warnings.warn(\n",
      "D:\\Coding_Projects\\erkd_schieben\\erkd\\.venv\\lib\\site-packages\\sklearn\\linear_model\\_logistic.py:1247: FutureWarning: 'multi_class' was deprecated in version 1.5 and will be removed in 1.7. From then on, it will always use 'multinomial'. Leave it to its default value to avoid this warning.\n",
      "  warnings.warn(\n",
      "D:\\Coding_Projects\\erkd_schieben\\erkd\\.venv\\lib\\site-packages\\sklearn\\linear_model\\_logistic.py:1247: FutureWarning: 'multi_class' was deprecated in version 1.5 and will be removed in 1.7. From then on, it will always use 'multinomial'. Leave it to its default value to avoid this warning.\n",
      "  warnings.warn(\n",
      "D:\\Coding_Projects\\erkd_schieben\\erkd\\.venv\\lib\\site-packages\\sklearn\\linear_model\\_logistic.py:1247: FutureWarning: 'multi_class' was deprecated in version 1.5 and will be removed in 1.7. From then on, it will always use 'multinomial'. Leave it to its default value to avoid this warning.\n",
      "  warnings.warn(\n",
      "D:\\Coding_Projects\\erkd_schieben\\erkd\\.venv\\lib\\site-packages\\sklearn\\linear_model\\_logistic.py:1247: FutureWarning: 'multi_class' was deprecated in version 1.5 and will be removed in 1.7. From then on, it will always use 'multinomial'. Leave it to its default value to avoid this warning.\n",
      "  warnings.warn(\n",
      "D:\\Coding_Projects\\erkd_schieben\\erkd\\.venv\\lib\\site-packages\\sklearn\\linear_model\\_logistic.py:1247: FutureWarning: 'multi_class' was deprecated in version 1.5 and will be removed in 1.7. From then on, it will always use 'multinomial'. Leave it to its default value to avoid this warning.\n",
      "  warnings.warn(\n",
      "D:\\Coding_Projects\\erkd_schieben\\erkd\\.venv\\lib\\site-packages\\sklearn\\linear_model\\_logistic.py:1247: FutureWarning: 'multi_class' was deprecated in version 1.5 and will be removed in 1.7. From then on, it will always use 'multinomial'. Leave it to its default value to avoid this warning.\n",
      "  warnings.warn(\n",
      "D:\\Coding_Projects\\erkd_schieben\\erkd\\.venv\\lib\\site-packages\\sklearn\\linear_model\\_logistic.py:1247: FutureWarning: 'multi_class' was deprecated in version 1.5 and will be removed in 1.7. From then on, it will always use 'multinomial'. Leave it to its default value to avoid this warning.\n",
      "  warnings.warn(\n",
      "D:\\Coding_Projects\\erkd_schieben\\erkd\\.venv\\lib\\site-packages\\sklearn\\linear_model\\_logistic.py:1247: FutureWarning: 'multi_class' was deprecated in version 1.5 and will be removed in 1.7. From then on, it will always use 'multinomial'. Leave it to its default value to avoid this warning.\n",
      "  warnings.warn(\n",
      "D:\\Coding_Projects\\erkd_schieben\\erkd\\.venv\\lib\\site-packages\\sklearn\\linear_model\\_logistic.py:1247: FutureWarning: 'multi_class' was deprecated in version 1.5 and will be removed in 1.7. From then on, it will always use 'multinomial'. Leave it to its default value to avoid this warning.\n",
      "  warnings.warn(\n",
      "D:\\Coding_Projects\\erkd_schieben\\erkd\\.venv\\lib\\site-packages\\sklearn\\linear_model\\_logistic.py:1247: FutureWarning: 'multi_class' was deprecated in version 1.5 and will be removed in 1.7. From then on, it will always use 'multinomial'. Leave it to its default value to avoid this warning.\n",
      "  warnings.warn(\n",
      "D:\\Coding_Projects\\erkd_schieben\\erkd\\.venv\\lib\\site-packages\\sklearn\\linear_model\\_logistic.py:1247: FutureWarning: 'multi_class' was deprecated in version 1.5 and will be removed in 1.7. From then on, it will always use 'multinomial'. Leave it to its default value to avoid this warning.\n",
      "  warnings.warn(\n",
      "D:\\Coding_Projects\\erkd_schieben\\erkd\\.venv\\lib\\site-packages\\sklearn\\linear_model\\_logistic.py:1247: FutureWarning: 'multi_class' was deprecated in version 1.5 and will be removed in 1.7. From then on, it will always use 'multinomial'. Leave it to its default value to avoid this warning.\n",
      "  warnings.warn(\n",
      "D:\\Coding_Projects\\erkd_schieben\\erkd\\.venv\\lib\\site-packages\\sklearn\\linear_model\\_logistic.py:1247: FutureWarning: 'multi_class' was deprecated in version 1.5 and will be removed in 1.7. From then on, it will always use 'multinomial'. Leave it to its default value to avoid this warning.\n",
      "  warnings.warn(\n",
      "D:\\Coding_Projects\\erkd_schieben\\erkd\\.venv\\lib\\site-packages\\sklearn\\linear_model\\_logistic.py:1247: FutureWarning: 'multi_class' was deprecated in version 1.5 and will be removed in 1.7. From then on, it will always use 'multinomial'. Leave it to its default value to avoid this warning.\n",
      "  warnings.warn(\n",
      "D:\\Coding_Projects\\erkd_schieben\\erkd\\.venv\\lib\\site-packages\\sklearn\\linear_model\\_logistic.py:1247: FutureWarning: 'multi_class' was deprecated in version 1.5 and will be removed in 1.7. From then on, it will always use 'multinomial'. Leave it to its default value to avoid this warning.\n",
      "  warnings.warn(\n",
      "D:\\Coding_Projects\\erkd_schieben\\erkd\\.venv\\lib\\site-packages\\sklearn\\linear_model\\_logistic.py:1247: FutureWarning: 'multi_class' was deprecated in version 1.5 and will be removed in 1.7. From then on, it will always use 'multinomial'. Leave it to its default value to avoid this warning.\n",
      "  warnings.warn(\n",
      "D:\\Coding_Projects\\erkd_schieben\\erkd\\.venv\\lib\\site-packages\\sklearn\\linear_model\\_logistic.py:1247: FutureWarning: 'multi_class' was deprecated in version 1.5 and will be removed in 1.7. From then on, it will always use 'multinomial'. Leave it to its default value to avoid this warning.\n",
      "  warnings.warn(\n",
      "D:\\Coding_Projects\\erkd_schieben\\erkd\\.venv\\lib\\site-packages\\sklearn\\linear_model\\_logistic.py:1247: FutureWarning: 'multi_class' was deprecated in version 1.5 and will be removed in 1.7. From then on, it will always use 'multinomial'. Leave it to its default value to avoid this warning.\n",
      "  warnings.warn(\n",
      "D:\\Coding_Projects\\erkd_schieben\\erkd\\.venv\\lib\\site-packages\\sklearn\\linear_model\\_logistic.py:1247: FutureWarning: 'multi_class' was deprecated in version 1.5 and will be removed in 1.7. From then on, it will always use 'multinomial'. Leave it to its default value to avoid this warning.\n",
      "  warnings.warn(\n",
      "D:\\Coding_Projects\\erkd_schieben\\erkd\\.venv\\lib\\site-packages\\sklearn\\linear_model\\_logistic.py:1247: FutureWarning: 'multi_class' was deprecated in version 1.5 and will be removed in 1.7. From then on, it will always use 'multinomial'. Leave it to its default value to avoid this warning.\n",
      "  warnings.warn(\n",
      "D:\\Coding_Projects\\erkd_schieben\\erkd\\.venv\\lib\\site-packages\\sklearn\\linear_model\\_logistic.py:1247: FutureWarning: 'multi_class' was deprecated in version 1.5 and will be removed in 1.7. From then on, it will always use 'multinomial'. Leave it to its default value to avoid this warning.\n",
      "  warnings.warn(\n",
      "D:\\Coding_Projects\\erkd_schieben\\erkd\\.venv\\lib\\site-packages\\sklearn\\linear_model\\_logistic.py:1247: FutureWarning: 'multi_class' was deprecated in version 1.5 and will be removed in 1.7. From then on, it will always use 'multinomial'. Leave it to its default value to avoid this warning.\n",
      "  warnings.warn(\n",
      "D:\\Coding_Projects\\erkd_schieben\\erkd\\.venv\\lib\\site-packages\\sklearn\\linear_model\\_logistic.py:1247: FutureWarning: 'multi_class' was deprecated in version 1.5 and will be removed in 1.7. From then on, it will always use 'multinomial'. Leave it to its default value to avoid this warning.\n",
      "  warnings.warn(\n",
      "D:\\Coding_Projects\\erkd_schieben\\erkd\\.venv\\lib\\site-packages\\sklearn\\linear_model\\_logistic.py:1247: FutureWarning: 'multi_class' was deprecated in version 1.5 and will be removed in 1.7. From then on, it will always use 'multinomial'. Leave it to its default value to avoid this warning.\n",
      "  warnings.warn(\n",
      "D:\\Coding_Projects\\erkd_schieben\\erkd\\.venv\\lib\\site-packages\\sklearn\\linear_model\\_logistic.py:1247: FutureWarning: 'multi_class' was deprecated in version 1.5 and will be removed in 1.7. From then on, it will always use 'multinomial'. Leave it to its default value to avoid this warning.\n",
      "  warnings.warn(\n",
      "D:\\Coding_Projects\\erkd_schieben\\erkd\\.venv\\lib\\site-packages\\sklearn\\linear_model\\_logistic.py:1247: FutureWarning: 'multi_class' was deprecated in version 1.5 and will be removed in 1.7. From then on, it will always use 'multinomial'. Leave it to its default value to avoid this warning.\n",
      "  warnings.warn(\n",
      "D:\\Coding_Projects\\erkd_schieben\\erkd\\.venv\\lib\\site-packages\\sklearn\\linear_model\\_logistic.py:1247: FutureWarning: 'multi_class' was deprecated in version 1.5 and will be removed in 1.7. From then on, it will always use 'multinomial'. Leave it to its default value to avoid this warning.\n",
      "  warnings.warn(\n",
      "D:\\Coding_Projects\\erkd_schieben\\erkd\\.venv\\lib\\site-packages\\sklearn\\linear_model\\_logistic.py:1247: FutureWarning: 'multi_class' was deprecated in version 1.5 and will be removed in 1.7. From then on, it will always use 'multinomial'. Leave it to its default value to avoid this warning.\n",
      "  warnings.warn(\n",
      "D:\\Coding_Projects\\erkd_schieben\\erkd\\.venv\\lib\\site-packages\\sklearn\\linear_model\\_logistic.py:1247: FutureWarning: 'multi_class' was deprecated in version 1.5 and will be removed in 1.7. From then on, it will always use 'multinomial'. Leave it to its default value to avoid this warning.\n",
      "  warnings.warn(\n"
     ]
    },
    {
     "name": "stdout",
     "output_type": "stream",
     "text": [
      "RF\n",
      "XGB\n",
      "SVM\n",
      "MLP\n"
     ]
    },
    {
     "data": {
      "text/plain": "{'LogReg': [0.16008169608169606, 0.07010793047274466],\n 'RF': [0.19732773076596608, 0.0611346446991357],\n 'XGB': [0.2928075625523901, 0.08323727323805016],\n 'SVM': [0.12832492997198877, 0.0024135452489030917],\n 'MLP': [0.17245548562399043, 0.07661078143582233]}"
     },
     "execution_count": 83,
     "metadata": {},
     "output_type": "execute_result"
    }
   ],
   "source": [
    "# macro-F1 scores with a 10-fold cross-validation method\n",
    "\n",
    "# model_scores_macro = {}\n",
    "# for i in range(len(classifiers)):\n",
    "#    model_scores_macro[classifiers_name[i]] = []\n",
    "#    print(classifiers_name[i])\n",
    "#    for j in range(10):\n",
    "#        model = classifiers[i]\n",
    "#        scores = model_selection.cross_val_score#(model, X=data_free_filter, y=label_free, cv=10, #n_jobs=1,\n",
    "                                              \n",
    "#scoring='f1_macro')\n",
    "#        model_scores_macro[classifiers_name[i]] += #list(scores)\n",
    "#    mean = np.nanmean#(model_scores_macro[classifiers_name[i]])\n",
    "#    std = np.nanstd(model_scores_macro[classifiers_name[i]])\n",
    "#    model_scores_macro[classifiers_name[i]] = [mean, #std]\n",
    "\n",
    "\n",
    "#model_scores_macro\n",
    "\n",
    "\n",
    "from sklearn.model_selection import cross_val_score\n",
    "from numpy import nanmean, nanstd\n",
    "\n",
    "# Define the classifiers\n",
    "classifiers_name = ['LogReg', 'RF', 'XGB', 'SVM', 'MLP']\n",
    "classifiers = [\n",
    "    LogisticRegression(multi_class='auto', max_iter=500, solver='newton-cg', class_weight={0: 0.1, 1: 1, 2: 1, 3: 1, 4: 1}),\n",
    "    RandomForestClassifier(n_estimators=200, max_depth=5, class_weight={0: 0.1, 1: 1, 2: 1, 3: 1, 4: 1}),\n",
    "    xgb.XGBClassifier(objective='multi:softmax', eval_metric='mlogloss', use_label_encoder=False),\n",
    "    SVC(kernel='rbf', decision_function_shape='ovr', probability=True),\n",
    "    MLPClassifier(alpha=1, max_iter=500)\n",
    "]\n",
    "\n",
    "# Initialize a dictionary to hold the macro-F1 scores\n",
    "model_scores_macro = {}\n",
    "\n",
    "# For each classifier\n",
    "for i in range(len(classifiers)):\n",
    "    # Initialize a list to hold the scores for this classifier\n",
    "    model_scores_macro[classifiers_name[i]] = []\n",
    "    \n",
    "    # Print the name of the classifier\n",
    "    print(classifiers_name[i])\n",
    "    \n",
    "    # Perform 10-fold cross-validation\n",
    "    for j in range(10):\n",
    "        # Get the current classifier\n",
    "        model = classifiers[i]\n",
    "        \n",
    "        # Compute the cross-validation scores\n",
    "        scores = cross_val_score(model, X=data_free_filter, y=label_free, cv=10, n_jobs=1, scoring='f1_macro')\n",
    "        \n",
    "        # Add the scores to the list for this classifier\n",
    "        model_scores_macro[classifiers_name[i]] += list(scores)\n",
    "    \n",
    "    # Compute the mean and standard deviation of the scores\n",
    "    mean = nanmean(model_scores_macro[classifiers_name[i]])\n",
    "    std = nanstd(model_scores_macro[classifiers_name[i]])\n",
    "    \n",
    "    # Store the mean and standard deviation in the dictionary\n",
    "    model_scores_macro[classifiers_name[i]] = [mean, std]\n",
    "\n",
    "\n",
    "# Print the macro-F1 scores\n",
    "model_scores_macro"
   ]
  },
  {
   "cell_type": "code",
   "execution_count": 83,
   "outputs": [],
   "source": [],
   "metadata": {
    "collapsed": false,
    "ExecuteTime": {
     "end_time": "2025-01-20T15:46:24.620546Z",
     "start_time": "2025-01-20T15:46:24.606546Z"
    }
   }
  },
  {
   "cell_type": "markdown",
   "metadata": {},
   "source": [
    "#### Best multi-class model"
   ]
  },
  {
   "cell_type": "code",
   "execution_count": 84,
   "metadata": {
    "ExecuteTime": {
     "end_time": "2025-01-20T15:46:24.636546Z",
     "start_time": "2025-01-20T15:46:24.622545Z"
    }
   },
   "outputs": [],
   "source": [
    "def iterate_all_models(model_name):\n",
    "    best_model = model_name\n",
    "    X_train, X_test, Y_train, Y_test = train_test_split(data_free_filter, label_free, test_size=0.2)\n",
    "\n",
    "    scaler = MinMaxScaler()\n",
    "    X_train = scaler.fit_transform(X_train)\n",
    "    X_test = scaler.transform(X_test)\n",
    "\n",
    "    model = classifiers[classifiers_name.index(best_model)]\n",
    "    model.fit(X_train, Y_train)\n",
    "    \n",
    "    \n",
    "    # Check if the model is fitted\n",
    "    print(\"Before saving, is the model fitted? \", hasattr(model, 'classes_'))\n",
    "\n",
    "    model_name= model_name+'free'\n",
    "    # Save the last trained model\n",
    "    save_model(model, f'{model_name}.pkl')\n",
    "\n",
    "    performance_metrics = compute_metrics(model, X_test, Y_test, show=True)\n",
    "    plot_confusion_matrix(performance_metrics[\"Confusion Matrix\"])"
   ]
  },
  {
   "cell_type": "markdown",
   "source": [],
   "metadata": {
    "collapsed": false
   }
  },
  {
   "cell_type": "code",
   "outputs": [
    {
     "name": "stdout",
     "output_type": "stream",
     "text": [
      "SVM Accuracy: 0.15\n",
      "                         Feature  Importance\n",
      "12                       delFreq    0.057447\n",
      "16                   nbKeystroke    0.051064\n",
      "10                      ageRange    0.023404\n",
      "24              country_Belgique    0.019149\n",
      "9                       U1U2_std    0.012766\n",
      "5                       D1U2_std    0.010638\n",
      "7                       U1D2_std    0.010638\n",
      "27                country_France    0.010638\n",
      "1                       D1D2_std    0.010638\n",
      "37       typistType_Touch Typist    0.006383\n",
      "4                      D1U2_mean    0.006383\n",
      "6                      U1D2_mean    0.006383\n",
      "38  typistType_Two Finger Typist    0.004255\n",
      "29                 country_Italy    0.002128\n",
      "0                      D1D2_mean    0.002128\n",
      "8                      U1U2_mean    0.002128\n",
      "25                country_Belize    0.000000\n",
      "2                      D1U1_mean    0.000000\n",
      "35         country_United_States    0.000000\n",
      "32                country_Suisse    0.000000\n",
      "31                 country_Spain    0.000000\n",
      "30              country_Portugal    0.000000\n",
      "3                       D1U1_std    0.000000\n",
      "26                country_Canada    0.000000\n",
      "19                      typeWith    0.000000\n",
      "11                        degree    0.000000\n",
      "23               country_Barbade    0.000000\n",
      "22               country_Bahamas    0.000000\n",
      "21       country_Arabie_Saoudite    0.000000\n",
      "20                country_Angola    0.000000\n",
      "13                  editDistance    0.000000\n",
      "17                 pcTimeAverage    0.000000\n",
      "36  typistType_One Finger Typist   -0.002128\n",
      "15                      leftFreq   -0.002128\n",
      "33               country_Tunisia   -0.004255\n",
      "18                        status   -0.006383\n",
      "28               country_Germany   -0.017021\n",
      "34  country_United Arab Emirates   -0.021277\n",
      "14                        gender   -0.046809\n",
      "Feature importance saved to 'svm_feature_importance.csv'\n"
     ]
    }
   ],
   "source": [
    "import pandas as pd\n",
    "from sklearn.model_selection import train_test_split\n",
    "from sklearn.svm import SVC\n",
    "from sklearn.inspection import permutation_importance\n",
    "from sklearn.preprocessing import MinMaxScaler\n",
    "from sklearn.metrics import accuracy_score\n",
    "\n",
    "# Use the same data as the other models\n",
    "X = data_free_filter\n",
    "y = label_free\n",
    "\n",
    "# Split the data into training and testing sets\n",
    "X_train, X_test, Y_train, Y_test = train_test_split(X, y, test_size=0.2, random_state=42)\n",
    "\n",
    "# Scale the data\n",
    "scaler = MinMaxScaler()\n",
    "X_train = scaler.fit_transform(X_train)\n",
    "X_test = scaler.transform(X_test)\n",
    "\n",
    "# Train the SVM model\n",
    "svm_model = SVC(kernel='linear', class_weight='balanced')\n",
    "svm_model.fit(X_train, Y_train)\n",
    "\n",
    "# Predict and calculate accuracy\n",
    "y_pred = svm_model.predict(X_test)\n",
    "accuracy = accuracy_score(Y_test, y_pred)\n",
    "print(f'SVM Accuracy: {accuracy:.2f}')\n",
    "\n",
    "# Calculate feature importance using permutation importance\n",
    "result = permutation_importance(svm_model, X_test, Y_test, n_repeats=10, random_state=42)\n",
    "\n",
    "# Create a DataFrame for visualization or saving\n",
    "feature_importance = pd.DataFrame({\n",
    "    'Feature': X.columns,\n",
    "    'Importance': result.importances_mean\n",
    "}).sort_values(by='Importance', ascending=False)\n",
    "\n",
    "# Display the feature importance\n",
    "print(feature_importance)\n",
    "\n",
    "# Save to CSV\n",
    "feature_importance.to_csv('svm_feature_importance.csv', index=False)\n",
    "print(\"Feature importance saved to 'svm_feature_importance.csv'\")"
   ],
   "metadata": {
    "collapsed": false,
    "ExecuteTime": {
     "end_time": "2025-01-20T15:46:25.094263Z",
     "start_time": "2025-01-20T15:46:24.638546Z"
    }
   },
   "execution_count": 85
  },
  {
   "cell_type": "code",
   "outputs": [
    {
     "name": "stdout",
     "output_type": "stream",
     "text": [
      "                         Feature  Importance\n",
      "12                       delFreq    0.057447\n",
      "16                   nbKeystroke    0.051064\n",
      "10                      ageRange    0.023404\n",
      "24              country_Belgique    0.019149\n",
      "9                       U1U2_std    0.012766\n",
      "5                       D1U2_std    0.010638\n",
      "7                       U1D2_std    0.010638\n",
      "27                country_France    0.010638\n",
      "1                       D1D2_std    0.010638\n",
      "37       typistType_Touch Typist    0.006383\n",
      "4                      D1U2_mean    0.006383\n",
      "6                      U1D2_mean    0.006383\n",
      "38  typistType_Two Finger Typist    0.004255\n",
      "29                 country_Italy    0.002128\n",
      "0                      D1D2_mean    0.002128\n",
      "8                      U1U2_mean    0.002128\n",
      "25                country_Belize    0.000000\n",
      "2                      D1U1_mean    0.000000\n",
      "35         country_United_States    0.000000\n",
      "32                country_Suisse    0.000000\n",
      "31                 country_Spain    0.000000\n",
      "30              country_Portugal    0.000000\n",
      "3                       D1U1_std    0.000000\n",
      "26                country_Canada    0.000000\n",
      "19                      typeWith    0.000000\n",
      "11                        degree    0.000000\n",
      "23               country_Barbade    0.000000\n",
      "22               country_Bahamas    0.000000\n",
      "21       country_Arabie_Saoudite    0.000000\n",
      "20                country_Angola    0.000000\n",
      "13                  editDistance    0.000000\n",
      "17                 pcTimeAverage    0.000000\n",
      "36  typistType_One Finger Typist   -0.002128\n",
      "15                      leftFreq   -0.002128\n",
      "33               country_Tunisia   -0.004255\n",
      "18                        status   -0.006383\n",
      "28               country_Germany   -0.017021\n",
      "34  country_United Arab Emirates   -0.021277\n",
      "14                        gender   -0.046809\n",
      "Feature importance saved to 'svm_feature_importance.csv'\n",
      "Feature importance saved to 'svm_feature_importance.csv'\n",
      "Feature importance saved to 'svm_feature_importance.pdf'\n"
     ]
    },
    {
     "data": {
      "text/plain": "<Figure size 1000x600 with 0 Axes>"
     },
     "metadata": {},
     "output_type": "display_data"
    }
   ],
   "source": [
    "import pandas as pd\n",
    "import matplotlib.pyplot as plt\n",
    "from sklearn.model_selection import train_test_split\n",
    "from sklearn.svm import SVC\n",
    "from sklearn.inspection import permutation_importance\n",
    "from sklearn.preprocessing import MinMaxScaler\n",
    "\n",
    "# Use the same data as the other models\n",
    "X = data_free_filter\n",
    "y = label_free\n",
    "\n",
    "# Split the data into training and testing sets\n",
    "X_train, X_test, Y_train, Y_test = train_test_split(X, y, test_size=0.2, random_state=42)\n",
    "\n",
    "# Scale the data\n",
    "scaler = MinMaxScaler()\n",
    "X_train = scaler.fit_transform(X_train)\n",
    "X_test = scaler.transform(X_test)\n",
    "\n",
    "# Train the SVM model\n",
    "svm_model = SVC(kernel='linear', class_weight='balanced')\n",
    "svm_model.fit(X_train, Y_train)\n",
    "\n",
    "# Calculate feature importance using permutation importance\n",
    "result = permutation_importance(svm_model, X_test, Y_test, n_repeats=10, random_state=42)\n",
    "\n",
    "# Create a DataFrame for visualization or saving\n",
    "feature_importance = pd.DataFrame({\n",
    "    'Feature': X.columns,\n",
    "    'Importance': result.importances_mean\n",
    "}).sort_values(by='Importance', ascending=False)\n",
    "\n",
    "# Display the feature importance\n",
    "print(feature_importance)\n",
    "\n",
    "# Save to CSV\n",
    "feature_importance.to_csv('svm_feature_importance.csv', index=False)\n",
    "print(\"Feature importance saved to 'svm_feature_importance.csv'\")\n",
    "\n",
    "# Function to save feature importance as CSV and PDF\n",
    "def save_feature_importance(feature_importance, csv_filename, pdf_filename):\n",
    "    # Save to CSV\n",
    "    feature_importance.to_csv(csv_filename, index=False)\n",
    "    print(f\"Feature importance saved to '{csv_filename}'\")\n",
    "\n",
    "    # Plot and save to PDF\n",
    "    plt.figure(figsize=(10, 6))\n",
    "    feature_importance.plot(kind='bar', x='Feature', y='Importance', legend=False, color='skyblue')\n",
    "    plt.title('Feature Importance')\n",
    "    plt.xlabel('Features')\n",
    "    plt.ylabel('Importance')\n",
    "    plt.tight_layout()\n",
    "    plt.savefig(pdf_filename)\n",
    "    plt.close()\n",
    "    print(f\"Feature importance saved to '{pdf_filename}'\")\n",
    "\n",
    "# Save feature importance as both CSV and PDF\n",
    "save_feature_importance(feature_importance, 'svm_feature_importance.csv', 'svm_feature_importance.pdf')"
   ],
   "metadata": {
    "collapsed": false,
    "ExecuteTime": {
     "end_time": "2025-01-20T15:46:26.576409Z",
     "start_time": "2025-01-20T15:46:25.097264Z"
    }
   },
   "execution_count": 86
  },
  {
   "cell_type": "code",
   "outputs": [],
   "source": [
    "import pandas as pd\n",
    "import pickle\n",
    "from sklearn.preprocessing import MinMaxScaler\n",
    "\n",
    "# Save the model to a file\n",
    "def save_model(model, filename):\n",
    "    with open(filename, 'wb') as file:\n",
    "        pickle.dump(model, file)\n",
    "\n",
    "# Load the model from a file\n",
    "def load_model(filename):\n",
    "    with open(filename, 'rb') as file:\n",
    "        return pickle.load(file)\n",
    "\n",
    "# Method to read a CSV file and predict the emotion\n",
    "def predict_emotion(csv_file, model_file):\n",
    "    # Load the model\n",
    "    model = load_model(model_file)\n",
    "\n",
    "    # Read the CSV file\n",
    "    data = pd.read_csv(csv_file)\n",
    "\n",
    "    # Preprocess the data\n",
    "    data['typeWith'] = data['typeWith'].map({'1 hand': 1, '2 hands': 2})\n",
    "    data['gender'] = (data['gender'] == 'Male')\n",
    "    data['ageRange'] = data['ageRange'].map({'16-19': 1, '20-29': 2, '30-39': 3, '>=50': 4})\n",
    "    data['degree'] = data['degree'].map({'High School': 1, 'College/University': 2})\n",
    "    data['pcTimeAverage'] = data['pcTimeAverage'].map(\n",
    "        {'less than an hour per day': 1, 'between 1 hour and 3 hours per day': 2, 'More than 3 hours per day': 3})\n",
    "    data['status'] = data['status'].map({'Student': 1, 'Professional': 2})\n",
    "\n",
    "    # Convert 'country' and 'typistType' columns if they exist\n",
    "    if 'country' in data.columns and 'typistType' in data.columns:\n",
    "        data = pd.get_dummies(data, columns=['country', 'typistType'])\n",
    "\n",
    "    data = data.fillna(-1)\n",
    "\n",
    "    # Scale the data\n",
    "    scaler = MinMaxScaler()\n",
    "    data = scaler.fit_transform(data)\n",
    "\n",
    "    # Predict the emotion\n",
    "    predictions = model.predict(data)\n",
    "\n",
    "    return predictions"
   ],
   "metadata": {
    "collapsed": false,
    "ExecuteTime": {
     "end_time": "2025-01-20T15:46:26.591409Z",
     "start_time": "2025-01-20T15:46:26.577408Z"
    }
   },
   "execution_count": 87
  },
  {
   "cell_type": "code",
   "outputs": [
    {
     "name": "stdout",
     "output_type": "stream",
     "text": [
      "['D1D2_mean', 'D1D2_std', 'D1U1_mean', 'D1U1_std', 'D1U2_mean', 'D1U2_std', 'U1D2_mean', 'U1D2_std', 'U1U2_mean', 'U1U2_std', 'ageRange', 'degree', 'delFreq', 'editDistance', 'gender', 'leftFreq', 'nbKeystroke', 'pcTimeAverage', 'status', 'typeWith', 'country_Angola', 'country_Arabie_Saoudite', 'country_Bahamas', 'country_Barbade', 'country_Belgique', 'country_Belize', 'country_Canada', 'country_France', 'country_Germany', 'country_Italy', 'country_Portugal', 'country_Spain', 'country_Suisse', 'country_Tunisia', 'country_United Arab Emirates', 'country_United_States', 'typistType_One Finger Typist', 'typistType_Touch Typist', 'typistType_Two Finger Typist']\n",
      "39\n"
     ]
    }
   ],
   "source": [
    "features = data_free.columns.tolist()\n",
    "print(features)\n",
    "print(len(data_free.columns))"
   ],
   "metadata": {
    "collapsed": false,
    "ExecuteTime": {
     "end_time": "2025-01-20T15:46:26.606407Z",
     "start_time": "2025-01-20T15:46:26.593409Z"
    }
   },
   "execution_count": 88
  },
  {
   "cell_type": "markdown",
   "metadata": {},
   "source": [
    "### Binary classification"
   ]
  },
  {
   "cell_type": "code",
   "outputs": [
    {
     "name": "stdout",
     "output_type": "stream",
     "text": [
      "Evaluating model: LogReg\n",
      "Metric : ACC, Score :  0.66\n",
      "Metric : TP_Rate, Score :  0.14\n",
      "Metric : FP_Rate, Score :  0.21\n",
      "Metric : Precision, Score :   nan\n",
      "Metric : F_Measure, Score :   nan\n",
      "Metric : F_Micro, Score :  0.11\n",
      "Metric : F_Macro, Score :  0.12\n",
      "Confusion Matrix: \n",
      "     N     H     C     S     A\n",
      "N  0.0  0.21  0.39  0.21  0.18\n",
      "H  0.0  0.22  0.67  0.00  0.11\n",
      "C  0.0  0.00  0.00  0.00  1.00\n",
      "S  0.0  0.00  0.33  0.50  0.17\n",
      "A  0.0  0.33  0.00  0.67  0.00\n"
     ]
    },
    {
     "name": "stderr",
     "output_type": "stream",
     "text": [
      "D:\\Coding_Projects\\erkd_schieben\\erkd\\.venv\\lib\\site-packages\\sklearn\\linear_model\\_logistic.py:1247: FutureWarning: 'multi_class' was deprecated in version 1.5 and will be removed in 1.7. From then on, it will always use 'multinomial'. Leave it to its default value to avoid this warning.\n",
      "  warnings.warn(\n",
      "C:\\Users\\dekassla\\AppData\\Local\\Temp\\ipykernel_13408\\2597144265.py:20: RuntimeWarning: invalid value encountered in divide\n",
      "  precision = np.mean(TP / (TP + FP))\n"
     ]
    },
    {
     "name": "stdout",
     "output_type": "stream",
     "text": [
      "Confusion matrix saved to 'cf_free_LogReg.pdf'\n",
      "Feature importance saved to 'LogReg_feature_importance.csv'\n",
      "Feature importance saved to 'LogReg_feature_importance.pdf'\n",
      "Evaluating model: RF\n",
      "Metric : ACC, Score :  0.74\n",
      "Metric : TP_Rate, Score :  0.35\n",
      "Metric : FP_Rate, Score :  0.16\n",
      "Metric : Precision, Score :  0.48\n",
      "Metric : F_Measure, Score :  0.41\n",
      "Metric : F_Micro, Score :  0.21\n",
      "Metric : F_Macro, Score :  0.24\n",
      "Confusion Matrix: \n",
      "      N     H     C     S     A\n",
      "N  0.04  0.36  0.36  0.11  0.14\n",
      "H  0.00  0.22  0.33  0.22  0.22\n",
      "C  0.00  0.00  0.00  0.00  1.00\n",
      "S  0.00  0.00  0.00  0.83  0.17\n",
      "A  0.00  0.00  0.33  0.00  0.67\n",
      "Confusion matrix saved to 'cf_free_RF.pdf'\n",
      "Feature importance saved to 'RF_feature_importance.csv'\n",
      "Feature importance saved to 'RF_feature_importance.pdf'\n",
      "Evaluating model: XGB\n",
      "Metric : ACC, Score :  0.70\n",
      "Metric : TP_Rate, Score :  0.25\n",
      "Metric : FP_Rate, Score :  0.19\n",
      "Metric : Precision, Score :  0.23\n",
      "Metric : F_Measure, Score :  0.24\n",
      "Metric : F_Micro, Score :  0.43\n",
      "Metric : F_Macro, Score :  0.25\n",
      "Confusion Matrix: \n",
      "      N     H     C     S     A\n",
      "N  0.61  0.07  0.18  0.07  0.07\n",
      "H  0.56  0.00  0.22  0.11  0.11\n",
      "C  0.00  0.00  0.00  0.00  1.00\n",
      "S  0.33  0.17  0.17  0.33  0.00\n",
      "A  0.67  0.00  0.00  0.00  0.33\n",
      "Confusion matrix saved to 'cf_free_XGB.pdf'\n",
      "Feature importance saved to 'XGB_feature_importance.csv'\n",
      "Feature importance saved to 'XGB_feature_importance.pdf'\n"
     ]
    },
    {
     "data": {
      "text/plain": "<Figure size 1000x600 with 0 Axes>"
     },
     "metadata": {},
     "output_type": "display_data"
    },
    {
     "data": {
      "text/plain": "<Figure size 1000x600 with 0 Axes>"
     },
     "metadata": {},
     "output_type": "display_data"
    },
    {
     "data": {
      "text/plain": "<Figure size 1000x600 with 0 Axes>"
     },
     "metadata": {},
     "output_type": "display_data"
    }
   ],
   "source": [
    "import pandas as pd\n",
    "import matplotlib.pyplot as plt\n",
    "from sklearn.model_selection import train_test_split\n",
    "from sklearn.inspection import permutation_importance\n",
    "from sklearn.preprocessing import MinMaxScaler\n",
    "import seaborn as sn\n",
    "\n",
    "# Function to save feature importance as CSV and PDF\n",
    "def save_feature_importance(feature_importance, csv_filename, pdf_filename):\n",
    "    # Save to CSV\n",
    "    feature_importance.to_csv(csv_filename, index=False)\n",
    "    print(f\"Feature importance saved to '{csv_filename}'\")\n",
    "\n",
    "    # Plot and save to PDF\n",
    "    plt.figure(figsize=(10, 6))\n",
    "    feature_importance.plot(kind='bar', x='Feature', y='Importance', legend=False, color='skyblue')\n",
    "    plt.title('Feature Importance', fontsize=14)\n",
    "    plt.xlabel('Features', fontsize=12)\n",
    "    plt.ylabel('Importance', fontsize=12)\n",
    "    plt.xticks(fontsize=10)\n",
    "    plt.yticks(fontsize=10)\n",
    "    plt.tight_layout()\n",
    "    plt.savefig(pdf_filename)\n",
    "    plt.close()\n",
    "    print(f\"Feature importance saved to '{pdf_filename}'\")\n",
    "\n",
    "# Function to plot and save confusion matrix\n",
    "def plot_confusion_matrix(confusion_matrix, filename):\n",
    "    df_cm = pd.DataFrame(confusion_matrix)\n",
    "    plt.figure(figsize=(10, 7))\n",
    "    sn.set(font_scale=1.2)  # Adjust font size\n",
    "    sn.heatmap(df_cm, annot=True, annot_kws={\"size\": 12}, cmap=\"Blues\", fmt='g')\n",
    "    plt.title('Confusion Matrix', fontsize=14)\n",
    "    plt.xlabel('Predicted', fontsize=12)\n",
    "    plt.ylabel('Actual', fontsize=12)\n",
    "    plt.xticks(fontsize=10)\n",
    "    plt.yticks(fontsize=10)\n",
    "    plt.tight_layout()\n",
    "    plt.savefig(filename, format='pdf')\n",
    "    plt.close()\n",
    "    print(f\"Confusion matrix saved to '{filename}'\")\n",
    "\n",
    "# Iterate over the models\n",
    "model_names = ['LogReg', 'RF', 'XGB']\n",
    "for model_name in model_names:\n",
    "    print(f\"Evaluating model: {model_name}\")\n",
    "\n",
    "    # Split the data into training and testing sets\n",
    "    X_train, X_test, Y_train, Y_test = train_test_split(data_free_filter, label_free, test_size=0.2, random_state=42)\n",
    "\n",
    "    # Scale the data\n",
    "    scaler = MinMaxScaler()\n",
    "    X_train = scaler.fit_transform(X_train)\n",
    "    X_test = scaler.transform(X_test)\n",
    "\n",
    "    # Train the model\n",
    "    model = classifiers[classifiers_name.index(model_name)]\n",
    "    model.fit(X_train, Y_train)\n",
    "\n",
    "    # Compute performance metrics\n",
    "    performance_metrics = compute_metrics(model, X_test, Y_test, show=True)\n",
    "\n",
    "    # Plot and save confusion matrix\n",
    "    plot_confusion_matrix(performance_metrics[\"Confusion Matrix\"], f'cf_free_{model_name}.pdf')\n",
    "\n",
    "    # Calculate feature importance using permutation importance\n",
    "    result = permutation_importance(model, X_test, Y_test, n_repeats=10, random_state=42, n_jobs=2)\n",
    "    feature_importance = pd.DataFrame({\n",
    "        'Feature': data_free_filter.columns,\n",
    "        'Importance': result.importances_mean\n",
    "    }).sort_values(by='Importance', ascending=False)\n",
    "\n",
    "    # Save feature importance as both CSV and PDF\n",
    "    save_feature_importance(feature_importance, f'{model_name}_feature_importance.csv', f'{model_name}_feature_importance.pdf')"
   ],
   "metadata": {
    "collapsed": false,
    "ExecuteTime": {
     "end_time": "2025-01-20T16:26:42.559603Z",
     "start_time": "2025-01-20T16:26:26.764926Z"
    }
   },
   "execution_count": 104
  },
  {
   "cell_type": "code",
   "execution_count": 90,
   "outputs": [],
   "source": [
    "# # run all probabilities\n",
    "# \n",
    "# model_names = ['LogReg', 'RF', 'XGB', 'SVM', 'MLP']\n",
    "# \n",
    "# for model_name in model_names:\n",
    "#     print(\"For model: \", model_name, \" matrix is:\")\n",
    "#     iterate_all_models(model_name)"
   ],
   "metadata": {
    "collapsed": false,
    "ExecuteTime": {
     "end_time": "2025-01-20T15:46:41.959831Z",
     "start_time": "2025-01-20T15:46:41.945833Z"
    }
   }
  },
  {
   "cell_type": "code",
   "outputs": [
    {
     "name": "stdout",
     "output_type": "stream",
     "text": [
      "MLP Accuracy: 0.50\n",
      "Confusion matrix saved to 'cm_mlp_free.csv'\n",
      "Confusion matrix saved to 'cm_mlp_free.pdf'\n",
      "Feature importance saved to 'fip_mlp_free.csv'\n",
      "Feature importance saved to 'fip_mlp_free.pdf'\n",
      "SVM Accuracy: 0.48\n",
      "Confusion matrix saved to 'cm_svm_free.csv'\n",
      "Confusion matrix saved to 'cm_svm_free.pdf'\n",
      "Feature importance saved to 'fip_svm_free.csv'\n",
      "Feature importance saved to 'fip_svm_free.pdf'\n"
     ]
    }
   ],
   "source": [
    "import pandas as pd\n",
    "import matplotlib.pyplot as plt\n",
    "from sklearn.metrics import accuracy_score, confusion_matrix, ConfusionMatrixDisplay\n",
    "from sklearn.inspection import permutation_importance\n",
    "from sklearn.preprocessing import MinMaxScaler\n",
    "import pickle\n",
    "\n",
    "# Load the trained models\n",
    "def load_model(filename):\n",
    "    with open(filename, 'rb') as file:\n",
    "        return pickle.load(file)\n",
    "\n",
    "# Function to save feature importance as CSV and PDF\n",
    "def save_feature_importance(feature_importance, csv_filename, pdf_filename):\n",
    "    # Save to CSV\n",
    "    feature_importance.to_csv(csv_filename, index=False)\n",
    "    print(f\"Feature importance saved to '{csv_filename}'\")\n",
    "\n",
    "    # Plot and save to PDF with improved layout\n",
    "    plt.figure(figsize=(10, 6))\n",
    "    plt.bar(feature_importance['Feature'], feature_importance['Importance'], color='skyblue')\n",
    "    plt.title('Feature Importance', fontsize=14)\n",
    "    plt.xlabel('Features', fontsize=12)\n",
    "    plt.ylabel('Importance', fontsize=12)\n",
    "    plt.xticks(rotation=90, fontsize=10)  # Corrected text layout\n",
    "    plt.yticks(fontsize=10)\n",
    "    plt.tight_layout()\n",
    "    plt.savefig(pdf_filename)\n",
    "    plt.close()\n",
    "    print(f\"Feature importance saved to '{pdf_filename}'\")\n",
    "\n",
    "# Function to save confusion matrix as CSV and PDF\n",
    "def save_confusion_matrix(cm, labels, csv_filename, pdf_filename):\n",
    "    cm_df = pd.DataFrame(cm, index=labels, columns=labels)\n",
    "    cm_df.to_csv(csv_filename, index=True)\n",
    "    print(f\"Confusion matrix saved to '{csv_filename}'\")\n",
    "\n",
    "    disp = ConfusionMatrixDisplay(confusion_matrix=cm, display_labels=labels)\n",
    "    fig, ax = plt.subplots(figsize=(8, 6))\n",
    "    disp.plot(ax=ax, cmap=plt.cm.Blues)\n",
    "    plt.title('Confusion Matrix', fontsize=14)\n",
    "    plt.xlabel('Predicted', fontsize=12)\n",
    "    plt.ylabel('Actual', fontsize=12)\n",
    "    plt.xticks(fontsize=10)\n",
    "    plt.yticks(fontsize=10)\n",
    "    plt.tight_layout()\n",
    "    plt.savefig(pdf_filename, bbox_inches='tight')\n",
    "    plt.close()\n",
    "    print(f\"Confusion matrix saved to '{pdf_filename}'\")\n",
    "\n",
    "# Preprocess the data\n",
    "scaler = MinMaxScaler()\n",
    "X_test = scaler.fit_transform(data_free_filter)\n",
    "y_test = label_free\n",
    "\n",
    "# Evaluate MLP model\n",
    "mlp_model = load_model('graphics/free/trained_models/MLPfree.pkl')\n",
    "y_pred_mlp = mlp_model.predict(X_test)\n",
    "accuracy_mlp = accuracy_score(y_test, y_pred_mlp)\n",
    "print(f'MLP Accuracy: {accuracy_mlp:.2f}')\n",
    "\n",
    "cm_mlp = confusion_matrix(y_test, y_pred_mlp)\n",
    "save_confusion_matrix(cm_mlp, mlp_model.classes_, 'cm_mlp_free.csv', 'cm_mlp_free.pdf')\n",
    "\n",
    "result_mlp = permutation_importance(mlp_model, X_test, y_test, n_repeats=10, random_state=42)\n",
    "feature_importance_mlp = pd.DataFrame({\n",
    "    'Feature': data_free_filter.columns,\n",
    "    'Importance': result_mlp.importances_mean\n",
    "}).sort_values(by='Importance', ascending=False)\n",
    "save_feature_importance(feature_importance_mlp, 'fip_mlp_free.csv', 'fip_mlp_free.pdf')\n",
    "\n",
    "# Evaluate SVM model\n",
    "svm_model = load_model('graphics/free/trained_models/SVMfree.pkl')\n",
    "y_pred_svm = svm_model.predict(X_test)\n",
    "accuracy_svm = accuracy_score(y_test, y_pred_svm)\n",
    "print(f'SVM Accuracy: {accuracy_svm:.2f}')\n",
    "\n",
    "cm_svm = confusion_matrix(y_test, y_pred_svm)\n",
    "save_confusion_matrix(cm_svm, svm_model.classes_, 'cm_svm_free.csv', 'cm_svm_free.pdf')\n",
    "\n",
    "result_svm = permutation_importance(svm_model, X_test, y_test, n_repeats=10, random_state=42)\n",
    "feature_importance_svm = pd.DataFrame({\n",
    "    'Feature': data_free_filter.columns,\n",
    "    'Importance': result_svm.importances_mean\n",
    "}).sort_values(by='Importance', ascending=False)\n",
    "save_feature_importance(feature_importance_svm, 'fip_svm_free.csv', 'fip_svm_free.pdf')\n"
   ],
   "metadata": {
    "collapsed": false,
    "ExecuteTime": {
     "end_time": "2025-01-20T16:20:05.949695Z",
     "start_time": "2025-01-20T16:19:59.649705Z"
    }
   },
   "execution_count": 103
  },
  {
   "cell_type": "code",
   "execution_count": 92,
   "metadata": {
    "ExecuteTime": {
     "end_time": "2025-01-20T15:47:38.000034Z",
     "start_time": "2025-01-20T15:46:45.937469Z"
    }
   },
   "outputs": [
    {
     "name": "stdout",
     "output_type": "stream",
     "text": [
      "Class N:\n",
      "0.604 0.111\n",
      "0.593 0.113\n",
      "0.591 0.167\n",
      "\n",
      "\n",
      "Class H:\n",
      "0.809 0.061\n",
      "0.463 0.055\n",
      "0.025 0.075\n",
      "\n",
      "\n",
      "Class C:\n",
      "0.851 0.032\n",
      "0.531 0.092\n",
      "0.133 0.163\n",
      "\n",
      "\n",
      "Class S:\n",
      "0.864 0.041\n",
      "0.624 0.129\n",
      "0.292 0.233\n",
      "\n",
      "\n",
      "Class A:\n",
      "0.903 0.041\n",
      "0.619 0.159\n",
      "0.233 0.238\n"
     ]
    }
   ],
   "source": [
    "## binary classification with XGBoost\n",
    "for emotion_index in range(5):\n",
    "    f1_micro = np.array([])\n",
    "    f1_macro = np.array([])\n",
    "    recall = np.array([])\n",
    "\n",
    "    print(\"Class \" + label_dictionary[emotion_index + 1] + \":\")\n",
    "    label_free_binary = (label_free == emotion_index).astype(int)\n",
    "\n",
    "    for i in range(10):\n",
    "        model = xgb.XGBClassifier(objective='binary:logistic', eval_metric='mlogloss', use_label_encoder=False)\n",
    "        scores = model_selection.cross_validate(model, X=data_free_filter, y=label_free_binary, cv=10, n_jobs=1,\n",
    "                                                scoring=['f1_micro', 'f1_macro', 'recall'])\n",
    "\n",
    "        f1_micro = np.concatenate([f1_micro, scores['test_f1_micro']])\n",
    "        f1_macro = np.concatenate([f1_macro, scores['test_f1_macro']])\n",
    "        recall = np.concatenate([recall, scores['test_recall']])\n",
    "\n",
    "    print(np.round(np.nanmean(f1_micro), 3), np.round(np.nanstd(f1_micro), 3))\n",
    "    print(np.round(np.nanmean(f1_macro), 3), np.round(np.nanstd(f1_macro), 3))\n",
    "    print(np.round(np.nanmean(recall), 3), np.round(np.nanstd(recall), 3))\n",
    "\n",
    "    print()\n",
    "    print()"
   ]
  },
  {
   "cell_type": "code",
   "execution_count": 93,
   "metadata": {
    "ExecuteTime": {
     "end_time": "2025-01-20T15:49:46.205280Z",
     "start_time": "2025-01-20T15:47:38.002035Z"
    }
   },
   "outputs": [
    {
     "name": "stdout",
     "output_type": "stream",
     "text": [
      "Class N:\n",
      "0.468 0.034\n",
      "0.339 0.041\n",
      "0.953 0.05\n",
      "\n",
      "\n",
      "Class H:\n",
      "0.779 0.067\n",
      "0.439 0.028\n",
      "0.002 0.025\n",
      "\n",
      "\n",
      "Class C:\n",
      "0.76 0.094\n",
      "0.463 0.078\n",
      "0.077 0.14\n",
      "\n",
      "\n",
      "Class S:\n",
      "0.814 0.09\n",
      "0.617 0.107\n",
      "0.439 0.334\n",
      "\n",
      "\n",
      "Class A:\n",
      "0.872 0.04\n",
      "0.568 0.105\n",
      "0.228 0.231\n"
     ]
    }
   ],
   "source": [
    "## binary classification with Random Forest\n",
    "for emotion_index in range(5):\n",
    "    f1_micro = np.array([])\n",
    "    f1_macro = np.array([])\n",
    "    recall = np.array([])\n",
    "\n",
    "    print(\"Class \" + label_dictionary[emotion_index + 1] + \":\")\n",
    "    label_free_binary = (label_free == emotion_index).astype(int)\n",
    "\n",
    "    for i in range(10):\n",
    "        model = RandomForestClassifier(n_estimators=200, max_depth=5, class_weight={0: 0.1, 1: 1})\n",
    "        scores = model_selection.cross_validate(model, X=data_free_filter, y=label_free_binary, cv=10, n_jobs=1,\n",
    "                                                scoring=['f1_micro', 'f1_macro', 'recall'])\n",
    "\n",
    "        f1_micro = np.concatenate([f1_micro, scores['test_f1_micro']])\n",
    "        f1_macro = np.concatenate([f1_macro, scores['test_f1_macro']])\n",
    "        recall = np.concatenate([recall, scores['test_recall']])\n",
    "\n",
    "    print(np.round(np.nanmean(f1_micro), 3), np.round(np.nanstd(f1_micro), 3))\n",
    "    print(np.round(np.nanmean(f1_macro), 3), np.round(np.nanstd(f1_macro), 3))\n",
    "    print(np.round(np.nanmean(recall), 3), np.round(np.nanstd(recall), 3))\n",
    "\n",
    "    print()\n",
    "    print()"
   ]
  },
  {
   "cell_type": "code",
   "execution_count": 94,
   "metadata": {
    "ExecuteTime": {
     "end_time": "2025-01-20T15:49:52.849890Z",
     "start_time": "2025-01-20T15:49:46.207280Z"
    }
   },
   "outputs": [
    {
     "name": "stdout",
     "output_type": "stream",
     "text": [
      "Class N:\n",
      "0.566 0.081\n",
      "0.483 0.106\n",
      "0.203 0.14\n",
      "\n",
      "\n",
      "Class H:\n",
      "0.847 0.018\n",
      "0.459 0.005\n",
      "0.0 0.0\n",
      "\n",
      "\n",
      "Class C:\n",
      "0.864 0.015\n",
      "0.463 0.005\n",
      "0.0 0.0\n",
      "\n",
      "\n",
      "Class S:\n",
      "0.864 0.015\n",
      "0.463 0.005\n",
      "0.0 0.0\n",
      "\n",
      "\n",
      "Class A:\n",
      "0.898 0.019\n",
      "0.473 0.005\n",
      "0.0 0.0\n"
     ]
    }
   ],
   "source": [
    "## binary classification with SVM\n",
    "for emotion_index in range(5):\n",
    "    f1_micro = np.array([])\n",
    "    f1_macro = np.array([])\n",
    "    recall = np.array([])\n",
    "\n",
    "    print(\"Class \" + label_dictionary[emotion_index + 1] + \":\")\n",
    "    label_free_binary = (label_free == emotion_index).astype(int)\n",
    "\n",
    "    for i in range(10):\n",
    "        model = SVC(kernel='rbf', decision_function_shape='ovr', probability=True)\n",
    "        scores = model_selection.cross_validate(model, X=data_free_filter, y=label_free_binary, cv=10, n_jobs=1,\n",
    "                                                scoring=['f1_micro', 'f1_macro', 'recall'])\n",
    "\n",
    "        f1_micro = np.concatenate([f1_micro, scores['test_f1_micro']])\n",
    "        f1_macro = np.concatenate([f1_macro, scores['test_f1_macro']])\n",
    "        recall = np.concatenate([recall, scores['test_recall']])\n",
    "\n",
    "    print(np.round(np.nanmean(f1_micro), 3), np.round(np.nanstd(f1_micro), 3))\n",
    "    print(np.round(np.nanmean(f1_macro), 3), np.round(np.nanstd(f1_macro), 3))\n",
    "    print(np.round(np.nanmean(recall), 3), np.round(np.nanstd(recall), 3))\n",
    "\n",
    "    print()\n",
    "    print()"
   ]
  },
  {
   "cell_type": "markdown",
   "source": [
    "#### predict model"
   ],
   "metadata": {
    "collapsed": false
   }
  },
  {
   "cell_type": "code",
   "outputs": [
    {
     "ename": "FileNotFoundError",
     "evalue": "[Errno 2] No such file or directory: 'LogRegfree.pkl'",
     "output_type": "error",
     "traceback": [
      "\u001B[1;31m---------------------------------------------------------------------------\u001B[0m",
      "\u001B[1;31mFileNotFoundError\u001B[0m                         Traceback (most recent call last)",
      "Cell \u001B[1;32mIn[95], line 5\u001B[0m\n\u001B[0;32m      3\u001B[0m \u001B[38;5;28;01mfor\u001B[39;00m model \u001B[38;5;129;01min\u001B[39;00m model_names:\n\u001B[0;32m      4\u001B[0m     modelname \u001B[38;5;241m=\u001B[39m model \u001B[38;5;241m+\u001B[39m \u001B[38;5;124m'\u001B[39m\u001B[38;5;124mfree\u001B[39m\u001B[38;5;124m'\u001B[39m\n\u001B[1;32m----> 5\u001B[0m     predictions \u001B[38;5;241m=\u001B[39m \u001B[43mpredict_emotion\u001B[49m\u001B[43m(\u001B[49m\u001B[38;5;124;43m'\u001B[39;49m\u001B[38;5;124;43mdata/free_dummy_data.csv\u001B[39;49m\u001B[38;5;124;43m'\u001B[39;49m\u001B[43m,\u001B[49m\u001B[43m \u001B[49m\u001B[38;5;124;43mf\u001B[39;49m\u001B[38;5;124;43m'\u001B[39;49m\u001B[38;5;132;43;01m{\u001B[39;49;00m\u001B[43mmodelname\u001B[49m\u001B[38;5;132;43;01m}\u001B[39;49;00m\u001B[38;5;124;43m.pkl\u001B[39;49m\u001B[38;5;124;43m'\u001B[39;49m\u001B[43m)\u001B[49m\n\u001B[0;32m      6\u001B[0m     \u001B[38;5;28mprint\u001B[39m(predictions)\n",
      "Cell \u001B[1;32mIn[87], line 18\u001B[0m, in \u001B[0;36mpredict_emotion\u001B[1;34m(csv_file, model_file)\u001B[0m\n\u001B[0;32m     16\u001B[0m \u001B[38;5;28;01mdef\u001B[39;00m \u001B[38;5;21mpredict_emotion\u001B[39m(csv_file, model_file):\n\u001B[0;32m     17\u001B[0m     \u001B[38;5;66;03m# Load the model\u001B[39;00m\n\u001B[1;32m---> 18\u001B[0m     model \u001B[38;5;241m=\u001B[39m \u001B[43mload_model\u001B[49m\u001B[43m(\u001B[49m\u001B[43mmodel_file\u001B[49m\u001B[43m)\u001B[49m\n\u001B[0;32m     20\u001B[0m     \u001B[38;5;66;03m# Read the CSV file\u001B[39;00m\n\u001B[0;32m     21\u001B[0m     data \u001B[38;5;241m=\u001B[39m pd\u001B[38;5;241m.\u001B[39mread_csv(csv_file)\n",
      "Cell \u001B[1;32mIn[91], line 10\u001B[0m, in \u001B[0;36mload_model\u001B[1;34m(filename)\u001B[0m\n\u001B[0;32m      9\u001B[0m \u001B[38;5;28;01mdef\u001B[39;00m \u001B[38;5;21mload_model\u001B[39m(filename):\n\u001B[1;32m---> 10\u001B[0m     \u001B[38;5;28;01mwith\u001B[39;00m \u001B[38;5;28;43mopen\u001B[39;49m\u001B[43m(\u001B[49m\u001B[43mfilename\u001B[49m\u001B[43m,\u001B[49m\u001B[43m \u001B[49m\u001B[38;5;124;43m'\u001B[39;49m\u001B[38;5;124;43mrb\u001B[39;49m\u001B[38;5;124;43m'\u001B[39;49m\u001B[43m)\u001B[49m \u001B[38;5;28;01mas\u001B[39;00m file:\n\u001B[0;32m     11\u001B[0m         \u001B[38;5;28;01mreturn\u001B[39;00m pickle\u001B[38;5;241m.\u001B[39mload(file)\n",
      "File \u001B[1;32mD:\\Coding_Projects\\erkd_schieben\\erkd\\.venv\\lib\\site-packages\\IPython\\core\\interactiveshell.py:284\u001B[0m, in \u001B[0;36m_modified_open\u001B[1;34m(file, *args, **kwargs)\u001B[0m\n\u001B[0;32m    277\u001B[0m \u001B[38;5;28;01mif\u001B[39;00m file \u001B[38;5;129;01min\u001B[39;00m {\u001B[38;5;241m0\u001B[39m, \u001B[38;5;241m1\u001B[39m, \u001B[38;5;241m2\u001B[39m}:\n\u001B[0;32m    278\u001B[0m     \u001B[38;5;28;01mraise\u001B[39;00m \u001B[38;5;167;01mValueError\u001B[39;00m(\n\u001B[0;32m    279\u001B[0m         \u001B[38;5;124mf\u001B[39m\u001B[38;5;124m\"\u001B[39m\u001B[38;5;124mIPython won\u001B[39m\u001B[38;5;124m'\u001B[39m\u001B[38;5;124mt let you open fd=\u001B[39m\u001B[38;5;132;01m{\u001B[39;00mfile\u001B[38;5;132;01m}\u001B[39;00m\u001B[38;5;124m by default \u001B[39m\u001B[38;5;124m\"\u001B[39m\n\u001B[0;32m    280\u001B[0m         \u001B[38;5;124m\"\u001B[39m\u001B[38;5;124mas it is likely to crash IPython. If you know what you are doing, \u001B[39m\u001B[38;5;124m\"\u001B[39m\n\u001B[0;32m    281\u001B[0m         \u001B[38;5;124m\"\u001B[39m\u001B[38;5;124myou can use builtins\u001B[39m\u001B[38;5;124m'\u001B[39m\u001B[38;5;124m open.\u001B[39m\u001B[38;5;124m\"\u001B[39m\n\u001B[0;32m    282\u001B[0m     )\n\u001B[1;32m--> 284\u001B[0m \u001B[38;5;28;01mreturn\u001B[39;00m io_open(file, \u001B[38;5;241m*\u001B[39margs, \u001B[38;5;241m*\u001B[39m\u001B[38;5;241m*\u001B[39mkwargs)\n",
      "\u001B[1;31mFileNotFoundError\u001B[0m: [Errno 2] No such file or directory: 'LogRegfree.pkl'"
     ]
    }
   ],
   "source": [
    "# note to self: you first have to conduct a cell running the iterateall method, to save model correctly\n",
    "# Predict the emotion from a CSV file\n",
    "for model in model_names:\n",
    "    modelname = model + 'free'\n",
    "    predictions = predict_emotion('data/free_dummy_data.csv', f'{modelname}.pkl')\n",
    "    print(predictions)"
   ],
   "metadata": {
    "collapsed": false,
    "ExecuteTime": {
     "end_time": "2025-01-20T15:49:52.897940Z",
     "start_time": "2025-01-20T15:49:52.850891Z"
    }
   },
   "execution_count": 95
  },
  {
   "cell_type": "code",
   "outputs": [],
   "source": [
    "# create real data csv\n",
    "data_free_filter.head(5).to_csv('data/data_free_first_5_rows.csv', index=False)"
   ],
   "metadata": {
    "collapsed": false,
    "ExecuteTime": {
     "end_time": "2025-01-20T15:49:52.898940Z",
     "start_time": "2025-01-20T15:49:52.898940Z"
    }
   },
   "execution_count": null
  },
  {
   "cell_type": "code",
   "outputs": [],
   "source": [
    "for model in model_names:\n",
    "    modelname = model + 'free'\n",
    "    predictions = predict_emotion('data/data_free_first_5_rows.csv', f'{modelname}.pkl')\n",
    "    print(predictions)"
   ],
   "metadata": {
    "collapsed": false
   },
   "execution_count": null
  },
  {
   "cell_type": "code",
   "outputs": [],
   "source": [
    "#predict real csv\n",
    "# Save the first 5 rows of the dataframe `data_fixed` to a CSV file\n",
    "data_free.head(5).to_csv('data/data_free_first_5_rows.csv', index=False)\n",
    "\n",
    "print(data_free.columns)\n",
    "df_dummy = pd.read_csv('data/free_dummy_data.csv')\n",
    "\n",
    "# Find and print columns in df_a not in df_b\n",
    "diff_a_b = data_free_filter.columns.difference(df_dummy.columns)\n",
    "print(\"Columns in df_a not in df_b:\", diff_a_b.tolist())\n",
    "\n",
    "diff_b_a = df_dummy.columns.difference(data_free_filter.columns)\n",
    "print(\"Columns in df_b not in df_a:\", diff_b_a.tolist())\n",
    "\n",
    "print(len(df_dummy.columns))\n",
    "print(len(data_free_filter.columns))\n"
   ],
   "metadata": {
    "collapsed": false
   },
   "execution_count": null
  },
  {
   "cell_type": "code",
   "outputs": [],
   "source": [
    "for model in model_names:\n",
    "    predictions = predict_emotion('data/free_dummy_data.csv', f'{model}.pkl')\n",
    "    print(predictions)\n"
   ],
   "metadata": {
    "collapsed": false
   },
   "execution_count": null
  },
  {
   "cell_type": "markdown",
   "metadata": {},
   "source": [
    "## Feature importance"
   ]
  },
  {
   "cell_type": "code",
   "execution_count": null,
   "metadata": {
    "ExecuteTime": {
     "start_time": "2025-01-20T15:49:52.904491Z"
    }
   },
   "outputs": [],
   "source": [
    "scaler = MinMaxScaler()\n",
    "data_free = pd.DataFrame(scaler.fit_transform(data_free), columns=data_free.columns)"
   ]
  },
  {
   "cell_type": "markdown",
   "metadata": {},
   "source": [
    "#### Chi-squared"
   ]
  },
  {
   "cell_type": "code",
   "execution_count": null,
   "metadata": {
    "ExecuteTime": {
     "start_time": "2025-01-20T15:49:52.905492Z"
    }
   },
   "outputs": [],
   "source": [
    "from sklearn.feature_selection import chi2\n",
    "from sklearn.feature_selection import SelectKBest\n",
    "\n",
    "#excluding ,'country','typistType\n",
    "\n",
    "demo_features = np.array(['typeWith', 'gender', 'ageRange', 'degree', 'pcTimeAverage', 'status'])\n",
    "\n",
    "# Feature extraction\n",
    "test = SelectKBest(score_func=chi2, k=8)\n",
    "fit = test.fit(data_free.loc[:, demo_features].fillna(100).replace(-1, 16),\n",
    "               pd.cut(data_free.D1U2_mean.fillna(0), bins=[0, 372, 445, 573, 4306], labels=[1, 2, 3, 4]).fillna(1))\n",
    "\n",
    "# Summarize scores\n",
    "np.set_printoptions(precision=3)\n",
    "print(\"Ordered features by importance with their corresponding chi2 score\")\n",
    "print(demo_features[np.argsort(fit.scores_)][::-1])\n",
    "print(fit.scores_[np.argsort(fit.scores_)][::-1])"
   ]
  },
  {
   "cell_type": "markdown",
   "metadata": {},
   "source": [
    "#### Correlation coefficients"
   ]
  },
  {
   "cell_type": "code",
   "execution_count": null,
   "metadata": {},
   "outputs": [],
   "source": [
    "importances = data_free.apply(lambda x: x.corr(data_free.D1U2_mean))\n",
    "indices = np.argsort(importances)\n",
    "indices_abs = np.argsort(np.abs(importances))[::-1]\n",
    "print(importances[indices_abs])"
   ]
  },
  {
   "cell_type": "code",
   "execution_count": null,
   "metadata": {
    "ExecuteTime": {
     "start_time": "2025-01-20T15:49:52.908491Z"
    }
   },
   "outputs": [],
   "source": [
    "plt.figure(figsize=(10, 10))\n",
    "plt.barh(range(len(indices)), importances[indices], color='g', align='center')\n",
    "plt.yticks(range(len(indices)), importances[indices].index.values)\n",
    "plt.xlabel('Relative Importance')\n",
    "plt.show()"
   ]
  },
  {
   "cell_type": "markdown",
   "metadata": {},
   "source": [
    "#### Information Gain"
   ]
  },
  {
   "cell_type": "code",
   "execution_count": null,
   "metadata": {},
   "outputs": [],
   "source": [
    "from info_gain import info_gain\n",
    "\n",
    "importances_ig = []\n",
    "for col in data_free.columns:\n",
    "    importances_ig.append(info_gain.info_gain(data_free[col], data_free.D1U2_mean))\n",
    "indices_ig = np.argsort(importances_ig)[::-1]\n",
    "pd.concat([pd.Series(data_free.columns[indices_ig]), pd.Series(np.sort(importances_ig)[::-1])], axis=1).set_index(0)"
   ]
  },
  {
   "cell_type": "markdown",
   "metadata": {},
   "source": [
    "#### Mutual information"
   ]
  },
  {
   "cell_type": "code",
   "execution_count": null,
   "metadata": {
    "ExecuteTime": {
     "start_time": "2025-01-20T15:49:52.911492Z"
    }
   },
   "outputs": [],
   "source": [
    "from sklearn.feature_selection import mutual_info_regression\n",
    "\n",
    "mi = mutual_info_regression(data_free, data_free.D1U2_mean)\n",
    "mi = pd.Series(mi)\n",
    "mi.index = data_free.columns\n",
    "mi.sort_values(ascending=False)\n",
    "mi.sort_values(ascending=False).plot.bar(figsize=(10, 4))"
   ]
  },
  {
   "cell_type": "markdown",
   "metadata": {},
   "source": [
    "#### Recursive Feature Elimination (RFE)"
   ]
  },
  {
   "cell_type": "code",
   "execution_count": null,
   "metadata": {},
   "outputs": [],
   "source": [
    "from sklearn.feature_selection import RFE\n",
    "from sklearn.linear_model import LogisticRegression\n",
    "\n",
    "model = LogisticRegression(max_iter=1000)\n",
    "rfe = RFE(model, 1)\n",
    "fit = rfe.fit(data_free, label_free)\n",
    "\n",
    "print(\"Feature Ranking: %s\" % fit.ranking_)"
   ]
  },
  {
   "cell_type": "code",
   "execution_count": null,
   "metadata": {
    "ExecuteTime": {
     "start_time": "2025-01-20T15:49:52.914432Z"
    }
   },
   "outputs": [],
   "source": [
    "list(data_free.columns[fit.ranking_ - 1])"
   ]
  },
  {
   "cell_type": "markdown",
   "metadata": {},
   "source": [
    "#### SHAP values"
   ]
  },
  {
   "cell_type": "code",
   "execution_count": null,
   "metadata": {
    "ExecuteTime": {
     "start_time": "2025-01-20T15:49:52.915433Z"
    }
   },
   "outputs": [],
   "source": [
    "# DF, based on which importance is checked\n",
    "X_importance = pd.DataFrame(data_free_filter, columns=data_free_filter.columns)\n",
    "\n",
    "# Explain model predictions using shap library:\n",
    "explainer = shap.TreeExplainer(model)\n",
    "shap_values = explainer.shap_values(X_importance)\n",
    "\n",
    "# Plot summary_plot\n",
    "shap.summary_plot(shap_values, X_importance, max_display=data_free.shape[1])"
   ]
  },
  {
   "cell_type": "markdown",
   "metadata": {},
   "source": [
    "#### RF feature importance"
   ]
  },
  {
   "cell_type": "code",
   "execution_count": null,
   "metadata": {},
   "outputs": [],
   "source": [
    "best_model = 'RF'\n",
    "X_train, X_test, Y_train, Y_test = train_test_split(data_free, label_free, test_size=0.2)\n",
    "\n",
    "scaler = MinMaxScaler()\n",
    "X_train = scaler.fit_transform(X_train)\n",
    "X_test = scaler.transform(X_test)\n",
    "\n",
    "model = classifiers[classifiers_name.index(best_model)]\n",
    "model.fit(X_train, Y_train)\n",
    "\n",
    "performance_metrics = compute_metrics(model, X_test, Y_test, show=True)\n",
    "plot_confusion_matrix(performance_metrics[\"Confusion Matrix\"])"
   ]
  },
  {
   "cell_type": "code",
   "execution_count": null,
   "metadata": {
    "ExecuteTime": {
     "start_time": "2025-01-20T15:49:52.918431Z"
    }
   },
   "outputs": [],
   "source": [
    "plt.figure(figsize=(10, 10))\n",
    "pd.Series(model.feature_importances_, index=data_free.columns).nlargest(data_free.shape[1])[::-1].plot(kind='barh')\n",
    "plt.show()"
   ]
  },
  {
   "cell_type": "markdown",
   "metadata": {},
   "source": [
    "#### XGB feature importance"
   ]
  },
  {
   "cell_type": "code",
   "execution_count": null,
   "metadata": {
    "ExecuteTime": {
     "start_time": "2025-01-20T15:49:52.919429Z"
    }
   },
   "outputs": [],
   "source": [
    "best_model = 'XGB'\n",
    "X_train, X_test, Y_train, Y_test = train_test_split(data_free, label_free, test_size=0.2)\n",
    "\n",
    "scaler = MinMaxScaler()\n",
    "X_train = scaler.fit_transform(X_train)\n",
    "X_test = scaler.transform(X_test)\n",
    "\n",
    "model = classifiers[classifiers_name.index(best_model)]\n",
    "model.fit(X_train, Y_train)\n",
    "\n",
    "performance_metrics = compute_metrics(model, X_test, Y_test, show=True)\n",
    "plot_confusion_matrix(performance_metrics[\"Confusion Matrix\"])"
   ]
  },
  {
   "cell_type": "code",
   "execution_count": null,
   "metadata": {
    "ExecuteTime": {
     "start_time": "2025-01-20T15:49:52.920431Z"
    }
   },
   "outputs": [],
   "source": [
    "plt.figure(figsize=(10, 10))\n",
    "pd.Series(model.feature_importances_, index=data_free.columns).nlargest(data_free.shape[1])[::-1].plot(kind='barh')\n",
    "plt.show()"
   ]
  }
 ],
 "metadata": {
  "kernelspec": {
   "display_name": "Python 3",
   "language": "python",
   "name": "python3"
  },
  "language_info": {
   "codemirror_mode": {
    "name": "ipython",
    "version": 3
   },
   "file_extension": ".py",
   "mimetype": "text/x-python",
   "name": "python",
   "nbconvert_exporter": "python",
   "pygments_lexer": "ipython3",
   "version": "3.9.1"
  }
 },
 "nbformat": 4,
 "nbformat_minor": 4
}
